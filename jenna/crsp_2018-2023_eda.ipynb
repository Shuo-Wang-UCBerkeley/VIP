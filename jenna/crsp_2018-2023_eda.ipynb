{
 "cells": [
  {
   "cell_type": "markdown",
   "id": "2879b640-9d17-4fc0-816f-abcd437e2d67",
   "metadata": {},
   "source": [
    "# EDA CRSP 2018 - 2023"
   ]
  },
  {
   "cell_type": "code",
   "execution_count": 1,
   "id": "8ce17786-a4bf-4671-94af-993ac4470b71",
   "metadata": {
    "scrolled": true
   },
   "outputs": [
    {
     "name": "stdout",
     "output_type": "stream",
     "text": [
      "Requirement already satisfied: seaborn in /opt/conda/lib/python3.10/site-packages (0.13.2)\n",
      "Requirement already satisfied: numpy!=1.24.0,>=1.20 in /opt/conda/lib/python3.10/site-packages (from seaborn) (1.26.4)\n",
      "Requirement already satisfied: pandas>=1.2 in /opt/conda/lib/python3.10/site-packages (from seaborn) (2.1.4)\n",
      "Requirement already satisfied: matplotlib!=3.6.1,>=3.4 in /opt/conda/lib/python3.10/site-packages (from seaborn) (3.8.4)\n",
      "Requirement already satisfied: contourpy>=1.0.1 in /opt/conda/lib/python3.10/site-packages (from matplotlib!=3.6.1,>=3.4->seaborn) (1.2.1)\n",
      "Requirement already satisfied: cycler>=0.10 in /opt/conda/lib/python3.10/site-packages (from matplotlib!=3.6.1,>=3.4->seaborn) (0.12.1)\n",
      "Requirement already satisfied: fonttools>=4.22.0 in /opt/conda/lib/python3.10/site-packages (from matplotlib!=3.6.1,>=3.4->seaborn) (4.51.0)\n",
      "Requirement already satisfied: kiwisolver>=1.3.1 in /opt/conda/lib/python3.10/site-packages (from matplotlib!=3.6.1,>=3.4->seaborn) (1.4.5)\n",
      "Requirement already satisfied: packaging>=20.0 in /opt/conda/lib/python3.10/site-packages (from matplotlib!=3.6.1,>=3.4->seaborn) (23.2)\n",
      "Requirement already satisfied: pillow>=8 in /opt/conda/lib/python3.10/site-packages (from matplotlib!=3.6.1,>=3.4->seaborn) (10.3.0)\n",
      "Requirement already satisfied: pyparsing>=2.3.1 in /opt/conda/lib/python3.10/site-packages (from matplotlib!=3.6.1,>=3.4->seaborn) (3.1.2)\n",
      "Requirement already satisfied: python-dateutil>=2.7 in /opt/conda/lib/python3.10/site-packages (from matplotlib!=3.6.1,>=3.4->seaborn) (2.9.0)\n",
      "Requirement already satisfied: pytz>=2020.1 in /opt/conda/lib/python3.10/site-packages (from pandas>=1.2->seaborn) (2023.3)\n",
      "Requirement already satisfied: tzdata>=2022.1 in /opt/conda/lib/python3.10/site-packages (from pandas>=1.2->seaborn) (2024.1)\n",
      "Requirement already satisfied: six>=1.5 in /opt/conda/lib/python3.10/site-packages (from python-dateutil>=2.7->matplotlib!=3.6.1,>=3.4->seaborn) (1.16.0)\n"
     ]
    }
   ],
   "source": [
    "!pip install seaborn"
   ]
  },
  {
   "cell_type": "code",
   "execution_count": 2,
   "id": "752cfc07-ea4f-40d1-8c5f-d22ce335a97a",
   "metadata": {},
   "outputs": [
    {
     "name": "stdout",
     "output_type": "stream",
     "text": [
      "sagemaker.config INFO - Not applying SDK defaults from location: /etc/xdg/sagemaker/config.yaml\n",
      "sagemaker.config INFO - Not applying SDK defaults from location: /home/sagemaker-user/.config/sagemaker/config.yaml\n"
     ]
    }
   ],
   "source": [
    "####### Import of utilities module to convert dataset from CSV to parquet #######\n",
    "\n",
    "import sys\n",
    "import os\n",
    "\n",
    "# Add the parent directory to the sys.path\n",
    "sys.path.insert(0, os.path.abspath('..'))\n",
    "import utilities\n",
    "\n",
    "####### Set up for each notebook #######\n",
    "import sagemaker\n",
    "\n",
    "# Define IAM role\n",
    "import boto3\n",
    "from sagemaker import get_execution_role\n",
    "\n",
    "role = get_execution_role()\n",
    "role\n",
    "\n",
    "####### EDA specific libraries #######\n",
    "import pandas as pd\n",
    "import numpy as np\n",
    "import matplotlib.pyplot as plt\n",
    "import seaborn as sns\n",
    "import matplotlib.dates as mdates\n",
    "\n",
    "import datetime"
   ]
  },
  {
   "cell_type": "code",
   "execution_count": 3,
   "id": "9d570982-7d13-479e-9983-92c671dfa31c",
   "metadata": {},
   "outputs": [],
   "source": [
    "# !pip install pyspark"
   ]
  },
  {
   "cell_type": "code",
   "execution_count": 4,
   "id": "5d1910fc-07aa-405f-9d68-e52887d6c97b",
   "metadata": {},
   "outputs": [],
   "source": [
    "# from pyspark.sql import SparkSession\n",
    "\n",
    "# # Initialize Spark session\n",
    "# spark = SparkSession.builder \\\n",
    "#     .appName(\"CRSP Data Processing\") \\\n",
    "#     .getOrCreate()\n",
    "\n",
    "# # Check Spark session\n",
    "# spark"
   ]
  },
  {
   "cell_type": "code",
   "execution_count": 5,
   "id": "8cfaa6f9-4a58-4142-8132-7c2aa87712d4",
   "metadata": {},
   "outputs": [],
   "source": [
    "# # Define the path to CSV file\n",
    "# file_path = \"/home/sagemaker-user/capstone-2024-summer/data/crsp_2018-2023.csv\"\n",
    "\n",
    "# # Load the CSV file into a Spark DataFrame\n",
    "# df = spark.read.csv(file_path, header=True, inferSchema=True)\n",
    "\n",
    "# # Show the schema of the DataFrame\n",
    "# df.printSchema()\n",
    "\n",
    "# # Display the first few rows of the DataFrame\n",
    "# df.show(5)"
   ]
  },
  {
   "cell_type": "code",
   "execution_count": 6,
   "id": "59a7914c-ea8f-4b88-9a54-70380e62686d",
   "metadata": {},
   "outputs": [],
   "source": [
    "# Establish S3 bucket connection\n",
    "s3 = boto3.client('s3')\n",
    "bucket = 'capstone-bucket-4-friends'"
   ]
  },
  {
   "cell_type": "code",
   "execution_count": 7,
   "id": "62289a97-0ea0-4d0c-a802-e185c931e87f",
   "metadata": {},
   "outputs": [
    {
     "data": {
      "text/plain": [
       "[{'Key': 'crsp_2018-2023.csv',\n",
       "  'LastModified': datetime.datetime(2024, 6, 15, 0, 54, 13, tzinfo=tzlocal()),\n",
       "  'ETag': '\"f76ea3aa5b38f42249d7274b8ff13d24-204\"',\n",
       "  'Size': 3491063440,\n",
       "  'StorageClass': 'STANDARD',\n",
       "  'Owner': {'DisplayName': 'caopuzheng',\n",
       "   'ID': '3e8e9fefba64fe47aada033ac68b6e97b3ca71a1d45879ebba28cd6aa5dcad55'}},\n",
       " {'Key': 'crsp_2023_clean.csv',\n",
       "  'LastModified': datetime.datetime(2024, 6, 15, 0, 53, 45, tzinfo=tzlocal()),\n",
       "  'ETag': '\"d5464c66233f3c9eb4b1ea58643b6211-5\"',\n",
       "  'Size': 69245710,\n",
       "  'StorageClass': 'STANDARD',\n",
       "  'Owner': {'DisplayName': 'caopuzheng',\n",
       "   'ID': '3e8e9fefba64fe47aada033ac68b6e97b3ca71a1d45879ebba28cd6aa5dcad55'}},\n",
       " {'Key': 'crsp_2023_clean.parquet',\n",
       "  'LastModified': datetime.datetime(2024, 6, 15, 0, 13, 39, tzinfo=tzlocal()),\n",
       "  'ETag': '\"f5eb32894c2ee44835e6869ede9ec50a-10\"',\n",
       "  'Size': 81389066,\n",
       "  'StorageClass': 'STANDARD',\n",
       "  'Owner': {'DisplayName': 'caopuzheng',\n",
       "   'ID': '3e8e9fefba64fe47aada033ac68b6e97b3ca71a1d45879ebba28cd6aa5dcad55'}},\n",
       " {'Key': 'crsp_stock_2023.csv',\n",
       "  'LastModified': datetime.datetime(2024, 6, 12, 16, 55, 42, tzinfo=tzlocal()),\n",
       "  'ETag': '\"c513e3fbf4e7477ab6acb9c9f663b567-38\"',\n",
       "  'Size': 641927058,\n",
       "  'StorageClass': 'STANDARD',\n",
       "  'Owner': {'DisplayName': 'caopuzheng',\n",
       "   'ID': '3e8e9fefba64fe47aada033ac68b6e97b3ca71a1d45879ebba28cd6aa5dcad55'}}]"
      ]
     },
     "execution_count": 7,
     "metadata": {},
     "output_type": "execute_result"
    }
   ],
   "source": [
    "# Check out current contents of bucket\n",
    "content = s3.list_objects(Bucket=bucket)[\"Contents\"]\n",
    "content"
   ]
  },
  {
   "cell_type": "code",
   "execution_count": 8,
   "id": "505995fa-0341-45b2-98cb-5e0bd456824c",
   "metadata": {},
   "outputs": [
    {
     "name": "stdout",
     "output_type": "stream",
     "text": [
      "/home/sagemaker-user/capstone-2024-summer/jenna\n"
     ]
    }
   ],
   "source": [
    "print(os.getcwd())"
   ]
  },
  {
   "cell_type": "code",
   "execution_count": 9,
   "id": "c4b60539-598e-45e2-b3b7-fee1517e76bd",
   "metadata": {},
   "outputs": [],
   "source": [
    "# Load in raw 2018 - 2023 CRSP data from personal data folder bucket\n",
    "file_path = \"/home/sagemaker-user/capstone-2024-summer/data/crsp_2018-2023.csv\""
   ]
  },
  {
   "cell_type": "code",
   "execution_count": 10,
   "id": "d97fe794-7d1b-491a-b275-e5671f19d8ac",
   "metadata": {},
   "outputs": [],
   "source": [
    "# data types from colab notebook\n",
    "dtype_spec = {\n",
    "    'PERMNO': 'int64',\n",
    "    'date': 'object',\n",
    "    'NAMEENDT': 'object',\n",
    "    'SHRCD': 'float64',\n",
    "    'EXCHCD': 'float64',\n",
    "    'SICCD': 'object',\n",
    "    'NCUSIP': 'object',\n",
    "    'TICKER': 'object',\n",
    "    'COMNAM': 'object',\n",
    "    'SHRCLS': 'object',\n",
    "    'TSYMBOL': 'object',\n",
    "    'NAICS': 'float64',\n",
    "    'PRIMEXCH': 'object',\n",
    "    'TRDSTAT': 'object',\n",
    "    'SECSTAT': 'object',\n",
    "    'PERMCO': 'int64',\n",
    "    'ISSUNO': 'int64',\n",
    "    'HEXCD': 'int64',\n",
    "    'HSICCD': 'object',\n",
    "    'CUSIP': 'object',\n",
    "    'DCLRDT': 'object',\n",
    "    'DLAMT': 'float64', # present in 2023 single year df but not 5 year\n",
    "    'DLPDT': 'object',\n",
    "    'DLSTCD': 'float64',\n",
    "    'NEXTDT': 'object',\n",
    "    'PAYDT': 'object',\n",
    "    'RCRDDT': 'object',\n",
    "    'SHRFLG': 'float64',\n",
    "    'HSICMG': 'float64',\n",
    "    'HSICIG': 'float64',\n",
    "    'DISTCD': 'float64',\n",
    "    'DIVAMT': 'float64',\n",
    "    'FACPR': 'float64',\n",
    "    'FACSHR': 'float64',\n",
    "    'ACPERM': 'float64', # present in 2023 single year df but not 5 year\n",
    "    'ACCOMP': 'float64',\n",
    "    'SHRENDDT': 'object',\n",
    "    'NWPERM': 'float64',\n",
    "    'DLRETX': 'object',\n",
    "    'DLPRC': 'float64',\n",
    "    'DLRET': 'object', # present in 2023 single year df but not 5 year\n",
    "    'TRTSCD': 'float64',\n",
    "    'NMSIND': 'float64',\n",
    "    'MMCNT': 'float64',\n",
    "    'NSDINX': 'float64',\n",
    "    'BIDLO': 'float64',\n",
    "    'ASKHI': 'float64',\n",
    "    'PRC': 'float64',\n",
    "    'VOL': 'float64',\n",
    "    'RET': 'object',\n",
    "    'BID': 'float64',\n",
    "    'ASK': 'float64',\n",
    "    'SHROUT': 'float64',\n",
    "    'CFACPR': 'float64',\n",
    "    'CFACSHR': 'float64',\n",
    "    'OPENPRC': 'float64',\n",
    "    'NUMTRD': 'float64',\n",
    "    'RETX': 'object',\n",
    "    'vwretd': 'float64',\n",
    "    'vwretx': 'float64',\n",
    "    'ewretd': 'float64',\n",
    "    'ewretx': 'float64',\n",
    "    'sprtrn': 'float64'\n",
    "}"
   ]
  },
  {
   "cell_type": "code",
   "execution_count": 11,
   "id": "97e62725-fb3a-48bc-963d-c470ff3d967e",
   "metadata": {},
   "outputs": [
    {
     "name": "stdout",
     "output_type": "stream",
     "text": [
      "<class 'pandas.core.frame.DataFrame'>\n",
      "RangeIndex: 12665502 entries, 0 to 12665501\n",
      "Data columns (total 63 columns):\n",
      " #   Column    Dtype  \n",
      "---  ------    -----  \n",
      " 0   PERMNO    int64  \n",
      " 1   date      object \n",
      " 2   NAMEENDT  object \n",
      " 3   SHRCD     float64\n",
      " 4   EXCHCD    float64\n",
      " 5   SICCD     object \n",
      " 6   NCUSIP    object \n",
      " 7   TICKER    object \n",
      " 8   COMNAM    object \n",
      " 9   SHRCLS    object \n",
      " 10  TSYMBOL   object \n",
      " 11  NAICS     float64\n",
      " 12  PRIMEXCH  object \n",
      " 13  TRDSTAT   object \n",
      " 14  SECSTAT   object \n",
      " 15  PERMCO    int64  \n",
      " 16  ISSUNO    int64  \n",
      " 17  HEXCD     int64  \n",
      " 18  HSICCD    object \n",
      " 19  CUSIP     object \n",
      " 20  DCLRDT    object \n",
      " 21  DLAMT     float64\n",
      " 22  DLPDT     object \n",
      " 23  DLSTCD    float64\n",
      " 24  NEXTDT    object \n",
      " 25  PAYDT     object \n",
      " 26  RCRDDT    object \n",
      " 27  SHRFLG    float64\n",
      " 28  HSICMG    float64\n",
      " 29  HSICIG    float64\n",
      " 30  DISTCD    float64\n",
      " 31  DIVAMT    float64\n",
      " 32  FACPR     float64\n",
      " 33  FACSHR    float64\n",
      " 34  ACPERM    float64\n",
      " 35  ACCOMP    float64\n",
      " 36  SHRENDDT  object \n",
      " 37  NWPERM    float64\n",
      " 38  DLRETX    object \n",
      " 39  DLPRC     float64\n",
      " 40  DLRET     object \n",
      " 41  TRTSCD    float64\n",
      " 42  NMSIND    float64\n",
      " 43  MMCNT     float64\n",
      " 44  NSDINX    float64\n",
      " 45  BIDLO     float64\n",
      " 46  ASKHI     float64\n",
      " 47  PRC       float64\n",
      " 48  VOL       float64\n",
      " 49  RET       object \n",
      " 50  BID       float64\n",
      " 51  ASK       float64\n",
      " 52  SHROUT    float64\n",
      " 53  CFACPR    float64\n",
      " 54  CFACSHR   float64\n",
      " 55  OPENPRC   float64\n",
      " 56  NUMTRD    float64\n",
      " 57  RETX      object \n",
      " 58  vwretd    float64\n",
      " 59  vwretx    float64\n",
      " 60  ewretd    float64\n",
      " 61  ewretx    float64\n",
      " 62  sprtrn    float64\n",
      "dtypes: float64(36), int64(4), object(23)\n",
      "memory usage: 5.9+ GB\n"
     ]
    }
   ],
   "source": [
    "# Read the CSV file with specified data types\n",
    "df = pd.read_csv(file_path, dtype=dtype_spec, low_memory=False)\n",
    "\n",
    "# Check the DataFrame info to confirm data types\n",
    "df.info()"
   ]
  },
  {
   "cell_type": "code",
   "execution_count": 12,
   "id": "3c1607a6-9907-456f-a59b-9568241cdc7b",
   "metadata": {},
   "outputs": [
    {
     "data": {
      "text/html": [
       "<div>\n",
       "<style scoped>\n",
       "    .dataframe tbody tr th:only-of-type {\n",
       "        vertical-align: middle;\n",
       "    }\n",
       "\n",
       "    .dataframe tbody tr th {\n",
       "        vertical-align: top;\n",
       "    }\n",
       "\n",
       "    .dataframe thead th {\n",
       "        text-align: right;\n",
       "    }\n",
       "</style>\n",
       "<table border=\"1\" class=\"dataframe\">\n",
       "  <thead>\n",
       "    <tr style=\"text-align: right;\">\n",
       "      <th></th>\n",
       "      <th>PERMNO</th>\n",
       "      <th>date</th>\n",
       "      <th>NAMEENDT</th>\n",
       "      <th>SHRCD</th>\n",
       "      <th>EXCHCD</th>\n",
       "      <th>SICCD</th>\n",
       "      <th>NCUSIP</th>\n",
       "      <th>TICKER</th>\n",
       "      <th>COMNAM</th>\n",
       "      <th>SHRCLS</th>\n",
       "      <th>...</th>\n",
       "      <th>CFACPR</th>\n",
       "      <th>CFACSHR</th>\n",
       "      <th>OPENPRC</th>\n",
       "      <th>NUMTRD</th>\n",
       "      <th>RETX</th>\n",
       "      <th>vwretd</th>\n",
       "      <th>vwretx</th>\n",
       "      <th>ewretd</th>\n",
       "      <th>ewretx</th>\n",
       "      <th>sprtrn</th>\n",
       "    </tr>\n",
       "  </thead>\n",
       "  <tbody>\n",
       "    <tr>\n",
       "      <th>0</th>\n",
       "      <td>10026</td>\n",
       "      <td>2018-01-02</td>\n",
       "      <td>NaN</td>\n",
       "      <td>11.0</td>\n",
       "      <td>3.0</td>\n",
       "      <td>2052</td>\n",
       "      <td>46603210</td>\n",
       "      <td>JJSF</td>\n",
       "      <td>J &amp; J SNACK FOODS CORP</td>\n",
       "      <td>NaN</td>\n",
       "      <td>...</td>\n",
       "      <td>1.0</td>\n",
       "      <td>1.0</td>\n",
       "      <td>152.39000</td>\n",
       "      <td>1036.0</td>\n",
       "      <td>-0.017454</td>\n",
       "      <td>0.008505</td>\n",
       "      <td>0.008471</td>\n",
       "      <td>0.011232</td>\n",
       "      <td>0.011214</td>\n",
       "      <td>0.008303</td>\n",
       "    </tr>\n",
       "    <tr>\n",
       "      <th>1</th>\n",
       "      <td>10026</td>\n",
       "      <td>2018-01-03</td>\n",
       "      <td>NaN</td>\n",
       "      <td>11.0</td>\n",
       "      <td>3.0</td>\n",
       "      <td>2052</td>\n",
       "      <td>46603210</td>\n",
       "      <td>JJSF</td>\n",
       "      <td>J &amp; J SNACK FOODS CORP</td>\n",
       "      <td>NaN</td>\n",
       "      <td>...</td>\n",
       "      <td>1.0</td>\n",
       "      <td>1.0</td>\n",
       "      <td>149.07001</td>\n",
       "      <td>1283.0</td>\n",
       "      <td>-0.009988</td>\n",
       "      <td>0.005856</td>\n",
       "      <td>0.005852</td>\n",
       "      <td>0.005103</td>\n",
       "      <td>0.005094</td>\n",
       "      <td>0.006399</td>\n",
       "    </tr>\n",
       "    <tr>\n",
       "      <th>2</th>\n",
       "      <td>10026</td>\n",
       "      <td>2018-01-04</td>\n",
       "      <td>NaN</td>\n",
       "      <td>11.0</td>\n",
       "      <td>3.0</td>\n",
       "      <td>2052</td>\n",
       "      <td>46603210</td>\n",
       "      <td>JJSF</td>\n",
       "      <td>J &amp; J SNACK FOODS CORP</td>\n",
       "      <td>NaN</td>\n",
       "      <td>...</td>\n",
       "      <td>1.0</td>\n",
       "      <td>1.0</td>\n",
       "      <td>147.77000</td>\n",
       "      <td>1138.0</td>\n",
       "      <td>0.013813</td>\n",
       "      <td>0.004001</td>\n",
       "      <td>0.003858</td>\n",
       "      <td>0.005272</td>\n",
       "      <td>0.005217</td>\n",
       "      <td>0.004029</td>\n",
       "    </tr>\n",
       "    <tr>\n",
       "      <th>3</th>\n",
       "      <td>10026</td>\n",
       "      <td>2018-01-05</td>\n",
       "      <td>NaN</td>\n",
       "      <td>11.0</td>\n",
       "      <td>3.0</td>\n",
       "      <td>2052</td>\n",
       "      <td>46603210</td>\n",
       "      <td>JJSF</td>\n",
       "      <td>J &amp; J SNACK FOODS CORP</td>\n",
       "      <td>NaN</td>\n",
       "      <td>...</td>\n",
       "      <td>1.0</td>\n",
       "      <td>1.0</td>\n",
       "      <td>149.74001</td>\n",
       "      <td>745.0</td>\n",
       "      <td>-0.009550</td>\n",
       "      <td>0.005804</td>\n",
       "      <td>0.005802</td>\n",
       "      <td>0.003880</td>\n",
       "      <td>0.003865</td>\n",
       "      <td>0.007034</td>\n",
       "    </tr>\n",
       "    <tr>\n",
       "      <th>4</th>\n",
       "      <td>10026</td>\n",
       "      <td>2018-01-08</td>\n",
       "      <td>NaN</td>\n",
       "      <td>11.0</td>\n",
       "      <td>3.0</td>\n",
       "      <td>2052</td>\n",
       "      <td>46603210</td>\n",
       "      <td>JJSF</td>\n",
       "      <td>J &amp; J SNACK FOODS CORP</td>\n",
       "      <td>NaN</td>\n",
       "      <td>...</td>\n",
       "      <td>1.0</td>\n",
       "      <td>1.0</td>\n",
       "      <td>147.77000</td>\n",
       "      <td>990.0</td>\n",
       "      <td>0.000742</td>\n",
       "      <td>0.001816</td>\n",
       "      <td>0.001802</td>\n",
       "      <td>0.000584</td>\n",
       "      <td>0.000574</td>\n",
       "      <td>0.001662</td>\n",
       "    </tr>\n",
       "  </tbody>\n",
       "</table>\n",
       "<p>5 rows × 63 columns</p>\n",
       "</div>"
      ],
      "text/plain": [
       "   PERMNO        date NAMEENDT  SHRCD  EXCHCD SICCD    NCUSIP TICKER  \\\n",
       "0   10026  2018-01-02      NaN   11.0     3.0  2052  46603210   JJSF   \n",
       "1   10026  2018-01-03      NaN   11.0     3.0  2052  46603210   JJSF   \n",
       "2   10026  2018-01-04      NaN   11.0     3.0  2052  46603210   JJSF   \n",
       "3   10026  2018-01-05      NaN   11.0     3.0  2052  46603210   JJSF   \n",
       "4   10026  2018-01-08      NaN   11.0     3.0  2052  46603210   JJSF   \n",
       "\n",
       "                   COMNAM SHRCLS  ... CFACPR  CFACSHR    OPENPRC  NUMTRD  \\\n",
       "0  J & J SNACK FOODS CORP    NaN  ...    1.0      1.0  152.39000  1036.0   \n",
       "1  J & J SNACK FOODS CORP    NaN  ...    1.0      1.0  149.07001  1283.0   \n",
       "2  J & J SNACK FOODS CORP    NaN  ...    1.0      1.0  147.77000  1138.0   \n",
       "3  J & J SNACK FOODS CORP    NaN  ...    1.0      1.0  149.74001   745.0   \n",
       "4  J & J SNACK FOODS CORP    NaN  ...    1.0      1.0  147.77000   990.0   \n",
       "\n",
       "        RETX    vwretd    vwretx    ewretd    ewretx    sprtrn  \n",
       "0  -0.017454  0.008505  0.008471  0.011232  0.011214  0.008303  \n",
       "1  -0.009988  0.005856  0.005852  0.005103  0.005094  0.006399  \n",
       "2   0.013813  0.004001  0.003858  0.005272  0.005217  0.004029  \n",
       "3  -0.009550  0.005804  0.005802  0.003880  0.003865  0.007034  \n",
       "4   0.000742  0.001816  0.001802  0.000584  0.000574  0.001662  \n",
       "\n",
       "[5 rows x 63 columns]"
      ]
     },
     "execution_count": 12,
     "metadata": {},
     "output_type": "execute_result"
    }
   ],
   "source": [
    "df.head()"
   ]
  },
  {
   "cell_type": "code",
   "execution_count": 13,
   "id": "e332c481-6a5d-497a-bc31-9d25effd6855",
   "metadata": {},
   "outputs": [
    {
     "data": {
      "text/plain": [
       "(12665502, 63)"
      ]
     },
     "execution_count": 13,
     "metadata": {},
     "output_type": "execute_result"
    }
   ],
   "source": [
    "df.shape"
   ]
  },
  {
   "cell_type": "code",
   "execution_count": 14,
   "id": "059f2371-ae39-40f6-98f9-18e1ddb0aac8",
   "metadata": {},
   "outputs": [],
   "source": [
    "date_columns = ['date', 'NAMEENDT', 'DCLRDT', 'DLPDT', 'NEXTDT', 'PAYDT', 'RCRDDT', 'SHRENDDT']\n",
    "for col in date_columns:\n",
    "    if col in df.columns:\n",
    "        df[col] = pd.to_datetime(df[col], errors='coerce')"
   ]
  },
  {
   "cell_type": "markdown",
   "id": "bbfafcea-a2d5-4c78-b3e9-44f215001ba8",
   "metadata": {},
   "source": [
    "## Look at Nulls"
   ]
  },
  {
   "cell_type": "code",
   "execution_count": 15,
   "id": "ffd6ae0c-9be8-4dcd-ac58-bf9bdd2a1f35",
   "metadata": {},
   "outputs": [
    {
     "data": {
      "text/html": [
       "<div>\n",
       "<style scoped>\n",
       "    .dataframe tbody tr th:only-of-type {\n",
       "        vertical-align: middle;\n",
       "    }\n",
       "\n",
       "    .dataframe tbody tr th {\n",
       "        vertical-align: top;\n",
       "    }\n",
       "\n",
       "    .dataframe thead th {\n",
       "        text-align: right;\n",
       "    }\n",
       "</style>\n",
       "<table border=\"1\" class=\"dataframe\">\n",
       "  <thead>\n",
       "    <tr style=\"text-align: right;\">\n",
       "      <th></th>\n",
       "      <th>Column</th>\n",
       "      <th>Null Values</th>\n",
       "      <th>Percentage</th>\n",
       "    </tr>\n",
       "  </thead>\n",
       "  <tbody>\n",
       "    <tr>\n",
       "      <th>0</th>\n",
       "      <td>NEXTDT</td>\n",
       "      <td>12664949</td>\n",
       "      <td>99.995634</td>\n",
       "    </tr>\n",
       "    <tr>\n",
       "      <th>1</th>\n",
       "      <td>ACPERM</td>\n",
       "      <td>12664386</td>\n",
       "      <td>99.991189</td>\n",
       "    </tr>\n",
       "    <tr>\n",
       "      <th>2</th>\n",
       "      <td>ACCOMP</td>\n",
       "      <td>12663987</td>\n",
       "      <td>99.988038</td>\n",
       "    </tr>\n",
       "    <tr>\n",
       "      <th>3</th>\n",
       "      <td>DLPDT</td>\n",
       "      <td>12662203</td>\n",
       "      <td>99.973953</td>\n",
       "    </tr>\n",
       "    <tr>\n",
       "      <th>4</th>\n",
       "      <td>NWPERM</td>\n",
       "      <td>12652744</td>\n",
       "      <td>99.899270</td>\n",
       "    </tr>\n",
       "    <tr>\n",
       "      <th>...</th>\n",
       "      <td>...</td>\n",
       "      <td>...</td>\n",
       "      <td>...</td>\n",
       "    </tr>\n",
       "    <tr>\n",
       "      <th>58</th>\n",
       "      <td>vwretd</td>\n",
       "      <td>0</td>\n",
       "      <td>0.000000</td>\n",
       "    </tr>\n",
       "    <tr>\n",
       "      <th>59</th>\n",
       "      <td>vwretx</td>\n",
       "      <td>0</td>\n",
       "      <td>0.000000</td>\n",
       "    </tr>\n",
       "    <tr>\n",
       "      <th>60</th>\n",
       "      <td>ewretd</td>\n",
       "      <td>0</td>\n",
       "      <td>0.000000</td>\n",
       "    </tr>\n",
       "    <tr>\n",
       "      <th>61</th>\n",
       "      <td>ewretx</td>\n",
       "      <td>0</td>\n",
       "      <td>0.000000</td>\n",
       "    </tr>\n",
       "    <tr>\n",
       "      <th>62</th>\n",
       "      <td>sprtrn</td>\n",
       "      <td>0</td>\n",
       "      <td>0.000000</td>\n",
       "    </tr>\n",
       "  </tbody>\n",
       "</table>\n",
       "<p>63 rows × 3 columns</p>\n",
       "</div>"
      ],
      "text/plain": [
       "    Column  Null Values  Percentage\n",
       "0   NEXTDT     12664949   99.995634\n",
       "1   ACPERM     12664386   99.991189\n",
       "2   ACCOMP     12663987   99.988038\n",
       "3    DLPDT     12662203   99.973953\n",
       "4   NWPERM     12652744   99.899270\n",
       "..     ...          ...         ...\n",
       "58  vwretd            0    0.000000\n",
       "59  vwretx            0    0.000000\n",
       "60  ewretd            0    0.000000\n",
       "61  ewretx            0    0.000000\n",
       "62  sprtrn            0    0.000000\n",
       "\n",
       "[63 rows x 3 columns]"
      ]
     },
     "execution_count": 15,
     "metadata": {},
     "output_type": "execute_result"
    }
   ],
   "source": [
    "null_table = df.isnull().sum().reset_index()\n",
    "null_table.columns = ['Column', 'Null Values']\n",
    "\n",
    "# Add column to show the percentage of null values\n",
    "null_table['Percentage'] = (null_table['Null Values'] / len(df)) * 100\n",
    "\n",
    "# Sorting the table by the number of null values in descending order\n",
    "null_table_sorted = null_table.sort_values(by='Null Values', ascending=False).reset_index(drop=True)\n",
    "null_table_sorted"
   ]
  },
  {
   "cell_type": "code",
   "execution_count": 16,
   "id": "729e29a6-c58d-4e5e-bafa-6a9059ba38ae",
   "metadata": {},
   "outputs": [
    {
     "name": "stdout",
     "output_type": "stream",
     "text": [
      "0.10073031451891919%\n"
     ]
    }
   ],
   "source": [
    "# Percentage of company delisted\n",
    "delisted = (df['DLSTCD'].count()/ len(df)) * 100\n",
    "print(f'{delisted}%')"
   ]
  },
  {
   "cell_type": "markdown",
   "id": "f10d02db-ddc1-4afa-862d-3c3e69be6757",
   "metadata": {},
   "source": [
    "## Drop columns that have over 80% nulls"
   ]
  },
  {
   "cell_type": "code",
   "execution_count": 17,
   "id": "f8fcca1c-a093-4d25-b944-516658213965",
   "metadata": {},
   "outputs": [],
   "source": [
    "columns_to_drop = null_table_sorted[null_table_sorted['Percentage'] > 80]['Column'].tolist()\n",
    "df = df.drop(columns_to_drop, axis=1)"
   ]
  },
  {
   "cell_type": "code",
   "execution_count": 18,
   "id": "456a9558-427e-4f9d-8510-3a399488d31f",
   "metadata": {},
   "outputs": [
    {
     "data": {
      "text/plain": [
       "['PERMNO',\n",
       " 'date',\n",
       " 'SHRCD',\n",
       " 'EXCHCD',\n",
       " 'SICCD',\n",
       " 'NCUSIP',\n",
       " 'TICKER',\n",
       " 'COMNAM',\n",
       " 'TSYMBOL',\n",
       " 'NAICS',\n",
       " 'PRIMEXCH',\n",
       " 'TRDSTAT',\n",
       " 'SECSTAT',\n",
       " 'PERMCO',\n",
       " 'ISSUNO',\n",
       " 'HEXCD',\n",
       " 'HSICCD',\n",
       " 'CUSIP',\n",
       " 'HSICMG',\n",
       " 'HSICIG',\n",
       " 'BIDLO',\n",
       " 'ASKHI',\n",
       " 'PRC',\n",
       " 'VOL',\n",
       " 'RET',\n",
       " 'BID',\n",
       " 'ASK',\n",
       " 'SHROUT',\n",
       " 'CFACPR',\n",
       " 'CFACSHR',\n",
       " 'OPENPRC',\n",
       " 'NUMTRD',\n",
       " 'RETX',\n",
       " 'vwretd',\n",
       " 'vwretx',\n",
       " 'ewretd',\n",
       " 'ewretx',\n",
       " 'sprtrn']"
      ]
     },
     "execution_count": 18,
     "metadata": {},
     "output_type": "execute_result"
    }
   ],
   "source": [
    "# See which columns were dropped\n",
    "df.columns.tolist()"
   ]
  },
  {
   "cell_type": "markdown",
   "id": "675e72ea-4c2a-4989-b85c-b0c4ff07f7a5",
   "metadata": {},
   "source": [
    "Note: dropped columns are the same from EDA 2023 notebook."
   ]
  },
  {
   "cell_type": "markdown",
   "id": "9246ad18-21fb-4745-8450-5d7b6111125b",
   "metadata": {},
   "source": [
    "## Check out trade status variable ('TRDSTAT')\n",
    "\n",
    "#### TRDSTAT codes table:\n",
    "\n",
    "| Code | Status    |\n",
    "|------|-----------|\n",
    "| A    | Active    |\n",
    "| H    | Halted    |\n",
    "| S    | Suspended |\n",
    "| X    | Unknown   |"
   ]
  },
  {
   "cell_type": "code",
   "execution_count": 19,
   "id": "a87949b0-e2e4-4fec-9a42-97b617c1f581",
   "metadata": {},
   "outputs": [
    {
     "name": "stdout",
     "output_type": "stream",
     "text": [
      "Number of rows before grouping: 12665502\n",
      "\n",
      "Number of rows in each group after grouping by 'TRDSTAT':\n",
      "  TRDSTAT     Count\n",
      "0       A  12621768\n",
      "1       H        75\n",
      "2       S      3580\n",
      "3       X     39599\n",
      "\n",
      "Total number of rows after grouping: 12665022\n"
     ]
    }
   ],
   "source": [
    "# Display the number of rows before grouping\n",
    "num_rows_before = len(df)\n",
    "print(f\"Number of rows before grouping: {num_rows_before}\")\n",
    "\n",
    "# Group by 'TRDSTAT' and count the number of rows in each group\n",
    "grouped = df.groupby('TRDSTAT').size().reset_index(name='Count')\n",
    "print(\"\\nNumber of rows in each group after grouping by 'TRDSTAT':\")\n",
    "print(grouped)\n",
    "\n",
    "# Display the total number of rows after grouping\n",
    "num_rows_after = grouped['Count'].sum()\n",
    "print(f\"\\nTotal number of rows after grouping: {num_rows_after}\")"
   ]
  },
  {
   "cell_type": "markdown",
   "id": "2cd89375-ad7f-49be-9a92-d80e33eec3c7",
   "metadata": {},
   "source": [
    "## Check outcome variable ('RET' = returns)"
   ]
  },
  {
   "cell_type": "code",
   "execution_count": 20,
   "id": "79d8447a-a752-49e3-a0b9-6f81b69102ee",
   "metadata": {},
   "outputs": [
    {
     "name": "stdout",
     "output_type": "stream",
     "text": [
      "DF shape before: (12612404, 38)\n",
      "DF shape after removing non-numeric 'RET' values: (12612404, 38)\n"
     ]
    }
   ],
   "source": [
    "# Convert 'RET' to numeric and replace non-numeric values with NaN\n",
    "df['RET'] = pd.to_numeric(df['RET'], errors='coerce')\n",
    "\n",
    "# Drop rows where 'RET' is NaN (non-numeric values)\n",
    "df = df.dropna(subset=['RET'])\n",
    "\n",
    "print(f\"DF shape before: {df.shape}\")\n",
    "print(f\"DF shape after removing non-numeric 'RET' values: {df.shape}\")"
   ]
  },
  {
   "cell_type": "markdown",
   "id": "9fbc9b75-4b16-4e65-9404-90e050c4812c",
   "metadata": {},
   "source": [
    "## Check the 'TRDSTAT' after 'RET' clean-up"
   ]
  },
  {
   "cell_type": "code",
   "execution_count": 21,
   "id": "53c79087-c7ba-43f6-9641-9427e9ceebe3",
   "metadata": {},
   "outputs": [
    {
     "name": "stdout",
     "output_type": "stream",
     "text": [
      "Number of rows before grouping: 12612404\n",
      "\n",
      "Number of rows in each group after grouping by 'TRDSTAT':\n",
      "  TRDSTAT     Count\n",
      "0       A  12612404\n",
      "\n",
      "Total number of rows after grouping: 12612404\n"
     ]
    }
   ],
   "source": [
    "# Display the number of rows before grouping\n",
    "num_rows_before = len(df)\n",
    "print(f\"Number of rows before grouping: {num_rows_before}\")\n",
    "\n",
    "# Group by 'TRDSTAT' and count the number of rows in each group\n",
    "grouped = df.groupby('TRDSTAT').size().reset_index(name='Count')\n",
    "print(\"\\nNumber of rows in each group after grouping by 'TRDSTAT':\")\n",
    "print(grouped)\n",
    "\n",
    "# Display the total number of rows after grouping\n",
    "num_rows_after = grouped['Count'].sum()\n",
    "print(f\"\\nTotal number of rows after grouping: {num_rows_after}\")"
   ]
  },
  {
   "cell_type": "markdown",
   "id": "18360f49-4e17-4fae-ae8a-65e80c7d6707",
   "metadata": {},
   "source": [
    "## Check the industry variable ('NAICS')"
   ]
  },
  {
   "cell_type": "code",
   "execution_count": 22,
   "id": "f45c31c7-68b9-494f-a7dd-8bf1fd40adb2",
   "metadata": {},
   "outputs": [
    {
     "name": "stdout",
     "output_type": "stream",
     "text": [
      "Number of rows before grouping: 12612404\n",
      "\n",
      "Number of rows in each group after grouping by 'NAICS':\n",
      "        NAICS    Count\n",
      "663  525990.0  4108216\n",
      "646  523910.0   598281\n",
      "187  325412.0   576761\n",
      "623  522110.0   436364\n",
      "661  525910.0   278508\n",
      "..        ...      ...\n",
      "533  456120.0       26\n",
      "482  444240.0       19\n",
      "506  449121.0       13\n",
      "507  449129.0        7\n",
      "699  541519.0        4\n",
      "\n",
      "[842 rows x 2 columns]\n",
      "\n",
      "Total number of rows after grouping: 12500416\n"
     ]
    }
   ],
   "source": [
    "# Display the number of rows before grouping\n",
    "num_rows_before = len(df)\n",
    "print(f\"Number of rows before grouping: {num_rows_before}\")\n",
    "\n",
    "# Group by 'NAICS' and count the number of rows in each group\n",
    "grouped_naics = df.groupby('NAICS').size().reset_index(name='Count')\n",
    "grouped_naics_sorted = grouped_naics.sort_values(by='Count', ascending=False)\n",
    "print(\"\\nNumber of rows in each group after grouping by 'NAICS':\")\n",
    "print(grouped_naics_sorted)\n",
    "\n",
    "# Display the total number of rows after grouping\n",
    "num_rows_after = grouped_naics_sorted['Count'].sum()\n",
    "print(f\"\\nTotal number of rows after grouping: {num_rows_after}\")"
   ]
  },
  {
   "cell_type": "code",
   "execution_count": 23,
   "id": "b8311d21-5b96-47a3-babd-ad3d1051fb23",
   "metadata": {},
   "outputs": [
    {
     "data": {
      "text/html": [
       "<div>\n",
       "<style scoped>\n",
       "    .dataframe tbody tr th:only-of-type {\n",
       "        vertical-align: middle;\n",
       "    }\n",
       "\n",
       "    .dataframe tbody tr th {\n",
       "        vertical-align: top;\n",
       "    }\n",
       "\n",
       "    .dataframe thead th {\n",
       "        text-align: right;\n",
       "    }\n",
       "</style>\n",
       "<table border=\"1\" class=\"dataframe\">\n",
       "  <thead>\n",
       "    <tr style=\"text-align: right;\">\n",
       "      <th></th>\n",
       "      <th>NAICS</th>\n",
       "      <th>Count</th>\n",
       "    </tr>\n",
       "  </thead>\n",
       "  <tbody>\n",
       "    <tr>\n",
       "      <th>663</th>\n",
       "      <td>525990.0</td>\n",
       "      <td>4108216</td>\n",
       "    </tr>\n",
       "    <tr>\n",
       "      <th>646</th>\n",
       "      <td>523910.0</td>\n",
       "      <td>598281</td>\n",
       "    </tr>\n",
       "    <tr>\n",
       "      <th>187</th>\n",
       "      <td>325412.0</td>\n",
       "      <td>576761</td>\n",
       "    </tr>\n",
       "    <tr>\n",
       "      <th>623</th>\n",
       "      <td>522110.0</td>\n",
       "      <td>436364</td>\n",
       "    </tr>\n",
       "    <tr>\n",
       "      <th>661</th>\n",
       "      <td>525910.0</td>\n",
       "      <td>278508</td>\n",
       "    </tr>\n",
       "    <tr>\n",
       "      <th>664</th>\n",
       "      <td>531110.0</td>\n",
       "      <td>224983</td>\n",
       "    </tr>\n",
       "    <tr>\n",
       "      <th>736</th>\n",
       "      <td>561499.0</td>\n",
       "      <td>203531</td>\n",
       "    </tr>\n",
       "    <tr>\n",
       "      <th>587</th>\n",
       "      <td>511210.0</td>\n",
       "      <td>198006</td>\n",
       "    </tr>\n",
       "    <tr>\n",
       "      <th>709</th>\n",
       "      <td>541715.0</td>\n",
       "      <td>148826</td>\n",
       "    </tr>\n",
       "    <tr>\n",
       "      <th>389</th>\n",
       "      <td>339112.0</td>\n",
       "      <td>133268</td>\n",
       "    </tr>\n",
       "  </tbody>\n",
       "</table>\n",
       "</div>"
      ],
      "text/plain": [
       "        NAICS    Count\n",
       "663  525990.0  4108216\n",
       "646  523910.0   598281\n",
       "187  325412.0   576761\n",
       "623  522110.0   436364\n",
       "661  525910.0   278508\n",
       "664  531110.0   224983\n",
       "736  561499.0   203531\n",
       "587  511210.0   198006\n",
       "709  541715.0   148826\n",
       "389  339112.0   133268"
      ]
     },
     "execution_count": 23,
     "metadata": {},
     "output_type": "execute_result"
    }
   ],
   "source": [
    "grouped_naics_sorted.head(10)"
   ]
  },
  {
   "cell_type": "code",
   "execution_count": 24,
   "id": "df7817ea-ff4e-40e9-8034-94a03ea186dc",
   "metadata": {},
   "outputs": [
    {
     "name": "stdout",
     "output_type": "stream",
     "text": [
      "\n",
      "Top 10 NAICS codes with their descriptions:\n"
     ]
    },
    {
     "data": {
      "text/html": [
       "<div>\n",
       "<style scoped>\n",
       "    .dataframe tbody tr th:only-of-type {\n",
       "        vertical-align: middle;\n",
       "    }\n",
       "\n",
       "    .dataframe tbody tr th {\n",
       "        vertical-align: top;\n",
       "    }\n",
       "\n",
       "    .dataframe thead th {\n",
       "        text-align: right;\n",
       "    }\n",
       "</style>\n",
       "<table border=\"1\" class=\"dataframe\">\n",
       "  <thead>\n",
       "    <tr style=\"text-align: right;\">\n",
       "      <th></th>\n",
       "      <th>NAICS</th>\n",
       "      <th>Count</th>\n",
       "    </tr>\n",
       "  </thead>\n",
       "  <tbody>\n",
       "    <tr>\n",
       "      <th>663</th>\n",
       "      <td>525990 - Other Financial Vehicles</td>\n",
       "      <td>4108216</td>\n",
       "    </tr>\n",
       "    <tr>\n",
       "      <th>646</th>\n",
       "      <td>523910 - Miscellaneous Intermediation</td>\n",
       "      <td>598281</td>\n",
       "    </tr>\n",
       "    <tr>\n",
       "      <th>187</th>\n",
       "      <td>325412 - Pharmaceutical Preparation Manufacturing</td>\n",
       "      <td>576761</td>\n",
       "    </tr>\n",
       "    <tr>\n",
       "      <th>623</th>\n",
       "      <td>522110 - Commercial Banking</td>\n",
       "      <td>436364</td>\n",
       "    </tr>\n",
       "    <tr>\n",
       "      <th>661</th>\n",
       "      <td>525910 - Open-End Investment Funds</td>\n",
       "      <td>278508</td>\n",
       "    </tr>\n",
       "    <tr>\n",
       "      <th>664</th>\n",
       "      <td>531110 - Lessors of Residential Buildings and ...</td>\n",
       "      <td>224983</td>\n",
       "    </tr>\n",
       "    <tr>\n",
       "      <th>736</th>\n",
       "      <td>561499 - All Other Business Support Services</td>\n",
       "      <td>203531</td>\n",
       "    </tr>\n",
       "    <tr>\n",
       "      <th>587</th>\n",
       "      <td>511210 - Unknown</td>\n",
       "      <td>198006</td>\n",
       "    </tr>\n",
       "    <tr>\n",
       "      <th>709</th>\n",
       "      <td>541715 - Research and Development in the Physi...</td>\n",
       "      <td>148826</td>\n",
       "    </tr>\n",
       "    <tr>\n",
       "      <th>389</th>\n",
       "      <td>339112 - Surgical and Medical Instrument Manuf...</td>\n",
       "      <td>133268</td>\n",
       "    </tr>\n",
       "  </tbody>\n",
       "</table>\n",
       "</div>"
      ],
      "text/plain": [
       "                                                 NAICS    Count\n",
       "663                  525990 - Other Financial Vehicles  4108216\n",
       "646              523910 - Miscellaneous Intermediation   598281\n",
       "187  325412 - Pharmaceutical Preparation Manufacturing   576761\n",
       "623                        522110 - Commercial Banking   436364\n",
       "661                 525910 - Open-End Investment Funds   278508\n",
       "664  531110 - Lessors of Residential Buildings and ...   224983\n",
       "736       561499 - All Other Business Support Services   203531\n",
       "587                                   511210 - Unknown   198006\n",
       "709  541715 - Research and Development in the Physi...   148826\n",
       "389  339112 - Surgical and Medical Instrument Manuf...   133268"
      ]
     },
     "execution_count": 24,
     "metadata": {},
     "output_type": "execute_result"
    }
   ],
   "source": [
    "naics_code_lookup = {\n",
    "                      525990.0: '525990 - Other Financial Vehicles',\n",
    "                      523910.0: '523910 - Miscellaneous Intermediation',\n",
    "                      325412.0: '325412 - Pharmaceutical Preparation Manufacturing',\n",
    "                      522110.0: '522110 - Commercial Banking',\n",
    "                      525910.0: '525910 - Open-End Investment Funds',\n",
    "                      531110.0: '531110 - Lessors of Residential Buildings and Dwellings',\n",
    "                      561499.0: '561499 - All Other Business Support Services',\n",
    "                      511210.0: '511210 - Unknown',\n",
    "                      541715.0: '541715 - Research and Development in the Physical, Engineering, and Life Sciences (except Nanotechnology and Biotechnology)',\n",
    "                      339112.0: '339112 - Surgical and Medical Instrument Manufacturing',\n",
    "                    }\n",
    "\n",
    "# Replace top 10 NAICS codes with their descriptions\n",
    "grouped_naics_sorted['NAICS'] = grouped_naics_sorted['NAICS'].map(naics_code_lookup).fillna(grouped_naics_sorted['NAICS'])\n",
    "\n",
    "print(\"\\nTop 10 NAICS codes with their descriptions:\")\n",
    "grouped_naics_sorted.head(10)"
   ]
  },
  {
   "cell_type": "code",
   "execution_count": 25,
   "id": "e7df6d83-22fb-416c-859f-4ab44fe798f6",
   "metadata": {},
   "outputs": [
    {
     "data": {
      "image/png": "[encoded data removed]",
      "text/plain": [
       "<Figure size 1400x800 with 1 Axes>"
      ]
     },
     "metadata": {},
     "output_type": "display_data"
    }
   ],
   "source": [
    "df['date'] = pd.to_datetime(df['date'], errors='coerce')\n",
    "\n",
    "# Plotting the distribution of the 'RET' column by the 'date' column\n",
    "plt.figure(figsize=(14, 8))\n",
    "sns.lineplot(data=df, x='date', y='RET')\n",
    "plt.title(\"Distribution of Return ('RET') over Time ('date')\")\n",
    "plt.xlabel('Date')\n",
    "plt.ylabel('RET')\n",
    "plt.grid(True)\n",
    "\n",
    "# Set x-axis major formatter to display month and year\n",
    "plt.gca().xaxis.set_major_locator(mdates.MonthLocator(interval=3))\n",
    "plt.gca().xaxis.set_major_formatter(mdates.DateFormatter('%Y-%m'))\n",
    "\n",
    "# Rotate date labels for better readability\n",
    "plt.gcf().autofmt_xdate()\n",
    "plt.xticks(fontsize=10)\n",
    "\n",
    "plt.show()"
   ]
  },
  {
   "cell_type": "markdown",
   "id": "1afed797-5842-499c-80d5-09545abf2f7a",
   "metadata": {},
   "source": [
    "## Check what cleaning would accomplish"
   ]
  },
  {
   "cell_type": "code",
   "execution_count": 26,
   "id": "cbd128e7-c944-4b59-98fe-f51cdb74bca8",
   "metadata": {},
   "outputs": [],
   "source": [
    "def additional_cleaning(df):\n",
    "    \"\"\"Additional cleaning steps.\"\"\"\n",
    "    # Keep only securities with more than 128 days of return records\n",
    "    df = df.groupby('PERMNO').filter(lambda x: len(x) > 128)\n",
    "    \n",
    "    # Remove severe outliers\n",
    "    df['RET'] = pd.to_numeric(df['RET'], errors='coerce')\n",
    "    df = df[df['RET'].between(df['RET'].quantile(0.01), df['RET'].quantile(0.99))]\n",
    "    \n",
    "    # Apply log transformation and normalization to the return\n",
    "    df['RET'] = np.log1p(df['RET'])\n",
    "    df['RET'] = (df['RET'] - df['RET'].mean()) / df['RET'].std()\n",
    "    \n",
    "    # Create additional features\n",
    "    df['market_return'] = df['vwretd']  # Value-Weighted Return (includes distributions)\n",
    "    # Extract the first two digits of the NAICS code, which typically represent the broad industry classification\n",
    "    df['industry'] = df['NAICS'].apply(lambda x: str(x)[:2] if pd.notnull(x) else 'Unknown') \n",
    "    \n",
    "    return df\n",
    "\n",
    "df_cleaned = additional_cleaning(df.copy())"
   ]
  },
  {
   "cell_type": "code",
   "execution_count": 27,
   "id": "3cfd0134-fd3c-43c5-ae62-cb3c811889ab",
   "metadata": {},
   "outputs": [
    {
     "name": "stdout",
     "output_type": "stream",
     "text": [
      "Date range before cleaning: (Timestamp('2018-01-02 00:00:00'), Timestamp('2023-12-29 00:00:00'))\n",
      "Date range after cleaning: (Timestamp('2018-01-02 00:00:00'), Timestamp('2023-12-29 00:00:00'))\n"
     ]
    }
   ],
   "source": [
    "# Sanity check - date range before and after cleaning\n",
    "date_range_before = (df['date'].min(), df['date'].max())\n",
    "date_range_after = (df_cleaned['date'].min(), df_cleaned['date'].max())\n",
    "\n",
    "print(f\"Date range before cleaning: {date_range_before}\")\n",
    "print(f\"Date range after cleaning: {date_range_after}\")"
   ]
  },
  {
   "cell_type": "markdown",
   "id": "fde1c2a3-28c9-40ba-8a2d-ad62449592af",
   "metadata": {},
   "source": [
    "### Keep only securities with more than 128 days of return records"
   ]
  },
  {
   "cell_type": "code",
   "execution_count": 28,
   "id": "f482c68a-3b53-4ced-8b9d-ce492ba00861",
   "metadata": {},
   "outputs": [
    {
     "name": "stdout",
     "output_type": "stream",
     "text": [
      "Number of unique PERMNOs before cleaning: 12752\n",
      "Number of unique PERMNOs after cleaning: 11986\n"
     ]
    }
   ],
   "source": [
    "# Number of unique PERMNOs before and after cleaning\n",
    "num_permnos_before = df['PERMNO'].nunique()\n",
    "num_permnos_after = df_cleaned['PERMNO'].nunique()\n",
    "\n",
    "print(f\"Number of unique PERMNOs before cleaning: {num_permnos_before}\")\n",
    "print(f\"Number of unique PERMNOs after cleaning: {num_permnos_after}\")"
   ]
  },
  {
   "cell_type": "markdown",
   "id": "f97f6e63-1e20-4977-8603-35e096647262",
   "metadata": {},
   "source": [
    "### Removes any securities containing severe outliers such as large change in returns in a short period of time"
   ]
  },
  {
   "cell_type": "code",
   "execution_count": 29,
   "id": "d0fcee2b-f4ab-4c49-bb5d-1781c1213496",
   "metadata": {},
   "outputs": [
    {
     "name": "stdout",
     "output_type": "stream",
     "text": [
      "Summary statistics for RET before cleaning:\n",
      "count    1.261240e+07\n",
      "mean     2.969563e-04\n",
      "std      4.305505e-02\n",
      "min     -9.543060e-01\n",
      "25%     -1.018000e-02\n",
      "50%      0.000000e+00\n",
      "75%      9.812000e-03\n",
      "max      3.972530e+01\n",
      "Name: RET, dtype: float64\n",
      "\n",
      "Summary statistics for RET after cleaning:\n",
      "count    1.231083e+07\n",
      "mean     2.870376e-17\n",
      "std      1.000000e+00\n",
      "min     -4.103753e+00\n",
      "25%     -3.871489e-01\n",
      "50%      1.818699e-02\n",
      "75%      4.058848e-01\n",
      "max      4.088944e+00\n",
      "Name: RET, dtype: float64\n"
     ]
    }
   ],
   "source": [
    "# Summary statistics for RET before and after cleaning\n",
    "ret_summary_before = df['RET'].describe()\n",
    "ret_summary_after = df_cleaned['RET'].describe()\n",
    "\n",
    "print(\"Summary statistics for RET before cleaning:\")\n",
    "print(ret_summary_before)\n",
    "\n",
    "print(\"\\nSummary statistics for RET after cleaning:\")\n",
    "print(ret_summary_after)"
   ]
  },
  {
   "cell_type": "markdown",
   "id": "557b53f9-c52d-4267-8dba-b21eb83ce5a5",
   "metadata": {},
   "source": [
    "### Apply log transformation and normalization to the return"
   ]
  },
  {
   "cell_type": "code",
   "execution_count": 30,
   "id": "007cbabe-5968-4b01-9428-ebce155232af",
   "metadata": {},
   "outputs": [
    {
     "data": {
      "image/png": "[encoded data removed]",
      "text/plain": [
       "<Figure size 1400x800 with 1 Axes>"
      ]
     },
     "metadata": {},
     "output_type": "display_data"
    }
   ],
   "source": [
    "df_cleaned['date'] = pd.to_datetime(df_cleaned['date'], errors='coerce')\n",
    "\n",
    "# Plotting the distribution of the 'RET' column by the 'date' column\n",
    "plt.figure(figsize=(14, 8))\n",
    "sns.lineplot(data=df_cleaned, x='date', y='RET')\n",
    "plt.title(\"Distribution of Return ('RET') over Time ('date')\")\n",
    "plt.xlabel('Date')\n",
    "plt.ylabel('RET')\n",
    "plt.grid(True)\n",
    "\n",
    "# Set x-axis major formatter to display month and year\n",
    "plt.gca().xaxis.set_major_locator(mdates.MonthLocator(interval=3))\n",
    "plt.gca().xaxis.set_major_formatter(mdates.DateFormatter('%Y-%m'))\n",
    "\n",
    "# Rotate date labels for better readability\n",
    "plt.gcf().autofmt_xdate()\n",
    "plt.xticks(fontsize=10)\n",
    "\n",
    "plt.show()"
   ]
  },
  {
   "cell_type": "markdown",
   "id": "dd502729-2103-4e28-842e-f83f71b17ca6",
   "metadata": {},
   "source": [
    "## Create additional features"
   ]
  },
  {
   "cell_type": "code",
   "execution_count": 31,
   "id": "e9e141d8-f458-4576-9638-1dc5ec49fcc4",
   "metadata": {},
   "outputs": [
    {
     "name": "stdout",
     "output_type": "stream",
     "text": [
      "Unique values in 'NAICS' column:\n",
      "837\n",
      "\n",
      "Unique values in 'industry' column:\n",
      "29\n"
     ]
    }
   ],
   "source": [
    "# Apply the additional cleaning function\n",
    "df_cleaned = additional_cleaning(df.copy())\n",
    "\n",
    "# Display unique values of 'NAICS' and 'industry'\n",
    "unique_naics = df_cleaned['NAICS'].nunique()\n",
    "unique_industry = df_cleaned['industry'].nunique()\n",
    "\n",
    "print(f\"Unique values in 'NAICS' column:\\n{unique_naics}\")\n",
    "print(f\"\\nUnique values in 'industry' column:\\n{unique_industry}\")"
   ]
  },
  {
   "cell_type": "code",
   "execution_count": 32,
   "id": "4a402864-c5a9-4a68-9566-37d80bce4793",
   "metadata": {},
   "outputs": [
    {
     "data": {
      "text/plain": [
       "['31',\n",
       " '44',\n",
       " '42',\n",
       " '33',\n",
       " '62',\n",
       " '52',\n",
       " '51',\n",
       " '54',\n",
       " '23',\n",
       " '32',\n",
       " '22',\n",
       " '56',\n",
       " '55',\n",
       " '48',\n",
       " '53',\n",
       " '45',\n",
       " '21',\n",
       " 'Unknown',\n",
       " '49',\n",
       " '11',\n",
       " '72',\n",
       " '81',\n",
       " '61',\n",
       " '71',\n",
       " '92',\n",
       " '99',\n",
       " '67',\n",
       " '73',\n",
       " '10']"
      ]
     },
     "execution_count": 32,
     "metadata": {},
     "output_type": "execute_result"
    }
   ],
   "source": [
    "df_cleaned['industry'].unique().tolist()"
   ]
  },
  {
   "cell_type": "code",
   "execution_count": 33,
   "id": "a892ceac-1080-4a5a-a8dc-e85b9231be7b",
   "metadata": {},
   "outputs": [
    {
     "name": "stdout",
     "output_type": "stream",
     "text": [
      "\n",
      "Value counts in 'NAICS' column:\n",
      "NAICS\n",
      "525990.0    4065044\n",
      "523910.0     579777\n",
      "325412.0     546459\n",
      "522110.0     432559\n",
      "525910.0     277271\n",
      "             ...   \n",
      "332995.0         26\n",
      "444240.0         18\n",
      "449121.0         13\n",
      "449129.0          4\n",
      "541519.0          2\n",
      "Name: count, Length: 838, dtype: int64\n",
      "\n",
      "Value counts in 'industry' column:\n",
      "industry\n",
      "52         5983713\n",
      "33         1226710\n",
      "32          976019\n",
      "54          588898\n",
      "51          546649\n",
      "21          402325\n",
      "53          381005\n",
      "56          316740\n",
      "42          269798\n",
      "48          213225\n",
      "31          190855\n",
      "44          173837\n",
      "62          155134\n",
      "55          153423\n",
      "22          150651\n",
      "72          114705\n",
      "Unknown     105802\n",
      "45          104563\n",
      "23           98200\n",
      "71           41908\n",
      "61           41875\n",
      "81           33028\n",
      "11           26244\n",
      "49            9316\n",
      "92            5528\n",
      "99             592\n",
      "73              33\n",
      "67              27\n",
      "10              27\n",
      "Name: count, dtype: int64\n"
     ]
    }
   ],
   "source": [
    "# Display the value counts of 'NAICS' and 'industry' columns to understand their distribution\n",
    "naics_value_counts = df_cleaned['NAICS'].value_counts(dropna=False)\n",
    "industry_value_counts = df_cleaned['industry'].value_counts()\n",
    "\n",
    "print(f\"\\nValue counts in 'NAICS' column:\\n{naics_value_counts}\")\n",
    "print(f\"\\nValue counts in 'industry' column:\\n{industry_value_counts}\")"
   ]
  }
 ],
 "metadata": {
  "kernelspec": {
   "display_name": "Python 3 (ipykernel)",
   "language": "python",
   "name": "python3"
  },
  "language_info": {
   "codemirror_mode": {
    "name": "ipython",
    "version": 3
   },
   "file_extension": ".py",
   "mimetype": "text/x-python",
   "name": "python",
   "nbconvert_exporter": "python",
   "pygments_lexer": "ipython3",
   "version": "3.10.14"
  }
 },
 "nbformat": 4,
 "nbformat_minor": 5
}
