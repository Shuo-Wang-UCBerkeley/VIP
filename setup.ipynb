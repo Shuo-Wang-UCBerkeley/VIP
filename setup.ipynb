{
 "cells": [
  {
   "cell_type": "code",
   "execution_count": 1,
   "id": "eb70b7b0-1b46-4c11-9f8a-ce34cf1a756c",
   "metadata": {
    "tags": []
   },
   "outputs": [
    {
     "name": "stdout",
     "output_type": "stream",
     "text": [
      "sagemaker.config INFO - Not applying SDK defaults from location: /etc/xdg/sagemaker/config.yaml\n",
      "sagemaker.config INFO - Not applying SDK defaults from location: /home/sagemaker-user/.config/sagemaker/config.yaml\n"
     ]
    },
    {
     "data": {
      "text/plain": [
       "'arn:aws:iam::975050273734:role/service-role/SageMaker-ExecutionRole-20240612T130383'"
      ]
     },
     "execution_count": 1,
     "metadata": {},
     "output_type": "execute_result"
    }
   ],
   "source": [
    "import sagemaker\n",
    "\n",
    "# Define IAM role\n",
    "import boto3\n",
    "from sagemaker import get_execution_role\n",
    "\n",
    "role = get_execution_role()\n",
    "role"
   ]
  },
  {
   "cell_type": "code",
   "execution_count": 21,
   "id": "c5384c0b-004b-436c-8f28-a41094363abc",
   "metadata": {},
   "outputs": [],
   "source": [
    "import utilities"
   ]
  },
  {
   "cell_type": "code",
   "execution_count": 3,
   "id": "d78d4928-f708-4ae3-9811-40913d358f01",
   "metadata": {
    "tags": []
   },
   "outputs": [],
   "source": [
    "s3 = boto3.client('s3')\n",
    "bucket = 'capstone-bucket-4-friends'"
   ]
  },
  {
   "cell_type": "code",
   "execution_count": 15,
   "id": "8e6f346a-4510-4efa-ab2c-661e99be88ad",
   "metadata": {
    "tags": []
   },
   "outputs": [
    {
     "data": {
      "text/plain": [
       "[{'Key': 'crsp_2023_clean.parquet',\n",
       "  'LastModified': datetime.datetime(2024, 6, 14, 23, 49, 35, tzinfo=tzlocal()),\n",
       "  'ETag': '\"f5eb32894c2ee44835e6869ede9ec50a-10\"',\n",
       "  'Size': 81389066,\n",
       "  'StorageClass': 'STANDARD',\n",
       "  'Owner': {'DisplayName': 'caopuzheng',\n",
       "   'ID': '3e8e9fefba64fe47aada033ac68b6e97b3ca71a1d45879ebba28cd6aa5dcad55'}},\n",
       " {'Key': 'crsp_stock_2023.csv',\n",
       "  'LastModified': datetime.datetime(2024, 6, 12, 16, 55, 42, tzinfo=tzlocal()),\n",
       "  'ETag': '\"c513e3fbf4e7477ab6acb9c9f663b567-38\"',\n",
       "  'Size': 641927058,\n",
       "  'StorageClass': 'STANDARD',\n",
       "  'Owner': {'DisplayName': 'caopuzheng',\n",
       "   'ID': '3e8e9fefba64fe47aada033ac68b6e97b3ca71a1d45879ebba28cd6aa5dcad55'}}]"
      ]
     },
     "execution_count": 15,
     "metadata": {},
     "output_type": "execute_result"
    }
   ],
   "source": [
    "content = s3.list_objects(Bucket=bucket)[\"Contents\"]\n",
    "content"
   ]
  },
  {
   "cell_type": "code",
   "execution_count": 20,
   "id": "886d7346-2295-4e16-b78d-5bcdd4ea6877",
   "metadata": {
    "tags": []
   },
   "outputs": [
    {
     "name": "stdout",
     "output_type": "stream",
     "text": [
      "CSV to Parquet conversion completed!\n"
     ]
    }
   ],
   "source": [
    "\n",
    "\n",
    "\n",
    "# Get list of CSV objects in the bucket (with prefix if provided)\n",
    "paginator = s3.get_paginator(\"list_objects_v2\")\n",
    "pages = paginator.paginate(Bucket=bucket, Prefix='')\n",
    "\n",
    "for page in pages:\n",
    "    for obj in page.get(\"Contents\", []):\n",
    "        csv_key = obj[\"Key\"]\n",
    "\n",
    "        if not csv_key.endswith(\".csv\") or \"crsp_stock_2023\" in csv_key:\n",
    "            continue\n",
    "\n",
    "        # Generate output Parquet key with same filename (replace extension)\n",
    "        utilities.convert_csv_to_parquet(s3, csv_key)\n",
    "\n",
    "print(\"CSV to Parquet conversion completed!\")"
   ]
  }
 ],
 "metadata": {
  "kernelspec": {
   "display_name": "Python 3 (ipykernel)",
   "language": "python",
   "name": "python3"
  },
  "language_info": {
   "codemirror_mode": {
    "name": "ipython",
    "version": 3
   },
   "file_extension": ".py",
   "mimetype": "text/x-python",
   "name": "python",
   "nbconvert_exporter": "python",
   "pygments_lexer": "ipython3",
   "version": "3.10.14"
  }
 },
 "nbformat": 4,
 "nbformat_minor": 5
}
