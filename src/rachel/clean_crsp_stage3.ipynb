{
 "cells": [
  {
   "cell_type": "markdown",
   "metadata": {},
   "source": [
    "# Setup the Env"
   ]
  },
  {
   "cell_type": "code",
   "execution_count": 1,
   "metadata": {},
   "outputs": [
    {
     "name": "stdout",
     "output_type": "stream",
     "text": [
      "sagemaker.config INFO - Not applying SDK defaults from location: /etc/xdg/sagemaker/config.yaml\n",
      "sagemaker.config INFO - Not applying SDK defaults from location: /home/sagemaker-user/.config/sagemaker/config.yaml\n",
      "/home/sagemaker-user/capstone-2024-summer/src/rachel\n"
     ]
    }
   ],
   "source": [
    "import sys\n",
    "import os\n",
    "\n",
    "import sagemaker\n",
    "from sagemaker import get_execution_role\n",
    "\n",
    "# Add the parent directory to the sys.path\n",
    "sys.path.insert(0, os.path.abspath('..'))\n",
    "\n",
    "# Define IAM role\n",
    "role = get_execution_role()\n",
    "role\n",
    "\n",
    "# Establish S3 bucket connection\n",
    "import boto3\n",
    "s3 = boto3.client('s3')\n",
    "bucket = 'capstone-bucket-4-friends'\n",
    "\n",
    "# Take a look at current dir\n",
    "print(os.getcwd())\n",
    "\n",
    "from file_utilities import s3_download "
   ]
  },
  {
   "cell_type": "markdown",
   "metadata": {
    "id": "gey0gI-R-q-P"
   },
   "source": [
    "# Import libraries"
   ]
  },
  {
   "cell_type": "code",
   "execution_count": 2,
   "metadata": {
    "colab": {
     "base_uri": "https://localhost:8080/"
    },
    "executionInfo": {
     "elapsed": 4097,
     "status": "ok",
     "timestamp": 1718945379206,
     "user": {
      "displayName": "Rachel Gao",
      "userId": "10756354987170970544"
     },
     "user_tz": 420
    },
    "id": "4advojzZJ3Kc",
    "outputId": "4b2e329d-bf7a-455d-9750-57705cd48bde"
   },
   "outputs": [],
   "source": [
    "# standard libraries\n",
    "import numpy as np\n",
    "import pandas as pd\n",
    "\n",
    "# visualization\n",
    "import matplotlib.pyplot as plt\n",
    "!pip install seaborn -q\n",
    "import seaborn as sns"
   ]
  },
  {
   "cell_type": "markdown",
   "metadata": {},
   "source": [
    "# Download Data from S3 as needed"
   ]
  },
  {
   "cell_type": "code",
   "execution_count": 3,
   "metadata": {},
   "outputs": [],
   "source": [
    "#crsp = \"CRSP/crsp_2018-2023.csv\"\n",
    "#crsp_path = s3_download(crsp)"
   ]
  },
  {
   "cell_type": "code",
   "execution_count": 4,
   "metadata": {},
   "outputs": [],
   "source": [
    "#index = \"Index/security_master.csv\"\n",
    "#index_path = s3_download(index)"
   ]
  },
  {
   "cell_type": "markdown",
   "metadata": {
    "id": "NL5urp2nAL4f"
   },
   "source": [
    "# Load the dataset\n",
    "\n",
    "https://www.crsp.org/wp-content/uploads/guides/CRSP_US_Stock_&_Indexes_Database_Data_Descriptions_Guide.pdf"
   ]
  },
  {
   "cell_type": "code",
   "execution_count": 5,
   "metadata": {},
   "outputs": [],
   "source": [
    "dtype_dict = {\n",
    "    'permno_id': 'object',\n",
    "    'ncusip_id': 'object',\n",
    "    'cusip_id': 'object',\n",
    "    'ticker': 'object',\n",
    "    'share_code': 'object',\n",
    "    'share_code_type': 'object',\n",
    "    'share_code_detail': 'object',\n",
    "    'exchange_code': 'object',\n",
    "    'company_name': 'object',\n",
    "    'primary_exchange': 'object',\n",
    "    'trading_status': 'object',\n",
    "    'security_status': 'object',\n",
    "    'naics': 'object',\n",
    "    'naics_sector': 'object',\n",
    "    'naics_secondary': 'object',\n",
    "    'ask_or_high_price': 'float64',\n",
    "    'ask_price': 'float64',\n",
    "    'bid_or_low_price': 'float64',\n",
    "    'bid_price': 'float64',\n",
    "    'open_price': 'float64',\n",
    "    'close_price': 'float64',\n",
    "    'return': 'float64',\n",
    "    'volume': 'int64',\n",
    "    'shares_outstanding': 'int64',\n",
    "    'num_trades': 'int64',\n",
    "    'factor_to_adjust_price': 'float64',\n",
    "    'factor_to_adjust_shares': 'float64',\n",
    "    'value_weighted_return': 'float64',\n",
    "    'equal_weighted_return': 'float64',\n",
    "    'return_on_SP_index': 'float64',\n",
    "    'log_return': 'float64',\n",
    "    'market_cap': 'float64',\n",
    "    'weighted_price': 'float64',\n",
    "    'sector_weighted_avg_log_return': 'float64',\n",
    "    'sector_simple_avg_log_return': 'float64',\n",
    "    'weighted_avg_log_return': 'float64',\n",
    "    'simple_avg_log_return': 'float64'\n",
    "}"
   ]
  },
  {
   "cell_type": "code",
   "execution_count": 6,
   "metadata": {
    "colab": {
     "base_uri": "https://localhost:8080/",
     "height": 342
    },
    "executionInfo": {
     "elapsed": 20455,
     "status": "ok",
     "timestamp": 1718945399659,
     "user": {
      "displayName": "Rachel Gao",
      "userId": "10756354987170970544"
     },
     "user_tz": 420
    },
    "id": "qZZUgwZ7AqVA",
    "outputId": "34376b81-a99c-4130-b548-ef00faaa2465"
   },
   "outputs": [
    {
     "data": {
      "text/html": [
       "<div>\n",
       "<style scoped>\n",
       "    .dataframe tbody tr th:only-of-type {\n",
       "        vertical-align: middle;\n",
       "    }\n",
       "\n",
       "    .dataframe tbody tr th {\n",
       "        vertical-align: top;\n",
       "    }\n",
       "\n",
       "    .dataframe thead th {\n",
       "        text-align: right;\n",
       "    }\n",
       "</style>\n",
       "<table border=\"1\" class=\"dataframe\">\n",
       "  <thead>\n",
       "    <tr style=\"text-align: right;\">\n",
       "      <th></th>\n",
       "      <th>date</th>\n",
       "      <th>permno_id</th>\n",
       "      <th>ncusip_id</th>\n",
       "      <th>cusip_id</th>\n",
       "      <th>ticker</th>\n",
       "      <th>share_code</th>\n",
       "      <th>share_code_type</th>\n",
       "      <th>share_code_detail</th>\n",
       "      <th>exchange_code</th>\n",
       "      <th>company_name</th>\n",
       "      <th>...</th>\n",
       "      <th>value_weighted_return</th>\n",
       "      <th>equal_weighted_return</th>\n",
       "      <th>return_on_SP_index</th>\n",
       "      <th>log_return</th>\n",
       "      <th>market_cap</th>\n",
       "      <th>weighted_price</th>\n",
       "      <th>sector_weighted_avg_log_return</th>\n",
       "      <th>sector_simple_avg_log_return</th>\n",
       "      <th>weighted_avg_log_return</th>\n",
       "      <th>simple_avg_log_return</th>\n",
       "    </tr>\n",
       "  </thead>\n",
       "  <tbody>\n",
       "    <tr>\n",
       "      <th>0</th>\n",
       "      <td>2018-01-02</td>\n",
       "      <td>10026</td>\n",
       "      <td>46603210</td>\n",
       "      <td>46603210</td>\n",
       "      <td>JJSF</td>\n",
       "      <td>11.0</td>\n",
       "      <td>1</td>\n",
       "      <td>1</td>\n",
       "      <td>3</td>\n",
       "      <td>J &amp; J SNACK FOODS CORP</td>\n",
       "      <td>...</td>\n",
       "      <td>0.008505</td>\n",
       "      <td>0.011232</td>\n",
       "      <td>0.008303</td>\n",
       "      <td>-0.017608</td>\n",
       "      <td>2.784892e+06</td>\n",
       "      <td>4.154502e+08</td>\n",
       "      <td>0.000000</td>\n",
       "      <td>0.000000</td>\n",
       "      <td>-0.0</td>\n",
       "      <td>-0.00064</td>\n",
       "    </tr>\n",
       "    <tr>\n",
       "      <th>1</th>\n",
       "      <td>2018-01-03</td>\n",
       "      <td>10026</td>\n",
       "      <td>46603210</td>\n",
       "      <td>46603210</td>\n",
       "      <td>JJSF</td>\n",
       "      <td>11.0</td>\n",
       "      <td>1</td>\n",
       "      <td>1</td>\n",
       "      <td>3</td>\n",
       "      <td>J &amp; J SNACK FOODS CORP</td>\n",
       "      <td>...</td>\n",
       "      <td>0.005856</td>\n",
       "      <td>0.005103</td>\n",
       "      <td>0.006399</td>\n",
       "      <td>-0.010038</td>\n",
       "      <td>2.757077e+06</td>\n",
       "      <td>4.071927e+08</td>\n",
       "      <td>0.009281</td>\n",
       "      <td>-0.003229</td>\n",
       "      <td>-0.0</td>\n",
       "      <td>-0.00064</td>\n",
       "    </tr>\n",
       "    <tr>\n",
       "      <th>2</th>\n",
       "      <td>2018-01-04</td>\n",
       "      <td>10026</td>\n",
       "      <td>46603210</td>\n",
       "      <td>46603210</td>\n",
       "      <td>JJSF</td>\n",
       "      <td>11.0</td>\n",
       "      <td>1</td>\n",
       "      <td>1</td>\n",
       "      <td>3</td>\n",
       "      <td>J &amp; J SNACK FOODS CORP</td>\n",
       "      <td>...</td>\n",
       "      <td>0.004001</td>\n",
       "      <td>0.005272</td>\n",
       "      <td>0.004029</td>\n",
       "      <td>0.013718</td>\n",
       "      <td>2.795160e+06</td>\n",
       "      <td>4.185193e+08</td>\n",
       "      <td>0.000556</td>\n",
       "      <td>0.006031</td>\n",
       "      <td>0.0</td>\n",
       "      <td>-0.00064</td>\n",
       "    </tr>\n",
       "    <tr>\n",
       "      <th>3</th>\n",
       "      <td>2018-01-05</td>\n",
       "      <td>10026</td>\n",
       "      <td>46603210</td>\n",
       "      <td>46603210</td>\n",
       "      <td>JJSF</td>\n",
       "      <td>11.0</td>\n",
       "      <td>1</td>\n",
       "      <td>1</td>\n",
       "      <td>3</td>\n",
       "      <td>J &amp; J SNACK FOODS CORP</td>\n",
       "      <td>...</td>\n",
       "      <td>0.005804</td>\n",
       "      <td>0.003880</td>\n",
       "      <td>0.007034</td>\n",
       "      <td>-0.009596</td>\n",
       "      <td>2.768464e+06</td>\n",
       "      <td>4.105633e+08</td>\n",
       "      <td>0.008654</td>\n",
       "      <td>0.005565</td>\n",
       "      <td>-0.0</td>\n",
       "      <td>-0.00064</td>\n",
       "    </tr>\n",
       "    <tr>\n",
       "      <th>4</th>\n",
       "      <td>2018-01-08</td>\n",
       "      <td>10026</td>\n",
       "      <td>46603210</td>\n",
       "      <td>46603210</td>\n",
       "      <td>JJSF</td>\n",
       "      <td>11.0</td>\n",
       "      <td>1</td>\n",
       "      <td>1</td>\n",
       "      <td>3</td>\n",
       "      <td>J &amp; J SNACK FOODS CORP</td>\n",
       "      <td>...</td>\n",
       "      <td>0.001816</td>\n",
       "      <td>0.000584</td>\n",
       "      <td>0.001662</td>\n",
       "      <td>0.000742</td>\n",
       "      <td>2.770518e+06</td>\n",
       "      <td>4.111726e+08</td>\n",
       "      <td>0.004083</td>\n",
       "      <td>0.005570</td>\n",
       "      <td>0.0</td>\n",
       "      <td>-0.00064</td>\n",
       "    </tr>\n",
       "  </tbody>\n",
       "</table>\n",
       "<p>5 rows × 38 columns</p>\n",
       "</div>"
      ],
      "text/plain": [
       "        date permno_id ncusip_id  cusip_id ticker share_code share_code_type  \\\n",
       "0 2018-01-02     10026  46603210  46603210   JJSF       11.0               1   \n",
       "1 2018-01-03     10026  46603210  46603210   JJSF       11.0               1   \n",
       "2 2018-01-04     10026  46603210  46603210   JJSF       11.0               1   \n",
       "3 2018-01-05     10026  46603210  46603210   JJSF       11.0               1   \n",
       "4 2018-01-08     10026  46603210  46603210   JJSF       11.0               1   \n",
       "\n",
       "  share_code_detail exchange_code            company_name  ...  \\\n",
       "0                 1             3  J & J SNACK FOODS CORP  ...   \n",
       "1                 1             3  J & J SNACK FOODS CORP  ...   \n",
       "2                 1             3  J & J SNACK FOODS CORP  ...   \n",
       "3                 1             3  J & J SNACK FOODS CORP  ...   \n",
       "4                 1             3  J & J SNACK FOODS CORP  ...   \n",
       "\n",
       "  value_weighted_return equal_weighted_return return_on_SP_index log_return  \\\n",
       "0              0.008505              0.011232           0.008303  -0.017608   \n",
       "1              0.005856              0.005103           0.006399  -0.010038   \n",
       "2              0.004001              0.005272           0.004029   0.013718   \n",
       "3              0.005804              0.003880           0.007034  -0.009596   \n",
       "4              0.001816              0.000584           0.001662   0.000742   \n",
       "\n",
       "     market_cap weighted_price  sector_weighted_avg_log_return  \\\n",
       "0  2.784892e+06   4.154502e+08                        0.000000   \n",
       "1  2.757077e+06   4.071927e+08                        0.009281   \n",
       "2  2.795160e+06   4.185193e+08                        0.000556   \n",
       "3  2.768464e+06   4.105633e+08                        0.008654   \n",
       "4  2.770518e+06   4.111726e+08                        0.004083   \n",
       "\n",
       "   sector_simple_avg_log_return  weighted_avg_log_return  \\\n",
       "0                      0.000000                     -0.0   \n",
       "1                     -0.003229                     -0.0   \n",
       "2                      0.006031                      0.0   \n",
       "3                      0.005565                     -0.0   \n",
       "4                      0.005570                      0.0   \n",
       "\n",
       "   simple_avg_log_return  \n",
       "0               -0.00064  \n",
       "1               -0.00064  \n",
       "2               -0.00064  \n",
       "3               -0.00064  \n",
       "4               -0.00064  \n",
       "\n",
       "[5 rows x 38 columns]"
      ]
     },
     "execution_count": 6,
     "metadata": {},
     "output_type": "execute_result"
    }
   ],
   "source": [
    "crsp_df = pd.read_csv(\"/home/sagemaker-user/capstone-2024-summer/data/crsp_2018-2023_clean_2.csv\", dtype=dtype_dict, parse_dates=[\"date\"])\n",
    "\n",
    "crsp_df.head()"
   ]
  },
  {
   "cell_type": "code",
   "execution_count": 7,
   "metadata": {
    "colab": {
     "base_uri": "https://localhost:8080/",
     "height": 308
    },
    "executionInfo": {
     "elapsed": 18,
     "status": "ok",
     "timestamp": 1718945399659,
     "user": {
      "displayName": "Rachel Gao",
      "userId": "10756354987170970544"
     },
     "user_tz": 420
    },
    "id": "SJnycJFqEXmt",
    "outputId": "6f4e2bea-11b4-432a-edb2-71f7538bd380"
   },
   "outputs": [
    {
     "data": {
      "text/html": [
       "<div>\n",
       "<style scoped>\n",
       "    .dataframe tbody tr th:only-of-type {\n",
       "        vertical-align: middle;\n",
       "    }\n",
       "\n",
       "    .dataframe tbody tr th {\n",
       "        vertical-align: top;\n",
       "    }\n",
       "\n",
       "    .dataframe thead th {\n",
       "        text-align: right;\n",
       "    }\n",
       "</style>\n",
       "<table border=\"1\" class=\"dataframe\">\n",
       "  <thead>\n",
       "    <tr style=\"text-align: right;\">\n",
       "      <th></th>\n",
       "      <th>cusip</th>\n",
       "      <th>PERMNO</th>\n",
       "      <th>PERMCO</th>\n",
       "      <th>HSHRCD</th>\n",
       "      <th>DLSTCD</th>\n",
       "      <th>HTICK</th>\n",
       "      <th>HCOMNAM</th>\n",
       "      <th>HTSYMBOL</th>\n",
       "      <th>HNAICS</th>\n",
       "      <th>HPRIMEXC</th>\n",
       "      <th>...</th>\n",
       "      <th>NUMDEL</th>\n",
       "      <th>NUMNDI</th>\n",
       "      <th>BEGDAT</th>\n",
       "      <th>ENDDAT</th>\n",
       "      <th>BEGPRC</th>\n",
       "      <th>ENDPRC</th>\n",
       "      <th>BEGRET</th>\n",
       "      <th>ENDRET</th>\n",
       "      <th>BEGVOL</th>\n",
       "      <th>ENDVOL</th>\n",
       "    </tr>\n",
       "  </thead>\n",
       "  <tbody>\n",
       "    <tr>\n",
       "      <th>0</th>\n",
       "      <td>00130H10</td>\n",
       "      <td>76712</td>\n",
       "      <td>10996</td>\n",
       "      <td>11</td>\n",
       "      <td>100</td>\n",
       "      <td>AES</td>\n",
       "      <td>A E S CORP</td>\n",
       "      <td>AES</td>\n",
       "      <td>221118</td>\n",
       "      <td>N</td>\n",
       "      <td>...</td>\n",
       "      <td>1</td>\n",
       "      <td>68</td>\n",
       "      <td>06/26/1991</td>\n",
       "      <td>12/29/2023</td>\n",
       "      <td>06/26/1991</td>\n",
       "      <td>12/29/2023</td>\n",
       "      <td>06/26/1991</td>\n",
       "      <td>12/29/2023</td>\n",
       "      <td>06/26/1991</td>\n",
       "      <td>12/29/2023</td>\n",
       "    </tr>\n",
       "    <tr>\n",
       "      <th>1</th>\n",
       "      <td>00206R10</td>\n",
       "      <td>66093</td>\n",
       "      <td>21645</td>\n",
       "      <td>11</td>\n",
       "      <td>100</td>\n",
       "      <td>T</td>\n",
       "      <td>A T &amp; T INC</td>\n",
       "      <td>T</td>\n",
       "      <td>517312</td>\n",
       "      <td>N</td>\n",
       "      <td>...</td>\n",
       "      <td>1</td>\n",
       "      <td>0</td>\n",
       "      <td>02/16/1984</td>\n",
       "      <td>12/29/2023</td>\n",
       "      <td>02/16/1984</td>\n",
       "      <td>12/29/2023</td>\n",
       "      <td>02/16/1984</td>\n",
       "      <td>12/29/2023</td>\n",
       "      <td>02/16/1984</td>\n",
       "      <td>12/29/2023</td>\n",
       "    </tr>\n",
       "    <tr>\n",
       "      <th>2</th>\n",
       "      <td>00507V10</td>\n",
       "      <td>79678</td>\n",
       "      <td>12499</td>\n",
       "      <td>11</td>\n",
       "      <td>233</td>\n",
       "      <td>NaN</td>\n",
       "      <td>ACTIVISION BLIZZARD INC</td>\n",
       "      <td>ATVI</td>\n",
       "      <td>513210</td>\n",
       "      <td>Q</td>\n",
       "      <td>...</td>\n",
       "      <td>1</td>\n",
       "      <td>1968</td>\n",
       "      <td>10/22/1993</td>\n",
       "      <td>10/12/2023</td>\n",
       "      <td>10/22/1993</td>\n",
       "      <td>10/12/2023</td>\n",
       "      <td>10/22/1993</td>\n",
       "      <td>10/12/2023</td>\n",
       "      <td>10/22/1993</td>\n",
       "      <td>10/12/2023</td>\n",
       "    </tr>\n",
       "    <tr>\n",
       "      <th>3</th>\n",
       "      <td>00724F10</td>\n",
       "      <td>75510</td>\n",
       "      <td>8476</td>\n",
       "      <td>11</td>\n",
       "      <td>100</td>\n",
       "      <td>ADBE</td>\n",
       "      <td>ADOBE INC</td>\n",
       "      <td>ADBE</td>\n",
       "      <td>511210</td>\n",
       "      <td>Q</td>\n",
       "      <td>...</td>\n",
       "      <td>1</td>\n",
       "      <td>2185</td>\n",
       "      <td>08/13/1986</td>\n",
       "      <td>12/29/2023</td>\n",
       "      <td>08/13/1986</td>\n",
       "      <td>12/29/2023</td>\n",
       "      <td>08/13/1986</td>\n",
       "      <td>12/29/2023</td>\n",
       "      <td>08/13/1986</td>\n",
       "      <td>12/29/2023</td>\n",
       "    </tr>\n",
       "    <tr>\n",
       "      <th>4</th>\n",
       "      <td>00971T10</td>\n",
       "      <td>87299</td>\n",
       "      <td>17300</td>\n",
       "      <td>11</td>\n",
       "      <td>100</td>\n",
       "      <td>AKAM</td>\n",
       "      <td>AKAMAI TECHNOLOGIES INC</td>\n",
       "      <td>AKAM</td>\n",
       "      <td>511210</td>\n",
       "      <td>Q</td>\n",
       "      <td>...</td>\n",
       "      <td>1</td>\n",
       "      <td>1722</td>\n",
       "      <td>10/29/1999</td>\n",
       "      <td>12/29/2023</td>\n",
       "      <td>10/29/1999</td>\n",
       "      <td>12/29/2023</td>\n",
       "      <td>10/29/1999</td>\n",
       "      <td>12/29/2023</td>\n",
       "      <td>10/29/1999</td>\n",
       "      <td>12/29/2023</td>\n",
       "    </tr>\n",
       "  </tbody>\n",
       "</table>\n",
       "<p>5 rows × 29 columns</p>\n",
       "</div>"
      ],
      "text/plain": [
       "      cusip  PERMNO  PERMCO  HSHRCD  DLSTCD HTICK                  HCOMNAM  \\\n",
       "0  00130H10   76712   10996      11     100   AES               A E S CORP   \n",
       "1  00206R10   66093   21645      11     100     T              A T & T INC   \n",
       "2  00507V10   79678   12499      11     233   NaN  ACTIVISION BLIZZARD INC   \n",
       "3  00724F10   75510    8476      11     100  ADBE                ADOBE INC   \n",
       "4  00971T10   87299   17300      11     100  AKAM  AKAMAI TECHNOLOGIES INC   \n",
       "\n",
       "  HTSYMBOL  HNAICS HPRIMEXC  ... NUMDEL NUMNDI      BEGDAT      ENDDAT  \\\n",
       "0      AES  221118        N  ...      1     68  06/26/1991  12/29/2023   \n",
       "1        T  517312        N  ...      1      0  02/16/1984  12/29/2023   \n",
       "2     ATVI  513210        Q  ...      1   1968  10/22/1993  10/12/2023   \n",
       "3     ADBE  511210        Q  ...      1   2185  08/13/1986  12/29/2023   \n",
       "4     AKAM  511210        Q  ...      1   1722  10/29/1999  12/29/2023   \n",
       "\n",
       "       BEGPRC      ENDPRC      BEGRET      ENDRET      BEGVOL      ENDVOL  \n",
       "0  06/26/1991  12/29/2023  06/26/1991  12/29/2023  06/26/1991  12/29/2023  \n",
       "1  02/16/1984  12/29/2023  02/16/1984  12/29/2023  02/16/1984  12/29/2023  \n",
       "2  10/22/1993  10/12/2023  10/22/1993  10/12/2023  10/22/1993  10/12/2023  \n",
       "3  08/13/1986  12/29/2023  08/13/1986  12/29/2023  08/13/1986  12/29/2023  \n",
       "4  10/29/1999  12/29/2023  10/29/1999  12/29/2023  10/29/1999  12/29/2023  \n",
       "\n",
       "[5 rows x 29 columns]"
      ]
     },
     "execution_count": 7,
     "metadata": {},
     "output_type": "execute_result"
    }
   ],
   "source": [
    "sp500_df = pd.read_csv(\"/home/sagemaker-user/capstone-2024-summer/data/security_master.csv\")\n",
    "\n",
    "sp500_df.head()"
   ]
  },
  {
   "cell_type": "markdown",
   "metadata": {
    "id": "k4Sdl7bhbYlY"
   },
   "source": [
    "# Take a look at the columns"
   ]
  },
  {
   "cell_type": "code",
   "execution_count": 8,
   "metadata": {
    "colab": {
     "base_uri": "https://localhost:8080/"
    },
    "executionInfo": {
     "elapsed": 14,
     "status": "ok",
     "timestamp": 1718945399659,
     "user": {
      "displayName": "Rachel Gao",
      "userId": "10756354987170970544"
     },
     "user_tz": 420
    },
    "id": "kvnFj_bSCFCN",
    "outputId": "dc823bb2-13a4-4baa-f809-3db1320069a0"
   },
   "outputs": [
    {
     "data": {
      "text/plain": [
       "Index(['date', 'permno_id', 'ncusip_id', 'cusip_id', 'ticker', 'share_code',\n",
       "       'share_code_type', 'share_code_detail', 'exchange_code', 'company_name',\n",
       "       'primary_exchange', 'trading_status', 'security_status', 'naics',\n",
       "       'naics_sector', 'naics_secondary', 'ask_or_high_price', 'ask_price',\n",
       "       'bid_or_low_price', 'bid_price', 'open_price', 'close_price', 'return',\n",
       "       'volume', 'shares_outstanding', 'num_trades', 'factor_to_adjust_price',\n",
       "       'factor_to_adjust_shares', 'value_weighted_return',\n",
       "       'equal_weighted_return', 'return_on_SP_index', 'log_return',\n",
       "       'market_cap', 'weighted_price', 'sector_weighted_avg_log_return',\n",
       "       'sector_simple_avg_log_return', 'weighted_avg_log_return',\n",
       "       'simple_avg_log_return'],\n",
       "      dtype='object')"
      ]
     },
     "execution_count": 8,
     "metadata": {},
     "output_type": "execute_result"
    }
   ],
   "source": [
    "crsp_df.columns"
   ]
  },
  {
   "cell_type": "code",
   "execution_count": 9,
   "metadata": {
    "colab": {
     "base_uri": "https://localhost:8080/"
    },
    "executionInfo": {
     "elapsed": 12,
     "status": "ok",
     "timestamp": 1718945399659,
     "user": {
      "displayName": "Rachel Gao",
      "userId": "10756354987170970544"
     },
     "user_tz": 420
    },
    "id": "anxdhdX5fLqU",
    "outputId": "a91d0844-364a-4aad-b33a-b9b4713a855a"
   },
   "outputs": [
    {
     "data": {
      "text/plain": [
       "date                              datetime64[ns]\n",
       "permno_id                                 object\n",
       "ncusip_id                                 object\n",
       "cusip_id                                  object\n",
       "ticker                                    object\n",
       "share_code                                object\n",
       "share_code_type                           object\n",
       "share_code_detail                         object\n",
       "exchange_code                             object\n",
       "company_name                              object\n",
       "primary_exchange                          object\n",
       "trading_status                            object\n",
       "security_status                           object\n",
       "naics                                     object\n",
       "naics_sector                              object\n",
       "naics_secondary                           object\n",
       "ask_or_high_price                        float64\n",
       "ask_price                                float64\n",
       "bid_or_low_price                         float64\n",
       "bid_price                                float64\n",
       "open_price                               float64\n",
       "close_price                              float64\n",
       "return                                   float64\n",
       "volume                                     int64\n",
       "shares_outstanding                         int64\n",
       "num_trades                                 int64\n",
       "factor_to_adjust_price                   float64\n",
       "factor_to_adjust_shares                  float64\n",
       "value_weighted_return                    float64\n",
       "equal_weighted_return                    float64\n",
       "return_on_SP_index                       float64\n",
       "log_return                               float64\n",
       "market_cap                               float64\n",
       "weighted_price                           float64\n",
       "sector_weighted_avg_log_return           float64\n",
       "sector_simple_avg_log_return             float64\n",
       "weighted_avg_log_return                  float64\n",
       "simple_avg_log_return                    float64\n",
       "dtype: object"
      ]
     },
     "execution_count": 9,
     "metadata": {},
     "output_type": "execute_result"
    }
   ],
   "source": [
    "crsp_df.dtypes"
   ]
  },
  {
   "cell_type": "code",
   "execution_count": 10,
   "metadata": {
    "colab": {
     "base_uri": "https://localhost:8080/"
    },
    "executionInfo": {
     "elapsed": 11,
     "status": "ok",
     "timestamp": 1718945399659,
     "user": {
      "displayName": "Rachel Gao",
      "userId": "10756354987170970544"
     },
     "user_tz": 420
    },
    "id": "y92nzlbOY00-",
    "outputId": "e8d4b9d2-55bd-487e-8700-5eb6c9834707"
   },
   "outputs": [
    {
     "name": "stdout",
     "output_type": "stream",
     "text": [
      "number of records: 7658922\n",
      "number of columns: 38\n"
     ]
    }
   ],
   "source": [
    "og_crsp_len = len(crsp_df)\n",
    "og_crsp_cols = len(crsp_df.columns)\n",
    "print(\"number of records:\", og_crsp_len)\n",
    "print(\"number of columns:\", og_crsp_cols)"
   ]
  },
  {
   "cell_type": "markdown",
   "metadata": {
    "id": "ijshNFciEiRN"
   },
   "source": [
    "## A. Keep only PERMNO in S&P500"
   ]
  },
  {
   "cell_type": "code",
   "execution_count": 11,
   "metadata": {
    "colab": {
     "base_uri": "https://localhost:8080/"
    },
    "executionInfo": {
     "elapsed": 10,
     "status": "ok",
     "timestamp": 1718945399659,
     "user": {
      "displayName": "Rachel Gao",
      "userId": "10756354987170970544"
     },
     "user_tz": 420
    },
    "id": "vIlJvWzCEmWT",
    "outputId": "edccc636-2881-4c55-d305-58b87d5705a1"
   },
   "outputs": [
    {
     "data": {
      "text/plain": [
       "594"
      ]
     },
     "execution_count": 11,
     "metadata": {},
     "output_type": "execute_result"
    }
   ],
   "source": [
    "PERMNO = sp500_df[\"PERMNO\"].astype(str).unique()\n",
    "len(PERMNO)"
   ]
  },
  {
   "cell_type": "code",
   "execution_count": 12,
   "metadata": {
    "colab": {
     "base_uri": "https://localhost:8080/"
    },
    "executionInfo": {
     "elapsed": 9,
     "status": "ok",
     "timestamp": 1718945399659,
     "user": {
      "displayName": "Rachel Gao",
      "userId": "10756354987170970544"
     },
     "user_tz": 420
    },
    "id": "wjyUroTGEuz7",
    "outputId": "1b95a1b8-6dfe-4669-e3f0-d2b6a09352e2"
   },
   "outputs": [
    {
     "name": "stdout",
     "output_type": "stream",
     "text": [
      "num_records_removed:  6849039\n",
      "num_records_kept:  809883\n"
     ]
    }
   ],
   "source": [
    "og_len = len(crsp_df)\n",
    "crsp_df = crsp_df[crsp_df[\"permno_id\"].isin(PERMNO)]\n",
    "new_len = len(crsp_df)\n",
    "print(\"num_records_removed: \", og_len - new_len)\n",
    "print(\"num_records_kept: \", new_len)"
   ]
  },
  {
   "cell_type": "code",
   "execution_count": 13,
   "metadata": {
    "colab": {
     "base_uri": "https://localhost:8080/"
    },
    "executionInfo": {
     "elapsed": 234,
     "status": "ok",
     "timestamp": 1718945399886,
     "user": {
      "displayName": "Rachel Gao",
      "userId": "10756354987170970544"
     },
     "user_tz": 420
    },
    "id": "uZ_2aannFDR2",
    "outputId": "7d5b97b8-7e86-4d8a-943b-da3a15a31efc"
   },
   "outputs": [
    {
     "data": {
      "text/plain": [
       "554"
      ]
     },
     "execution_count": 13,
     "metadata": {},
     "output_type": "execute_result"
    }
   ],
   "source": [
    "len(crsp_df[\"permno_id\"].unique())"
   ]
  },
  {
   "cell_type": "markdown",
   "metadata": {
    "id": "KPMZ-oz8FaL6"
   },
   "source": [
    "# Check a few large companies to ensure they are still in the dataset\n",
    "\n",
    "[\"GOOG\", \"NVDA\", \"TSLA\", \"AMZN\"]"
   ]
  },
  {
   "cell_type": "code",
   "execution_count": 14,
   "metadata": {
    "executionInfo": {
     "elapsed": 234,
     "status": "ok",
     "timestamp": 1718945399886,
     "user": {
      "displayName": "Rachel Gao",
      "userId": "10756354987170970544"
     },
     "user_tz": 420
    },
    "id": "mD31j_hjFq_M"
   },
   "outputs": [],
   "source": [
    "assert all(ticker in crsp_df[\"ticker\"].unique() for ticker in [\"GOOG\", \"NVDA\", \"TSLA\", \"AMZN\"])"
   ]
  },
  {
   "cell_type": "markdown",
   "metadata": {},
   "source": [
    "# Take a final look at the columns"
   ]
  },
  {
   "cell_type": "code",
   "execution_count": 15,
   "metadata": {},
   "outputs": [
    {
     "data": {
      "text/plain": [
       "Index(['date', 'permno_id', 'ncusip_id', 'cusip_id', 'ticker', 'share_code',\n",
       "       'share_code_type', 'share_code_detail', 'exchange_code', 'company_name',\n",
       "       'primary_exchange', 'trading_status', 'security_status', 'naics',\n",
       "       'naics_sector', 'naics_secondary', 'ask_or_high_price', 'ask_price',\n",
       "       'bid_or_low_price', 'bid_price', 'open_price', 'close_price', 'return',\n",
       "       'volume', 'shares_outstanding', 'num_trades', 'factor_to_adjust_price',\n",
       "       'factor_to_adjust_shares', 'value_weighted_return',\n",
       "       'equal_weighted_return', 'return_on_SP_index', 'log_return',\n",
       "       'market_cap', 'weighted_price', 'sector_weighted_avg_log_return',\n",
       "       'sector_simple_avg_log_return', 'weighted_avg_log_return',\n",
       "       'simple_avg_log_return'],\n",
       "      dtype='object')"
      ]
     },
     "execution_count": 15,
     "metadata": {},
     "output_type": "execute_result"
    }
   ],
   "source": [
    "crsp_df.columns"
   ]
  },
  {
   "cell_type": "code",
   "execution_count": 16,
   "metadata": {},
   "outputs": [
    {
     "data": {
      "text/plain": [
       "date                              datetime64[ns]\n",
       "permno_id                                 object\n",
       "ncusip_id                                 object\n",
       "cusip_id                                  object\n",
       "ticker                                    object\n",
       "share_code                                object\n",
       "share_code_type                           object\n",
       "share_code_detail                         object\n",
       "exchange_code                             object\n",
       "company_name                              object\n",
       "primary_exchange                          object\n",
       "trading_status                            object\n",
       "security_status                           object\n",
       "naics                                     object\n",
       "naics_sector                              object\n",
       "naics_secondary                           object\n",
       "ask_or_high_price                        float64\n",
       "ask_price                                float64\n",
       "bid_or_low_price                         float64\n",
       "bid_price                                float64\n",
       "open_price                               float64\n",
       "close_price                              float64\n",
       "return                                   float64\n",
       "volume                                     int64\n",
       "shares_outstanding                         int64\n",
       "num_trades                                 int64\n",
       "factor_to_adjust_price                   float64\n",
       "factor_to_adjust_shares                  float64\n",
       "value_weighted_return                    float64\n",
       "equal_weighted_return                    float64\n",
       "return_on_SP_index                       float64\n",
       "log_return                               float64\n",
       "market_cap                               float64\n",
       "weighted_price                           float64\n",
       "sector_weighted_avg_log_return           float64\n",
       "sector_simple_avg_log_return             float64\n",
       "weighted_avg_log_return                  float64\n",
       "simple_avg_log_return                    float64\n",
       "dtype: object"
      ]
     },
     "execution_count": 16,
     "metadata": {},
     "output_type": "execute_result"
    }
   ],
   "source": [
    "crsp_df.dtypes"
   ]
  },
  {
   "cell_type": "code",
   "execution_count": 17,
   "metadata": {},
   "outputs": [
    {
     "name": "stdout",
     "output_type": "stream",
     "text": [
      "number of records: 809883\n",
      "number of columns: 38\n"
     ]
    }
   ],
   "source": [
    "crsp_len = len(crsp_df)\n",
    "crsp_cols = len(crsp_df.columns)\n",
    "print(\"number of records:\", crsp_len)\n",
    "print(\"number of columns:\", crsp_cols)"
   ]
  },
  {
   "cell_type": "markdown",
   "metadata": {},
   "source": [
    "# Save the cleaned df as csv & parquet"
   ]
  },
  {
   "cell_type": "code",
   "execution_count": 18,
   "metadata": {},
   "outputs": [],
   "source": [
    "crsp_df.to_csv(\"/home/sagemaker-user/capstone-2024-summer/data/crsp_2018-2023_clean_3.csv\", index=False)\n",
    "crsp_df.to_parquet(\"/home/sagemaker-user/capstone-2024-summer/data/crsp_2018-2023_clean_3.parquet\")"
   ]
  },
  {
   "cell_type": "code",
   "execution_count": 19,
   "metadata": {},
   "outputs": [
    {
     "data": {
      "text/html": [
       "<div>\n",
       "<style scoped>\n",
       "    .dataframe tbody tr th:only-of-type {\n",
       "        vertical-align: middle;\n",
       "    }\n",
       "\n",
       "    .dataframe tbody tr th {\n",
       "        vertical-align: top;\n",
       "    }\n",
       "\n",
       "    .dataframe thead th {\n",
       "        text-align: right;\n",
       "    }\n",
       "</style>\n",
       "<table border=\"1\" class=\"dataframe\">\n",
       "  <thead>\n",
       "    <tr style=\"text-align: right;\">\n",
       "      <th></th>\n",
       "      <th>date</th>\n",
       "      <th>permno_id</th>\n",
       "      <th>ncusip_id</th>\n",
       "      <th>cusip_id</th>\n",
       "      <th>ticker</th>\n",
       "      <th>share_code</th>\n",
       "      <th>share_code_type</th>\n",
       "      <th>share_code_detail</th>\n",
       "      <th>exchange_code</th>\n",
       "      <th>company_name</th>\n",
       "      <th>...</th>\n",
       "      <th>value_weighted_return</th>\n",
       "      <th>equal_weighted_return</th>\n",
       "      <th>return_on_SP_index</th>\n",
       "      <th>log_return</th>\n",
       "      <th>market_cap</th>\n",
       "      <th>weighted_price</th>\n",
       "      <th>sector_weighted_avg_log_return</th>\n",
       "      <th>sector_simple_avg_log_return</th>\n",
       "      <th>weighted_avg_log_return</th>\n",
       "      <th>simple_avg_log_return</th>\n",
       "    </tr>\n",
       "  </thead>\n",
       "  <tbody>\n",
       "    <tr>\n",
       "      <th>9263</th>\n",
       "      <td>2018-01-02</td>\n",
       "      <td>10104</td>\n",
       "      <td>68389X10</td>\n",
       "      <td>68389X10</td>\n",
       "      <td>ORCL</td>\n",
       "      <td>11.0</td>\n",
       "      <td>1</td>\n",
       "      <td>1</td>\n",
       "      <td>1</td>\n",
       "      <td>ORACLE CORP</td>\n",
       "      <td>...</td>\n",
       "      <td>0.008505</td>\n",
       "      <td>0.011232</td>\n",
       "      <td>0.008303</td>\n",
       "      <td>-0.013843</td>\n",
       "      <td>1.930296e+08</td>\n",
       "      <td>9.000972e+09</td>\n",
       "      <td>0.000000</td>\n",
       "      <td>0.000000</td>\n",
       "      <td>-0.0</td>\n",
       "      <td>-0.00064</td>\n",
       "    </tr>\n",
       "    <tr>\n",
       "      <th>9264</th>\n",
       "      <td>2018-01-03</td>\n",
       "      <td>10104</td>\n",
       "      <td>68389X10</td>\n",
       "      <td>68389X10</td>\n",
       "      <td>ORCL</td>\n",
       "      <td>11.0</td>\n",
       "      <td>1</td>\n",
       "      <td>1</td>\n",
       "      <td>1</td>\n",
       "      <td>ORACLE CORP</td>\n",
       "      <td>...</td>\n",
       "      <td>0.005856</td>\n",
       "      <td>0.005103</td>\n",
       "      <td>0.006399</td>\n",
       "      <td>0.022897</td>\n",
       "      <td>1.975004e+08</td>\n",
       "      <td>9.422745e+09</td>\n",
       "      <td>0.021973</td>\n",
       "      <td>0.005694</td>\n",
       "      <td>0.0</td>\n",
       "      <td>-0.00064</td>\n",
       "    </tr>\n",
       "    <tr>\n",
       "      <th>9265</th>\n",
       "      <td>2018-01-04</td>\n",
       "      <td>10104</td>\n",
       "      <td>68389X10</td>\n",
       "      <td>68389X10</td>\n",
       "      <td>ORCL</td>\n",
       "      <td>11.0</td>\n",
       "      <td>1</td>\n",
       "      <td>1</td>\n",
       "      <td>1</td>\n",
       "      <td>ORACLE CORP</td>\n",
       "      <td>...</td>\n",
       "      <td>0.004001</td>\n",
       "      <td>0.005272</td>\n",
       "      <td>0.004029</td>\n",
       "      <td>0.009803</td>\n",
       "      <td>1.994460e+08</td>\n",
       "      <td>9.609309e+09</td>\n",
       "      <td>0.002940</td>\n",
       "      <td>0.001681</td>\n",
       "      <td>0.0</td>\n",
       "      <td>-0.00064</td>\n",
       "    </tr>\n",
       "    <tr>\n",
       "      <th>9266</th>\n",
       "      <td>2018-01-05</td>\n",
       "      <td>10104</td>\n",
       "      <td>68389X10</td>\n",
       "      <td>68389X10</td>\n",
       "      <td>ORCL</td>\n",
       "      <td>11.0</td>\n",
       "      <td>1</td>\n",
       "      <td>1</td>\n",
       "      <td>1</td>\n",
       "      <td>ORACLE CORP</td>\n",
       "      <td>...</td>\n",
       "      <td>0.005804</td>\n",
       "      <td>0.003880</td>\n",
       "      <td>0.007034</td>\n",
       "      <td>0.006001</td>\n",
       "      <td>2.006465e+08</td>\n",
       "      <td>9.725336e+09</td>\n",
       "      <td>0.015718</td>\n",
       "      <td>0.004005</td>\n",
       "      <td>0.0</td>\n",
       "      <td>-0.00064</td>\n",
       "    </tr>\n",
       "    <tr>\n",
       "      <th>9267</th>\n",
       "      <td>2018-01-08</td>\n",
       "      <td>10104</td>\n",
       "      <td>68389X10</td>\n",
       "      <td>68389X10</td>\n",
       "      <td>ORCL</td>\n",
       "      <td>11.0</td>\n",
       "      <td>1</td>\n",
       "      <td>1</td>\n",
       "      <td>1</td>\n",
       "      <td>ORACLE CORP</td>\n",
       "      <td>...</td>\n",
       "      <td>0.001816</td>\n",
       "      <td>0.000584</td>\n",
       "      <td>0.001662</td>\n",
       "      <td>0.010467</td>\n",
       "      <td>2.027577e+08</td>\n",
       "      <td>9.931072e+09</td>\n",
       "      <td>0.006267</td>\n",
       "      <td>0.009789</td>\n",
       "      <td>0.0</td>\n",
       "      <td>-0.00064</td>\n",
       "    </tr>\n",
       "  </tbody>\n",
       "</table>\n",
       "<p>5 rows × 38 columns</p>\n",
       "</div>"
      ],
      "text/plain": [
       "           date permno_id ncusip_id  cusip_id ticker share_code  \\\n",
       "9263 2018-01-02     10104  68389X10  68389X10   ORCL       11.0   \n",
       "9264 2018-01-03     10104  68389X10  68389X10   ORCL       11.0   \n",
       "9265 2018-01-04     10104  68389X10  68389X10   ORCL       11.0   \n",
       "9266 2018-01-05     10104  68389X10  68389X10   ORCL       11.0   \n",
       "9267 2018-01-08     10104  68389X10  68389X10   ORCL       11.0   \n",
       "\n",
       "     share_code_type share_code_detail exchange_code company_name  ...  \\\n",
       "9263               1                 1             1  ORACLE CORP  ...   \n",
       "9264               1                 1             1  ORACLE CORP  ...   \n",
       "9265               1                 1             1  ORACLE CORP  ...   \n",
       "9266               1                 1             1  ORACLE CORP  ...   \n",
       "9267               1                 1             1  ORACLE CORP  ...   \n",
       "\n",
       "     value_weighted_return equal_weighted_return return_on_SP_index  \\\n",
       "9263              0.008505              0.011232           0.008303   \n",
       "9264              0.005856              0.005103           0.006399   \n",
       "9265              0.004001              0.005272           0.004029   \n",
       "9266              0.005804              0.003880           0.007034   \n",
       "9267              0.001816              0.000584           0.001662   \n",
       "\n",
       "     log_return    market_cap weighted_price  sector_weighted_avg_log_return  \\\n",
       "9263  -0.013843  1.930296e+08   9.000972e+09                        0.000000   \n",
       "9264   0.022897  1.975004e+08   9.422745e+09                        0.021973   \n",
       "9265   0.009803  1.994460e+08   9.609309e+09                        0.002940   \n",
       "9266   0.006001  2.006465e+08   9.725336e+09                        0.015718   \n",
       "9267   0.010467  2.027577e+08   9.931072e+09                        0.006267   \n",
       "\n",
       "      sector_simple_avg_log_return  weighted_avg_log_return  \\\n",
       "9263                      0.000000                     -0.0   \n",
       "9264                      0.005694                      0.0   \n",
       "9265                      0.001681                      0.0   \n",
       "9266                      0.004005                      0.0   \n",
       "9267                      0.009789                      0.0   \n",
       "\n",
       "      simple_avg_log_return  \n",
       "9263               -0.00064  \n",
       "9264               -0.00064  \n",
       "9265               -0.00064  \n",
       "9266               -0.00064  \n",
       "9267               -0.00064  \n",
       "\n",
       "[5 rows x 38 columns]"
      ]
     },
     "execution_count": 19,
     "metadata": {},
     "output_type": "execute_result"
    }
   ],
   "source": [
    "reload = pd.read_parquet(\"/home/sagemaker-user/capstone-2024-summer/data/crsp_2018-2023_clean_3.parquet\")\n",
    "assert crsp_df.equals(reload)\n",
    "\n",
    "reload.head()"
   ]
  },
  {
   "cell_type": "markdown",
   "metadata": {},
   "source": [
    "# Upload the parquet to s3"
   ]
  },
  {
   "cell_type": "code",
   "execution_count": 20,
   "metadata": {},
   "outputs": [],
   "source": [
    "s3.upload_file(\"/home/sagemaker-user/capstone-2024-summer/data/crsp_2018-2023_clean_3.parquet\", bucket, \"CRSP/crsp_2018-2023_clean_3.parquet\")"
   ]
  },
  {
   "cell_type": "code",
   "execution_count": 21,
   "metadata": {},
   "outputs": [],
   "source": [
    "reload_path = s3_download(\"CRSP/crsp_2018-2023_clean_3.parquet\")"
   ]
  },
  {
   "cell_type": "code",
   "execution_count": 22,
   "metadata": {},
   "outputs": [
    {
     "data": {
      "text/html": [
       "<div>\n",
       "<style scoped>\n",
       "    .dataframe tbody tr th:only-of-type {\n",
       "        vertical-align: middle;\n",
       "    }\n",
       "\n",
       "    .dataframe tbody tr th {\n",
       "        vertical-align: top;\n",
       "    }\n",
       "\n",
       "    .dataframe thead th {\n",
       "        text-align: right;\n",
       "    }\n",
       "</style>\n",
       "<table border=\"1\" class=\"dataframe\">\n",
       "  <thead>\n",
       "    <tr style=\"text-align: right;\">\n",
       "      <th></th>\n",
       "      <th>date</th>\n",
       "      <th>permno_id</th>\n",
       "      <th>ncusip_id</th>\n",
       "      <th>cusip_id</th>\n",
       "      <th>ticker</th>\n",
       "      <th>share_code</th>\n",
       "      <th>share_code_type</th>\n",
       "      <th>share_code_detail</th>\n",
       "      <th>exchange_code</th>\n",
       "      <th>company_name</th>\n",
       "      <th>...</th>\n",
       "      <th>value_weighted_return</th>\n",
       "      <th>equal_weighted_return</th>\n",
       "      <th>return_on_SP_index</th>\n",
       "      <th>log_return</th>\n",
       "      <th>market_cap</th>\n",
       "      <th>weighted_price</th>\n",
       "      <th>sector_weighted_avg_log_return</th>\n",
       "      <th>sector_simple_avg_log_return</th>\n",
       "      <th>weighted_avg_log_return</th>\n",
       "      <th>simple_avg_log_return</th>\n",
       "    </tr>\n",
       "  </thead>\n",
       "  <tbody>\n",
       "    <tr>\n",
       "      <th>9263</th>\n",
       "      <td>2018-01-02</td>\n",
       "      <td>10104</td>\n",
       "      <td>68389X10</td>\n",
       "      <td>68389X10</td>\n",
       "      <td>ORCL</td>\n",
       "      <td>11.0</td>\n",
       "      <td>1</td>\n",
       "      <td>1</td>\n",
       "      <td>1</td>\n",
       "      <td>ORACLE CORP</td>\n",
       "      <td>...</td>\n",
       "      <td>0.008505</td>\n",
       "      <td>0.011232</td>\n",
       "      <td>0.008303</td>\n",
       "      <td>-0.013843</td>\n",
       "      <td>1.930296e+08</td>\n",
       "      <td>9.000972e+09</td>\n",
       "      <td>0.000000</td>\n",
       "      <td>0.000000</td>\n",
       "      <td>-0.0</td>\n",
       "      <td>-0.00064</td>\n",
       "    </tr>\n",
       "    <tr>\n",
       "      <th>9264</th>\n",
       "      <td>2018-01-03</td>\n",
       "      <td>10104</td>\n",
       "      <td>68389X10</td>\n",
       "      <td>68389X10</td>\n",
       "      <td>ORCL</td>\n",
       "      <td>11.0</td>\n",
       "      <td>1</td>\n",
       "      <td>1</td>\n",
       "      <td>1</td>\n",
       "      <td>ORACLE CORP</td>\n",
       "      <td>...</td>\n",
       "      <td>0.005856</td>\n",
       "      <td>0.005103</td>\n",
       "      <td>0.006399</td>\n",
       "      <td>0.022897</td>\n",
       "      <td>1.975004e+08</td>\n",
       "      <td>9.422745e+09</td>\n",
       "      <td>0.021973</td>\n",
       "      <td>0.005694</td>\n",
       "      <td>0.0</td>\n",
       "      <td>-0.00064</td>\n",
       "    </tr>\n",
       "    <tr>\n",
       "      <th>9265</th>\n",
       "      <td>2018-01-04</td>\n",
       "      <td>10104</td>\n",
       "      <td>68389X10</td>\n",
       "      <td>68389X10</td>\n",
       "      <td>ORCL</td>\n",
       "      <td>11.0</td>\n",
       "      <td>1</td>\n",
       "      <td>1</td>\n",
       "      <td>1</td>\n",
       "      <td>ORACLE CORP</td>\n",
       "      <td>...</td>\n",
       "      <td>0.004001</td>\n",
       "      <td>0.005272</td>\n",
       "      <td>0.004029</td>\n",
       "      <td>0.009803</td>\n",
       "      <td>1.994460e+08</td>\n",
       "      <td>9.609309e+09</td>\n",
       "      <td>0.002940</td>\n",
       "      <td>0.001681</td>\n",
       "      <td>0.0</td>\n",
       "      <td>-0.00064</td>\n",
       "    </tr>\n",
       "    <tr>\n",
       "      <th>9266</th>\n",
       "      <td>2018-01-05</td>\n",
       "      <td>10104</td>\n",
       "      <td>68389X10</td>\n",
       "      <td>68389X10</td>\n",
       "      <td>ORCL</td>\n",
       "      <td>11.0</td>\n",
       "      <td>1</td>\n",
       "      <td>1</td>\n",
       "      <td>1</td>\n",
       "      <td>ORACLE CORP</td>\n",
       "      <td>...</td>\n",
       "      <td>0.005804</td>\n",
       "      <td>0.003880</td>\n",
       "      <td>0.007034</td>\n",
       "      <td>0.006001</td>\n",
       "      <td>2.006465e+08</td>\n",
       "      <td>9.725336e+09</td>\n",
       "      <td>0.015718</td>\n",
       "      <td>0.004005</td>\n",
       "      <td>0.0</td>\n",
       "      <td>-0.00064</td>\n",
       "    </tr>\n",
       "    <tr>\n",
       "      <th>9267</th>\n",
       "      <td>2018-01-08</td>\n",
       "      <td>10104</td>\n",
       "      <td>68389X10</td>\n",
       "      <td>68389X10</td>\n",
       "      <td>ORCL</td>\n",
       "      <td>11.0</td>\n",
       "      <td>1</td>\n",
       "      <td>1</td>\n",
       "      <td>1</td>\n",
       "      <td>ORACLE CORP</td>\n",
       "      <td>...</td>\n",
       "      <td>0.001816</td>\n",
       "      <td>0.000584</td>\n",
       "      <td>0.001662</td>\n",
       "      <td>0.010467</td>\n",
       "      <td>2.027577e+08</td>\n",
       "      <td>9.931072e+09</td>\n",
       "      <td>0.006267</td>\n",
       "      <td>0.009789</td>\n",
       "      <td>0.0</td>\n",
       "      <td>-0.00064</td>\n",
       "    </tr>\n",
       "  </tbody>\n",
       "</table>\n",
       "<p>5 rows × 38 columns</p>\n",
       "</div>"
      ],
      "text/plain": [
       "           date permno_id ncusip_id  cusip_id ticker share_code  \\\n",
       "9263 2018-01-02     10104  68389X10  68389X10   ORCL       11.0   \n",
       "9264 2018-01-03     10104  68389X10  68389X10   ORCL       11.0   \n",
       "9265 2018-01-04     10104  68389X10  68389X10   ORCL       11.0   \n",
       "9266 2018-01-05     10104  68389X10  68389X10   ORCL       11.0   \n",
       "9267 2018-01-08     10104  68389X10  68389X10   ORCL       11.0   \n",
       "\n",
       "     share_code_type share_code_detail exchange_code company_name  ...  \\\n",
       "9263               1                 1             1  ORACLE CORP  ...   \n",
       "9264               1                 1             1  ORACLE CORP  ...   \n",
       "9265               1                 1             1  ORACLE CORP  ...   \n",
       "9266               1                 1             1  ORACLE CORP  ...   \n",
       "9267               1                 1             1  ORACLE CORP  ...   \n",
       "\n",
       "     value_weighted_return equal_weighted_return return_on_SP_index  \\\n",
       "9263              0.008505              0.011232           0.008303   \n",
       "9264              0.005856              0.005103           0.006399   \n",
       "9265              0.004001              0.005272           0.004029   \n",
       "9266              0.005804              0.003880           0.007034   \n",
       "9267              0.001816              0.000584           0.001662   \n",
       "\n",
       "     log_return    market_cap weighted_price  sector_weighted_avg_log_return  \\\n",
       "9263  -0.013843  1.930296e+08   9.000972e+09                        0.000000   \n",
       "9264   0.022897  1.975004e+08   9.422745e+09                        0.021973   \n",
       "9265   0.009803  1.994460e+08   9.609309e+09                        0.002940   \n",
       "9266   0.006001  2.006465e+08   9.725336e+09                        0.015718   \n",
       "9267   0.010467  2.027577e+08   9.931072e+09                        0.006267   \n",
       "\n",
       "      sector_simple_avg_log_return  weighted_avg_log_return  \\\n",
       "9263                      0.000000                     -0.0   \n",
       "9264                      0.005694                      0.0   \n",
       "9265                      0.001681                      0.0   \n",
       "9266                      0.004005                      0.0   \n",
       "9267                      0.009789                      0.0   \n",
       "\n",
       "      simple_avg_log_return  \n",
       "9263               -0.00064  \n",
       "9264               -0.00064  \n",
       "9265               -0.00064  \n",
       "9266               -0.00064  \n",
       "9267               -0.00064  \n",
       "\n",
       "[5 rows x 38 columns]"
      ]
     },
     "execution_count": 22,
     "metadata": {},
     "output_type": "execute_result"
    }
   ],
   "source": [
    "reload = pd.read_parquet(\"/home/sagemaker-user/capstone-2024-summer/data/crsp_2018-2023_clean_3.parquet\")\n",
    "assert crsp_df.equals(reload)\n",
    "\n",
    "reload.head()"
   ]
  }
 ],
 "metadata": {
  "colab": {
   "authorship_tag": "ABX9TyNSA1IyzXtI6YS8Wzx8WiUE",
   "provenance": [],
   "toc_visible": true
  },
  "kernelspec": {
   "display_name": "Python 3 (ipykernel)",
   "language": "python",
   "name": "python3"
  },
  "language_info": {
   "codemirror_mode": {
    "name": "ipython",
    "version": 3
   },
   "file_extension": ".py",
   "mimetype": "text/x-python",
   "name": "python",
   "nbconvert_exporter": "python",
   "pygments_lexer": "ipython3",
   "version": "3.10.14"
  }
 },
 "nbformat": 4,
 "nbformat_minor": 4
}
