{
 "cells": [
  {
   "cell_type": "markdown",
   "metadata": {},
   "source": [
    "# Setup the Env"
   ]
  },
  {
   "cell_type": "code",
   "execution_count": 1,
   "metadata": {},
   "outputs": [
    {
     "name": "stdout",
     "output_type": "stream",
     "text": [
      "sagemaker.config INFO - Not applying SDK defaults from location: /etc/xdg/sagemaker/config.yaml\n",
      "sagemaker.config INFO - Not applying SDK defaults from location: /home/sagemaker-user/.config/sagemaker/config.yaml\n",
      "/home/sagemaker-user/capstone-2024-summer/src/rachel\n"
     ]
    }
   ],
   "source": [
    "import sys\n",
    "import os\n",
    "\n",
    "import sagemaker\n",
    "from sagemaker import get_execution_role\n",
    "\n",
    "# Add the parent directory to the sys.path\n",
    "sys.path.insert(0, os.path.abspath('..'))\n",
    "\n",
    "# Define IAM role\n",
    "role = get_execution_role()\n",
    "role\n",
    "\n",
    "# Establish S3 bucket connection\n",
    "import boto3\n",
    "s3 = boto3.client('s3')\n",
    "bucket = 'capstone-bucket-4-friends'\n",
    "\n",
    "# Take a look at current dir\n",
    "print(os.getcwd())\n",
    "\n",
    "from file_utilities import s3_download "
   ]
  },
  {
   "cell_type": "markdown",
   "metadata": {
    "id": "gey0gI-R-q-P"
   },
   "source": [
    "# Import libraries"
   ]
  },
  {
   "cell_type": "code",
   "execution_count": 2,
   "metadata": {
    "colab": {
     "base_uri": "https://localhost:8080/"
    },
    "executionInfo": {
     "elapsed": 3384,
     "status": "ok",
     "timestamp": 1718854260790,
     "user": {
      "displayName": "Rachel Gao",
      "userId": "10756354987170970544"
     },
     "user_tz": 420
    },
    "id": "4advojzZJ3Kc",
    "outputId": "241fdbb0-fc1b-4350-ba4b-a44f786ae727"
   },
   "outputs": [],
   "source": [
    "# standard libraries\n",
    "import numpy as np\n",
    "import pandas as pd\n",
    "\n",
    "# visualization\n",
    "import matplotlib.pyplot as plt\n",
    "!pip install seaborn -q\n",
    "import seaborn as sns"
   ]
  },
  {
   "cell_type": "markdown",
   "metadata": {},
   "source": [
    "# Download Data from S3 as needed"
   ]
  },
  {
   "cell_type": "code",
   "execution_count": 3,
   "metadata": {},
   "outputs": [],
   "source": [
    "#crsp = \"CRSP/crsp_2018-2023.csv\"\n",
    "#crsp_path = s3_download(crsp)"
   ]
  },
  {
   "cell_type": "code",
   "execution_count": 4,
   "metadata": {},
   "outputs": [],
   "source": [
    "#index = \"Index/security_master.csv\"\n",
    "#index_path = s3_download(index)"
   ]
  },
  {
   "cell_type": "markdown",
   "metadata": {
    "id": "NL5urp2nAL4f"
   },
   "source": [
    "# Load the dataset\n",
    "\n",
    "https://www.crsp.org/wp-content/uploads/guides/CRSP_US_Stock_&_Indexes_Database_Data_Descriptions_Guide.pdf"
   ]
  },
  {
   "cell_type": "code",
   "execution_count": 5,
   "metadata": {
    "colab": {
     "base_uri": "https://localhost:8080/",
     "height": 552
    },
    "executionInfo": {
     "elapsed": 35269,
     "status": "ok",
     "timestamp": 1718854296057,
     "user": {
      "displayName": "Rachel Gao",
      "userId": "10756354987170970544"
     },
     "user_tz": 420
    },
    "id": "qZZUgwZ7AqVA",
    "outputId": "e064ef6b-03c0-4661-fe7f-62a938271d6e"
   },
   "outputs": [
    {
     "name": "stderr",
     "output_type": "stream",
     "text": [
      "/tmp/ipykernel_2238/2378022533.py:1: DtypeWarning: Columns (2,5,6,9,18,19,20,22,24,49,57) have mixed types. Specify dtype option on import or set low_memory=False.\n",
      "  crsp_df = pd.read_csv(\"/home/sagemaker-user/capstone-2024-summer/data/crsp_2018-2023.csv\", parse_dates=[\"date\"])\n"
     ]
    },
    {
     "data": {
      "text/html": [
       "<div>\n",
       "<style scoped>\n",
       "    .dataframe tbody tr th:only-of-type {\n",
       "        vertical-align: middle;\n",
       "    }\n",
       "\n",
       "    .dataframe tbody tr th {\n",
       "        vertical-align: top;\n",
       "    }\n",
       "\n",
       "    .dataframe thead th {\n",
       "        text-align: right;\n",
       "    }\n",
       "</style>\n",
       "<table border=\"1\" class=\"dataframe\">\n",
       "  <thead>\n",
       "    <tr style=\"text-align: right;\">\n",
       "      <th></th>\n",
       "      <th>PERMNO</th>\n",
       "      <th>date</th>\n",
       "      <th>NAMEENDT</th>\n",
       "      <th>SHRCD</th>\n",
       "      <th>EXCHCD</th>\n",
       "      <th>SICCD</th>\n",
       "      <th>NCUSIP</th>\n",
       "      <th>TICKER</th>\n",
       "      <th>COMNAM</th>\n",
       "      <th>SHRCLS</th>\n",
       "      <th>...</th>\n",
       "      <th>CFACPR</th>\n",
       "      <th>CFACSHR</th>\n",
       "      <th>OPENPRC</th>\n",
       "      <th>NUMTRD</th>\n",
       "      <th>RETX</th>\n",
       "      <th>vwretd</th>\n",
       "      <th>vwretx</th>\n",
       "      <th>ewretd</th>\n",
       "      <th>ewretx</th>\n",
       "      <th>sprtrn</th>\n",
       "    </tr>\n",
       "  </thead>\n",
       "  <tbody>\n",
       "    <tr>\n",
       "      <th>0</th>\n",
       "      <td>10026</td>\n",
       "      <td>2018-01-02</td>\n",
       "      <td>NaN</td>\n",
       "      <td>11.0</td>\n",
       "      <td>3.0</td>\n",
       "      <td>2052</td>\n",
       "      <td>46603210</td>\n",
       "      <td>JJSF</td>\n",
       "      <td>J &amp; J SNACK FOODS CORP</td>\n",
       "      <td>NaN</td>\n",
       "      <td>...</td>\n",
       "      <td>1.0</td>\n",
       "      <td>1.0</td>\n",
       "      <td>152.39000</td>\n",
       "      <td>1036.0</td>\n",
       "      <td>-0.017454</td>\n",
       "      <td>0.008505</td>\n",
       "      <td>0.008471</td>\n",
       "      <td>0.011232</td>\n",
       "      <td>0.011214</td>\n",
       "      <td>0.008303</td>\n",
       "    </tr>\n",
       "    <tr>\n",
       "      <th>1</th>\n",
       "      <td>10026</td>\n",
       "      <td>2018-01-03</td>\n",
       "      <td>NaN</td>\n",
       "      <td>11.0</td>\n",
       "      <td>3.0</td>\n",
       "      <td>2052</td>\n",
       "      <td>46603210</td>\n",
       "      <td>JJSF</td>\n",
       "      <td>J &amp; J SNACK FOODS CORP</td>\n",
       "      <td>NaN</td>\n",
       "      <td>...</td>\n",
       "      <td>1.0</td>\n",
       "      <td>1.0</td>\n",
       "      <td>149.07001</td>\n",
       "      <td>1283.0</td>\n",
       "      <td>-0.009988</td>\n",
       "      <td>0.005856</td>\n",
       "      <td>0.005852</td>\n",
       "      <td>0.005103</td>\n",
       "      <td>0.005094</td>\n",
       "      <td>0.006399</td>\n",
       "    </tr>\n",
       "    <tr>\n",
       "      <th>2</th>\n",
       "      <td>10026</td>\n",
       "      <td>2018-01-04</td>\n",
       "      <td>NaN</td>\n",
       "      <td>11.0</td>\n",
       "      <td>3.0</td>\n",
       "      <td>2052</td>\n",
       "      <td>46603210</td>\n",
       "      <td>JJSF</td>\n",
       "      <td>J &amp; J SNACK FOODS CORP</td>\n",
       "      <td>NaN</td>\n",
       "      <td>...</td>\n",
       "      <td>1.0</td>\n",
       "      <td>1.0</td>\n",
       "      <td>147.77000</td>\n",
       "      <td>1138.0</td>\n",
       "      <td>0.013813</td>\n",
       "      <td>0.004001</td>\n",
       "      <td>0.003858</td>\n",
       "      <td>0.005272</td>\n",
       "      <td>0.005217</td>\n",
       "      <td>0.004029</td>\n",
       "    </tr>\n",
       "    <tr>\n",
       "      <th>3</th>\n",
       "      <td>10026</td>\n",
       "      <td>2018-01-05</td>\n",
       "      <td>NaN</td>\n",
       "      <td>11.0</td>\n",
       "      <td>3.0</td>\n",
       "      <td>2052</td>\n",
       "      <td>46603210</td>\n",
       "      <td>JJSF</td>\n",
       "      <td>J &amp; J SNACK FOODS CORP</td>\n",
       "      <td>NaN</td>\n",
       "      <td>...</td>\n",
       "      <td>1.0</td>\n",
       "      <td>1.0</td>\n",
       "      <td>149.74001</td>\n",
       "      <td>745.0</td>\n",
       "      <td>-0.009550</td>\n",
       "      <td>0.005804</td>\n",
       "      <td>0.005802</td>\n",
       "      <td>0.003880</td>\n",
       "      <td>0.003865</td>\n",
       "      <td>0.007034</td>\n",
       "    </tr>\n",
       "    <tr>\n",
       "      <th>4</th>\n",
       "      <td>10026</td>\n",
       "      <td>2018-01-08</td>\n",
       "      <td>NaN</td>\n",
       "      <td>11.0</td>\n",
       "      <td>3.0</td>\n",
       "      <td>2052</td>\n",
       "      <td>46603210</td>\n",
       "      <td>JJSF</td>\n",
       "      <td>J &amp; J SNACK FOODS CORP</td>\n",
       "      <td>NaN</td>\n",
       "      <td>...</td>\n",
       "      <td>1.0</td>\n",
       "      <td>1.0</td>\n",
       "      <td>147.77000</td>\n",
       "      <td>990.0</td>\n",
       "      <td>0.000742</td>\n",
       "      <td>0.001816</td>\n",
       "      <td>0.001802</td>\n",
       "      <td>0.000584</td>\n",
       "      <td>0.000574</td>\n",
       "      <td>0.001662</td>\n",
       "    </tr>\n",
       "  </tbody>\n",
       "</table>\n",
       "<p>5 rows × 63 columns</p>\n",
       "</div>"
      ],
      "text/plain": [
       "   PERMNO       date NAMEENDT  SHRCD  EXCHCD SICCD    NCUSIP TICKER  \\\n",
       "0   10026 2018-01-02      NaN   11.0     3.0  2052  46603210   JJSF   \n",
       "1   10026 2018-01-03      NaN   11.0     3.0  2052  46603210   JJSF   \n",
       "2   10026 2018-01-04      NaN   11.0     3.0  2052  46603210   JJSF   \n",
       "3   10026 2018-01-05      NaN   11.0     3.0  2052  46603210   JJSF   \n",
       "4   10026 2018-01-08      NaN   11.0     3.0  2052  46603210   JJSF   \n",
       "\n",
       "                   COMNAM SHRCLS  ... CFACPR  CFACSHR    OPENPRC  NUMTRD  \\\n",
       "0  J & J SNACK FOODS CORP    NaN  ...    1.0      1.0  152.39000  1036.0   \n",
       "1  J & J SNACK FOODS CORP    NaN  ...    1.0      1.0  149.07001  1283.0   \n",
       "2  J & J SNACK FOODS CORP    NaN  ...    1.0      1.0  147.77000  1138.0   \n",
       "3  J & J SNACK FOODS CORP    NaN  ...    1.0      1.0  149.74001   745.0   \n",
       "4  J & J SNACK FOODS CORP    NaN  ...    1.0      1.0  147.77000   990.0   \n",
       "\n",
       "        RETX    vwretd    vwretx    ewretd    ewretx    sprtrn  \n",
       "0  -0.017454  0.008505  0.008471  0.011232  0.011214  0.008303  \n",
       "1  -0.009988  0.005856  0.005852  0.005103  0.005094  0.006399  \n",
       "2   0.013813  0.004001  0.003858  0.005272  0.005217  0.004029  \n",
       "3  -0.009550  0.005804  0.005802  0.003880  0.003865  0.007034  \n",
       "4   0.000742  0.001816  0.001802  0.000584  0.000574  0.001662  \n",
       "\n",
       "[5 rows x 63 columns]"
      ]
     },
     "execution_count": 5,
     "metadata": {},
     "output_type": "execute_result"
    }
   ],
   "source": [
    "crsp_df = pd.read_csv(\"/home/sagemaker-user/capstone-2024-summer/data/crsp_2018-2023.csv\", parse_dates=[\"date\"])\n",
    "\n",
    "crsp_df.head()"
   ]
  },
  {
   "cell_type": "markdown",
   "metadata": {
    "id": "k4Sdl7bhbYlY"
   },
   "source": [
    "# Take a look at the columns"
   ]
  },
  {
   "cell_type": "code",
   "execution_count": 6,
   "metadata": {
    "colab": {
     "base_uri": "https://localhost:8080/"
    },
    "executionInfo": {
     "elapsed": 5,
     "status": "ok",
     "timestamp": 1718854296058,
     "user": {
      "displayName": "Rachel Gao",
      "userId": "10756354987170970544"
     },
     "user_tz": 420
    },
    "id": "kvnFj_bSCFCN",
    "outputId": "871ccbba-7ee3-476a-8e5a-b837f2603341"
   },
   "outputs": [
    {
     "data": {
      "text/plain": [
       "Index(['PERMNO', 'date', 'NAMEENDT', 'SHRCD', 'EXCHCD', 'SICCD', 'NCUSIP',\n",
       "       'TICKER', 'COMNAM', 'SHRCLS', 'TSYMBOL', 'NAICS', 'PRIMEXCH', 'TRDSTAT',\n",
       "       'SECSTAT', 'PERMCO', 'ISSUNO', 'HEXCD', 'HSICCD', 'CUSIP', 'DCLRDT',\n",
       "       'DLAMT', 'DLPDT', 'DLSTCD', 'NEXTDT', 'PAYDT', 'RCRDDT', 'SHRFLG',\n",
       "       'HSICMG', 'HSICIG', 'DISTCD', 'DIVAMT', 'FACPR', 'FACSHR', 'ACPERM',\n",
       "       'ACCOMP', 'SHRENDDT', 'NWPERM', 'DLRETX', 'DLPRC', 'DLRET', 'TRTSCD',\n",
       "       'NMSIND', 'MMCNT', 'NSDINX', 'BIDLO', 'ASKHI', 'PRC', 'VOL', 'RET',\n",
       "       'BID', 'ASK', 'SHROUT', 'CFACPR', 'CFACSHR', 'OPENPRC', 'NUMTRD',\n",
       "       'RETX', 'vwretd', 'vwretx', 'ewretd', 'ewretx', 'sprtrn'],\n",
       "      dtype='object')"
      ]
     },
     "execution_count": 6,
     "metadata": {},
     "output_type": "execute_result"
    }
   ],
   "source": [
    "crsp_df.columns"
   ]
  },
  {
   "cell_type": "code",
   "execution_count": 7,
   "metadata": {
    "colab": {
     "base_uri": "https://localhost:8080/"
    },
    "executionInfo": {
     "elapsed": 4,
     "status": "ok",
     "timestamp": 1718854296058,
     "user": {
      "displayName": "Rachel Gao",
      "userId": "10756354987170970544"
     },
     "user_tz": 420
    },
    "id": "anxdhdX5fLqU",
    "outputId": "021c7500-f9b4-4ae4-bdd7-6cfb57285809"
   },
   "outputs": [
    {
     "data": {
      "text/plain": [
       "PERMNO               int64\n",
       "date        datetime64[ns]\n",
       "NAMEENDT            object\n",
       "SHRCD              float64\n",
       "EXCHCD             float64\n",
       "                 ...      \n",
       "vwretd             float64\n",
       "vwretx             float64\n",
       "ewretd             float64\n",
       "ewretx             float64\n",
       "sprtrn             float64\n",
       "Length: 63, dtype: object"
      ]
     },
     "execution_count": 7,
     "metadata": {},
     "output_type": "execute_result"
    }
   ],
   "source": [
    "crsp_df.dtypes"
   ]
  },
  {
   "cell_type": "code",
   "execution_count": 8,
   "metadata": {
    "colab": {
     "base_uri": "https://localhost:8080/"
    },
    "executionInfo": {
     "elapsed": 3,
     "status": "ok",
     "timestamp": 1718854296058,
     "user": {
      "displayName": "Rachel Gao",
      "userId": "10756354987170970544"
     },
     "user_tz": 420
    },
    "id": "y92nzlbOY00-",
    "outputId": "f346ffa0-308a-454b-c0ab-99903433a7f7"
   },
   "outputs": [
    {
     "name": "stdout",
     "output_type": "stream",
     "text": [
      "number of records: 12665502\n",
      "number of columns: 63\n"
     ]
    }
   ],
   "source": [
    "og_crsp_len = len(crsp_df)\n",
    "og_crsp_cols = len(crsp_df.columns)\n",
    "print(\"number of records:\", og_crsp_len)\n",
    "print(\"number of columns:\", og_crsp_cols)"
   ]
  },
  {
   "cell_type": "markdown",
   "metadata": {
    "id": "c3ncsMKpdlXk"
   },
   "source": [
    "# Null analysis"
   ]
  },
  {
   "cell_type": "code",
   "execution_count": 9,
   "metadata": {
    "colab": {
     "base_uri": "https://localhost:8080/",
     "height": 475
    },
    "executionInfo": {
     "elapsed": 4868,
     "status": "ok",
     "timestamp": 1718854300924,
     "user": {
      "displayName": "Rachel Gao",
      "userId": "10756354987170970544"
     },
     "user_tz": 420
    },
    "id": "YMKjMIxndqbA",
    "outputId": "b56c1fda-dab7-4584-b8ac-9b6adde5357b"
   },
   "outputs": [
    {
     "data": {
      "image/png": "[encoded data removed]",
      "text/plain": [
       "<Figure size 1200x400 with 1 Axes>"
      ]
     },
     "metadata": {},
     "output_type": "display_data"
    }
   ],
   "source": [
    "# Count the number of nulls in each column\n",
    "null_counts = crsp_df.isnull().sum()\n",
    "\n",
    "# Calculate the percentage of nulls in each column\n",
    "total_rows = len(crsp_df)\n",
    "null_percentages = (null_counts / total_rows) * 100\n",
    "\n",
    "# Plot the percentages as a bar plot\n",
    "null_percentages.plot(kind='bar', figsize=(12, 4), color='skyblue')\n",
    "plt.axhline(y=80, color='red', linestyle='--', linewidth=1)\n",
    "plt.title('Percentage of Null Values in Each Column')\n",
    "plt.xlabel('Columns')\n",
    "plt.ylabel('Percentage of Nulls (%)')\n",
    "plt.show()"
   ]
  },
  {
   "cell_type": "markdown",
   "metadata": {
    "id": "cFe6mQFCf_RJ"
   },
   "source": [
    "## A1. Drop all columns which contains more than 80% null as they cannot be reasonably obtained or imputed."
   ]
  },
  {
   "cell_type": "code",
   "execution_count": 10,
   "metadata": {
    "colab": {
     "base_uri": "https://localhost:8080/"
    },
    "executionInfo": {
     "elapsed": 287,
     "status": "ok",
     "timestamp": 1718854301208,
     "user": {
      "displayName": "Rachel Gao",
      "userId": "10756354987170970544"
     },
     "user_tz": 420
    },
    "id": "4H0i5UKBf-g2",
    "outputId": "98ff4e2b-84e5-4bac-ceba-1cc988694d52"
   },
   "outputs": [
    {
     "name": "stdout",
     "output_type": "stream",
     "text": [
      "num_columns_removed:  25\n",
      "num_columns_kept: 38\n"
     ]
    }
   ],
   "source": [
    "og_cols = len(crsp_df.columns)\n",
    "columns_to_drop = null_percentages[null_percentages > 80].index\n",
    "crsp_df = crsp_df.drop(columns=columns_to_drop)\n",
    "new_cols = len(crsp_df.columns)\n",
    "print(\"num_columns_removed: \", og_cols - new_cols)\n",
    "print(\"num_columns_kept:\", new_cols)"
   ]
  },
  {
   "cell_type": "markdown",
   "metadata": {
    "id": "zswhk8i0r01t"
   },
   "source": [
    "## A2. Drop all columns containing duplicate information"
   ]
  },
  {
   "cell_type": "code",
   "execution_count": 11,
   "metadata": {
    "colab": {
     "base_uri": "https://localhost:8080/"
    },
    "executionInfo": {
     "elapsed": 182,
     "status": "ok",
     "timestamp": 1718854301388,
     "user": {
      "displayName": "Rachel Gao",
      "userId": "10756354987170970544"
     },
     "user_tz": 420
    },
    "id": "-ZRJ47epsRmM",
    "outputId": "849e35d2-044e-4ed0-acc6-f3d3bff16e45"
   },
   "outputs": [
    {
     "name": "stdout",
     "output_type": "stream",
     "text": [
      "num_columns_removed:  11\n",
      "num_columns_kept: 27\n"
     ]
    }
   ],
   "source": [
    "og_cols = len(crsp_df.columns)\n",
    "columns_to_drop = [\"PERMCO\", \"ISSUNO\", \"TSYMBOL\", \"RETX\", \"vwretx\", \"ewretx\", \"HEXCD\", \"SICCD\", \"HSICCD\", \"HSICIG\", \"HSICMG\"]\n",
    "crsp_df = crsp_df.drop(columns=columns_to_drop)\n",
    "new_cols = len(crsp_df.columns)\n",
    "print(\"num_columns_removed: \", og_cols - new_cols)\n",
    "print(\"num_columns_kept:\", new_cols)"
   ]
  },
  {
   "cell_type": "markdown",
   "metadata": {
    "id": "JWJ1RPPvsrcC"
   },
   "source": [
    "# Take another look at the null analysis"
   ]
  },
  {
   "cell_type": "code",
   "execution_count": 12,
   "metadata": {
    "colab": {
     "base_uri": "https://localhost:8080/",
     "height": 467
    },
    "executionInfo": {
     "elapsed": 1652,
     "status": "ok",
     "timestamp": 1718854303039,
     "user": {
      "displayName": "Rachel Gao",
      "userId": "10756354987170970544"
     },
     "user_tz": 420
    },
    "id": "2GXrE1bVsg1Q",
    "outputId": "022db422-4fae-4199-9bf3-e2a57518a293"
   },
   "outputs": [
    {
     "data": {
      "image/png": "[encoded data removed]",
      "text/plain": [
       "<Figure size 1200x400 with 1 Axes>"
      ]
     },
     "metadata": {},
     "output_type": "display_data"
    }
   ],
   "source": [
    "# Count the number of nulls in each column\n",
    "null_counts = crsp_df.isnull().sum()\n",
    "\n",
    "# Calculate the percentage of nulls in each column\n",
    "total_rows = len(crsp_df)\n",
    "null_percentages = (null_counts / total_rows) * 100\n",
    "\n",
    "# Plot the percentages as a bar plot\n",
    "ax = null_percentages.plot(kind='bar', figsize=(12, 4), color='skyblue')\n",
    "plt.title('Percentage of Null Values in Each Column')\n",
    "plt.xlabel('Columns')\n",
    "plt.ylim(0, max(null_percentages.values)+10)\n",
    "plt.ylabel('Percentage of Nulls (%)')\n",
    "\n",
    "# Annotate the bars with the percentage values\n",
    "for i, percentage in enumerate(null_percentages):\n",
    "    if percentage != 0:\n",
    "        ax.annotate(f'{percentage:.0f}%', xy=(i, percentage), xytext=(0, 3),\n",
    "                    textcoords='offset points', ha='center', va='bottom', color='red')\n",
    "\n",
    "plt.show()"
   ]
  },
  {
   "cell_type": "markdown",
   "metadata": {
    "id": "6wv4KP9vgnGd"
   },
   "source": [
    "# Review unique values and distribution in each remaining column"
   ]
  },
  {
   "cell_type": "code",
   "execution_count": 13,
   "metadata": {
    "colab": {
     "base_uri": "https://localhost:8080/"
    },
    "executionInfo": {
     "elapsed": 5513,
     "status": "ok",
     "timestamp": 1718854308549,
     "user": {
      "displayName": "Rachel Gao",
      "userId": "10756354987170970544"
     },
     "user_tz": 420
    },
    "id": "wJH_9Qs0gsI7",
    "outputId": "493db5ea-5e0d-47e2-bce0-9db85cceeea8"
   },
   "outputs": [
    {
     "name": "stdout",
     "output_type": "stream",
     "text": [
      "---------- PERMNO ----------\n",
      "12765\n",
      "PERMNO\n",
      "21259    1531\n",
      "90731    1527\n",
      "16780    1526\n",
      "16437    1523\n",
      "10065    1522\n",
      "         ... \n",
      "15403       1\n",
      "43095       1\n",
      "92771       1\n",
      "91431       1\n",
      "13713       1\n",
      "Name: count, Length: 12765, dtype: int64\n",
      "---------- date ----------\n",
      "1509\n",
      "date\n",
      "2022-10-13    9598\n",
      "2022-09-30    9597\n",
      "2022-10-17    9597\n",
      "2022-10-06    9597\n",
      "2022-09-29    9596\n",
      "              ... \n",
      "2018-01-08    7339\n",
      "2018-01-03    7339\n",
      "2018-01-10    7338\n",
      "2018-01-05    7338\n",
      "2018-01-09    7337\n",
      "Name: count, Length: 1509, dtype: int64\n",
      "---------- SHRCD ----------\n",
      "16\n",
      "SHRCD\n",
      "11.0    5944259\n",
      "73.0    3673436\n",
      "12.0    1141877\n",
      "31.0     603387\n",
      "44.0     424804\n",
      "14.0     360856\n",
      "18.0     272236\n",
      "71.0     127196\n",
      "48.0      53307\n",
      "74.0      31661\n",
      "72.0      20673\n",
      "75.0       6027\n",
      "41.0       3018\n",
      "15.0       1519\n",
      "21.0        764\n",
      "10.0          2\n",
      "Name: count, dtype: int64\n",
      "---------- EXCHCD ----------\n",
      "10\n",
      "EXCHCD\n",
      " 3.0     5382632\n",
      " 1.0     3762010\n",
      " 4.0     2424033\n",
      " 5.0      652650\n",
      " 2.0      400154\n",
      " 0.0       39599\n",
      "-1.0        3580\n",
      " 6.0         251\n",
      "-2.0          75\n",
      " 31.0         38\n",
      "Name: count, dtype: int64\n",
      "---------- NCUSIP ----------\n",
      "15336\n",
      "NCUSIP\n",
      "14050110    1531\n",
      "42709650    1527\n",
      "87228010    1526\n",
      "13462K10    1523\n",
      "05580M10    1522\n",
      "            ... \n",
      "07323B10       1\n",
      "98410220       1\n",
      "44900110       1\n",
      "45781K10       1\n",
      "75811Y10       1\n",
      "Name: count, Length: 15336, dtype: int64\n",
      "---------- TICKER ----------\n",
      "13494\n",
      "TICKER\n",
      "HVT     3028\n",
      "GTN     3018\n",
      "WSO     3018\n",
      "LGF     3018\n",
      "GEF     3018\n",
      "        ... \n",
      "BAYA       1\n",
      "AMFI       1\n",
      "HYDI       1\n",
      "SBCP       1\n",
      "XBKS       1\n",
      "Name: count, Length: 13494, dtype: int64\n",
      "---------- COMNAM ----------\n",
      "10198\n",
      "COMNAM\n",
      "ISHARES TRUST                     452169\n",
      "PROSHARES TRUST                   178696\n",
      "DIREXION SHARES E T F TRUST       125526\n",
      "SPDR SERIES TRUST                 123354\n",
      "GLOBAL X FUNDS                    121661\n",
      "                                   ...  \n",
      "XENITH BANKSHARES INC NEW              1\n",
      "AGRIUM INC                             1\n",
      "WASHINGTONFIRST BANCSHARES INC         1\n",
      "HYDROMER INC                           1\n",
      "A M F I CORP                           1\n",
      "Name: count, Length: 10198, dtype: int64\n",
      "---------- NAICS ----------\n",
      "843\n",
      "NAICS\n",
      "525990.0    4111780\n",
      "523910.0     600532\n",
      "325412.0     579647\n",
      "522110.0     436598\n",
      "525910.0     278604\n",
      "             ...   \n",
      "456120.0         26\n",
      "444240.0         19\n",
      "449121.0         13\n",
      "449129.0          7\n",
      "541519.0          4\n",
      "Name: count, Length: 843, dtype: int64\n",
      "---------- PRIMEXCH ----------\n",
      "7\n",
      "PRIMEXCH\n",
      "Q    5386036\n",
      "N    3762194\n",
      "R    2424033\n",
      "B     652650\n",
      "A     400259\n",
      "X      39599\n",
      "I        251\n",
      "Name: count, dtype: int64\n",
      "---------- TRDSTAT ----------\n",
      "4\n",
      "TRDSTAT\n",
      "A    12621768\n",
      "X       39599\n",
      "S        3580\n",
      "H          75\n",
      "Name: count, dtype: int64\n",
      "---------- SECSTAT ----------\n",
      "3\n",
      "SECSTAT\n",
      "R    12625385\n",
      "X       39599\n",
      "Q          38\n",
      "Name: count, dtype: int64\n",
      "---------- CUSIP ----------\n",
      "12767\n",
      "CUSIP\n",
      "14050110    1531\n",
      "42709650    1527\n",
      "87228010    1526\n",
      "13462K10    1523\n",
      "05580M10    1522\n",
      "            ... \n",
      "G5480U13       1\n",
      "20441B70       1\n",
      "86777J10       1\n",
      "55276810       1\n",
      "94073010       1\n",
      "Name: count, Length: 12767, dtype: int64\n",
      "---------- BIDLO ----------\n",
      "775746\n",
      "BIDLO\n",
      "9.80000      12113\n",
      "9.90000      11792\n",
      "9.75000      11751\n",
      "10.00000     11735\n",
      "9.70000      11020\n",
      "             ...  \n",
      "710.66998        1\n",
      "718.81000        1\n",
      "717.97998        1\n",
      "644.04999        1\n",
      "639.59003        1\n",
      "Name: count, Length: 775746, dtype: int64\n",
      "---------- ASKHI ----------\n",
      "782766\n",
      "ASKHI\n",
      "10.00000     13791\n",
      "9.80000      12011\n",
      "9.90000      11940\n",
      "9.95000      11239\n",
      "9.85000      11099\n",
      "             ...  \n",
      "20.18150         1\n",
      "198.74460        1\n",
      "169.51840        1\n",
      "230.82961        1\n",
      "22.96810         1\n",
      "Name: count, Length: 782766, dtype: int64\n",
      "---------- PRC ----------\n",
      "691685\n",
      "PRC\n",
      "10.0000    10126\n",
      "9.9000      9918\n",
      "9.8000      9914\n",
      "9.7500      9367\n",
      "9.8500      9206\n",
      "           ...  \n",
      "46.9775        1\n",
      "46.9097        1\n",
      "46.7736        1\n",
      "46.9290        1\n",
      "43.4892        1\n",
      "Name: count, Length: 691685, dtype: int64\n",
      "---------- VOL ----------\n",
      "2783517\n",
      "VOL\n",
      "0.0          219445\n",
      "1.0           28345\n",
      "2.0           21532\n",
      "100.0         16828\n",
      "3.0           11636\n",
      "              ...  \n",
      "1045626.0         1\n",
      "692707.0          1\n",
      "733185.0          1\n",
      "1061393.0         1\n",
      "1160091.0         1\n",
      "Name: count, Length: 2783517, dtype: int64\n",
      "---------- RET ----------\n",
      "502939\n",
      "RET\n",
      "0.000000     194274\n",
      "0.0          175690\n",
      "B             39599\n",
      "C              5536\n",
      "-0.019608      1755\n",
      "              ...  \n",
      "0.167355          1\n",
      "0.065228          1\n",
      "0.094730          1\n",
      "-0.130778         1\n",
      "0.076394          1\n",
      "Name: count, Length: 502939, dtype: int64\n",
      "---------- BID ----------\n",
      "95491\n",
      "BID\n",
      "9.80000      12523\n",
      "9.75000      12479\n",
      "9.90000      12294\n",
      "10.00000     11832\n",
      "9.85000      11600\n",
      "             ...  \n",
      "908.46002        1\n",
      "905.22998        1\n",
      "891.21997        1\n",
      "922.85999        1\n",
      "907.04999        1\n",
      "Name: count, Length: 95491, dtype: int64\n",
      "---------- ASK ----------\n",
      "95437\n",
      "ASK\n",
      "10.00000     15095\n",
      "9.90000      13725\n",
      "9.80000      13578\n",
      "9.95000      12793\n",
      "9.85000      12617\n",
      "             ...  \n",
      "628.63000        1\n",
      "658.84003        1\n",
      "707.54999        1\n",
      "759.79999        1\n",
      "725.53003        1\n",
      "Name: count, Length: 95437, dtype: int64\n",
      "---------- SHROUT ----------\n",
      "133403\n",
      "SHROUT\n",
      "100.0       99922\n",
      "200.0       83954\n",
      "150.0       50127\n",
      "400.0       49498\n",
      "250.0       45107\n",
      "            ...  \n",
      "706723.0        1\n",
      "707123.0        1\n",
      "706623.0        1\n",
      "692323.0        1\n",
      "710923.0        1\n",
      "Name: count, Length: 133403, dtype: int64\n",
      "---------- CFACPR ----------\n",
      "521\n",
      "CFACPR\n",
      "1.000000    11414165\n",
      "0.100000      153823\n",
      "0.050000      111638\n",
      "2.000000       86113\n",
      "0.066667       63603\n",
      "              ...   \n",
      "1.020880           7\n",
      "0.000152           4\n",
      "1.020100           4\n",
      "0.928571           3\n",
      "1.665746           1\n",
      "Name: count, Length: 521, dtype: int64\n",
      "---------- CFACSHR ----------\n",
      "273\n",
      "CFACSHR\n",
      "1.000000    11546175\n",
      "0.100000      155844\n",
      "0.050000      113212\n",
      "2.000000       87463\n",
      "0.066667       64696\n",
      "              ...   \n",
      "0.011111          11\n",
      "1.373598           7\n",
      "0.000152           4\n",
      "1.020100           4\n",
      "0.928571           3\n",
      "Name: count, Length: 273, dtype: int64\n",
      "---------- OPENPRC ----------\n",
      "441164\n",
      "OPENPRC\n",
      "10.00000     11757\n",
      "9.80000      10378\n",
      "9.90000      10275\n",
      "9.75000       9780\n",
      "9.85000       9444\n",
      "             ...  \n",
      "190.77499        1\n",
      "29.00690         1\n",
      "33.31170         1\n",
      "34.79060         1\n",
      "36.84940         1\n",
      "Name: count, Length: 441164, dtype: int64\n",
      "---------- NUMTRD ----------\n",
      "120521\n",
      "NUMTRD\n",
      "0.0         57915\n",
      "1.0         38977\n",
      "2.0         35056\n",
      "3.0         30490\n",
      "4.0         26794\n",
      "            ...  \n",
      "856413.0        1\n",
      "760863.0        1\n",
      "843696.0        1\n",
      "819957.0        1\n",
      "835660.0        1\n",
      "Name: count, Length: 120521, dtype: int64\n",
      "---------- vwretd ----------\n",
      "1471\n",
      "vwretd\n",
      "-0.004045    26459\n",
      "-0.001146    18967\n",
      " 0.007299    18948\n",
      "-0.014385    18866\n",
      "-0.007486    18851\n",
      "             ...  \n",
      " 0.001816     7339\n",
      " 0.005856     7339\n",
      "-0.001506     7338\n",
      " 0.005804     7338\n",
      " 0.000921     7337\n",
      "Name: count, Length: 1471, dtype: int64\n",
      "---------- ewretd ----------\n",
      "1483\n",
      "ewretd\n",
      "-0.015893    19043\n",
      " 0.005970    19003\n",
      " 0.006047    18991\n",
      "-0.006333    18811\n",
      " 0.010778    18629\n",
      "             ...  \n",
      " 0.000584     7339\n",
      " 0.005103     7339\n",
      " 0.003880     7338\n",
      " 0.000100     7338\n",
      "-0.001584     7337\n",
      "Name: count, Length: 1483, dtype: int64\n",
      "---------- sprtrn ----------\n",
      "1472\n",
      "sprtrn\n",
      "-0.000868    25447\n",
      "-0.016463    18961\n",
      "-0.001574    18901\n",
      "-0.004050    18866\n",
      "-0.003841    18837\n",
      "             ...  \n",
      " 0.006750     7342\n",
      " 0.004029     7340\n",
      " 0.006399     7339\n",
      "-0.001112     7338\n",
      " 0.001303     7337\n",
      "Name: count, Length: 1472, dtype: int64\n"
     ]
    }
   ],
   "source": [
    "for column in crsp_df.columns:\n",
    "  print(\"-\"*10, column, \"-\"*10)\n",
    "  print(crsp_df[column].nunique())\n",
    "  print(crsp_df[column].value_counts())"
   ]
  },
  {
   "cell_type": "markdown",
   "metadata": {
    "id": "SGvNnNMIbvFY"
   },
   "source": [
    "# Review SHRCD: security type\n",
    "SHRCD is a two-digit code describing the type of shares traded. The first digit describes the type of security traded."
   ]
  },
  {
   "cell_type": "markdown",
   "metadata": {
    "id": "lcU5uaHuh7Gx"
   },
   "source": [
    "## B1. Fill SHRCD na with 00 as undefined"
   ]
  },
  {
   "cell_type": "code",
   "execution_count": 14,
   "metadata": {
    "executionInfo": {
     "elapsed": 326,
     "status": "ok",
     "timestamp": 1718854308859,
     "user": {
      "displayName": "Rachel Gao",
      "userId": "10756354987170970544"
     },
     "user_tz": 420
    },
    "id": "HdWFHQUCb_Dj"
   },
   "outputs": [],
   "source": [
    "crsp_df[\"SHRCD\"] = crsp_df[\"SHRCD\"].fillna(\"00\")"
   ]
  },
  {
   "cell_type": "markdown",
   "metadata": {
    "id": "Yq7oiRWhiAZb"
   },
   "source": [
    "## B2. Split SHRCD to two columns [SHRCD_Type, SHRCD_Detail]"
   ]
  },
  {
   "cell_type": "code",
   "execution_count": 15,
   "metadata": {
    "executionInfo": {
     "elapsed": 10099,
     "status": "ok",
     "timestamp": 1718854318957,
     "user": {
      "displayName": "Rachel Gao",
      "userId": "10756354987170970544"
     },
     "user_tz": 420
    },
    "id": "_qnNY_p4b1B1"
   },
   "outputs": [],
   "source": [
    "crsp_df[['SHRCD_Type', 'SHRCD_Detail']] = crsp_df['SHRCD'].astype(str).str.split('', expand=True).iloc[:, 1:3]"
   ]
  },
  {
   "cell_type": "code",
   "execution_count": 16,
   "metadata": {
    "colab": {
     "base_uri": "https://localhost:8080/"
    },
    "executionInfo": {
     "elapsed": 432,
     "status": "ok",
     "timestamp": 1718854319374,
     "user": {
      "displayName": "Rachel Gao",
      "userId": "10756354987170970544"
     },
     "user_tz": 420
    },
    "id": "eMabX00ecRtO",
    "outputId": "4f61ca72-e655-4812-b500-ce56b4ec94a1"
   },
   "outputs": [
    {
     "name": "stdout",
     "output_type": "stream",
     "text": [
      "---------- SHRCD_Type ----------\n",
      "6\n",
      "SHRCD_Type\n",
      "1    7720749\n",
      "7    3858993\n",
      "3     603387\n",
      "4     481129\n",
      "2        764\n",
      "0        480\n",
      "Name: count, dtype: int64\n",
      "---------- SHRCD_Detail ----------\n",
      "7\n",
      "SHRCD_Detail\n",
      "1    6678624\n",
      "3    3673436\n",
      "2    1162550\n",
      "4     817321\n",
      "8     325543\n",
      "5       7546\n",
      "0        482\n",
      "Name: count, dtype: int64\n"
     ]
    }
   ],
   "source": [
    "for column in ['SHRCD_Type', 'SHRCD_Detail']:\n",
    "  print(\"-\"*10, column, \"-\"*10)\n",
    "  print(crsp_df[column].nunique())\n",
    "  print(crsp_df[column].value_counts())"
   ]
  },
  {
   "cell_type": "markdown",
   "metadata": {
    "id": "tzVCTVQAdNsy"
   },
   "source": [
    "## B3. Keep only records where SHRCD_type == 1 (Ordinary Common Shares)"
   ]
  },
  {
   "cell_type": "code",
   "execution_count": 17,
   "metadata": {
    "colab": {
     "base_uri": "https://localhost:8080/"
    },
    "executionInfo": {
     "elapsed": 199,
     "status": "ok",
     "timestamp": 1718854319791,
     "user": {
      "displayName": "Rachel Gao",
      "userId": "10756354987170970544"
     },
     "user_tz": 420
    },
    "id": "COHWX9Kucswj",
    "outputId": "62d503e9-af75-40a6-fff1-a4543a674228"
   },
   "outputs": [
    {
     "name": "stdout",
     "output_type": "stream",
     "text": [
      "num_records_removed:  4944753\n",
      "num_records_kept:  7720749\n"
     ]
    }
   ],
   "source": [
    "og_len = len(crsp_df)\n",
    "crsp_df = crsp_df[crsp_df[\"SHRCD_Type\"] == \"1\"]\n",
    "new_len = len(crsp_df)\n",
    "print(\"num_records_removed: \", og_len - new_len)\n",
    "print(\"num_records_kept: \", new_len)"
   ]
  },
  {
   "cell_type": "markdown",
   "metadata": {
    "id": "fFZPxMwrjHZ7"
   },
   "source": [
    "# Review EXCHCD: Listed Exchange\n",
    "EXCHCD is a code indicating the exchange on which a security is listed."
   ]
  },
  {
   "cell_type": "markdown",
   "metadata": {
    "id": "XLrcEFXgjxCj"
   },
   "source": [
    "## C1. Fill EXCHCD na with 0 as \"not listed in any exchange\""
   ]
  },
  {
   "cell_type": "code",
   "execution_count": 18,
   "metadata": {
    "colab": {
     "base_uri": "https://localhost:8080/"
    },
    "executionInfo": {
     "elapsed": 3,
     "status": "ok",
     "timestamp": 1718854319791,
     "user": {
      "displayName": "Rachel Gao",
      "userId": "10756354987170970544"
     },
     "user_tz": 420
    },
    "id": "SfJcRT9XjxCy",
    "outputId": "c3bacc23-d802-497d-f9ef-7d1fc88f214e"
   },
   "outputs": [],
   "source": [
    "crsp_df[\"EXCHCD\"] = pd.to_numeric(crsp_df['EXCHCD'], errors='coerce').fillna(0).astype(int)"
   ]
  },
  {
   "cell_type": "markdown",
   "metadata": {
    "id": "ZJGI8SNfkA9I"
   },
   "source": [
    "## C2. Remove all records where EXCHCD < 0 (Halted, Suspended, or Not Trading)"
   ]
  },
  {
   "cell_type": "code",
   "execution_count": 19,
   "metadata": {
    "colab": {
     "base_uri": "https://localhost:8080/"
    },
    "executionInfo": {
     "elapsed": 1023,
     "status": "ok",
     "timestamp": 1718854320813,
     "user": {
      "displayName": "Rachel Gao",
      "userId": "10756354987170970544"
     },
     "user_tz": 420
    },
    "id": "DMUUquxukKI6",
    "outputId": "9282ea4d-3d96-4998-f2a5-489de7a66c9b"
   },
   "outputs": [
    {
     "name": "stdout",
     "output_type": "stream",
     "text": [
      "num_records_removed:  41551\n",
      "num_records_kept:  7679198\n"
     ]
    }
   ],
   "source": [
    "og_len = len(crsp_df)\n",
    "crsp_df = crsp_df[crsp_df[\"EXCHCD\"] > 0]\n",
    "new_len = len(crsp_df)\n",
    "print(\"num_records_removed: \", og_len - new_len)\n",
    "print(\"num_records_kept: \", new_len)\n",
    "\n",
    "crsp_df[\"EXCHCD\"] = crsp_df[\"EXCHCD\"].astype(str)"
   ]
  },
  {
   "cell_type": "markdown",
   "metadata": {
    "id": "HlMv0onVlb8S"
   },
   "source": [
    "# Review PRIMEXCH: Primary Exchange\n",
    "Primary Exchange is a one-character code which identifies the primary exchange on which the security trades.\n",
    "\n",
    "https://www.crsp.org/wp-content/uploads/appendix/FlagType_EC.html"
   ]
  },
  {
   "cell_type": "markdown",
   "metadata": {
    "id": "R9RnNahRmD8C"
   },
   "source": [
    "## D1. Fill PRIMEXCH na with X as \"Unknown\""
   ]
  },
  {
   "cell_type": "code",
   "execution_count": 20,
   "metadata": {
    "executionInfo": {
     "elapsed": 235,
     "status": "ok",
     "timestamp": 1718854321046,
     "user": {
      "displayName": "Rachel Gao",
      "userId": "10756354987170970544"
     },
     "user_tz": 420
    },
    "id": "KOWndA_4mD8C"
   },
   "outputs": [],
   "source": [
    "crsp_df[\"PRIMEXCH\"] = crsp_df[\"PRIMEXCH\"].fillna(\"X\")"
   ]
  },
  {
   "cell_type": "markdown",
   "metadata": {
    "id": "H_EiCPp3mnDY"
   },
   "source": [
    "# Review TRDSTAT: Trading Status\n",
    "Trading Status is a one-character field containing the trading status of securities."
   ]
  },
  {
   "cell_type": "markdown",
   "metadata": {
    "id": "cMD1OT2smnDY"
   },
   "source": [
    "## E1. Fill TRDSTAT na with X as \"Unknown\""
   ]
  },
  {
   "cell_type": "code",
   "execution_count": 21,
   "metadata": {
    "executionInfo": {
     "elapsed": 2,
     "status": "ok",
     "timestamp": 1718854321046,
     "user": {
      "displayName": "Rachel Gao",
      "userId": "10756354987170970544"
     },
     "user_tz": 420
    },
    "id": "GZcv3T9PmnDY"
   },
   "outputs": [],
   "source": [
    "crsp_df[\"TRDSTAT\"] = crsp_df[\"TRDSTAT\"].fillna(\"X\")"
   ]
  },
  {
   "cell_type": "markdown",
   "metadata": {
    "id": "_38SVYiqmnDY"
   },
   "source": [
    "## E2. Keep only records where TRDSTAT == A (Active trading status)"
   ]
  },
  {
   "cell_type": "code",
   "execution_count": 22,
   "metadata": {
    "colab": {
     "base_uri": "https://localhost:8080/"
    },
    "executionInfo": {
     "elapsed": 693,
     "status": "ok",
     "timestamp": 1718854321738,
     "user": {
      "displayName": "Rachel Gao",
      "userId": "10756354987170970544"
     },
     "user_tz": 420
    },
    "id": "bzYgw2YymnDY",
    "outputId": "147b8a50-4d17-4896-c3c7-58bdbda2e766"
   },
   "outputs": [
    {
     "name": "stdout",
     "output_type": "stream",
     "text": [
      "num_records_removed:  0\n",
      "num_records_kept:  7679198\n"
     ]
    }
   ],
   "source": [
    "og_len = len(crsp_df)\n",
    "crsp_df = crsp_df[crsp_df[\"TRDSTAT\"] == \"A\"]\n",
    "new_len = len(crsp_df)\n",
    "print(\"num_records_removed: \", og_len - new_len)\n",
    "print(\"num_records_kept: \", new_len)"
   ]
  },
  {
   "cell_type": "markdown",
   "metadata": {
    "id": "jQV033grnoPx"
   },
   "source": [
    "# Review SECSTAT: Security Status\n",
    "Security Status is a one-character code that describes the status of a security."
   ]
  },
  {
   "cell_type": "markdown",
   "metadata": {
    "id": "tViC-J39noPx"
   },
   "source": [
    "## E1. Fill SECSTAT na with X as \"Unknown\""
   ]
  },
  {
   "cell_type": "code",
   "execution_count": 23,
   "metadata": {
    "executionInfo": {
     "elapsed": 236,
     "status": "ok",
     "timestamp": 1718854321973,
     "user": {
      "displayName": "Rachel Gao",
      "userId": "10756354987170970544"
     },
     "user_tz": 420
    },
    "id": "alAHA1GenoPx"
   },
   "outputs": [],
   "source": [
    "crsp_df[\"SECSTAT\"] = crsp_df[\"SECSTAT\"].fillna(\"X\")"
   ]
  },
  {
   "cell_type": "markdown",
   "metadata": {
    "id": "WrIEUgzVnoPx"
   },
   "source": [
    "## E2. Keep only records where SECSTAT == R (Regular Way)"
   ]
  },
  {
   "cell_type": "code",
   "execution_count": 24,
   "metadata": {
    "colab": {
     "base_uri": "https://localhost:8080/"
    },
    "executionInfo": {
     "elapsed": 825,
     "status": "ok",
     "timestamp": 1718854322796,
     "user": {
      "displayName": "Rachel Gao",
      "userId": "10756354987170970544"
     },
     "user_tz": 420
    },
    "id": "SZrG76YpnoPy",
    "outputId": "85ffe8e3-0983-4ef5-bc23-325d130042a3"
   },
   "outputs": [
    {
     "name": "stdout",
     "output_type": "stream",
     "text": [
      "num_records_removed:  0\n",
      "num_records_kept:  7679198\n"
     ]
    }
   ],
   "source": [
    "og_len = len(crsp_df)\n",
    "crsp_df = crsp_df[crsp_df[\"SECSTAT\"] == \"R\"]\n",
    "new_len = len(crsp_df)\n",
    "print(\"num_records_removed: \", og_len - new_len)\n",
    "print(\"num_records_kept: \", new_len)"
   ]
  },
  {
   "cell_type": "markdown",
   "metadata": {
    "id": "-ymMf2NPJs21"
   },
   "source": [
    "# Take another look at the null analysis"
   ]
  },
  {
   "cell_type": "code",
   "execution_count": 25,
   "metadata": {
    "colab": {
     "base_uri": "https://localhost:8080/",
     "height": 493
    },
    "executionInfo": {
     "elapsed": 1313,
     "status": "ok",
     "timestamp": 1718854324107,
     "user": {
      "displayName": "Rachel Gao",
      "userId": "10756354987170970544"
     },
     "user_tz": 420
    },
    "id": "qKAJQ25mJs3A",
    "outputId": "466e3566-09a6-427a-a1df-61b98a37abb7"
   },
   "outputs": [
    {
     "data": {
      "image/png": "[encoded data removed]",
      "text/plain": [
       "<Figure size 1200x400 with 1 Axes>"
      ]
     },
     "metadata": {},
     "output_type": "display_data"
    }
   ],
   "source": [
    "# Count the number of nulls in each column\n",
    "null_counts = crsp_df.isnull().sum()\n",
    "\n",
    "# Calculate the percentage of nulls in each column\n",
    "total_rows = len(crsp_df)\n",
    "null_percentages = (null_counts / total_rows) * 100\n",
    "\n",
    "# Plot the percentages as a bar plot\n",
    "ax = null_percentages.plot(kind='bar', figsize=(12, 4), color='skyblue')\n",
    "plt.title('Percentage of Null Values in Each Column')\n",
    "plt.xlabel('Columns')\n",
    "plt.ylim(0, max(null_percentages.values)+10)\n",
    "plt.ylabel('Percentage of Nulls (%)')\n",
    "\n",
    "# Annotate the bars with the percentage values\n",
    "for i, percentage in enumerate(null_percentages):\n",
    "    if percentage != 0:\n",
    "        ax.annotate(f'{percentage:.0f}%', xy=(i, percentage), xytext=(0, 3),\n",
    "                    textcoords='offset points', ha='center', va='bottom', color='red')\n",
    "\n",
    "plt.show()"
   ]
  },
  {
   "cell_type": "markdown",
   "metadata": {
    "id": "YdaRMD0LLcA7"
   },
   "source": [
    "# Review NAICS: North American Industry Classification System Code\n",
    "\n",
    "North American Industry Classification System Code (NAICS) is an 6-character code used to group companies with similar products or services.\n",
    "\n",
    "NAICS is a hierachical code, containing up to six digits: The first two fields, NAICS sectors, designate general categories of economic activity, the third field, sub-sector, further defines the sector, the fourth field is the industry group, the fifth field is the NAICS industry, and the sixth field represents the national industry (a zero in the 6th digit generally indicates that the NAICS industry and teh country industry are the same)."
   ]
  },
  {
   "cell_type": "markdown",
   "metadata": {
    "id": "i0UhjNHQMjDu"
   },
   "source": [
    "## F1. Fill NAICS na with 999999 as \"Unknown\"\n",
    "\n"
   ]
  },
  {
   "cell_type": "code",
   "execution_count": 26,
   "metadata": {
    "executionInfo": {
     "elapsed": 2,
     "status": "ok",
     "timestamp": 1718854324107,
     "user": {
      "displayName": "Rachel Gao",
      "userId": "10756354987170970544"
     },
     "user_tz": 420
    },
    "id": "dX8B4fcNNGXd"
   },
   "outputs": [],
   "source": [
    "crsp_df[\"NAICS\"] = crsp_df[\"NAICS\"].fillna(\"999999\")"
   ]
  },
  {
   "cell_type": "markdown",
   "metadata": {
    "id": "WAtBKPuQNSib"
   },
   "source": [
    "## F2. Split NAICS to two columns ['NAICS_Sector', 'NAICS_Secondary']"
   ]
  },
  {
   "cell_type": "code",
   "execution_count": 27,
   "metadata": {
    "executionInfo": {
     "elapsed": 2172,
     "status": "ok",
     "timestamp": 1718854326277,
     "user": {
      "displayName": "Rachel Gao",
      "userId": "10756354987170970544"
     },
     "user_tz": 420
    },
    "id": "R_Xr5i9zOqqo"
   },
   "outputs": [],
   "source": [
    "crsp_df['NAICS_Sector'] = crsp_df['NAICS'].astype(str).str[:2]\n",
    "crsp_df['NAICS_Secondary'] = crsp_df['NAICS'].astype(str).str[2:]"
   ]
  },
  {
   "cell_type": "code",
   "execution_count": 28,
   "metadata": {
    "colab": {
     "base_uri": "https://localhost:8080/"
    },
    "executionInfo": {
     "elapsed": 868,
     "status": "ok",
     "timestamp": 1718854327143,
     "user": {
      "displayName": "Rachel Gao",
      "userId": "10756354987170970544"
     },
     "user_tz": 420
    },
    "id": "2UVdb4TcNSic",
    "outputId": "53c81e29-e05d-4fad-dd47-2eaec26b8f8f"
   },
   "outputs": [
    {
     "name": "stdout",
     "output_type": "stream",
     "text": [
      "---------- NAICS_Sector ----------\n",
      "28\n",
      "NAICS_Sector\n",
      "52    1825643\n",
      "33    1201230\n",
      "32     941301\n",
      "54     545264\n",
      "51     491657\n",
      "21     355642\n",
      "53     321538\n",
      "56     300820\n",
      "42     256514\n",
      "31     178603\n",
      "44     174325\n",
      "48     161630\n",
      "62     150694\n",
      "22     131369\n",
      "55     118633\n",
      "72     109493\n",
      "23      96908\n",
      "99      91217\n",
      "45      91096\n",
      "71      39479\n",
      "81      32338\n",
      "61      29367\n",
      "11      22685\n",
      "49       8926\n",
      "92       2737\n",
      "73         34\n",
      "67         28\n",
      "10         27\n",
      "Name: count, dtype: int64\n",
      "---------- NAICS_Secondary ----------\n",
      "522\n",
      "NAICS_Secondary\n",
      "3910.0    571678\n",
      "5412.0    533883\n",
      "2110.0    440740\n",
      "1110.0    297150\n",
      "1210.0    272506\n",
      "           ...  \n",
      "1214.0        27\n",
      "8100.0        27\n",
      "4240.0        19\n",
      "9121.0        13\n",
      "9129.0         7\n",
      "Name: count, Length: 522, dtype: int64\n"
     ]
    }
   ],
   "source": [
    "for column in ['NAICS_Sector', 'NAICS_Secondary']:\n",
    "  print(\"-\"*10, column, \"-\"*10)\n",
    "  print(crsp_df[column].nunique())\n",
    "  print(crsp_df[column].value_counts())"
   ]
  },
  {
   "cell_type": "markdown",
   "metadata": {
    "id": "oszoTeXHQGLp"
   },
   "source": [
    "## F3. Clean-up the NAICS sector column to readable format\n",
    "\n",
    "https://www.census.gov/naics/reference_files_tools/2022_NAICS_Manual.pdf"
   ]
  },
  {
   "cell_type": "code",
   "execution_count": 29,
   "metadata": {
    "executionInfo": {
     "elapsed": 3296,
     "status": "ok",
     "timestamp": 1718854330437,
     "user": {
      "displayName": "Rachel Gao",
      "userId": "10756354987170970544"
     },
     "user_tz": 420
    },
    "id": "Ctye7VYCQLjj"
   },
   "outputs": [],
   "source": [
    "sector_dict = {\"11\": \"Agriculture, Forestry, Fishing and Hunting\",\n",
    "               \"21\":\"Mining, Quarrying, and Oil and Gas Extraction\",\n",
    "               \"22\":\"Utilities\",\n",
    "               \"23\":\"Construction\",\n",
    "               \"31\":\"Manufacturing\",\n",
    "               \"32\":\"Manufacturing\",\n",
    "               \"33\":\"Manufacturing\",\n",
    "               \"42\":\"Wholesale Trade\",\n",
    "               \"44\":\"Retail Trade\",\n",
    "               \"45\":\"Retail Trade\",\n",
    "               \"48\":\"Transportation and Warehousing\",\n",
    "               \"49\":\"Transportation and Warehousing\",\n",
    "               \"51\":\"Information\",\n",
    "               \"52\":\"Finance and Insurance\",\n",
    "               \"53\":\"Real Estate and Rental and Leasing\",\n",
    "               \"54\":\"Professional, Scientific, and Technical Services\",\n",
    "               \"55\":\"Management of Companies and Enterprises\",\n",
    "               \"56\":\"Administrative and Support and Waste Management and Remediation Services\",\n",
    "               \"61\":\"Educational Services\",\n",
    "               \"62\":\"Health Care and Social Assistance\",\n",
    "               \"71\":\"Arts, Entertainment, and Recreation\",\n",
    "               \"72\":\"Accommodation and Food Services\",\n",
    "               \"81\":\"Other Services (except Public Administration)\",\n",
    "               \"92\":\"Public Administration\",\n",
    "               \"99\":\"Unknown\"\n",
    "               }\n",
    "\n",
    "crsp_df['NAICS_Sector'] = crsp_df['NAICS_Sector'].replace(sector_dict)"
   ]
  },
  {
   "cell_type": "code",
   "execution_count": 30,
   "metadata": {
    "colab": {
     "base_uri": "https://localhost:8080/"
    },
    "executionInfo": {
     "elapsed": 4,
     "status": "ok",
     "timestamp": 1718854330437,
     "user": {
      "displayName": "Rachel Gao",
      "userId": "10756354987170970544"
     },
     "user_tz": 420
    },
    "id": "ah-Od3UHRAPs",
    "outputId": "6665976e-4d0d-4f5f-a900-874b6c7aad5e"
   },
   "outputs": [
    {
     "name": "stdout",
     "output_type": "stream",
     "text": [
      "NAICS_Sector\n",
      "Manufacturing                                                               2321134\n",
      "Finance and Insurance                                                       1825643\n",
      "Professional, Scientific, and Technical Services                             545264\n",
      "Information                                                                  491657\n",
      "Mining, Quarrying, and Oil and Gas Extraction                                355642\n",
      "Real Estate and Rental and Leasing                                           321538\n",
      "Administrative and Support and Waste Management and Remediation Services     300820\n",
      "Retail Trade                                                                 265421\n",
      "Wholesale Trade                                                              256514\n",
      "Transportation and Warehousing                                               170556\n",
      "Health Care and Social Assistance                                            150694\n",
      "Utilities                                                                    131369\n",
      "Management of Companies and Enterprises                                      118633\n",
      "Accommodation and Food Services                                              109493\n",
      "Construction                                                                  96908\n",
      "Unknown                                                                       91217\n",
      "Arts, Entertainment, and Recreation                                           39479\n",
      "Other Services (except Public Administration)                                 32338\n",
      "Educational Services                                                          29367\n",
      "Agriculture, Forestry, Fishing and Hunting                                    22685\n",
      "Public Administration                                                          2737\n",
      "73                                                                               34\n",
      "67                                                                               28\n",
      "10                                                                               27\n",
      "Name: count, dtype: int64\n"
     ]
    }
   ],
   "source": [
    "print(crsp_df[\"NAICS_Sector\"].value_counts())"
   ]
  },
  {
   "cell_type": "code",
   "execution_count": 31,
   "metadata": {
    "colab": {
     "base_uri": "https://localhost:8080/",
     "height": 547
    },
    "executionInfo": {
     "elapsed": 2560,
     "status": "ok",
     "timestamp": 1718854332995,
     "user": {
      "displayName": "Rachel Gao",
      "userId": "10756354987170970544"
     },
     "user_tz": 420
    },
    "id": "XVZi0gC0ThzM",
    "outputId": "644d6f12-aa39-4ed6-b526-2b32e73e41ae"
   },
   "outputs": [
    {
     "data": {
      "image/png": "[encoded data removed]",
      "text/plain": [
       "<Figure size 1000x600 with 1 Axes>"
      ]
     },
     "metadata": {},
     "output_type": "display_data"
    }
   ],
   "source": [
    "# Calculate the category counts and sort them in descending order\n",
    "category_counts = crsp_df['NAICS_Sector'].value_counts().sort_values(ascending=False)\n",
    "\n",
    "# Plot the counts distribution\n",
    "plt.figure(figsize=(10, 6))\n",
    "sns.countplot(data=crsp_df, y='NAICS_Sector', order=category_counts.index)\n",
    "plt.title('Distribution of NAICS_Sector')\n",
    "plt.xlabel('Number of Records')\n",
    "plt.ylabel('NAICS_Sector')\n",
    "\n",
    "# Annotate the bars with the count values\n",
    "for i, count in enumerate(category_counts):\n",
    "    plt.text(count, i, f'{count}', ha='left', va='center', color='black')\n",
    "\n",
    "plt.show()"
   ]
  },
  {
   "cell_type": "markdown",
   "metadata": {
    "id": "m2ZgkWdKWwwu"
   },
   "source": [
    "# Review NUMTRD: Number of Trades\n",
    "Daily: Number of Trades, Nasdaq contains the number of trades made on the Nasdaq Stock Market each date for a security. Trades on all exchanges are connected to Nasdaqs composite pricing network and all paper trades are included in the count. If the number of trades is unavailable, the field is set to 99."
   ]
  },
  {
   "cell_type": "markdown",
   "metadata": {
    "id": "Ze5kilDSWwwu"
   },
   "source": [
    "## G1. Fill NUMTRD na with 99 as \"Unknown\""
   ]
  },
  {
   "cell_type": "code",
   "execution_count": 32,
   "metadata": {
    "executionInfo": {
     "elapsed": 14,
     "status": "ok",
     "timestamp": 1718854332995,
     "user": {
      "displayName": "Rachel Gao",
      "userId": "10756354987170970544"
     },
     "user_tz": 420
    },
    "id": "8WdPhliqWwwu"
   },
   "outputs": [],
   "source": [
    "crsp_df[\"NUMTRD\"] = crsp_df[\"NUMTRD\"].fillna(\"99\")"
   ]
  },
  {
   "cell_type": "markdown",
   "metadata": {
    "id": "cEL6XxwkWwwv"
   },
   "source": [
    "## G2. Cast NUMTRD to integer type"
   ]
  },
  {
   "cell_type": "markdown",
   "metadata": {
    "id": "hmiat75eXFY4"
   },
   "source": [
    "# Review all remaining value related columns."
   ]
  },
  {
   "cell_type": "markdown",
   "metadata": {
    "id": "EQRmPzR1XKqK"
   },
   "source": [
    "## H1. Fill na with 0 and cast to appropriate type"
   ]
  },
  {
   "cell_type": "code",
   "execution_count": 33,
   "metadata": {
    "executionInfo": {
     "elapsed": 14,
     "status": "ok",
     "timestamp": 1718854332995,
     "user": {
      "displayName": "Rachel Gao",
      "userId": "10756354987170970544"
     },
     "user_tz": 420
    },
    "id": "u1uhhrRmXyrY"
   },
   "outputs": [],
   "source": [
    "int_cols = [\"VOL\", \"SHROUT\", \"NUMTRD\"]\n",
    "float_cols = ['ASKHI', 'ASK', 'BIDLO', 'BID', 'OPENPRC', 'PRC', 'RET', \"CFACPR\", \"CFACSHR\", 'vwretd', 'ewretd', 'sprtrn']\n",
    "str_cols = ['PERMNO', 'NCUSIP', 'CUSIP', 'TICKER', 'SHRCD', 'SHRCD_Type', 'SHRCD_Detail', 'EXCHCD', 'COMNAM', 'PRIMEXCH', 'TRDSTAT', 'SECSTAT', 'NAICS', 'NAICS_Sector', 'NAICS_Secondary']"
   ]
  },
  {
   "cell_type": "code",
   "execution_count": 34,
   "metadata": {
    "executionInfo": {
     "elapsed": 64417,
     "status": "ok",
     "timestamp": 1718854397398,
     "user": {
      "displayName": "Rachel Gao",
      "userId": "10756354987170970544"
     },
     "user_tz": 420
    },
    "id": "dOndgxZCYG2T"
   },
   "outputs": [],
   "source": [
    "crsp_df[int_cols] = crsp_df[int_cols].apply(lambda x: pd.to_numeric(x, errors='coerce')).fillna(0).astype(int)\n",
    "crsp_df[float_cols] = crsp_df[float_cols].apply(lambda x: pd.to_numeric(x, errors='coerce')).fillna(0.00).astype(float)\n",
    "crsp_df[str_cols] = crsp_df[str_cols].astype(str)"
   ]
  },
  {
   "cell_type": "markdown",
   "metadata": {
    "id": "4w5TxPkbY4Vb"
   },
   "source": [
    "# Take another look at the null analysis"
   ]
  },
  {
   "cell_type": "code",
   "execution_count": 35,
   "metadata": {
    "executionInfo": {
     "elapsed": 1062,
     "status": "ok",
     "timestamp": 1718854398458,
     "user": {
      "displayName": "Rachel Gao",
      "userId": "10756354987170970544"
     },
     "user_tz": 420
    },
    "id": "Z_CQBmOQY4Vb"
   },
   "outputs": [],
   "source": [
    "# Count the number of nulls in each column\n",
    "null_counts = crsp_df.isnull().sum()\n",
    "\n",
    "# Calculate the percentage of nulls in each column\n",
    "total_rows = len(crsp_df)\n",
    "null_percentages = (null_counts / total_rows) * 100\n",
    "\n",
    "assert null_percentages.min() == 0.0"
   ]
  },
  {
   "cell_type": "markdown",
   "metadata": {
    "id": "88kCLrSHf-8f"
   },
   "source": [
    "## I1. Remove duplicates"
   ]
  },
  {
   "cell_type": "code",
   "execution_count": 36,
   "metadata": {
    "colab": {
     "base_uri": "https://localhost:8080/"
    },
    "executionInfo": {
     "elapsed": 4916,
     "status": "ok",
     "timestamp": 1718854403372,
     "user": {
      "displayName": "Rachel Gao",
      "userId": "10756354987170970544"
     },
     "user_tz": 420
    },
    "id": "PwwK4UTIf8ho",
    "outputId": "229ce362-ea1a-4e99-8b60-18fc898e641a"
   },
   "outputs": [
    {
     "name": "stdout",
     "output_type": "stream",
     "text": [
      "num_records_removed:  1140\n",
      "num_records_kept:  7678058\n"
     ]
    }
   ],
   "source": [
    "og_len = len(crsp_df)\n",
    "crsp_df = crsp_df.drop_duplicates()\n",
    "new_len = len(crsp_df)\n",
    "print(\"num_records_removed: \", og_len - new_len)\n",
    "print(\"num_records_kept: \", new_len)"
   ]
  },
  {
   "cell_type": "markdown",
   "metadata": {
    "id": "8HV4lEtaZG09"
   },
   "source": [
    "# Confirm each PERMNO contains at most num_days records (each PERMNO only has one record per day)"
   ]
  },
  {
   "cell_type": "code",
   "execution_count": 37,
   "metadata": {},
   "outputs": [],
   "source": [
    "num_days = crsp_df[\"date\"].nunique()"
   ]
  },
  {
   "cell_type": "code",
   "execution_count": 38,
   "metadata": {
    "executionInfo": {
     "elapsed": 16,
     "status": "ok",
     "timestamp": 1718854403372,
     "user": {
      "displayName": "Rachel Gao",
      "userId": "10756354987170970544"
     },
     "user_tz": 420
    },
    "id": "hRJJ5TQzgRSC"
   },
   "outputs": [],
   "source": [
    "assert crsp_df[\"PERMNO\"].value_counts().max() <= num_days"
   ]
  },
  {
   "cell_type": "markdown",
   "metadata": {
    "id": "jzRi6LyEg4Pf"
   },
   "source": [
    "## J1. Drop all PERMNO with less than 128 days of return"
   ]
  },
  {
   "cell_type": "code",
   "execution_count": 39,
   "metadata": {
    "colab": {
     "base_uri": "https://localhost:8080/"
    },
    "executionInfo": {
     "elapsed": 1135,
     "status": "ok",
     "timestamp": 1718854404492,
     "user": {
      "displayName": "Rachel Gao",
      "userId": "10756354987170970544"
     },
     "user_tz": 420
    },
    "id": "TUfmLWSphOdp",
    "outputId": "9cfcde2b-a2ef-4f1e-e9e3-86f6026b29cf"
   },
   "outputs": [
    {
     "name": "stdout",
     "output_type": "stream",
     "text": [
      "num_PERMNO_og:  7145\n",
      "num_PERMNO_removed:  269\n",
      "num_PERMNO_kept:  7145\n"
     ]
    }
   ],
   "source": [
    "og_permno = crsp_df['PERMNO'].nunique()\n",
    "permno_counts = crsp_df['PERMNO'].value_counts()\n",
    "permno_to_keep = permno_counts[permno_counts >= 128].index\n",
    "crsp_df = crsp_df[crsp_df['PERMNO'].isin(permno_to_keep)]\n",
    "\n",
    "assert crsp_df[\"PERMNO\"].value_counts().min() >= 128\n",
    "\n",
    "new_permno = crsp_df['PERMNO'].nunique()\n",
    "print(\"num_PERMNO_og: \", new_permno)\n",
    "print(\"num_PERMNO_removed: \", og_permno - new_permno)\n",
    "print(\"num_PERMNO_kept: \", new_permno)"
   ]
  },
  {
   "cell_type": "markdown",
   "metadata": {
    "id": "9HyqlNvlkDCy"
   },
   "source": [
    "## J2. Rename & Reorder all columns"
   ]
  },
  {
   "cell_type": "code",
   "execution_count": 40,
   "metadata": {
    "executionInfo": {
     "elapsed": 1323,
     "status": "ok",
     "timestamp": 1718854405813,
     "user": {
      "displayName": "Rachel Gao",
      "userId": "10756354987170970544"
     },
     "user_tz": 420
    },
    "id": "PBM94pMjkGCw"
   },
   "outputs": [],
   "source": [
    "rename_dict = {'date': \"Date\",\n",
    "               'PERMNO': \"PERMNO_ID\",\n",
    "               'NCUSIP': \"NCUSIP_ID\",\n",
    "               'CUSIP': \"CUSIP_ID\",\n",
    "               'TICKER': \"Ticker\",\n",
    "               'SHRCD': \"Share_Code\",\n",
    "               'SHRCD_Type': \"Share_Code_Type\",\n",
    "               'SHRCD_Detail': \"Share_Code_Detail\",\n",
    "               'EXCHCD': \"Exchange_Code\",\n",
    "               'COMNAM': \"Company_Name\",\n",
    "               'PRIMEXCH': \"Primary_Exchange\",\n",
    "               'TRDSTAT': \"Trading_Status\",\n",
    "               'SECSTAT': \"Security_Status\",\n",
    "               'NAICS': \"NAICS_Industry\",\n",
    "               'NAICS_Sector': \"NAICS_Sector\",\n",
    "               'NAICS_Secondary': \"NAICS_Secondary\",\n",
    "               'ASKHI': \"Ask_or_High_Price\",\n",
    "               'ASK': \"Ask_Price\",\n",
    "               'BIDLO': \"Bid_or_Low_Price\",\n",
    "               'BID': \"Bid_Price\",\n",
    "               'OPENPRC': \"Open_Price\",\n",
    "               'PRC': \"Close_Price\",\n",
    "               'RET': \"Return\",\n",
    "               'VOL': \"Volume\",\n",
    "               'SHROUT': \"Shares_Outstanding\",\n",
    "               'NUMTRD': \"Number_of_Trades\",\n",
    "               'CFACPR': \"Cumu_Factor_to_Adjust_Price\",\n",
    "               'CFACSHR': \"Cumu_Factor_to_Adjust_Shares\",\n",
    "               'vwretd': \"Value_Weighted_Return\",\n",
    "               'ewretd': \"Equal_Weighted_Return\",\n",
    "               'sprtrn': \"Return_on_SP_Composite_Index\"}\n",
    "\n",
    "crsp_df = crsp_df.rename(columns=rename_dict)\n",
    "crsp_df = crsp_df[list(rename_dict.values())]"
   ]
  },
  {
   "cell_type": "markdown",
   "metadata": {
    "id": "ke6Vs_NziX5n"
   },
   "source": [
    "# Take a final look at the columns"
   ]
  },
  {
   "cell_type": "code",
   "execution_count": 41,
   "metadata": {
    "colab": {
     "base_uri": "https://localhost:8080/"
    },
    "executionInfo": {
     "elapsed": 6,
     "status": "ok",
     "timestamp": 1718854405813,
     "user": {
      "displayName": "Rachel Gao",
      "userId": "10756354987170970544"
     },
     "user_tz": 420
    },
    "id": "KPjXphnHiX5n",
    "outputId": "d501cc76-a194-4ab4-b3c3-7d3e4444ffbc"
   },
   "outputs": [
    {
     "data": {
      "text/plain": [
       "Index(['Date', 'PERMNO_ID', 'NCUSIP_ID', 'CUSIP_ID', 'Ticker', 'Share_Code',\n",
       "       'Share_Code_Type', 'Share_Code_Detail', 'Exchange_Code', 'Company_Name',\n",
       "       'Primary_Exchange', 'Trading_Status', 'Security_Status',\n",
       "       'NAICS_Industry', 'NAICS_Sector', 'NAICS_Secondary',\n",
       "       'Ask_or_High_Price', 'Ask_Price', 'Bid_or_Low_Price', 'Bid_Price',\n",
       "       'Open_Price', 'Close_Price', 'Return', 'Volume', 'Shares_Outstanding',\n",
       "       'Number_of_Trades', 'Cumu_Factor_to_Adjust_Price',\n",
       "       'Cumu_Factor_to_Adjust_Shares', 'Value_Weighted_Return',\n",
       "       'Equal_Weighted_Return', 'Return_on_SP_Composite_Index'],\n",
       "      dtype='object')"
      ]
     },
     "execution_count": 41,
     "metadata": {},
     "output_type": "execute_result"
    }
   ],
   "source": [
    "crsp_df.columns"
   ]
  },
  {
   "cell_type": "code",
   "execution_count": 42,
   "metadata": {
    "colab": {
     "base_uri": "https://localhost:8080/"
    },
    "executionInfo": {
     "elapsed": 6,
     "status": "ok",
     "timestamp": 1718854405814,
     "user": {
      "displayName": "Rachel Gao",
      "userId": "10756354987170970544"
     },
     "user_tz": 420
    },
    "id": "195_fzCXiX5o",
    "outputId": "2dcb6c56-3b5c-494c-bba4-be6b636341d4"
   },
   "outputs": [
    {
     "data": {
      "text/plain": [
       "Date                            datetime64[ns]\n",
       "PERMNO_ID                               object\n",
       "NCUSIP_ID                               object\n",
       "CUSIP_ID                                object\n",
       "Ticker                                  object\n",
       "Share_Code                              object\n",
       "Share_Code_Type                         object\n",
       "Share_Code_Detail                       object\n",
       "Exchange_Code                           object\n",
       "Company_Name                            object\n",
       "Primary_Exchange                        object\n",
       "Trading_Status                          object\n",
       "Security_Status                         object\n",
       "NAICS_Industry                          object\n",
       "NAICS_Sector                            object\n",
       "NAICS_Secondary                         object\n",
       "Ask_or_High_Price                      float64\n",
       "Ask_Price                              float64\n",
       "Bid_or_Low_Price                       float64\n",
       "Bid_Price                              float64\n",
       "Open_Price                             float64\n",
       "Close_Price                            float64\n",
       "Return                                 float64\n",
       "Volume                                   int64\n",
       "Shares_Outstanding                       int64\n",
       "Number_of_Trades                         int64\n",
       "Cumu_Factor_to_Adjust_Price            float64\n",
       "Cumu_Factor_to_Adjust_Shares           float64\n",
       "Value_Weighted_Return                  float64\n",
       "Equal_Weighted_Return                  float64\n",
       "Return_on_SP_Composite_Index           float64\n",
       "dtype: object"
      ]
     },
     "execution_count": 42,
     "metadata": {},
     "output_type": "execute_result"
    }
   ],
   "source": [
    "crsp_df.dtypes"
   ]
  },
  {
   "cell_type": "code",
   "execution_count": 43,
   "metadata": {
    "colab": {
     "base_uri": "https://localhost:8080/"
    },
    "executionInfo": {
     "elapsed": 4,
     "status": "ok",
     "timestamp": 1718854405814,
     "user": {
      "displayName": "Rachel Gao",
      "userId": "10756354987170970544"
     },
     "user_tz": 420
    },
    "id": "EqtXW4RpiX5o",
    "outputId": "fca26289-698b-4ab3-9ee2-31d6497cb158"
   },
   "outputs": [
    {
     "name": "stdout",
     "output_type": "stream",
     "text": [
      "number of records: 7660431\n",
      "number of columns: 31\n"
     ]
    }
   ],
   "source": [
    "crsp_len = len(crsp_df)\n",
    "crsp_cols = len(crsp_df.columns)\n",
    "print(\"number of records:\", crsp_len)\n",
    "print(\"number of columns:\", crsp_cols)"
   ]
  },
  {
   "cell_type": "markdown",
   "metadata": {
    "id": "KzwUEbGmilqF"
   },
   "source": [
    "# Review unique values and distribution in each remaining column"
   ]
  },
  {
   "cell_type": "code",
   "execution_count": 44,
   "metadata": {
    "colab": {
     "base_uri": "https://localhost:8080/"
    },
    "executionInfo": {
     "elapsed": 3859,
     "status": "ok",
     "timestamp": 1718854409670,
     "user": {
      "displayName": "Rachel Gao",
      "userId": "10756354987170970544"
     },
     "user_tz": 420
    },
    "id": "s3Y6SYRiilqG",
    "outputId": "544ba568-51a3-4a47-8d95-6b1e625eabda"
   },
   "outputs": [
    {
     "name": "stdout",
     "output_type": "stream",
     "text": [
      "---------- Date ----------\n",
      "1509\n",
      "Date\n",
      "2022-05-17    5891\n",
      "2022-05-18    5891\n",
      "2022-05-19    5890\n",
      "2022-05-13    5890\n",
      "2022-05-16    5889\n",
      "              ... \n",
      "2018-01-09    4433\n",
      "2018-01-05    4433\n",
      "2018-01-04    4433\n",
      "2018-01-03    4433\n",
      "2018-01-02    4433\n",
      "Name: count, Length: 1509, dtype: int64\n",
      "---------- PERMNO_ID ----------\n",
      "7145\n",
      "PERMNO_ID\n",
      "93436    1509\n",
      "10026    1509\n",
      "10028    1509\n",
      "10032    1509\n",
      "10044    1509\n",
      "         ... \n",
      "24012     129\n",
      "92034     129\n",
      "23994     128\n",
      "23970     128\n",
      "23978     128\n",
      "Name: count, Length: 7145, dtype: int64\n",
      "---------- NCUSIP_ID ----------\n",
      "9047\n",
      "NCUSIP_ID\n",
      "45383610    1509\n",
      "88160R10    1509\n",
      "46603210    1509\n",
      "78513510    1509\n",
      "92552R40    1509\n",
      "            ... \n",
      "75811Y10       1\n",
      "74102L20       1\n",
      "92535P87       1\n",
      "05338F30       1\n",
      "45784G10       1\n",
      "Name: count, Length: 9047, dtype: int64\n",
      "---------- CUSIP_ID ----------\n",
      "7147\n",
      "CUSIP_ID\n",
      "85208J10      1509\n",
      "88160R10      1509\n",
      "46603210      1509\n",
      "29402E10      1509\n",
      "72913210      1509\n",
      "              ... \n",
      "36870C10       129\n",
      "50012A10       128\n",
      "G3398L11       128\n",
      "80517M10       128\n",
      "51384710.0      96\n",
      "Name: count, Length: 7147, dtype: int64\n",
      "---------- Ticker ----------\n",
      "7923\n",
      "Ticker\n",
      "LGF      3018\n",
      "BRK      3018\n",
      "WSO      3018\n",
      "LEN      3018\n",
      "GEF      3018\n",
      "         ... \n",
      "FLYX        2\n",
      "TFCFA       2\n",
      "ESDI        2\n",
      "TFCF        2\n",
      "ZCAR        1\n",
      "Name: count, Length: 7923, dtype: int64\n",
      "---------- Share_Code ----------\n",
      "5\n",
      "Share_Code\n",
      "11.0    5896314\n",
      "12.0    1130706\n",
      "14.0     359726\n",
      "18.0     272176\n",
      "15.0       1509\n",
      "Name: count, dtype: int64\n",
      "---------- Share_Code_Type ----------\n",
      "1\n",
      "Share_Code_Type\n",
      "1    7660431\n",
      "Name: count, dtype: int64\n",
      "---------- Share_Code_Detail ----------\n",
      "5\n",
      "Share_Code_Detail\n",
      "1    5896314\n",
      "2    1130706\n",
      "4     359726\n",
      "8     272176\n",
      "5       1509\n",
      "Name: count, dtype: int64\n",
      "---------- Exchange_Code ----------\n",
      "5\n",
      "Exchange_Code\n",
      "3    4422372\n",
      "1    2878354\n",
      "2     358123\n",
      "5       1331\n",
      "6        251\n",
      "Name: count, dtype: int64\n",
      "---------- Company_Name ----------\n",
      "8317\n",
      "Company_Name\n",
      "LIBERTY MEDIA CORP 3RD NEW    10335\n",
      "LIBERTY GLOBAL PLC             4452\n",
      "DISCOVERY INC                  3048\n",
      "RUSH ENTERPRISES INC           3018\n",
      "KELLY SERVICES INC             3018\n",
      "                              ...  \n",
      "NOTABLE LABS INC                  2\n",
      "AERWINS TECHNOLOGY INC            2\n",
      "FLYEXCLUSIVE INC                  2\n",
      "ZOOMCAR HOLDINGS INC              1\n",
      "REEBONZ HOLDING LTD               1\n",
      "Name: count, Length: 8317, dtype: int64\n",
      "---------- Primary_Exchange ----------\n",
      "5\n",
      "Primary_Exchange\n",
      "Q    4422372\n",
      "N    2878354\n",
      "A     358123\n",
      "B       1331\n",
      "I        251\n",
      "Name: count, dtype: int64\n",
      "---------- Trading_Status ----------\n",
      "1\n",
      "Trading_Status\n",
      "A    7660431\n",
      "Name: count, dtype: int64\n",
      "---------- Security_Status ----------\n",
      "1\n",
      "Security_Status\n",
      "R    7660431\n",
      "Name: count, dtype: int64\n",
      "---------- NAICS_Industry ----------\n",
      "815\n",
      "NAICS_Industry\n",
      "523910.0    565957\n",
      "325412.0    532815\n",
      "522110.0    405911\n",
      "525990.0    191767\n",
      "511210.0    184225\n",
      "             ...  \n",
      "444240.0        19\n",
      "449121.0        13\n",
      "449129.0         7\n",
      "541519.0         4\n",
      "332111.0         4\n",
      "Name: count, Length: 815, dtype: int64\n",
      "---------- NAICS_Sector ----------\n",
      "24\n",
      "NAICS_Sector\n",
      "Manufacturing                                                               2317067\n",
      "Finance and Insurance                                                       1820761\n",
      "Professional, Scientific, and Technical Services                             544122\n",
      "Information                                                                  490088\n",
      "Mining, Quarrying, and Oil and Gas Extraction                                354444\n",
      "Real Estate and Rental and Leasing                                           321259\n",
      "Administrative and Support and Waste Management and Remediation Services     299986\n",
      "Retail Trade                                                                 264869\n",
      "Wholesale Trade                                                              256046\n",
      "Transportation and Warehousing                                               170045\n",
      "Health Care and Social Assistance                                            150138\n",
      "Utilities                                                                    131069\n",
      "Management of Companies and Enterprises                                      117658\n",
      "Accommodation and Food Services                                              109322\n",
      "Construction                                                                  96634\n",
      "Unknown                                                                       90483\n",
      "Arts, Entertainment, and Recreation                                           39228\n",
      "Other Services (except Public Administration)                                 32337\n",
      "Educational Services                                                          29367\n",
      "Agriculture, Forestry, Fishing and Hunting                                    22684\n",
      "Public Administration                                                          2735\n",
      "73                                                                               34\n",
      "67                                                                               28\n",
      "10                                                                               27\n",
      "Name: count, dtype: int64\n",
      "---------- NAICS_Secondary ----------\n",
      "519\n",
      "NAICS_Secondary\n",
      "3910.0    569161\n",
      "5412.0    532815\n",
      "2110.0    440352\n",
      "1110.0    296930\n",
      "1210.0    272009\n",
      "           ...  \n",
      "1214.0        27\n",
      "8100.0        27\n",
      "4240.0        19\n",
      "9121.0        13\n",
      "9129.0         7\n",
      "Name: count, Length: 519, dtype: int64\n",
      "---------- Ask_or_High_Price ----------\n",
      "426637\n",
      "Ask_or_High_Price\n",
      "10.00000     12464\n",
      "9.80000      11147\n",
      "9.90000      10983\n",
      "9.95000      10465\n",
      "9.85000      10157\n",
      "             ...  \n",
      "940.82001        1\n",
      "913.81989        1\n",
      "877.19000        1\n",
      "892.53003        1\n",
      "894.71002        1\n",
      "Name: count, Length: 426637, dtype: int64\n",
      "---------- Ask_Price ----------\n",
      "94659\n",
      "Ask_Price\n",
      "10.00000     13652\n",
      "9.90000      12638\n",
      "9.80000      12512\n",
      "9.95000      11859\n",
      "9.85000      11573\n",
      "             ...  \n",
      "876.83002        1\n",
      "764.48999        1\n",
      "809.87000        1\n",
      "871.14001        1\n",
      "864.57001        1\n",
      "Name: count, Length: 94659, dtype: int64\n",
      "---------- Bid_or_Low_Price ----------\n",
      "418649\n",
      "Bid_or_Low_Price\n",
      "9.8000     11133\n",
      "9.7500     10890\n",
      "9.9000     10805\n",
      "10.0000    10554\n",
      "9.7000     10165\n",
      "           ...  \n",
      "58.0880        1\n",
      "76.0278        1\n",
      "85.5948        1\n",
      "91.7313        1\n",
      "23.1208        1\n",
      "Name: count, Length: 418649, dtype: int64\n",
      "---------- Bid_Price ----------\n",
      "94727\n",
      "Bid_Price\n",
      "9.75000      11471\n",
      "9.80000      11442\n",
      "9.90000      11213\n",
      "9.70000      10625\n",
      "10.00000     10592\n",
      "             ...  \n",
      "792.84003        1\n",
      "783.76001        1\n",
      "779.09003        1\n",
      "779.84998        1\n",
      "759.84998        1\n",
      "Name: count, Length: 94727, dtype: int64\n",
      "---------- Open_Price ----------\n",
      "192620\n",
      "Open_Price\n",
      "0.00000         161627\n",
      "10.00000         10265\n",
      "9.80000           9331\n",
      "9.90000           9261\n",
      "9.75000           8777\n",
      "                 ...  \n",
      "330424.31250         1\n",
      "330802.15625         1\n",
      "326782.00000         1\n",
      "332870.00000         1\n",
      "333640.00000         1\n",
      "Name: count, Length: 192620, dtype: int64\n",
      "---------- Close_Price ----------\n",
      "190416\n",
      "Close_Price\n",
      "9.8000     9066\n",
      "9.9000     9020\n",
      "10.0000    9004\n",
      "9.7500     8533\n",
      "9.8500     8285\n",
      "           ... \n",
      "15.2660       1\n",
      "15.1970       1\n",
      "16.3835       1\n",
      "16.2269       1\n",
      "18.5087       1\n",
      "Name: count, Length: 190416, dtype: int64\n",
      "---------- Return ----------\n",
      "291959\n",
      "Return\n",
      " 0.000000    269844\n",
      "-0.019608      2514\n",
      "-0.020000      2408\n",
      "-0.038462      2352\n",
      "-0.028571      2316\n",
      "              ...  \n",
      " 0.083343         1\n",
      "-0.155205         1\n",
      "-0.181207         1\n",
      "-0.158343         1\n",
      " 0.148025         1\n",
      "Name: count, Length: 291959, dtype: int64\n",
      "---------- Volume ----------\n",
      "2372312\n",
      "Volume\n",
      "0            83280\n",
      "1             7221\n",
      "2             5774\n",
      "100           5072\n",
      "3             3095\n",
      "             ...  \n",
      "93506544         1\n",
      "124967145        1\n",
      "171290285        1\n",
      "137990782        1\n",
      "128429386        1\n",
      "Name: count, Length: 2372312, dtype: int64\n",
      "---------- Shares_Outstanding ----------\n",
      "103604\n",
      "Shares_Outstanding\n",
      "23000     27966\n",
      "34500     21173\n",
      "27600     11635\n",
      "28750     11462\n",
      "25000     10293\n",
      "          ...  \n",
      "62604         1\n",
      "99007         1\n",
      "53018         1\n",
      "66025         1\n",
      "280255        1\n",
      "Name: count, Length: 103604, dtype: int64\n",
      "---------- Number_of_Trades ----------\n",
      "113609\n",
      "Number_of_Trades\n",
      "99         3242857\n",
      "0            45305\n",
      "1            28162\n",
      "2            23866\n",
      "3            19784\n",
      "            ...   \n",
      "1750000          1\n",
      "992318           1\n",
      "2630000          1\n",
      "1950000          1\n",
      "1970000          1\n",
      "Name: count, Length: 113609, dtype: int64\n",
      "---------- Cumu_Factor_to_Adjust_Price ----------\n",
      "427\n",
      "Cumu_Factor_to_Adjust_Price\n",
      "1.000000    6760035\n",
      "0.100000     111103\n",
      "0.050000      92856\n",
      "0.066667      58272\n",
      "2.000000      32403\n",
      "             ...   \n",
      "8.529762         10\n",
      "1.020880          7\n",
      "1.373598          7\n",
      "0.000152          4\n",
      "1.020100          4\n",
      "Name: count, Length: 427, dtype: int64\n",
      "---------- Cumu_Factor_to_Adjust_Shares ----------\n",
      "226\n",
      "Cumu_Factor_to_Adjust_Shares\n",
      "1.000000    6871105\n",
      "0.100000     113123\n",
      "0.050000      94430\n",
      "0.066667      59365\n",
      "2.000000      33753\n",
      "             ...   \n",
      "0.000100         12\n",
      "0.011111         11\n",
      "1.373598          7\n",
      "1.020100          4\n",
      "0.000152          4\n",
      "Name: count, Length: 226, dtype: int64\n",
      "---------- Value_Weighted_Return ----------\n",
      "1471\n",
      "Value_Weighted_Return\n",
      "-0.004045    15412\n",
      "-0.001146    11385\n",
      "-0.008106    11372\n",
      "-0.014385    11342\n",
      " 0.007317    11329\n",
      "             ...  \n",
      " 0.004001     4433\n",
      " 0.000921     4433\n",
      " 0.001816     4433\n",
      " 0.005856     4433\n",
      " 0.008505     4433\n",
      "Name: count, Length: 1471, dtype: int64\n",
      "---------- Equal_Weighted_Return ----------\n",
      "1483\n",
      "Equal_Weighted_Return\n",
      "-0.015893    11763\n",
      " 0.010778    11502\n",
      " 0.005970    11411\n",
      " 0.006047    11070\n",
      "-0.006333    10837\n",
      "             ...  \n",
      " 0.000584     4433\n",
      " 0.005103     4433\n",
      " 0.005272     4433\n",
      " 0.003880     4433\n",
      " 0.011232     4433\n",
      "Name: count, Length: 1483, dtype: int64\n",
      "---------- Return_on_SP_Composite_Index ----------\n",
      "1472\n",
      "Return_on_SP_Composite_Index\n",
      "-0.000868    15476\n",
      "-0.004050    11507\n",
      "-0.016463    11494\n",
      " 0.002996    11472\n",
      "-0.003841    11434\n",
      "             ...  \n",
      "-0.001112     4434\n",
      " 0.001303     4433\n",
      " 0.004029     4433\n",
      " 0.006399     4433\n",
      " 0.008303     4433\n",
      "Name: count, Length: 1472, dtype: int64\n"
     ]
    }
   ],
   "source": [
    "for column in crsp_df.columns:\n",
    "  print(\"-\"*10, column, \"-\"*10)\n",
    "  print(crsp_df[column].nunique())\n",
    "  print(crsp_df[column].value_counts())"
   ]
  },
  {
   "cell_type": "markdown",
   "metadata": {},
   "source": [
    "# Save the cleaned df as csv & parquet"
   ]
  },
  {
   "cell_type": "code",
   "execution_count": null,
   "metadata": {},
   "outputs": [],
   "source": [
    "crsp_df.to_csv(\"/home/sagemaker-user/capstone-2024-summer/data/crsp_2018-2023_clean.csv\")\n",
    "crsp_df.to_parquet(\"/home/sagemaker-user/capstone-2024-summer/data/crsp_2018-2023_clean.parquet\")"
   ]
  },
  {
   "cell_type": "code",
   "execution_count": null,
   "metadata": {},
   "outputs": [
    {
     "data": {
      "text/html": [
       "<div>\n",
       "<style scoped>\n",
       "    .dataframe tbody tr th:only-of-type {\n",
       "        vertical-align: middle;\n",
       "    }\n",
       "\n",
       "    .dataframe tbody tr th {\n",
       "        vertical-align: top;\n",
       "    }\n",
       "\n",
       "    .dataframe thead th {\n",
       "        text-align: right;\n",
       "    }\n",
       "</style>\n",
       "<table border=\"1\" class=\"dataframe\">\n",
       "  <thead>\n",
       "    <tr style=\"text-align: right;\">\n",
       "      <th></th>\n",
       "      <th>Date</th>\n",
       "      <th>PERMNO_ID</th>\n",
       "      <th>NCUSIP_ID</th>\n",
       "      <th>CUSIP_ID</th>\n",
       "      <th>Ticker</th>\n",
       "      <th>Share_Code</th>\n",
       "      <th>Share_Code_Type</th>\n",
       "      <th>Share_Code_Detail</th>\n",
       "      <th>Exchange_Code</th>\n",
       "      <th>Company_Name</th>\n",
       "      <th>...</th>\n",
       "      <th>Close_Price</th>\n",
       "      <th>Return</th>\n",
       "      <th>Volume</th>\n",
       "      <th>Shares_Outstanding</th>\n",
       "      <th>Number_of_Trades</th>\n",
       "      <th>Cumu_Factor_to_Adjust_Price</th>\n",
       "      <th>Cumu_Factor_to_Adjust_Shares</th>\n",
       "      <th>Value_Weighted_Return</th>\n",
       "      <th>Equal_Weighted_Return</th>\n",
       "      <th>Return_on_SP_Composite_Index</th>\n",
       "    </tr>\n",
       "  </thead>\n",
       "  <tbody>\n",
       "    <tr>\n",
       "      <th>0</th>\n",
       "      <td>2018-01-02</td>\n",
       "      <td>10026</td>\n",
       "      <td>46603210</td>\n",
       "      <td>46603210</td>\n",
       "      <td>JJSF</td>\n",
       "      <td>11.0</td>\n",
       "      <td>1</td>\n",
       "      <td>1</td>\n",
       "      <td>3</td>\n",
       "      <td>J &amp; J SNACK FOODS CORP</td>\n",
       "      <td>...</td>\n",
       "      <td>149.17999</td>\n",
       "      <td>-0.017454</td>\n",
       "      <td>190618</td>\n",
       "      <td>18668</td>\n",
       "      <td>1036</td>\n",
       "      <td>1.0</td>\n",
       "      <td>1.0</td>\n",
       "      <td>0.008505</td>\n",
       "      <td>0.011232</td>\n",
       "      <td>0.008303</td>\n",
       "    </tr>\n",
       "    <tr>\n",
       "      <th>1</th>\n",
       "      <td>2018-01-03</td>\n",
       "      <td>10026</td>\n",
       "      <td>46603210</td>\n",
       "      <td>46603210</td>\n",
       "      <td>JJSF</td>\n",
       "      <td>11.0</td>\n",
       "      <td>1</td>\n",
       "      <td>1</td>\n",
       "      <td>3</td>\n",
       "      <td>J &amp; J SNACK FOODS CORP</td>\n",
       "      <td>...</td>\n",
       "      <td>147.69000</td>\n",
       "      <td>-0.009988</td>\n",
       "      <td>63693</td>\n",
       "      <td>18668</td>\n",
       "      <td>1283</td>\n",
       "      <td>1.0</td>\n",
       "      <td>1.0</td>\n",
       "      <td>0.005856</td>\n",
       "      <td>0.005103</td>\n",
       "      <td>0.006399</td>\n",
       "    </tr>\n",
       "    <tr>\n",
       "      <th>2</th>\n",
       "      <td>2018-01-04</td>\n",
       "      <td>10026</td>\n",
       "      <td>46603210</td>\n",
       "      <td>46603210</td>\n",
       "      <td>JJSF</td>\n",
       "      <td>11.0</td>\n",
       "      <td>1</td>\n",
       "      <td>1</td>\n",
       "      <td>3</td>\n",
       "      <td>J &amp; J SNACK FOODS CORP</td>\n",
       "      <td>...</td>\n",
       "      <td>149.73000</td>\n",
       "      <td>0.013813</td>\n",
       "      <td>127552</td>\n",
       "      <td>18668</td>\n",
       "      <td>1138</td>\n",
       "      <td>1.0</td>\n",
       "      <td>1.0</td>\n",
       "      <td>0.004001</td>\n",
       "      <td>0.005272</td>\n",
       "      <td>0.004029</td>\n",
       "    </tr>\n",
       "    <tr>\n",
       "      <th>3</th>\n",
       "      <td>2018-01-05</td>\n",
       "      <td>10026</td>\n",
       "      <td>46603210</td>\n",
       "      <td>46603210</td>\n",
       "      <td>JJSF</td>\n",
       "      <td>11.0</td>\n",
       "      <td>1</td>\n",
       "      <td>1</td>\n",
       "      <td>3</td>\n",
       "      <td>J &amp; J SNACK FOODS CORP</td>\n",
       "      <td>...</td>\n",
       "      <td>148.30000</td>\n",
       "      <td>-0.009550</td>\n",
       "      <td>44647</td>\n",
       "      <td>18668</td>\n",
       "      <td>745</td>\n",
       "      <td>1.0</td>\n",
       "      <td>1.0</td>\n",
       "      <td>0.005804</td>\n",
       "      <td>0.003880</td>\n",
       "      <td>0.007034</td>\n",
       "    </tr>\n",
       "    <tr>\n",
       "      <th>4</th>\n",
       "      <td>2018-01-08</td>\n",
       "      <td>10026</td>\n",
       "      <td>46603210</td>\n",
       "      <td>46603210</td>\n",
       "      <td>JJSF</td>\n",
       "      <td>11.0</td>\n",
       "      <td>1</td>\n",
       "      <td>1</td>\n",
       "      <td>3</td>\n",
       "      <td>J &amp; J SNACK FOODS CORP</td>\n",
       "      <td>...</td>\n",
       "      <td>148.41000</td>\n",
       "      <td>0.000742</td>\n",
       "      <td>55014</td>\n",
       "      <td>18668</td>\n",
       "      <td>990</td>\n",
       "      <td>1.0</td>\n",
       "      <td>1.0</td>\n",
       "      <td>0.001816</td>\n",
       "      <td>0.000584</td>\n",
       "      <td>0.001662</td>\n",
       "    </tr>\n",
       "  </tbody>\n",
       "</table>\n",
       "<p>5 rows × 31 columns</p>\n",
       "</div>"
      ],
      "text/plain": [
       "        Date PERMNO_ID NCUSIP_ID  CUSIP_ID Ticker Share_Code Share_Code_Type  \\\n",
       "0 2018-01-02     10026  46603210  46603210   JJSF       11.0               1   \n",
       "1 2018-01-03     10026  46603210  46603210   JJSF       11.0               1   \n",
       "2 2018-01-04     10026  46603210  46603210   JJSF       11.0               1   \n",
       "3 2018-01-05     10026  46603210  46603210   JJSF       11.0               1   \n",
       "4 2018-01-08     10026  46603210  46603210   JJSF       11.0               1   \n",
       "\n",
       "  Share_Code_Detail Exchange_Code            Company_Name  ... Close_Price  \\\n",
       "0                 1             3  J & J SNACK FOODS CORP  ...   149.17999   \n",
       "1                 1             3  J & J SNACK FOODS CORP  ...   147.69000   \n",
       "2                 1             3  J & J SNACK FOODS CORP  ...   149.73000   \n",
       "3                 1             3  J & J SNACK FOODS CORP  ...   148.30000   \n",
       "4                 1             3  J & J SNACK FOODS CORP  ...   148.41000   \n",
       "\n",
       "     Return  Volume Shares_Outstanding Number_of_Trades  \\\n",
       "0 -0.017454  190618              18668             1036   \n",
       "1 -0.009988   63693              18668             1283   \n",
       "2  0.013813  127552              18668             1138   \n",
       "3 -0.009550   44647              18668              745   \n",
       "4  0.000742   55014              18668              990   \n",
       "\n",
       "  Cumu_Factor_to_Adjust_Price  Cumu_Factor_to_Adjust_Shares  \\\n",
       "0                         1.0                           1.0   \n",
       "1                         1.0                           1.0   \n",
       "2                         1.0                           1.0   \n",
       "3                         1.0                           1.0   \n",
       "4                         1.0                           1.0   \n",
       "\n",
       "   Value_Weighted_Return  Equal_Weighted_Return  Return_on_SP_Composite_Index  \n",
       "0               0.008505               0.011232                      0.008303  \n",
       "1               0.005856               0.005103                      0.006399  \n",
       "2               0.004001               0.005272                      0.004029  \n",
       "3               0.005804               0.003880                      0.007034  \n",
       "4               0.001816               0.000584                      0.001662  \n",
       "\n",
       "[5 rows x 31 columns]"
      ]
     },
     "execution_count": 46,
     "metadata": {},
     "output_type": "execute_result"
    }
   ],
   "source": [
    "reload = pd.read_parquet(\"/home/sagemaker-user/capstone-2024-summer/data/crsp_2018-2023_clean.parquet\")\n",
    "assert crsp_df.equals(reload)\n",
    "\n",
    "reload.head()"
   ]
  },
  {
   "cell_type": "markdown",
   "metadata": {},
   "source": [
    "# Upload the parquet to s3"
   ]
  },
  {
   "cell_type": "code",
   "execution_count": null,
   "metadata": {},
   "outputs": [],
   "source": [
    "s3.upload_file(\"/home/sagemaker-user/capstone-2024-summer/data/crsp_2018-2023_clean.parquet\", bucket, \"CRSP/crsp_2018-2023_clean.parquet\")"
   ]
  },
  {
   "cell_type": "code",
   "execution_count": null,
   "metadata": {},
   "outputs": [],
   "source": [
    "reload_path = s3_download(\"CRSP/crsp_2018-2023_clean.parquet\")"
   ]
  },
  {
   "cell_type": "code",
   "execution_count": null,
   "metadata": {},
   "outputs": [
    {
     "data": {
      "text/html": [
       "<div>\n",
       "<style scoped>\n",
       "    .dataframe tbody tr th:only-of-type {\n",
       "        vertical-align: middle;\n",
       "    }\n",
       "\n",
       "    .dataframe tbody tr th {\n",
       "        vertical-align: top;\n",
       "    }\n",
       "\n",
       "    .dataframe thead th {\n",
       "        text-align: right;\n",
       "    }\n",
       "</style>\n",
       "<table border=\"1\" class=\"dataframe\">\n",
       "  <thead>\n",
       "    <tr style=\"text-align: right;\">\n",
       "      <th></th>\n",
       "      <th>Date</th>\n",
       "      <th>PERMNO_ID</th>\n",
       "      <th>NCUSIP_ID</th>\n",
       "      <th>CUSIP_ID</th>\n",
       "      <th>Ticker</th>\n",
       "      <th>Share_Code</th>\n",
       "      <th>Share_Code_Type</th>\n",
       "      <th>Share_Code_Detail</th>\n",
       "      <th>Exchange_Code</th>\n",
       "      <th>Company_Name</th>\n",
       "      <th>...</th>\n",
       "      <th>Close_Price</th>\n",
       "      <th>Return</th>\n",
       "      <th>Volume</th>\n",
       "      <th>Shares_Outstanding</th>\n",
       "      <th>Number_of_Trades</th>\n",
       "      <th>Cumu_Factor_to_Adjust_Price</th>\n",
       "      <th>Cumu_Factor_to_Adjust_Shares</th>\n",
       "      <th>Value_Weighted_Return</th>\n",
       "      <th>Equal_Weighted_Return</th>\n",
       "      <th>Return_on_SP_Composite_Index</th>\n",
       "    </tr>\n",
       "  </thead>\n",
       "  <tbody>\n",
       "    <tr>\n",
       "      <th>0</th>\n",
       "      <td>2018-01-02</td>\n",
       "      <td>10026</td>\n",
       "      <td>46603210</td>\n",
       "      <td>46603210</td>\n",
       "      <td>JJSF</td>\n",
       "      <td>11.0</td>\n",
       "      <td>1</td>\n",
       "      <td>1</td>\n",
       "      <td>3</td>\n",
       "      <td>J &amp; J SNACK FOODS CORP</td>\n",
       "      <td>...</td>\n",
       "      <td>149.17999</td>\n",
       "      <td>-0.017454</td>\n",
       "      <td>190618</td>\n",
       "      <td>18668</td>\n",
       "      <td>1036</td>\n",
       "      <td>1.0</td>\n",
       "      <td>1.0</td>\n",
       "      <td>0.008505</td>\n",
       "      <td>0.011232</td>\n",
       "      <td>0.008303</td>\n",
       "    </tr>\n",
       "    <tr>\n",
       "      <th>1</th>\n",
       "      <td>2018-01-03</td>\n",
       "      <td>10026</td>\n",
       "      <td>46603210</td>\n",
       "      <td>46603210</td>\n",
       "      <td>JJSF</td>\n",
       "      <td>11.0</td>\n",
       "      <td>1</td>\n",
       "      <td>1</td>\n",
       "      <td>3</td>\n",
       "      <td>J &amp; J SNACK FOODS CORP</td>\n",
       "      <td>...</td>\n",
       "      <td>147.69000</td>\n",
       "      <td>-0.009988</td>\n",
       "      <td>63693</td>\n",
       "      <td>18668</td>\n",
       "      <td>1283</td>\n",
       "      <td>1.0</td>\n",
       "      <td>1.0</td>\n",
       "      <td>0.005856</td>\n",
       "      <td>0.005103</td>\n",
       "      <td>0.006399</td>\n",
       "    </tr>\n",
       "    <tr>\n",
       "      <th>2</th>\n",
       "      <td>2018-01-04</td>\n",
       "      <td>10026</td>\n",
       "      <td>46603210</td>\n",
       "      <td>46603210</td>\n",
       "      <td>JJSF</td>\n",
       "      <td>11.0</td>\n",
       "      <td>1</td>\n",
       "      <td>1</td>\n",
       "      <td>3</td>\n",
       "      <td>J &amp; J SNACK FOODS CORP</td>\n",
       "      <td>...</td>\n",
       "      <td>149.73000</td>\n",
       "      <td>0.013813</td>\n",
       "      <td>127552</td>\n",
       "      <td>18668</td>\n",
       "      <td>1138</td>\n",
       "      <td>1.0</td>\n",
       "      <td>1.0</td>\n",
       "      <td>0.004001</td>\n",
       "      <td>0.005272</td>\n",
       "      <td>0.004029</td>\n",
       "    </tr>\n",
       "    <tr>\n",
       "      <th>3</th>\n",
       "      <td>2018-01-05</td>\n",
       "      <td>10026</td>\n",
       "      <td>46603210</td>\n",
       "      <td>46603210</td>\n",
       "      <td>JJSF</td>\n",
       "      <td>11.0</td>\n",
       "      <td>1</td>\n",
       "      <td>1</td>\n",
       "      <td>3</td>\n",
       "      <td>J &amp; J SNACK FOODS CORP</td>\n",
       "      <td>...</td>\n",
       "      <td>148.30000</td>\n",
       "      <td>-0.009550</td>\n",
       "      <td>44647</td>\n",
       "      <td>18668</td>\n",
       "      <td>745</td>\n",
       "      <td>1.0</td>\n",
       "      <td>1.0</td>\n",
       "      <td>0.005804</td>\n",
       "      <td>0.003880</td>\n",
       "      <td>0.007034</td>\n",
       "    </tr>\n",
       "    <tr>\n",
       "      <th>4</th>\n",
       "      <td>2018-01-08</td>\n",
       "      <td>10026</td>\n",
       "      <td>46603210</td>\n",
       "      <td>46603210</td>\n",
       "      <td>JJSF</td>\n",
       "      <td>11.0</td>\n",
       "      <td>1</td>\n",
       "      <td>1</td>\n",
       "      <td>3</td>\n",
       "      <td>J &amp; J SNACK FOODS CORP</td>\n",
       "      <td>...</td>\n",
       "      <td>148.41000</td>\n",
       "      <td>0.000742</td>\n",
       "      <td>55014</td>\n",
       "      <td>18668</td>\n",
       "      <td>990</td>\n",
       "      <td>1.0</td>\n",
       "      <td>1.0</td>\n",
       "      <td>0.001816</td>\n",
       "      <td>0.000584</td>\n",
       "      <td>0.001662</td>\n",
       "    </tr>\n",
       "  </tbody>\n",
       "</table>\n",
       "<p>5 rows × 31 columns</p>\n",
       "</div>"
      ],
      "text/plain": [
       "        Date PERMNO_ID NCUSIP_ID  CUSIP_ID Ticker Share_Code Share_Code_Type  \\\n",
       "0 2018-01-02     10026  46603210  46603210   JJSF       11.0               1   \n",
       "1 2018-01-03     10026  46603210  46603210   JJSF       11.0               1   \n",
       "2 2018-01-04     10026  46603210  46603210   JJSF       11.0               1   \n",
       "3 2018-01-05     10026  46603210  46603210   JJSF       11.0               1   \n",
       "4 2018-01-08     10026  46603210  46603210   JJSF       11.0               1   \n",
       "\n",
       "  Share_Code_Detail Exchange_Code            Company_Name  ... Close_Price  \\\n",
       "0                 1             3  J & J SNACK FOODS CORP  ...   149.17999   \n",
       "1                 1             3  J & J SNACK FOODS CORP  ...   147.69000   \n",
       "2                 1             3  J & J SNACK FOODS CORP  ...   149.73000   \n",
       "3                 1             3  J & J SNACK FOODS CORP  ...   148.30000   \n",
       "4                 1             3  J & J SNACK FOODS CORP  ...   148.41000   \n",
       "\n",
       "     Return  Volume Shares_Outstanding Number_of_Trades  \\\n",
       "0 -0.017454  190618              18668             1036   \n",
       "1 -0.009988   63693              18668             1283   \n",
       "2  0.013813  127552              18668             1138   \n",
       "3 -0.009550   44647              18668              745   \n",
       "4  0.000742   55014              18668              990   \n",
       "\n",
       "  Cumu_Factor_to_Adjust_Price  Cumu_Factor_to_Adjust_Shares  \\\n",
       "0                         1.0                           1.0   \n",
       "1                         1.0                           1.0   \n",
       "2                         1.0                           1.0   \n",
       "3                         1.0                           1.0   \n",
       "4                         1.0                           1.0   \n",
       "\n",
       "   Value_Weighted_Return  Equal_Weighted_Return  Return_on_SP_Composite_Index  \n",
       "0               0.008505               0.011232                      0.008303  \n",
       "1               0.005856               0.005103                      0.006399  \n",
       "2               0.004001               0.005272                      0.004029  \n",
       "3               0.005804               0.003880                      0.007034  \n",
       "4               0.001816               0.000584                      0.001662  \n",
       "\n",
       "[5 rows x 31 columns]"
      ]
     },
     "execution_count": 49,
     "metadata": {},
     "output_type": "execute_result"
    }
   ],
   "source": [
    "reload = pd.read_parquet(\"/home/sagemaker-user/capstone-2024-summer/data/crsp_2018-2023_clean.parquet\")\n",
    "assert crsp_df.equals(reload)\n",
    "\n",
    "reload.head()"
   ]
  }
 ],
 "metadata": {
  "colab": {
   "authorship_tag": "ABX9TyOxyKLKqA5wqdgfjK9Y17kf",
   "provenance": []
  },
  "kernelspec": {
   "display_name": "Python 3 (ipykernel)",
   "language": "python",
   "name": "python3"
  },
  "language_info": {
   "codemirror_mode": {
    "name": "ipython",
    "version": 3
   },
   "file_extension": ".py",
   "mimetype": "text/x-python",
   "name": "python",
   "nbconvert_exporter": "python",
   "pygments_lexer": "ipython3",
   "version": "3.10.14"
  }
 },
 "nbformat": 4,
 "nbformat_minor": 4
}
