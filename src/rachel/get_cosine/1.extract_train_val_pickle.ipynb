{
 "cells": [
  {
   "cell_type": "markdown",
   "metadata": {},
   "source": [
    "# Setup the Env"
   ]
  },
  {
   "cell_type": "code",
   "execution_count": 1,
   "metadata": {},
   "outputs": [
    {
     "name": "stdout",
     "output_type": "stream",
     "text": [
      "sagemaker.config INFO - Not applying SDK defaults from location: /etc/xdg/sagemaker/config.yaml\n",
      "sagemaker.config INFO - Not applying SDK defaults from location: /home/sagemaker-user/.config/sagemaker/config.yaml\n",
      "/home/sagemaker-user/capstone-2024-summer/src/rachel\n"
     ]
    }
   ],
   "source": [
    "import sys\n",
    "import os\n",
    "\n",
    "import sagemaker\n",
    "from sagemaker import get_execution_role\n",
    "\n",
    "# Add the parent directory to the sys.path\n",
    "sys.path.insert(0, os.path.abspath(\"..\"))\n",
    "\n",
    "# Define IAM role\n",
    "role = get_execution_role()\n",
    "role\n",
    "\n",
    "# Establish S3 bucket connection\n",
    "import boto3\n",
    "\n",
    "s3 = boto3.client(\"s3\")\n",
    "bucket = \"capstone-bucket-4-friends\"\n",
    "\n",
    "# Take a look at current dir\n",
    "print(os.getcwd())\n",
    "\n",
    "from file_utilities import s3_download"
   ]
  },
  {
   "cell_type": "markdown",
   "metadata": {
    "id": "7Am5n3hyD4fa"
   },
   "source": [
    "# Import Libraries"
   ]
  },
  {
   "cell_type": "code",
   "execution_count": 2,
   "metadata": {
    "executionInfo": {
     "elapsed": 14994,
     "status": "ok",
     "timestamp": 1721681292107,
     "user": {
      "displayName": "Rachel Gao",
      "userId": "10756354987170970544"
     },
     "user_tz": 420
    },
    "id": "170WlrtqDtWo"
   },
   "outputs": [
    {
     "name": "stderr",
     "output_type": "stream",
     "text": [
      "2024-07-24 02:35:13.568497: I tensorflow/core/platform/cpu_feature_guard.cc:182] This TensorFlow binary is optimized to use available CPU instructions in performance-critical operations.\n",
      "To enable the following instructions: SSE4.1 SSE4.2 AVX AVX2 AVX512F FMA, in other operations, rebuild TensorFlow with the appropriate compiler flags.\n"
     ]
    }
   ],
   "source": [
    "# standard libraries\n",
    "import numpy as np\n",
    "import pandas as pd\n",
    "import calendar\n",
    "\n",
    "# visualization\n",
    "import matplotlib.pyplot as plt\n",
    "!pip install seaborn -q\n",
    "import seaborn as sns\n",
    "\n",
    "# model\n",
    "import tensorflow as tf\n",
    "from sklearn.preprocessing import MinMaxScaler\n",
    "\n",
    "# to save the data as pickle\n",
    "import pickle"
   ]
  },
  {
   "cell_type": "markdown",
   "metadata": {
    "id": "1Us6I19LD-ko"
   },
   "source": [
    "# Load Dataset"
   ]
  },
  {
   "cell_type": "code",
   "execution_count": 3,
   "metadata": {
    "colab": {
     "base_uri": "https://localhost:8080/",
     "height": 342
    },
    "executionInfo": {
     "elapsed": 1268,
     "status": "ok",
     "timestamp": 1721681293357,
     "user": {
      "displayName": "Rachel Gao",
      "userId": "10756354987170970544"
     },
     "user_tz": 420
    },
    "id": "QnxWdaLSD_zH",
    "outputId": "5afa5fb5-c9bf-4f22-b492-b83ba9566614"
   },
   "outputs": [
    {
     "data": {
      "text/html": [
       "<div>\n",
       "<style scoped>\n",
       "    .dataframe tbody tr th:only-of-type {\n",
       "        vertical-align: middle;\n",
       "    }\n",
       "\n",
       "    .dataframe tbody tr th {\n",
       "        vertical-align: top;\n",
       "    }\n",
       "\n",
       "    .dataframe thead th {\n",
       "        text-align: right;\n",
       "    }\n",
       "</style>\n",
       "<table border=\"1\" class=\"dataframe\">\n",
       "  <thead>\n",
       "    <tr style=\"text-align: right;\">\n",
       "      <th></th>\n",
       "      <th>date</th>\n",
       "      <th>permno_id</th>\n",
       "      <th>company_name</th>\n",
       "      <th>primary_exchange</th>\n",
       "      <th>naics_sector</th>\n",
       "      <th>return_scaled</th>\n",
       "      <th>shares_outstanding_scaled</th>\n",
       "      <th>num_trades_scaled</th>\n",
       "      <th>volume_scaled</th>\n",
       "      <th>close_price_scaled</th>\n",
       "      <th>...</th>\n",
       "      <th>day_of_week_x</th>\n",
       "      <th>day_of_week_y</th>\n",
       "      <th>day_of_month_x</th>\n",
       "      <th>day_of_month_y</th>\n",
       "      <th>day_of_year_x</th>\n",
       "      <th>day_of_year_y</th>\n",
       "      <th>month_of_year_x</th>\n",
       "      <th>month_of_year_y</th>\n",
       "      <th>week_of_year_x</th>\n",
       "      <th>week_of_year_y</th>\n",
       "    </tr>\n",
       "  </thead>\n",
       "  <tbody>\n",
       "    <tr>\n",
       "      <th>0</th>\n",
       "      <td>2018-01-10</td>\n",
       "      <td>10104</td>\n",
       "      <td>ORACLE CORP</td>\n",
       "      <td>N</td>\n",
       "      <td>51</td>\n",
       "      <td>0.333190</td>\n",
       "      <td>1.0</td>\n",
       "      <td>0.0</td>\n",
       "      <td>0.162830</td>\n",
       "      <td>0.140955</td>\n",
       "      <td>...</td>\n",
       "      <td>1.000000</td>\n",
       "      <td>3.568959e-01</td>\n",
       "      <td>0.948902</td>\n",
       "      <td>0.279803</td>\n",
       "      <td>0.585647</td>\n",
       "      <td>0.992610</td>\n",
       "      <td>0.75</td>\n",
       "      <td>0.933013</td>\n",
       "      <td>0.617495</td>\n",
       "      <td>0.985999</td>\n",
       "    </tr>\n",
       "    <tr>\n",
       "      <th>1</th>\n",
       "      <td>2018-01-11</td>\n",
       "      <td>10104</td>\n",
       "      <td>ORACLE CORP</td>\n",
       "      <td>N</td>\n",
       "      <td>51</td>\n",
       "      <td>0.359834</td>\n",
       "      <td>1.0</td>\n",
       "      <td>0.0</td>\n",
       "      <td>0.135664</td>\n",
       "      <td>0.143305</td>\n",
       "      <td>...</td>\n",
       "      <td>0.615957</td>\n",
       "      <td>5.551115e-17</td>\n",
       "      <td>0.895388</td>\n",
       "      <td>0.193947</td>\n",
       "      <td>0.594114</td>\n",
       "      <td>0.991063</td>\n",
       "      <td>0.75</td>\n",
       "      <td>0.933013</td>\n",
       "      <td>0.617495</td>\n",
       "      <td>0.985999</td>\n",
       "    </tr>\n",
       "    <tr>\n",
       "      <th>2</th>\n",
       "      <td>2018-01-12</td>\n",
       "      <td>10104</td>\n",
       "      <td>ORACLE CORP</td>\n",
       "      <td>N</td>\n",
       "      <td>51</td>\n",
       "      <td>0.386453</td>\n",
       "      <td>1.0</td>\n",
       "      <td>0.0</td>\n",
       "      <td>0.200822</td>\n",
       "      <td>0.152075</td>\n",
       "      <td>...</td>\n",
       "      <td>0.000000</td>\n",
       "      <td>0.000000e+00</td>\n",
       "      <td>0.825686</td>\n",
       "      <td>0.120621</td>\n",
       "      <td>0.602553</td>\n",
       "      <td>0.989370</td>\n",
       "      <td>0.75</td>\n",
       "      <td>0.933013</td>\n",
       "      <td>0.617495</td>\n",
       "      <td>0.985999</td>\n",
       "    </tr>\n",
       "    <tr>\n",
       "      <th>3</th>\n",
       "      <td>2018-01-16</td>\n",
       "      <td>10104</td>\n",
       "      <td>ORACLE CORP</td>\n",
       "      <td>N</td>\n",
       "      <td>51</td>\n",
       "      <td>0.355195</td>\n",
       "      <td>1.0</td>\n",
       "      <td>0.0</td>\n",
       "      <td>0.218657</td>\n",
       "      <td>0.153328</td>\n",
       "      <td>...</td>\n",
       "      <td>0.862937</td>\n",
       "      <td>8.019377e-01</td>\n",
       "      <td>0.449416</td>\n",
       "      <td>0.002565</td>\n",
       "      <td>0.635980</td>\n",
       "      <td>0.981155</td>\n",
       "      <td>0.75</td>\n",
       "      <td>0.933013</td>\n",
       "      <td>0.674177</td>\n",
       "      <td>0.968682</td>\n",
       "    </tr>\n",
       "    <tr>\n",
       "      <th>4</th>\n",
       "      <td>2018-01-17</td>\n",
       "      <td>10104</td>\n",
       "      <td>ORACLE CORP</td>\n",
       "      <td>N</td>\n",
       "      <td>51</td>\n",
       "      <td>0.393682</td>\n",
       "      <td>1.0</td>\n",
       "      <td>0.0</td>\n",
       "      <td>0.310242</td>\n",
       "      <td>0.163978</td>\n",
       "      <td>...</td>\n",
       "      <td>1.000000</td>\n",
       "      <td>3.568959e-01</td>\n",
       "      <td>0.350318</td>\n",
       "      <td>0.022930</td>\n",
       "      <td>0.644243</td>\n",
       "      <td>0.978743</td>\n",
       "      <td>0.75</td>\n",
       "      <td>0.933013</td>\n",
       "      <td>0.674177</td>\n",
       "      <td>0.968682</td>\n",
       "    </tr>\n",
       "  </tbody>\n",
       "</table>\n",
       "<p>5 rows × 24 columns</p>\n",
       "</div>"
      ],
      "text/plain": [
       "        date permno_id company_name primary_exchange naics_sector  \\\n",
       "0 2018-01-10     10104  ORACLE CORP                N           51   \n",
       "1 2018-01-11     10104  ORACLE CORP                N           51   \n",
       "2 2018-01-12     10104  ORACLE CORP                N           51   \n",
       "3 2018-01-16     10104  ORACLE CORP                N           51   \n",
       "4 2018-01-17     10104  ORACLE CORP                N           51   \n",
       "\n",
       "   return_scaled  shares_outstanding_scaled  num_trades_scaled  volume_scaled  \\\n",
       "0       0.333190                        1.0                0.0       0.162830   \n",
       "1       0.359834                        1.0                0.0       0.135664   \n",
       "2       0.386453                        1.0                0.0       0.200822   \n",
       "3       0.355195                        1.0                0.0       0.218657   \n",
       "4       0.393682                        1.0                0.0       0.310242   \n",
       "\n",
       "   close_price_scaled  ...  day_of_week_x  day_of_week_y  day_of_month_x  \\\n",
       "0            0.140955  ...       1.000000   3.568959e-01        0.948902   \n",
       "1            0.143305  ...       0.615957   5.551115e-17        0.895388   \n",
       "2            0.152075  ...       0.000000   0.000000e+00        0.825686   \n",
       "3            0.153328  ...       0.862937   8.019377e-01        0.449416   \n",
       "4            0.163978  ...       1.000000   3.568959e-01        0.350318   \n",
       "\n",
       "   day_of_month_y  day_of_year_x  day_of_year_y  month_of_year_x  \\\n",
       "0        0.279803       0.585647       0.992610             0.75   \n",
       "1        0.193947       0.594114       0.991063             0.75   \n",
       "2        0.120621       0.602553       0.989370             0.75   \n",
       "3        0.002565       0.635980       0.981155             0.75   \n",
       "4        0.022930       0.644243       0.978743             0.75   \n",
       "\n",
       "   month_of_year_y  week_of_year_x  week_of_year_y  \n",
       "0         0.933013        0.617495        0.985999  \n",
       "1         0.933013        0.617495        0.985999  \n",
       "2         0.933013        0.617495        0.985999  \n",
       "3         0.933013        0.674177        0.968682  \n",
       "4         0.933013        0.674177        0.968682  \n",
       "\n",
       "[5 rows x 24 columns]"
      ]
     },
     "execution_count": 3,
     "metadata": {},
     "output_type": "execute_result"
    }
   ],
   "source": [
    "train_df = pd.read_parquet(\"/home/sagemaker-user/capstone-2024-summer/data/crsp_rachel_train.parquet\")\n",
    "val_df = pd.read_parquet(\"/home/sagemaker-user/capstone-2024-summer/data/crsp_rachel_val.parquet\")\n",
    "\n",
    "train_df.head()"
   ]
  },
  {
   "cell_type": "code",
   "execution_count": 4,
   "metadata": {
    "colab": {
     "base_uri": "https://localhost:8080/"
    },
    "executionInfo": {
     "elapsed": 3,
     "status": "ok",
     "timestamp": 1721681293357,
     "user": {
      "displayName": "Rachel Gao",
      "userId": "10756354987170970544"
     },
     "user_tz": 420
    },
    "id": "feSDyppMEDTx",
    "outputId": "7492bcca-b7f3-4882-83a4-db89d4e9bad2"
   },
   "outputs": [
    {
     "data": {
      "text/plain": [
       "Index(['date', 'permno_id', 'company_name', 'primary_exchange', 'naics_sector',\n",
       "       'return_scaled', 'shares_outstanding_scaled', 'num_trades_scaled',\n",
       "       'volume_scaled', 'close_price_scaled', 'market_cap_scaled',\n",
       "       'volatility_7_scaled', 'sector_weighted_avg_return_scaled',\n",
       "       'sector_simple_avg_return_scaled', 'day_of_week_x', 'day_of_week_y',\n",
       "       'day_of_month_x', 'day_of_month_y', 'day_of_year_x', 'day_of_year_y',\n",
       "       'month_of_year_x', 'month_of_year_y', 'week_of_year_x',\n",
       "       'week_of_year_y'],\n",
       "      dtype='object')"
      ]
     },
     "execution_count": 4,
     "metadata": {},
     "output_type": "execute_result"
    }
   ],
   "source": [
    "train_df.columns"
   ]
  },
  {
   "cell_type": "markdown",
   "metadata": {},
   "source": [
    "# Select only 200 permnos"
   ]
  },
  {
   "cell_type": "code",
   "execution_count": 5,
   "metadata": {},
   "outputs": [
    {
     "data": {
      "text/plain": [
       "array(['25785', '21178', '11674', '12084', '92157', '24205', '76226',\n",
       "       '18143', '14277', '14882', '17700', '84381', '52978', '12558',\n",
       "       '22206', '59328', '80286', '48725', '89866', '84262', '75694',\n",
       "       '52230', '87541', '22103', '85663', '13964', '77178', '42200',\n",
       "       '15408', '30681', '58683', '16649', '15488', '17307', '87055',\n",
       "       '89626', '43350', '19751', '23393', '87137', '77037', '89070',\n",
       "       '18411', '44329', '80320', '19393', '92614', '87445', '18312',\n",
       "       '63467', '12476', '86783', '42906', '92221', '86996', '90227',\n",
       "       '86339', '67598', '43449', '22779', '89017', '42585', '14702',\n",
       "       '85631', '18940', '11403', '79323', '53613', '91103', '19561',\n",
       "       '90454', '87432', '83443', '77702', '81736', '24053', '84769',\n",
       "       '81774', '79678', '14579', '90880', '86964', '11762', '12308',\n",
       "       '52695', '59300', '66157', '16678', '23579', '84129', '13407',\n",
       "       '91277', '14714', '66384', '88436', '21371', '76795', '79785',\n",
       "       '75828', '86288', '22517', '77338', '14939', '79103', '11308',\n",
       "       '80191', '82642', '85621', '66093', '38093', '14811', '86979',\n",
       "       '45911', '75034', '45356', '64186', '34746', '23931', '75819',\n",
       "       '58819', '66800', '15069', '65947', '13628', '90505', '44206',\n",
       "       '90319', '86111', '89508', '12431', '65541', '92402', '84767',\n",
       "       '82307', '23819', '81481', '70519', '27959', '18911', '75591',\n",
       "       '60628', '52090', '27828', '10104', '62092', '61241', '79089',\n",
       "       '13856', '69649', '19166', '17130', '40272', '22265', '13949',\n",
       "       '13586', '28484', '18428', '89533', '18729', '89195', '88873',\n",
       "       '20057', '16692', '77605', '77730', '12369', '91233', '87447',\n",
       "       '39917', '62498', '18576', '23536', '81045', '87056', '79145',\n",
       "       '76712', '62308', '34833', '76185', '52708', '48653', '16600',\n",
       "       '26825', '73139', '53065', '17942', '86228', '77649', '17144',\n",
       "       '17478', '89071', '42877', '83906', '44644', '17341', '38156',\n",
       "       '88860', '13035', '21207', '57904'], dtype=object)"
      ]
     },
     "metadata": {},
     "output_type": "display_data"
    }
   ],
   "source": [
    "np.random.seed(1234)\n",
    "\n",
    "permnos_ids = np.random.choice(train_df['permno_id'].unique(), size=200, replace=False)\n",
    "display(permnos_ids)\n",
    "\n",
    "train_df = train_df[train_df['permno_id'].isin(permnos_ids)]\n",
    "val_df = val_df[val_df['permno_id'].isin(permnos_ids)]"
   ]
  },
  {
   "cell_type": "markdown",
   "metadata": {
    "id": "Di7w4E_vAmEy"
   },
   "source": [
    "# Prepare the data by WINDOW_SIZE"
   ]
  },
  {
   "cell_type": "code",
   "execution_count": 6,
   "metadata": {
    "executionInfo": {
     "elapsed": 4,
     "status": "ok",
     "timestamp": 1721681293602,
     "user": {
      "displayName": "Rachel Gao",
      "userId": "10756354987170970544"
     },
     "user_tz": 420
    },
    "id": "ueh7MuB1Apjb"
   },
   "outputs": [],
   "source": [
    "WINDOW_SIZE = 128\n",
    "PERMNO_IDs = train_df['permno_id'].unique()"
   ]
  },
  {
   "cell_type": "code",
   "execution_count": 7,
   "metadata": {
    "executionInfo": {
     "elapsed": 4,
     "status": "ok",
     "timestamp": 1721681293602,
     "user": {
      "displayName": "Rachel Gao",
      "userId": "10756354987170970544"
     },
     "user_tz": 420
    },
    "id": "1bANRLc5BEXa"
   },
   "outputs": [],
   "source": [
    "NUMERICALS = ['return_scaled', 'shares_outstanding_scaled', 'num_trades_scaled',\n",
    "       'volume_scaled', 'close_price_scaled', 'market_cap_scaled',\n",
    "       'volatility_7_scaled', 'sector_weighted_avg_return_scaled',\n",
    "       'sector_simple_avg_return_scaled', 'day_of_week_x', 'day_of_week_y',\n",
    "       'day_of_month_x', 'day_of_month_y', 'day_of_year_x', 'day_of_year_y',\n",
    "       'month_of_year_x', 'month_of_year_y', 'week_of_year_x',\n",
    "       'week_of_year_y']\n",
    "\n",
    "CATEGORICALS = ['permno_id', 'company_name', 'primary_exchange', 'naics_sector']"
   ]
  },
  {
   "cell_type": "code",
   "execution_count": 8,
   "metadata": {
    "executionInfo": {
     "elapsed": 108836,
     "status": "ok",
     "timestamp": 1721681402435,
     "user": {
      "displayName": "Rachel Gao",
      "userId": "10756354987170970544"
     },
     "user_tz": 420
    },
    "id": "ioVnb2AWArEe"
   },
   "outputs": [],
   "source": [
    "# Prepare the data using rolling window\n",
    "def prepare_data(df, window_size):\n",
    "    numerical_x = {}\n",
    "    categorical_x = {}\n",
    "    y = []\n",
    "    for permno in PERMNO_IDs:\n",
    "      df_permno = df[df['permno_id'] == permno]\n",
    "      for i in range(len(df_permno) - window_size):\n",
    "        for col in NUMERICALS:\n",
    "          if col not in numerical_x.keys():\n",
    "            numerical_x[col] = []\n",
    "          numerical_x[col].append(df_permno.iloc[i:i + window_size][col].tolist()) # window_size features\n",
    "        for col in CATEGORICALS:\n",
    "          if col not in categorical_x.keys():\n",
    "            categorical_x[col] = []\n",
    "          categorical_x[col].append(df_permno.iloc[i + window_size - 1][col]) # use the category closest to the target\n",
    "        y.append(df_permno.iloc[i + window_size]['return_scaled']) # next day target\n",
    "\n",
    "    for col in numerical_x:\n",
    "      numerical_x[col] = np.array(numerical_x[col])\n",
    "      numerical_x[col] = numerical_x[col].reshape((numerical_x[col].shape[0], numerical_x[col].shape[1], 1))\n",
    "\n",
    "    for col in categorical_x:\n",
    "      categorical_x[col] = np.array(categorical_x[col])\n",
    "      categorical_x[col] = categorical_x[col].reshape((categorical_x[col].shape[0], 1))\n",
    "\n",
    "    y = np.array(y)\n",
    "    y = y.reshape((y.shape[0], 1))\n",
    "\n",
    "    return numerical_x, categorical_x, y\n",
    "\n",
    "train_numerical_x, train_categorical_x, train_y = prepare_data(train_df, WINDOW_SIZE)\n",
    "val_numerical_x, val_categorical_x, val_y = prepare_data(val_df, WINDOW_SIZE)"
   ]
  },
  {
   "cell_type": "code",
   "execution_count": 9,
   "metadata": {
    "colab": {
     "base_uri": "https://localhost:8080/"
    },
    "executionInfo": {
     "elapsed": 24,
     "status": "ok",
     "timestamp": 1721681402435,
     "user": {
      "displayName": "Rachel Gao",
      "userId": "10756354987170970544"
     },
     "user_tz": 420
    },
    "id": "kD_TLkNRFqf9",
    "outputId": "2594a776-574f-467f-d118-18ae3038918c"
   },
   "outputs": [
    {
     "name": "stdout",
     "output_type": "stream",
     "text": [
      "---- training data ----\n",
      "--> num_numerical_features: 19\n",
      "return_scaled (219323, 128, 1)\n",
      "shares_outstanding_scaled (219323, 128, 1)\n",
      "num_trades_scaled (219323, 128, 1)\n",
      "volume_scaled (219323, 128, 1)\n",
      "close_price_scaled (219323, 128, 1)\n",
      "market_cap_scaled (219323, 128, 1)\n",
      "volatility_7_scaled (219323, 128, 1)\n",
      "sector_weighted_avg_return_scaled (219323, 128, 1)\n",
      "sector_simple_avg_return_scaled (219323, 128, 1)\n",
      "day_of_week_x (219323, 128, 1)\n",
      "day_of_week_y (219323, 128, 1)\n",
      "day_of_month_x (219323, 128, 1)\n",
      "day_of_month_y (219323, 128, 1)\n",
      "day_of_year_x (219323, 128, 1)\n",
      "day_of_year_y (219323, 128, 1)\n",
      "month_of_year_x (219323, 128, 1)\n",
      "month_of_year_y (219323, 128, 1)\n",
      "week_of_year_x (219323, 128, 1)\n",
      "week_of_year_y (219323, 128, 1)\n",
      "--> num_categorical_features: 4\n",
      "permno_id (219323, 1)\n",
      "company_name (219323, 1)\n",
      "primary_exchange (219323, 1)\n",
      "naics_sector (219323, 1)\n",
      "--> target_shape: (219323, 1)\n"
     ]
    }
   ],
   "source": [
    "print(\"---- training data ----\")\n",
    "print(\"--> num_numerical_features:\", len(train_numerical_x.keys()))\n",
    "for key in train_numerical_x.keys():\n",
    "  print(key, train_numerical_x[key].shape)\n",
    "print(\"--> num_categorical_features:\", len(train_categorical_x.keys()))\n",
    "for key in train_categorical_x.keys():\n",
    "  print(key, train_categorical_x[key].shape)\n",
    "print(\"--> target_shape:\", train_y.shape)"
   ]
  },
  {
   "cell_type": "code",
   "execution_count": 10,
   "metadata": {
    "colab": {
     "base_uri": "https://localhost:8080/"
    },
    "executionInfo": {
     "elapsed": 18,
     "status": "ok",
     "timestamp": 1721681402435,
     "user": {
      "displayName": "Rachel Gao",
      "userId": "10756354987170970544"
     },
     "user_tz": 420
    },
    "id": "JMWYL4CQHNkz",
    "outputId": "34063c00-3726-4750-9e3e-fdb3d8b52966"
   },
   "outputs": [
    {
     "name": "stdout",
     "output_type": "stream",
     "text": [
      "---- validation data ----\n",
      "--> num_numerical_features: 19\n",
      "return_scaled (49498, 128, 1)\n",
      "shares_outstanding_scaled (49498, 128, 1)\n",
      "num_trades_scaled (49498, 128, 1)\n",
      "volume_scaled (49498, 128, 1)\n",
      "close_price_scaled (49498, 128, 1)\n",
      "market_cap_scaled (49498, 128, 1)\n",
      "volatility_7_scaled (49498, 128, 1)\n",
      "sector_weighted_avg_return_scaled (49498, 128, 1)\n",
      "sector_simple_avg_return_scaled (49498, 128, 1)\n",
      "day_of_week_x (49498, 128, 1)\n",
      "day_of_week_y (49498, 128, 1)\n",
      "day_of_month_x (49498, 128, 1)\n",
      "day_of_month_y (49498, 128, 1)\n",
      "day_of_year_x (49498, 128, 1)\n",
      "day_of_year_y (49498, 128, 1)\n",
      "month_of_year_x (49498, 128, 1)\n",
      "month_of_year_y (49498, 128, 1)\n",
      "week_of_year_x (49498, 128, 1)\n",
      "week_of_year_y (49498, 128, 1)\n",
      "--> num_categorical_features: 4\n",
      "permno_id (49498, 1)\n",
      "company_name (49498, 1)\n",
      "primary_exchange (49498, 1)\n",
      "naics_sector (49498, 1)\n",
      "--> target_shape: (49498, 1)\n"
     ]
    }
   ],
   "source": [
    "print(\"---- validation data ----\")\n",
    "print(\"--> num_numerical_features:\", len(val_numerical_x.keys()))\n",
    "for key in val_numerical_x.keys():\n",
    "  print(key, val_numerical_x[key].shape)\n",
    "print(\"--> num_categorical_features:\", len(val_categorical_x.keys()))\n",
    "for key in val_categorical_x.keys():\n",
    "  print(key, val_categorical_x[key].shape)\n",
    "print(\"--> target_shape:\", val_y.shape)"
   ]
  },
  {
   "cell_type": "markdown",
   "metadata": {
    "id": "KfiwFhDVH-0J"
   },
   "source": [
    "# Put the data as one dictionary"
   ]
  },
  {
   "cell_type": "code",
   "execution_count": 11,
   "metadata": {
    "executionInfo": {
     "elapsed": 16,
     "status": "ok",
     "timestamp": 1721681402435,
     "user": {
      "displayName": "Rachel Gao",
      "userId": "10756354987170970544"
     },
     "user_tz": 420
    },
    "id": "PabG2yACJXn-"
   },
   "outputs": [],
   "source": [
    "train_dict = {}\n",
    "train_dict['numerical_x'] = train_numerical_x\n",
    "train_dict['categorical_x'] = train_categorical_x\n",
    "train_dict['y'] = {'y': train_y}\n",
    "\n",
    "val_dict = {}\n",
    "val_dict['numerical_x'] = val_numerical_x\n",
    "val_dict['categorical_x'] = val_categorical_x\n",
    "val_dict['y'] = {'y': val_y}\n",
    "\n",
    "merge_dict = {}\n",
    "merge_dict['train_dict'] = train_dict\n",
    "merge_dict['val_dict'] = val_dict"
   ]
  },
  {
   "cell_type": "markdown",
   "metadata": {
    "id": "adi4k6oRqwUl"
   },
   "source": [
    "# Save the merged dictionary as pkl for future use"
   ]
  },
  {
   "cell_type": "code",
   "execution_count": 12,
   "metadata": {
    "executionInfo": {
     "elapsed": 6882,
     "status": "ok",
     "timestamp": 1721681409301,
     "user": {
      "displayName": "Rachel Gao",
      "userId": "10756354987170970544"
     },
     "user_tz": 420
    },
    "id": "_2oz7xTBJv88"
   },
   "outputs": [],
   "source": [
    "with open('/home/sagemaker-user/capstone-2024-summer/data/crsp_rachel_dict.pkl', 'wb') as file:\n",
    "  pickle.dump(merge_dict, file)"
   ]
  },
  {
   "cell_type": "code",
   "execution_count": 13,
   "metadata": {
    "executionInfo": {
     "elapsed": 851,
     "status": "ok",
     "timestamp": 1721681410149,
     "user": {
      "displayName": "Rachel Gao",
      "userId": "10756354987170970544"
     },
     "user_tz": 420
    },
    "id": "AcSTYB8RKRQI"
   },
   "outputs": [],
   "source": [
    "with open('/home/sagemaker-user/capstone-2024-summer/data/crsp_rachel_dict.pkl', 'rb') as file:\n",
    "  merged_df = pickle.load(file)"
   ]
  },
  {
   "cell_type": "code",
   "execution_count": 14,
   "metadata": {
    "executionInfo": {
     "elapsed": 5,
     "status": "ok",
     "timestamp": 1721681410149,
     "user": {
      "displayName": "Rachel Gao",
      "userId": "10756354987170970544"
     },
     "user_tz": 420
    },
    "id": "YVZLdLomKT3d"
   },
   "outputs": [],
   "source": [
    "assert merge_dict.keys() == merged_df.keys()\n",
    "\n",
    "for top_level_key in merge_dict.keys():\n",
    "  assert merge_dict[top_level_key].keys() == merged_df[top_level_key].keys()\n",
    "  for mid_level_key in merge_dict[top_level_key].keys():\n",
    "    assert merge_dict[top_level_key][mid_level_key].keys() == merged_df[top_level_key][mid_level_key].keys()\n",
    "    for bottom_level_key in merge_dict[top_level_key][mid_level_key].keys():\n",
    "      assert merge_dict[top_level_key][mid_level_key][bottom_level_key].shape == merged_df[top_level_key][mid_level_key][bottom_level_key].shape\n",
    "      assert np.array_equal(merge_dict[top_level_key][mid_level_key][bottom_level_key], merged_df[top_level_key][mid_level_key][bottom_level_key])"
   ]
  },
  {
   "cell_type": "code",
   "execution_count": 15,
   "metadata": {},
   "outputs": [],
   "source": [
    "s3.upload_file(\n",
    "    \"/home/sagemaker-user/capstone-2024-summer/data/crsp_rachel_dict.pkl\",\n",
    "    bucket,\n",
    "    \"CRSP/crsp_rachel_dict.pkl\",\n",
    ")"
   ]
  }
 ],
 "metadata": {
  "colab": {
   "authorship_tag": "ABX9TyNufKhprvqI4NXJ0joquthG",
   "provenance": []
  },
  "kernelspec": {
   "display_name": "Python 3 (ipykernel)",
   "language": "python",
   "name": "python3"
  },
  "language_info": {
   "codemirror_mode": {
    "name": "ipython",
    "version": 3
   },
   "file_extension": ".py",
   "mimetype": "text/x-python",
   "name": "python",
   "nbconvert_exporter": "python",
   "pygments_lexer": "ipython3",
   "version": "3.10.14"
  }
 },
 "nbformat": 4,
 "nbformat_minor": 4
}
