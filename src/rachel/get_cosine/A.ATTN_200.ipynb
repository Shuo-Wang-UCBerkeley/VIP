{
 "cells": [
  {
   "cell_type": "markdown",
   "metadata": {},
   "source": [
    "# Setup the Env"
   ]
  },
  {
   "cell_type": "code",
   "execution_count": 52,
   "metadata": {},
   "outputs": [
    {
     "name": "stdout",
     "output_type": "stream",
     "text": [
      "/home/sagemaker-user/capstone-2024-summer/src/rachel\n"
     ]
    }
   ],
   "source": [
    "import sys\n",
    "import os\n",
    "\n",
    "import sagemaker\n",
    "from sagemaker import get_execution_role\n",
    "\n",
    "# Add the parent directory to the sys.path\n",
    "sys.path.insert(0, os.path.abspath(\"..\"))\n",
    "\n",
    "# Define IAM role\n",
    "role = get_execution_role()\n",
    "role\n",
    "\n",
    "# Establish S3 bucket connection\n",
    "import boto3\n",
    "\n",
    "s3 = boto3.client(\"s3\")\n",
    "bucket = \"capstone-bucket-4-friends\"\n",
    "\n",
    "# Take a look at current dir\n",
    "print(os.getcwd())\n",
    "\n",
    "from file_utilities import s3_download"
   ]
  },
  {
   "cell_type": "markdown",
   "metadata": {
    "id": "3EW0vh7-s7V7"
   },
   "source": [
    "# Import Libraries"
   ]
  },
  {
   "cell_type": "code",
   "execution_count": 53,
   "metadata": {
    "id": "txVL_T4ss0m2"
   },
   "outputs": [],
   "source": [
    "# standard libraries\n",
    "import pickle\n",
    "import numpy as np\n",
    "import pandas as pd\n",
    "\n",
    "# visualization\n",
    "import matplotlib.pyplot as plt\n",
    "!pip install seaborn -q\n",
    "import seaborn as sns\n",
    "\n",
    "# model\n",
    "import tensorflow as tf\n",
    "\n",
    "# cosine\n",
    "from scipy.spatial.distance import pdist, squareform"
   ]
  },
  {
   "cell_type": "markdown",
   "metadata": {
    "id": "jrbesqsCs-Tx"
   },
   "source": [
    "# Load Dataset"
   ]
  },
  {
   "cell_type": "code",
   "execution_count": 54,
   "metadata": {
    "id": "BUfoPmLztCKH"
   },
   "outputs": [],
   "source": [
    "with open('/home/sagemaker-user/capstone-2024-summer/data/crsp_rachel_dict.pkl', 'rb') as file:\n",
    "  merged_dict = pickle.load(file)"
   ]
  },
  {
   "cell_type": "code",
   "execution_count": 55,
   "metadata": {
    "colab": {
     "base_uri": "https://localhost:8080/"
    },
    "executionInfo": {
     "elapsed": 34,
     "status": "ok",
     "timestamp": 1721684646880,
     "user": {
      "displayName": "Rachel Gao",
      "userId": "10157902458628963651"
     },
     "user_tz": 420
    },
    "id": "6vKyWzZtOb0Y",
    "outputId": "cd366ece-2c8c-4df2-c5a6-faaec37e7d8e"
   },
   "outputs": [
    {
     "name": "stdout",
     "output_type": "stream",
     "text": [
      "---- training data ----\n",
      "--> num_numerical_features: 19\n",
      "return_scaled (219323, 128, 1)\n",
      "shares_outstanding_scaled (219323, 128, 1)\n",
      "num_trades_scaled (219323, 128, 1)\n",
      "volume_scaled (219323, 128, 1)\n",
      "close_price_scaled (219323, 128, 1)\n",
      "market_cap_scaled (219323, 128, 1)\n",
      "volatility_7_scaled (219323, 128, 1)\n",
      "sector_weighted_avg_return_scaled (219323, 128, 1)\n",
      "sector_simple_avg_return_scaled (219323, 128, 1)\n",
      "day_of_week_x (219323, 128, 1)\n",
      "day_of_week_y (219323, 128, 1)\n",
      "day_of_month_x (219323, 128, 1)\n",
      "day_of_month_y (219323, 128, 1)\n",
      "day_of_year_x (219323, 128, 1)\n",
      "day_of_year_y (219323, 128, 1)\n",
      "month_of_year_x (219323, 128, 1)\n",
      "month_of_year_y (219323, 128, 1)\n",
      "week_of_year_x (219323, 128, 1)\n",
      "week_of_year_y (219323, 128, 1)\n",
      "--> num_categorical_features: 4\n",
      "permno_id (219323, 1)\n",
      "company_name (219323, 1)\n",
      "primary_exchange (219323, 1)\n",
      "naics_sector (219323, 1)\n",
      "--> target_shape: (219323, 1)\n"
     ]
    }
   ],
   "source": [
    "train_numerical_x = merged_dict['train_dict']['numerical_x']\n",
    "train_categorical_x = merged_dict['train_dict']['categorical_x']\n",
    "train_y = merged_dict['train_dict']['y']\n",
    "\n",
    "print(\"---- training data ----\")\n",
    "print(\"--> num_numerical_features:\", len(train_numerical_x.keys()))\n",
    "for key in train_numerical_x.keys():\n",
    "  print(key, train_numerical_x[key].shape)\n",
    "print(\"--> num_categorical_features:\", len(train_categorical_x.keys()))\n",
    "for key in train_categorical_x.keys():\n",
    "  print(key, train_categorical_x[key].shape)\n",
    "print(\"--> target_shape:\", train_y['y'].shape)"
   ]
  },
  {
   "cell_type": "code",
   "execution_count": 56,
   "metadata": {
    "colab": {
     "base_uri": "https://localhost:8080/"
    },
    "executionInfo": {
     "elapsed": 5,
     "status": "ok",
     "timestamp": 1721684646880,
     "user": {
      "displayName": "Rachel Gao",
      "userId": "10157902458628963651"
     },
     "user_tz": 420
    },
    "id": "wQ_hLnDuO600",
    "outputId": "57af3e18-542f-4521-c0d5-d0e06ba21b72"
   },
   "outputs": [
    {
     "name": "stdout",
     "output_type": "stream",
     "text": [
      "---- validation data ----\n",
      "--> num_numerical_features: 19\n",
      "return_scaled (49498, 128, 1)\n",
      "shares_outstanding_scaled (49498, 128, 1)\n",
      "num_trades_scaled (49498, 128, 1)\n",
      "volume_scaled (49498, 128, 1)\n",
      "close_price_scaled (49498, 128, 1)\n",
      "market_cap_scaled (49498, 128, 1)\n",
      "volatility_7_scaled (49498, 128, 1)\n",
      "sector_weighted_avg_return_scaled (49498, 128, 1)\n",
      "sector_simple_avg_return_scaled (49498, 128, 1)\n",
      "day_of_week_x (49498, 128, 1)\n",
      "day_of_week_y (49498, 128, 1)\n",
      "day_of_month_x (49498, 128, 1)\n",
      "day_of_month_y (49498, 128, 1)\n",
      "day_of_year_x (49498, 128, 1)\n",
      "day_of_year_y (49498, 128, 1)\n",
      "month_of_year_x (49498, 128, 1)\n",
      "month_of_year_y (49498, 128, 1)\n",
      "week_of_year_x (49498, 128, 1)\n",
      "week_of_year_y (49498, 128, 1)\n",
      "--> num_categorical_features: 4\n",
      "permno_id (49498, 1)\n",
      "company_name (49498, 1)\n",
      "primary_exchange (49498, 1)\n",
      "naics_sector (49498, 1)\n",
      "--> target_shape: (49498, 1)\n"
     ]
    }
   ],
   "source": [
    "val_numerical_x = merged_dict['val_dict']['numerical_x']\n",
    "val_categorical_x = merged_dict['val_dict']['categorical_x']\n",
    "val_y = merged_dict['val_dict']['y']\n",
    "\n",
    "print(\"---- validation data ----\")\n",
    "print(\"--> num_numerical_features:\", len(val_numerical_x.keys()))\n",
    "for key in val_numerical_x.keys():\n",
    "  print(key, val_numerical_x[key].shape)\n",
    "print(\"--> num_categorical_features:\", len(val_categorical_x.keys()))\n",
    "for key in val_categorical_x.keys():\n",
    "  print(key, val_categorical_x[key].shape)\n",
    "print(\"--> target_shape:\", val_y['y'].shape)"
   ]
  },
  {
   "cell_type": "markdown",
   "metadata": {
    "id": "Bq0wAEgxPIW0"
   },
   "source": [
    "# Prepare the data for modeling"
   ]
  },
  {
   "cell_type": "markdown",
   "metadata": {
    "id": "27BgcRvbQ1vL"
   },
   "source": [
    "### Train"
   ]
  },
  {
   "cell_type": "code",
   "execution_count": 57,
   "metadata": {
    "colab": {
     "base_uri": "https://localhost:8080/"
    },
    "executionInfo": {
     "elapsed": 411,
     "status": "ok",
     "timestamp": 1721684647287,
     "user": {
      "displayName": "Rachel Gao",
      "userId": "10157902458628963651"
     },
     "user_tz": 420
    },
    "id": "03NuXDJuPctB",
    "outputId": "b4387428-87c2-4ef2-c8bf-23a0b2d804f4"
   },
   "outputs": [
    {
     "data": {
      "text/plain": [
       "(219323, 128, 19)"
      ]
     },
     "execution_count": 57,
     "metadata": {},
     "output_type": "execute_result"
    }
   ],
   "source": [
    "training_features = np.concatenate(list(train_numerical_x.values()), axis=-1)\n",
    "training_features.shape"
   ]
  },
  {
   "cell_type": "code",
   "execution_count": 58,
   "metadata": {
    "colab": {
     "base_uri": "https://localhost:8080/"
    },
    "executionInfo": {
     "elapsed": 386,
     "status": "ok",
     "timestamp": 1721684647670,
     "user": {
      "displayName": "Rachel Gao",
      "userId": "10157902458628963651"
     },
     "user_tz": 420
    },
    "id": "7snPHGOUP2bT",
    "outputId": "97052e40-438f-4093-c774-c161e41edfdd"
   },
   "outputs": [
    {
     "data": {
      "text/plain": [
       "(219323, 1)"
      ]
     },
     "execution_count": 58,
     "metadata": {},
     "output_type": "execute_result"
    }
   ],
   "source": [
    "training_permno = train_categorical_x['permno_id']\n",
    "training_cnam = train_categorical_x['company_name']\n",
    "training_pxch = train_categorical_x['primary_exchange']\n",
    "training_sctr = train_categorical_x['naics_sector']\n",
    "\n",
    "training_permno.shape"
   ]
  },
  {
   "cell_type": "code",
   "execution_count": 59,
   "metadata": {
    "colab": {
     "base_uri": "https://localhost:8080/"
    },
    "executionInfo": {
     "elapsed": 6,
     "status": "ok",
     "timestamp": 1721684647670,
     "user": {
      "displayName": "Rachel Gao",
      "userId": "10157902458628963651"
     },
     "user_tz": 420
    },
    "id": "YAK5fUPAQr-0",
    "outputId": "38f419e4-5cdc-4ca5-9be4-0ccb3d58bb82"
   },
   "outputs": [
    {
     "data": {
      "text/plain": [
       "(219323, 1)"
      ]
     },
     "execution_count": 59,
     "metadata": {},
     "output_type": "execute_result"
    }
   ],
   "source": [
    "training_y = train_y['y']\n",
    "\n",
    "training_y.shape"
   ]
  },
  {
   "cell_type": "markdown",
   "metadata": {
    "id": "PVimiUAtQ42O"
   },
   "source": [
    "### Val"
   ]
  },
  {
   "cell_type": "code",
   "execution_count": 60,
   "metadata": {
    "colab": {
     "base_uri": "https://localhost:8080/"
    },
    "executionInfo": {
     "elapsed": 5,
     "status": "ok",
     "timestamp": 1721684647670,
     "user": {
      "displayName": "Rachel Gao",
      "userId": "10157902458628963651"
     },
     "user_tz": 420
    },
    "id": "1vb96zqIQ42O",
    "outputId": "a39d95ea-2c25-45ce-9375-c50396c3849c"
   },
   "outputs": [
    {
     "data": {
      "text/plain": [
       "(49498, 128, 19)"
      ]
     },
     "execution_count": 60,
     "metadata": {},
     "output_type": "execute_result"
    }
   ],
   "source": [
    "validation_features = np.concatenate(list(val_numerical_x.values()), axis=-1)\n",
    "validation_features.shape"
   ]
  },
  {
   "cell_type": "code",
   "execution_count": 61,
   "metadata": {
    "colab": {
     "base_uri": "https://localhost:8080/"
    },
    "executionInfo": {
     "elapsed": 3,
     "status": "ok",
     "timestamp": 1721684647670,
     "user": {
      "displayName": "Rachel Gao",
      "userId": "10157902458628963651"
     },
     "user_tz": 420
    },
    "id": "jz1_po4rQ42O",
    "outputId": "da8c251a-bc2a-4f79-a4c6-c2aabfbb62f5"
   },
   "outputs": [
    {
     "data": {
      "text/plain": [
       "(49498, 1)"
      ]
     },
     "execution_count": 61,
     "metadata": {},
     "output_type": "execute_result"
    }
   ],
   "source": [
    "validation_permno = val_categorical_x['permno_id']\n",
    "validation_cnam = val_categorical_x['company_name']\n",
    "validation_pxch = val_categorical_x['primary_exchange']\n",
    "validation_sctr = val_categorical_x['naics_sector']\n",
    "\n",
    "validation_permno.shape"
   ]
  },
  {
   "cell_type": "code",
   "execution_count": 62,
   "metadata": {
    "colab": {
     "base_uri": "https://localhost:8080/"
    },
    "executionInfo": {
     "elapsed": 3,
     "status": "ok",
     "timestamp": 1721684647670,
     "user": {
      "displayName": "Rachel Gao",
      "userId": "10157902458628963651"
     },
     "user_tz": 420
    },
    "id": "TJmLpYnvQ42P",
    "outputId": "a8a56e76-4138-4c7f-97cc-adde42872282"
   },
   "outputs": [
    {
     "data": {
      "text/plain": [
       "(49498, 1)"
      ]
     },
     "execution_count": 62,
     "metadata": {},
     "output_type": "execute_result"
    }
   ],
   "source": [
    "validation_y = val_y['y']\n",
    "\n",
    "validation_y.shape"
   ]
  },
  {
   "cell_type": "markdown",
   "metadata": {
    "id": "t3S2FZQHpFcO"
   },
   "source": [
    "# Define visualization function to visualize the training progression"
   ]
  },
  {
   "cell_type": "code",
   "execution_count": 63,
   "metadata": {
    "id": "z5RhOP8PVsRs"
   },
   "outputs": [],
   "source": [
    "def visualize(model_history):\n",
    "  fig, axes = plt.subplots(nrows=1, ncols=2, figsize=(15,5))\n",
    "  # visualize the loss\n",
    "  axes[0].plot(model_history.history['loss'], color='purple', label='train_losses')\n",
    "  axes[0].plot(model_history.history['val_loss'], color='orange', label='val_losses')\n",
    "  axes[0].set_xlabel('Epoch')\n",
    "  axes[0].set_ylabel('Loss')\n",
    "  axes[0].set_title('Loss Progression')\n",
    "  axes[0].legend()\n",
    "\n",
    "  # visualize the RMSE\n",
    "  axes[1].plot(model_history.history['root_mean_squared_error'], color='purple', label='train_RMSE')\n",
    "  axes[1].plot(model_history.history['val_root_mean_squared_error'], color='orange', label='val_RMSE')\n",
    "  axes[1].set_xlabel('Epoch')\n",
    "  axes[1].set_ylabel('RMSE')\n",
    "  axes[1].set_title('RMSE Progression')\n",
    "  axes[1].legend()\n",
    "\n",
    "  plt.show()"
   ]
  },
  {
   "cell_type": "markdown",
   "metadata": {
    "id": "V_Dgca0MpJiZ"
   },
   "source": [
    "# Build the model"
   ]
  },
  {
   "cell_type": "code",
   "execution_count": 64,
   "metadata": {
    "id": "DVQHRBhGEHxH"
   },
   "outputs": [],
   "source": [
    "EMBED_DIM = 100"
   ]
  },
  {
   "cell_type": "code",
   "execution_count": 65,
   "metadata": {
    "id": "GlW8JYUYWdhh"
   },
   "outputs": [],
   "source": [
    "def build_model(features,\n",
    "                permno_features,\n",
    "                initial_learning_rate=0.001,\n",
    "                decay_steps=1000,\n",
    "                decay_rate=0.96,\n",
    "                attn_hidden=[128,64,32],\n",
    "                embed_hidden=[64,32],\n",
    "                hidden=[64,32],\n",
    "                dropout=0.2):\n",
    "\n",
    "  tf.keras.backend.clear_session()\n",
    "\n",
    "  # set return features input layer\n",
    "  return_features = tf.keras.layers.Input(shape=(features.shape[1],features.shape[2]), name='return_features') #[batch_size, num_days, num_features]\n",
    "\n",
    "  # set permno features input layer\n",
    "  permnos = tf.keras.layers.Input(shape=(1,), dtype=tf.string, name='permnos')\n",
    "  permno_binned = tf.keras.layers.StringLookup(vocabulary=np.unique(permno_features))(permnos)\n",
    "  permno_embeddings = tf.keras.layers.Embedding(input_dim=(len(np.unique(permno_features))+1), output_dim=EMBED_DIM, input_length=1, name='embeddings')(permno_binned) #[batch_size, num_permno, embed_dim]\n",
    "\n",
    "  # prepare for attention layers\n",
    "  attention_features = return_features\n",
    "\n",
    "  # add attention layers\n",
    "  attention_features = tf.keras.layers.MultiHeadAttention(key_dim=4, num_heads=2)(attention_features, attention_features)\n",
    "\n",
    "  # flatten the output of the previous layers first to prepare for fully connected layers\n",
    "  attention_features = tf.keras.layers.Flatten()(attention_features) #[batch_size, num_days * num_features]\n",
    "\n",
    "  # add dense layers\n",
    "  for i, size in enumerate(attn_hidden):\n",
    "    attention_features = tf.keras.layers.Dense(size, activation='relu', kernel_regularizer=tf.keras.regularizers.l2(0.02), name=f'return_dense_{i}')(attention_features)\n",
    "    attention_features = tf.keras.layers.Dropout(dropout)(attention_features)\n",
    "\n",
    "  # prepare for attention layers\n",
    "  attention_permnos = permno_embeddings\n",
    "\n",
    "  # add attention layers\n",
    "  attention_permnos = tf.keras.layers.MultiHeadAttention(key_dim=4, num_heads=2)(attention_permnos, attention_permnos)\n",
    "\n",
    "  # flatten the embedding features to prepare for dense layers\n",
    "  attention_permnos = tf.keras.layers.Flatten()(attention_permnos) #[batch_size, num_permno * embed_dim]\n",
    "\n",
    "  # add dense layers\n",
    "  for i, size in enumerate(embed_hidden):\n",
    "    attention_permnos = tf.keras.layers.Dense(size, activation='relu', kernel_regularizer=tf.keras.regularizers.l2(0.02), name=f'embed_dense_{i}')(attention_permnos)\n",
    "    attention_permnos = tf.keras.layers.Dropout(dropout)(attention_permnos)\n",
    "\n",
    "  # concatenate the return and permno features\n",
    "  features = tf.keras.layers.Concatenate(name='concat')([attention_features, attention_permnos])\n",
    "\n",
    "  # add final fully connected layers\n",
    "  for i, size in enumerate(hidden):\n",
    "    features = tf.keras.layers.Dense(size, activation='relu', kernel_regularizer=tf.keras.regularizers.l2(0.02), name=f'dense_{i}')(features)\n",
    "    features = tf.keras.layers.Dropout(dropout)(features)\n",
    "\n",
    "  # output layer\n",
    "  outputs = tf.keras.layers.Dense(\n",
    "      units=1,\n",
    "      name='outputs',\n",
    "      activation=None)(features)\n",
    "\n",
    "  # build model and print summary\n",
    "  model = tf.keras.Model(inputs=[permnos, return_features],\n",
    "                          outputs=outputs,\n",
    "                          name='model')\n",
    "\n",
    "  print(model.summary())\n",
    "\n",
    "  # define exponential delay LR\n",
    "  lr_schedule = tf.keras.optimizers.schedules.ExponentialDecay(\n",
    "      initial_learning_rate=initial_learning_rate,\n",
    "      decay_steps=decay_steps,\n",
    "      decay_rate=decay_rate,\n",
    "      staircase=True\n",
    "  )\n",
    "\n",
    "  # compile model\n",
    "  model.compile(optimizer=tf.keras.optimizers.Adam(learning_rate=lr_schedule),\n",
    "              loss=tf.keras.losses.MeanAbsoluteError(),\n",
    "              metrics=tf.keras.metrics.RootMeanSquaredError())\n",
    "\n",
    "  return model"
   ]
  },
  {
   "cell_type": "markdown",
   "metadata": {
    "id": "cbB7bPITpMcg"
   },
   "source": [
    "## Train the model"
   ]
  },
  {
   "cell_type": "code",
   "execution_count": 66,
   "metadata": {
    "id": "Zalfc-weN9FJ"
   },
   "outputs": [],
   "source": [
    "callback = tf.keras.callbacks.EarlyStopping(\n",
    "    monitor=\"val_root_mean_squared_error\",\n",
    "    patience=10,\n",
    "    restore_best_weights=True,\n",
    "    start_from_epoch=30,\n",
    ")"
   ]
  },
  {
   "cell_type": "code",
   "execution_count": 67,
   "metadata": {
    "colab": {
     "base_uri": "https://localhost:8080/",
     "height": 1000
    },
    "executionInfo": {
     "elapsed": 198926,
     "status": "ok",
     "timestamp": 1721686715476,
     "user": {
      "displayName": "Rachel Gao",
      "userId": "10157902458628963651"
     },
     "user_tz": 420
    },
    "id": "EGfqXWmeQ1W6",
    "outputId": "0e0825aa-e399-4dc6-e5e9-3e999763f379"
   },
   "outputs": [
    {
     "name": "stdout",
     "output_type": "stream",
     "text": [
      "Model: \"model\"\n",
      "__________________________________________________________________________________________________\n",
      " Layer (type)                Output Shape                 Param #   Connected to                  \n",
      "==================================================================================================\n",
      " return_features (InputLaye  [(None, 128, 19)]            0         []                            \n",
      " r)                                                                                               \n",
      "                                                                                                  \n",
      " permnos (InputLayer)        [(None, 1)]                  0         []                            \n",
      "                                                                                                  \n",
      " multi_head_attention (Mult  (None, 128, 19)              651       ['return_features[0][0]',     \n",
      " iHeadAttention)                                                     'return_features[0][0]']     \n",
      "                                                                                                  \n",
      " string_lookup (StringLooku  (None, 1)                    0         ['permnos[0][0]']             \n",
      " p)                                                                                               \n",
      "                                                                                                  \n",
      " flatten (Flatten)           (None, 2432)                 0         ['multi_head_attention[0][0]']\n",
      "                                                                                                  \n",
      " embeddings (Embedding)      (None, 1, 100)               20100     ['string_lookup[0][0]']       \n",
      "                                                                                                  \n",
      " return_dense_0 (Dense)      (None, 256)                  622848    ['flatten[0][0]']             \n",
      "                                                                                                  \n",
      " multi_head_attention_1 (Mu  (None, 1, 100)               3324      ['embeddings[0][0]',          \n",
      " ltiHeadAttention)                                                   'embeddings[0][0]']          \n",
      "                                                                                                  \n",
      " dropout (Dropout)           (None, 256)                  0         ['return_dense_0[0][0]']      \n",
      "                                                                                                  \n",
      " flatten_1 (Flatten)         (None, 100)                  0         ['multi_head_attention_1[0][0]\n",
      "                                                                    ']                            \n",
      "                                                                                                  \n",
      " return_dense_1 (Dense)      (None, 128)                  32896     ['dropout[0][0]']             \n",
      "                                                                                                  \n",
      " embed_dense_0 (Dense)       (None, 128)                  12928     ['flatten_1[0][0]']           \n",
      "                                                                                                  \n",
      " dropout_1 (Dropout)         (None, 128)                  0         ['return_dense_1[0][0]']      \n",
      "                                                                                                  \n",
      " dropout_3 (Dropout)         (None, 128)                  0         ['embed_dense_0[0][0]']       \n",
      "                                                                                                  \n",
      " return_dense_2 (Dense)      (None, 64)                   8256      ['dropout_1[0][0]']           \n",
      "                                                                                                  \n",
      " embed_dense_1 (Dense)       (None, 64)                   8256      ['dropout_3[0][0]']           \n",
      "                                                                                                  \n",
      " dropout_2 (Dropout)         (None, 64)                   0         ['return_dense_2[0][0]']      \n",
      "                                                                                                  \n",
      " dropout_4 (Dropout)         (None, 64)                   0         ['embed_dense_1[0][0]']       \n",
      "                                                                                                  \n",
      " concat (Concatenate)        (None, 128)                  0         ['dropout_2[0][0]',           \n",
      "                                                                     'dropout_4[0][0]']           \n",
      "                                                                                                  \n",
      " dense_0 (Dense)             (None, 1024)                 132096    ['concat[0][0]']              \n",
      "                                                                                                  \n",
      " dropout_5 (Dropout)         (None, 1024)                 0         ['dense_0[0][0]']             \n",
      "                                                                                                  \n",
      " outputs (Dense)             (None, 1)                    1025      ['dropout_5[0][0]']           \n",
      "                                                                                                  \n",
      "==================================================================================================\n",
      "Total params: 842380 (3.21 MB)\n",
      "Trainable params: 842380 (3.21 MB)\n",
      "Non-trainable params: 0 (0.00 Byte)\n",
      "__________________________________________________________________________________________________\n",
      "None\n",
      "Epoch 1/10\n",
      "3427/3427 [==============================] - 78s 22ms/step - loss: 8.6804 - root_mean_squared_error: 0.1226 - val_loss: 2.4938 - val_root_mean_squared_error: 0.1467\n",
      "Epoch 2/10\n",
      "3427/3427 [==============================] - 75s 22ms/step - loss: 1.1770 - root_mean_squared_error: 0.0788 - val_loss: 0.4194 - val_root_mean_squared_error: 0.0611\n",
      "Epoch 3/10\n",
      "3427/3427 [==============================] - 75s 22ms/step - loss: 0.2070 - root_mean_squared_error: 0.0768 - val_loss: 0.0798 - val_root_mean_squared_error: 0.0607\n",
      "Epoch 4/10\n",
      "3427/3427 [==============================] - 76s 22ms/step - loss: 0.0684 - root_mean_squared_error: 0.0760 - val_loss: 0.0487 - val_root_mean_squared_error: 0.0604\n",
      "Epoch 5/10\n",
      "3427/3427 [==============================] - 76s 22ms/step - loss: 0.0584 - root_mean_squared_error: 0.0755 - val_loss: 0.0468 - val_root_mean_squared_error: 0.0600\n",
      "Epoch 6/10\n",
      "3427/3427 [==============================] - 75s 22ms/step - loss: 0.0572 - root_mean_squared_error: 0.0753 - val_loss: 0.0460 - val_root_mean_squared_error: 0.0600\n",
      "Epoch 7/10\n",
      "3427/3427 [==============================] - 75s 22ms/step - loss: 0.0565 - root_mean_squared_error: 0.0752 - val_loss: 0.0455 - val_root_mean_squared_error: 0.0599\n",
      "Epoch 8/10\n",
      "3427/3427 [==============================] - 75s 22ms/step - loss: 0.0560 - root_mean_squared_error: 0.0752 - val_loss: 0.0450 - val_root_mean_squared_error: 0.0597\n",
      "Epoch 9/10\n",
      "3427/3427 [==============================] - 75s 22ms/step - loss: 0.0557 - root_mean_squared_error: 0.0751 - val_loss: 0.0447 - val_root_mean_squared_error: 0.0598\n",
      "Epoch 10/10\n",
      "3427/3427 [==============================] - 75s 22ms/step - loss: 0.0554 - root_mean_squared_error: 0.0750 - val_loss: 0.0445 - val_root_mean_squared_error: 0.0598\n"
     ]
    },
    {
     "data": {
      "image/png": "[encoded data removed]",
      "text/plain": [
       "<Figure size 1500x500 with 2 Axes>"
      ]
     },
     "metadata": {},
     "output_type": "display_data"
    }
   ],
   "source": [
    "model = build_model(training_features,\n",
    "                    training_permno,\n",
    "                    initial_learning_rate=0.00002,\n",
    "                    decay_steps=1000,\n",
    "                    decay_rate=0.96,\n",
    "                    attn_hidden=[256,128,64],\n",
    "                    embed_hidden=[128,64],\n",
    "                    hidden=[1024],\n",
    "                    dropout=0.3)\n",
    "\n",
    "# get original embeddings\n",
    "embeddings_untrained = model.get_layer('embeddings').get_weights()[0]\n",
    "\n",
    "history = model.fit(\n",
    "   x=[training_permno, training_features],\n",
    "   y=training_y,\n",
    "   epochs=10,\n",
    "   validation_data=(\n",
    "      [validation_permno, validation_features],\n",
    "      validation_y\n",
    "   ),\n",
    "   batch_size=64,\n",
    "   callbacks=[callback],\n",
    "   verbose=1)\n",
    "\n",
    "# get trained embeddings\n",
    "embeddings_trained = model.get_layer('embeddings').get_weights()[0]\n",
    "\n",
    "visualize(history)"
   ]
  },
  {
   "cell_type": "markdown",
   "metadata": {
    "id": "irttHUamWRQV"
   },
   "source": [
    "# Generate overall predictions & visualize the results"
   ]
  },
  {
   "cell_type": "code",
   "execution_count": null,
   "metadata": {
    "colab": {
     "base_uri": "https://localhost:8080/"
    },
    "executionInfo": {
     "elapsed": 3488,
     "status": "ok",
     "timestamp": 1721686718960,
     "user": {
      "displayName": "Rachel Gao",
      "userId": "10157902458628963651"
     },
     "user_tz": 420
    },
    "id": "10HZCpJ9T98R",
    "outputId": "8ae89397-aeaf-44f9-ce5e-ad1450fa3035"
   },
   "outputs": [
    {
     "name": "stdout",
     "output_type": "stream",
     "text": [
      "2789/6854 [===========>..................] - ETA: 21s"
     ]
    }
   ],
   "source": [
    "training_prediction = model.predict([training_permno, training_features])\n",
    "validation_prediction = model.predict([validation_permno, validation_features])"
   ]
  },
  {
   "cell_type": "code",
   "execution_count": null,
   "metadata": {
    "id": "4S1jCLUyXphK"
   },
   "outputs": [],
   "source": [
    "def visualize_results(y_true, y_pred):\n",
    "  plt.figure(figsize=(10, 4))\n",
    "\n",
    "  # Plot the true values\n",
    "  plt.plot(y_true, label='True Value')\n",
    "  plt.plot(y_pred, label='Predicted Value')\n",
    "\n",
    "  # Labels and title\n",
    "  plt.xlabel('Horizon')\n",
    "  plt.ylabel('Scaled_Return')\n",
    "  plt.title('Predictions vs. True Values')\n",
    "  plt.legend()\n",
    "  plt.show()"
   ]
  },
  {
   "cell_type": "code",
   "execution_count": null,
   "metadata": {
    "colab": {
     "base_uri": "https://localhost:8080/",
     "height": 410
    },
    "executionInfo": {
     "elapsed": 5,
     "status": "ok",
     "timestamp": 1721686718961,
     "user": {
      "displayName": "Rachel Gao",
      "userId": "10157902458628963651"
     },
     "user_tz": 420
    },
    "id": "Jipb5y32Tv9z",
    "outputId": "a38c059c-5a02-4ca7-cd2f-5e312b09192a"
   },
   "outputs": [],
   "source": [
    "visualize_results(training_y, training_prediction)"
   ]
  },
  {
   "cell_type": "code",
   "execution_count": null,
   "metadata": {
    "colab": {
     "base_uri": "https://localhost:8080/",
     "height": 410
    },
    "executionInfo": {
     "elapsed": 1896,
     "status": "ok",
     "timestamp": 1721686720854,
     "user": {
      "displayName": "Rachel Gao",
      "userId": "10157902458628963651"
     },
     "user_tz": 420
    },
    "id": "GXlTVgfsWGA0",
    "outputId": "043e8f8b-a603-4bba-9d08-70757699ae8c"
   },
   "outputs": [],
   "source": [
    "visualize_results(validation_y, validation_prediction)"
   ]
  },
  {
   "cell_type": "markdown",
   "metadata": {
    "id": "i3ny6JOSRRD-"
   },
   "source": [
    "# Look at the embeddings"
   ]
  },
  {
   "cell_type": "code",
   "execution_count": null,
   "metadata": {
    "colab": {
     "base_uri": "https://localhost:8080/"
    },
    "executionInfo": {
     "elapsed": 12,
     "status": "ok",
     "timestamp": 1721686720854,
     "user": {
      "displayName": "Rachel Gao",
      "userId": "10157902458628963651"
     },
     "user_tz": 420
    },
    "id": "kDKkdhS8u3T2",
    "outputId": "b36cb897-1d30-45e1-dac1-38c1f4fa82eb"
   },
   "outputs": [],
   "source": [
    "embeddings_untrained.shape"
   ]
  },
  {
   "cell_type": "code",
   "execution_count": null,
   "metadata": {
    "colab": {
     "base_uri": "https://localhost:8080/"
    },
    "executionInfo": {
     "elapsed": 10,
     "status": "ok",
     "timestamp": 1721686720854,
     "user": {
      "displayName": "Rachel Gao",
      "userId": "10157902458628963651"
     },
     "user_tz": 420
    },
    "id": "bL6N4KGFReDD",
    "outputId": "de7564f0-55be-4da7-d678-0dcf4007aaa5"
   },
   "outputs": [],
   "source": [
    "embeddings_untrained[1:][:2]"
   ]
  },
  {
   "cell_type": "code",
   "execution_count": null,
   "metadata": {
    "colab": {
     "base_uri": "https://localhost:8080/"
    },
    "executionInfo": {
     "elapsed": 9,
     "status": "ok",
     "timestamp": 1721686720854,
     "user": {
      "displayName": "Rachel Gao",
      "userId": "10157902458628963651"
     },
     "user_tz": 420
    },
    "id": "VdcWsN9Ku6MP",
    "outputId": "4fa932f8-c825-4b0d-c3c8-04f67ada547d"
   },
   "outputs": [],
   "source": [
    "embeddings_trained[1:][:2]"
   ]
  },
  {
   "cell_type": "markdown",
   "metadata": {
    "id": "uWahDMY4OsCi"
   },
   "source": [
    "Ignore the 1st embedding element, we have the embeddings corresponding to each permno starting from the 2nd embedding element"
   ]
  },
  {
   "cell_type": "markdown",
   "metadata": {
    "id": "zYVTGirLPTwK"
   },
   "source": [
    "# Run cosine similarity on the embeddings"
   ]
  },
  {
   "cell_type": "code",
   "execution_count": null,
   "metadata": {
    "colab": {
     "base_uri": "https://localhost:8080/",
     "height": 658
    },
    "executionInfo": {
     "elapsed": 317,
     "status": "ok",
     "timestamp": 1721690674688,
     "user": {
      "displayName": "Aaron Joo",
      "userId": "09859180589181228678"
     },
     "user_tz": 420
    },
    "id": "r5Y1qR5_vNjL",
    "outputId": "5fa0323a-d045-4953-dd01-62c0af040d5a"
   },
   "outputs": [],
   "source": [
    "num_permnos = len(np.unique(training_permno))\n",
    "\n",
    "# Calculate pairwise cosine similarity\n",
    "cosine_distances = pdist(embeddings_untrained[1:], metric='cosine')\n",
    "cosine_similarities = 1 - squareform(cosine_distances)\n",
    "\n",
    "subset_distances = pdist(embeddings_untrained[1:21], metric='cosine')\n",
    "subset = 1 - squareform(subset_distances)\n",
    "# Plot the cosine similarity matrix\n",
    "plt.figure(figsize=(8, 8))\n",
    "plt.imshow(subset, cmap='viridis')\n",
    "plt.colorbar(label='Cosine Similarity')\n",
    "plt.title('Pairwise Cosine Similarity Between Untrained Embeddings')\n",
    "plt.xlabel('Embedding Index')\n",
    "plt.ylabel('Embedding Index')\n",
    "plt.xticks(ticks=np.arange(20), labels=np.arange(20))\n",
    "plt.yticks(ticks=np.arange(20), labels=np.arange(20))\n",
    "plt.show()"
   ]
  },
  {
   "cell_type": "code",
   "execution_count": null,
   "metadata": {
    "colab": {
     "base_uri": "https://localhost:8080/",
     "height": 658
    },
    "executionInfo": {
     "elapsed": 9,
     "status": "ok",
     "timestamp": 1721686720854,
     "user": {
      "displayName": "Rachel Gao",
      "userId": "10157902458628963651"
     },
     "user_tz": 420
    },
    "id": "ZqDr8AI3PWpy",
    "outputId": "f941d71c-65a1-4250-a633-f12e116af8ad"
   },
   "outputs": [],
   "source": [
    "num_permnos = len(np.unique(training_permno))\n",
    "\n",
    "# Calculate pairwise cosine similarity\n",
    "cosine_distances = pdist(embeddings_trained[1:], metric='cosine')\n",
    "cosine_similarities = 1 - squareform(cosine_distances)\n",
    "\n",
    "subset_distances = pdist(embeddings_trained[1:21], metric='cosine')\n",
    "subset = 1 - squareform(subset_distances)\n",
    "# Plot the cosine similarity matrix\n",
    "plt.figure(figsize=(8, 8))\n",
    "plt.imshow(subset, cmap='viridis')\n",
    "plt.colorbar(label='Cosine Similarity')\n",
    "plt.title('Pairwise Cosine Similarity Between Trained Embeddings')\n",
    "plt.xlabel('Embedding Index')\n",
    "plt.ylabel('Embedding Index')\n",
    "plt.xticks(ticks=np.arange(20), labels=np.arange(20))\n",
    "plt.yticks(ticks=np.arange(20), labels=np.arange(20))\n",
    "plt.show()"
   ]
  },
  {
   "cell_type": "markdown",
   "metadata": {
    "id": "_R-0udkPWUrP"
   },
   "source": [
    "# Sample 5 permnos to visualize the true values vs predictions"
   ]
  },
  {
   "cell_type": "code",
   "execution_count": null,
   "metadata": {
    "colab": {
     "base_uri": "https://localhost:8080/",
     "height": 206
    },
    "executionInfo": {
     "elapsed": 8,
     "status": "ok",
     "timestamp": 1721686720854,
     "user": {
      "displayName": "Rachel Gao",
      "userId": "10157902458628963651"
     },
     "user_tz": 420
    },
    "id": "VgqQhWuVWawv",
    "outputId": "6c899e1a-7ba9-44b7-de6a-c23f8e0d85dc"
   },
   "outputs": [],
   "source": [
    "visualize_df = pd.DataFrame({'permno_id': training_permno.flatten(),\n",
    "                             'true_y': training_y.flatten(),\n",
    "                             'pred_y': training_prediction.flatten()})\n",
    "visualize_df.head()"
   ]
  },
  {
   "cell_type": "code",
   "execution_count": null,
   "metadata": {
    "colab": {
     "base_uri": "https://localhost:8080/",
     "height": 1000
    },
    "executionInfo": {
     "elapsed": 948,
     "status": "ok",
     "timestamp": 1721686721795,
     "user": {
      "displayName": "Rachel Gao",
      "userId": "10157902458628963651"
     },
     "user_tz": 420
    },
    "id": "EDyCFQO4X9Jr",
    "outputId": "a7b65c07-e87d-46e5-e695-2d56aa7fe572"
   },
   "outputs": [],
   "source": [
    "for permno in visualize_df['permno_id'].unique()[:5]:\n",
    "  print(\"-\"*50, permno, \"-\"*50)\n",
    "  visualize_permno = visualize_df[visualize_df['permno_id'] == permno]\n",
    "  visualize_results(visualize_permno['true_y'], visualize_permno['pred_y'])\n",
    "  print()"
   ]
  },
  {
   "cell_type": "markdown",
   "metadata": {},
   "source": [
    "# Put the permnos, embeddings, and, cosine similarities into a dict"
   ]
  },
  {
   "cell_type": "code",
   "execution_count": null,
   "metadata": {},
   "outputs": [],
   "source": [
    "results = {}\n",
    "\n",
    "results[\"permno_id\"] = np.unique(training_permno)\n",
    "results[\"embeddings\"] = embeddings_trained[1:]\n",
    "results[\"cosine\"] = cosine_similarities"
   ]
  },
  {
   "cell_type": "code",
   "execution_count": null,
   "metadata": {},
   "outputs": [],
   "source": [
    "display(results[\"permno_id\"].shape)\n",
    "display(results[\"embeddings\"].shape)\n",
    "display(results[\"cosine\"].shape)"
   ]
  },
  {
   "cell_type": "code",
   "execution_count": null,
   "metadata": {},
   "outputs": [],
   "source": [
    "results"
   ]
  },
  {
   "cell_type": "markdown",
   "metadata": {},
   "source": [
    "# Save the trained embeddings & calculated cosine similarities to a pkl file"
   ]
  },
  {
   "cell_type": "code",
   "execution_count": null,
   "metadata": {},
   "outputs": [],
   "source": [
    "with open('/home/sagemaker-user/capstone-2024-summer/data/crsp_rachel_results_200.pkl', 'wb') as file:\n",
    "  pickle.dump(results, file)"
   ]
  },
  {
   "cell_type": "code",
   "execution_count": null,
   "metadata": {},
   "outputs": [],
   "source": [
    "s3.upload_file(\n",
    "    \"/home/sagemaker-user/capstone-2024-summer/data/crsp_rachel_results_200.pkl\",\n",
    "    bucket,\n",
    "    \"CRSP/crsp_rachel_results_200.pkl\",\n",
    ")"
   ]
  }
 ],
 "metadata": {
  "accelerator": "GPU",
  "colab": {
   "gpuType": "T4",
   "provenance": []
  },
  "kernelspec": {
   "display_name": "Python 3 (ipykernel)",
   "language": "python",
   "name": "python3"
  },
  "language_info": {
   "codemirror_mode": {
    "name": "ipython",
    "version": 3
   },
   "file_extension": ".py",
   "mimetype": "text/x-python",
   "name": "python",
   "nbconvert_exporter": "python",
   "pygments_lexer": "ipython3",
   "version": "3.10.14"
  }
 },
 "nbformat": 4,
 "nbformat_minor": 4
}
