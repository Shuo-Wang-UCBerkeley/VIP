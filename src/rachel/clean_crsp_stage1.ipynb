{
 "cells": [
  {
   "cell_type": "markdown",
   "metadata": {},
   "source": [
    "# Setup the Env\n"
   ]
  },
  {
   "cell_type": "code",
   "execution_count": 1,
   "metadata": {},
   "outputs": [
    {
     "name": "stdout",
     "output_type": "stream",
     "text": [
      "sagemaker.config INFO - Not applying SDK defaults from location: /etc/xdg/sagemaker/config.yaml\n",
      "sagemaker.config INFO - Not applying SDK defaults from location: /home/sagemaker-user/.config/sagemaker/config.yaml\n",
      "/home/sagemaker-user/capstone-2024-summer/src/rachel\n"
     ]
    }
   ],
   "source": [
    "import sys\n",
    "import os\n",
    "\n",
    "import sagemaker\n",
    "from sagemaker import get_execution_role\n",
    "\n",
    "# Add the parent directory to the sys.path\n",
    "sys.path.insert(0, os.path.abspath(\"..\"))\n",
    "\n",
    "# Define IAM role\n",
    "role = get_execution_role()\n",
    "role\n",
    "\n",
    "# Establish S3 bucket connection\n",
    "import boto3\n",
    "\n",
    "s3 = boto3.client(\"s3\")\n",
    "bucket = \"capstone-bucket-4-friends\"\n",
    "\n",
    "# Take a look at current dir\n",
    "print(os.getcwd())\n",
    "\n",
    "from file_utilities import s3_download"
   ]
  },
  {
   "cell_type": "markdown",
   "metadata": {
    "id": "gey0gI-R-q-P"
   },
   "source": [
    "# Import libraries\n"
   ]
  },
  {
   "cell_type": "code",
   "execution_count": 2,
   "metadata": {
    "colab": {
     "base_uri": "https://localhost:8080/"
    },
    "executionInfo": {
     "elapsed": 3384,
     "status": "ok",
     "timestamp": 1718854260790,
     "user": {
      "displayName": "Rachel Gao",
      "userId": "10756354987170970544"
     },
     "user_tz": 420
    },
    "id": "4advojzZJ3Kc",
    "outputId": "241fdbb0-fc1b-4350-ba4b-a44f786ae727"
   },
   "outputs": [],
   "source": [
    "# standard libraries\n",
    "import numpy as np\n",
    "import pandas as pd\n",
    "\n",
    "# visualization\n",
    "import matplotlib.pyplot as plt\n",
    "\n",
    "!pip install seaborn -q\n",
    "import seaborn as sns"
   ]
  },
  {
   "cell_type": "markdown",
   "metadata": {},
   "source": [
    "# Download Data from S3 as needed\n"
   ]
  },
  {
   "cell_type": "code",
   "execution_count": 3,
   "metadata": {},
   "outputs": [],
   "source": [
    "crsp = \"CRSP/crsp_2018-2023.csv\"\n",
    "crsp_path = s3_download(crsp)"
   ]
  },
  {
   "cell_type": "code",
   "execution_count": 4,
   "metadata": {},
   "outputs": [],
   "source": [
    "index = \"Index/security_master.csv\"\n",
    "index_path = s3_download(index)"
   ]
  },
  {
   "cell_type": "markdown",
   "metadata": {
    "id": "NL5urp2nAL4f"
   },
   "source": [
    "# Load the dataset\n",
    "\n",
    "https://www.crsp.org/wp-content/uploads/guides/CRSP_US_Stock_&_Indexes_Database_Data_Descriptions_Guide.pdf\n"
   ]
  },
  {
   "cell_type": "code",
   "execution_count": 5,
   "metadata": {
    "colab": {
     "base_uri": "https://localhost:8080/",
     "height": 552
    },
    "executionInfo": {
     "elapsed": 35269,
     "status": "ok",
     "timestamp": 1718854296057,
     "user": {
      "displayName": "Rachel Gao",
      "userId": "10756354987170970544"
     },
     "user_tz": 420
    },
    "id": "qZZUgwZ7AqVA",
    "outputId": "e064ef6b-03c0-4661-fe7f-62a938271d6e"
   },
   "outputs": [
    {
     "name": "stderr",
     "output_type": "stream",
     "text": [
      "/tmp/ipykernel_247/2387555262.py:1: DtypeWarning: Columns (2,5,6,9,18,19,20,22,24,49,57) have mixed types. Specify dtype option on import or set low_memory=False.\n",
      "  crsp_df = pd.read_csv(\n"
     ]
    },
    {
     "data": {
      "text/html": [
       "<div>\n",
       "<style scoped>\n",
       "    .dataframe tbody tr th:only-of-type {\n",
       "        vertical-align: middle;\n",
       "    }\n",
       "\n",
       "    .dataframe tbody tr th {\n",
       "        vertical-align: top;\n",
       "    }\n",
       "\n",
       "    .dataframe thead th {\n",
       "        text-align: right;\n",
       "    }\n",
       "</style>\n",
       "<table border=\"1\" class=\"dataframe\">\n",
       "  <thead>\n",
       "    <tr style=\"text-align: right;\">\n",
       "      <th></th>\n",
       "      <th>PERMNO</th>\n",
       "      <th>date</th>\n",
       "      <th>NAMEENDT</th>\n",
       "      <th>SHRCD</th>\n",
       "      <th>EXCHCD</th>\n",
       "      <th>SICCD</th>\n",
       "      <th>NCUSIP</th>\n",
       "      <th>TICKER</th>\n",
       "      <th>COMNAM</th>\n",
       "      <th>SHRCLS</th>\n",
       "      <th>...</th>\n",
       "      <th>CFACPR</th>\n",
       "      <th>CFACSHR</th>\n",
       "      <th>OPENPRC</th>\n",
       "      <th>NUMTRD</th>\n",
       "      <th>RETX</th>\n",
       "      <th>vwretd</th>\n",
       "      <th>vwretx</th>\n",
       "      <th>ewretd</th>\n",
       "      <th>ewretx</th>\n",
       "      <th>sprtrn</th>\n",
       "    </tr>\n",
       "  </thead>\n",
       "  <tbody>\n",
       "    <tr>\n",
       "      <th>0</th>\n",
       "      <td>10026</td>\n",
       "      <td>2018-01-02</td>\n",
       "      <td>NaN</td>\n",
       "      <td>11.0</td>\n",
       "      <td>3.0</td>\n",
       "      <td>2052</td>\n",
       "      <td>46603210</td>\n",
       "      <td>JJSF</td>\n",
       "      <td>J &amp; J SNACK FOODS CORP</td>\n",
       "      <td>NaN</td>\n",
       "      <td>...</td>\n",
       "      <td>1.0</td>\n",
       "      <td>1.0</td>\n",
       "      <td>152.39000</td>\n",
       "      <td>1036.0</td>\n",
       "      <td>-0.017454</td>\n",
       "      <td>0.008505</td>\n",
       "      <td>0.008471</td>\n",
       "      <td>0.011232</td>\n",
       "      <td>0.011214</td>\n",
       "      <td>0.008303</td>\n",
       "    </tr>\n",
       "    <tr>\n",
       "      <th>1</th>\n",
       "      <td>10026</td>\n",
       "      <td>2018-01-03</td>\n",
       "      <td>NaN</td>\n",
       "      <td>11.0</td>\n",
       "      <td>3.0</td>\n",
       "      <td>2052</td>\n",
       "      <td>46603210</td>\n",
       "      <td>JJSF</td>\n",
       "      <td>J &amp; J SNACK FOODS CORP</td>\n",
       "      <td>NaN</td>\n",
       "      <td>...</td>\n",
       "      <td>1.0</td>\n",
       "      <td>1.0</td>\n",
       "      <td>149.07001</td>\n",
       "      <td>1283.0</td>\n",
       "      <td>-0.009988</td>\n",
       "      <td>0.005856</td>\n",
       "      <td>0.005852</td>\n",
       "      <td>0.005103</td>\n",
       "      <td>0.005094</td>\n",
       "      <td>0.006399</td>\n",
       "    </tr>\n",
       "    <tr>\n",
       "      <th>2</th>\n",
       "      <td>10026</td>\n",
       "      <td>2018-01-04</td>\n",
       "      <td>NaN</td>\n",
       "      <td>11.0</td>\n",
       "      <td>3.0</td>\n",
       "      <td>2052</td>\n",
       "      <td>46603210</td>\n",
       "      <td>JJSF</td>\n",
       "      <td>J &amp; J SNACK FOODS CORP</td>\n",
       "      <td>NaN</td>\n",
       "      <td>...</td>\n",
       "      <td>1.0</td>\n",
       "      <td>1.0</td>\n",
       "      <td>147.77000</td>\n",
       "      <td>1138.0</td>\n",
       "      <td>0.013813</td>\n",
       "      <td>0.004001</td>\n",
       "      <td>0.003858</td>\n",
       "      <td>0.005272</td>\n",
       "      <td>0.005217</td>\n",
       "      <td>0.004029</td>\n",
       "    </tr>\n",
       "    <tr>\n",
       "      <th>3</th>\n",
       "      <td>10026</td>\n",
       "      <td>2018-01-05</td>\n",
       "      <td>NaN</td>\n",
       "      <td>11.0</td>\n",
       "      <td>3.0</td>\n",
       "      <td>2052</td>\n",
       "      <td>46603210</td>\n",
       "      <td>JJSF</td>\n",
       "      <td>J &amp; J SNACK FOODS CORP</td>\n",
       "      <td>NaN</td>\n",
       "      <td>...</td>\n",
       "      <td>1.0</td>\n",
       "      <td>1.0</td>\n",
       "      <td>149.74001</td>\n",
       "      <td>745.0</td>\n",
       "      <td>-0.009550</td>\n",
       "      <td>0.005804</td>\n",
       "      <td>0.005802</td>\n",
       "      <td>0.003880</td>\n",
       "      <td>0.003865</td>\n",
       "      <td>0.007034</td>\n",
       "    </tr>\n",
       "    <tr>\n",
       "      <th>4</th>\n",
       "      <td>10026</td>\n",
       "      <td>2018-01-08</td>\n",
       "      <td>NaN</td>\n",
       "      <td>11.0</td>\n",
       "      <td>3.0</td>\n",
       "      <td>2052</td>\n",
       "      <td>46603210</td>\n",
       "      <td>JJSF</td>\n",
       "      <td>J &amp; J SNACK FOODS CORP</td>\n",
       "      <td>NaN</td>\n",
       "      <td>...</td>\n",
       "      <td>1.0</td>\n",
       "      <td>1.0</td>\n",
       "      <td>147.77000</td>\n",
       "      <td>990.0</td>\n",
       "      <td>0.000742</td>\n",
       "      <td>0.001816</td>\n",
       "      <td>0.001802</td>\n",
       "      <td>0.000584</td>\n",
       "      <td>0.000574</td>\n",
       "      <td>0.001662</td>\n",
       "    </tr>\n",
       "  </tbody>\n",
       "</table>\n",
       "<p>5 rows × 63 columns</p>\n",
       "</div>"
      ],
      "text/plain": [
       "   PERMNO       date NAMEENDT  SHRCD  EXCHCD SICCD    NCUSIP TICKER  \\\n",
       "0   10026 2018-01-02      NaN   11.0     3.0  2052  46603210   JJSF   \n",
       "1   10026 2018-01-03      NaN   11.0     3.0  2052  46603210   JJSF   \n",
       "2   10026 2018-01-04      NaN   11.0     3.0  2052  46603210   JJSF   \n",
       "3   10026 2018-01-05      NaN   11.0     3.0  2052  46603210   JJSF   \n",
       "4   10026 2018-01-08      NaN   11.0     3.0  2052  46603210   JJSF   \n",
       "\n",
       "                   COMNAM SHRCLS  ... CFACPR  CFACSHR    OPENPRC  NUMTRD  \\\n",
       "0  J & J SNACK FOODS CORP    NaN  ...    1.0      1.0  152.39000  1036.0   \n",
       "1  J & J SNACK FOODS CORP    NaN  ...    1.0      1.0  149.07001  1283.0   \n",
       "2  J & J SNACK FOODS CORP    NaN  ...    1.0      1.0  147.77000  1138.0   \n",
       "3  J & J SNACK FOODS CORP    NaN  ...    1.0      1.0  149.74001   745.0   \n",
       "4  J & J SNACK FOODS CORP    NaN  ...    1.0      1.0  147.77000   990.0   \n",
       "\n",
       "        RETX    vwretd    vwretx    ewretd    ewretx    sprtrn  \n",
       "0  -0.017454  0.008505  0.008471  0.011232  0.011214  0.008303  \n",
       "1  -0.009988  0.005856  0.005852  0.005103  0.005094  0.006399  \n",
       "2   0.013813  0.004001  0.003858  0.005272  0.005217  0.004029  \n",
       "3  -0.009550  0.005804  0.005802  0.003880  0.003865  0.007034  \n",
       "4   0.000742  0.001816  0.001802  0.000584  0.000574  0.001662  \n",
       "\n",
       "[5 rows x 63 columns]"
      ]
     },
     "execution_count": 5,
     "metadata": {},
     "output_type": "execute_result"
    }
   ],
   "source": [
    "crsp_df = pd.read_csv(\n",
    "    \"/home/sagemaker-user/capstone-2024-summer/data/crsp_2018-2023.csv\",\n",
    "    parse_dates=[\"date\"],\n",
    ")\n",
    "\n",
    "crsp_df.head()"
   ]
  },
  {
   "cell_type": "markdown",
   "metadata": {
    "id": "k4Sdl7bhbYlY"
   },
   "source": [
    "# Take a look at the columns\n"
   ]
  },
  {
   "cell_type": "code",
   "execution_count": 6,
   "metadata": {
    "colab": {
     "base_uri": "https://localhost:8080/"
    },
    "executionInfo": {
     "elapsed": 5,
     "status": "ok",
     "timestamp": 1718854296058,
     "user": {
      "displayName": "Rachel Gao",
      "userId": "10756354987170970544"
     },
     "user_tz": 420
    },
    "id": "kvnFj_bSCFCN",
    "outputId": "871ccbba-7ee3-476a-8e5a-b837f2603341"
   },
   "outputs": [
    {
     "data": {
      "text/plain": [
       "Index(['PERMNO', 'date', 'NAMEENDT', 'SHRCD', 'EXCHCD', 'SICCD', 'NCUSIP',\n",
       "       'TICKER', 'COMNAM', 'SHRCLS', 'TSYMBOL', 'NAICS', 'PRIMEXCH', 'TRDSTAT',\n",
       "       'SECSTAT', 'PERMCO', 'ISSUNO', 'HEXCD', 'HSICCD', 'CUSIP', 'DCLRDT',\n",
       "       'DLAMT', 'DLPDT', 'DLSTCD', 'NEXTDT', 'PAYDT', 'RCRDDT', 'SHRFLG',\n",
       "       'HSICMG', 'HSICIG', 'DISTCD', 'DIVAMT', 'FACPR', 'FACSHR', 'ACPERM',\n",
       "       'ACCOMP', 'SHRENDDT', 'NWPERM', 'DLRETX', 'DLPRC', 'DLRET', 'TRTSCD',\n",
       "       'NMSIND', 'MMCNT', 'NSDINX', 'BIDLO', 'ASKHI', 'PRC', 'VOL', 'RET',\n",
       "       'BID', 'ASK', 'SHROUT', 'CFACPR', 'CFACSHR', 'OPENPRC', 'NUMTRD',\n",
       "       'RETX', 'vwretd', 'vwretx', 'ewretd', 'ewretx', 'sprtrn'],\n",
       "      dtype='object')"
      ]
     },
     "execution_count": 6,
     "metadata": {},
     "output_type": "execute_result"
    }
   ],
   "source": [
    "crsp_df.columns"
   ]
  },
  {
   "cell_type": "code",
   "execution_count": 7,
   "metadata": {
    "colab": {
     "base_uri": "https://localhost:8080/"
    },
    "executionInfo": {
     "elapsed": 4,
     "status": "ok",
     "timestamp": 1718854296058,
     "user": {
      "displayName": "Rachel Gao",
      "userId": "10756354987170970544"
     },
     "user_tz": 420
    },
    "id": "anxdhdX5fLqU",
    "outputId": "021c7500-f9b4-4ae4-bdd7-6cfb57285809"
   },
   "outputs": [
    {
     "data": {
      "text/plain": [
       "PERMNO               int64\n",
       "date        datetime64[ns]\n",
       "NAMEENDT            object\n",
       "SHRCD              float64\n",
       "EXCHCD             float64\n",
       "                 ...      \n",
       "vwretd             float64\n",
       "vwretx             float64\n",
       "ewretd             float64\n",
       "ewretx             float64\n",
       "sprtrn             float64\n",
       "Length: 63, dtype: object"
      ]
     },
     "execution_count": 7,
     "metadata": {},
     "output_type": "execute_result"
    }
   ],
   "source": [
    "crsp_df.dtypes"
   ]
  },
  {
   "cell_type": "code",
   "execution_count": 8,
   "metadata": {
    "colab": {
     "base_uri": "https://localhost:8080/"
    },
    "executionInfo": {
     "elapsed": 3,
     "status": "ok",
     "timestamp": 1718854296058,
     "user": {
      "displayName": "Rachel Gao",
      "userId": "10756354987170970544"
     },
     "user_tz": 420
    },
    "id": "y92nzlbOY00-",
    "outputId": "f346ffa0-308a-454b-c0ab-99903433a7f7"
   },
   "outputs": [
    {
     "name": "stdout",
     "output_type": "stream",
     "text": [
      "number of records: 12665502\n",
      "number of columns: 63\n"
     ]
    }
   ],
   "source": [
    "og_crsp_len = len(crsp_df)\n",
    "og_crsp_cols = len(crsp_df.columns)\n",
    "print(\"number of records:\", og_crsp_len)\n",
    "print(\"number of columns:\", og_crsp_cols)"
   ]
  },
  {
   "cell_type": "markdown",
   "metadata": {},
   "source": [
    "# If price is negative, change to NaN to impute\n",
    "\n",
    "If the closing price is not available on any given trading day, the number in the price field has a negative sign to indicate that it is a bid/ask average and not an actual closing price. Please note that in this field the negative sign is a symbol and that the value of the bid/ask average is not negative."
   ]
  },
  {
   "cell_type": "code",
   "execution_count": 9,
   "metadata": {},
   "outputs": [],
   "source": [
    "crsp_df[\"PRC\"] = crsp_df[\"PRC\"].mask(crsp_df[\"PRC\"] < 0, np.nan)"
   ]
  },
  {
   "cell_type": "markdown",
   "metadata": {
    "id": "c3ncsMKpdlXk"
   },
   "source": [
    "# Null analysis\n"
   ]
  },
  {
   "cell_type": "code",
   "execution_count": 10,
   "metadata": {
    "colab": {
     "base_uri": "https://localhost:8080/",
     "height": 475
    },
    "executionInfo": {
     "elapsed": 4868,
     "status": "ok",
     "timestamp": 1718854300924,
     "user": {
      "displayName": "Rachel Gao",
      "userId": "10756354987170970544"
     },
     "user_tz": 420
    },
    "id": "YMKjMIxndqbA",
    "outputId": "b56c1fda-dab7-4584-b8ac-9b6adde5357b"
   },
   "outputs": [
    {
     "data": {
      "image/png": "[encoded data removed]",
      "text/plain": [
       "<Figure size 1200x400 with 1 Axes>"
      ]
     },
     "metadata": {},
     "output_type": "display_data"
    }
   ],
   "source": [
    "# Count the number of nulls in each column\n",
    "null_counts = crsp_df.isnull().sum()\n",
    "\n",
    "# Calculate the percentage of nulls in each column\n",
    "total_rows = len(crsp_df)\n",
    "null_percentages = (null_counts / total_rows) * 100\n",
    "\n",
    "# Plot the percentages as a bar plot\n",
    "null_percentages.plot(kind=\"bar\", figsize=(12, 4), color=\"skyblue\")\n",
    "plt.axhline(y=80, color=\"red\", linestyle=\"--\", linewidth=1)\n",
    "plt.title(\"Percentage of Null Values in Each Column\")\n",
    "plt.xlabel(\"Columns\")\n",
    "plt.ylabel(\"Percentage of Nulls (%)\")\n",
    "plt.show()"
   ]
  },
  {
   "cell_type": "markdown",
   "metadata": {
    "id": "cFe6mQFCf_RJ"
   },
   "source": [
    "## A1. Drop all columns which contains more than 80% null as they cannot be reasonably obtained or imputed.\n"
   ]
  },
  {
   "cell_type": "code",
   "execution_count": 11,
   "metadata": {
    "colab": {
     "base_uri": "https://localhost:8080/"
    },
    "executionInfo": {
     "elapsed": 287,
     "status": "ok",
     "timestamp": 1718854301208,
     "user": {
      "displayName": "Rachel Gao",
      "userId": "10756354987170970544"
     },
     "user_tz": 420
    },
    "id": "4H0i5UKBf-g2",
    "outputId": "98ff4e2b-84e5-4bac-ceba-1cc988694d52"
   },
   "outputs": [
    {
     "name": "stdout",
     "output_type": "stream",
     "text": [
      "num_columns_removed:  25\n",
      "num_columns_kept: 38\n"
     ]
    }
   ],
   "source": [
    "og_cols = len(crsp_df.columns)\n",
    "columns_to_drop = null_percentages[null_percentages > 80].index\n",
    "crsp_df = crsp_df.drop(columns=columns_to_drop)\n",
    "new_cols = len(crsp_df.columns)\n",
    "print(\"num_columns_removed: \", og_cols - new_cols)\n",
    "print(\"num_columns_kept:\", new_cols)"
   ]
  },
  {
   "cell_type": "markdown",
   "metadata": {
    "id": "zswhk8i0r01t"
   },
   "source": [
    "## A2. Drop all columns containing duplicate information\n"
   ]
  },
  {
   "cell_type": "code",
   "execution_count": 12,
   "metadata": {
    "colab": {
     "base_uri": "https://localhost:8080/"
    },
    "executionInfo": {
     "elapsed": 182,
     "status": "ok",
     "timestamp": 1718854301388,
     "user": {
      "displayName": "Rachel Gao",
      "userId": "10756354987170970544"
     },
     "user_tz": 420
    },
    "id": "-ZRJ47epsRmM",
    "outputId": "849e35d2-044e-4ed0-acc6-f3d3bff16e45"
   },
   "outputs": [
    {
     "name": "stdout",
     "output_type": "stream",
     "text": [
      "num_columns_removed:  11\n",
      "num_columns_kept: 27\n"
     ]
    }
   ],
   "source": [
    "og_cols = len(crsp_df.columns)\n",
    "columns_to_drop = [\n",
    "    \"PERMCO\",\n",
    "    \"ISSUNO\",\n",
    "    \"TSYMBOL\",\n",
    "    \"RETX\",\n",
    "    \"vwretx\",\n",
    "    \"ewretx\",\n",
    "    \"HEXCD\",\n",
    "    \"SICCD\",\n",
    "    \"HSICCD\",\n",
    "    \"HSICIG\",\n",
    "    \"HSICMG\",\n",
    "]\n",
    "crsp_df = crsp_df.drop(columns=columns_to_drop)\n",
    "new_cols = len(crsp_df.columns)\n",
    "print(\"num_columns_removed: \", og_cols - new_cols)\n",
    "print(\"num_columns_kept:\", new_cols)"
   ]
  },
  {
   "cell_type": "markdown",
   "metadata": {
    "id": "JWJ1RPPvsrcC"
   },
   "source": [
    "# Take another look at the null analysis\n"
   ]
  },
  {
   "cell_type": "code",
   "execution_count": 13,
   "metadata": {
    "colab": {
     "base_uri": "https://localhost:8080/",
     "height": 467
    },
    "executionInfo": {
     "elapsed": 1652,
     "status": "ok",
     "timestamp": 1718854303039,
     "user": {
      "displayName": "Rachel Gao",
      "userId": "10756354987170970544"
     },
     "user_tz": 420
    },
    "id": "2GXrE1bVsg1Q",
    "outputId": "022db422-4fae-4199-9bf3-e2a57518a293"
   },
   "outputs": [
    {
     "data": {
      "image/png": "[encoded data removed]",
      "text/plain": [
       "<Figure size 1200x400 with 1 Axes>"
      ]
     },
     "metadata": {},
     "output_type": "display_data"
    }
   ],
   "source": [
    "# Count the number of nulls in each column\n",
    "null_counts = crsp_df.isnull().sum()\n",
    "\n",
    "# Calculate the percentage of nulls in each column\n",
    "total_rows = len(crsp_df)\n",
    "null_percentages = (null_counts / total_rows) * 100\n",
    "\n",
    "# Plot the percentages as a bar plot\n",
    "ax = null_percentages.plot(kind=\"bar\", figsize=(12, 4), color=\"skyblue\")\n",
    "plt.title(\"Percentage of Null Values in Each Column\")\n",
    "plt.xlabel(\"Columns\")\n",
    "plt.ylim(0, max(null_percentages.values) + 10)\n",
    "plt.ylabel(\"Percentage of Nulls (%)\")\n",
    "\n",
    "# Annotate the bars with the percentage values\n",
    "for i, percentage in enumerate(null_percentages):\n",
    "    if percentage != 0:\n",
    "        ax.annotate(\n",
    "            f\"{percentage:.0f}%\",\n",
    "            xy=(i, percentage),\n",
    "            xytext=(0, 3),\n",
    "            textcoords=\"offset points\",\n",
    "            ha=\"center\",\n",
    "            va=\"bottom\",\n",
    "            color=\"red\",\n",
    "        )\n",
    "\n",
    "plt.show()"
   ]
  },
  {
   "cell_type": "markdown",
   "metadata": {
    "id": "6wv4KP9vgnGd"
   },
   "source": [
    "# Review unique values and distribution in each remaining column\n"
   ]
  },
  {
   "cell_type": "code",
   "execution_count": 14,
   "metadata": {
    "colab": {
     "base_uri": "https://localhost:8080/"
    },
    "executionInfo": {
     "elapsed": 5513,
     "status": "ok",
     "timestamp": 1718854308549,
     "user": {
      "displayName": "Rachel Gao",
      "userId": "10756354987170970544"
     },
     "user_tz": 420
    },
    "id": "wJH_9Qs0gsI7",
    "outputId": "493db5ea-5e0d-47e2-bce0-9db85cceeea8"
   },
   "outputs": [
    {
     "name": "stdout",
     "output_type": "stream",
     "text": [
      "---------- PERMNO ----------\n",
      "12765\n",
      "PERMNO\n",
      "21259    1531\n",
      "90731    1527\n",
      "16780    1526\n",
      "16437    1523\n",
      "10065    1522\n",
      "         ... \n",
      "15403       1\n",
      "43095       1\n",
      "92771       1\n",
      "91431       1\n",
      "13713       1\n",
      "Name: count, Length: 12765, dtype: int64\n",
      "---------- date ----------\n",
      "1509\n",
      "date\n",
      "2022-10-13    9598\n",
      "2022-09-30    9597\n",
      "2022-10-17    9597\n",
      "2022-10-06    9597\n",
      "2022-09-29    9596\n",
      "              ... \n",
      "2018-01-08    7339\n",
      "2018-01-03    7339\n",
      "2018-01-10    7338\n",
      "2018-01-05    7338\n",
      "2018-01-09    7337\n",
      "Name: count, Length: 1509, dtype: int64\n",
      "---------- SHRCD ----------\n",
      "16\n",
      "SHRCD\n",
      "11.0    5944259\n",
      "73.0    3673436\n",
      "12.0    1141877\n",
      "31.0     603387\n",
      "44.0     424804\n",
      "14.0     360856\n",
      "18.0     272236\n",
      "71.0     127196\n",
      "48.0      53307\n",
      "74.0      31661\n",
      "72.0      20673\n",
      "75.0       6027\n",
      "41.0       3018\n",
      "15.0       1519\n",
      "21.0        764\n",
      "10.0          2\n",
      "Name: count, dtype: int64\n",
      "---------- EXCHCD ----------\n",
      "10\n",
      "EXCHCD\n",
      " 3.0     5382632\n",
      " 1.0     3762010\n",
      " 4.0     2424033\n",
      " 5.0      652650\n",
      " 2.0      400154\n",
      " 0.0       39599\n",
      "-1.0        3580\n",
      " 6.0         251\n",
      "-2.0          75\n",
      " 31.0         38\n",
      "Name: count, dtype: int64\n",
      "---------- NCUSIP ----------\n",
      "15336\n",
      "NCUSIP\n",
      "14050110    1531\n",
      "42709650    1527\n",
      "87228010    1526\n",
      "13462K10    1523\n",
      "05580M10    1522\n",
      "            ... \n",
      "07323B10       1\n",
      "98410220       1\n",
      "44900110       1\n",
      "45781K10       1\n",
      "75811Y10       1\n",
      "Name: count, Length: 15336, dtype: int64\n",
      "---------- TICKER ----------\n",
      "13494\n",
      "TICKER\n",
      "HVT     3028\n",
      "GTN     3018\n",
      "WSO     3018\n",
      "LGF     3018\n",
      "GEF     3018\n",
      "        ... \n",
      "BAYA       1\n",
      "AMFI       1\n",
      "HYDI       1\n",
      "SBCP       1\n",
      "XBKS       1\n",
      "Name: count, Length: 13494, dtype: int64\n",
      "---------- COMNAM ----------\n",
      "10198\n",
      "COMNAM\n",
      "ISHARES TRUST                     452169\n",
      "PROSHARES TRUST                   178696\n",
      "DIREXION SHARES E T F TRUST       125526\n",
      "SPDR SERIES TRUST                 123354\n",
      "GLOBAL X FUNDS                    121661\n",
      "                                   ...  \n",
      "XENITH BANKSHARES INC NEW              1\n",
      "AGRIUM INC                             1\n",
      "WASHINGTONFIRST BANCSHARES INC         1\n",
      "HYDROMER INC                           1\n",
      "A M F I CORP                           1\n",
      "Name: count, Length: 10198, dtype: int64\n",
      "---------- NAICS ----------\n",
      "843\n",
      "NAICS\n",
      "525990.0    4111780\n",
      "523910.0     600532\n",
      "325412.0     579647\n",
      "522110.0     436598\n",
      "525910.0     278604\n",
      "             ...   \n",
      "456120.0         26\n",
      "444240.0         19\n",
      "449121.0         13\n",
      "449129.0          7\n",
      "541519.0          4\n",
      "Name: count, Length: 843, dtype: int64\n",
      "---------- PRIMEXCH ----------\n",
      "7\n",
      "PRIMEXCH\n",
      "Q    5386036\n",
      "N    3762194\n",
      "R    2424033\n",
      "B     652650\n",
      "A     400259\n",
      "X      39599\n",
      "I        251\n",
      "Name: count, dtype: int64\n",
      "---------- TRDSTAT ----------\n",
      "4\n",
      "TRDSTAT\n",
      "A    12621768\n",
      "X       39599\n",
      "S        3580\n",
      "H          75\n",
      "Name: count, dtype: int64\n",
      "---------- SECSTAT ----------\n",
      "3\n",
      "SECSTAT\n",
      "R    12625385\n",
      "X       39599\n",
      "Q          38\n",
      "Name: count, dtype: int64\n",
      "---------- CUSIP ----------\n",
      "12767\n",
      "CUSIP\n",
      "14050110    1531\n",
      "42709650    1527\n",
      "87228010    1526\n",
      "13462K10    1523\n",
      "05580M10    1522\n",
      "            ... \n",
      "G5480U13       1\n",
      "20441B70       1\n",
      "86777J10       1\n",
      "55276810       1\n",
      "94073010       1\n",
      "Name: count, Length: 12767, dtype: int64\n",
      "---------- BIDLO ----------\n",
      "775746\n",
      "BIDLO\n",
      "9.80000      12113\n",
      "9.90000      11792\n",
      "9.75000      11751\n",
      "10.00000     11735\n",
      "9.70000      11020\n",
      "             ...  \n",
      "710.66998        1\n",
      "718.81000        1\n",
      "717.97998        1\n",
      "644.04999        1\n",
      "639.59003        1\n",
      "Name: count, Length: 775746, dtype: int64\n",
      "---------- ASKHI ----------\n",
      "782766\n",
      "ASKHI\n",
      "10.00000     13791\n",
      "9.80000      12011\n",
      "9.90000      11940\n",
      "9.95000      11239\n",
      "9.85000      11099\n",
      "             ...  \n",
      "20.18150         1\n",
      "198.74460        1\n",
      "169.51840        1\n",
      "230.82961        1\n",
      "22.96810         1\n",
      "Name: count, Length: 782766, dtype: int64\n",
      "---------- PRC ----------\n",
      "670135\n",
      "PRC\n",
      "10.00000     10126\n",
      "9.90000       9918\n",
      "9.80000       9914\n",
      "9.75000       9367\n",
      "9.85000       9206\n",
      "             ...  \n",
      "697.98999        1\n",
      "673.41998        1\n",
      "681.78998        1\n",
      "699.20001        1\n",
      "733.63000        1\n",
      "Name: count, Length: 670135, dtype: int64\n",
      "---------- VOL ----------\n",
      "2783517\n",
      "VOL\n",
      "0.0          219445\n",
      "1.0           28345\n",
      "2.0           21532\n",
      "100.0         16828\n",
      "3.0           11636\n",
      "              ...  \n",
      "1045626.0         1\n",
      "692707.0          1\n",
      "733185.0          1\n",
      "1061393.0         1\n",
      "1160091.0         1\n",
      "Name: count, Length: 2783517, dtype: int64\n",
      "---------- RET ----------\n",
      "502939\n",
      "RET\n",
      "0.000000     194274\n",
      "0.0          175690\n",
      "B             39599\n",
      "C              5536\n",
      "-0.019608      1755\n",
      "              ...  \n",
      "0.167355          1\n",
      "0.065228          1\n",
      "0.094730          1\n",
      "-0.130778         1\n",
      "0.076394          1\n",
      "Name: count, Length: 502939, dtype: int64\n",
      "---------- BID ----------\n",
      "95491\n",
      "BID\n",
      "9.80000      12523\n",
      "9.75000      12479\n",
      "9.90000      12294\n",
      "10.00000     11832\n",
      "9.85000      11600\n",
      "             ...  \n",
      "908.46002        1\n",
      "905.22998        1\n",
      "891.21997        1\n",
      "922.85999        1\n",
      "907.04999        1\n",
      "Name: count, Length: 95491, dtype: int64\n",
      "---------- ASK ----------\n",
      "95437\n",
      "ASK\n",
      "10.00000     15095\n",
      "9.90000      13725\n",
      "9.80000      13578\n",
      "9.95000      12793\n",
      "9.85000      12617\n",
      "             ...  \n",
      "628.63000        1\n",
      "658.84003        1\n",
      "707.54999        1\n",
      "759.79999        1\n",
      "725.53003        1\n",
      "Name: count, Length: 95437, dtype: int64\n",
      "---------- SHROUT ----------\n",
      "133403\n",
      "SHROUT\n",
      "100.0       99922\n",
      "200.0       83954\n",
      "150.0       50127\n",
      "400.0       49498\n",
      "250.0       45107\n",
      "            ...  \n",
      "706723.0        1\n",
      "707123.0        1\n",
      "706623.0        1\n",
      "692323.0        1\n",
      "710923.0        1\n",
      "Name: count, Length: 133403, dtype: int64\n",
      "---------- CFACPR ----------\n",
      "521\n",
      "CFACPR\n",
      "1.000000    11414165\n",
      "0.100000      153823\n",
      "0.050000      111638\n",
      "2.000000       86113\n",
      "0.066667       63603\n",
      "              ...   \n",
      "1.020880           7\n",
      "0.000152           4\n",
      "1.020100           4\n",
      "0.928571           3\n",
      "1.665746           1\n",
      "Name: count, Length: 521, dtype: int64\n",
      "---------- CFACSHR ----------\n",
      "273\n",
      "CFACSHR\n",
      "1.000000    11546175\n",
      "0.100000      155844\n",
      "0.050000      113212\n",
      "2.000000       87463\n",
      "0.066667       64696\n",
      "              ...   \n",
      "0.011111          11\n",
      "1.373598           7\n",
      "0.000152           4\n",
      "1.020100           4\n",
      "0.928571           3\n",
      "Name: count, Length: 273, dtype: int64\n",
      "---------- OPENPRC ----------\n",
      "441164\n",
      "OPENPRC\n",
      "10.00000     11757\n",
      "9.80000      10378\n",
      "9.90000      10275\n",
      "9.75000       9780\n",
      "9.85000       9444\n",
      "             ...  \n",
      "190.77499        1\n",
      "29.00690         1\n",
      "33.31170         1\n",
      "34.79060         1\n",
      "36.84940         1\n",
      "Name: count, Length: 441164, dtype: int64\n",
      "---------- NUMTRD ----------\n",
      "120521\n",
      "NUMTRD\n",
      "0.0         57915\n",
      "1.0         38977\n",
      "2.0         35056\n",
      "3.0         30490\n",
      "4.0         26794\n",
      "            ...  \n",
      "856413.0        1\n",
      "760863.0        1\n",
      "843696.0        1\n",
      "819957.0        1\n",
      "835660.0        1\n",
      "Name: count, Length: 120521, dtype: int64\n",
      "---------- vwretd ----------\n",
      "1471\n",
      "vwretd\n",
      "-0.004045    26459\n",
      "-0.001146    18967\n",
      " 0.007299    18948\n",
      "-0.014385    18866\n",
      "-0.007486    18851\n",
      "             ...  \n",
      " 0.001816     7339\n",
      " 0.005856     7339\n",
      "-0.001506     7338\n",
      " 0.005804     7338\n",
      " 0.000921     7337\n",
      "Name: count, Length: 1471, dtype: int64\n",
      "---------- ewretd ----------\n",
      "1483\n",
      "ewretd\n",
      "-0.015893    19043\n",
      " 0.005970    19003\n",
      " 0.006047    18991\n",
      "-0.006333    18811\n",
      " 0.010778    18629\n",
      "             ...  \n",
      " 0.000584     7339\n",
      " 0.005103     7339\n",
      " 0.003880     7338\n",
      " 0.000100     7338\n",
      "-0.001584     7337\n",
      "Name: count, Length: 1483, dtype: int64\n",
      "---------- sprtrn ----------\n",
      "1472\n",
      "sprtrn\n",
      "-0.000868    25447\n",
      "-0.016463    18961\n",
      "-0.001574    18901\n",
      "-0.004050    18866\n",
      "-0.003841    18837\n",
      "             ...  \n",
      " 0.006750     7342\n",
      " 0.004029     7340\n",
      " 0.006399     7339\n",
      "-0.001112     7338\n",
      " 0.001303     7337\n",
      "Name: count, Length: 1472, dtype: int64\n"
     ]
    }
   ],
   "source": [
    "for column in crsp_df.columns:\n",
    "    print(\"-\" * 10, column, \"-\" * 10)\n",
    "    print(crsp_df[column].nunique())\n",
    "    print(crsp_df[column].value_counts())"
   ]
  },
  {
   "cell_type": "markdown",
   "metadata": {
    "id": "SGvNnNMIbvFY"
   },
   "source": [
    "# Review SHRCD: security type\n",
    "\n",
    "SHRCD is a two-digit code describing the type of shares traded. The first digit describes the type of security traded.\n"
   ]
  },
  {
   "cell_type": "markdown",
   "metadata": {
    "id": "lcU5uaHuh7Gx"
   },
   "source": [
    "## B1. Fill SHRCD na with 00 as undefined\n"
   ]
  },
  {
   "cell_type": "code",
   "execution_count": 15,
   "metadata": {
    "executionInfo": {
     "elapsed": 326,
     "status": "ok",
     "timestamp": 1718854308859,
     "user": {
      "displayName": "Rachel Gao",
      "userId": "10756354987170970544"
     },
     "user_tz": 420
    },
    "id": "HdWFHQUCb_Dj"
   },
   "outputs": [],
   "source": [
    "crsp_df[\"SHRCD\"] = crsp_df[\"SHRCD\"].fillna(\"00\")"
   ]
  },
  {
   "cell_type": "markdown",
   "metadata": {
    "id": "Yq7oiRWhiAZb"
   },
   "source": [
    "## B2. Split SHRCD to two columns [SHRCD_Type, SHRCD_Detail]\n"
   ]
  },
  {
   "cell_type": "code",
   "execution_count": 16,
   "metadata": {
    "executionInfo": {
     "elapsed": 10099,
     "status": "ok",
     "timestamp": 1718854318957,
     "user": {
      "displayName": "Rachel Gao",
      "userId": "10756354987170970544"
     },
     "user_tz": 420
    },
    "id": "_qnNY_p4b1B1"
   },
   "outputs": [],
   "source": [
    "crsp_df[[\"SHRCD_Type\", \"SHRCD_Detail\"]] = crsp_df[\"SHRCD\"].astype(str).str.split(\"\", expand=True).iloc[:, 1:3]"
   ]
  },
  {
   "cell_type": "code",
   "execution_count": 17,
   "metadata": {
    "colab": {
     "base_uri": "https://localhost:8080/"
    },
    "executionInfo": {
     "elapsed": 432,
     "status": "ok",
     "timestamp": 1718854319374,
     "user": {
      "displayName": "Rachel Gao",
      "userId": "10756354987170970544"
     },
     "user_tz": 420
    },
    "id": "eMabX00ecRtO",
    "outputId": "4f61ca72-e655-4812-b500-ce56b4ec94a1"
   },
   "outputs": [
    {
     "name": "stdout",
     "output_type": "stream",
     "text": [
      "---------- SHRCD_Type ----------\n",
      "6\n",
      "SHRCD_Type\n",
      "1    7720749\n",
      "7    3858993\n",
      "3     603387\n",
      "4     481129\n",
      "2        764\n",
      "0        480\n",
      "Name: count, dtype: int64\n",
      "---------- SHRCD_Detail ----------\n",
      "7\n",
      "SHRCD_Detail\n",
      "1    6678624\n",
      "3    3673436\n",
      "2    1162550\n",
      "4     817321\n",
      "8     325543\n",
      "5       7546\n",
      "0        482\n",
      "Name: count, dtype: int64\n"
     ]
    }
   ],
   "source": [
    "for column in [\"SHRCD_Type\", \"SHRCD_Detail\"]:\n",
    "    print(\"-\" * 10, column, \"-\" * 10)\n",
    "    print(crsp_df[column].nunique())\n",
    "    print(crsp_df[column].value_counts())"
   ]
  },
  {
   "cell_type": "markdown",
   "metadata": {
    "id": "tzVCTVQAdNsy"
   },
   "source": [
    "## B3. Keep only records where SHRCD_type == 1 (Ordinary Common Shares)\n"
   ]
  },
  {
   "cell_type": "code",
   "execution_count": 18,
   "metadata": {
    "colab": {
     "base_uri": "https://localhost:8080/"
    },
    "executionInfo": {
     "elapsed": 199,
     "status": "ok",
     "timestamp": 1718854319791,
     "user": {
      "displayName": "Rachel Gao",
      "userId": "10756354987170970544"
     },
     "user_tz": 420
    },
    "id": "COHWX9Kucswj",
    "outputId": "62d503e9-af75-40a6-fff1-a4543a674228"
   },
   "outputs": [
    {
     "name": "stdout",
     "output_type": "stream",
     "text": [
      "num_records_removed:  4944753\n",
      "num_records_kept:  7720749\n"
     ]
    }
   ],
   "source": [
    "og_len = len(crsp_df)\n",
    "crsp_df = crsp_df[crsp_df[\"SHRCD_Type\"] == \"1\"].reset_index(drop=True)\n",
    "new_len = len(crsp_df)\n",
    "print(\"num_records_removed: \", og_len - new_len)\n",
    "print(\"num_records_kept: \", new_len)"
   ]
  },
  {
   "cell_type": "markdown",
   "metadata": {
    "id": "fFZPxMwrjHZ7"
   },
   "source": [
    "# Review EXCHCD: Listed Exchange\n",
    "\n",
    "EXCHCD is a code indicating the exchange on which a security is listed.\n"
   ]
  },
  {
   "cell_type": "markdown",
   "metadata": {
    "id": "XLrcEFXgjxCj"
   },
   "source": [
    "## C1. Fill EXCHCD na with 0 as \"not listed in any exchange\"\n"
   ]
  },
  {
   "cell_type": "code",
   "execution_count": 19,
   "metadata": {
    "colab": {
     "base_uri": "https://localhost:8080/"
    },
    "executionInfo": {
     "elapsed": 3,
     "status": "ok",
     "timestamp": 1718854319791,
     "user": {
      "displayName": "Rachel Gao",
      "userId": "10756354987170970544"
     },
     "user_tz": 420
    },
    "id": "SfJcRT9XjxCy",
    "outputId": "c3bacc23-d802-497d-f9ef-7d1fc88f214e"
   },
   "outputs": [],
   "source": [
    "crsp_df[\"EXCHCD\"] = pd.to_numeric(crsp_df[\"EXCHCD\"], errors=\"coerce\").fillna(0).astype(int)"
   ]
  },
  {
   "cell_type": "markdown",
   "metadata": {
    "id": "ZJGI8SNfkA9I"
   },
   "source": [
    "## C2. Remove all records where EXCHCD < 0 (Halted, Suspended, or Not Trading)\n"
   ]
  },
  {
   "cell_type": "code",
   "execution_count": 20,
   "metadata": {
    "colab": {
     "base_uri": "https://localhost:8080/"
    },
    "executionInfo": {
     "elapsed": 1023,
     "status": "ok",
     "timestamp": 1718854320813,
     "user": {
      "displayName": "Rachel Gao",
      "userId": "10756354987170970544"
     },
     "user_tz": 420
    },
    "id": "DMUUquxukKI6",
    "outputId": "9282ea4d-3d96-4998-f2a5-489de7a66c9b"
   },
   "outputs": [
    {
     "name": "stdout",
     "output_type": "stream",
     "text": [
      "num_records_removed:  41551\n",
      "num_records_kept:  7679198\n"
     ]
    }
   ],
   "source": [
    "og_len = len(crsp_df)\n",
    "crsp_df = crsp_df[crsp_df[\"EXCHCD\"] > 0].reset_index(drop=True)\n",
    "new_len = len(crsp_df)\n",
    "print(\"num_records_removed: \", og_len - new_len)\n",
    "print(\"num_records_kept: \", new_len)\n",
    "\n",
    "crsp_df[\"EXCHCD\"] = crsp_df[\"EXCHCD\"].astype(str)"
   ]
  },
  {
   "cell_type": "markdown",
   "metadata": {
    "id": "HlMv0onVlb8S"
   },
   "source": [
    "# Review PRIMEXCH: Primary Exchange\n",
    "\n",
    "Primary Exchange is a one-character code which identifies the primary exchange on which the security trades.\n",
    "\n",
    "https://www.crsp.org/wp-content/uploads/appendix/FlagType_EC.html\n"
   ]
  },
  {
   "cell_type": "markdown",
   "metadata": {
    "id": "R9RnNahRmD8C"
   },
   "source": [
    "## D1. Fill PRIMEXCH na with X as \"Unknown\"\n"
   ]
  },
  {
   "cell_type": "code",
   "execution_count": 21,
   "metadata": {
    "executionInfo": {
     "elapsed": 235,
     "status": "ok",
     "timestamp": 1718854321046,
     "user": {
      "displayName": "Rachel Gao",
      "userId": "10756354987170970544"
     },
     "user_tz": 420
    },
    "id": "KOWndA_4mD8C"
   },
   "outputs": [],
   "source": [
    "crsp_df[\"PRIMEXCH\"] = crsp_df[\"PRIMEXCH\"].fillna(\"X\")"
   ]
  },
  {
   "cell_type": "markdown",
   "metadata": {
    "id": "H_EiCPp3mnDY"
   },
   "source": [
    "# Review TRDSTAT: Trading Status\n",
    "\n",
    "Trading Status is a one-character field containing the trading status of securities.\n"
   ]
  },
  {
   "cell_type": "markdown",
   "metadata": {
    "id": "cMD1OT2smnDY"
   },
   "source": [
    "## E1. Fill TRDSTAT na with X as \"Unknown\"\n"
   ]
  },
  {
   "cell_type": "code",
   "execution_count": 22,
   "metadata": {
    "executionInfo": {
     "elapsed": 2,
     "status": "ok",
     "timestamp": 1718854321046,
     "user": {
      "displayName": "Rachel Gao",
      "userId": "10756354987170970544"
     },
     "user_tz": 420
    },
    "id": "GZcv3T9PmnDY"
   },
   "outputs": [],
   "source": [
    "crsp_df[\"TRDSTAT\"] = crsp_df[\"TRDSTAT\"].fillna(\"X\")"
   ]
  },
  {
   "cell_type": "markdown",
   "metadata": {
    "id": "_38SVYiqmnDY"
   },
   "source": [
    "## E2. Keep only records where TRDSTAT == A (Active trading status)\n"
   ]
  },
  {
   "cell_type": "code",
   "execution_count": 23,
   "metadata": {
    "colab": {
     "base_uri": "https://localhost:8080/"
    },
    "executionInfo": {
     "elapsed": 693,
     "status": "ok",
     "timestamp": 1718854321738,
     "user": {
      "displayName": "Rachel Gao",
      "userId": "10756354987170970544"
     },
     "user_tz": 420
    },
    "id": "bzYgw2YymnDY",
    "outputId": "147b8a50-4d17-4896-c3c7-58bdbda2e766"
   },
   "outputs": [
    {
     "name": "stdout",
     "output_type": "stream",
     "text": [
      "num_records_removed:  0\n",
      "num_records_kept:  7679198\n"
     ]
    }
   ],
   "source": [
    "og_len = len(crsp_df)\n",
    "crsp_df = crsp_df[crsp_df[\"TRDSTAT\"] == \"A\"].reset_index(drop=True)\n",
    "new_len = len(crsp_df)\n",
    "print(\"num_records_removed: \", og_len - new_len)\n",
    "print(\"num_records_kept: \", new_len)"
   ]
  },
  {
   "cell_type": "markdown",
   "metadata": {
    "id": "jQV033grnoPx"
   },
   "source": [
    "# Review SECSTAT: Security Status\n",
    "\n",
    "Security Status is a one-character code that describes the status of a security.\n"
   ]
  },
  {
   "cell_type": "markdown",
   "metadata": {
    "id": "tViC-J39noPx"
   },
   "source": [
    "## E1. Fill SECSTAT na with X as \"Unknown\"\n"
   ]
  },
  {
   "cell_type": "code",
   "execution_count": 24,
   "metadata": {
    "executionInfo": {
     "elapsed": 236,
     "status": "ok",
     "timestamp": 1718854321973,
     "user": {
      "displayName": "Rachel Gao",
      "userId": "10756354987170970544"
     },
     "user_tz": 420
    },
    "id": "alAHA1GenoPx"
   },
   "outputs": [],
   "source": [
    "crsp_df[\"SECSTAT\"] = crsp_df[\"SECSTAT\"].fillna(\"X\")"
   ]
  },
  {
   "cell_type": "markdown",
   "metadata": {
    "id": "WrIEUgzVnoPx"
   },
   "source": [
    "## E2. Keep only records where SECSTAT == R (Regular Way)\n"
   ]
  },
  {
   "cell_type": "code",
   "execution_count": 25,
   "metadata": {
    "colab": {
     "base_uri": "https://localhost:8080/"
    },
    "executionInfo": {
     "elapsed": 825,
     "status": "ok",
     "timestamp": 1718854322796,
     "user": {
      "displayName": "Rachel Gao",
      "userId": "10756354987170970544"
     },
     "user_tz": 420
    },
    "id": "SZrG76YpnoPy",
    "outputId": "85ffe8e3-0983-4ef5-bc23-325d130042a3"
   },
   "outputs": [
    {
     "name": "stdout",
     "output_type": "stream",
     "text": [
      "num_records_removed:  0\n",
      "num_records_kept:  7679198\n"
     ]
    }
   ],
   "source": [
    "og_len = len(crsp_df)\n",
    "crsp_df = crsp_df[crsp_df[\"SECSTAT\"] == \"R\"].reset_index(drop=True)\n",
    "new_len = len(crsp_df)\n",
    "print(\"num_records_removed: \", og_len - new_len)\n",
    "print(\"num_records_kept: \", new_len)"
   ]
  },
  {
   "cell_type": "markdown",
   "metadata": {
    "id": "-ymMf2NPJs21"
   },
   "source": [
    "# Take another look at the null analysis\n"
   ]
  },
  {
   "cell_type": "code",
   "execution_count": 26,
   "metadata": {
    "colab": {
     "base_uri": "https://localhost:8080/",
     "height": 493
    },
    "executionInfo": {
     "elapsed": 1313,
     "status": "ok",
     "timestamp": 1718854324107,
     "user": {
      "displayName": "Rachel Gao",
      "userId": "10756354987170970544"
     },
     "user_tz": 420
    },
    "id": "qKAJQ25mJs3A",
    "outputId": "466e3566-09a6-427a-a1df-61b98a37abb7"
   },
   "outputs": [
    {
     "data": {
      "image/png": "[encoded data removed]",
      "text/plain": [
       "<Figure size 1200x400 with 1 Axes>"
      ]
     },
     "metadata": {},
     "output_type": "display_data"
    }
   ],
   "source": [
    "# Count the number of nulls in each column\n",
    "null_counts = crsp_df.isnull().sum()\n",
    "\n",
    "# Calculate the percentage of nulls in each column\n",
    "total_rows = len(crsp_df)\n",
    "null_percentages = (null_counts / total_rows) * 100\n",
    "\n",
    "# Plot the percentages as a bar plot\n",
    "ax = null_percentages.plot(kind=\"bar\", figsize=(12, 4), color=\"skyblue\")\n",
    "plt.title(\"Percentage of Null Values in Each Column\")\n",
    "plt.xlabel(\"Columns\")\n",
    "plt.ylim(0, max(null_percentages.values) + 10)\n",
    "plt.ylabel(\"Percentage of Nulls (%)\")\n",
    "\n",
    "# Annotate the bars with the percentage values\n",
    "for i, percentage in enumerate(null_percentages):\n",
    "    if percentage != 0:\n",
    "        ax.annotate(\n",
    "            f\"{percentage:.0f}%\",\n",
    "            xy=(i, percentage),\n",
    "            xytext=(0, 3),\n",
    "            textcoords=\"offset points\",\n",
    "            ha=\"center\",\n",
    "            va=\"bottom\",\n",
    "            color=\"red\",\n",
    "        )\n",
    "\n",
    "plt.show()"
   ]
  },
  {
   "cell_type": "markdown",
   "metadata": {
    "id": "YdaRMD0LLcA7"
   },
   "source": [
    "# Review NAICS: North American Industry Classification System Code\n",
    "\n",
    "North American Industry Classification System Code (NAICS) is an 6-character code used to group companies with similar products or services.\n",
    "\n",
    "NAICS is a hierachical code, containing up to six digits: The first two fields, NAICS sectors, designate general categories of economic activity, the third field, sub-sector, further defines the sector, the fourth field is the industry group, the fifth field is the NAICS industry, and the sixth field represents the national industry (a zero in the 6th digit generally indicates that the NAICS industry and teh country industry are the same).\n"
   ]
  },
  {
   "cell_type": "markdown",
   "metadata": {
    "id": "i0UhjNHQMjDu"
   },
   "source": [
    "## F1. Fill NAICS na with 999999 as \"Unknown\"\n"
   ]
  },
  {
   "cell_type": "code",
   "execution_count": 27,
   "metadata": {
    "executionInfo": {
     "elapsed": 2,
     "status": "ok",
     "timestamp": 1718854324107,
     "user": {
      "displayName": "Rachel Gao",
      "userId": "10756354987170970544"
     },
     "user_tz": 420
    },
    "id": "dX8B4fcNNGXd"
   },
   "outputs": [],
   "source": [
    "crsp_df[\"NAICS\"] = crsp_df[\"NAICS\"].fillna(\"999999\")"
   ]
  },
  {
   "cell_type": "markdown",
   "metadata": {
    "id": "WAtBKPuQNSib"
   },
   "source": [
    "## F2. Split NAICS to two columns ['NAICS_Sector', 'NAICS_Secondary']\n"
   ]
  },
  {
   "cell_type": "code",
   "execution_count": 28,
   "metadata": {
    "executionInfo": {
     "elapsed": 2172,
     "status": "ok",
     "timestamp": 1718854326277,
     "user": {
      "displayName": "Rachel Gao",
      "userId": "10756354987170970544"
     },
     "user_tz": 420
    },
    "id": "R_Xr5i9zOqqo"
   },
   "outputs": [],
   "source": [
    "crsp_df[\"NAICS_Sector\"] = crsp_df[\"NAICS\"].astype(str).str[:2]\n",
    "crsp_df[\"NAICS_Secondary\"] = crsp_df[\"NAICS\"].astype(str).str[2:]"
   ]
  },
  {
   "cell_type": "code",
   "execution_count": 29,
   "metadata": {
    "colab": {
     "base_uri": "https://localhost:8080/"
    },
    "executionInfo": {
     "elapsed": 868,
     "status": "ok",
     "timestamp": 1718854327143,
     "user": {
      "displayName": "Rachel Gao",
      "userId": "10756354987170970544"
     },
     "user_tz": 420
    },
    "id": "2UVdb4TcNSic",
    "outputId": "53c81e29-e05d-4fad-dd47-2eaec26b8f8f"
   },
   "outputs": [
    {
     "name": "stdout",
     "output_type": "stream",
     "text": [
      "---------- NAICS_Sector ----------\n",
      "28\n",
      "NAICS_Sector\n",
      "52    1825643\n",
      "33    1201230\n",
      "32     941301\n",
      "54     545264\n",
      "51     491657\n",
      "21     355642\n",
      "53     321538\n",
      "56     300820\n",
      "42     256514\n",
      "31     178603\n",
      "44     174325\n",
      "48     161630\n",
      "62     150694\n",
      "22     131369\n",
      "55     118633\n",
      "72     109493\n",
      "23      96908\n",
      "99      91217\n",
      "45      91096\n",
      "71      39479\n",
      "81      32338\n",
      "61      29367\n",
      "11      22685\n",
      "49       8926\n",
      "92       2737\n",
      "73         34\n",
      "67         28\n",
      "10         27\n",
      "Name: count, dtype: int64\n",
      "---------- NAICS_Secondary ----------\n",
      "522\n",
      "NAICS_Secondary\n",
      "3910.0    571678\n",
      "5412.0    533883\n",
      "2110.0    440740\n",
      "1110.0    297150\n",
      "1210.0    272506\n",
      "           ...  \n",
      "1214.0        27\n",
      "8100.0        27\n",
      "4240.0        19\n",
      "9121.0        13\n",
      "9129.0         7\n",
      "Name: count, Length: 522, dtype: int64\n"
     ]
    }
   ],
   "source": [
    "for column in [\"NAICS_Sector\", \"NAICS_Secondary\"]:\n",
    "    print(\"-\" * 10, column, \"-\" * 10)\n",
    "    print(crsp_df[column].nunique())\n",
    "    print(crsp_df[column].value_counts())"
   ]
  },
  {
   "cell_type": "markdown",
   "metadata": {
    "id": "oszoTeXHQGLp"
   },
   "source": [
    "## F3. Clean-up the NAICS sector column to readable format\n",
    "\n",
    "https://www.census.gov/naics/reference_files_tools/2022_NAICS_Manual.pdf\n"
   ]
  },
  {
   "cell_type": "code",
   "execution_count": 30,
   "metadata": {
    "executionInfo": {
     "elapsed": 3296,
     "status": "ok",
     "timestamp": 1718854330437,
     "user": {
      "displayName": "Rachel Gao",
      "userId": "10756354987170970544"
     },
     "user_tz": 420
    },
    "id": "Ctye7VYCQLjj"
   },
   "outputs": [],
   "source": [
    "sector_dict = {\n",
    "    \"10\": \"Metal Mining\",\n",
    "    \"11\": \"Agriculture, Forestry, Fishing and Hunting\",\n",
    "    \"21\": \"Mining, Quarrying, and Oil and Gas Extraction\",\n",
    "    \"22\": \"Utilities\",\n",
    "    \"23\": \"Construction\",\n",
    "    \"31\": \"Manufacturing\",\n",
    "    \"32\": \"Manufacturing\",\n",
    "    \"33\": \"Manufacturing\",\n",
    "    \"42\": \"Wholesale Trade\",\n",
    "    \"44\": \"Retail Trade\",\n",
    "    \"45\": \"Retail Trade\",\n",
    "    \"48\": \"Transportation and Warehousing\",\n",
    "    \"49\": \"Transportation and Warehousing\",\n",
    "    \"51\": \"Information\",\n",
    "    \"52\": \"Finance and Insurance\",\n",
    "    \"53\": \"Real Estate and Rental and Leasing\",\n",
    "    \"54\": \"Professional, Scientific, and Technical Services\",\n",
    "    \"55\": \"Management of Companies and Enterprises\",\n",
    "    \"56\": \"Administrative and Support and Waste Management and Remediation Services\",\n",
    "    \"61\": \"Educational Services\",\n",
    "    \"62\": \"Health Care and Social Assistance\",\n",
    "    \"67\": \"Holding And Other Investment Offices\",\n",
    "    \"71\": \"Arts, Entertainment, and Recreation\",\n",
    "    \"72\": \"Accommodation and Food Services\",\n",
    "    \"73\": \"Business Services\",\n",
    "    \"81\": \"Other Services (except Public Administration)\",\n",
    "    \"92\": \"Public Administration\",\n",
    "    \"99\": \"Unknown\",\n",
    "}\n",
    "\n",
    "crsp_df[\"NAICS_Sector_Name\"] = crsp_df[\"NAICS_Sector\"].replace(sector_dict)"
   ]
  },
  {
   "cell_type": "code",
   "execution_count": 31,
   "metadata": {
    "colab": {
     "base_uri": "https://localhost:8080/"
    },
    "executionInfo": {
     "elapsed": 4,
     "status": "ok",
     "timestamp": 1718854330437,
     "user": {
      "displayName": "Rachel Gao",
      "userId": "10756354987170970544"
     },
     "user_tz": 420
    },
    "id": "ah-Od3UHRAPs",
    "outputId": "6665976e-4d0d-4f5f-a900-874b6c7aad5e"
   },
   "outputs": [
    {
     "name": "stdout",
     "output_type": "stream",
     "text": [
      "NAICS_Sector_Name\n",
      "Manufacturing                                                               2321134\n",
      "Finance and Insurance                                                       1825643\n",
      "Professional, Scientific, and Technical Services                             545264\n",
      "Information                                                                  491657\n",
      "Mining, Quarrying, and Oil and Gas Extraction                                355642\n",
      "Real Estate and Rental and Leasing                                           321538\n",
      "Administrative and Support and Waste Management and Remediation Services     300820\n",
      "Retail Trade                                                                 265421\n",
      "Wholesale Trade                                                              256514\n",
      "Transportation and Warehousing                                               170556\n",
      "Health Care and Social Assistance                                            150694\n",
      "Utilities                                                                    131369\n",
      "Management of Companies and Enterprises                                      118633\n",
      "Accommodation and Food Services                                              109493\n",
      "Construction                                                                  96908\n",
      "Unknown                                                                       91217\n",
      "Arts, Entertainment, and Recreation                                           39479\n",
      "Other Services (except Public Administration)                                 32338\n",
      "Educational Services                                                          29367\n",
      "Agriculture, Forestry, Fishing and Hunting                                    22685\n",
      "Public Administration                                                          2737\n",
      "Business Services                                                                34\n",
      "Holding And Other Investment Offices                                             28\n",
      "Metal Mining                                                                     27\n",
      "Name: count, dtype: int64\n"
     ]
    }
   ],
   "source": [
    "print(crsp_df[\"NAICS_Sector_Name\"].value_counts())"
   ]
  },
  {
   "cell_type": "code",
   "execution_count": 32,
   "metadata": {
    "colab": {
     "base_uri": "https://localhost:8080/",
     "height": 547
    },
    "executionInfo": {
     "elapsed": 2560,
     "status": "ok",
     "timestamp": 1718854332995,
     "user": {
      "displayName": "Rachel Gao",
      "userId": "10756354987170970544"
     },
     "user_tz": 420
    },
    "id": "XVZi0gC0ThzM",
    "outputId": "644d6f12-aa39-4ed6-b526-2b32e73e41ae"
   },
   "outputs": [
    {
     "data": {
      "image/png": "[encoded data removed]",
      "text/plain": [
       "<Figure size 1000x600 with 1 Axes>"
      ]
     },
     "metadata": {},
     "output_type": "display_data"
    }
   ],
   "source": [
    "# Calculate the category counts and sort them in descending order\n",
    "category_counts = crsp_df[\"NAICS_Sector_Name\"].value_counts().sort_values(ascending=False)\n",
    "\n",
    "# Plot the counts distribution\n",
    "plt.figure(figsize=(10, 6))\n",
    "sns.countplot(data=crsp_df, y=\"NAICS_Sector_Name\", order=category_counts.index)\n",
    "plt.title(\"Distribution of NAICS_Sector_Name\")\n",
    "plt.xlabel(\"Number of Records\")\n",
    "plt.ylabel(\"NAICS_Sector_Name\")\n",
    "\n",
    "# Annotate the bars with the count values\n",
    "for i, count in enumerate(category_counts):\n",
    "    plt.text(count, i, f\"{count}\", ha=\"left\", va=\"center\", color=\"black\")\n",
    "\n",
    "plt.show()"
   ]
  },
  {
   "cell_type": "markdown",
   "metadata": {
    "id": "m2ZgkWdKWwwu"
   },
   "source": [
    "# Review NUMTRD: Number of Trades\n",
    "\n",
    "Daily: Number of Trades, Nasdaq contains the number of trades made on the Nasdaq Stock Market each date for a security. Trades on all exchanges are connected to Nasdaqs composite pricing network and all paper trades are included in the count. If the number of trades is unavailable, the field is set to 99.\n"
   ]
  },
  {
   "cell_type": "markdown",
   "metadata": {
    "id": "Ze5kilDSWwwu"
   },
   "source": [
    "## G1. Fill NUMTRD na with 99 as \"Unknown\"\n"
   ]
  },
  {
   "cell_type": "code",
   "execution_count": 33,
   "metadata": {
    "executionInfo": {
     "elapsed": 14,
     "status": "ok",
     "timestamp": 1718854332995,
     "user": {
      "displayName": "Rachel Gao",
      "userId": "10756354987170970544"
     },
     "user_tz": 420
    },
    "id": "8WdPhliqWwwu"
   },
   "outputs": [],
   "source": [
    "crsp_df[\"NUMTRD\"] = crsp_df[\"NUMTRD\"].fillna(\"99\")"
   ]
  },
  {
   "cell_type": "markdown",
   "metadata": {
    "id": "hmiat75eXFY4"
   },
   "source": [
    "# Review all remaining value related columns.\n"
   ]
  },
  {
   "cell_type": "markdown",
   "metadata": {},
   "source": [
    "## H1. Drop all PERMNO with less than 128 days of return"
   ]
  },
  {
   "cell_type": "code",
   "execution_count": 34,
   "metadata": {},
   "outputs": [
    {
     "name": "stdout",
     "output_type": "stream",
     "text": [
      "num_PERMNO_og:  7414\n",
      "num_PERMNO_removed:  268\n",
      "num_PERMNO_kept:  7146\n"
     ]
    }
   ],
   "source": [
    "og_permno = crsp_df[\"PERMNO\"].nunique()\n",
    "permno_counts = crsp_df[\"PERMNO\"].value_counts()\n",
    "permno_to_keep = permno_counts[permno_counts >= 128].index\n",
    "crsp_df = crsp_df[crsp_df[\"PERMNO\"].isin(permno_to_keep)].reset_index(drop=True)\n",
    "\n",
    "assert crsp_df[\"PERMNO\"].value_counts().min() >= 128\n",
    "\n",
    "new_permno = crsp_df[\"PERMNO\"].nunique()\n",
    "print(\"num_PERMNO_og: \", og_permno)\n",
    "print(\"num_PERMNO_removed: \", og_permno - new_permno)\n",
    "print(\"num_PERMNO_kept: \", new_permno)"
   ]
  },
  {
   "cell_type": "markdown",
   "metadata": {},
   "source": [
    "## H2. Forward fill trading values"
   ]
  },
  {
   "cell_type": "code",
   "execution_count": 35,
   "metadata": {},
   "outputs": [],
   "source": [
    "fill_cols = [\n",
    "    \"VOL\",\n",
    "    \"SHROUT\",\n",
    "    \"ASKHI\",\n",
    "    \"ASK\",\n",
    "    \"BIDLO\",\n",
    "    \"BID\",\n",
    "    \"OPENPRC\",\n",
    "    \"PRC\",\n",
    "    \"CFACPR\",\n",
    "    \"CFACSHR\",\n",
    "    \"vwretd\",\n",
    "    \"ewretd\",\n",
    "    \"sprtrn\",\n",
    "]\n",
    "crsp_df[fill_cols] = crsp_df[fill_cols].apply(lambda x: pd.to_numeric(x, errors=\"coerce\"))"
   ]
  },
  {
   "cell_type": "code",
   "execution_count": 36,
   "metadata": {},
   "outputs": [
    {
     "name": "stdout",
     "output_type": "stream",
     "text": [
      "before forward fill\n",
      "number of nulls in column VOL:  2253\n",
      "number of nulls in column SHROUT:  1681\n",
      "number of nulls in column ASKHI:  2250\n",
      "number of nulls in column ASK:  2294\n",
      "number of nulls in column BIDLO:  2250\n",
      "number of nulls in column BID:  2273\n",
      "number of nulls in column OPENPRC:  161832\n",
      "number of nulls in column PRC:  161828\n",
      "number of nulls in column CFACPR:  1681\n",
      "number of nulls in column CFACSHR:  1681\n",
      "number of nulls in column vwretd:  0\n",
      "number of nulls in column ewretd:  0\n",
      "number of nulls in column sprtrn:  0\n"
     ]
    }
   ],
   "source": [
    "print(\"before forward fill\")\n",
    "for col in fill_cols:\n",
    "    print(f\"number of nulls in column {col}: \", len(crsp_df[crsp_df[col].isnull()]))"
   ]
  },
  {
   "cell_type": "code",
   "execution_count": 37,
   "metadata": {},
   "outputs": [
    {
     "data": {
      "text/plain": [
       "PERMNO                               10028\n",
       "date                   2018-08-30 00:00:00\n",
       "SHRCD                                 11.0\n",
       "EXCHCD                                   2\n",
       "NCUSIP                            23323G10\n",
       "TICKER                                DGSE\n",
       "COMNAM               D G S E COMPANIES INC\n",
       "NAICS                             448310.0\n",
       "PRIMEXCH                                 A\n",
       "TRDSTAT                                  A\n",
       "SECSTAT                                  R\n",
       "CUSIP                             29402E10\n",
       "BIDLO                               0.6897\n",
       "ASKHI                                  0.7\n",
       "PRC                                    NaN\n",
       "VOL                                    0.0\n",
       "RET                               0.022891\n",
       "BID                                 0.6897\n",
       "ASK                                    0.7\n",
       "SHROUT                             26924.0\n",
       "CFACPR                                 1.0\n",
       "CFACSHR                                1.0\n",
       "OPENPRC                                NaN\n",
       "NUMTRD                                  99\n",
       "vwretd                           -0.004428\n",
       "ewretd                           -0.003806\n",
       "sprtrn                            -0.00443\n",
       "SHRCD_Type                               1\n",
       "SHRCD_Detail                             1\n",
       "NAICS_Sector                            44\n",
       "NAICS_Secondary                     8310.0\n",
       "NAICS_Sector_Name             Retail Trade\n",
       "Name: 1676, dtype: object"
      ]
     },
     "execution_count": 37,
     "metadata": {},
     "output_type": "execute_result"
    }
   ],
   "source": [
    "# pick an example for visual inspection\n",
    "review_idx = crsp_df[crsp_df[\"PRC\"].isnull()].index[0]\n",
    "crsp_df[crsp_df[\"PRC\"].isnull()].iloc[0]"
   ]
  },
  {
   "cell_type": "code",
   "execution_count": 38,
   "metadata": {},
   "outputs": [],
   "source": [
    "# forward fill\n",
    "for col in fill_cols:\n",
    "    crsp_df[col] = crsp_df.groupby(\"PERMNO\")[col].ffill()"
   ]
  },
  {
   "cell_type": "code",
   "execution_count": 39,
   "metadata": {},
   "outputs": [
    {
     "data": {
      "text/plain": [
       "1675    0.6793\n",
       "1676    0.6793\n",
       "Name: PRC, dtype: float64"
      ]
     },
     "execution_count": 39,
     "metadata": {},
     "output_type": "execute_result"
    }
   ],
   "source": [
    "# visually inspect the example to ensure the price was forward filled correctly\n",
    "crsp_df.iloc[review_idx - 1 : review_idx + 1][\"PRC\"]"
   ]
  },
  {
   "cell_type": "code",
   "execution_count": 40,
   "metadata": {},
   "outputs": [
    {
     "name": "stdout",
     "output_type": "stream",
     "text": [
      "after forward fill\n",
      "number of nulls in column VOL:  134\n",
      "number of nulls in column SHROUT:  0\n",
      "number of nulls in column ASKHI:  135\n",
      "number of nulls in column ASK:  141\n",
      "number of nulls in column BIDLO:  135\n",
      "number of nulls in column BID:  140\n",
      "number of nulls in column OPENPRC:  2099\n",
      "number of nulls in column PRC:  2099\n",
      "number of nulls in column CFACPR:  0\n",
      "number of nulls in column CFACSHR:  0\n",
      "number of nulls in column vwretd:  0\n",
      "number of nulls in column ewretd:  0\n",
      "number of nulls in column sprtrn:  0\n"
     ]
    }
   ],
   "source": [
    "print(\"after forward fill\")\n",
    "for col in fill_cols:\n",
    "    print(f\"number of nulls in column {col}: \", len(crsp_df[crsp_df[col].isnull()]))"
   ]
  },
  {
   "cell_type": "markdown",
   "metadata": {},
   "source": [
    "## H3. If PRC is still NaN, that means it was the first day the stock was listed on the exchange, drop these records since we cannot calculate the return for these days"
   ]
  },
  {
   "cell_type": "code",
   "execution_count": 41,
   "metadata": {},
   "outputs": [],
   "source": [
    "crsp_df.dropna(subset=[\"PRC\"], inplace=True)\n",
    "crsp_df.reset_index(drop=True, inplace=True)"
   ]
  },
  {
   "cell_type": "code",
   "execution_count": 42,
   "metadata": {},
   "outputs": [
    {
     "name": "stdout",
     "output_type": "stream",
     "text": [
      "after forward fill\n",
      "number of nulls in column VOL:  0\n",
      "number of nulls in column SHROUT:  0\n",
      "number of nulls in column ASKHI:  0\n",
      "number of nulls in column ASK:  6\n",
      "number of nulls in column BIDLO:  0\n",
      "number of nulls in column BID:  6\n",
      "number of nulls in column OPENPRC:  0\n",
      "number of nulls in column PRC:  0\n",
      "number of nulls in column CFACPR:  0\n",
      "number of nulls in column CFACSHR:  0\n",
      "number of nulls in column vwretd:  0\n",
      "number of nulls in column ewretd:  0\n",
      "number of nulls in column sprtrn:  0\n"
     ]
    }
   ],
   "source": [
    "print(\"after forward fill\")\n",
    "for col in fill_cols:\n",
    "    print(f\"number of nulls in column {col}: \", len(crsp_df[crsp_df[col].isnull()]))"
   ]
  },
  {
   "cell_type": "markdown",
   "metadata": {},
   "source": [
    "## H4. If ASK, BID, OPENPRC are still NaN, fill them with 0"
   ]
  },
  {
   "cell_type": "code",
   "execution_count": 43,
   "metadata": {},
   "outputs": [],
   "source": [
    "crsp_df[\"ASK\"] = crsp_df[\"ASK\"].fillna(0)\n",
    "crsp_df[\"BID\"] = crsp_df[\"BID\"].fillna(0)\n",
    "crsp_df[\"OPENPRC\"] = crsp_df[\"OPENPRC\"].fillna(0)"
   ]
  },
  {
   "cell_type": "code",
   "execution_count": 44,
   "metadata": {},
   "outputs": [
    {
     "name": "stdout",
     "output_type": "stream",
     "text": [
      "confirm forward fill was complete\n"
     ]
    }
   ],
   "source": [
    "print(\"confirm forward fill was complete\")\n",
    "for col in fill_cols:\n",
    "    assert len(crsp_df[crsp_df[col].isnull()]) == 0"
   ]
  },
  {
   "cell_type": "markdown",
   "metadata": {},
   "source": [
    "## H5. If RET is NaN, calculate the RET based on forward filled PRICE"
   ]
  },
  {
   "cell_type": "code",
   "execution_count": 45,
   "metadata": {},
   "outputs": [
    {
     "name": "stdout",
     "output_type": "stream",
     "text": [
      "number of nulls in column RET:  4334\n"
     ]
    }
   ],
   "source": [
    "crsp_df[\"RET\"] = pd.to_numeric(crsp_df[\"RET\"], errors=\"coerce\")\n",
    "print(f\"number of nulls in column RET: \", len(crsp_df[crsp_df[\"RET\"].isnull()]))"
   ]
  },
  {
   "cell_type": "code",
   "execution_count": 46,
   "metadata": {},
   "outputs": [
    {
     "data": {
      "text/plain": [
       "PERMNO                                           10051\n",
       "date                               2022-10-04 00:00:00\n",
       "SHRCD                                             11.0\n",
       "EXCHCD                                               1\n",
       "NCUSIP                                        41043F20\n",
       "TICKER                                            HNGR\n",
       "COMNAM                                      HANGER INC\n",
       "NAICS                                         621498.0\n",
       "PRIMEXCH                                             N\n",
       "TRDSTAT                                              A\n",
       "SECSTAT                                              R\n",
       "CUSIP                                         41043F20\n",
       "BIDLO                                              5.0\n",
       "ASKHI                                            19.73\n",
       "PRC                                              18.72\n",
       "VOL                                                0.0\n",
       "RET                                                NaN\n",
       "BID                                                5.0\n",
       "ASK                                              19.73\n",
       "SHROUT                                         39123.0\n",
       "CFACPR                                             1.0\n",
       "CFACSHR                                            1.0\n",
       "OPENPRC                                          18.73\n",
       "NUMTRD                                              99\n",
       "vwretd                                        0.032369\n",
       "ewretd                                        0.030581\n",
       "sprtrn                                        0.030584\n",
       "SHRCD_Type                                           1\n",
       "SHRCD_Detail                                         1\n",
       "NAICS_Sector                                        62\n",
       "NAICS_Secondary                                 1498.0\n",
       "NAICS_Sector_Name    Health Care and Social Assistance\n",
       "Name: 7058, dtype: object"
      ]
     },
     "execution_count": 46,
     "metadata": {},
     "output_type": "execute_result"
    }
   ],
   "source": [
    "# pick an example for visual inspection\n",
    "review_idx = crsp_df[crsp_df[\"RET\"].isnull()].index[1]\n",
    "crsp_df[crsp_df[\"RET\"].isnull()].iloc[1]"
   ]
  },
  {
   "cell_type": "code",
   "execution_count": 47,
   "metadata": {},
   "outputs": [],
   "source": [
    "# Calculate previous day's price for each PERMNO\n",
    "crsp_df[\"prev_price\"] = crsp_df.groupby(\"PERMNO\")[\"PRC\"].shift(1)\n",
    "\n",
    "# Fill NaN values in the return column\n",
    "crsp_df[\"RET\"] = crsp_df.apply(\n",
    "    lambda row: (row[\"PRC\"] / row[\"prev_price\"] - 1) if pd.isnull(row[\"RET\"]) else row[\"RET\"], axis=1\n",
    ")"
   ]
  },
  {
   "cell_type": "code",
   "execution_count": 48,
   "metadata": {},
   "outputs": [
    {
     "data": {
      "text/plain": [
       "7057    10051\n",
       "7058    10051\n",
       "Name: PERMNO, dtype: int64"
      ]
     },
     "metadata": {},
     "output_type": "display_data"
    },
    {
     "data": {
      "text/plain": [
       "7057    18.72\n",
       "7058    18.72\n",
       "Name: PRC, dtype: float64"
      ]
     },
     "metadata": {},
     "output_type": "display_data"
    },
    {
     "data": {
      "text/plain": [
       "7057    18.72\n",
       "7058    18.72\n",
       "Name: prev_price, dtype: float64"
      ]
     },
     "metadata": {},
     "output_type": "display_data"
    },
    {
     "data": {
      "text/plain": [
       "7057   -0.339476\n",
       "7058    0.000000\n",
       "Name: RET, dtype: float64"
      ]
     },
     "metadata": {},
     "output_type": "display_data"
    }
   ],
   "source": [
    "# visually inspect the example to ensure the return was calculated correctly\n",
    "display(crsp_df.iloc[review_idx - 1 : review_idx + 1][\"PERMNO\"])\n",
    "display(crsp_df.iloc[review_idx - 1 : review_idx + 1][\"PRC\"])\n",
    "display(crsp_df.iloc[review_idx - 1 : review_idx + 1][\"prev_price\"])\n",
    "display(crsp_df.iloc[review_idx - 1 : review_idx + 1][\"RET\"])\n",
    "\n",
    "crsp_df.drop(columns=[\"prev_price\"], inplace=True)"
   ]
  },
  {
   "cell_type": "markdown",
   "metadata": {},
   "source": [
    "## H6. If RET is still NaN, that means the previous price is not in this subset of the dataset, fill RET with 0"
   ]
  },
  {
   "cell_type": "code",
   "execution_count": 49,
   "metadata": {},
   "outputs": [
    {
     "name": "stdout",
     "output_type": "stream",
     "text": [
      "number of nulls in column RET:  2276\n"
     ]
    }
   ],
   "source": [
    "print(f\"number of nulls in column RET: \", len(crsp_df[crsp_df[\"RET\"].isnull()]))"
   ]
  },
  {
   "cell_type": "code",
   "execution_count": 50,
   "metadata": {},
   "outputs": [],
   "source": [
    "crsp_df[\"RET\"] = crsp_df[\"RET\"].fillna(0)"
   ]
  },
  {
   "cell_type": "code",
   "execution_count": 51,
   "metadata": {},
   "outputs": [],
   "source": [
    "assert len(crsp_df[crsp_df[\"RET\"].isnull()]) == 0"
   ]
  },
  {
   "cell_type": "markdown",
   "metadata": {
    "id": "EQRmPzR1XKqK"
   },
   "source": [
    "## H7. Cast to appropriate type"
   ]
  },
  {
   "cell_type": "code",
   "execution_count": 52,
   "metadata": {
    "executionInfo": {
     "elapsed": 14,
     "status": "ok",
     "timestamp": 1718854332995,
     "user": {
      "displayName": "Rachel Gao",
      "userId": "10756354987170970544"
     },
     "user_tz": 420
    },
    "id": "u1uhhrRmXyrY"
   },
   "outputs": [],
   "source": [
    "int_cols = [\"VOL\", \"SHROUT\", \"NUMTRD\"]\n",
    "float_cols = [\n",
    "    \"ASKHI\",\n",
    "    \"ASK\",\n",
    "    \"BIDLO\",\n",
    "    \"BID\",\n",
    "    \"OPENPRC\",\n",
    "    \"PRC\",\n",
    "    \"RET\",\n",
    "    \"CFACPR\",\n",
    "    \"CFACSHR\",\n",
    "    \"vwretd\",\n",
    "    \"ewretd\",\n",
    "    \"sprtrn\",\n",
    "]\n",
    "str_cols = [\n",
    "    \"PERMNO\",\n",
    "    \"NCUSIP\",\n",
    "    \"CUSIP\",\n",
    "    \"TICKER\",\n",
    "    \"SHRCD\",\n",
    "    \"SHRCD_Type\",\n",
    "    \"SHRCD_Detail\",\n",
    "    \"EXCHCD\",\n",
    "    \"COMNAM\",\n",
    "    \"PRIMEXCH\",\n",
    "    \"TRDSTAT\",\n",
    "    \"SECSTAT\",\n",
    "    \"NAICS\",\n",
    "    \"NAICS_Sector\",\n",
    "    \"NAICS_Secondary\",\n",
    "]"
   ]
  },
  {
   "cell_type": "code",
   "execution_count": 53,
   "metadata": {
    "executionInfo": {
     "elapsed": 64417,
     "status": "ok",
     "timestamp": 1718854397398,
     "user": {
      "displayName": "Rachel Gao",
      "userId": "10756354987170970544"
     },
     "user_tz": 420
    },
    "id": "dOndgxZCYG2T"
   },
   "outputs": [],
   "source": [
    "crsp_df[int_cols] = crsp_df[int_cols].astype(int)\n",
    "crsp_df[float_cols] = crsp_df[float_cols].astype(float)\n",
    "crsp_df[str_cols] = crsp_df[str_cols].astype(str)"
   ]
  },
  {
   "cell_type": "markdown",
   "metadata": {},
   "source": [
    "## H8. Remove outliers, PERMNO that had more than 10 days of over 100% or under -50% returns\n",
    "\n",
    "Return is calculated using (close_price/previous_close_price)-1."
   ]
  },
  {
   "cell_type": "code",
   "execution_count": 54,
   "metadata": {},
   "outputs": [],
   "source": [
    "# Define the conditions\n",
    "over_100_percent = crsp_df[\"RET\"] > 1.0\n",
    "under_50_percent = crsp_df[\"RET\"] < -0.5\n",
    "\n",
    "# Create a boolean mask for the conditions\n",
    "condition_mask = over_100_percent | under_50_percent\n",
    "\n",
    "# Count the number of days each permno_id satisfies the condition\n",
    "permno_counts = crsp_df[condition_mask].groupby(\"PERMNO\").size()"
   ]
  },
  {
   "cell_type": "code",
   "execution_count": 55,
   "metadata": {},
   "outputs": [
    {
     "name": "stdout",
     "output_type": "stream",
     "text": [
      "num_PERMNO_removed:  1\n",
      "num_records_removed:  1503\n",
      "num_records_kept:  7658080\n"
     ]
    }
   ],
   "source": [
    "# Filter out PERMNO with more than 10 days satisfying the condition\n",
    "to_remove = permno_counts[permno_counts > 10].index\n",
    "print(\"num_PERMNO_removed: \", len(to_remove))\n",
    "\n",
    "# Filter the DataFrame to exclude those PERMNO\n",
    "og_len = len(crsp_df)\n",
    "crsp_df = crsp_df[~crsp_df[\"PERMNO\"].isin(to_remove)]\n",
    "new_len = len(crsp_df)\n",
    "print(\"num_records_removed: \", og_len - new_len)\n",
    "print(\"num_records_kept: \", new_len)"
   ]
  },
  {
   "cell_type": "markdown",
   "metadata": {
    "id": "4w5TxPkbY4Vb"
   },
   "source": [
    "# Take another look at the null analysis\n"
   ]
  },
  {
   "cell_type": "code",
   "execution_count": 56,
   "metadata": {
    "executionInfo": {
     "elapsed": 1062,
     "status": "ok",
     "timestamp": 1718854398458,
     "user": {
      "displayName": "Rachel Gao",
      "userId": "10756354987170970544"
     },
     "user_tz": 420
    },
    "id": "Z_CQBmOQY4Vb"
   },
   "outputs": [],
   "source": [
    "# Count the number of nulls in each column\n",
    "null_counts = crsp_df.isnull().sum()\n",
    "\n",
    "# Calculate the percentage of nulls in each column\n",
    "total_rows = len(crsp_df)\n",
    "null_percentages = (null_counts / total_rows) * 100\n",
    "\n",
    "assert null_percentages.min() == 0.0"
   ]
  },
  {
   "cell_type": "markdown",
   "metadata": {
    "id": "88kCLrSHf-8f"
   },
   "source": [
    "## I1. Remove duplicates\n"
   ]
  },
  {
   "cell_type": "code",
   "execution_count": 57,
   "metadata": {
    "colab": {
     "base_uri": "https://localhost:8080/"
    },
    "executionInfo": {
     "elapsed": 4916,
     "status": "ok",
     "timestamp": 1718854403372,
     "user": {
      "displayName": "Rachel Gao",
      "userId": "10756354987170970544"
     },
     "user_tz": 420
    },
    "id": "PwwK4UTIf8ho",
    "outputId": "229ce362-ea1a-4e99-8b60-18fc898e641a"
   },
   "outputs": [
    {
     "name": "stdout",
     "output_type": "stream",
     "text": [
      "num_records_removed:  1124\n",
      "num_records_kept:  7656956\n"
     ]
    }
   ],
   "source": [
    "og_len = len(crsp_df)\n",
    "crsp_df = crsp_df.drop_duplicates()\n",
    "new_len = len(crsp_df)\n",
    "print(\"num_records_removed: \", og_len - new_len)\n",
    "print(\"num_records_kept: \", new_len)"
   ]
  },
  {
   "cell_type": "markdown",
   "metadata": {
    "id": "8HV4lEtaZG09"
   },
   "source": [
    "## I2. Confirm each PERMNO contains at most num_days records (each PERMNO only has one record per day)\n"
   ]
  },
  {
   "cell_type": "code",
   "execution_count": 58,
   "metadata": {},
   "outputs": [],
   "source": [
    "num_days = crsp_df[\"date\"].nunique()"
   ]
  },
  {
   "cell_type": "code",
   "execution_count": 59,
   "metadata": {
    "executionInfo": {
     "elapsed": 16,
     "status": "ok",
     "timestamp": 1718854403372,
     "user": {
      "displayName": "Rachel Gao",
      "userId": "10756354987170970544"
     },
     "user_tz": 420
    },
    "id": "hRJJ5TQzgRSC"
   },
   "outputs": [],
   "source": [
    "assert crsp_df[\"PERMNO\"].value_counts().max() <= num_days"
   ]
  },
  {
   "cell_type": "markdown",
   "metadata": {
    "id": "9HyqlNvlkDCy"
   },
   "source": [
    "## I3. Rename & Reorder all columns\n"
   ]
  },
  {
   "cell_type": "code",
   "execution_count": 60,
   "metadata": {
    "executionInfo": {
     "elapsed": 1323,
     "status": "ok",
     "timestamp": 1718854405813,
     "user": {
      "displayName": "Rachel Gao",
      "userId": "10756354987170970544"
     },
     "user_tz": 420
    },
    "id": "PBM94pMjkGCw"
   },
   "outputs": [],
   "source": [
    "rename_dict = {\n",
    "    \"date\": \"date\",\n",
    "    \"PERMNO\": \"permno_id\",\n",
    "    \"NCUSIP\": \"ncusip_id\",\n",
    "    \"CUSIP\": \"cusip_id\",\n",
    "    \"TICKER\": \"ticker\",\n",
    "    \"SHRCD\": \"share_code\",\n",
    "    \"SHRCD_Type\": \"share_code_type\",\n",
    "    \"SHRCD_Detail\": \"share_code_detail\",\n",
    "    \"EXCHCD\": \"exchange_code\",\n",
    "    \"COMNAM\": \"company_name\",\n",
    "    \"PRIMEXCH\": \"primary_exchange\",\n",
    "    \"TRDSTAT\": \"trading_status\",\n",
    "    \"SECSTAT\": \"security_status\",\n",
    "    \"NAICS\": \"naics\",\n",
    "    \"NAICS_Sector\": \"naics_sector\",\n",
    "    \"NAICS_Sector_Name\": \"naics_sector_name\",\n",
    "    \"NAICS_Secondary\": \"naics_secondary\",\n",
    "    \"ASKHI\": \"ask_or_high_price\",\n",
    "    \"ASK\": \"ask_price\",\n",
    "    \"BIDLO\": \"bid_or_low_price\",\n",
    "    \"BID\": \"bid_price\",\n",
    "    \"OPENPRC\": \"open_price\",\n",
    "    \"PRC\": \"close_price\",\n",
    "    \"RET\": \"return\",\n",
    "    \"VOL\": \"volume\",\n",
    "    \"SHROUT\": \"shares_outstanding\",\n",
    "    \"NUMTRD\": \"num_trades\",\n",
    "    \"CFACPR\": \"factor_to_adjust_price\",\n",
    "    \"CFACSHR\": \"factor_to_adjust_shares\",\n",
    "    \"vwretd\": \"value_weighted_return\",\n",
    "    \"ewretd\": \"equal_weighted_return\",\n",
    "    \"sprtrn\": \"return_on_SP_index\",\n",
    "}\n",
    "\n",
    "crsp_df = crsp_df.rename(columns=rename_dict)\n",
    "crsp_df = crsp_df[list(rename_dict.values())]"
   ]
  },
  {
   "cell_type": "markdown",
   "metadata": {
    "id": "ke6Vs_NziX5n"
   },
   "source": [
    "# Take a final look at the columns\n"
   ]
  },
  {
   "cell_type": "code",
   "execution_count": 61,
   "metadata": {
    "colab": {
     "base_uri": "https://localhost:8080/"
    },
    "executionInfo": {
     "elapsed": 6,
     "status": "ok",
     "timestamp": 1718854405813,
     "user": {
      "displayName": "Rachel Gao",
      "userId": "10756354987170970544"
     },
     "user_tz": 420
    },
    "id": "KPjXphnHiX5n",
    "outputId": "d501cc76-a194-4ab4-b3c3-7d3e4444ffbc"
   },
   "outputs": [
    {
     "data": {
      "text/plain": [
       "Index(['date', 'permno_id', 'ncusip_id', 'cusip_id', 'ticker', 'share_code',\n",
       "       'share_code_type', 'share_code_detail', 'exchange_code', 'company_name',\n",
       "       'primary_exchange', 'trading_status', 'security_status', 'naics',\n",
       "       'naics_sector', 'naics_sector_name', 'naics_secondary',\n",
       "       'ask_or_high_price', 'ask_price', 'bid_or_low_price', 'bid_price',\n",
       "       'open_price', 'close_price', 'return', 'volume', 'shares_outstanding',\n",
       "       'num_trades', 'factor_to_adjust_price', 'factor_to_adjust_shares',\n",
       "       'value_weighted_return', 'equal_weighted_return', 'return_on_SP_index'],\n",
       "      dtype='object')"
      ]
     },
     "execution_count": 61,
     "metadata": {},
     "output_type": "execute_result"
    }
   ],
   "source": [
    "crsp_df.columns"
   ]
  },
  {
   "cell_type": "code",
   "execution_count": 62,
   "metadata": {
    "colab": {
     "base_uri": "https://localhost:8080/"
    },
    "executionInfo": {
     "elapsed": 6,
     "status": "ok",
     "timestamp": 1718854405814,
     "user": {
      "displayName": "Rachel Gao",
      "userId": "10756354987170970544"
     },
     "user_tz": 420
    },
    "id": "195_fzCXiX5o",
    "outputId": "2dcb6c56-3b5c-494c-bba4-be6b636341d4"
   },
   "outputs": [
    {
     "data": {
      "text/plain": [
       "date                       datetime64[ns]\n",
       "permno_id                          object\n",
       "ncusip_id                          object\n",
       "cusip_id                           object\n",
       "ticker                             object\n",
       "share_code                         object\n",
       "share_code_type                    object\n",
       "share_code_detail                  object\n",
       "exchange_code                      object\n",
       "company_name                       object\n",
       "primary_exchange                   object\n",
       "trading_status                     object\n",
       "security_status                    object\n",
       "naics                              object\n",
       "naics_sector                       object\n",
       "naics_sector_name                  object\n",
       "naics_secondary                    object\n",
       "ask_or_high_price                 float64\n",
       "ask_price                         float64\n",
       "bid_or_low_price                  float64\n",
       "bid_price                         float64\n",
       "open_price                        float64\n",
       "close_price                       float64\n",
       "return                            float64\n",
       "volume                              int64\n",
       "shares_outstanding                  int64\n",
       "num_trades                          int64\n",
       "factor_to_adjust_price            float64\n",
       "factor_to_adjust_shares           float64\n",
       "value_weighted_return             float64\n",
       "equal_weighted_return             float64\n",
       "return_on_SP_index                float64\n",
       "dtype: object"
      ]
     },
     "execution_count": 62,
     "metadata": {},
     "output_type": "execute_result"
    }
   ],
   "source": [
    "crsp_df.dtypes"
   ]
  },
  {
   "cell_type": "code",
   "execution_count": 63,
   "metadata": {
    "colab": {
     "base_uri": "https://localhost:8080/"
    },
    "executionInfo": {
     "elapsed": 4,
     "status": "ok",
     "timestamp": 1718854405814,
     "user": {
      "displayName": "Rachel Gao",
      "userId": "10756354987170970544"
     },
     "user_tz": 420
    },
    "id": "EqtXW4RpiX5o",
    "outputId": "fca26289-698b-4ab3-9ee2-31d6497cb158"
   },
   "outputs": [
    {
     "name": "stdout",
     "output_type": "stream",
     "text": [
      "number of records: 7656956\n",
      "number of columns: 32\n"
     ]
    }
   ],
   "source": [
    "crsp_len = len(crsp_df)\n",
    "crsp_cols = len(crsp_df.columns)\n",
    "print(\"number of records:\", crsp_len)\n",
    "print(\"number of columns:\", crsp_cols)"
   ]
  },
  {
   "cell_type": "markdown",
   "metadata": {
    "id": "KzwUEbGmilqF"
   },
   "source": [
    "# Review unique values and distribution in each remaining column\n"
   ]
  },
  {
   "cell_type": "code",
   "execution_count": 64,
   "metadata": {
    "colab": {
     "base_uri": "https://localhost:8080/"
    },
    "executionInfo": {
     "elapsed": 3859,
     "status": "ok",
     "timestamp": 1718854409670,
     "user": {
      "displayName": "Rachel Gao",
      "userId": "10756354987170970544"
     },
     "user_tz": 420
    },
    "id": "s3Y6SYRiilqG",
    "outputId": "544ba568-51a3-4a47-8d95-6b1e625eabda"
   },
   "outputs": [
    {
     "name": "stdout",
     "output_type": "stream",
     "text": [
      "---------- date ----------\n",
      "1509\n",
      "date\n",
      "2022-05-18    5890\n",
      "2022-05-17    5890\n",
      "2022-05-19    5889\n",
      "2022-05-13    5889\n",
      "2022-05-16    5888\n",
      "              ... \n",
      "2018-01-08    4422\n",
      "2018-01-05    4419\n",
      "2018-01-04    4415\n",
      "2018-01-03    4408\n",
      "2018-01-02    4395\n",
      "Name: count, Length: 1509, dtype: int64\n",
      "---------- permno_id ----------\n",
      "7145\n",
      "permno_id\n",
      "93436    1509\n",
      "10026    1509\n",
      "10028    1509\n",
      "10032    1509\n",
      "10044    1509\n",
      "         ... \n",
      "24009     129\n",
      "23970     128\n",
      "23994     128\n",
      "23978     128\n",
      "89681     127\n",
      "Name: count, Length: 7145, dtype: int64\n",
      "---------- ncusip_id ----------\n",
      "9047\n",
      "ncusip_id\n",
      "88160R10    1509\n",
      "46603210    1509\n",
      "78513510    1509\n",
      "12503M10    1509\n",
      "72913210    1509\n",
      "            ... \n",
      "75811Y10       1\n",
      "74102L20       1\n",
      "92535P87       1\n",
      "45784G10       1\n",
      "05338F30       1\n",
      "Name: count, Length: 9047, dtype: int64\n",
      "---------- cusip_id ----------\n",
      "7147\n",
      "cusip_id\n",
      "88160R10      1509\n",
      "46603210      1509\n",
      "29402E10      1509\n",
      "72913210      1509\n",
      "77467X10      1509\n",
      "              ... \n",
      "G3398L11       128\n",
      "50012A10       128\n",
      "80517M10       128\n",
      "45665Q10       127\n",
      "51384710.0      96\n",
      "Name: count, Length: 7147, dtype: int64\n",
      "---------- ticker ----------\n",
      "7923\n",
      "ticker\n",
      "GEF      3018\n",
      "LGF      3018\n",
      "LEN      3018\n",
      "HEI      3018\n",
      "WSO      3018\n",
      "         ... \n",
      "FLYX        2\n",
      "TFCF        2\n",
      "ESDI        2\n",
      "TFCFA       2\n",
      "ZCAR        1\n",
      "Name: count, Length: 7923, dtype: int64\n",
      "---------- share_code ----------\n",
      "5\n",
      "share_code\n",
      "11.0    5893727\n",
      "12.0    1129821\n",
      "14.0     359726\n",
      "18.0     272173\n",
      "15.0       1509\n",
      "Name: count, dtype: int64\n",
      "---------- share_code_type ----------\n",
      "1\n",
      "share_code_type\n",
      "1    7656956\n",
      "Name: count, dtype: int64\n",
      "---------- share_code_detail ----------\n",
      "5\n",
      "share_code_detail\n",
      "1    5893727\n",
      "2    1129821\n",
      "4     359726\n",
      "8     272173\n",
      "5       1509\n",
      "Name: count, dtype: int64\n",
      "---------- exchange_code ----------\n",
      "5\n",
      "exchange_code\n",
      "3    4419066\n",
      "1    2878222\n",
      "2     358086\n",
      "5       1331\n",
      "6        251\n",
      "Name: count, dtype: int64\n",
      "---------- company_name ----------\n",
      "8318\n",
      "company_name\n",
      "LIBERTY MEDIA CORP 3RD NEW    10335\n",
      "LIBERTY GLOBAL PLC             4452\n",
      "DISCOVERY INC                  3048\n",
      "CENTRAL GARDEN & PET CO        3018\n",
      "BEL FUSE INC                   3018\n",
      "                              ...  \n",
      "CAPRI LISTCO                      2\n",
      "FLYEXCLUSIVE INC                  2\n",
      "AERWINS TECHNOLOGY INC            2\n",
      "REEBONZ HOLDING LTD               1\n",
      "ZOOMCAR HOLDINGS INC              1\n",
      "Name: count, Length: 8318, dtype: int64\n",
      "---------- primary_exchange ----------\n",
      "5\n",
      "primary_exchange\n",
      "Q    4419066\n",
      "N    2878222\n",
      "A     358086\n",
      "B       1331\n",
      "I        251\n",
      "Name: count, dtype: int64\n",
      "---------- trading_status ----------\n",
      "1\n",
      "trading_status\n",
      "A    7656956\n",
      "Name: count, dtype: int64\n",
      "---------- security_status ----------\n",
      "1\n",
      "security_status\n",
      "R    7656956\n",
      "Name: count, dtype: int64\n",
      "---------- naics ----------\n",
      "815\n",
      "naics\n",
      "523910.0    564787\n",
      "325412.0    532815\n",
      "522110.0    405906\n",
      "525990.0    191694\n",
      "511210.0    184224\n",
      "             ...  \n",
      "444240.0        19\n",
      "449121.0        13\n",
      "449129.0         7\n",
      "541519.0         4\n",
      "332111.0         4\n",
      "Name: count, Length: 815, dtype: int64\n",
      "---------- naics_sector ----------\n",
      "28\n",
      "naics_sector\n",
      "52    1819588\n",
      "33    1199399\n",
      "32     939510\n",
      "54     544122\n",
      "51     490067\n",
      "21     354441\n",
      "53     321253\n",
      "56     298177\n",
      "42     256046\n",
      "31     178067\n",
      "44     174002\n",
      "48     161120\n",
      "62     150138\n",
      "22     131069\n",
      "55     117652\n",
      "72     109321\n",
      "23      96628\n",
      "45      90866\n",
      "99      90126\n",
      "71      39228\n",
      "81      32337\n",
      "61      29367\n",
      "11      22684\n",
      "49       8924\n",
      "92       2735\n",
      "73         34\n",
      "67         28\n",
      "10         27\n",
      "Name: count, dtype: int64\n",
      "---------- naics_sector_name ----------\n",
      "24\n",
      "naics_sector_name\n",
      "Manufacturing                                                               2316976\n",
      "Finance and Insurance                                                       1819588\n",
      "Professional, Scientific, and Technical Services                             544122\n",
      "Information                                                                  490067\n",
      "Mining, Quarrying, and Oil and Gas Extraction                                354441\n",
      "Real Estate and Rental and Leasing                                           321253\n",
      "Administrative and Support and Waste Management and Remediation Services     298177\n",
      "Retail Trade                                                                 264868\n",
      "Wholesale Trade                                                              256046\n",
      "Transportation and Warehousing                                               170044\n",
      "Health Care and Social Assistance                                            150138\n",
      "Utilities                                                                    131069\n",
      "Management of Companies and Enterprises                                      117652\n",
      "Accommodation and Food Services                                              109321\n",
      "Construction                                                                  96628\n",
      "Unknown                                                                       90126\n",
      "Arts, Entertainment, and Recreation                                           39228\n",
      "Other Services (except Public Administration)                                 32337\n",
      "Educational Services                                                          29367\n",
      "Agriculture, Forestry, Fishing and Hunting                                    22684\n",
      "Public Administration                                                          2735\n",
      "Business Services                                                                34\n",
      "Holding And Other Investment Offices                                             28\n",
      "Metal Mining                                                                     27\n",
      "Name: count, dtype: int64\n",
      "---------- naics_secondary ----------\n",
      "519\n",
      "naics_secondary\n",
      "3910.0    567991\n",
      "5412.0    532815\n",
      "2110.0    440347\n",
      "1110.0    296912\n",
      "1210.0    272008\n",
      "           ...  \n",
      "1214.0        27\n",
      "8100.0        27\n",
      "4240.0        19\n",
      "9121.0        13\n",
      "9129.0         7\n",
      "Name: count, Length: 519, dtype: int64\n",
      "---------- ask_or_high_price ----------\n",
      "426595\n",
      "ask_or_high_price\n",
      "10.00000     12176\n",
      "9.80000      11055\n",
      "9.90000      10863\n",
      "9.95000      10366\n",
      "9.85000      10101\n",
      "             ...  \n",
      "913.81989        1\n",
      "877.19000        1\n",
      "892.53003        1\n",
      "894.71002        1\n",
      "751.54999        1\n",
      "Name: count, Length: 426595, dtype: int64\n",
      "---------- ask_price ----------\n",
      "94659\n",
      "ask_price\n",
      "10.00000     13370\n",
      "9.90000      12511\n",
      "9.80000      12420\n",
      "9.95000      11760\n",
      "9.85000      11518\n",
      "             ...  \n",
      "919.72998        1\n",
      "809.87000        1\n",
      "871.14001        1\n",
      "864.57001        1\n",
      "879.89001        1\n",
      "Name: count, Length: 94659, dtype: int64\n",
      "---------- bid_or_low_price ----------\n",
      "418608\n",
      "bid_or_low_price\n",
      "9.80000      11084\n",
      "9.75000      10801\n",
      "9.90000      10787\n",
      "10.00000     10551\n",
      "9.70000       9966\n",
      "             ...  \n",
      "850.10999        1\n",
      "855.09998        1\n",
      "903.69000        1\n",
      "908.65002        1\n",
      "263.76010        1\n",
      "Name: count, Length: 418608, dtype: int64\n",
      "---------- bid_price ----------\n",
      "94727\n",
      "bid_price\n",
      "9.80000      11392\n",
      "9.75000      11389\n",
      "9.90000      11192\n",
      "10.00000     10590\n",
      "9.85000      10496\n",
      "             ...  \n",
      "360.41000        1\n",
      "351.87000        1\n",
      "344.22000        1\n",
      "428.45999        1\n",
      "438.51001        1\n",
      "Name: count, Length: 94727, dtype: int64\n",
      "---------- open_price ----------\n",
      "192545\n",
      "open_price\n",
      "10.00000     12239\n",
      "9.80000      11508\n",
      "9.90000      11053\n",
      "9.75000      10748\n",
      "9.85000      10285\n",
      "             ...  \n",
      "816.65002        1\n",
      "799.53998        1\n",
      "791.42999        1\n",
      "840.20001        1\n",
      "903.82501        1\n",
      "Name: count, Length: 192545, dtype: int64\n",
      "---------- close_price ----------\n",
      "174595\n",
      "close_price\n",
      "9.80000      11209\n",
      "10.00000     10987\n",
      "9.90000      10979\n",
      "9.75000      10432\n",
      "9.85000      10160\n",
      "             ...  \n",
      "776.58002        1\n",
      "842.70001        1\n",
      "891.45001        1\n",
      "891.83002        1\n",
      "901.76001        1\n",
      "Name: count, Length: 174595, dtype: int64\n",
      "---------- return ----------\n",
      "291811\n",
      "return\n",
      " 0.000000    268695\n",
      "-0.019608      2514\n",
      "-0.020000      2407\n",
      "-0.038462      2352\n",
      "-0.028571      2316\n",
      "              ...  \n",
      " 0.060603         1\n",
      " 0.097689         1\n",
      " 0.071890         1\n",
      " 0.198949         1\n",
      " 0.137256         1\n",
      "Name: count, Length: 291811, dtype: int64\n",
      "---------- volume ----------\n",
      "2372313\n",
      "volume\n",
      "0          79500\n",
      "1           7128\n",
      "2           5741\n",
      "100         5073\n",
      "3           3076\n",
      "           ...  \n",
      "8603173        1\n",
      "9676312        1\n",
      "8378292        1\n",
      "8948433        1\n",
      "7240664        1\n",
      "Name: count, Length: 2372313, dtype: int64\n",
      "---------- shares_outstanding ----------\n",
      "103598\n",
      "shares_outstanding\n",
      "23000     27935\n",
      "34500     21166\n",
      "27600     11644\n",
      "28750     11452\n",
      "25000     10189\n",
      "          ...  \n",
      "116500        1\n",
      "18192         1\n",
      "222228        1\n",
      "353480        1\n",
      "859           1\n",
      "Name: count, Length: 103598, dtype: int64\n",
      "---------- num_trades ----------\n",
      "113609\n",
      "num_trades\n",
      "99         3242685\n",
      "0            43377\n",
      "1            27942\n",
      "2            23732\n",
      "3            19702\n",
      "            ...   \n",
      "1750000          1\n",
      "992318           1\n",
      "2630000          1\n",
      "1950000          1\n",
      "1970000          1\n",
      "Name: count, Length: 113609, dtype: int64\n",
      "---------- factor_to_adjust_price ----------\n",
      "427\n",
      "factor_to_adjust_price\n",
      "1.000000    6758212\n",
      "0.100000     111079\n",
      "0.050000      92836\n",
      "0.066667      58253\n",
      "2.000000      32402\n",
      "             ...   \n",
      "8.529762         10\n",
      "1.020880          7\n",
      "1.373598          7\n",
      "0.000152          4\n",
      "1.020100          4\n",
      "Name: count, Length: 427, dtype: int64\n",
      "---------- factor_to_adjust_shares ----------\n",
      "226\n",
      "factor_to_adjust_shares\n",
      "1.000000    6869282\n",
      "0.100000     113099\n",
      "0.050000      94410\n",
      "0.066667      59346\n",
      "2.000000      33752\n",
      "             ...   \n",
      "0.000100         12\n",
      "0.011111         11\n",
      "1.373598          7\n",
      "1.020100          4\n",
      "0.000152          4\n",
      "Name: count, Length: 226, dtype: int64\n",
      "---------- value_weighted_return ----------\n",
      "1471\n",
      "value_weighted_return\n",
      "-0.004045    15409\n",
      "-0.001146    11383\n",
      "-0.008106    11367\n",
      "-0.014385    11340\n",
      " 0.007317    11327\n",
      "             ...  \n",
      " 0.001816     4422\n",
      " 0.005804     4419\n",
      " 0.004001     4415\n",
      " 0.005856     4408\n",
      " 0.008505     4395\n",
      "Name: count, Length: 1471, dtype: int64\n",
      "---------- equal_weighted_return ----------\n",
      "1483\n",
      "equal_weighted_return\n",
      "-0.015893    11759\n",
      " 0.010778    11499\n",
      " 0.005970    11408\n",
      " 0.006047    11068\n",
      "-0.006333    10835\n",
      "             ...  \n",
      " 0.000584     4422\n",
      " 0.003880     4419\n",
      " 0.005272     4415\n",
      " 0.005103     4408\n",
      " 0.011232     4395\n",
      "Name: count, Length: 1483, dtype: int64\n",
      "---------- return_on_SP_index ----------\n",
      "1472\n",
      "return_on_SP_index\n",
      "-0.000868    15458\n",
      "-0.004050    11503\n",
      "-0.016463    11492\n",
      " 0.002996    11467\n",
      "-0.003841    11430\n",
      "             ...  \n",
      "-0.001112     4426\n",
      " 0.001303     4424\n",
      " 0.004029     4415\n",
      " 0.006399     4408\n",
      " 0.008303     4395\n",
      "Name: count, Length: 1472, dtype: int64\n"
     ]
    }
   ],
   "source": [
    "for column in crsp_df.columns:\n",
    "    print(\"-\" * 10, column, \"-\" * 10)\n",
    "    print(crsp_df[column].nunique())\n",
    "    print(crsp_df[column].value_counts())"
   ]
  },
  {
   "cell_type": "markdown",
   "metadata": {},
   "source": [
    "# Save the cleaned df as csv & parquet\n"
   ]
  },
  {
   "cell_type": "code",
   "execution_count": 65,
   "metadata": {},
   "outputs": [],
   "source": [
    "crsp_df.to_csv(\n",
    "    \"/home/sagemaker-user/capstone-2024-summer/data/crsp_2018-2023_clean.csv\",\n",
    "    index=False,\n",
    ")\n",
    "crsp_df.to_parquet(\"/home/sagemaker-user/capstone-2024-summer/data/crsp_2018-2023_clean.parquet\")"
   ]
  },
  {
   "cell_type": "code",
   "execution_count": 66,
   "metadata": {},
   "outputs": [
    {
     "data": {
      "text/html": [
       "<div>\n",
       "<style scoped>\n",
       "    .dataframe tbody tr th:only-of-type {\n",
       "        vertical-align: middle;\n",
       "    }\n",
       "\n",
       "    .dataframe tbody tr th {\n",
       "        vertical-align: top;\n",
       "    }\n",
       "\n",
       "    .dataframe thead th {\n",
       "        text-align: right;\n",
       "    }\n",
       "</style>\n",
       "<table border=\"1\" class=\"dataframe\">\n",
       "  <thead>\n",
       "    <tr style=\"text-align: right;\">\n",
       "      <th></th>\n",
       "      <th>date</th>\n",
       "      <th>permno_id</th>\n",
       "      <th>ncusip_id</th>\n",
       "      <th>cusip_id</th>\n",
       "      <th>ticker</th>\n",
       "      <th>share_code</th>\n",
       "      <th>share_code_type</th>\n",
       "      <th>share_code_detail</th>\n",
       "      <th>exchange_code</th>\n",
       "      <th>company_name</th>\n",
       "      <th>...</th>\n",
       "      <th>close_price</th>\n",
       "      <th>return</th>\n",
       "      <th>volume</th>\n",
       "      <th>shares_outstanding</th>\n",
       "      <th>num_trades</th>\n",
       "      <th>factor_to_adjust_price</th>\n",
       "      <th>factor_to_adjust_shares</th>\n",
       "      <th>value_weighted_return</th>\n",
       "      <th>equal_weighted_return</th>\n",
       "      <th>return_on_SP_index</th>\n",
       "    </tr>\n",
       "  </thead>\n",
       "  <tbody>\n",
       "    <tr>\n",
       "      <th>0</th>\n",
       "      <td>2018-01-02</td>\n",
       "      <td>10026</td>\n",
       "      <td>46603210</td>\n",
       "      <td>46603210</td>\n",
       "      <td>JJSF</td>\n",
       "      <td>11.0</td>\n",
       "      <td>1</td>\n",
       "      <td>1</td>\n",
       "      <td>3</td>\n",
       "      <td>J &amp; J SNACK FOODS CORP</td>\n",
       "      <td>...</td>\n",
       "      <td>149.17999</td>\n",
       "      <td>-0.017454</td>\n",
       "      <td>190618</td>\n",
       "      <td>18668</td>\n",
       "      <td>1036</td>\n",
       "      <td>1.0</td>\n",
       "      <td>1.0</td>\n",
       "      <td>0.008505</td>\n",
       "      <td>0.011232</td>\n",
       "      <td>0.008303</td>\n",
       "    </tr>\n",
       "    <tr>\n",
       "      <th>1</th>\n",
       "      <td>2018-01-03</td>\n",
       "      <td>10026</td>\n",
       "      <td>46603210</td>\n",
       "      <td>46603210</td>\n",
       "      <td>JJSF</td>\n",
       "      <td>11.0</td>\n",
       "      <td>1</td>\n",
       "      <td>1</td>\n",
       "      <td>3</td>\n",
       "      <td>J &amp; J SNACK FOODS CORP</td>\n",
       "      <td>...</td>\n",
       "      <td>147.69000</td>\n",
       "      <td>-0.009988</td>\n",
       "      <td>63693</td>\n",
       "      <td>18668</td>\n",
       "      <td>1283</td>\n",
       "      <td>1.0</td>\n",
       "      <td>1.0</td>\n",
       "      <td>0.005856</td>\n",
       "      <td>0.005103</td>\n",
       "      <td>0.006399</td>\n",
       "    </tr>\n",
       "    <tr>\n",
       "      <th>2</th>\n",
       "      <td>2018-01-04</td>\n",
       "      <td>10026</td>\n",
       "      <td>46603210</td>\n",
       "      <td>46603210</td>\n",
       "      <td>JJSF</td>\n",
       "      <td>11.0</td>\n",
       "      <td>1</td>\n",
       "      <td>1</td>\n",
       "      <td>3</td>\n",
       "      <td>J &amp; J SNACK FOODS CORP</td>\n",
       "      <td>...</td>\n",
       "      <td>149.73000</td>\n",
       "      <td>0.013813</td>\n",
       "      <td>127552</td>\n",
       "      <td>18668</td>\n",
       "      <td>1138</td>\n",
       "      <td>1.0</td>\n",
       "      <td>1.0</td>\n",
       "      <td>0.004001</td>\n",
       "      <td>0.005272</td>\n",
       "      <td>0.004029</td>\n",
       "    </tr>\n",
       "    <tr>\n",
       "      <th>3</th>\n",
       "      <td>2018-01-05</td>\n",
       "      <td>10026</td>\n",
       "      <td>46603210</td>\n",
       "      <td>46603210</td>\n",
       "      <td>JJSF</td>\n",
       "      <td>11.0</td>\n",
       "      <td>1</td>\n",
       "      <td>1</td>\n",
       "      <td>3</td>\n",
       "      <td>J &amp; J SNACK FOODS CORP</td>\n",
       "      <td>...</td>\n",
       "      <td>148.30000</td>\n",
       "      <td>-0.009550</td>\n",
       "      <td>44647</td>\n",
       "      <td>18668</td>\n",
       "      <td>745</td>\n",
       "      <td>1.0</td>\n",
       "      <td>1.0</td>\n",
       "      <td>0.005804</td>\n",
       "      <td>0.003880</td>\n",
       "      <td>0.007034</td>\n",
       "    </tr>\n",
       "    <tr>\n",
       "      <th>4</th>\n",
       "      <td>2018-01-08</td>\n",
       "      <td>10026</td>\n",
       "      <td>46603210</td>\n",
       "      <td>46603210</td>\n",
       "      <td>JJSF</td>\n",
       "      <td>11.0</td>\n",
       "      <td>1</td>\n",
       "      <td>1</td>\n",
       "      <td>3</td>\n",
       "      <td>J &amp; J SNACK FOODS CORP</td>\n",
       "      <td>...</td>\n",
       "      <td>148.41000</td>\n",
       "      <td>0.000742</td>\n",
       "      <td>55014</td>\n",
       "      <td>18668</td>\n",
       "      <td>990</td>\n",
       "      <td>1.0</td>\n",
       "      <td>1.0</td>\n",
       "      <td>0.001816</td>\n",
       "      <td>0.000584</td>\n",
       "      <td>0.001662</td>\n",
       "    </tr>\n",
       "  </tbody>\n",
       "</table>\n",
       "<p>5 rows × 32 columns</p>\n",
       "</div>"
      ],
      "text/plain": [
       "        date permno_id ncusip_id  cusip_id ticker share_code share_code_type  \\\n",
       "0 2018-01-02     10026  46603210  46603210   JJSF       11.0               1   \n",
       "1 2018-01-03     10026  46603210  46603210   JJSF       11.0               1   \n",
       "2 2018-01-04     10026  46603210  46603210   JJSF       11.0               1   \n",
       "3 2018-01-05     10026  46603210  46603210   JJSF       11.0               1   \n",
       "4 2018-01-08     10026  46603210  46603210   JJSF       11.0               1   \n",
       "\n",
       "  share_code_detail exchange_code            company_name  ... close_price  \\\n",
       "0                 1             3  J & J SNACK FOODS CORP  ...   149.17999   \n",
       "1                 1             3  J & J SNACK FOODS CORP  ...   147.69000   \n",
       "2                 1             3  J & J SNACK FOODS CORP  ...   149.73000   \n",
       "3                 1             3  J & J SNACK FOODS CORP  ...   148.30000   \n",
       "4                 1             3  J & J SNACK FOODS CORP  ...   148.41000   \n",
       "\n",
       "     return  volume shares_outstanding num_trades factor_to_adjust_price  \\\n",
       "0 -0.017454  190618              18668       1036                    1.0   \n",
       "1 -0.009988   63693              18668       1283                    1.0   \n",
       "2  0.013813  127552              18668       1138                    1.0   \n",
       "3 -0.009550   44647              18668        745                    1.0   \n",
       "4  0.000742   55014              18668        990                    1.0   \n",
       "\n",
       "  factor_to_adjust_shares  value_weighted_return  equal_weighted_return  \\\n",
       "0                     1.0               0.008505               0.011232   \n",
       "1                     1.0               0.005856               0.005103   \n",
       "2                     1.0               0.004001               0.005272   \n",
       "3                     1.0               0.005804               0.003880   \n",
       "4                     1.0               0.001816               0.000584   \n",
       "\n",
       "   return_on_SP_index  \n",
       "0            0.008303  \n",
       "1            0.006399  \n",
       "2            0.004029  \n",
       "3            0.007034  \n",
       "4            0.001662  \n",
       "\n",
       "[5 rows x 32 columns]"
      ]
     },
     "execution_count": 66,
     "metadata": {},
     "output_type": "execute_result"
    }
   ],
   "source": [
    "reload = pd.read_parquet(\"/home/sagemaker-user/capstone-2024-summer/data/crsp_2018-2023_clean.parquet\")\n",
    "assert crsp_df.equals(reload)\n",
    "\n",
    "reload.head()"
   ]
  },
  {
   "cell_type": "markdown",
   "metadata": {},
   "source": [
    "# Upload the parquet to s3\n"
   ]
  },
  {
   "cell_type": "code",
   "execution_count": 67,
   "metadata": {},
   "outputs": [],
   "source": [
    "s3.upload_file(\n",
    "    \"/home/sagemaker-user/capstone-2024-summer/data/crsp_2018-2023_clean.parquet\",\n",
    "    bucket,\n",
    "    \"CRSP/crsp_2018-2023_clean.parquet\",\n",
    ")"
   ]
  },
  {
   "cell_type": "code",
   "execution_count": 68,
   "metadata": {},
   "outputs": [],
   "source": [
    "reload_path = s3_download(\"CRSP/crsp_2018-2023_clean.parquet\")"
   ]
  },
  {
   "cell_type": "code",
   "execution_count": 69,
   "metadata": {},
   "outputs": [
    {
     "data": {
      "text/html": [
       "<div>\n",
       "<style scoped>\n",
       "    .dataframe tbody tr th:only-of-type {\n",
       "        vertical-align: middle;\n",
       "    }\n",
       "\n",
       "    .dataframe tbody tr th {\n",
       "        vertical-align: top;\n",
       "    }\n",
       "\n",
       "    .dataframe thead th {\n",
       "        text-align: right;\n",
       "    }\n",
       "</style>\n",
       "<table border=\"1\" class=\"dataframe\">\n",
       "  <thead>\n",
       "    <tr style=\"text-align: right;\">\n",
       "      <th></th>\n",
       "      <th>date</th>\n",
       "      <th>permno_id</th>\n",
       "      <th>ncusip_id</th>\n",
       "      <th>cusip_id</th>\n",
       "      <th>ticker</th>\n",
       "      <th>share_code</th>\n",
       "      <th>share_code_type</th>\n",
       "      <th>share_code_detail</th>\n",
       "      <th>exchange_code</th>\n",
       "      <th>company_name</th>\n",
       "      <th>...</th>\n",
       "      <th>close_price</th>\n",
       "      <th>return</th>\n",
       "      <th>volume</th>\n",
       "      <th>shares_outstanding</th>\n",
       "      <th>num_trades</th>\n",
       "      <th>factor_to_adjust_price</th>\n",
       "      <th>factor_to_adjust_shares</th>\n",
       "      <th>value_weighted_return</th>\n",
       "      <th>equal_weighted_return</th>\n",
       "      <th>return_on_SP_index</th>\n",
       "    </tr>\n",
       "  </thead>\n",
       "  <tbody>\n",
       "    <tr>\n",
       "      <th>0</th>\n",
       "      <td>2018-01-02</td>\n",
       "      <td>10026</td>\n",
       "      <td>46603210</td>\n",
       "      <td>46603210</td>\n",
       "      <td>JJSF</td>\n",
       "      <td>11.0</td>\n",
       "      <td>1</td>\n",
       "      <td>1</td>\n",
       "      <td>3</td>\n",
       "      <td>J &amp; J SNACK FOODS CORP</td>\n",
       "      <td>...</td>\n",
       "      <td>149.17999</td>\n",
       "      <td>-0.017454</td>\n",
       "      <td>190618</td>\n",
       "      <td>18668</td>\n",
       "      <td>1036</td>\n",
       "      <td>1.0</td>\n",
       "      <td>1.0</td>\n",
       "      <td>0.008505</td>\n",
       "      <td>0.011232</td>\n",
       "      <td>0.008303</td>\n",
       "    </tr>\n",
       "    <tr>\n",
       "      <th>1</th>\n",
       "      <td>2018-01-03</td>\n",
       "      <td>10026</td>\n",
       "      <td>46603210</td>\n",
       "      <td>46603210</td>\n",
       "      <td>JJSF</td>\n",
       "      <td>11.0</td>\n",
       "      <td>1</td>\n",
       "      <td>1</td>\n",
       "      <td>3</td>\n",
       "      <td>J &amp; J SNACK FOODS CORP</td>\n",
       "      <td>...</td>\n",
       "      <td>147.69000</td>\n",
       "      <td>-0.009988</td>\n",
       "      <td>63693</td>\n",
       "      <td>18668</td>\n",
       "      <td>1283</td>\n",
       "      <td>1.0</td>\n",
       "      <td>1.0</td>\n",
       "      <td>0.005856</td>\n",
       "      <td>0.005103</td>\n",
       "      <td>0.006399</td>\n",
       "    </tr>\n",
       "    <tr>\n",
       "      <th>2</th>\n",
       "      <td>2018-01-04</td>\n",
       "      <td>10026</td>\n",
       "      <td>46603210</td>\n",
       "      <td>46603210</td>\n",
       "      <td>JJSF</td>\n",
       "      <td>11.0</td>\n",
       "      <td>1</td>\n",
       "      <td>1</td>\n",
       "      <td>3</td>\n",
       "      <td>J &amp; J SNACK FOODS CORP</td>\n",
       "      <td>...</td>\n",
       "      <td>149.73000</td>\n",
       "      <td>0.013813</td>\n",
       "      <td>127552</td>\n",
       "      <td>18668</td>\n",
       "      <td>1138</td>\n",
       "      <td>1.0</td>\n",
       "      <td>1.0</td>\n",
       "      <td>0.004001</td>\n",
       "      <td>0.005272</td>\n",
       "      <td>0.004029</td>\n",
       "    </tr>\n",
       "    <tr>\n",
       "      <th>3</th>\n",
       "      <td>2018-01-05</td>\n",
       "      <td>10026</td>\n",
       "      <td>46603210</td>\n",
       "      <td>46603210</td>\n",
       "      <td>JJSF</td>\n",
       "      <td>11.0</td>\n",
       "      <td>1</td>\n",
       "      <td>1</td>\n",
       "      <td>3</td>\n",
       "      <td>J &amp; J SNACK FOODS CORP</td>\n",
       "      <td>...</td>\n",
       "      <td>148.30000</td>\n",
       "      <td>-0.009550</td>\n",
       "      <td>44647</td>\n",
       "      <td>18668</td>\n",
       "      <td>745</td>\n",
       "      <td>1.0</td>\n",
       "      <td>1.0</td>\n",
       "      <td>0.005804</td>\n",
       "      <td>0.003880</td>\n",
       "      <td>0.007034</td>\n",
       "    </tr>\n",
       "    <tr>\n",
       "      <th>4</th>\n",
       "      <td>2018-01-08</td>\n",
       "      <td>10026</td>\n",
       "      <td>46603210</td>\n",
       "      <td>46603210</td>\n",
       "      <td>JJSF</td>\n",
       "      <td>11.0</td>\n",
       "      <td>1</td>\n",
       "      <td>1</td>\n",
       "      <td>3</td>\n",
       "      <td>J &amp; J SNACK FOODS CORP</td>\n",
       "      <td>...</td>\n",
       "      <td>148.41000</td>\n",
       "      <td>0.000742</td>\n",
       "      <td>55014</td>\n",
       "      <td>18668</td>\n",
       "      <td>990</td>\n",
       "      <td>1.0</td>\n",
       "      <td>1.0</td>\n",
       "      <td>0.001816</td>\n",
       "      <td>0.000584</td>\n",
       "      <td>0.001662</td>\n",
       "    </tr>\n",
       "  </tbody>\n",
       "</table>\n",
       "<p>5 rows × 32 columns</p>\n",
       "</div>"
      ],
      "text/plain": [
       "        date permno_id ncusip_id  cusip_id ticker share_code share_code_type  \\\n",
       "0 2018-01-02     10026  46603210  46603210   JJSF       11.0               1   \n",
       "1 2018-01-03     10026  46603210  46603210   JJSF       11.0               1   \n",
       "2 2018-01-04     10026  46603210  46603210   JJSF       11.0               1   \n",
       "3 2018-01-05     10026  46603210  46603210   JJSF       11.0               1   \n",
       "4 2018-01-08     10026  46603210  46603210   JJSF       11.0               1   \n",
       "\n",
       "  share_code_detail exchange_code            company_name  ... close_price  \\\n",
       "0                 1             3  J & J SNACK FOODS CORP  ...   149.17999   \n",
       "1                 1             3  J & J SNACK FOODS CORP  ...   147.69000   \n",
       "2                 1             3  J & J SNACK FOODS CORP  ...   149.73000   \n",
       "3                 1             3  J & J SNACK FOODS CORP  ...   148.30000   \n",
       "4                 1             3  J & J SNACK FOODS CORP  ...   148.41000   \n",
       "\n",
       "     return  volume shares_outstanding num_trades factor_to_adjust_price  \\\n",
       "0 -0.017454  190618              18668       1036                    1.0   \n",
       "1 -0.009988   63693              18668       1283                    1.0   \n",
       "2  0.013813  127552              18668       1138                    1.0   \n",
       "3 -0.009550   44647              18668        745                    1.0   \n",
       "4  0.000742   55014              18668        990                    1.0   \n",
       "\n",
       "  factor_to_adjust_shares  value_weighted_return  equal_weighted_return  \\\n",
       "0                     1.0               0.008505               0.011232   \n",
       "1                     1.0               0.005856               0.005103   \n",
       "2                     1.0               0.004001               0.005272   \n",
       "3                     1.0               0.005804               0.003880   \n",
       "4                     1.0               0.001816               0.000584   \n",
       "\n",
       "   return_on_SP_index  \n",
       "0            0.008303  \n",
       "1            0.006399  \n",
       "2            0.004029  \n",
       "3            0.007034  \n",
       "4            0.001662  \n",
       "\n",
       "[5 rows x 32 columns]"
      ]
     },
     "execution_count": 69,
     "metadata": {},
     "output_type": "execute_result"
    }
   ],
   "source": [
    "reload = pd.read_parquet(\"/home/sagemaker-user/capstone-2024-summer/data/crsp_2018-2023_clean.parquet\")\n",
    "assert crsp_df.equals(reload)\n",
    "\n",
    "reload.head()"
   ]
  },
  {
   "cell_type": "markdown",
   "metadata": {},
   "source": [
    "# Confirm no records of < -1 return"
   ]
  },
  {
   "cell_type": "code",
   "execution_count": 70,
   "metadata": {},
   "outputs": [],
   "source": [
    "assert len(crsp_df[crsp_df[\"return\"] < -1]) == 0"
   ]
  }
 ],
 "metadata": {
  "colab": {
   "authorship_tag": "ABX9TyOxyKLKqA5wqdgfjK9Y17kf",
   "provenance": []
  },
  "kernelspec": {
   "display_name": "Python 3 (ipykernel)",
   "language": "python",
   "name": "python3"
  },
  "language_info": {
   "codemirror_mode": {
    "name": "ipython",
    "version": 3
   },
   "file_extension": ".py",
   "mimetype": "text/x-python",
   "name": "python",
   "nbconvert_exporter": "python",
   "pygments_lexer": "ipython3",
   "version": "3.10.14"
  }
 },
 "nbformat": 4,
 "nbformat_minor": 4
}
