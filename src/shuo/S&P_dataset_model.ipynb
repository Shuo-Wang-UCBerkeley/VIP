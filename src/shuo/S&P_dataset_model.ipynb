{
 "cells": [
  {
   "cell_type": "markdown",
   "id": "b892038d-4c8a-432b-a24e-1e05fa6cf5a2",
   "metadata": {},
   "source": [
    "## Setup the Env\n"
   ]
  },
  {
   "cell_type": "code",
   "execution_count": 1,
   "id": "df95683e-19cb-43fd-a388-cc4836718e65",
   "metadata": {},
   "outputs": [
    {
     "name": "stdout",
     "output_type": "stream",
     "text": [
      "sagemaker.config INFO - Not applying SDK defaults from location: /etc/xdg/sagemaker/config.yaml\n",
      "sagemaker.config INFO - Not applying SDK defaults from location: /home/sagemaker-user/.config/sagemaker/config.yaml\n",
      "/home/sagemaker-user/capstone-2024-summer/src/shuo\n"
     ]
    }
   ],
   "source": [
    "import os\n",
    "import sys\n",
    "\n",
    "import sagemaker\n",
    "from sagemaker import get_execution_role\n",
    "\n",
    "# Add the parent directory to the sys.path\n",
    "sys.path.insert(0, os.path.abspath(\"..\"))\n",
    "\n",
    "# Define IAM role\n",
    "role = get_execution_role()\n",
    "role\n",
    "\n",
    "# Establish S3 bucket connection\n",
    "import boto3\n",
    "\n",
    "s3 = boto3.client(\"s3\")\n",
    "bucket = \"capstone-bucket-4-friends\"\n",
    "\n",
    "# Take a look at current dir\n",
    "print(os.getcwd())\n",
    "\n",
    "from file_utilities import s3_download"
   ]
  },
  {
   "cell_type": "markdown",
   "id": "fe4bee1b-012e-42de-86f7-6cc7dd21286d",
   "metadata": {
    "id": "LQSFMjB4tuMW"
   },
   "source": [
    "## Import Package"
   ]
  },
  {
   "cell_type": "code",
   "execution_count": 2,
   "id": "e04c69b9-25e4-405e-bbb8-cc10cf284c7b",
   "metadata": {
    "executionInfo": {
     "elapsed": 12043,
     "status": "ok",
     "timestamp": 1718065091461,
     "user": {
      "displayName": "Shuo Wang",
      "userId": "10449608907229935685"
     },
     "user_tz": 240
    },
    "id": "S_dYEMJctir_"
   },
   "outputs": [
    {
     "name": "stdout",
     "output_type": "stream",
     "text": [
      "Collecting seaborn\n",
      "  Using cached seaborn-0.13.2-py3-none-any.whl.metadata (5.4 kB)\n",
      "Requirement already satisfied: numpy!=1.24.0,>=1.20 in /opt/conda/lib/python3.10/site-packages (from seaborn) (1.26.4)\n",
      "Requirement already satisfied: pandas>=1.2 in /opt/conda/lib/python3.10/site-packages (from seaborn) (2.1.4)\n",
      "Requirement already satisfied: matplotlib!=3.6.1,>=3.4 in /opt/conda/lib/python3.10/site-packages (from seaborn) (3.8.4)\n",
      "Requirement already satisfied: contourpy>=1.0.1 in /opt/conda/lib/python3.10/site-packages (from matplotlib!=3.6.1,>=3.4->seaborn) (1.2.1)\n",
      "Requirement already satisfied: cycler>=0.10 in /opt/conda/lib/python3.10/site-packages (from matplotlib!=3.6.1,>=3.4->seaborn) (0.12.1)\n",
      "Requirement already satisfied: fonttools>=4.22.0 in /opt/conda/lib/python3.10/site-packages (from matplotlib!=3.6.1,>=3.4->seaborn) (4.51.0)\n",
      "Requirement already satisfied: kiwisolver>=1.3.1 in /opt/conda/lib/python3.10/site-packages (from matplotlib!=3.6.1,>=3.4->seaborn) (1.4.5)\n",
      "Requirement already satisfied: packaging>=20.0 in /opt/conda/lib/python3.10/site-packages (from matplotlib!=3.6.1,>=3.4->seaborn) (23.2)\n",
      "Requirement already satisfied: pillow>=8 in /opt/conda/lib/python3.10/site-packages (from matplotlib!=3.6.1,>=3.4->seaborn) (10.3.0)\n",
      "Requirement already satisfied: pyparsing>=2.3.1 in /opt/conda/lib/python3.10/site-packages (from matplotlib!=3.6.1,>=3.4->seaborn) (3.1.2)\n",
      "Requirement already satisfied: python-dateutil>=2.7 in /opt/conda/lib/python3.10/site-packages (from matplotlib!=3.6.1,>=3.4->seaborn) (2.9.0)\n",
      "Requirement already satisfied: pytz>=2020.1 in /opt/conda/lib/python3.10/site-packages (from pandas>=1.2->seaborn) (2023.3)\n",
      "Requirement already satisfied: tzdata>=2022.1 in /opt/conda/lib/python3.10/site-packages (from pandas>=1.2->seaborn) (2024.1)\n",
      "Requirement already satisfied: six>=1.5 in /opt/conda/lib/python3.10/site-packages (from python-dateutil>=2.7->matplotlib!=3.6.1,>=3.4->seaborn) (1.16.0)\n",
      "Using cached seaborn-0.13.2-py3-none-any.whl (294 kB)\n",
      "Installing collected packages: seaborn\n",
      "Successfully installed seaborn-0.13.2\n"
     ]
    }
   ],
   "source": [
    "!pip install seaborn\n",
    "import os\n",
    "import matplotlib.pyplot as plt\n",
    "import numpy as np\n",
    "import pandas as pd\n",
    "import seaborn as sns\n",
    "import torch\n",
    "import torch.nn as nn\n",
    "from torch.utils.data import DataLoader, Dataset\n",
    "import warnings\n",
    "from sklearn.preprocessing import OneHotEncoder\n",
    "from sklearn.cluster import KMeans\n",
    "from sklearn.decomposition import PCA\n",
    "from sklearn.metrics.pairwise import cosine_similarity\n",
    "import joblib\n",
    "\n",
    "warnings.filterwarnings(\"ignore\")"
   ]
  },
  {
   "cell_type": "markdown",
   "id": "07291a15-aeea-447a-8568-3642b745b819",
   "metadata": {
    "id": "D-_nUWYHtpSp"
   },
   "source": [
    "## Load Data"
   ]
  },
  {
   "cell_type": "code",
   "execution_count": 3,
   "id": "0d574584-164f-472b-a5c3-6734a4b1bb54",
   "metadata": {},
   "outputs": [],
   "source": [
    "class FinancialDataset(Dataset):\n",
    "    def __init__(self, data, window_size=128, one_hot_encoder=None):\n",
    "        self.data = data\n",
    "        self.window_size = window_size\n",
    "        self.input_columns = [\n",
    "            \"log_return\",\n",
    "            \"sector_weighted_avg_log_return\",\n",
    "            \"sector_simple_avg_log_return\",\n",
    "            \"weighted_avg_log_return\",\n",
    "            \"simple_avg_log_return\",\n",
    "        ]\n",
    "        self.target_columns = [\n",
    "            \"log_return\",\n",
    "            \"abs_log_return\",\n",
    "            \"log_return_7\",\n",
    "            \"abs_log_return_7\",\n",
    "            \"log_return_14\",\n",
    "            \"abs_log_return_14\",\n",
    "            \"log_return_28\",\n",
    "            \"abs_log_return_28\",\n",
    "            \"volatility_7\",\n",
    "            \"volatility_14\",\n",
    "            \"volatility_28\",\n",
    "        ]\n",
    "\n",
    "        self.data[self.input_columns] = self.data[self.input_columns].apply(pd.to_numeric, errors=\"coerce\")\n",
    "        self.data[self.target_columns] = self.data[self.target_columns].apply(pd.to_numeric, errors=\"coerce\")\n",
    "        self.data = self.data.dropna()\n",
    "\n",
    "        self.one_hot_encoder = one_hot_encoder\n",
    "        if self.one_hot_encoder is None:\n",
    "            self.one_hot_encoder = OneHotEncoder(sparse_output=False)\n",
    "            self.data[\"permno_id\"] = self.data[\"permno_id\"].astype(str)\n",
    "            self.permno_one_hot = self.one_hot_encoder.fit_transform(self.data[[\"permno_id\"]])\n",
    "        else:\n",
    "            self.data[\"permno_id\"] = self.data[\"permno_id\"].astype(str)\n",
    "            self.permno_one_hot = self.one_hot_encoder.transform(self.data[[\"permno_id\"]])\n",
    "\n",
    "        # Assign positional encoding\n",
    "        self.data['positional_encoding'] = self.data.groupby(\"permno_id\").cumcount()\n",
    "        \n",
    "        # Group by permno_id\n",
    "        self.groups = self.data.groupby(\"permno_id\")\n",
    "        self.sequences = []\n",
    "\n",
    "        for name, group in self.groups:\n",
    "            permno_id_one_hot = self.one_hot_encoder.transform(group[[\"permno_id\"]])\n",
    "            if len(group) > self.window_size:\n",
    "                for i in range(len(group) - self.window_size):\n",
    "                    X = group[self.input_columns].iloc[i : i + self.window_size].values\n",
    "                    # print(X)\n",
    "                    # permno_id_one_hot_repeated = np.tile(permno_id_one_hot[i], (self.window_size, 1))\n",
    "                    # print(permno_id_one_hot_repeated.shape)\n",
    "                    # positional_encoding = np.arange(self.window_size).reshape(-1, 1)\n",
    "                    # print(positional_encoding.shape)\n",
    "                    X = np.concatenate([X, permno_id_one_hot[i:i + self.window_size]], axis=1)  # Concatenate one-hot encoded permno_id\n",
    "                    X = np.concatenate([X, group['positional_encoding'].iloc[i: i + self.window_size].values.reshape(-1, 1)], axis=1)\n",
    "                    # X = np.concatenate([X, permno_id_one_hot_repeated, positional_encoding], axis=1)\n",
    "                    # print(X.shape)\n",
    "                    y = group[self.target_columns].iloc[i + self.window_size].values\n",
    "                    self.sequences.append((X, y, name))\n",
    "\n",
    "    def __len__(self):\n",
    "        return len(self.sequences)\n",
    "\n",
    "    def __getitem__(self, idx):\n",
    "        X, y, permno_id = self.sequences[idx]\n",
    "        return {\n",
    "            \"features\": torch.tensor(X, dtype=torch.float),\n",
    "            \"target\": torch.tensor(y, dtype=torch.float),\n",
    "            \"permno_id\": permno_id,\n",
    "        }"
   ]
  },
  {
   "cell_type": "code",
   "execution_count": 4,
   "id": "1ab17132-9d2e-4c63-853d-7ebca3deb96b",
   "metadata": {},
   "outputs": [
    {
     "name": "stdout",
     "output_type": "stream",
     "text": [
      "CPU times: user 3min 50s, sys: 5min 48s, total: 9min 38s\n",
      "Wall time: 53min 13s\n"
     ]
    }
   ],
   "source": [
    "%%time\n",
    "# Load datasets\n",
    "train_dataset = joblib.load('/home/sagemaker-user/capstone-2024-summer/data/crsp_2018-2023_S&P500_train_dataset.pkl')\n",
    "val_dataset = joblib.load('/home/sagemaker-user/capstone-2024-summer/data/crsp_2018-2023_S&P500_val_dataset.pkl')\n",
    "\n",
    "train_dataloader = DataLoader(train_dataset, batch_size=32, shuffle=False)\n",
    "val_dataloader = DataLoader(val_dataset, batch_size=32, shuffle=False)"
   ]
  },
  {
   "cell_type": "code",
   "execution_count": 7,
   "id": "2ad0e024-91f6-4aae-826c-503f774b6e4d",
   "metadata": {},
   "outputs": [],
   "source": [
    "# Load the OneHotEncoder if needed for further processing\n",
    "one_hot_encoder = joblib.load('/home/sagemaker-user/capstone-2024-summer/data/one_hot_encoder.pkl')"
   ]
  },
  {
   "cell_type": "markdown",
   "id": "e456ac44-3912-40a1-89d9-08a7b75063ab",
   "metadata": {},
   "source": [
    "## Build and Train Model"
   ]
  },
  {
   "cell_type": "code",
   "execution_count": 5,
   "id": "7ddf6e60-8308-4301-8913-66114dfbcf02",
   "metadata": {},
   "outputs": [
    {
     "name": "stdout",
     "output_type": "stream",
     "text": [
      "CPU times: user 21 µs, sys: 0 ns, total: 21 µs\n",
      "Wall time: 22.4 µs\n"
     ]
    }
   ],
   "source": [
    "%%time\n",
    "class TransformerModel(nn.Module):\n",
    "    def __init__(\n",
    "        self,\n",
    "        input_dim,\n",
    "        embed_dim,\n",
    "        n_heads,\n",
    "        ff_dim,\n",
    "        n_layers,\n",
    "        output_dim,\n",
    "        hidden_dims=[256, 128],\n",
    "        dropout=0.25,\n",
    "        attn_dropout=0.1,\n",
    "        residual_dropout=0.1,\n",
    "    ):\n",
    "        super(TransformerModel, self).__init__()\n",
    "        self.embedding = nn.Linear(input_dim, embed_dim)\n",
    "        encoder_layer = nn.TransformerEncoderLayer(\n",
    "            d_model=embed_dim, nhead=n_heads, dim_feedforward=ff_dim, dropout=attn_dropout\n",
    "        )\n",
    "        self.transformer = nn.TransformerEncoder(encoder_layer, num_layers=n_layers)\n",
    "\n",
    "        self.hidden_layers = nn.Sequential(\n",
    "            nn.Linear(embed_dim, hidden_dims[0]),\n",
    "            nn.ReLU(),\n",
    "            nn.Dropout(dropout),\n",
    "            nn.Linear(hidden_dims[0], hidden_dims[1]),\n",
    "            nn.ReLU(),\n",
    "            nn.Dropout(dropout),\n",
    "        )\n",
    "        self.fc = nn.Linear(hidden_dims[1], output_dim)\n",
    "\n",
    "    def forward(self, x):\n",
    "        x = self.embedding(x)\n",
    "        x = x.transpose(0, 1)  # Transformer expects input of shape (seq_len, batch_size, embed_dim))\n",
    "        x = self.transformer(x)\n",
    "        embedding = x[-1, :, :]  # Get the last output token\n",
    "        x = self.hidden_layers(embedding)\n",
    "        x = self.fc(x)\n",
    "        return x, embedding"
   ]
  },
  {
   "cell_type": "code",
   "execution_count": 6,
   "id": "32b26000-bdd1-48bc-a84e-709dfccb14b1",
   "metadata": {},
   "outputs": [
    {
     "ename": "NameError",
     "evalue": "name 'one_hot_encoder' is not defined",
     "output_type": "error",
     "traceback": [
      "\u001b[0;31m---------------------------------------------------------------------------\u001b[0m",
      "\u001b[0;31mNameError\u001b[0m                                 Traceback (most recent call last)",
      "Cell \u001b[0;32mIn[6], line 3\u001b[0m\n\u001b[1;32m      1\u001b[0m \u001b[38;5;66;03m# Initialize Model\u001b[39;00m\n\u001b[1;32m      2\u001b[0m \u001b[38;5;66;03m# Update input_dim to include one-hot encoded permno_id length\u001b[39;00m\n\u001b[0;32m----> 3\u001b[0m input_dim \u001b[38;5;241m=\u001b[39m \u001b[38;5;28mlen\u001b[39m(train_dataset\u001b[38;5;241m.\u001b[39minput_columns) \u001b[38;5;241m+\u001b[39m \u001b[38;5;28mlen\u001b[39m(\u001b[43mone_hot_encoder\u001b[49m\u001b[38;5;241m.\u001b[39mcategories_[\u001b[38;5;241m0\u001b[39m]) \u001b[38;5;241m+\u001b[39m \u001b[38;5;241m1\u001b[39m\n\u001b[1;32m      4\u001b[0m model \u001b[38;5;241m=\u001b[39m TransformerModel(\n\u001b[1;32m      5\u001b[0m     input_dim\u001b[38;5;241m=\u001b[39minput_dim,\n\u001b[1;32m      6\u001b[0m     embed_dim\u001b[38;5;241m=\u001b[39m\u001b[38;5;241m256\u001b[39m,\n\u001b[0;32m   (...)\u001b[0m\n\u001b[1;32m     13\u001b[0m     residual_dropout\u001b[38;5;241m=\u001b[39m\u001b[38;5;241m0.1\u001b[39m,\n\u001b[1;32m     14\u001b[0m )\n\u001b[1;32m     15\u001b[0m device \u001b[38;5;241m=\u001b[39m torch\u001b[38;5;241m.\u001b[39mdevice(\u001b[38;5;124m\"\u001b[39m\u001b[38;5;124mcuda\u001b[39m\u001b[38;5;124m\"\u001b[39m \u001b[38;5;28;01mif\u001b[39;00m torch\u001b[38;5;241m.\u001b[39mcuda\u001b[38;5;241m.\u001b[39mis_available() \u001b[38;5;28;01melse\u001b[39;00m \u001b[38;5;124m\"\u001b[39m\u001b[38;5;124mcpu\u001b[39m\u001b[38;5;124m\"\u001b[39m)\n",
      "\u001b[0;31mNameError\u001b[0m: name 'one_hot_encoder' is not defined"
     ]
    }
   ],
   "source": [
    "# Initialize Model\n",
    "# Update input_dim to include one-hot encoded permno_id length\n",
    "input_dim = len(train_dataset.input_columns) + len(one_hot_encoder.categories_[0]) + 1\n",
    "model = TransformerModel(\n",
    "    input_dim=input_dim,\n",
    "    embed_dim=256,\n",
    "    n_heads=16,\n",
    "    ff_dim=1024,\n",
    "    n_layers=6,\n",
    "    output_dim=len(train_dataset.target_columns),\n",
    "    dropout=0.25,\n",
    "    attn_dropout=0.1,\n",
    "    residual_dropout=0.1,\n",
    ")\n",
    "device = torch.device(\"cuda\" if torch.cuda.is_available() else \"cpu\")\n",
    "model.to(device)\n",
    "\n",
    "# Training Loop\n",
    "optimizer = torch.optim.RAdam(model.parameters(), lr=0.00005)\n",
    "criterion = nn.L1Loss()\n",
    "\n",
    "train_losses = []\n",
    "val_losses = []\n",
    "\n",
    "num_epochs = 10\n",
    "patience = 5\n",
    "best_val_loss = float(\"inf\")\n",
    "patience_counter = 0\n",
    "\n",
    "print(\"Starting Training...\")\n",
    "for epoch in range(num_epochs):\n",
    "    model.train()\n",
    "    running_loss = 0.0\n",
    "    for batch in train_dataloader:\n",
    "        optimizer.zero_grad()\n",
    "        output, _ = model(batch[\"features\"].to(device))\n",
    "        loss = criterion(output, batch[\"target\"].to(device))\n",
    "        loss.backward()\n",
    "        optimizer.step()\n",
    "        running_loss += loss.item()\n",
    "    train_losses.append(running_loss / len(train_dataloader))\n",
    "\n",
    "    model.eval()\n",
    "    val_loss = 0.0\n",
    "    with torch.no_grad():\n",
    "        for batch in val_dataloader:\n",
    "            output, _ = model(batch[\"features\"].to(device))\n",
    "            loss = criterion(output, batch[\"target\"].to(device))\n",
    "            val_loss += loss.item()\n",
    "    val_losses.append(val_loss / len(val_dataloader))\n",
    "\n",
    "    print(f\"Epoch {epoch+1}/{num_epochs}, Training Loss: {train_losses[-1]}, Validation Loss: {val_losses[-1]}\")\n",
    "\n",
    "    if val_losses[-1] < best_val_loss:\n",
    "        best_val_loss = val_losses[-1]\n",
    "        patience_counter = 0\n",
    "    else:\n",
    "        patience_counter += 1\n",
    "        if patience_counter >= patience:\n",
    "            print(\"Early stopping triggered.\")\n",
    "            break\n",
    "\n",
    "print(\"Training Complete\")\n",
    "\n",
    "# Plot the training and validation loss\n",
    "plt.figure(figsize=(10, 5))\n",
    "plt.plot(train_losses, label=\"Training Loss\")\n",
    "plt.plot(val_losses, label=\"Validation Loss\")\n",
    "plt.xlabel(\"Epochs\")\n",
    "plt.ylabel(\"Loss\")\n",
    "plt.title(\"Training and Validation Loss\")\n",
    "plt.legend()\n",
    "plt.show()\n"
   ]
  },
  {
   "cell_type": "code",
   "execution_count": null,
   "id": "f054f360-26f1-4e6d-b1d8-147698d093c4",
   "metadata": {},
   "outputs": [],
   "source": []
  },
  {
   "cell_type": "markdown",
   "id": "c678cd46-5b58-4064-92c9-507c6f6d6181",
   "metadata": {},
   "source": [
    "## Stock Embedding"
   ]
  },
  {
   "cell_type": "code",
   "execution_count": 33,
   "id": "40b01438-d676-4188-9f95-25808041e44c",
   "metadata": {
    "executionInfo": {
     "elapsed": 1,
     "status": "ok",
     "timestamp": 1718069531047,
     "user": {
      "displayName": "Shuo Wang",
      "userId": "10449608907229935685"
     },
     "user_tz": 240
    },
    "id": "7iLalbQtaTbW"
   },
   "outputs": [],
   "source": [
    "# Extract embeddings for each stock\n",
    "stock_embeddings = {}\n",
    "model.eval()\n",
    "with torch.no_grad():\n",
    "    for batch in train_dataloader:\n",
    "        _, embeddings = model(batch[\"features\"].to(device))\n",
    "        for i, permno_id in enumerate(batch[\"permno_id\"]):\n",
    "            if permno_id not in stock_embeddings:\n",
    "                stock_embeddings[permno_id] = []\n",
    "            stock_embeddings[permno_id].append(embeddings[i].cpu().numpy())"
   ]
  },
  {
   "cell_type": "code",
   "execution_count": 34,
   "id": "984982d3-5f7b-4e03-98b3-49786756d7f0",
   "metadata": {
    "executionInfo": {
     "elapsed": 2,
     "status": "ok",
     "timestamp": 1718069532230,
     "user": {
      "displayName": "Shuo Wang",
      "userId": "10449608907229935685"
     },
     "user_tz": 240
    },
    "id": "O1cln6RIaXCL"
   },
   "outputs": [],
   "source": [
    "# Average the embeddings for each stock\n",
    "for permno_id in stock_embeddings:\n",
    "    stock_embeddings[permno_id] = np.mean(stock_embeddings[permno_id], axis=0)"
   ]
  },
  {
   "cell_type": "code",
   "execution_count": 35,
   "id": "ff9e6fbf-aef1-4da8-9d91-de920988125e",
   "metadata": {
    "colab": {
     "base_uri": "https://localhost:8080/"
    },
    "executionInfo": {
     "elapsed": 294,
     "status": "ok",
     "timestamp": 1718069534311,
     "user": {
      "displayName": "Shuo Wang",
      "userId": "10449608907229935685"
     },
     "user_tz": 240
    },
    "id": "yOepc717aYSG",
    "outputId": "6e4e9e7f-6f1a-4fdb-9bbb-759c93296f53"
   },
   "outputs": [
    {
     "data": {
      "text/plain": [
       "[('10104',\n",
       "  array([ 8.4816766e-01, -1.5194374e+00,  5.9012413e-01, -5.6201398e-01,\n",
       "          7.6335293e-01, -4.5656464e-01, -5.3003037e-01, -9.2574376e-01,\n",
       "         -1.2043912e+00,  6.4523458e-01,  3.3464134e-01, -1.7061759e+00,\n",
       "         -1.2175984e+00,  1.2132494e+00, -2.8131682e-02,  2.1662381e+00,\n",
       "          3.7906647e-01,  1.0697567e+00,  1.1021727e+00, -7.3253524e-01,\n",
       "          1.1026136e+00,  8.9342844e-01,  1.4283441e+00, -1.9291799e-01,\n",
       "         -4.1078594e-01,  1.1794630e+00, -4.8431557e-01, -4.5568582e-01,\n",
       "          1.1761404e+00, -2.2393908e-01,  1.6652354e+00, -6.9927013e-01,\n",
       "          3.2872522e-01,  5.7171303e-01, -8.5946906e-01, -1.0537200e+00,\n",
       "         -1.5642016e+00, -1.5888990e+00, -9.4908351e-01, -1.5516607e+00,\n",
       "         -4.6480864e-02, -1.4805536e+00,  6.1790133e-01,  4.9487892e-01,\n",
       "          4.1143429e-01,  1.0928814e+00, -1.6546495e+00,  8.0822176e-01,\n",
       "          6.0433197e-01,  1.5548137e+00, -4.1606587e-01,  2.2853872e-01,\n",
       "         -1.0394421e+00, -3.9808327e-01, -6.2435442e-01, -6.3569152e-01,\n",
       "          8.9344299e-01,  1.0991337e-01, -1.2044548e-01,  2.5958759e-01,\n",
       "         -7.6878744e-01,  1.8350337e-01, -1.6504493e+00,  3.5098425e-01,\n",
       "          6.1576682e-01,  2.7649796e-02, -3.8635224e-01,  1.8829802e-01,\n",
       "          2.3970025e+00,  1.2033094e+00, -5.8978522e-01, -5.8205736e-01,\n",
       "          2.3657081e-01,  7.9927750e-02, -2.0703499e-01, -2.6113456e-01,\n",
       "         -5.3825122e-01, -8.2075357e-01, -2.2424115e-01, -5.6594813e-01,\n",
       "          6.5968609e-01,  1.1206435e+00,  3.0477625e-01, -1.5290918e+00,\n",
       "         -6.6328698e-01, -1.2665513e+00,  1.7407187e+00, -8.1184369e-01,\n",
       "         -1.2957220e+00, -2.7053687e-01, -8.3989257e-01,  1.6882665e+00,\n",
       "         -7.5604409e-01, -9.5111597e-03, -1.7869292e+00, -9.7393543e-01,\n",
       "          1.9954981e+00,  2.2795744e+00, -6.3389122e-01, -4.2800751e-01,\n",
       "         -3.4601948e-01,  4.5931476e-01,  7.6602995e-01, -1.4625305e-01,\n",
       "          8.6423528e-01, -5.8292892e-02,  8.4544855e-01,  5.2670723e-01,\n",
       "          3.0014566e-01, -2.5270097e+00, -4.2226595e-01, -3.3472568e-01,\n",
       "         -1.4292768e-01, -7.6500684e-01, -2.3345634e-01, -1.0479605e+00,\n",
       "         -2.4902588e-01,  2.4091810e-01, -6.4644706e-03, -7.3041475e-01,\n",
       "         -4.8477608e-01, -5.1964980e-01,  2.1421731e+00,  1.9407268e-01,\n",
       "          1.4107583e+00,  2.1439791e+00, -1.8044370e+00, -7.2249752e-01,\n",
       "         -9.7116637e-01,  4.6896356e-01,  6.9879614e-02, -7.2820890e-01,\n",
       "          2.5534089e+00,  7.9652154e-01,  5.9291208e-01,  1.1459544e+00,\n",
       "          2.9228216e-01,  1.1008924e+00,  8.0167049e-01, -6.2375402e-01,\n",
       "          1.1777263e+00, -5.5607224e-01,  2.8065103e-01,  7.4071616e-01,\n",
       "         -3.6155671e-01,  6.3743860e-01, -5.9225953e-01,  1.1255269e+00,\n",
       "          1.8647408e-02, -1.3300598e+00,  6.3410652e-01,  6.7093551e-01,\n",
       "         -1.7282162e+00, -3.1526286e-02,  5.4553646e-01,  7.4024743e-01,\n",
       "          1.0601297e-01,  4.1189712e-01,  1.0574404e-01,  1.0350498e+00,\n",
       "          2.6830617e-02, -8.8530773e-01, -1.4718257e+00, -4.4040653e-01,\n",
       "          3.4290862e-01, -2.6698044e-01, -9.5586514e-01, -5.4663920e-01,\n",
       "          3.0392843e-01, -1.1541617e+00, -7.4117374e-01,  1.5155590e+00,\n",
       "         -7.1394122e-01,  9.7990763e-01, -1.8468872e+00, -1.8112018e+00,\n",
       "         -1.7131712e+00, -5.1758772e-01, -1.0203450e+00, -5.7301855e-01,\n",
       "          8.8758188e-01,  3.7692973e-01, -5.2907562e-01,  1.6847382e-01,\n",
       "         -2.1057451e+00, -6.0539985e-01, -1.8083987e+00, -5.9953338e-01,\n",
       "          1.6097553e+00,  3.9452806e-01, -1.4302458e+00,  1.4284384e+00,\n",
       "         -9.8430477e-03, -1.4032638e+00,  4.3022600e-03,  7.7124673e-01,\n",
       "         -7.1733350e-01, -1.4720147e+00, -9.2846307e-04,  5.2958131e-02,\n",
       "          8.5635221e-01,  1.0676789e+00,  2.5436881e+00, -4.3887857e-01,\n",
       "          3.5875434e-01,  5.4515797e-01, -1.0214225e+00,  1.5682666e+00,\n",
       "         -3.2967481e-01, -1.0180022e+00,  3.5099682e-01,  1.3398267e+00,\n",
       "          2.8819308e-01, -8.4025890e-01, -9.4671893e-01,  2.0487750e+00,\n",
       "         -6.2385172e-02,  1.1411278e+00,  9.6597272e-01,  2.7722836e-01,\n",
       "          8.7973535e-01, -9.5262080e-01, -1.1688335e+00,  1.5842617e-01,\n",
       "         -1.3831702e+00,  2.3139827e+00, -9.8275846e-01, -4.4155970e-01,\n",
       "         -1.3570881e-01, -1.3736247e-01, -6.6310652e-02, -7.6150155e-01,\n",
       "         -2.2788750e-01,  2.8377524e-01, -1.0297679e+00,  4.9805900e-01,\n",
       "          7.6412618e-01,  2.0164175e-01, -8.9745855e-01, -1.0871443e+00,\n",
       "          1.9005635e+00,  1.6154420e-01,  1.1776935e+00,  3.2307012e+00,\n",
       "         -1.4375905e+00,  7.7891266e-01, -1.7925197e-01,  1.2957975e+00,\n",
       "         -4.0048787e-01, -1.2558718e-01, -5.7963230e-02, -2.9651576e-01,\n",
       "         -3.4789175e-01,  1.2450430e-01,  8.9546865e-01,  3.3668476e-01],\n",
       "        dtype=float32))]"
      ]
     },
     "execution_count": 35,
     "metadata": {},
     "output_type": "execute_result"
    }
   ],
   "source": [
    "list(stock_embeddings.items())[:2]"
   ]
  },
  {
   "cell_type": "markdown",
   "id": "136a532d-fa79-49dc-864e-fc55bc71e6a8",
   "metadata": {},
   "source": [
    "## Cosine Similarity Matrix"
   ]
  },
  {
   "cell_type": "code",
   "execution_count": 36,
   "id": "379ffcf5-c3b7-4169-b8df-31ff46208d42",
   "metadata": {},
   "outputs": [
    {
     "data": {
      "text/plain": [
       "array([[1.]], dtype=float32)"
      ]
     },
     "execution_count": 36,
     "metadata": {},
     "output_type": "execute_result"
    }
   ],
   "source": [
    "# Assuming stock_embeddings is a dictionary with permno_id as keys and embeddings as values\n",
    "embeddings_list = []\n",
    "permno_ids = []\n",
    "\n",
    "for permno_id, embedding in stock_embeddings.items():\n",
    "    permno_ids.append(permno_id)\n",
    "    embeddings_list.append(embedding)\n",
    "\n",
    "# Convert the list of embeddings to a numpy array\n",
    "embeddings_array = np.array(embeddings_list)\n",
    "\n",
    "# Transform embeddings using cosine similarity\n",
    "cosine_sim_matrix = cosine_similarity(embeddings_array)\n",
    "cosine_sim_matrix"
   ]
  },
  {
   "cell_type": "markdown",
   "id": "406fec60-3259-4c45-ba3e-85d620608f11",
   "metadata": {},
   "source": [
    "## Model Features Check"
   ]
  },
  {
   "cell_type": "code",
   "execution_count": 37,
   "id": "94d98c3e-d74d-47d5-8f7d-ef17a933e659",
   "metadata": {
    "scrolled": true
   },
   "outputs": [
    {
     "name": "stdout",
     "output_type": "stream",
     "text": [
      "{'features': tensor([[[-1.3843e-02,  0.0000e+00,  0.0000e+00,  ...,  0.0000e+00,\n",
      "           0.0000e+00,  0.0000e+00],\n",
      "         [ 2.2897e-02,  6.4040e-03,  4.8720e-03,  ...,  0.0000e+00,\n",
      "           0.0000e+00,  1.0000e+00],\n",
      "         [ 9.8028e-03,  4.0480e-03,  9.6000e-04,  ...,  0.0000e+00,\n",
      "           0.0000e+00,  2.0000e+00],\n",
      "         ...,\n",
      "         [ 1.0467e-02,  2.1420e-03,  5.3540e-03,  ...,  0.0000e+00,\n",
      "           0.0000e+00,  4.0000e+00],\n",
      "         [ 5.4969e-03, -2.6340e-03, -2.7040e-03,  ...,  0.0000e+00,\n",
      "           0.0000e+00,  5.0000e+00],\n",
      "         [-5.3141e-03, -2.4190e-03, -1.9280e-03,  ...,  0.0000e+00,\n",
      "           0.0000e+00,  6.0000e+00]],\n",
      "\n",
      "        [[ 2.2897e-02,  6.4040e-03,  4.8720e-03,  ...,  0.0000e+00,\n",
      "           0.0000e+00,  1.0000e+00],\n",
      "         [ 9.8028e-03,  4.0480e-03,  9.6000e-04,  ...,  0.0000e+00,\n",
      "           0.0000e+00,  2.0000e+00],\n",
      "         [ 6.0010e-03,  9.5810e-03,  6.7220e-03,  ...,  0.0000e+00,\n",
      "           0.0000e+00,  3.0000e+00],\n",
      "         ...,\n",
      "         [ 5.4969e-03, -2.6340e-03, -2.7040e-03,  ...,  0.0000e+00,\n",
      "           0.0000e+00,  5.0000e+00],\n",
      "         [-5.3141e-03, -2.4190e-03, -1.9280e-03,  ...,  0.0000e+00,\n",
      "           0.0000e+00,  6.0000e+00],\n",
      "         [ 3.0693e-03,  6.4650e-03,  9.7550e-03,  ...,  0.0000e+00,\n",
      "           0.0000e+00,  7.0000e+00]],\n",
      "\n",
      "        [[ 9.8028e-03,  4.0480e-03,  9.6000e-04,  ...,  0.0000e+00,\n",
      "           0.0000e+00,  2.0000e+00],\n",
      "         [ 6.0010e-03,  9.5810e-03,  6.7220e-03,  ...,  0.0000e+00,\n",
      "           0.0000e+00,  3.0000e+00],\n",
      "         [ 1.0467e-02,  2.1420e-03,  5.3540e-03,  ...,  0.0000e+00,\n",
      "           0.0000e+00,  4.0000e+00],\n",
      "         ...,\n",
      "         [-5.3141e-03, -2.4190e-03, -1.9280e-03,  ...,  0.0000e+00,\n",
      "           0.0000e+00,  6.0000e+00],\n",
      "         [ 3.0693e-03,  6.4650e-03,  9.7550e-03,  ...,  0.0000e+00,\n",
      "           0.0000e+00,  7.0000e+00],\n",
      "         [ 1.1375e-02,  4.3480e-03,  6.7180e-03,  ...,  0.0000e+00,\n",
      "           0.0000e+00,  8.0000e+00]],\n",
      "\n",
      "        ...,\n",
      "\n",
      "        [[ 7.0362e-03,  3.6530e-03,  8.6740e-03,  ...,  0.0000e+00,\n",
      "           0.0000e+00,  2.9000e+01],\n",
      "         [ 1.9605e-02,  1.4844e-02,  1.8032e-02,  ...,  0.0000e+00,\n",
      "           0.0000e+00,  3.0000e+01],\n",
      "         [ 2.3780e-02,  1.5021e-02,  1.4210e-02,  ...,  0.0000e+00,\n",
      "           0.0000e+00,  3.1000e+01],\n",
      "         ...,\n",
      "         [-1.6302e-02, -3.7510e-03, -2.2010e-03,  ...,  0.0000e+00,\n",
      "           0.0000e+00,  3.3000e+01],\n",
      "         [-9.2628e-03, -2.4600e-03,  2.5630e-03,  ...,  0.0000e+00,\n",
      "           0.0000e+00,  3.4000e+01],\n",
      "         [ 3.2318e-03, -2.7000e-04, -5.6030e-03,  ...,  0.0000e+00,\n",
      "           0.0000e+00,  3.5000e+01]],\n",
      "\n",
      "        [[ 1.9605e-02,  1.4844e-02,  1.8032e-02,  ...,  0.0000e+00,\n",
      "           0.0000e+00,  3.0000e+01],\n",
      "         [ 2.3780e-02,  1.5021e-02,  1.4210e-02,  ...,  0.0000e+00,\n",
      "           0.0000e+00,  3.1000e+01],\n",
      "         [ 1.3810e-03, -2.3730e-03, -1.4350e-03,  ...,  0.0000e+00,\n",
      "           0.0000e+00,  3.2000e+01],\n",
      "         ...,\n",
      "         [-9.2628e-03, -2.4600e-03,  2.5630e-03,  ...,  0.0000e+00,\n",
      "           0.0000e+00,  3.4000e+01],\n",
      "         [ 3.2318e-03, -2.7000e-04, -5.6030e-03,  ...,  0.0000e+00,\n",
      "           0.0000e+00,  3.5000e+01],\n",
      "         [ 1.8184e-02,  1.9901e-02,  1.7850e-02,  ...,  0.0000e+00,\n",
      "           0.0000e+00,  3.6000e+01]],\n",
      "\n",
      "        [[ 2.3780e-02,  1.5021e-02,  1.4210e-02,  ...,  0.0000e+00,\n",
      "           0.0000e+00,  3.1000e+01],\n",
      "         [ 1.3810e-03, -2.3730e-03, -1.4350e-03,  ...,  0.0000e+00,\n",
      "           0.0000e+00,  3.2000e+01],\n",
      "         [-1.6302e-02, -3.7510e-03, -2.2010e-03,  ...,  0.0000e+00,\n",
      "           0.0000e+00,  3.3000e+01],\n",
      "         ...,\n",
      "         [ 3.2318e-03, -2.7000e-04, -5.6030e-03,  ...,  0.0000e+00,\n",
      "           0.0000e+00,  3.5000e+01],\n",
      "         [ 1.8184e-02,  1.9901e-02,  1.7850e-02,  ...,  0.0000e+00,\n",
      "           0.0000e+00,  3.6000e+01],\n",
      "         [ 1.3180e-02,  1.0794e-02,  6.6170e-03,  ...,  0.0000e+00,\n",
      "           0.0000e+00,  3.7000e+01]]]), 'target': tensor([[ 3.0693e-03,  3.0693e-03,  2.4991e-01,  2.4991e-01,  7.0934e-02,\n",
      "          7.0934e-02,  4.1840e-03,  4.1840e-03,  8.4245e-02,  1.7190e-01,\n",
      "          2.8577e-01],\n",
      "        [ 1.1375e-02,  1.1375e-02,  2.1855e-01,  2.1855e-01,  1.6128e-02,\n",
      "          1.6128e-02,  6.3840e-03,  6.3840e-03,  7.6333e-02,  2.1820e-01,\n",
      "          2.8891e-01],\n",
      "        [ 1.6147e-03,  1.6147e-03,  2.2670e-01,  2.2670e-01, -3.8723e-02,\n",
      "          3.8723e-02,  1.0132e-02,  1.0132e-02,  7.3927e-02,  2.8271e-01,\n",
      "          2.9132e-01],\n",
      "        [ 1.3619e-02,  1.3619e-02,  2.8101e-01,  2.8101e-01, -2.2197e-02,\n",
      "          2.2197e-02,  2.9320e-03,  2.9320e-03,  1.1679e-01,  3.0202e-01,\n",
      "          2.9006e-01],\n",
      "        [-7.9632e-04,  7.9632e-04,  1.8787e-01,  1.8787e-01, -3.4676e-02,\n",
      "          3.4676e-02,  2.8071e-03,  2.8071e-03,  1.7567e-01,  3.0470e-01,\n",
      "          2.9007e-01],\n",
      "        [ 6.9438e-03,  6.9438e-03,  3.9240e-02,  3.9240e-02, -9.4047e-02,\n",
      "          9.4047e-02, -5.5615e-03,  5.5615e-03,  2.2463e-01,  3.4593e-01,\n",
      "          2.9501e-01],\n",
      "        [ 2.5667e-03,  2.5667e-03,  9.2513e-02,  9.2513e-02, -7.4913e-02,\n",
      "          7.4913e-02, -2.4787e-03,  2.4787e-03,  2.3470e-01,  3.5987e-01,\n",
      "          2.9739e-01],\n",
      "        [ 8.0525e-03,  8.0525e-03,  5.2378e-02,  5.2378e-02, -7.4069e-02,\n",
      "          7.4069e-02,  1.0677e-03,  1.0677e-03,  2.3146e-01,  3.6035e-01,\n",
      "          3.0208e-01],\n",
      "        [ 6.4343e-03,  6.4343e-03, -1.2512e-01,  1.2512e-01, -7.3352e-02,\n",
      "          7.3352e-02,  3.1227e-04,  3.1227e-04,  2.9134e-01,  3.6071e-01,\n",
      "          3.0170e-01],\n",
      "        [ 2.9108e-03,  2.9108e-03, -3.0392e-01,  3.0392e-01, -5.3248e-02,\n",
      "          5.3248e-02,  7.4712e-04,  7.4712e-04,  3.6234e-01,  3.7383e-01,\n",
      "          3.0185e-01],\n",
      "        [ 2.2042e-02,  2.2042e-02, -2.8640e-01,  2.8640e-01, -5.1130e-02,\n",
      "          5.1130e-02, -3.7930e-03,  3.7930e-03,  3.8101e-01,  3.7615e-01,\n",
      "          2.9515e-01],\n",
      "        [-1.5474e-02,  1.5474e-02, -2.6899e-01,  2.6899e-01, -3.0343e-02,\n",
      "          3.0343e-02,  6.3317e-03,  6.3317e-03,  3.7889e-01,  3.7202e-01,\n",
      "          2.9527e-01],\n",
      "        [-1.9048e-02,  1.9048e-02, -3.5180e-01,  3.5180e-01, -2.6914e-02,\n",
      "          2.6914e-02,  1.2082e-02,  1.2082e-02,  4.2843e-01,  3.6972e-01,\n",
      "          2.8892e-01],\n",
      "        [ 1.2287e-02,  1.2287e-02, -3.2965e-01,  3.2965e-01, -5.3505e-02,\n",
      "          5.3505e-02,  6.1286e-03,  6.1286e-03,  4.4547e-01,  3.6540e-01,\n",
      "          2.8767e-01],\n",
      "        [ 7.7470e-04,  7.7470e-04, -3.0154e-01,  3.0154e-01, -5.0510e-02,\n",
      "          5.0510e-02,  4.2766e-03,  4.2766e-03,  4.5685e-01,  3.6605e-01,\n",
      "          2.8817e-01],\n",
      "        [-2.9483e-02,  2.9483e-02, -1.5723e-01,  1.5723e-01,  9.5007e-03,\n",
      "          9.5007e-03,  1.4151e-02,  1.4151e-02,  4.4369e-01,  3.5458e-01,\n",
      "          2.7269e-01],\n",
      "        [-4.1545e-02,  4.1545e-02,  1.5422e-01,  1.5422e-01,  8.3088e-02,\n",
      "          8.3088e-02,  2.7153e-02,  2.7153e-02,  3.7747e-01,  3.0062e-01,\n",
      "          2.3792e-01],\n",
      "        [ 2.6877e-02,  2.6877e-02,  1.3598e-01,  1.3598e-01,  3.4747e-02,\n",
      "          3.4747e-02,  1.6310e-02,  1.6310e-02,  3.6997e-01,  2.8666e-01,\n",
      "          2.2735e-01],\n",
      "        [-1.0787e-02,  1.0787e-02,  2.0934e-01,  2.0934e-01,  4.7603e-02,\n",
      "          4.7603e-02, -1.2124e-02,  1.2124e-02,  3.5716e-01,  2.8127e-01,\n",
      "          3.7759e-01],\n",
      "        [-4.2426e-02,  4.2426e-02,  3.8324e-01,  3.8324e-01,  7.9459e-02,\n",
      "          7.9459e-02,  1.2342e-03,  1.2342e-03,  2.1781e-01,  2.1961e-01,\n",
      "          3.5532e-01],\n",
      "        [ 1.8823e-02,  1.8823e-02,  1.9721e-01,  1.9721e-01,  7.0301e-02,\n",
      "          7.0301e-02, -1.2556e-02,  1.2556e-02,  2.2955e-01,  2.1277e-01,\n",
      "          3.5771e-01],\n",
      "        [ 8.7615e-03,  8.7615e-03,  1.6364e-01,  1.6364e-01,  8.4614e-02,\n",
      "          8.4614e-02, -2.2982e-02,  2.2982e-02,  2.2814e-01,  2.2179e-01,\n",
      "          3.6264e-01],\n",
      "        [ 7.0362e-03,  7.0362e-03,  2.3230e-01,  2.3230e-01,  8.0507e-02,\n",
      "          8.0507e-02, -1.3515e-02,  1.3515e-02,  2.4324e-01,  2.2150e-01,\n",
      "          3.8078e-01],\n",
      "        [ 1.9605e-02,  1.9605e-02,  1.9225e-01,  1.9225e-01,  5.9403e-02,\n",
      "          5.9403e-02, -2.7229e-02,  2.7229e-02,  2.3066e-01,  2.1023e-01,\n",
      "          3.8065e-01],\n",
      "        [ 2.3780e-02,  2.3780e-02,  9.1711e-03,  9.1711e-03,  3.7987e-02,\n",
      "          3.7987e-02, -3.7380e-02,  3.7380e-02,  1.9895e-01,  1.8991e-01,\n",
      "          3.7166e-01],\n",
      "        [ 1.3810e-03,  1.3810e-03, -4.0526e-03,  4.0526e-03,  5.7661e-02,\n",
      "          5.7661e-02, -3.2543e-02,  3.2543e-02,  1.9893e-01,  1.9878e-01,\n",
      "          3.7676e-01],\n",
      "        [-1.6302e-02,  1.6302e-02, -1.8421e-02,  1.8421e-02,  7.8230e-02,\n",
      "          7.8230e-02, -3.2544e-02,  3.2544e-02,  2.0906e-01,  1.7966e-01,\n",
      "          3.7676e-01],\n",
      "        [-9.2628e-03,  9.2628e-03,  9.6111e-02,  9.6111e-02,  8.2669e-02,\n",
      "          8.2669e-02, -3.0492e-02,  3.0492e-02,  2.1099e-01,  1.7549e-01,\n",
      "          3.7637e-01],\n",
      "        [ 3.2318e-03,  3.2318e-03,  1.8927e-01,  1.8927e-01,  7.1329e-02,\n",
      "          7.1329e-02, -2.7219e-02,  2.7219e-02,  2.3342e-01,  1.7994e-01,\n",
      "          3.7941e-01],\n",
      "        [ 1.8184e-02,  1.8184e-02,  1.0610e-01,  1.0610e-01,  4.7860e-02,\n",
      "          4.7860e-02, -2.9824e-02,  2.9824e-02,  2.1403e-01,  1.6772e-01,\n",
      "          3.7586e-01],\n",
      "        [ 1.3180e-02,  1.3180e-02,  5.6521e-02,  5.6521e-02,  2.7725e-02,\n",
      "          2.7725e-02, -4.1625e-02,  4.1625e-02,  2.0223e-01,  1.6137e-01,\n",
      "          3.7757e-01],\n",
      "        [-8.6362e-03,  8.6362e-03,  1.5028e-01,  1.5028e-01,  3.1027e-02,\n",
      "          3.1027e-02, -3.8479e-02,  3.8479e-02,  1.9137e-01,  1.5865e-01,\n",
      "          3.7782e-01]]), 'permno_id': ['10104', '10104', '10104', '10104', '10104', '10104', '10104', '10104', '10104', '10104', '10104', '10104', '10104', '10104', '10104', '10104', '10104', '10104', '10104', '10104', '10104', '10104', '10104', '10104', '10104', '10104', '10104', '10104', '10104', '10104', '10104', '10104']}\n"
     ]
    }
   ],
   "source": [
    "for batch in train_dataloader:\n",
    "    print(batch)\n",
    "    break"
   ]
  },
  {
   "cell_type": "code",
   "execution_count": 38,
   "id": "66a46766-d3e2-4091-84ba-c6be335e1038",
   "metadata": {},
   "outputs": [
    {
     "data": {
      "text/plain": [
       "torch.Size([32, 7, 560])"
      ]
     },
     "execution_count": 38,
     "metadata": {},
     "output_type": "execute_result"
    }
   ],
   "source": [
    "batch[\"features\"].shape"
   ]
  },
  {
   "cell_type": "code",
   "execution_count": 39,
   "id": "cb19d933-5a17-4fb4-a040-7eddbf2c5b05",
   "metadata": {},
   "outputs": [
    {
     "data": {
      "text/plain": [
       "torch.Size([32, 11])"
      ]
     },
     "execution_count": 39,
     "metadata": {},
     "output_type": "execute_result"
    }
   ],
   "source": [
    "batch[\"target\"].shape"
   ]
  },
  {
   "cell_type": "code",
   "execution_count": 40,
   "id": "ddca4f92-f9b6-4002-bbed-186ba159ce33",
   "metadata": {},
   "outputs": [
    {
     "data": {
      "text/plain": [
       "32"
      ]
     },
     "execution_count": 40,
     "metadata": {},
     "output_type": "execute_result"
    }
   ],
   "source": [
    "len(batch[\"permno_id\"])"
   ]
  },
  {
   "cell_type": "code",
   "execution_count": 41,
   "id": "41d2d945-059a-4e2f-a5c7-62bafaff03d7",
   "metadata": {},
   "outputs": [
    {
     "data": {
      "text/plain": [
       "tensor([[[-1.3843e-02,  0.0000e+00,  0.0000e+00,  ...,  0.0000e+00,\n",
       "           0.0000e+00,  0.0000e+00],\n",
       "         [ 2.2897e-02,  6.4040e-03,  4.8720e-03,  ...,  0.0000e+00,\n",
       "           0.0000e+00,  1.0000e+00],\n",
       "         [ 9.8028e-03,  4.0480e-03,  9.6000e-04,  ...,  0.0000e+00,\n",
       "           0.0000e+00,  2.0000e+00],\n",
       "         ...,\n",
       "         [ 1.0467e-02,  2.1420e-03,  5.3540e-03,  ...,  0.0000e+00,\n",
       "           0.0000e+00,  4.0000e+00],\n",
       "         [ 5.4969e-03, -2.6340e-03, -2.7040e-03,  ...,  0.0000e+00,\n",
       "           0.0000e+00,  5.0000e+00],\n",
       "         [-5.3141e-03, -2.4190e-03, -1.9280e-03,  ...,  0.0000e+00,\n",
       "           0.0000e+00,  6.0000e+00]],\n",
       "\n",
       "        [[ 2.2897e-02,  6.4040e-03,  4.8720e-03,  ...,  0.0000e+00,\n",
       "           0.0000e+00,  1.0000e+00],\n",
       "         [ 9.8028e-03,  4.0480e-03,  9.6000e-04,  ...,  0.0000e+00,\n",
       "           0.0000e+00,  2.0000e+00],\n",
       "         [ 6.0010e-03,  9.5810e-03,  6.7220e-03,  ...,  0.0000e+00,\n",
       "           0.0000e+00,  3.0000e+00],\n",
       "         ...,\n",
       "         [ 5.4969e-03, -2.6340e-03, -2.7040e-03,  ...,  0.0000e+00,\n",
       "           0.0000e+00,  5.0000e+00],\n",
       "         [-5.3141e-03, -2.4190e-03, -1.9280e-03,  ...,  0.0000e+00,\n",
       "           0.0000e+00,  6.0000e+00],\n",
       "         [ 3.0693e-03,  6.4650e-03,  9.7550e-03,  ...,  0.0000e+00,\n",
       "           0.0000e+00,  7.0000e+00]],\n",
       "\n",
       "        [[ 9.8028e-03,  4.0480e-03,  9.6000e-04,  ...,  0.0000e+00,\n",
       "           0.0000e+00,  2.0000e+00],\n",
       "         [ 6.0010e-03,  9.5810e-03,  6.7220e-03,  ...,  0.0000e+00,\n",
       "           0.0000e+00,  3.0000e+00],\n",
       "         [ 1.0467e-02,  2.1420e-03,  5.3540e-03,  ...,  0.0000e+00,\n",
       "           0.0000e+00,  4.0000e+00],\n",
       "         ...,\n",
       "         [-5.3141e-03, -2.4190e-03, -1.9280e-03,  ...,  0.0000e+00,\n",
       "           0.0000e+00,  6.0000e+00],\n",
       "         [ 3.0693e-03,  6.4650e-03,  9.7550e-03,  ...,  0.0000e+00,\n",
       "           0.0000e+00,  7.0000e+00],\n",
       "         [ 1.1375e-02,  4.3480e-03,  6.7180e-03,  ...,  0.0000e+00,\n",
       "           0.0000e+00,  8.0000e+00]],\n",
       "\n",
       "        [[ 6.0010e-03,  9.5810e-03,  6.7220e-03,  ...,  0.0000e+00,\n",
       "           0.0000e+00,  3.0000e+00],\n",
       "         [ 1.0467e-02,  2.1420e-03,  5.3540e-03,  ...,  0.0000e+00,\n",
       "           0.0000e+00,  4.0000e+00],\n",
       "         [ 5.4969e-03, -2.6340e-03, -2.7040e-03,  ...,  0.0000e+00,\n",
       "           0.0000e+00,  5.0000e+00],\n",
       "         ...,\n",
       "         [ 3.0693e-03,  6.4650e-03,  9.7550e-03,  ...,  0.0000e+00,\n",
       "           0.0000e+00,  7.0000e+00],\n",
       "         [ 1.1375e-02,  4.3480e-03,  6.7180e-03,  ...,  0.0000e+00,\n",
       "           0.0000e+00,  8.0000e+00],\n",
       "         [ 1.6147e-03, -6.5780e-03, -6.4400e-03,  ...,  0.0000e+00,\n",
       "           0.0000e+00,  9.0000e+00]],\n",
       "\n",
       "        [[ 1.0467e-02,  2.1420e-03,  5.3540e-03,  ...,  0.0000e+00,\n",
       "           0.0000e+00,  4.0000e+00],\n",
       "         [ 5.4969e-03, -2.6340e-03, -2.7040e-03,  ...,  0.0000e+00,\n",
       "           0.0000e+00,  5.0000e+00],\n",
       "         [-5.3141e-03, -2.4190e-03, -1.9280e-03,  ...,  0.0000e+00,\n",
       "           0.0000e+00,  6.0000e+00],\n",
       "         ...,\n",
       "         [ 1.1375e-02,  4.3480e-03,  6.7180e-03,  ...,  0.0000e+00,\n",
       "           0.0000e+00,  8.0000e+00],\n",
       "         [ 1.6147e-03, -6.5780e-03, -6.4400e-03,  ...,  0.0000e+00,\n",
       "           0.0000e+00,  9.0000e+00],\n",
       "         [ 1.3619e-02,  8.1800e-03,  6.9230e-03,  ...,  0.0000e+00,\n",
       "           0.0000e+00,  1.0000e+01]]])"
      ]
     },
     "execution_count": 41,
     "metadata": {},
     "output_type": "execute_result"
    }
   ],
   "source": [
    "batch[\"features\"][:5]"
   ]
  },
  {
   "cell_type": "code",
   "execution_count": 42,
   "id": "19b956b9-b69b-4b06-a89b-9291a004d504",
   "metadata": {
    "scrolled": true
   },
   "outputs": [
    {
     "data": {
      "text/plain": [
       "(tensor([[-0.0027, -0.0035,  0.0628,  0.1169, -0.0021,  0.0405, -0.0047,  0.0124,\n",
       "           0.1442,  0.1665,  0.2067],\n",
       "         [ 0.0007,  0.0028,  0.0522,  0.1206,  0.0056,  0.0433, -0.0041,  0.0168,\n",
       "           0.1546,  0.1654,  0.2011],\n",
       "         [ 0.0033,  0.0052,  0.0473,  0.1214,  0.0084,  0.0451, -0.0036,  0.0181,\n",
       "           0.1588,  0.1657,  0.1994],\n",
       "         [ 0.0049,  0.0061,  0.0448,  0.1220,  0.0088,  0.0462, -0.0027,  0.0180,\n",
       "           0.1605,  0.1665,  0.1992],\n",
       "         [ 0.0060,  0.0066,  0.0432,  0.1225,  0.0090,  0.0472, -0.0020,  0.0179,\n",
       "           0.1615,  0.1669,  0.1988],\n",
       "         [ 0.0064,  0.0063,  0.0415,  0.1230,  0.0093,  0.0479, -0.0014,  0.0182,\n",
       "           0.1622,  0.1675,  0.1980],\n",
       "         [ 0.0066,  0.0059,  0.0405,  0.1232,  0.0094,  0.0482, -0.0012,  0.0185,\n",
       "           0.1627,  0.1680,  0.1975],\n",
       "         [ 0.0066,  0.0057,  0.0395,  0.1235,  0.0095,  0.0484, -0.0012,  0.0190,\n",
       "           0.1630,  0.1685,  0.1970],\n",
       "         [ 0.0065,  0.0056,  0.0387,  0.1238,  0.0096,  0.0485, -0.0011,  0.0193,\n",
       "           0.1634,  0.1690,  0.1965],\n",
       "         [ 0.0064,  0.0054,  0.0381,  0.1241,  0.0096,  0.0485, -0.0010,  0.0196,\n",
       "           0.1638,  0.1695,  0.1962],\n",
       "         [ 0.0064,  0.0053,  0.0375,  0.1244,  0.0096,  0.0486, -0.0009,  0.0199,\n",
       "           0.1641,  0.1700,  0.1958],\n",
       "         [ 0.0064,  0.0052,  0.0371,  0.1246,  0.0096,  0.0487, -0.0008,  0.0201,\n",
       "           0.1644,  0.1704,  0.1956],\n",
       "         [ 0.0063,  0.0052,  0.0367,  0.1248,  0.0097,  0.0487, -0.0007,  0.0203,\n",
       "           0.1646,  0.1707,  0.1953],\n",
       "         [ 0.0063,  0.0051,  0.0363,  0.1250,  0.0097,  0.0488, -0.0006,  0.0205,\n",
       "           0.1648,  0.1709,  0.1951],\n",
       "         [ 0.0063,  0.0051,  0.0360,  0.1251,  0.0097,  0.0488, -0.0006,  0.0207,\n",
       "           0.1650,  0.1712,  0.1949],\n",
       "         [ 0.0062,  0.0051,  0.0357,  0.1253,  0.0097,  0.0488, -0.0005,  0.0208,\n",
       "           0.1652,  0.1714,  0.1947],\n",
       "         [ 0.0062,  0.0051,  0.0353,  0.1254,  0.0098,  0.0489, -0.0004,  0.0208,\n",
       "           0.1655,  0.1715,  0.1946],\n",
       "         [ 0.0062,  0.0051,  0.0352,  0.1255,  0.0097,  0.0489, -0.0004,  0.0209,\n",
       "           0.1655,  0.1716,  0.1944],\n",
       "         [ 0.0062,  0.0051,  0.0349,  0.1256,  0.0097,  0.0489, -0.0004,  0.0210,\n",
       "           0.1657,  0.1717,  0.1943],\n",
       "         [ 0.0062,  0.0051,  0.0347,  0.1257,  0.0097,  0.0489, -0.0003,  0.0211,\n",
       "           0.1657,  0.1719,  0.1941],\n",
       "         [ 0.0061,  0.0050,  0.0346,  0.1258,  0.0098,  0.0490, -0.0003,  0.0212,\n",
       "           0.1658,  0.1720,  0.1940],\n",
       "         [ 0.0062,  0.0050,  0.0344,  0.1258,  0.0098,  0.0490, -0.0003,  0.0213,\n",
       "           0.1659,  0.1721,  0.1939],\n",
       "         [ 0.0061,  0.0050,  0.0342,  0.1259,  0.0098,  0.0490, -0.0003,  0.0214,\n",
       "           0.1660,  0.1722,  0.1938],\n",
       "         [ 0.0061,  0.0050,  0.0341,  0.1260,  0.0098,  0.0491, -0.0004,  0.0216,\n",
       "           0.1660,  0.1725,  0.1937],\n",
       "         [ 0.0060,  0.0050,  0.0340,  0.1261,  0.0098,  0.0492, -0.0004,  0.0217,\n",
       "           0.1660,  0.1726,  0.1936],\n",
       "         [ 0.0060,  0.0050,  0.0338,  0.1262,  0.0098,  0.0492, -0.0004,  0.0218,\n",
       "           0.1661,  0.1727,  0.1936],\n",
       "         [ 0.0060,  0.0050,  0.0337,  0.1262,  0.0098,  0.0492, -0.0004,  0.0218,\n",
       "           0.1661,  0.1728,  0.1935],\n",
       "         [ 0.0060,  0.0050,  0.0336,  0.1263,  0.0099,  0.0493, -0.0004,  0.0219,\n",
       "           0.1661,  0.1729,  0.1934],\n",
       "         [ 0.0060,  0.0050,  0.0335,  0.1263,  0.0099,  0.0493, -0.0004,  0.0220,\n",
       "           0.1662,  0.1730,  0.1933],\n",
       "         [ 0.0059,  0.0050,  0.0334,  0.1264,  0.0099,  0.0493, -0.0004,  0.0220,\n",
       "           0.1662,  0.1731,  0.1933],\n",
       "         [ 0.0059,  0.0050,  0.0334,  0.1264,  0.0099,  0.0493, -0.0004,  0.0220,\n",
       "           0.1662,  0.1731,  0.1932],\n",
       "         [ 0.0059,  0.0050,  0.0333,  0.1265,  0.0099,  0.0494, -0.0004,  0.0221,\n",
       "           0.1663,  0.1732,  0.1932]], grad_fn=<AddmmBackward0>),\n",
       " tensor([[ 0.9376, -1.7219,  0.8850,  ...,  0.0107,  0.8230,  0.1233],\n",
       "         [ 0.9402, -1.6883,  0.8167,  ...,  0.0255,  0.8616,  0.1496],\n",
       "         [ 0.9186, -1.6620,  0.7662,  ...,  0.0354,  0.8771,  0.1804],\n",
       "         ...,\n",
       "         [ 0.8518, -1.5382,  0.6160,  ...,  0.1035,  0.8996,  0.3189],\n",
       "         [ 0.8514, -1.5376,  0.6146,  ...,  0.1043,  0.8997,  0.3194],\n",
       "         [ 0.8514, -1.5370,  0.6139,  ...,  0.1049,  0.8996,  0.3202]],\n",
       "        grad_fn=<SliceBackward0>))"
      ]
     },
     "execution_count": 42,
     "metadata": {},
     "output_type": "execute_result"
    }
   ],
   "source": [
    "model(batch[\"features\"].to(device))"
   ]
  },
  {
   "cell_type": "code",
   "execution_count": 43,
   "id": "0662f9f8-7435-4de7-9c73-59c4003927b4",
   "metadata": {
    "scrolled": true
   },
   "outputs": [
    {
     "data": {
      "text/plain": [
       "[(array([[-1.96385808e-02, -2.22870000e-02, -3.19420000e-02, ...,\n",
       "           0.00000000e+00,  0.00000000e+00,  9.88000000e+02],\n",
       "         [ 7.90169919e-03,  1.29550000e-02,  7.79200000e-03, ...,\n",
       "           0.00000000e+00,  0.00000000e+00,  9.89000000e+02],\n",
       "         [ 1.24027667e-02,  2.23980000e-02,  3.01470000e-02, ...,\n",
       "           0.00000000e+00,  0.00000000e+00,  9.90000000e+02],\n",
       "         ...,\n",
       "         [-1.91282829e-03, -1.32400000e-02, -3.54850000e-02, ...,\n",
       "           0.00000000e+00,  0.00000000e+00,  9.92000000e+02],\n",
       "         [ 1.45081680e-01,  1.42930000e-02, -3.86700000e-03, ...,\n",
       "           0.00000000e+00,  0.00000000e+00,  9.93000000e+02],\n",
       "         [-1.70993644e-02, -7.50000000e-03, -6.12600000e-03, ...,\n",
       "           0.00000000e+00,  0.00000000e+00,  9.94000000e+02]]),\n",
       "  array([-0.00996145,  0.00996145, -0.42433243,  0.42433243, -0.13991876,\n",
       "          0.13991876, -0.06378652,  0.06378652,  0.55133603,  0.40099837,\n",
       "          0.31851795]),\n",
       "  '10104'),\n",
       " (array([[ 7.90169919e-03,  1.29550000e-02,  7.79200000e-03, ...,\n",
       "           0.00000000e+00,  0.00000000e+00,  9.89000000e+02],\n",
       "         [ 1.24027667e-02,  2.23980000e-02,  3.01470000e-02, ...,\n",
       "           0.00000000e+00,  0.00000000e+00,  9.90000000e+02],\n",
       "         [-1.24025952e-02,  7.09000000e-03,  1.32390000e-02, ...,\n",
       "           0.00000000e+00,  0.00000000e+00,  9.91000000e+02],\n",
       "         ...,\n",
       "         [ 1.45081680e-01,  1.42930000e-02, -3.86700000e-03, ...,\n",
       "           0.00000000e+00,  0.00000000e+00,  9.93000000e+02],\n",
       "         [-1.70993644e-02, -7.50000000e-03, -6.12600000e-03, ...,\n",
       "           0.00000000e+00,  0.00000000e+00,  9.94000000e+02],\n",
       "         [-9.96145091e-03, -2.14890000e-02, -1.79500000e-02, ...,\n",
       "           0.00000000e+00,  0.00000000e+00,  9.95000000e+02]]),\n",
       "  array([ 0.03694987,  0.03694987, -0.52885046,  0.52885046, -0.20796483,\n",
       "          0.20796483, -0.08030273,  0.08030273,  0.43300574,  0.34946669,\n",
       "          0.2885952 ]),\n",
       "  '10104'),\n",
       " (array([[ 1.24027667e-02,  2.23980000e-02,  3.01470000e-02, ...,\n",
       "           0.00000000e+00,  0.00000000e+00,  9.90000000e+02],\n",
       "         [-1.24025952e-02,  7.09000000e-03,  1.32390000e-02, ...,\n",
       "           0.00000000e+00,  0.00000000e+00,  9.91000000e+02],\n",
       "         [-1.91282829e-03, -1.32400000e-02, -3.54850000e-02, ...,\n",
       "           0.00000000e+00,  0.00000000e+00,  9.92000000e+02],\n",
       "         ...,\n",
       "         [-1.70993644e-02, -7.50000000e-03, -6.12600000e-03, ...,\n",
       "           0.00000000e+00,  0.00000000e+00,  9.94000000e+02],\n",
       "         [-9.96145091e-03, -2.14890000e-02, -1.79500000e-02, ...,\n",
       "           0.00000000e+00,  0.00000000e+00,  9.95000000e+02],\n",
       "         [ 3.69498675e-02,  1.70780000e-02,  1.46690000e-02, ...,\n",
       "           0.00000000e+00,  0.00000000e+00,  9.96000000e+02]]),\n",
       "  array([-0.00415763,  0.00415763, -0.54277213,  0.54277213, -0.20135084,\n",
       "          0.20135084, -0.07836683,  0.07836683,  0.42486937,  0.35367419,\n",
       "          0.29034539]),\n",
       "  '10104'),\n",
       " (array([[-1.24025952e-02,  7.09000000e-03,  1.32390000e-02, ...,\n",
       "           0.00000000e+00,  0.00000000e+00,  9.91000000e+02],\n",
       "         [-1.91282829e-03, -1.32400000e-02, -3.54850000e-02, ...,\n",
       "           0.00000000e+00,  0.00000000e+00,  9.92000000e+02],\n",
       "         [ 1.45081680e-01,  1.42930000e-02, -3.86700000e-03, ...,\n",
       "           0.00000000e+00,  0.00000000e+00,  9.93000000e+02],\n",
       "         ...,\n",
       "         [-9.96145091e-03, -2.14890000e-02, -1.79500000e-02, ...,\n",
       "           0.00000000e+00,  0.00000000e+00,  9.95000000e+02],\n",
       "         [ 3.69498675e-02,  1.70780000e-02,  1.46690000e-02, ...,\n",
       "           0.00000000e+00,  0.00000000e+00,  9.96000000e+02],\n",
       "         [-4.15763098e-03, -2.12910000e-02, -2.85720000e-02, ...,\n",
       "           0.00000000e+00,  0.00000000e+00,  9.97000000e+02]]),\n",
       "  array([-0.06607677,  0.06607677, -0.37395784,  0.37395784, -0.11535775,\n",
       "          0.11535775, -0.05593581,  0.05593581,  0.2955452 ,  0.27151143,\n",
       "          0.23464711]),\n",
       "  '10104'),\n",
       " (array([[-1.91282829e-03, -1.32400000e-02, -3.54850000e-02, ...,\n",
       "           0.00000000e+00,  0.00000000e+00,  9.92000000e+02],\n",
       "         [ 1.45081680e-01,  1.42930000e-02, -3.86700000e-03, ...,\n",
       "           0.00000000e+00,  0.00000000e+00,  9.93000000e+02],\n",
       "         [-1.70993644e-02, -7.50000000e-03, -6.12600000e-03, ...,\n",
       "           0.00000000e+00,  0.00000000e+00,  9.94000000e+02],\n",
       "         ...,\n",
       "         [ 3.69498675e-02,  1.70780000e-02,  1.46690000e-02, ...,\n",
       "           0.00000000e+00,  0.00000000e+00,  9.96000000e+02],\n",
       "         [-4.15763098e-03, -2.12910000e-02, -2.85720000e-02, ...,\n",
       "           0.00000000e+00,  0.00000000e+00,  9.97000000e+02],\n",
       "         [-6.60767703e-02, -1.01800000e-03,  1.56000000e-02, ...,\n",
       "           0.00000000e+00,  0.00000000e+00,  9.98000000e+02]]),\n",
       "  array([-0.05291777,  0.05291777, -0.18768015,  0.18768015, -0.02837899,\n",
       "          0.02837899, -0.03714023,  0.03714023,  0.09953586,  0.19773309,\n",
       "          0.18881779]),\n",
       "  '10104')]"
      ]
     },
     "execution_count": 43,
     "metadata": {},
     "output_type": "execute_result"
    }
   ],
   "source": [
    "train_dataset.sequences[-5:]"
   ]
  },
  {
   "cell_type": "code",
   "execution_count": 44,
   "id": "9585f708-507f-4e5d-9650-88c60ef1179d",
   "metadata": {
    "colab": {
     "base_uri": "https://localhost:8080/"
    },
    "executionInfo": {
     "elapsed": 1,
     "status": "ok",
     "timestamp": 1718069531339,
     "user": {
      "displayName": "Shuo Wang",
      "userId": "10449608907229935685"
     },
     "user_tz": 240
    },
    "id": "4gTa_16myH8f",
    "outputId": "aeb7b7ae-a7bb-44b3-9f22-ec02084c4c5e"
   },
   "outputs": [
    {
     "data": {
      "text/plain": [
       "(256,)"
      ]
     },
     "execution_count": 44,
     "metadata": {},
     "output_type": "execute_result"
    }
   ],
   "source": [
    "np.array(stock_embeddings[\"10104\"]).shape"
   ]
  },
  {
   "cell_type": "code",
   "execution_count": null,
   "id": "bafa9da2-fc77-457a-8cc4-b67767072803",
   "metadata": {},
   "outputs": [],
   "source": []
  }
 ],
 "metadata": {
  "kernelspec": {
   "display_name": "Python 3 (ipykernel)",
   "language": "python",
   "name": "python3"
  },
  "language_info": {
   "codemirror_mode": {
    "name": "ipython",
    "version": 3
   },
   "file_extension": ".py",
   "mimetype": "text/x-python",
   "name": "python",
   "nbconvert_exporter": "python",
   "pygments_lexer": "ipython3",
   "version": "3.10.14"
  }
 },
 "nbformat": 4,
 "nbformat_minor": 5
}
