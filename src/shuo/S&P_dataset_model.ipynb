{
 "cells": [
  {
   "cell_type": "markdown",
   "id": "b892038d-4c8a-432b-a24e-1e05fa6cf5a2",
   "metadata": {},
   "source": [
    "## Setup the Env\n"
   ]
  },
  {
   "cell_type": "code",
   "execution_count": 1,
   "id": "df95683e-19cb-43fd-a388-cc4836718e65",
   "metadata": {},
   "outputs": [
    {
     "name": "stdout",
     "output_type": "stream",
     "text": [
      "sagemaker.config INFO - Not applying SDK defaults from location: /etc/xdg/sagemaker/config.yaml\n",
      "sagemaker.config INFO - Not applying SDK defaults from location: /home/sagemaker-user/.config/sagemaker/config.yaml\n",
      "/home/sagemaker-user/capstone-2024-summer/src/shuo\n"
     ]
    }
   ],
   "source": [
    "import os\n",
    "import sys\n",
    "\n",
    "import sagemaker\n",
    "from sagemaker import get_execution_role\n",
    "\n",
    "# Add the parent directory to the sys.path\n",
    "sys.path.insert(0, os.path.abspath(\"..\"))\n",
    "\n",
    "# Define IAM role\n",
    "role = get_execution_role()\n",
    "role\n",
    "\n",
    "# Establish S3 bucket connection\n",
    "import boto3\n",
    "\n",
    "s3 = boto3.client(\"s3\")\n",
    "bucket = \"capstone-bucket-4-friends\"\n",
    "\n",
    "# Take a look at current dir\n",
    "print(os.getcwd())\n",
    "\n",
    "from file_utilities import s3_download"
   ]
  },
  {
   "cell_type": "markdown",
   "id": "fe4bee1b-012e-42de-86f7-6cc7dd21286d",
   "metadata": {
    "id": "LQSFMjB4tuMW"
   },
   "source": [
    "## Import Package"
   ]
  },
  {
   "cell_type": "code",
   "execution_count": 10,
   "id": "e04c69b9-25e4-405e-bbb8-cc10cf284c7b",
   "metadata": {
    "executionInfo": {
     "elapsed": 12043,
     "status": "ok",
     "timestamp": 1718065091461,
     "user": {
      "displayName": "Shuo Wang",
      "userId": "10449608907229935685"
     },
     "user_tz": 240
    },
    "id": "S_dYEMJctir_"
   },
   "outputs": [
    {
     "name": "stdout",
     "output_type": "stream",
     "text": [
      "Requirement already satisfied: seaborn in /opt/conda/lib/python3.10/site-packages (0.13.2)\n",
      "Requirement already satisfied: numpy!=1.24.0,>=1.20 in /opt/conda/lib/python3.10/site-packages (from seaborn) (1.26.4)\n",
      "Requirement already satisfied: pandas>=1.2 in /opt/conda/lib/python3.10/site-packages (from seaborn) (2.1.4)\n",
      "Requirement already satisfied: matplotlib!=3.6.1,>=3.4 in /opt/conda/lib/python3.10/site-packages (from seaborn) (3.8.4)\n",
      "Requirement already satisfied: contourpy>=1.0.1 in /opt/conda/lib/python3.10/site-packages (from matplotlib!=3.6.1,>=3.4->seaborn) (1.2.1)\n",
      "Requirement already satisfied: cycler>=0.10 in /opt/conda/lib/python3.10/site-packages (from matplotlib!=3.6.1,>=3.4->seaborn) (0.12.1)\n",
      "Requirement already satisfied: fonttools>=4.22.0 in /opt/conda/lib/python3.10/site-packages (from matplotlib!=3.6.1,>=3.4->seaborn) (4.51.0)\n",
      "Requirement already satisfied: kiwisolver>=1.3.1 in /opt/conda/lib/python3.10/site-packages (from matplotlib!=3.6.1,>=3.4->seaborn) (1.4.5)\n",
      "Requirement already satisfied: packaging>=20.0 in /opt/conda/lib/python3.10/site-packages (from matplotlib!=3.6.1,>=3.4->seaborn) (23.2)\n",
      "Requirement already satisfied: pillow>=8 in /opt/conda/lib/python3.10/site-packages (from matplotlib!=3.6.1,>=3.4->seaborn) (10.3.0)\n",
      "Requirement already satisfied: pyparsing>=2.3.1 in /opt/conda/lib/python3.10/site-packages (from matplotlib!=3.6.1,>=3.4->seaborn) (3.1.2)\n",
      "Requirement already satisfied: python-dateutil>=2.7 in /opt/conda/lib/python3.10/site-packages (from matplotlib!=3.6.1,>=3.4->seaborn) (2.9.0)\n",
      "Requirement already satisfied: pytz>=2020.1 in /opt/conda/lib/python3.10/site-packages (from pandas>=1.2->seaborn) (2023.3)\n",
      "Requirement already satisfied: tzdata>=2022.1 in /opt/conda/lib/python3.10/site-packages (from pandas>=1.2->seaborn) (2024.1)\n",
      "Requirement already satisfied: six>=1.5 in /opt/conda/lib/python3.10/site-packages (from python-dateutil>=2.7->matplotlib!=3.6.1,>=3.4->seaborn) (1.16.0)\n"
     ]
    }
   ],
   "source": [
    "!pip install seaborn\n",
    "import os\n",
    "import matplotlib.pyplot as plt\n",
    "import numpy as np\n",
    "import pandas as pd\n",
    "import seaborn as sns\n",
    "import torch\n",
    "import torch.nn as nn\n",
    "from torch.utils.data import DataLoader, Dataset\n",
    "import warnings\n",
    "from sklearn.preprocessing import OneHotEncoder\n",
    "from sklearn.cluster import KMeans\n",
    "from sklearn.decomposition import PCA\n",
    "from sklearn.metrics.pairwise import cosine_similarity\n",
    "import joblib\n",
    "import time\n",
    "import pyarrow.parquet as pq\n",
    "import pyarrow as pa\n",
    "\n",
    "warnings.filterwarnings(\"ignore\")"
   ]
  },
  {
   "cell_type": "markdown",
   "id": "07291a15-aeea-447a-8568-3642b745b819",
   "metadata": {
    "id": "D-_nUWYHtpSp"
   },
   "source": [
    "## Load Data"
   ]
  },
  {
   "cell_type": "code",
   "execution_count": 3,
   "id": "45ad6255-432f-4121-93ca-e366ff0314d4",
   "metadata": {},
   "outputs": [],
   "source": [
    "# reload_path = s3_download(\"CRSP/crsp_2018-2023_S&P500_train_dataset.pkl\")\n",
    "# reload_path = s3_download(\"CRSP/crsp_2018-2023_S&P500_val_dataset.pkl\")\n",
    "# reload_path = s3_download(\"CRSP/one_hot_encoder.pkl\")"
   ]
  },
  {
   "cell_type": "code",
   "execution_count": 4,
   "id": "0d574584-164f-472b-a5c3-6734a4b1bb54",
   "metadata": {},
   "outputs": [],
   "source": [
    "class FinancialDataset(Dataset):\n",
    "    def __init__(self, data, window_size=128, one_hot_encoder=None):\n",
    "        self.data = data\n",
    "        self.window_size = window_size\n",
    "        self.input_columns = [\n",
    "            \"log_return\",\n",
    "            \"sector_weighted_avg_log_return\",\n",
    "            \"sector_simple_avg_log_return\",\n",
    "            \"weighted_avg_log_return\",\n",
    "            \"simple_avg_log_return\",\n",
    "        ]\n",
    "        self.target_columns = [\n",
    "            \"log_return\",\n",
    "            \"abs_log_return\",\n",
    "            \"log_return_7\",\n",
    "            \"abs_log_return_7\",\n",
    "            \"log_return_14\",\n",
    "            \"abs_log_return_14\",\n",
    "            \"log_return_28\",\n",
    "            \"abs_log_return_28\",\n",
    "            \"volatility_7\",\n",
    "            \"volatility_14\",\n",
    "            \"volatility_28\",\n",
    "        ]\n",
    "\n",
    "        self.data[self.input_columns] = self.data[self.input_columns].apply(pd.to_numeric, errors=\"coerce\")\n",
    "        self.data[self.target_columns] = self.data[self.target_columns].apply(pd.to_numeric, errors=\"coerce\")\n",
    "        self.data = self.data.dropna()\n",
    "\n",
    "        self.one_hot_encoder = one_hot_encoder\n",
    "        if self.one_hot_encoder is None:\n",
    "            self.one_hot_encoder = OneHotEncoder(sparse_output=False)\n",
    "            self.data[\"permno_id\"] = self.data[\"permno_id\"].astype(str)\n",
    "            self.permno_one_hot = self.one_hot_encoder.fit_transform(self.data[[\"permno_id\"]])\n",
    "        else:\n",
    "            self.data[\"permno_id\"] = self.data[\"permno_id\"].astype(str)\n",
    "            self.permno_one_hot = self.one_hot_encoder.transform(self.data[[\"permno_id\"]])\n",
    "\n",
    "        # Assign positional encoding\n",
    "        self.data['positional_encoding'] = self.data.groupby(\"permno_id\").cumcount()\n",
    "        \n",
    "        # Group by permno_id\n",
    "        self.groups = self.data.groupby(\"permno_id\")\n",
    "        self.sequences = []\n",
    "\n",
    "        for name, group in self.groups:\n",
    "            permno_id_one_hot = self.one_hot_encoder.transform(group[[\"permno_id\"]])\n",
    "            if len(group) > self.window_size:\n",
    "                for i in range(len(group) - self.window_size):\n",
    "                    X = group[self.input_columns].iloc[i : i + self.window_size].values\n",
    "                    # print(X)\n",
    "                    # permno_id_one_hot_repeated = np.tile(permno_id_one_hot[i], (self.window_size, 1))\n",
    "                    # print(permno_id_one_hot_repeated.shape)\n",
    "                    # positional_encoding = np.arange(self.window_size).reshape(-1, 1)\n",
    "                    # print(positional_encoding.shape)\n",
    "                    X = np.concatenate([X, permno_id_one_hot[i:i + self.window_size]], axis=1)  # Concatenate one-hot encoded permno_id\n",
    "                    X = np.concatenate([X, group['positional_encoding'].iloc[i: i + self.window_size].values.reshape(-1, 1)], axis=1)\n",
    "                    # X = np.concatenate([X, permno_id_one_hot_repeated, positional_encoding], axis=1)\n",
    "                    # print(X.shape)\n",
    "                    y = group[self.target_columns].iloc[i + self.window_size].values\n",
    "                    self.sequences.append((X, y, name))\n",
    "\n",
    "    def __len__(self):\n",
    "        return len(self.sequences)\n",
    "\n",
    "    def __getitem__(self, idx):\n",
    "        X, y, permno_id = self.sequences[idx]\n",
    "        return {\n",
    "            \"features\": torch.tensor(X, dtype=torch.float),\n",
    "            \"target\": torch.tensor(y, dtype=torch.float),\n",
    "            \"permno_id\": permno_id,\n",
    "        }"
   ]
  },
  {
   "cell_type": "code",
   "execution_count": 5,
   "id": "1ab17132-9d2e-4c63-853d-7ebca3deb96b",
   "metadata": {},
   "outputs": [
    {
     "name": "stdout",
     "output_type": "stream",
     "text": [
      "CPU times: user 3min 31s, sys: 5min 5s, total: 8min 37s\n",
      "Wall time: 1h 3min 57s\n"
     ]
    }
   ],
   "source": [
    "%%time\n",
    "# Load datasets\n",
    "train_dataset = joblib.load('/home/sagemaker-user/capstone-2024-summer/data/crsp_2018-2023_S&P500_train_dataset.pkl')\n",
    "val_dataset = joblib.load('/home/sagemaker-user/capstone-2024-summer/data/crsp_2018-2023_S&P500_val_dataset.pkl')\n",
    "\n",
    "train_dataloader = DataLoader(train_dataset, batch_size=32, shuffle=False)\n",
    "val_dataloader = DataLoader(val_dataset, batch_size=32, shuffle=False)"
   ]
  },
  {
   "cell_type": "code",
   "execution_count": 7,
   "id": "2ad0e024-91f6-4aae-826c-503f774b6e4d",
   "metadata": {},
   "outputs": [],
   "source": [
    "# Load the OneHotEncoder\n",
    "one_hot_encoder = joblib.load('/home/sagemaker-user/capstone-2024-summer/data/one_hot_encoder.pkl')"
   ]
  },
  {
   "cell_type": "markdown",
   "id": "e456ac44-3912-40a1-89d9-08a7b75063ab",
   "metadata": {},
   "source": [
    "## Build and Train Model"
   ]
  },
  {
   "cell_type": "code",
   "execution_count": 8,
   "id": "7ddf6e60-8308-4301-8913-66114dfbcf02",
   "metadata": {},
   "outputs": [
    {
     "name": "stdout",
     "output_type": "stream",
     "text": [
      "CPU times: user 9 µs, sys: 12 µs, total: 21 µs\n",
      "Wall time: 23.1 µs\n"
     ]
    }
   ],
   "source": [
    "%%time\n",
    "class TransformerModel(nn.Module):\n",
    "    def __init__(\n",
    "        self,\n",
    "        input_dim,\n",
    "        embed_dim,\n",
    "        n_heads,\n",
    "        ff_dim,\n",
    "        n_layers,\n",
    "        output_dim,\n",
    "        hidden_dims=[256, 128],\n",
    "        dropout=0.25,\n",
    "        attn_dropout=0.1,\n",
    "        residual_dropout=0.1,\n",
    "    ):\n",
    "        super(TransformerModel, self).__init__()\n",
    "        self.embedding = nn.Linear(input_dim, embed_dim)\n",
    "        encoder_layer = nn.TransformerEncoderLayer(\n",
    "            d_model=embed_dim, nhead=n_heads, dim_feedforward=ff_dim, dropout=attn_dropout\n",
    "        )\n",
    "        self.transformer = nn.TransformerEncoder(encoder_layer, num_layers=n_layers)\n",
    "\n",
    "        self.hidden_layers = nn.Sequential(\n",
    "            nn.Linear(embed_dim, hidden_dims[0]),\n",
    "            nn.ReLU(),\n",
    "            nn.Dropout(dropout),\n",
    "            nn.Linear(hidden_dims[0], hidden_dims[1]),\n",
    "            nn.ReLU(),\n",
    "            nn.Dropout(dropout),\n",
    "        )\n",
    "        self.fc = nn.Linear(hidden_dims[1], output_dim)\n",
    "\n",
    "    def forward(self, x):\n",
    "        x = self.embedding(x)\n",
    "        x = x.transpose(0, 1)  # Transformer expects input of shape (seq_len, batch_size, embed_dim))\n",
    "        x = self.transformer(x)\n",
    "        embedding = x[-1, :, :]  # Get the last output token\n",
    "        x = self.hidden_layers(embedding)\n",
    "        x = self.fc(x)\n",
    "        return x, embedding"
   ]
  },
  {
   "cell_type": "code",
   "execution_count": 11,
   "id": "32b26000-bdd1-48bc-a84e-709dfccb14b1",
   "metadata": {},
   "outputs": [
    {
     "name": "stdout",
     "output_type": "stream",
     "text": [
      "Starting Training...\n",
      "Epoch 1/5, Training Loss: 0.08991603399898838, Validation Loss: 0.08288494947360081\n",
      "Epoch 2/5, Training Loss: 0.08809037651011052, Validation Loss: 0.08511038367212022\n",
      "Epoch 3/5, Training Loss: 0.08806479840869516, Validation Loss: 0.08210426250307941\n",
      "Epoch 4/5, Training Loss: 0.08801856906747106, Validation Loss: 0.08376320262065753\n",
      "Epoch 5/5, Training Loss: 0.0879671503753776, Validation Loss: 0.08177414072081954\n",
      "Training Complete\n"
     ]
    },
    {
     "data": {
      "image/png": "[encoded data removed]",
      "text/plain": [
       "<Figure size 1000x500 with 1 Axes>"
      ]
     },
     "metadata": {},
     "output_type": "display_data"
    },
    {
     "name": "stdout",
     "output_type": "stream",
     "text": [
      "CPU times: user 8d 5h 2min 16s, sys: 1d 11h 49min 7s, total: 9d 16h 51min 23s\n",
      "Wall time: 4h 51min 4s\n"
     ]
    }
   ],
   "source": [
    "%%time\n",
    "# Initialize Model\n",
    "# Update input_dim to include one-hot encoded permno_id length\n",
    "input_dim = len(train_dataset.input_columns) + len(one_hot_encoder.categories_[0]) + 1\n",
    "model = TransformerModel(\n",
    "    input_dim=input_dim,\n",
    "    embed_dim=256,\n",
    "    n_heads=16,\n",
    "    ff_dim=1024,\n",
    "    n_layers=6,\n",
    "    output_dim=len(train_dataset.target_columns),\n",
    "    dropout=0.25,\n",
    "    attn_dropout=0.1,\n",
    "    residual_dropout=0.1,\n",
    ")\n",
    "device = torch.device(\"cuda\" if torch.cuda.is_available() else \"cpu\")\n",
    "model.to(device)\n",
    "\n",
    "# Training Loop\n",
    "optimizer = torch.optim.RAdam(model.parameters(), lr=0.00005)\n",
    "criterion = nn.L1Loss()\n",
    "\n",
    "train_losses = []\n",
    "val_losses = []\n",
    "\n",
    "num_epochs = 5\n",
    "patience = 3\n",
    "best_val_loss = float(\"inf\")\n",
    "patience_counter = 0\n",
    "\n",
    "print(\"Starting Training...\")\n",
    "for epoch in range(num_epochs):\n",
    "    start_time = time.time()  # Record the start time\n",
    "    model.train()\n",
    "    running_loss = 0.0\n",
    "    for batch in train_dataloader:\n",
    "        optimizer.zero_grad()\n",
    "        output, _ = model(batch[\"features\"].to(device))\n",
    "        loss = criterion(output, batch[\"target\"].to(device))\n",
    "        loss.backward()\n",
    "        optimizer.step()\n",
    "        running_loss += loss.item()\n",
    "    train_losses.append(running_loss / len(train_dataloader))\n",
    "\n",
    "    model.eval()\n",
    "    val_loss = 0.0\n",
    "    with torch.no_grad():\n",
    "        for batch in val_dataloader:\n",
    "            output, _ = model(batch[\"features\"].to(device))\n",
    "            loss = criterion(output, batch[\"target\"].to(device))\n",
    "            val_loss += loss.item()\n",
    "    val_losses.append(val_loss / len(val_dataloader))\n",
    "    \n",
    "    epoch_time = time.time() - start_time  # Calculate the elapsed time\n",
    "    print(f\"Epoch {epoch+1}/{num_epochs} took {epoch_time:.2f} seconds\")\n",
    "    print(f\"Epoch {epoch+1}/{num_epochs}, Training Loss: {train_losses[-1]}, Validation Loss: {val_losses[-1]}\")\n",
    "\n",
    "    if val_losses[-1] < best_val_loss:\n",
    "        best_val_loss = val_losses[-1]\n",
    "        patience_counter = 0\n",
    "    else:\n",
    "        patience_counter += 1\n",
    "        if patience_counter >= patience:\n",
    "            print(\"Early stopping triggered.\")\n",
    "            break\n",
    "\n",
    "print(\"Training Complete\")\n",
    "\n",
    "# Plot the training and validation loss\n",
    "plt.figure(figsize=(10, 5))\n",
    "plt.plot(train_losses, label=\"Training Loss\")\n",
    "plt.plot(val_losses, label=\"Validation Loss\")\n",
    "plt.xlabel(\"Epochs\")\n",
    "plt.ylabel(\"Loss\")\n",
    "plt.title(\"Training and Validation Loss\")\n",
    "plt.legend()\n",
    "plt.show()\n"
   ]
  },
  {
   "cell_type": "code",
   "execution_count": null,
   "id": "f054f360-26f1-4e6d-b1d8-147698d093c4",
   "metadata": {},
   "outputs": [],
   "source": []
  },
  {
   "cell_type": "markdown",
   "id": "c678cd46-5b58-4064-92c9-507c6f6d6181",
   "metadata": {},
   "source": [
    "## Stock Embedding"
   ]
  },
  {
   "cell_type": "code",
   "execution_count": 12,
   "id": "40b01438-d676-4188-9f95-25808041e44c",
   "metadata": {
    "executionInfo": {
     "elapsed": 1,
     "status": "ok",
     "timestamp": 1718069531047,
     "user": {
      "displayName": "Shuo Wang",
      "userId": "10449608907229935685"
     },
     "user_tz": 240
    },
    "id": "7iLalbQtaTbW"
   },
   "outputs": [
    {
     "name": "stdout",
     "output_type": "stream",
     "text": [
      "CPU times: user 11h 4min 46s, sys: 6h 8min 33s, total: 17h 13min 19s\n",
      "Wall time: 21min 32s\n"
     ]
    }
   ],
   "source": [
    "%%time\n",
    "# Extract embeddings for each stock\n",
    "stock_embeddings = {}\n",
    "model.eval()\n",
    "with torch.no_grad():\n",
    "    for batch in train_dataloader:\n",
    "        _, embeddings = model(batch[\"features\"].to(device))\n",
    "        for i, permno_id in enumerate(batch[\"permno_id\"]):\n",
    "            if permno_id not in stock_embeddings:\n",
    "                stock_embeddings[permno_id] = []\n",
    "            stock_embeddings[permno_id].append(embeddings[i].cpu().numpy())"
   ]
  },
  {
   "cell_type": "code",
   "execution_count": 13,
   "id": "984982d3-5f7b-4e03-98b3-49786756d7f0",
   "metadata": {
    "executionInfo": {
     "elapsed": 2,
     "status": "ok",
     "timestamp": 1718069532230,
     "user": {
      "displayName": "Shuo Wang",
      "userId": "10449608907229935685"
     },
     "user_tz": 240
    },
    "id": "O1cln6RIaXCL"
   },
   "outputs": [
    {
     "name": "stdout",
     "output_type": "stream",
     "text": [
      "CPU times: user 9.5 s, sys: 138 ms, total: 9.63 s\n",
      "Wall time: 505 ms\n"
     ]
    }
   ],
   "source": [
    "%%time\n",
    "# Average the embeddings for each stock\n",
    "for permno_id in stock_embeddings:\n",
    "    stock_embeddings[permno_id] = np.mean(stock_embeddings[permno_id], axis=0)"
   ]
  },
  {
   "cell_type": "code",
   "execution_count": 14,
   "id": "ff9e6fbf-aef1-4da8-9d91-de920988125e",
   "metadata": {
    "colab": {
     "base_uri": "https://localhost:8080/"
    },
    "executionInfo": {
     "elapsed": 294,
     "status": "ok",
     "timestamp": 1718069534311,
     "user": {
      "displayName": "Shuo Wang",
      "userId": "10449608907229935685"
     },
     "user_tz": 240
    },
    "id": "yOepc717aYSG",
    "outputId": "6e4e9e7f-6f1a-4fdb-9bbb-759c93296f53"
   },
   "outputs": [
    {
     "data": {
      "text/plain": [
       "[('10104',\n",
       "  array([-1.28076851e-01, -1.11214750e-01, -1.71452060e-01,  3.27454433e-02,\n",
       "         -1.80875266e+00, -2.47436427e-02,  1.03919476e-01,  5.66984005e-02,\n",
       "         -2.29324568e-02, -4.48262095e-01,  4.18114996e+00,  5.57100363e-02,\n",
       "          6.10681325e-02, -1.02311648e-01, -5.79268076e-02, -7.60177493e-01,\n",
       "         -6.29735813e-02, -6.53207451e-02,  1.97310403e-01, -1.66576803e-01,\n",
       "          3.90195241e-03, -4.75511365e-02, -3.03839231e+00, -4.87547070e-02,\n",
       "         -3.91833931e-02, -3.34014967e-02, -6.30134121e-02,  2.99506374e-02,\n",
       "         -1.94048826e-02, -8.57309997e-02, -4.21287119e-01,  3.19744349e-02,\n",
       "         -1.65162206e-01, -6.53480366e-02,  2.02827435e-02, -5.22994474e-02,\n",
       "          2.06882089e-01, -7.49328673e-01, -5.47714159e-02,  7.56143183e-02,\n",
       "         -2.32606083e-02,  1.52298257e-01, -5.32961711e-02,  1.87605619e-02,\n",
       "          1.21032692e-01,  2.63216794e-01, -4.73346800e-01, -8.27256665e-02,\n",
       "          5.73349409e-02,  7.27213919e-03,  3.06049921e-02,  2.70874560e-01,\n",
       "          4.41129096e-02, -4.55871582e-01, -2.32052021e-02,  2.08436232e-02,\n",
       "          1.24664217e-01,  2.49553937e-02, -7.28088379e-01,  2.25550006e-03,\n",
       "          5.85069088e-03, -1.63793349e+00, -2.48431526e-02, -3.13419625e-02,\n",
       "         -3.18520814e-01,  1.11352079e-01,  6.26374781e-02,  4.96600240e-01,\n",
       "          3.54947948e+00, -8.45433772e-02,  6.45439625e-02,  4.96797673e-02,\n",
       "          5.35727441e-02, -1.00574672e+00,  9.71912295e-02, -2.04298303e-01,\n",
       "         -8.14990103e-02, -2.42312029e-01,  1.12133992e+00,  7.97194019e-02,\n",
       "         -2.16613561e-02,  4.42218734e-03,  4.76274602e-02,  3.89405042e-02,\n",
       "          4.20294441e-02,  7.33030587e-02,  1.02614816e-02, -1.62148047e-02,\n",
       "          2.25918338e-01,  9.83507335e-02, -1.21093452e-01,  1.29740909e-01,\n",
       "         -8.43565613e-02, -9.56261039e-01, -1.26893550e-01,  4.94919345e-02,\n",
       "          4.84933816e-02, -4.30869535e-02,  4.55782413e-02, -1.15711200e+00,\n",
       "         -3.58622260e-02,  5.58973029e-02, -1.29915965e+00,  1.77917421e-01,\n",
       "          1.39215421e-02,  7.00295568e-02,  5.24060987e-02,  1.57153344e+00,\n",
       "         -1.97453443e-02,  2.19085768e-01,  1.24093838e-01, -4.27891947e-02,\n",
       "          3.94586533e-01, -7.21735507e-02,  1.37938112e-01, -7.74461329e-02,\n",
       "         -1.75663143e-01, -3.74603309e-02, -2.82767937e-02, -3.80553454e-02,\n",
       "          9.14765242e-03,  6.12188354e-02,  9.86157954e-02,  3.05268693e+00,\n",
       "          7.71003962e-02,  4.66001034e-02,  1.30178154e-01, -5.54663390e-02,\n",
       "         -3.63629647e-02, -2.23402642e-02, -7.41477385e-02, -6.34919629e-02,\n",
       "         -1.67323315e+00, -8.12050253e-02,  1.61255479e+00, -7.80634061e-02,\n",
       "          1.65195867e-01,  1.37455553e-01, -1.12320316e+00,  7.72605062e-01,\n",
       "         -4.57542501e-02,  1.27424970e-01, -2.43071049e-01, -5.72021268e-02,\n",
       "         -1.78069845e-01, -4.56316620e-02, -2.01523587e-01, -7.85235222e-03,\n",
       "          7.87071809e-02, -1.30634857e-02,  2.61736274e+00,  4.39730063e-02,\n",
       "          2.61831641e-01,  4.12042999e+00, -3.01484156e+00, -5.39620481e-02,\n",
       "          2.18424344e+00,  2.67182082e-01, -1.17175353e+00,  1.03010640e-01,\n",
       "          9.68173966e-02,  1.93555295e+00,  1.79698840e-01, -7.66811967e-02,\n",
       "         -1.49807119e+00, -5.40187247e-02, -5.24706617e-02,  3.02849598e-02,\n",
       "         -1.74115226e-02,  1.28831118e-01, -2.41549507e-01, -1.64900616e-01,\n",
       "         -6.56023473e-02, -6.99366480e-02, -1.06973834e-01,  4.09240015e-02,\n",
       "          1.17772058e-01,  3.50861132e-01,  7.25037634e-01,  8.16784650e-02,\n",
       "          1.17033653e-01, -4.15354818e-02,  1.13137446e-01, -1.13784805e-01,\n",
       "          1.23158500e-01,  9.40709263e-02, -1.52767330e-01, -4.35835791e+00,\n",
       "          6.32172003e-02, -3.09317172e-01,  2.49410510e-01,  1.90887749e-02,\n",
       "         -6.06307574e-02,  7.37080574e-02, -2.68898726e-01,  6.70781732e-03,\n",
       "         -6.07099906e-02, -8.88302863e-01, -5.95405474e-02, -1.41041189e-01,\n",
       "         -1.44251749e-01, -1.79012179e-01, -2.47426793e-01,  2.26918478e-02,\n",
       "          3.19488358e+00, -3.18569019e-02,  4.43711504e-03, -4.11037892e-01,\n",
       "          3.68452147e-02, -1.11947440e-01, -5.53734563e-02,  2.55288392e-01,\n",
       "          4.68988232e-02,  1.67969018e-01,  1.87707171e-02, -2.39156350e-01,\n",
       "          3.71582538e-01, -8.42823386e-02,  2.02433944e+00,  8.41042772e-02,\n",
       "         -8.34049657e-02, -1.37377238e+00, -2.50022960e+00, -7.05239996e-02,\n",
       "         -1.29813039e+00,  8.05416852e-02,  1.71809688e-01,  4.47998121e-02,\n",
       "         -4.40216698e-02, -1.13459378e-01, -1.83733627e-02, -2.33535767e-02,\n",
       "          8.68032221e-03, -2.18157377e-02,  1.00403272e-01, -3.10949963e-02,\n",
       "         -6.97715953e-03,  2.76472736e-02,  1.60547383e-02, -2.61823405e-02,\n",
       "          1.18214630e-01,  5.01565039e-02, -1.13225207e-01, -7.22497329e-02,\n",
       "         -4.24867392e-01,  3.44270587e+00,  8.39390457e-02, -3.01241010e-01,\n",
       "         -9.93440226e-02, -1.01759396e-01,  8.58335663e-03, -9.36527029e-02,\n",
       "          9.70992073e-02, -3.77569079e+00, -1.62213389e-02,  7.30667040e-02],\n",
       "        dtype=float32)),\n",
       " ('10107',\n",
       "  array([-1.28076851e-01, -1.11214750e-01, -1.71452060e-01,  3.27454433e-02,\n",
       "         -1.80875266e+00, -2.47436427e-02,  1.03919476e-01,  5.66984005e-02,\n",
       "         -2.29324568e-02, -4.48262095e-01,  4.18114996e+00,  5.57100363e-02,\n",
       "          6.10681325e-02, -1.02311648e-01, -5.79268076e-02, -7.60177493e-01,\n",
       "         -6.29735813e-02, -6.53207451e-02,  1.97310403e-01, -1.66576803e-01,\n",
       "          3.90195195e-03, -4.75511365e-02, -3.03839231e+00, -4.87547033e-02,\n",
       "         -3.91833931e-02, -3.34014967e-02, -6.30134121e-02,  2.99506374e-02,\n",
       "         -1.94048844e-02, -8.57309997e-02, -4.21287119e-01,  3.19744349e-02,\n",
       "         -1.65162206e-01, -6.53480366e-02,  2.02827435e-02, -5.22994474e-02,\n",
       "          2.06882089e-01, -7.49328673e-01, -5.47714159e-02,  7.56143183e-02,\n",
       "         -2.32606083e-02,  1.52298257e-01, -5.32961711e-02,  1.87605619e-02,\n",
       "          1.21032692e-01,  2.63216794e-01, -4.73346800e-01, -8.27256665e-02,\n",
       "          5.73349409e-02,  7.27213919e-03,  3.06049958e-02,  2.70874560e-01,\n",
       "          4.41129096e-02, -4.55871642e-01, -2.32052021e-02,  2.08436232e-02,\n",
       "          1.24664217e-01,  2.49553937e-02, -7.28088379e-01,  2.25550006e-03,\n",
       "          5.85069088e-03, -1.63793349e+00, -2.48431526e-02, -3.13419662e-02,\n",
       "         -3.18520814e-01,  1.11352079e-01,  6.26374781e-02,  4.96600240e-01,\n",
       "          3.54947948e+00, -8.45433772e-02,  6.45439625e-02,  4.96797673e-02,\n",
       "          5.35727441e-02, -1.00574672e+00,  9.71912295e-02, -2.04298303e-01,\n",
       "         -8.14990178e-02, -2.42312029e-01,  1.12133992e+00,  7.97194019e-02,\n",
       "         -2.16613561e-02,  4.42218687e-03,  4.76274565e-02,  3.89405042e-02,\n",
       "          4.20294441e-02,  7.33030587e-02,  1.02614816e-02, -1.62147749e-02,\n",
       "          2.25918338e-01,  9.83507335e-02, -1.21093452e-01,  1.29740909e-01,\n",
       "         -8.43565613e-02, -9.56261039e-01, -1.26893550e-01,  4.94919345e-02,\n",
       "          4.84933816e-02, -4.30869535e-02,  4.55782413e-02, -1.15711200e+00,\n",
       "         -3.58622260e-02,  5.58973029e-02, -1.29915965e+00,  1.77917421e-01,\n",
       "          1.39215421e-02,  7.00295568e-02,  5.24060987e-02,  1.57153344e+00,\n",
       "         -1.97453443e-02,  2.19085768e-01,  1.24093838e-01, -4.27891947e-02,\n",
       "          3.94586533e-01, -7.21735507e-02,  1.37938112e-01, -7.74461329e-02,\n",
       "         -1.75663143e-01, -3.74603309e-02, -2.82767937e-02, -3.80553454e-02,\n",
       "          9.14765149e-03,  6.12188354e-02,  9.86157954e-02,  3.05268693e+00,\n",
       "          7.71003962e-02,  4.66001034e-02,  1.30178154e-01, -5.54663464e-02,\n",
       "         -3.63629647e-02, -2.23402642e-02, -7.41477385e-02, -6.34919629e-02,\n",
       "         -1.67323315e+00, -8.12050253e-02,  1.61255479e+00, -7.80634061e-02,\n",
       "          1.65195867e-01,  1.37455553e-01, -1.12320316e+00,  7.72603750e-01,\n",
       "         -4.57542501e-02,  1.27424970e-01, -2.43070975e-01, -5.72021268e-02,\n",
       "         -1.78069845e-01, -4.56316620e-02, -2.01523587e-01, -7.85235036e-03,\n",
       "          7.87071809e-02, -1.30634857e-02,  2.61736274e+00,  4.39730063e-02,\n",
       "          2.61831641e-01,  4.12042999e+00, -3.01484156e+00, -5.39620481e-02,\n",
       "          2.18424344e+00,  2.67182082e-01, -1.17175353e+00,  1.03010640e-01,\n",
       "          9.68173966e-02,  1.93555295e+00,  1.79698840e-01, -7.66811967e-02,\n",
       "         -1.49807119e+00, -5.40187247e-02, -5.24706617e-02,  3.02849598e-02,\n",
       "         -1.74115244e-02,  1.28831118e-01, -2.41549522e-01, -1.64900616e-01,\n",
       "         -6.56023473e-02, -6.99366480e-02, -1.06973849e-01,  4.09240015e-02,\n",
       "          1.17772058e-01,  3.50861132e-01,  7.25037634e-01,  8.16784650e-02,\n",
       "          1.17033653e-01, -4.15354818e-02,  1.13137446e-01, -1.13784805e-01,\n",
       "          1.23158500e-01,  9.40709263e-02, -1.52767330e-01, -4.35835791e+00,\n",
       "          6.32172003e-02, -3.09317172e-01,  2.49410510e-01,  1.90887749e-02,\n",
       "         -6.06307574e-02,  7.37080574e-02, -2.68898755e-01,  6.70781732e-03,\n",
       "         -6.07099906e-02, -8.88302863e-01, -5.95405474e-02, -1.41041189e-01,\n",
       "         -1.44251749e-01, -1.79012179e-01, -2.47426793e-01,  2.26918478e-02,\n",
       "          3.19488358e+00, -3.18569019e-02,  4.43711411e-03, -4.11037892e-01,\n",
       "          3.68452147e-02, -1.11947440e-01, -5.53734563e-02,  2.55288392e-01,\n",
       "          4.68988195e-02,  1.67969018e-01,  1.87707189e-02, -2.39156350e-01,\n",
       "          3.71582538e-01, -8.42823386e-02,  2.02433944e+00,  8.41042772e-02,\n",
       "         -8.34049657e-02, -1.37377238e+00, -2.50022960e+00, -7.05239996e-02,\n",
       "         -1.29813039e+00,  8.05416852e-02,  1.71809688e-01,  4.47998121e-02,\n",
       "         -4.40216698e-02, -1.13459378e-01, -1.83733627e-02, -2.33535767e-02,\n",
       "          8.68032221e-03, -2.18157414e-02,  1.00403272e-01, -3.10949963e-02,\n",
       "         -6.97715953e-03,  2.76472736e-02,  1.60547383e-02, -2.61823405e-02,\n",
       "          1.18214630e-01,  5.01565039e-02, -1.13225192e-01, -7.22497329e-02,\n",
       "         -4.24867392e-01,  3.44270587e+00,  8.39390457e-02, -3.01241010e-01,\n",
       "         -9.93440226e-02, -1.01759396e-01,  8.58336221e-03, -9.36527029e-02,\n",
       "          9.70992073e-02, -3.77569079e+00, -1.62213389e-02,  7.30667040e-02],\n",
       "        dtype=float32))]"
      ]
     },
     "execution_count": 14,
     "metadata": {},
     "output_type": "execute_result"
    }
   ],
   "source": [
    "list(stock_embeddings.items())[:2]"
   ]
  },
  {
   "cell_type": "markdown",
   "id": "136a532d-fa79-49dc-864e-fc55bc71e6a8",
   "metadata": {},
   "source": [
    "## Cosine Similarity Matrix"
   ]
  },
  {
   "cell_type": "code",
   "execution_count": 16,
   "id": "379ffcf5-c3b7-4169-b8df-31ff46208d42",
   "metadata": {},
   "outputs": [
    {
     "name": "stdout",
     "output_type": "stream",
     "text": [
      "CPU times: user 2.95 ms, sys: 3.79 ms, total: 6.74 ms\n",
      "Wall time: 4.45 ms\n"
     ]
    },
    {
     "data": {
      "text/plain": [
       "array([[1.0000001, 1.0000001, 1.0000001, ..., 1.0000001, 1.0000001,\n",
       "        1.0000001],\n",
       "       [1.0000001, 1.0000001, 1.0000001, ..., 1.0000001, 1.0000001,\n",
       "        1.0000001],\n",
       "       [1.0000001, 1.0000001, 1.0000001, ..., 1.0000001, 1.0000001,\n",
       "        1.0000001],\n",
       "       ...,\n",
       "       [1.0000001, 1.0000001, 1.0000001, ..., 1.0000001, 1.0000001,\n",
       "        1.0000001],\n",
       "       [1.0000001, 1.0000001, 1.0000001, ..., 1.0000001, 1.0000001,\n",
       "        1.0000001],\n",
       "       [1.0000001, 1.0000001, 1.0000001, ..., 1.0000001, 1.0000001,\n",
       "        1.0000001]], dtype=float32)"
      ]
     },
     "execution_count": 16,
     "metadata": {},
     "output_type": "execute_result"
    }
   ],
   "source": [
    "%%time\n",
    "# Assuming stock_embeddings is a dictionary with permno_id as keys and embeddings as values\n",
    "embeddings_list = []\n",
    "permno_ids = []\n",
    "\n",
    "for permno_id, embedding in stock_embeddings.items():\n",
    "    permno_ids.append(permno_id)\n",
    "    embeddings_list.append(embedding)\n",
    "\n",
    "# Convert the list of embeddings to a numpy array\n",
    "embeddings_array = np.array(embeddings_list)\n",
    "\n",
    "# Transform embeddings using cosine similarity\n",
    "cosine_sim_matrix = cosine_similarity(embeddings_array)\n",
    "cosine_sim_matrix"
   ]
  },
  {
   "cell_type": "markdown",
   "id": "406fec60-3259-4c45-ba3e-85d620608f11",
   "metadata": {},
   "source": [
    "## Model Features Check"
   ]
  },
  {
   "cell_type": "code",
   "execution_count": 17,
   "id": "94d98c3e-d74d-47d5-8f7d-ef17a933e659",
   "metadata": {
    "scrolled": true
   },
   "outputs": [
    {
     "name": "stdout",
     "output_type": "stream",
     "text": [
      "{'features': tensor([[[-1.3843e-02,  0.0000e+00,  0.0000e+00,  ...,  0.0000e+00,\n",
      "           0.0000e+00,  0.0000e+00],\n",
      "         [ 2.2897e-02,  6.4040e-03,  4.8720e-03,  ...,  0.0000e+00,\n",
      "           0.0000e+00,  1.0000e+00],\n",
      "         [ 9.8028e-03,  4.0480e-03,  9.6000e-04,  ...,  0.0000e+00,\n",
      "           0.0000e+00,  2.0000e+00],\n",
      "         ...,\n",
      "         [ 1.9999e-02,  8.8280e-03,  8.2140e-03,  ...,  0.0000e+00,\n",
      "           0.0000e+00,  1.2500e+02],\n",
      "         [-5.1301e-03, -5.7360e-03, -1.3760e-03,  ...,  0.0000e+00,\n",
      "           0.0000e+00,  1.2600e+02],\n",
      "         [ 1.5311e-02,  1.1983e-02,  1.2778e-02,  ...,  0.0000e+00,\n",
      "           0.0000e+00,  1.2700e+02]],\n",
      "\n",
      "        [[ 2.2897e-02,  6.4040e-03,  4.8720e-03,  ...,  0.0000e+00,\n",
      "           0.0000e+00,  1.0000e+00],\n",
      "         [ 9.8028e-03,  4.0480e-03,  9.6000e-04,  ...,  0.0000e+00,\n",
      "           0.0000e+00,  2.0000e+00],\n",
      "         [ 6.0010e-03,  9.5810e-03,  6.7220e-03,  ...,  0.0000e+00,\n",
      "           0.0000e+00,  3.0000e+00],\n",
      "         ...,\n",
      "         [-5.1301e-03, -5.7360e-03, -1.3760e-03,  ...,  0.0000e+00,\n",
      "           0.0000e+00,  1.2600e+02],\n",
      "         [ 1.5311e-02,  1.1983e-02,  1.2778e-02,  ...,  0.0000e+00,\n",
      "           0.0000e+00,  1.2700e+02],\n",
      "         [ 1.2909e-02,  1.3343e-02,  1.3631e-02,  ...,  0.0000e+00,\n",
      "           0.0000e+00,  1.2800e+02]],\n",
      "\n",
      "        [[ 9.8028e-03,  4.0480e-03,  9.6000e-04,  ...,  0.0000e+00,\n",
      "           0.0000e+00,  2.0000e+00],\n",
      "         [ 6.0010e-03,  9.5810e-03,  6.7220e-03,  ...,  0.0000e+00,\n",
      "           0.0000e+00,  3.0000e+00],\n",
      "         [ 1.0467e-02,  2.1420e-03,  5.3540e-03,  ...,  0.0000e+00,\n",
      "           0.0000e+00,  4.0000e+00],\n",
      "         ...,\n",
      "         [ 1.5311e-02,  1.1983e-02,  1.2778e-02,  ...,  0.0000e+00,\n",
      "           0.0000e+00,  1.2700e+02],\n",
      "         [ 1.2909e-02,  1.3343e-02,  1.3631e-02,  ...,  0.0000e+00,\n",
      "           0.0000e+00,  1.2800e+02],\n",
      "         [ 1.5745e-02,  4.4740e-03,  4.7410e-03,  ...,  0.0000e+00,\n",
      "           0.0000e+00,  1.2900e+02]],\n",
      "\n",
      "        ...,\n",
      "\n",
      "        [[ 7.0362e-03,  3.6530e-03,  8.6740e-03,  ...,  0.0000e+00,\n",
      "           0.0000e+00,  2.9000e+01],\n",
      "         [ 1.9605e-02,  1.4844e-02,  1.8032e-02,  ...,  0.0000e+00,\n",
      "           0.0000e+00,  3.0000e+01],\n",
      "         [ 2.3780e-02,  1.5021e-02,  1.4210e-02,  ...,  0.0000e+00,\n",
      "           0.0000e+00,  3.1000e+01],\n",
      "         ...,\n",
      "         [-6.4367e-03, -4.3830e-03, -6.6130e-03,  ...,  0.0000e+00,\n",
      "           0.0000e+00,  1.5400e+02],\n",
      "         [ 4.5715e-03,  7.2390e-03,  6.7610e-03,  ...,  0.0000e+00,\n",
      "           0.0000e+00,  1.5500e+02],\n",
      "         [-8.1189e-03, -1.0659e-02, -1.2703e-02,  ...,  0.0000e+00,\n",
      "           0.0000e+00,  1.5600e+02]],\n",
      "\n",
      "        [[ 1.9605e-02,  1.4844e-02,  1.8032e-02,  ...,  0.0000e+00,\n",
      "           0.0000e+00,  3.0000e+01],\n",
      "         [ 2.3780e-02,  1.5021e-02,  1.4210e-02,  ...,  0.0000e+00,\n",
      "           0.0000e+00,  3.1000e+01],\n",
      "         [ 1.3810e-03, -2.3730e-03, -1.4350e-03,  ...,  0.0000e+00,\n",
      "           0.0000e+00,  3.2000e+01],\n",
      "         ...,\n",
      "         [ 4.5715e-03,  7.2390e-03,  6.7610e-03,  ...,  0.0000e+00,\n",
      "           0.0000e+00,  1.5500e+02],\n",
      "         [-8.1189e-03, -1.0659e-02, -1.2703e-02,  ...,  0.0000e+00,\n",
      "           0.0000e+00,  1.5600e+02],\n",
      "         [ 5.4203e-03,  2.9810e-03,  5.6800e-03,  ...,  0.0000e+00,\n",
      "           0.0000e+00,  1.5700e+02]],\n",
      "\n",
      "        [[ 2.3780e-02,  1.5021e-02,  1.4210e-02,  ...,  0.0000e+00,\n",
      "           0.0000e+00,  3.1000e+01],\n",
      "         [ 1.3810e-03, -2.3730e-03, -1.4350e-03,  ...,  0.0000e+00,\n",
      "           0.0000e+00,  3.2000e+01],\n",
      "         [-1.6302e-02, -3.7510e-03, -2.2010e-03,  ...,  0.0000e+00,\n",
      "           0.0000e+00,  3.3000e+01],\n",
      "         ...,\n",
      "         [-8.1189e-03, -1.0659e-02, -1.2703e-02,  ...,  0.0000e+00,\n",
      "           0.0000e+00,  1.5600e+02],\n",
      "         [ 5.4203e-03,  2.9810e-03,  5.6800e-03,  ...,  0.0000e+00,\n",
      "           0.0000e+00,  1.5700e+02],\n",
      "         [ 5.3904e-03, -4.4800e-04, -1.7370e-03,  ...,  0.0000e+00,\n",
      "           0.0000e+00,  1.5800e+02]]]), 'target': tensor([[ 1.2909e-02,  1.2909e-02,  3.9730e-01,  3.9730e-01,  8.6375e-02,\n",
      "          8.6375e-02,  1.3961e-02,  1.3961e-02,  8.1100e-02,  1.0398e-01,\n",
      "          1.2514e-01],\n",
      "        [ 1.5745e-02,  1.5745e-02,  2.5376e-01,  2.5376e-01,  5.7886e-02,\n",
      "          5.7886e-02,  1.0602e-02,  1.0602e-02,  1.0557e-01,  9.7839e-02,\n",
      "          1.1782e-01],\n",
      "        [ 5.5486e-03,  5.5486e-03,  1.9294e-01,  1.9294e-01,  2.5439e-02,\n",
      "          2.5439e-02,  1.0550e-02,  1.0550e-02,  1.2291e-01,  1.3366e-01,\n",
      "          1.1777e-01],\n",
      "        [ 1.3738e-02,  1.3738e-02,  1.2104e-01,  1.2104e-01,  6.1284e-03,\n",
      "          6.1284e-03,  6.4990e-03,  6.4990e-03,  1.0674e-01,  1.2134e-01,\n",
      "          1.1110e-01],\n",
      "        [ 1.0648e-02,  1.0648e-02,  7.8280e-02,  7.8280e-02, -1.6374e-02,\n",
      "          1.6374e-02,  2.9936e-03,  2.9936e-03,  9.3296e-02,  1.1517e-01,\n",
      "          1.0673e-01],\n",
      "        [ 9.9196e-03,  9.9196e-03,  2.4651e-02,  2.4651e-02, -1.4312e-02,\n",
      "          1.4312e-02,  2.3826e-03,  2.3826e-03,  7.5666e-02,  1.1831e-01,\n",
      "          1.0528e-01],\n",
      "        [ 4.1092e-04,  4.1092e-04,  5.3103e-02,  5.3103e-02,  2.6632e-04,\n",
      "          2.6632e-04,  3.3054e-03,  3.3054e-03,  8.1410e-02,  1.2992e-01,\n",
      "          1.0567e-01],\n",
      "        [ 9.0390e-03,  9.0390e-03, -3.1508e-03,  3.1508e-03, -6.0430e-03,\n",
      "          6.0430e-03,  2.3607e-03,  2.3607e-03,  6.2558e-02,  1.2488e-01,\n",
      "          1.0377e-01],\n",
      "        [-5.3312e-03,  5.3312e-03, -1.0564e-03,  1.0564e-03, -4.2273e-03,\n",
      "          4.2273e-03,  4.5382e-03,  4.5382e-03,  6.1153e-02,  1.2392e-01,\n",
      "          1.0234e-01],\n",
      "        [-4.1205e-03,  4.1205e-03, -7.3125e-02,  7.3125e-02, -1.3261e-03,\n",
      "          1.3261e-03,  1.3257e-03,  1.3257e-03,  1.2796e-01,  1.2291e-01,\n",
      "          1.1058e-01],\n",
      "        [ 1.6506e-03,  1.6506e-03, -8.5903e-02,  8.5903e-02,  5.3045e-04,\n",
      "          5.3045e-04,  2.4451e-03,  2.4451e-03,  1.2564e-01,  1.2345e-01,\n",
      "          1.1151e-01],\n",
      "        [ 3.0862e-03,  3.0862e-03, -1.3186e-01,  1.3186e-01, -9.2349e-03,\n",
      "          9.2349e-03, -1.9188e-03,  1.9188e-03,  1.2126e-01,  1.2403e-01,\n",
      "          1.1567e-01],\n",
      "        [ 0.0000e+00,  0.0000e+00, -7.8740e-02,  7.8740e-02, -1.7400e-02,\n",
      "          1.7400e-02, -5.9437e-04,  5.9437e-04,  1.5270e-01,  1.2650e-01,\n",
      "          1.1640e-01],\n",
      "        [ 5.7365e-03,  5.7365e-03, -4.9413e-02,  4.9413e-02, -1.8871e-02,\n",
      "          1.8871e-02, -2.4355e-03,  2.4355e-03,  1.6957e-01,  1.2539e-01,\n",
      "          1.1499e-01],\n",
      "        [-1.6353e-03,  1.6353e-03, -2.0869e-02,  2.0869e-02, -2.7016e-02,\n",
      "          2.7016e-02, -5.4907e-03,  5.4907e-03,  1.7273e-01,  1.2894e-01,\n",
      "          1.1952e-01],\n",
      "        [-4.9231e-03,  4.9231e-03, -1.5762e-02,  1.5762e-02, -1.3990e-02,\n",
      "          1.3990e-02, -6.1201e-03,  6.1201e-03,  1.7177e-01,  1.3110e-01,\n",
      "          1.2033e-01],\n",
      "        [-1.8680e-02,  1.8680e-02,  7.3183e-02,  7.3183e-02,  1.7002e-02,\n",
      "          1.7002e-02,  5.3869e-04,  5.3869e-04,  1.1798e-01,  1.0447e-01,\n",
      "          1.0669e-01],\n",
      "        [-1.0485e-03,  1.0485e-03,  9.6298e-02,  9.6298e-02,  2.0000e-02,\n",
      "          2.0000e-02,  7.8894e-03,  7.8894e-03,  1.1615e-01,  1.0407e-01,\n",
      "          1.2482e-01],\n",
      "        [-6.9451e-03,  6.9451e-03,  1.0993e-01,  1.0993e-01,  2.8876e-02,\n",
      "          2.8876e-02,  1.0540e-02,  1.0540e-02,  1.0854e-01,  9.7707e-02,\n",
      "          1.2243e-01],\n",
      "        [ 1.1549e-02,  1.1549e-02,  1.1868e-02,  1.1868e-02,  2.4223e-02,\n",
      "          2.4223e-02,  9.5662e-03,  9.5662e-03,  1.0176e-01,  9.1696e-02,\n",
      "          1.2037e-01],\n",
      "        [ 1.1830e-02,  1.1830e-02, -2.5206e-02,  2.5206e-02,  1.3017e-02,\n",
      "          1.3017e-02,  3.2383e-03,  3.2383e-03,  7.2378e-02,  7.9012e-02,\n",
      "          1.1831e-01],\n",
      "        [ 4.1175e-03,  4.1175e-03, -8.4660e-02,  8.4660e-02,  1.5614e-02,\n",
      "          1.5614e-02,  3.8150e-03,  3.8150e-03,  7.5284e-02,  8.1096e-02,\n",
      "          1.1896e-01],\n",
      "        [-3.9116e-03,  3.9116e-03, -3.9659e-02,  3.9659e-02,  2.2600e-02,\n",
      "          2.2600e-02,  4.6186e-03,  4.6186e-03,  8.7537e-02,  7.8113e-02,\n",
      "          1.1835e-01],\n",
      "        [-1.8577e-03,  1.8577e-03, -3.1854e-03,  3.1854e-03,  6.6483e-03,\n",
      "          6.6483e-03,  4.2322e-03,  4.2322e-03,  9.5432e-02,  1.0130e-01,\n",
      "          1.1863e-01],\n",
      "        [ 3.0952e-03,  3.0952e-03, -1.2650e-02,  1.2650e-02,  9.2812e-03,\n",
      "          9.2812e-03,  5.8571e-03,  5.8571e-03,  9.3461e-02,  1.0272e-01,\n",
      "          1.2061e-01],\n",
      "        [-4.5423e-03,  4.5423e-03,  9.6165e-03,  9.6165e-03,  1.5967e-03,\n",
      "          1.5967e-03,  1.3833e-02,  1.3833e-02,  8.8805e-02,  1.1114e-01,\n",
      "          1.3266e-01],\n",
      "        [-6.4367e-03,  6.4367e-03,  8.7562e-02,  8.7562e-02,  1.5291e-02,\n",
      "          1.5291e-02,  2.0252e-02,  2.0252e-02,  8.5280e-02,  1.0811e-01,\n",
      "          1.3473e-01],\n",
      "        [ 4.5715e-03,  4.5715e-03,  8.0327e-02,  8.0327e-02,  9.3410e-03,\n",
      "          9.3410e-03,  1.9650e-02,  1.9650e-02,  8.4196e-02,  1.0679e-01,\n",
      "          1.3454e-01],\n",
      "        [-8.1189e-03,  8.1189e-03,  1.6234e-01,  1.6234e-01,  5.3786e-03,\n",
      "          5.3786e-03,  2.5383e-02,  2.5383e-02,  4.5916e-02,  1.1224e-01,\n",
      "          1.3226e-01],\n",
      "        [ 5.4203e-03,  5.4203e-03,  1.3867e-01,  1.3867e-01, -1.0412e-02,\n",
      "          1.0412e-02,  2.3025e-02,  2.3025e-02,  4.7614e-02,  1.1349e-01,\n",
      "          1.3267e-01],\n",
      "        [ 5.3904e-03,  5.3904e-03,  3.0141e-02,  3.0141e-02, -1.4598e-02,\n",
      "          1.4598e-02,  2.1635e-02,  2.1635e-02,  1.1404e-01,  1.1096e-01,\n",
      "          1.3242e-01],\n",
      "        [ 1.2402e-03,  1.2402e-03,  5.0939e-02,  5.0939e-02,  1.1699e-02,\n",
      "          1.1699e-02,  2.0402e-02,  2.0402e-02,  1.1698e-01,  1.4663e-01,\n",
      "          1.3320e-01]]), 'permno_id': ['10104', '10104', '10104', '10104', '10104', '10104', '10104', '10104', '10104', '10104', '10104', '10104', '10104', '10104', '10104', '10104', '10104', '10104', '10104', '10104', '10104', '10104', '10104', '10104', '10104', '10104', '10104', '10104', '10104', '10104', '10104', '10104']}\n"
     ]
    }
   ],
   "source": [
    "for batch in train_dataloader:\n",
    "    print(batch)\n",
    "    break"
   ]
  },
  {
   "cell_type": "code",
   "execution_count": 18,
   "id": "66a46766-d3e2-4091-84ba-c6be335e1038",
   "metadata": {},
   "outputs": [
    {
     "data": {
      "text/plain": [
       "torch.Size([32, 128, 560])"
      ]
     },
     "execution_count": 18,
     "metadata": {},
     "output_type": "execute_result"
    }
   ],
   "source": [
    "batch[\"features\"].shape"
   ]
  },
  {
   "cell_type": "code",
   "execution_count": 19,
   "id": "cb19d933-5a17-4fb4-a040-7eddbf2c5b05",
   "metadata": {},
   "outputs": [
    {
     "data": {
      "text/plain": [
       "torch.Size([32, 11])"
      ]
     },
     "execution_count": 19,
     "metadata": {},
     "output_type": "execute_result"
    }
   ],
   "source": [
    "batch[\"target\"].shape"
   ]
  },
  {
   "cell_type": "code",
   "execution_count": 20,
   "id": "ddca4f92-f9b6-4002-bbed-186ba159ce33",
   "metadata": {},
   "outputs": [
    {
     "data": {
      "text/plain": [
       "32"
      ]
     },
     "execution_count": 20,
     "metadata": {},
     "output_type": "execute_result"
    }
   ],
   "source": [
    "len(batch[\"permno_id\"])"
   ]
  },
  {
   "cell_type": "code",
   "execution_count": 21,
   "id": "41d2d945-059a-4e2f-a5c7-62bafaff03d7",
   "metadata": {},
   "outputs": [
    {
     "data": {
      "text/plain": [
       "tensor([[[-1.3843e-02,  0.0000e+00,  0.0000e+00,  ...,  0.0000e+00,\n",
       "           0.0000e+00,  0.0000e+00],\n",
       "         [ 2.2897e-02,  6.4040e-03,  4.8720e-03,  ...,  0.0000e+00,\n",
       "           0.0000e+00,  1.0000e+00],\n",
       "         [ 9.8028e-03,  4.0480e-03,  9.6000e-04,  ...,  0.0000e+00,\n",
       "           0.0000e+00,  2.0000e+00],\n",
       "         ...,\n",
       "         [ 1.9999e-02,  8.8280e-03,  8.2140e-03,  ...,  0.0000e+00,\n",
       "           0.0000e+00,  1.2500e+02],\n",
       "         [-5.1301e-03, -5.7360e-03, -1.3760e-03,  ...,  0.0000e+00,\n",
       "           0.0000e+00,  1.2600e+02],\n",
       "         [ 1.5311e-02,  1.1983e-02,  1.2778e-02,  ...,  0.0000e+00,\n",
       "           0.0000e+00,  1.2700e+02]],\n",
       "\n",
       "        [[ 2.2897e-02,  6.4040e-03,  4.8720e-03,  ...,  0.0000e+00,\n",
       "           0.0000e+00,  1.0000e+00],\n",
       "         [ 9.8028e-03,  4.0480e-03,  9.6000e-04,  ...,  0.0000e+00,\n",
       "           0.0000e+00,  2.0000e+00],\n",
       "         [ 6.0010e-03,  9.5810e-03,  6.7220e-03,  ...,  0.0000e+00,\n",
       "           0.0000e+00,  3.0000e+00],\n",
       "         ...,\n",
       "         [-5.1301e-03, -5.7360e-03, -1.3760e-03,  ...,  0.0000e+00,\n",
       "           0.0000e+00,  1.2600e+02],\n",
       "         [ 1.5311e-02,  1.1983e-02,  1.2778e-02,  ...,  0.0000e+00,\n",
       "           0.0000e+00,  1.2700e+02],\n",
       "         [ 1.2909e-02,  1.3343e-02,  1.3631e-02,  ...,  0.0000e+00,\n",
       "           0.0000e+00,  1.2800e+02]],\n",
       "\n",
       "        [[ 9.8028e-03,  4.0480e-03,  9.6000e-04,  ...,  0.0000e+00,\n",
       "           0.0000e+00,  2.0000e+00],\n",
       "         [ 6.0010e-03,  9.5810e-03,  6.7220e-03,  ...,  0.0000e+00,\n",
       "           0.0000e+00,  3.0000e+00],\n",
       "         [ 1.0467e-02,  2.1420e-03,  5.3540e-03,  ...,  0.0000e+00,\n",
       "           0.0000e+00,  4.0000e+00],\n",
       "         ...,\n",
       "         [ 1.5311e-02,  1.1983e-02,  1.2778e-02,  ...,  0.0000e+00,\n",
       "           0.0000e+00,  1.2700e+02],\n",
       "         [ 1.2909e-02,  1.3343e-02,  1.3631e-02,  ...,  0.0000e+00,\n",
       "           0.0000e+00,  1.2800e+02],\n",
       "         [ 1.5745e-02,  4.4740e-03,  4.7410e-03,  ...,  0.0000e+00,\n",
       "           0.0000e+00,  1.2900e+02]],\n",
       "\n",
       "        [[ 6.0010e-03,  9.5810e-03,  6.7220e-03,  ...,  0.0000e+00,\n",
       "           0.0000e+00,  3.0000e+00],\n",
       "         [ 1.0467e-02,  2.1420e-03,  5.3540e-03,  ...,  0.0000e+00,\n",
       "           0.0000e+00,  4.0000e+00],\n",
       "         [ 5.4969e-03, -2.6340e-03, -2.7040e-03,  ...,  0.0000e+00,\n",
       "           0.0000e+00,  5.0000e+00],\n",
       "         ...,\n",
       "         [ 1.2909e-02,  1.3343e-02,  1.3631e-02,  ...,  0.0000e+00,\n",
       "           0.0000e+00,  1.2800e+02],\n",
       "         [ 1.5745e-02,  4.4740e-03,  4.7410e-03,  ...,  0.0000e+00,\n",
       "           0.0000e+00,  1.2900e+02],\n",
       "         [ 5.5486e-03,  7.9000e-04, -4.3100e-03,  ...,  0.0000e+00,\n",
       "           0.0000e+00,  1.3000e+02]],\n",
       "\n",
       "        [[ 1.0467e-02,  2.1420e-03,  5.3540e-03,  ...,  0.0000e+00,\n",
       "           0.0000e+00,  4.0000e+00],\n",
       "         [ 5.4969e-03, -2.6340e-03, -2.7040e-03,  ...,  0.0000e+00,\n",
       "           0.0000e+00,  5.0000e+00],\n",
       "         [-5.3141e-03, -2.4190e-03, -1.9280e-03,  ...,  0.0000e+00,\n",
       "           0.0000e+00,  6.0000e+00],\n",
       "         ...,\n",
       "         [ 1.5745e-02,  4.4740e-03,  4.7410e-03,  ...,  0.0000e+00,\n",
       "           0.0000e+00,  1.2900e+02],\n",
       "         [ 5.5486e-03,  7.9000e-04, -4.3100e-03,  ...,  0.0000e+00,\n",
       "           0.0000e+00,  1.3000e+02],\n",
       "         [ 1.3738e-02, -9.3200e-04, -1.3180e-03,  ...,  0.0000e+00,\n",
       "           0.0000e+00,  1.3100e+02]]])"
      ]
     },
     "execution_count": 21,
     "metadata": {},
     "output_type": "execute_result"
    }
   ],
   "source": [
    "batch[\"features\"][:5]"
   ]
  },
  {
   "cell_type": "code",
   "execution_count": 22,
   "id": "19b956b9-b69b-4b06-a89b-9291a004d504",
   "metadata": {
    "scrolled": true
   },
   "outputs": [
    {
     "data": {
      "text/plain": [
       "(tensor([[0.0017, 0.0145, 0.0311, 0.1618, 0.0174, 0.0607, 0.0082, 0.0234, 0.2612,\n",
       "          0.2775, 0.2874],\n",
       "         [0.0017, 0.0145, 0.0311, 0.1618, 0.0174, 0.0607, 0.0082, 0.0234, 0.2612,\n",
       "          0.2775, 0.2874],\n",
       "         [0.0017, 0.0145, 0.0311, 0.1618, 0.0174, 0.0607, 0.0082, 0.0234, 0.2612,\n",
       "          0.2775, 0.2874],\n",
       "         [0.0017, 0.0145, 0.0311, 0.1618, 0.0174, 0.0607, 0.0082, 0.0234, 0.2612,\n",
       "          0.2775, 0.2874],\n",
       "         [0.0017, 0.0145, 0.0311, 0.1618, 0.0174, 0.0607, 0.0082, 0.0234, 0.2612,\n",
       "          0.2775, 0.2874],\n",
       "         [0.0017, 0.0145, 0.0311, 0.1618, 0.0174, 0.0607, 0.0082, 0.0234, 0.2612,\n",
       "          0.2775, 0.2874],\n",
       "         [0.0017, 0.0145, 0.0311, 0.1618, 0.0174, 0.0607, 0.0082, 0.0234, 0.2612,\n",
       "          0.2775, 0.2874],\n",
       "         [0.0017, 0.0145, 0.0311, 0.1618, 0.0174, 0.0607, 0.0082, 0.0234, 0.2612,\n",
       "          0.2775, 0.2874],\n",
       "         [0.0017, 0.0145, 0.0311, 0.1618, 0.0174, 0.0607, 0.0082, 0.0234, 0.2612,\n",
       "          0.2775, 0.2874],\n",
       "         [0.0017, 0.0145, 0.0311, 0.1618, 0.0174, 0.0607, 0.0082, 0.0234, 0.2612,\n",
       "          0.2775, 0.2874],\n",
       "         [0.0017, 0.0145, 0.0311, 0.1618, 0.0174, 0.0607, 0.0082, 0.0234, 0.2612,\n",
       "          0.2775, 0.2874],\n",
       "         [0.0017, 0.0145, 0.0311, 0.1618, 0.0174, 0.0607, 0.0082, 0.0234, 0.2612,\n",
       "          0.2775, 0.2874],\n",
       "         [0.0017, 0.0145, 0.0311, 0.1618, 0.0174, 0.0607, 0.0082, 0.0234, 0.2612,\n",
       "          0.2775, 0.2874],\n",
       "         [0.0017, 0.0145, 0.0311, 0.1618, 0.0174, 0.0607, 0.0082, 0.0234, 0.2612,\n",
       "          0.2775, 0.2874],\n",
       "         [0.0017, 0.0145, 0.0311, 0.1618, 0.0174, 0.0607, 0.0082, 0.0234, 0.2612,\n",
       "          0.2775, 0.2874],\n",
       "         [0.0017, 0.0145, 0.0311, 0.1618, 0.0174, 0.0607, 0.0082, 0.0234, 0.2612,\n",
       "          0.2775, 0.2874],\n",
       "         [0.0017, 0.0145, 0.0311, 0.1618, 0.0174, 0.0607, 0.0082, 0.0234, 0.2612,\n",
       "          0.2775, 0.2874],\n",
       "         [0.0017, 0.0145, 0.0311, 0.1618, 0.0174, 0.0607, 0.0082, 0.0234, 0.2612,\n",
       "          0.2775, 0.2874],\n",
       "         [0.0017, 0.0145, 0.0311, 0.1618, 0.0174, 0.0607, 0.0082, 0.0234, 0.2612,\n",
       "          0.2775, 0.2874],\n",
       "         [0.0017, 0.0145, 0.0311, 0.1618, 0.0174, 0.0607, 0.0082, 0.0234, 0.2612,\n",
       "          0.2775, 0.2874],\n",
       "         [0.0017, 0.0145, 0.0311, 0.1618, 0.0174, 0.0607, 0.0082, 0.0234, 0.2612,\n",
       "          0.2775, 0.2874],\n",
       "         [0.0017, 0.0145, 0.0311, 0.1618, 0.0174, 0.0607, 0.0082, 0.0234, 0.2612,\n",
       "          0.2775, 0.2874],\n",
       "         [0.0017, 0.0145, 0.0311, 0.1618, 0.0174, 0.0607, 0.0082, 0.0234, 0.2612,\n",
       "          0.2775, 0.2874],\n",
       "         [0.0017, 0.0145, 0.0311, 0.1618, 0.0174, 0.0607, 0.0082, 0.0234, 0.2612,\n",
       "          0.2775, 0.2874],\n",
       "         [0.0017, 0.0145, 0.0311, 0.1618, 0.0174, 0.0607, 0.0082, 0.0234, 0.2612,\n",
       "          0.2775, 0.2874],\n",
       "         [0.0017, 0.0145, 0.0311, 0.1618, 0.0174, 0.0607, 0.0082, 0.0234, 0.2612,\n",
       "          0.2775, 0.2874],\n",
       "         [0.0017, 0.0145, 0.0311, 0.1618, 0.0174, 0.0607, 0.0082, 0.0234, 0.2612,\n",
       "          0.2775, 0.2874],\n",
       "         [0.0017, 0.0145, 0.0311, 0.1618, 0.0174, 0.0607, 0.0082, 0.0234, 0.2612,\n",
       "          0.2775, 0.2874],\n",
       "         [0.0017, 0.0145, 0.0311, 0.1618, 0.0174, 0.0607, 0.0082, 0.0234, 0.2612,\n",
       "          0.2775, 0.2874],\n",
       "         [0.0017, 0.0145, 0.0311, 0.1618, 0.0174, 0.0607, 0.0082, 0.0234, 0.2612,\n",
       "          0.2775, 0.2874],\n",
       "         [0.0017, 0.0145, 0.0311, 0.1618, 0.0174, 0.0607, 0.0082, 0.0234, 0.2612,\n",
       "          0.2775, 0.2874],\n",
       "         [0.0017, 0.0145, 0.0311, 0.1618, 0.0174, 0.0607, 0.0082, 0.0234, 0.2612,\n",
       "          0.2775, 0.2874]], grad_fn=<AddmmBackward0>),\n",
       " tensor([[-0.1281, -0.1112, -0.1715,  ..., -3.7757, -0.0162,  0.0731],\n",
       "         [-0.1281, -0.1112, -0.1715,  ..., -3.7757, -0.0162,  0.0731],\n",
       "         [-0.1281, -0.1112, -0.1715,  ..., -3.7757, -0.0162,  0.0731],\n",
       "         ...,\n",
       "         [-0.1281, -0.1112, -0.1715,  ..., -3.7757, -0.0162,  0.0731],\n",
       "         [-0.1281, -0.1112, -0.1715,  ..., -3.7757, -0.0162,  0.0731],\n",
       "         [-0.1281, -0.1112, -0.1715,  ..., -3.7757, -0.0162,  0.0731]],\n",
       "        grad_fn=<SliceBackward0>))"
      ]
     },
     "execution_count": 22,
     "metadata": {},
     "output_type": "execute_result"
    }
   ],
   "source": [
    "model(batch[\"features\"].to(device))"
   ]
  },
  {
   "cell_type": "code",
   "execution_count": 23,
   "id": "0662f9f8-7435-4de7-9c73-59c4003927b4",
   "metadata": {
    "scrolled": true
   },
   "outputs": [
    {
     "data": {
      "text/plain": [
       "[(array([[-3.30853331e-02, -1.46880000e-02, -1.88230000e-02, ...,\n",
       "           0.00000000e+00,  1.00000000e+00,  1.31300000e+03],\n",
       "         [ 5.58238943e-03,  8.88100000e-03,  3.76000000e-03, ...,\n",
       "           0.00000000e+00,  1.00000000e+00,  1.31400000e+03],\n",
       "         [-9.46061079e-03,  5.69000000e-04,  2.37000000e-04, ...,\n",
       "           0.00000000e+00,  1.00000000e+00,  1.31500000e+03],\n",
       "         ...,\n",
       "         [-1.47806983e-02, -1.52550000e-02, -8.46000000e-03, ...,\n",
       "           0.00000000e+00,  1.00000000e+00,  1.43800000e+03],\n",
       "         [-2.65893853e-02, -1.74260000e-02, -1.82480000e-02, ...,\n",
       "           0.00000000e+00,  1.00000000e+00,  1.43900000e+03],\n",
       "         [-4.32363651e-02, -3.28000000e-04,  2.98000000e-04, ...,\n",
       "           0.00000000e+00,  1.00000000e+00,  1.44000000e+03]]),\n",
       "  array([ 0.00857909,  0.00857909,  0.33228679,  0.33228679,  0.02155068,\n",
       "          0.02155068, -0.03861463,  0.03861463,  0.43503314,  0.35140562,\n",
       "          0.51255168]),\n",
       "  '93436'),\n",
       " (array([[ 5.58238943e-03,  8.88100000e-03,  3.76000000e-03, ...,\n",
       "           0.00000000e+00,  1.00000000e+00,  1.31400000e+03],\n",
       "         [-9.46061079e-03,  5.69000000e-04,  2.37000000e-04, ...,\n",
       "           0.00000000e+00,  1.00000000e+00,  1.31500000e+03],\n",
       "         [ 7.32609849e-03, -4.33200000e-03,  4.49100000e-03, ...,\n",
       "           0.00000000e+00,  1.00000000e+00,  1.31600000e+03],\n",
       "         ...,\n",
       "         [-2.65893853e-02, -1.74260000e-02, -1.82480000e-02, ...,\n",
       "           0.00000000e+00,  1.00000000e+00,  1.43900000e+03],\n",
       "         [-4.32363651e-02, -3.28000000e-04,  2.98000000e-04, ...,\n",
       "           0.00000000e+00,  1.00000000e+00,  1.44000000e+03],\n",
       "         [ 8.57909411e-03,  6.47900000e-03,  6.19900000e-03, ...,\n",
       "           0.00000000e+00,  1.00000000e+00,  1.44100000e+03]]),\n",
       "  array([-0.01168804,  0.01168804,  0.38417329,  0.38417329,  0.05190794,\n",
       "          0.05190794, -0.0329423 ,  0.0329423 ,  0.42305291,  0.34850661,\n",
       "          0.51305525]),\n",
       "  '93436'),\n",
       " (array([[-9.46061079e-03,  5.69000000e-04,  2.37000000e-04, ...,\n",
       "           0.00000000e+00,  1.00000000e+00,  1.31500000e+03],\n",
       "         [ 7.32609849e-03, -4.33200000e-03,  4.49100000e-03, ...,\n",
       "           0.00000000e+00,  1.00000000e+00,  1.31600000e+03],\n",
       "         [-1.37531424e-02, -5.31500000e-03, -3.80700000e-03, ...,\n",
       "           0.00000000e+00,  1.00000000e+00,  1.31700000e+03],\n",
       "         ...,\n",
       "         [-4.32363651e-02, -3.28000000e-04,  2.98000000e-04, ...,\n",
       "           0.00000000e+00,  1.00000000e+00,  1.44000000e+03],\n",
       "         [ 8.57909411e-03,  6.47900000e-03,  6.19900000e-03, ...,\n",
       "           0.00000000e+00,  1.00000000e+00,  1.44100000e+03],\n",
       "         [-1.16880398e-02, -1.67560000e-02, -1.52520000e-02, ...,\n",
       "           0.00000000e+00,  1.00000000e+00,  1.44200000e+03]]),\n",
       "  array([-0.01494005,  0.01494005,  0.50896284,  0.50896284,  0.07736172,\n",
       "          0.07736172, -0.02926801,  0.02926801,  0.39410603,  0.33894466,\n",
       "          0.51186704]),\n",
       "  '93436'),\n",
       " (array([[ 7.32609849e-03, -4.33200000e-03,  4.49100000e-03, ...,\n",
       "           0.00000000e+00,  1.00000000e+00,  1.31600000e+03],\n",
       "         [-1.37531424e-02, -5.31500000e-03, -3.80700000e-03, ...,\n",
       "           0.00000000e+00,  1.00000000e+00,  1.31700000e+03],\n",
       "         [ 2.44877136e-02,  1.64900000e-02,  1.38740000e-02, ...,\n",
       "           0.00000000e+00,  1.00000000e+00,  1.31800000e+03],\n",
       "         ...,\n",
       "         [ 8.57909411e-03,  6.47900000e-03,  6.19900000e-03, ...,\n",
       "           0.00000000e+00,  1.00000000e+00,  1.44100000e+03],\n",
       "         [-1.16880398e-02, -1.67560000e-02, -1.52520000e-02, ...,\n",
       "           0.00000000e+00,  1.00000000e+00,  1.44200000e+03],\n",
       "         [-1.49400488e-02,  3.13300000e-03,  8.72700000e-03, ...,\n",
       "           0.00000000e+00,  1.00000000e+00,  1.44300000e+03]]),\n",
       "  array([ 0.02415491,  0.02415491,  0.31021686,  0.31021686, -0.01926552,\n",
       "          0.01926552, -0.03268523,  0.03268523,  0.39129426,  0.39283625,\n",
       "          0.50741345]),\n",
       "  '93436'),\n",
       " (array([[-1.37531424e-02, -5.31500000e-03, -3.80700000e-03, ...,\n",
       "           0.00000000e+00,  1.00000000e+00,  1.31700000e+03],\n",
       "         [ 2.44877136e-02,  1.64900000e-02,  1.38740000e-02, ...,\n",
       "           0.00000000e+00,  1.00000000e+00,  1.31800000e+03],\n",
       "         [ 7.19505341e-03,  7.66100000e-03,  8.51300000e-03, ...,\n",
       "           0.00000000e+00,  1.00000000e+00,  1.31900000e+03],\n",
       "         ...,\n",
       "         [-1.16880398e-02, -1.67560000e-02, -1.52520000e-02, ...,\n",
       "           0.00000000e+00,  1.00000000e+00,  1.44200000e+03],\n",
       "         [-1.49400488e-02,  3.13300000e-03,  8.72700000e-03, ...,\n",
       "           0.00000000e+00,  1.00000000e+00,  1.44300000e+03],\n",
       "         [ 2.41549071e-02,  1.02350000e-02,  1.28850000e-02, ...,\n",
       "           0.00000000e+00,  1.00000000e+00,  1.44400000e+03]]),\n",
       "  array([ 0.01546579,  0.01546579,  0.30773732,  0.30773732, -0.15197449,\n",
       "          0.15197449, -0.03757942,  0.03757942,  0.39098567,  0.55852846,\n",
       "          0.5040498 ]),\n",
       "  '93436')]"
      ]
     },
     "execution_count": 23,
     "metadata": {},
     "output_type": "execute_result"
    }
   ],
   "source": [
    "train_dataset.sequences[-5:]"
   ]
  },
  {
   "cell_type": "code",
   "execution_count": 24,
   "id": "9585f708-507f-4e5d-9650-88c60ef1179d",
   "metadata": {
    "colab": {
     "base_uri": "https://localhost:8080/"
    },
    "executionInfo": {
     "elapsed": 1,
     "status": "ok",
     "timestamp": 1718069531339,
     "user": {
      "displayName": "Shuo Wang",
      "userId": "10449608907229935685"
     },
     "user_tz": 240
    },
    "id": "4gTa_16myH8f",
    "outputId": "aeb7b7ae-a7bb-44b3-9f22-ec02084c4c5e"
   },
   "outputs": [
    {
     "data": {
      "text/plain": [
       "(256,)"
      ]
     },
     "execution_count": 24,
     "metadata": {},
     "output_type": "execute_result"
    }
   ],
   "source": [
    "np.array(stock_embeddings[\"10104\"]).shape"
   ]
  },
  {
   "cell_type": "code",
   "execution_count": null,
   "id": "bafa9da2-fc77-457a-8cc4-b67767072803",
   "metadata": {},
   "outputs": [],
   "source": []
  }
 ],
 "metadata": {
  "kernelspec": {
   "display_name": "Python 3 (ipykernel)",
   "language": "python",
   "name": "python3"
  },
  "language_info": {
   "codemirror_mode": {
    "name": "ipython",
    "version": 3
   },
   "file_extension": ".py",
   "mimetype": "text/x-python",
   "name": "python",
   "nbconvert_exporter": "python",
   "pygments_lexer": "ipython3",
   "version": "3.10.14"
  }
 },
 "nbformat": 4,
 "nbformat_minor": 5
}
