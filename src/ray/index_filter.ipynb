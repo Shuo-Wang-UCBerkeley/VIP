{
 "cells": [
  {
   "cell_type": "code",
   "execution_count": 3,
   "id": "41bbe10d-802a-4339-8f82-ed113a94b600",
   "metadata": {
    "editable": true,
    "slideshow": {
     "slide_type": ""
    },
    "tags": []
   },
   "outputs": [],
   "source": [
    "import os\n",
    "\n",
    "import numpy as np\n",
    "import pandas as pd\n",
    "from utils.file_utilities import s3_download"
   ]
  },
  {
   "cell_type": "markdown",
   "id": "be31d3a8-2678-4491-b37b-c3a4745e585b",
   "metadata": {},
   "source": [
    "### Import snp500 constituents\n"
   ]
  },
  {
   "cell_type": "code",
   "execution_count": 2,
   "id": "cab2bbac-4668-4c09-b08f-c1df58d08eda",
   "metadata": {},
   "outputs": [
    {
     "data": {
      "text/html": [
       "<div>\n",
       "<style scoped>\n",
       "    .dataframe tbody tr th:only-of-type {\n",
       "        vertical-align: middle;\n",
       "    }\n",
       "\n",
       "    .dataframe tbody tr th {\n",
       "        vertical-align: top;\n",
       "    }\n",
       "\n",
       "    .dataframe thead th {\n",
       "        text-align: right;\n",
       "    }\n",
       "</style>\n",
       "<table border=\"1\" class=\"dataframe\">\n",
       "  <thead>\n",
       "    <tr style=\"text-align: right;\">\n",
       "      <th></th>\n",
       "      <th>PERMNO</th>\n",
       "      <th>Company Name</th>\n",
       "      <th>Ticker</th>\n",
       "      <th>SP500 Start</th>\n",
       "      <th>SP500 End</th>\n",
       "    </tr>\n",
       "  </thead>\n",
       "  <tbody>\n",
       "    <tr>\n",
       "      <th>0</th>\n",
       "      <td>10104</td>\n",
       "      <td>ORACLE CORP</td>\n",
       "      <td>ORCL</td>\n",
       "      <td>Aug. 3, 1989</td>\n",
       "      <td>Dec. 29, 2023</td>\n",
       "    </tr>\n",
       "    <tr>\n",
       "      <th>1</th>\n",
       "      <td>10107</td>\n",
       "      <td>MICROSOFT CORP</td>\n",
       "      <td>MSFT</td>\n",
       "      <td>June 7, 1994</td>\n",
       "      <td>Dec. 29, 2023</td>\n",
       "    </tr>\n",
       "    <tr>\n",
       "      <th>2</th>\n",
       "      <td>10138</td>\n",
       "      <td>T ROWE PRICE GROUP INC</td>\n",
       "      <td>TROW</td>\n",
       "      <td>Oct. 13, 1999</td>\n",
       "      <td>Dec. 29, 2023</td>\n",
       "    </tr>\n",
       "    <tr>\n",
       "      <th>3</th>\n",
       "      <td>10145</td>\n",
       "      <td>HONEYWELL INTERNATIONAL INC</td>\n",
       "      <td>HON</td>\n",
       "      <td>Dec. 31, 1925</td>\n",
       "      <td>Dec. 29, 2023</td>\n",
       "    </tr>\n",
       "    <tr>\n",
       "      <th>4</th>\n",
       "      <td>10516</td>\n",
       "      <td>ARCHER DANIELS MIDLAND CO</td>\n",
       "      <td>ADM</td>\n",
       "      <td>July 30, 1981</td>\n",
       "      <td>Dec. 29, 2023</td>\n",
       "    </tr>\n",
       "  </tbody>\n",
       "</table>\n",
       "</div>"
      ],
      "text/plain": [
       "   PERMNO                 Company Name Ticker    SP500 Start      SP500 End\n",
       "0   10104                  ORACLE CORP   ORCL   Aug. 3, 1989  Dec. 29, 2023\n",
       "1   10107               MICROSOFT CORP   MSFT   June 7, 1994  Dec. 29, 2023\n",
       "2   10138       T ROWE PRICE GROUP INC   TROW  Oct. 13, 1999  Dec. 29, 2023\n",
       "3   10145  HONEYWELL INTERNATIONAL INC    HON  Dec. 31, 1925  Dec. 29, 2023\n",
       "4   10516    ARCHER DANIELS MIDLAND CO    ADM  July 30, 1981  Dec. 29, 2023"
      ]
     },
     "execution_count": 2,
     "metadata": {},
     "output_type": "execute_result"
    }
   ],
   "source": [
    "path = \"Index/snp500constituents2023.csv\"\n",
    "file_path = s3_download(path)\n",
    "index_constituents = pd.read_csv(file_path)\n",
    "index_constituents.head()"
   ]
  },
  {
   "cell_type": "code",
   "execution_count": 6,
   "id": "40366491-7756-4436-8683-4983bd3ea0e2",
   "metadata": {},
   "outputs": [],
   "source": [
    "index_constituents[\"SP500 Start\"] = pd.to_datetime(index_constituents[\"SP500 Start\"], format=\"mixed\")\n",
    "index_constituents[\"SP500 End\"] = pd.to_datetime(index_constituents[\"SP500 End\"], format=\"mixed\")"
   ]
  },
  {
   "cell_type": "code",
   "execution_count": 9,
   "id": "78586d64-89c8-4454-bc4c-c72ef2adfe81",
   "metadata": {},
   "outputs": [
    {
     "data": {
      "text/html": [
       "<div>\n",
       "<style scoped>\n",
       "    .dataframe tbody tr th:only-of-type {\n",
       "        vertical-align: middle;\n",
       "    }\n",
       "\n",
       "    .dataframe tbody tr th {\n",
       "        vertical-align: top;\n",
       "    }\n",
       "\n",
       "    .dataframe thead th {\n",
       "        text-align: right;\n",
       "    }\n",
       "</style>\n",
       "<table border=\"1\" class=\"dataframe\">\n",
       "  <thead>\n",
       "    <tr style=\"text-align: right;\">\n",
       "      <th></th>\n",
       "      <th>PERMNO</th>\n",
       "      <th>Company Name</th>\n",
       "      <th>Ticker</th>\n",
       "      <th>SP500 Start</th>\n",
       "      <th>SP500 End</th>\n",
       "    </tr>\n",
       "  </thead>\n",
       "  <tbody>\n",
       "    <tr>\n",
       "      <th>0</th>\n",
       "      <td>10104</td>\n",
       "      <td>ORACLE CORP</td>\n",
       "      <td>ORCL</td>\n",
       "      <td>1989-08-03</td>\n",
       "      <td>2023-12-29</td>\n",
       "    </tr>\n",
       "    <tr>\n",
       "      <th>1</th>\n",
       "      <td>10107</td>\n",
       "      <td>MICROSOFT CORP</td>\n",
       "      <td>MSFT</td>\n",
       "      <td>1994-06-07</td>\n",
       "      <td>2023-12-29</td>\n",
       "    </tr>\n",
       "    <tr>\n",
       "      <th>2</th>\n",
       "      <td>10138</td>\n",
       "      <td>T ROWE PRICE GROUP INC</td>\n",
       "      <td>TROW</td>\n",
       "      <td>1999-10-13</td>\n",
       "      <td>2023-12-29</td>\n",
       "    </tr>\n",
       "    <tr>\n",
       "      <th>3</th>\n",
       "      <td>10145</td>\n",
       "      <td>HONEYWELL INTERNATIONAL INC</td>\n",
       "      <td>HON</td>\n",
       "      <td>1925-12-31</td>\n",
       "      <td>2023-12-29</td>\n",
       "    </tr>\n",
       "    <tr>\n",
       "      <th>4</th>\n",
       "      <td>10516</td>\n",
       "      <td>ARCHER DANIELS MIDLAND CO</td>\n",
       "      <td>ADM</td>\n",
       "      <td>1981-07-30</td>\n",
       "      <td>2023-12-29</td>\n",
       "    </tr>\n",
       "    <tr>\n",
       "      <th>...</th>\n",
       "      <td>...</td>\n",
       "      <td>...</td>\n",
       "      <td>...</td>\n",
       "      <td>...</td>\n",
       "      <td>...</td>\n",
       "    </tr>\n",
       "    <tr>\n",
       "      <th>498</th>\n",
       "      <td>93096</td>\n",
       "      <td>DOLLAR GENERAL CORP NEW</td>\n",
       "      <td>DG</td>\n",
       "      <td>2012-12-03</td>\n",
       "      <td>2023-12-29</td>\n",
       "    </tr>\n",
       "    <tr>\n",
       "      <th>499</th>\n",
       "      <td>93132</td>\n",
       "      <td>FORTINET INC</td>\n",
       "      <td>FTNT</td>\n",
       "      <td>2018-10-11</td>\n",
       "      <td>2023-12-29</td>\n",
       "    </tr>\n",
       "    <tr>\n",
       "      <th>500</th>\n",
       "      <td>93246</td>\n",
       "      <td>GENERAC HOLDINGS INC</td>\n",
       "      <td>GNRC</td>\n",
       "      <td>2021-03-22</td>\n",
       "      <td>2023-12-29</td>\n",
       "    </tr>\n",
       "    <tr>\n",
       "      <th>501</th>\n",
       "      <td>93429</td>\n",
       "      <td>C B O E GLOBAL MARKETS INC</td>\n",
       "      <td>CBOE</td>\n",
       "      <td>2017-03-01</td>\n",
       "      <td>2023-12-29</td>\n",
       "    </tr>\n",
       "    <tr>\n",
       "      <th>502</th>\n",
       "      <td>93436</td>\n",
       "      <td>TESLA INC</td>\n",
       "      <td>TSLA</td>\n",
       "      <td>2020-12-21</td>\n",
       "      <td>2023-12-29</td>\n",
       "    </tr>\n",
       "  </tbody>\n",
       "</table>\n",
       "<p>488 rows × 5 columns</p>\n",
       "</div>"
      ],
      "text/plain": [
       "     PERMNO                 Company Name Ticker SP500 Start  SP500 End\n",
       "0     10104                  ORACLE CORP   ORCL  1989-08-03 2023-12-29\n",
       "1     10107               MICROSOFT CORP   MSFT  1994-06-07 2023-12-29\n",
       "2     10138       T ROWE PRICE GROUP INC   TROW  1999-10-13 2023-12-29\n",
       "3     10145  HONEYWELL INTERNATIONAL INC    HON  1925-12-31 2023-12-29\n",
       "4     10516    ARCHER DANIELS MIDLAND CO    ADM  1981-07-30 2023-12-29\n",
       "..      ...                          ...    ...         ...        ...\n",
       "498   93096      DOLLAR GENERAL CORP NEW     DG  2012-12-03 2023-12-29\n",
       "499   93132                 FORTINET INC   FTNT  2018-10-11 2023-12-29\n",
       "500   93246         GENERAC HOLDINGS INC   GNRC  2021-03-22 2023-12-29\n",
       "501   93429   C B O E GLOBAL MARKETS INC   CBOE  2017-03-01 2023-12-29\n",
       "502   93436                    TESLA INC   TSLA  2020-12-21 2023-12-29\n",
       "\n",
       "[488 rows x 5 columns]"
      ]
     },
     "execution_count": 9,
     "metadata": {},
     "output_type": "execute_result"
    }
   ],
   "source": [
    "index_start = pd.Timestamp(\"2023-01-01\")\n",
    "index_end = pd.Timestamp(\"2023-12-29\")\n",
    "\n",
    "index_ids = index_constituents[\n",
    "    (index_constituents[\"SP500 Start\"] < index_start) & (index_constituents[\"SP500 End\"] == index_end)\n",
    "]\n",
    "index_ids"
   ]
  },
  {
   "cell_type": "code",
   "execution_count": 13,
   "id": "696d203a-c315-4f4a-ae44-ba8e980eee51",
   "metadata": {},
   "outputs": [],
   "source": [
    "index_ids[\"PERMNO\"].to_string(\"../../data/sp500_ids.txt\", index=False)"
   ]
  },
  {
   "cell_type": "markdown",
   "id": "0af216e3-64be-4f94-b93c-d2a107c3ed80",
   "metadata": {},
   "source": [
    "### Import snp500 constituents\n"
   ]
  },
  {
   "cell_type": "code",
   "execution_count": 15,
   "id": "def43c91-38d7-4522-a792-7a5b5674eaf9",
   "metadata": {},
   "outputs": [
    {
     "data": {
      "text/html": [
       "<div>\n",
       "<style scoped>\n",
       "    .dataframe tbody tr th:only-of-type {\n",
       "        vertical-align: middle;\n",
       "    }\n",
       "\n",
       "    .dataframe tbody tr th {\n",
       "        vertical-align: top;\n",
       "    }\n",
       "\n",
       "    .dataframe thead th {\n",
       "        text-align: right;\n",
       "    }\n",
       "</style>\n",
       "<table border=\"1\" class=\"dataframe\">\n",
       "  <thead>\n",
       "    <tr style=\"text-align: right;\">\n",
       "      <th></th>\n",
       "      <th>gvkey</th>\n",
       "      <th>iid</th>\n",
       "      <th>gvkeyx</th>\n",
       "      <th>from</th>\n",
       "      <th>thru</th>\n",
       "      <th>conm</th>\n",
       "      <th>indextype</th>\n",
       "      <th>tic</th>\n",
       "      <th>spii</th>\n",
       "      <th>spmi</th>\n",
       "      <th>indexcat</th>\n",
       "      <th>co_conm</th>\n",
       "      <th>co_tic</th>\n",
       "      <th>co_cusip</th>\n",
       "      <th>co_cik</th>\n",
       "      <th>co_sic</th>\n",
       "      <th>co_naics</th>\n",
       "    </tr>\n",
       "  </thead>\n",
       "  <tbody>\n",
       "    <tr>\n",
       "      <th>0</th>\n",
       "      <td>5047</td>\n",
       "      <td>1</td>\n",
       "      <td>5</td>\n",
       "      <td>11/07/1907</td>\n",
       "      <td>06/25/2018</td>\n",
       "      <td>Dow Jones Industrials-30 Stk</td>\n",
       "      <td>NONE</td>\n",
       "      <td>I0005</td>\n",
       "      <td>NaN</td>\n",
       "      <td>NaN</td>\n",
       "      <td>DOW</td>\n",
       "      <td>GE AEROSPACE</td>\n",
       "      <td>GE</td>\n",
       "      <td>369604301</td>\n",
       "      <td>40545.0</td>\n",
       "      <td>9997</td>\n",
       "      <td>999977</td>\n",
       "    </tr>\n",
       "    <tr>\n",
       "      <th>1</th>\n",
       "      <td>4503</td>\n",
       "      <td>1</td>\n",
       "      <td>5</td>\n",
       "      <td>10/01/1928</td>\n",
       "      <td>08/28/2020</td>\n",
       "      <td>Dow Jones Industrials-30 Stk</td>\n",
       "      <td>NONE</td>\n",
       "      <td>I0005</td>\n",
       "      <td>NaN</td>\n",
       "      <td>NaN</td>\n",
       "      <td>DOW</td>\n",
       "      <td>EXXON MOBIL CORP</td>\n",
       "      <td>XOM</td>\n",
       "      <td>30231G102</td>\n",
       "      <td>34088.0</td>\n",
       "      <td>2911</td>\n",
       "      <td>324110</td>\n",
       "    </tr>\n",
       "    <tr>\n",
       "      <th>2</th>\n",
       "      <td>3144</td>\n",
       "      <td>1</td>\n",
       "      <td>5</td>\n",
       "      <td>05/26/1932</td>\n",
       "      <td>NaN</td>\n",
       "      <td>Dow Jones Industrials-30 Stk</td>\n",
       "      <td>NONE</td>\n",
       "      <td>I0005</td>\n",
       "      <td>NaN</td>\n",
       "      <td>NaN</td>\n",
       "      <td>DOW</td>\n",
       "      <td>COCA-COLA CO</td>\n",
       "      <td>KO</td>\n",
       "      <td>191216100</td>\n",
       "      <td>21344.0</td>\n",
       "      <td>2086</td>\n",
       "      <td>312111</td>\n",
       "    </tr>\n",
       "    <tr>\n",
       "      <th>3</th>\n",
       "      <td>6066</td>\n",
       "      <td>1</td>\n",
       "      <td>5</td>\n",
       "      <td>05/26/1932</td>\n",
       "      <td>NaN</td>\n",
       "      <td>Dow Jones Industrials-30 Stk</td>\n",
       "      <td>NONE</td>\n",
       "      <td>I0005</td>\n",
       "      <td>NaN</td>\n",
       "      <td>NaN</td>\n",
       "      <td>DOW</td>\n",
       "      <td>INTL BUSINESS MACHINES CORP</td>\n",
       "      <td>IBM</td>\n",
       "      <td>459200101</td>\n",
       "      <td>51143.0</td>\n",
       "      <td>7370</td>\n",
       "      <td>518210</td>\n",
       "    </tr>\n",
       "    <tr>\n",
       "      <th>4</th>\n",
       "      <td>8762</td>\n",
       "      <td>1</td>\n",
       "      <td>5</td>\n",
       "      <td>05/26/1932</td>\n",
       "      <td>NaN</td>\n",
       "      <td>Dow Jones Industrials-30 Stk</td>\n",
       "      <td>NONE</td>\n",
       "      <td>I0005</td>\n",
       "      <td>NaN</td>\n",
       "      <td>NaN</td>\n",
       "      <td>DOW</td>\n",
       "      <td>PROCTER &amp; GAMBLE CO</td>\n",
       "      <td>PG</td>\n",
       "      <td>742718109</td>\n",
       "      <td>80424.0</td>\n",
       "      <td>2840</td>\n",
       "      <td>325611</td>\n",
       "    </tr>\n",
       "  </tbody>\n",
       "</table>\n",
       "</div>"
      ],
      "text/plain": [
       "   gvkey  iid  gvkeyx        from        thru                          conm  \\\n",
       "0   5047    1       5  11/07/1907  06/25/2018  Dow Jones Industrials-30 Stk   \n",
       "1   4503    1       5  10/01/1928  08/28/2020  Dow Jones Industrials-30 Stk   \n",
       "2   3144    1       5  05/26/1932         NaN  Dow Jones Industrials-30 Stk   \n",
       "3   6066    1       5  05/26/1932         NaN  Dow Jones Industrials-30 Stk   \n",
       "4   8762    1       5  05/26/1932         NaN  Dow Jones Industrials-30 Stk   \n",
       "\n",
       "  indextype    tic  spii  spmi indexcat                      co_conm co_tic  \\\n",
       "0      NONE  I0005   NaN   NaN      DOW                 GE AEROSPACE     GE   \n",
       "1      NONE  I0005   NaN   NaN      DOW             EXXON MOBIL CORP    XOM   \n",
       "2      NONE  I0005   NaN   NaN      DOW                 COCA-COLA CO     KO   \n",
       "3      NONE  I0005   NaN   NaN      DOW  INTL BUSINESS MACHINES CORP    IBM   \n",
       "4      NONE  I0005   NaN   NaN      DOW          PROCTER & GAMBLE CO     PG   \n",
       "\n",
       "    co_cusip   co_cik  co_sic  co_naics  \n",
       "0  369604301  40545.0    9997    999977  \n",
       "1  30231G102  34088.0    2911    324110  \n",
       "2  191216100  21344.0    2086    312111  \n",
       "3  459200101  51143.0    7370    518210  \n",
       "4  742718109  80424.0    2840    325611  "
      ]
     },
     "execution_count": 15,
     "metadata": {},
     "output_type": "execute_result"
    }
   ],
   "source": [
    "path = \"Index/DowJonesAndNasdaq100.csv\"\n",
    "file_path = s3_download(path)\n",
    "index_constituents = pd.read_csv(file_path)\n",
    "index_constituents.head()"
   ]
  },
  {
   "cell_type": "code",
   "execution_count": 20,
   "id": "cc3981de-ec78-49a4-a264-8ff23f49ef9f",
   "metadata": {},
   "outputs": [
    {
     "data": {
      "text/plain": [
       "294"
      ]
     },
     "execution_count": 20,
     "metadata": {},
     "output_type": "execute_result"
    }
   ],
   "source": [
    "len(index_constituents[\"co_cusip\"].unique())"
   ]
  },
  {
   "cell_type": "code",
   "execution_count": 21,
   "id": "c3e53d33-939b-45d3-98f4-d365b459a6c6",
   "metadata": {},
   "outputs": [],
   "source": [
    "index_constituents[\"co_cusip\"].to_string(\"../../data/djn100_tickers.txt\", index=False)"
   ]
  },
  {
   "cell_type": "markdown",
   "id": "44d69ef8-c7a9-4c09-8360-e2f551616b89",
   "metadata": {},
   "source": [
    "### Join data\n",
    "\n",
    "Have to separately upload both txt files into WRDS, given different identifiers:\n",
    "\n",
    "https://wrds-www.wharton.upenn.edu/pages/get-data/center-research-security-prices-crsp/annual-update/stock-security-files/stock-header-info/\n",
    "\n",
    "Then we got a joined unique set of securities and uploaded into S3.\n",
    "\n",
    "https://us-east-1.console.aws.amazon.com/s3/object/capstone-bucket-4-friends?region=us-east-1&bucketType=general&prefix=Index/security_master.csv\n",
    "\n",
    "594 stocks were selected in the end.\n"
   ]
  },
  {
   "cell_type": "markdown",
   "id": "16c5cb72-1340-4474-a80b-b90845449d16",
   "metadata": {},
   "source": [
    "## filter the crsp_2023_clean\n"
   ]
  },
  {
   "cell_type": "code",
   "execution_count": null,
   "id": "e489bcc7-6e59-4818-9c49-a17d7c9ff972",
   "metadata": {},
   "outputs": [],
   "source": [
    "file_path = s3_download(\"CRSP/crsp_2023_clean.csv\")\n",
    "df = pd.read_csv(file_path)\n",
    "df[\"date\"] = pd.to_datetime(df[\"date\"])"
   ]
  },
  {
   "cell_type": "code",
   "execution_count": null,
   "id": "1f673423-cc0e-4ce3-80b9-48a08019b590",
   "metadata": {},
   "outputs": [],
   "source": [
    "df.dtypes"
   ]
  },
  {
   "cell_type": "code",
   "execution_count": null,
   "id": "818424a8-3e6b-4a83-8332-6beebe191e46",
   "metadata": {},
   "outputs": [],
   "source": []
  },
  {
   "cell_type": "code",
   "execution_count": null,
   "id": "05660394-f149-4174-bddd-2ccd25b84a4b",
   "metadata": {},
   "outputs": [],
   "source": [
    "df_sample = df[df[\"PERMNO\"].isin(index_ids[\"PERMNO\"])]\n",
    "df_pivot = df_sample.pivot(index=\"date\", columns=\"PERMNO\", values=\"RET\")\n",
    "df_pivot.head()"
   ]
  },
  {
   "cell_type": "code",
   "execution_count": null,
   "id": "97ae02d7-917d-4f6a-826a-2c36264d89d5",
   "metadata": {},
   "outputs": [],
   "source": [
    "date_cutoff = pd.Timestamp(\"2023-10-01\")"
   ]
  },
  {
   "cell_type": "code",
   "execution_count": null,
   "id": "27977c1f-9fd6-47ce-b125-75a1cb1bdcc4",
   "metadata": {},
   "outputs": [],
   "source": [
    "train = df_pivot[:date_cutoff]\n",
    "train_span = len(train)\n",
    "train_span"
   ]
  },
  {
   "cell_type": "code",
   "execution_count": null,
   "id": "2c3eb4e9-157a-4a25-bc7d-ae140ebf2795",
   "metadata": {},
   "outputs": [],
   "source": [
    "test = df_pivot[date_cutoff:]\n",
    "test_span = len(test)\n",
    "test_span"
   ]
  },
  {
   "cell_type": "code",
   "execution_count": null,
   "id": "dd9639ba-0185-4ffe-838f-bbd34125539d",
   "metadata": {},
   "outputs": [],
   "source": [
    "train.index"
   ]
  },
  {
   "cell_type": "markdown",
   "id": "ddadb6b6-f6b3-44fa-9ffa-7d617cac58a1",
   "metadata": {},
   "source": [
    "Reference: https://github.com/zhuodannychen/Portfolio-Optimization\n"
   ]
  },
  {
   "cell_type": "code",
   "execution_count": null,
   "id": "5584213a-e874-4d3a-87ef-862816ca9a9d",
   "metadata": {},
   "outputs": [],
   "source": []
  }
 ],
 "metadata": {
  "kernelspec": {
   "display_name": "Python 3 (ipykernel)",
   "language": "python",
   "name": "python3"
  },
  "language_info": {
   "codemirror_mode": {
    "name": "ipython",
    "version": 3
   },
   "file_extension": ".py",
   "mimetype": "text/x-python",
   "name": "python",
   "nbconvert_exporter": "python",
   "pygments_lexer": "ipython3",
   "version": "3.1.-1"
  }
 },
 "nbformat": 4,
 "nbformat_minor": 5
}
