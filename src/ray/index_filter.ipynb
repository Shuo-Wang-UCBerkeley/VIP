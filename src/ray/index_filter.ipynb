{
 "cells": [
  {
   "cell_type": "code",
   "execution_count": 1,
   "id": "41bbe10d-802a-4339-8f82-ed113a94b600",
   "metadata": {
    "editable": true,
    "slideshow": {
     "slide_type": ""
    },
    "tags": []
   },
   "outputs": [],
   "source": [
    "import os\n",
    "\n",
    "import boto3\n",
    "import numpy as np\n",
    "import pandas as pd\n",
    "\n",
    "from file_utilities import s3_download \n"
   ]
  },
  {
   "cell_type": "code",
   "execution_count": 2,
   "id": "4560bd85-362c-407e-92c2-ea283ebc991f",
   "metadata": {
    "editable": true,
    "slideshow": {
     "slide_type": ""
    },
    "tags": []
   },
   "outputs": [],
   "source": [
    "s3 = boto3.client(\"s3\")\n",
    "bucket = \"capstone-bucket-4-friends\"\n"
   ]
  },
  {
   "cell_type": "code",
   "execution_count": 5,
   "id": "cab2bbac-4668-4c09-b08f-c1df58d08eda",
   "metadata": {},
   "outputs": [
    {
     "name": "stdout",
     "output_type": "stream",
     "text": [
      "snp500constituents2023.csv\n",
      "../../data/snp500constituents2023.csv\n"
     ]
    },
    {
     "data": {
      "text/html": [
       "<div>\n",
       "<style scoped>\n",
       "    .dataframe tbody tr th:only-of-type {\n",
       "        vertical-align: middle;\n",
       "    }\n",
       "\n",
       "    .dataframe tbody tr th {\n",
       "        vertical-align: top;\n",
       "    }\n",
       "\n",
       "    .dataframe thead th {\n",
       "        text-align: right;\n",
       "    }\n",
       "</style>\n",
       "<table border=\"1\" class=\"dataframe\">\n",
       "  <thead>\n",
       "    <tr style=\"text-align: right;\">\n",
       "      <th></th>\n",
       "      <th>PERMNO</th>\n",
       "      <th>Company Name</th>\n",
       "      <th>Ticker</th>\n",
       "      <th>SP500 Start</th>\n",
       "      <th>SP500 End</th>\n",
       "    </tr>\n",
       "  </thead>\n",
       "  <tbody>\n",
       "    <tr>\n",
       "      <th>0</th>\n",
       "      <td>10104</td>\n",
       "      <td>ORACLE CORP</td>\n",
       "      <td>ORCL</td>\n",
       "      <td>Aug. 3, 1989</td>\n",
       "      <td>Dec. 29, 2023</td>\n",
       "    </tr>\n",
       "    <tr>\n",
       "      <th>1</th>\n",
       "      <td>10107</td>\n",
       "      <td>MICROSOFT CORP</td>\n",
       "      <td>MSFT</td>\n",
       "      <td>June 7, 1994</td>\n",
       "      <td>Dec. 29, 2023</td>\n",
       "    </tr>\n",
       "    <tr>\n",
       "      <th>2</th>\n",
       "      <td>10138</td>\n",
       "      <td>T ROWE PRICE GROUP INC</td>\n",
       "      <td>TROW</td>\n",
       "      <td>Oct. 13, 1999</td>\n",
       "      <td>Dec. 29, 2023</td>\n",
       "    </tr>\n",
       "    <tr>\n",
       "      <th>3</th>\n",
       "      <td>10145</td>\n",
       "      <td>HONEYWELL INTERNATIONAL INC</td>\n",
       "      <td>HON</td>\n",
       "      <td>Dec. 31, 1925</td>\n",
       "      <td>Dec. 29, 2023</td>\n",
       "    </tr>\n",
       "    <tr>\n",
       "      <th>4</th>\n",
       "      <td>10516</td>\n",
       "      <td>ARCHER DANIELS MIDLAND CO</td>\n",
       "      <td>ADM</td>\n",
       "      <td>July 30, 1981</td>\n",
       "      <td>Dec. 29, 2023</td>\n",
       "    </tr>\n",
       "  </tbody>\n",
       "</table>\n",
       "</div>"
      ],
      "text/plain": [
       "   PERMNO                 Company Name Ticker    SP500 Start      SP500 End\n",
       "0   10104                  ORACLE CORP   ORCL   Aug. 3, 1989  Dec. 29, 2023\n",
       "1   10107               MICROSOFT CORP   MSFT   June 7, 1994  Dec. 29, 2023\n",
       "2   10138       T ROWE PRICE GROUP INC   TROW  Oct. 13, 1999  Dec. 29, 2023\n",
       "3   10145  HONEYWELL INTERNATIONAL INC    HON  Dec. 31, 1925  Dec. 29, 2023\n",
       "4   10516    ARCHER DANIELS MIDLAND CO    ADM  July 30, 1981  Dec. 29, 2023"
      ]
     },
     "execution_count": 5,
     "metadata": {},
     "output_type": "execute_result"
    }
   ],
   "source": [
    "path = \"Index/snp500constituents2023.csv\"\n",
    "file_path = s3_download(path)\n",
    "sp500_members = pd.read_csv(file_path)\n",
    "sp500_members.head()"
   ]
  },
  {
   "cell_type": "code",
   "execution_count": null,
   "id": "31798242-9686-4a05-8dce-6e308fe5d1d4",
   "metadata": {},
   "outputs": [],
   "source": []
  },
  {
   "cell_type": "code",
   "execution_count": 33,
   "id": "328af608-dc79-4775-9346-acabd3aa2587",
   "metadata": {
    "scrolled": true
   },
   "outputs": [
    {
     "data": {
      "text/plain": [
       "<bound method NDFrame.head of      PERMNO                 Company Name Ticker     SP500 Start      SP500 End\n",
       "0     10104                  ORACLE CORP   ORCL    Aug. 3, 1989  Dec. 29, 2023\n",
       "1     10107               MICROSOFT CORP   MSFT    June 7, 1994  Dec. 29, 2023\n",
       "2     10138       T ROWE PRICE GROUP INC   TROW   Oct. 13, 1999  Dec. 29, 2023\n",
       "3     10145  HONEYWELL INTERNATIONAL INC    HON   Dec. 31, 1925  Dec. 29, 2023\n",
       "4     10516    ARCHER DANIELS MIDLAND CO    ADM   July 30, 1981  Dec. 29, 2023\n",
       "..      ...                          ...    ...             ...            ...\n",
       "498   93096      DOLLAR GENERAL CORP NEW     DG    Dec. 3, 2012  Dec. 29, 2023\n",
       "499   93132                 FORTINET INC   FTNT   Oct. 11, 2018  Dec. 29, 2023\n",
       "500   93246         GENERAC HOLDINGS INC   GNRC  March 22, 2021  Dec. 29, 2023\n",
       "501   93429   C B O E GLOBAL MARKETS INC   CBOE   March 1, 2017  Dec. 29, 2023\n",
       "502   93436                    TESLA INC   TSLA   Dec. 21, 2020  Dec. 29, 2023\n",
       "\n",
       "[503 rows x 5 columns]>"
      ]
     },
     "execution_count": 33,
     "metadata": {},
     "output_type": "execute_result"
    }
   ],
   "source": [
    "index_constituents = pd.read_csv(index_path, parse_dates=True)\n",
    "\n",
    "index_constituents.head"
   ]
  },
  {
   "cell_type": "code",
   "execution_count": 34,
   "id": "40366491-7756-4436-8683-4983bd3ea0e2",
   "metadata": {},
   "outputs": [],
   "source": [
    "index_constituents[\"SP500 Start\"] = pd.to_datetime(\n",
    "    index_constituents[\"SP500 Start\"], format=\"mixed\"\n",
    ")\n",
    "index_constituents[\"SP500 End\"] = pd.to_datetime(\n",
    "    index_constituents[\"SP500 End\"], format=\"mixed\"\n",
    ")"
   ]
  },
  {
   "cell_type": "code",
   "execution_count": 38,
   "id": "78586d64-89c8-4454-bc4c-c72ef2adfe81",
   "metadata": {},
   "outputs": [],
   "source": [
    "index_start = pd.Timestamp(\"2023-01-01\")\n",
    "index_end = pd.Timestamp(\"2023-12-29\")\n",
    "\n",
    "index_ids = index_constituents[\n",
    "    (index_constituents[\"SP500 Start\"] < index_start)\n",
    "    & (index_constituents[\"SP500 End\"] == index_end)\n",
    "]"
   ]
  },
  {
   "cell_type": "markdown",
   "id": "16c5cb72-1340-4474-a80b-b90845449d16",
   "metadata": {},
   "source": [
    "## filter the crsp_2023_clean"
   ]
  },
  {
   "cell_type": "code",
   "execution_count": 3,
   "id": "e489bcc7-6e59-4818-9c49-a17d7c9ff972",
   "metadata": {},
   "outputs": [],
   "source": [
    "file_path = s3_download(\"CRSP/crsp_2023_clean.csv\")\n",
    "df = pd.read_csv(file_path)\n",
    "df[\"date\"] = pd.to_datetime(df[\"date\"])"
   ]
  },
  {
   "cell_type": "code",
   "execution_count": 4,
   "id": "1f673423-cc0e-4ce3-80b9-48a08019b590",
   "metadata": {},
   "outputs": [
    {
     "data": {
      "text/plain": [
       "PERMNO             int64\n",
       "date      datetime64[ns]\n",
       "PRC              float64\n",
       "RET              float64\n",
       "dtype: object"
      ]
     },
     "execution_count": 4,
     "metadata": {},
     "output_type": "execute_result"
    }
   ],
   "source": [
    "df.dtypes"
   ]
  },
  {
   "cell_type": "code",
   "execution_count": 5,
   "id": "63ad1ac4-6514-4b51-8104-e9728b7d556f",
   "metadata": {
    "editable": true,
    "slideshow": {
     "slide_type": ""
    },
    "tags": []
   },
   "outputs": [
    {
     "data": {
      "text/html": [
       "<div>\n",
       "<style scoped>\n",
       "    .dataframe tbody tr th:only-of-type {\n",
       "        vertical-align: middle;\n",
       "    }\n",
       "\n",
       "    .dataframe tbody tr th {\n",
       "        vertical-align: top;\n",
       "    }\n",
       "\n",
       "    .dataframe thead th {\n",
       "        text-align: right;\n",
       "    }\n",
       "</style>\n",
       "<table border=\"1\" class=\"dataframe\">\n",
       "  <thead>\n",
       "    <tr style=\"text-align: right;\">\n",
       "      <th></th>\n",
       "      <th>date</th>\n",
       "      <th>PRC</th>\n",
       "      <th>RET</th>\n",
       "    </tr>\n",
       "    <tr>\n",
       "      <th>PERMNO</th>\n",
       "      <th></th>\n",
       "      <th></th>\n",
       "      <th></th>\n",
       "    </tr>\n",
       "  </thead>\n",
       "  <tbody>\n",
       "    <tr>\n",
       "      <th>10026</th>\n",
       "      <td>250</td>\n",
       "      <td>250</td>\n",
       "      <td>250</td>\n",
       "    </tr>\n",
       "    <tr>\n",
       "      <th>10028</th>\n",
       "      <td>250</td>\n",
       "      <td>250</td>\n",
       "      <td>250</td>\n",
       "    </tr>\n",
       "    <tr>\n",
       "      <th>10032</th>\n",
       "      <td>250</td>\n",
       "      <td>250</td>\n",
       "      <td>250</td>\n",
       "    </tr>\n",
       "    <tr>\n",
       "      <th>10044</th>\n",
       "      <td>250</td>\n",
       "      <td>250</td>\n",
       "      <td>250</td>\n",
       "    </tr>\n",
       "    <tr>\n",
       "      <th>10065</th>\n",
       "      <td>250</td>\n",
       "      <td>250</td>\n",
       "      <td>250</td>\n",
       "    </tr>\n",
       "    <tr>\n",
       "      <th>...</th>\n",
       "      <td>...</td>\n",
       "      <td>...</td>\n",
       "      <td>...</td>\n",
       "    </tr>\n",
       "    <tr>\n",
       "      <th>93426</th>\n",
       "      <td>250</td>\n",
       "      <td>250</td>\n",
       "      <td>250</td>\n",
       "    </tr>\n",
       "    <tr>\n",
       "      <th>93427</th>\n",
       "      <td>250</td>\n",
       "      <td>250</td>\n",
       "      <td>250</td>\n",
       "    </tr>\n",
       "    <tr>\n",
       "      <th>93429</th>\n",
       "      <td>250</td>\n",
       "      <td>250</td>\n",
       "      <td>250</td>\n",
       "    </tr>\n",
       "    <tr>\n",
       "      <th>93434</th>\n",
       "      <td>250</td>\n",
       "      <td>250</td>\n",
       "      <td>250</td>\n",
       "    </tr>\n",
       "    <tr>\n",
       "      <th>93436</th>\n",
       "      <td>250</td>\n",
       "      <td>250</td>\n",
       "      <td>250</td>\n",
       "    </tr>\n",
       "  </tbody>\n",
       "</table>\n",
       "<p>8567 rows × 3 columns</p>\n",
       "</div>"
      ],
      "text/plain": [
       "        date  PRC  RET\n",
       "PERMNO                \n",
       "10026    250  250  250\n",
       "10028    250  250  250\n",
       "10032    250  250  250\n",
       "10044    250  250  250\n",
       "10065    250  250  250\n",
       "...      ...  ...  ...\n",
       "93426    250  250  250\n",
       "93427    250  250  250\n",
       "93429    250  250  250\n",
       "93434    250  250  250\n",
       "93436    250  250  250\n",
       "\n",
       "[8567 rows x 3 columns]"
      ]
     },
     "execution_count": 5,
     "metadata": {},
     "output_type": "execute_result"
    }
   ],
   "source": [
    "df.groupby(\"PERMNO\").count()"
   ]
  },
  {
   "cell_type": "code",
   "execution_count": 31,
   "id": "84791294-3040-4927-888e-4e97dd041edf",
   "metadata": {},
   "outputs": [],
   "source": [
    "index_path = \"../data/snp500constituents2023.csv\"\n",
    "s3.download_file(\n",
    "    f\"{bucket}\",\n",
    "    \"Index/snp500constituents2023.csv\",\n",
    "    index_path,\n",
    ")"
   ]
  },
  {
   "cell_type": "code",
   "execution_count": 32,
   "id": "746214cb-dc7e-453c-ae6f-e210b64551e3",
   "metadata": {},
   "outputs": [],
   "source": [
    "np.random.seed(1234)\n",
    "# sampled_permno = df[\"PERMNO\"].sample(50).tolist()\n",
    "sampled_permno = df[\"PERMNO\"].sample(50).tolist()"
   ]
  },
  {
   "cell_type": "code",
   "execution_count": 33,
   "id": "0671e3a4-8885-4980-a391-72a82e02190d",
   "metadata": {},
   "outputs": [
    {
     "data": {
      "text/plain": [
       "<bound method NDFrame.head of      PERMNO                 Company Name Ticker     SP500 Start      SP500 End\n",
       "0     10104                  ORACLE CORP   ORCL    Aug. 3, 1989  Dec. 29, 2023\n",
       "1     10107               MICROSOFT CORP   MSFT    June 7, 1994  Dec. 29, 2023\n",
       "2     10138       T ROWE PRICE GROUP INC   TROW   Oct. 13, 1999  Dec. 29, 2023\n",
       "3     10145  HONEYWELL INTERNATIONAL INC    HON   Dec. 31, 1925  Dec. 29, 2023\n",
       "4     10516    ARCHER DANIELS MIDLAND CO    ADM   July 30, 1981  Dec. 29, 2023\n",
       "..      ...                          ...    ...             ...            ...\n",
       "498   93096      DOLLAR GENERAL CORP NEW     DG    Dec. 3, 2012  Dec. 29, 2023\n",
       "499   93132                 FORTINET INC   FTNT   Oct. 11, 2018  Dec. 29, 2023\n",
       "500   93246         GENERAC HOLDINGS INC   GNRC  March 22, 2021  Dec. 29, 2023\n",
       "501   93429   C B O E GLOBAL MARKETS INC   CBOE   March 1, 2017  Dec. 29, 2023\n",
       "502   93436                    TESLA INC   TSLA   Dec. 21, 2020  Dec. 29, 2023\n",
       "\n",
       "[503 rows x 5 columns]>"
      ]
     },
     "execution_count": 33,
     "metadata": {},
     "output_type": "execute_result"
    }
   ],
   "source": [
    "index_constituents = pd.read_csv(index_path, parse_dates=True)\n",
    "\n",
    "index_constituents.head"
   ]
  },
  {
   "cell_type": "code",
   "execution_count": 34,
   "id": "578971b2-58d1-407d-8f9c-19d56b016e50",
   "metadata": {},
   "outputs": [],
   "source": [
    "index_constituents[\"SP500 Start\"] = pd.to_datetime(\n",
    "    index_constituents[\"SP500 Start\"], format=\"mixed\"\n",
    ")\n",
    "index_constituents[\"SP500 End\"] = pd.to_datetime(\n",
    "    index_constituents[\"SP500 End\"], format=\"mixed\"\n",
    ")"
   ]
  },
  {
   "cell_type": "code",
   "execution_count": 38,
   "id": "18498d40-351e-45d7-b814-3a404498c52e",
   "metadata": {},
   "outputs": [],
   "source": [
    "index_start = pd.Timestamp(\"2023-01-01\")\n",
    "index_end = pd.Timestamp(\"2023-12-29\")\n",
    "\n",
    "index_ids = index_constituents[\n",
    "    (index_constituents[\"SP500 Start\"] < index_start)\n",
    "    & (index_constituents[\"SP500 End\"] == index_end)\n",
    "]"
   ]
  },
  {
   "cell_type": "code",
   "execution_count": 39,
   "id": "818424a8-3e6b-4a83-8332-6beebe191e46",
   "metadata": {},
   "outputs": [
    {
     "data": {
      "text/html": [
       "<div>\n",
       "<style scoped>\n",
       "    .dataframe tbody tr th:only-of-type {\n",
       "        vertical-align: middle;\n",
       "    }\n",
       "\n",
       "    .dataframe tbody tr th {\n",
       "        vertical-align: top;\n",
       "    }\n",
       "\n",
       "    .dataframe thead th {\n",
       "        text-align: right;\n",
       "    }\n",
       "</style>\n",
       "<table border=\"1\" class=\"dataframe\">\n",
       "  <thead>\n",
       "    <tr style=\"text-align: right;\">\n",
       "      <th></th>\n",
       "      <th>PERMNO</th>\n",
       "      <th>Company Name</th>\n",
       "      <th>Ticker</th>\n",
       "      <th>SP500 Start</th>\n",
       "      <th>SP500 End</th>\n",
       "    </tr>\n",
       "  </thead>\n",
       "  <tbody>\n",
       "    <tr>\n",
       "      <th>0</th>\n",
       "      <td>10104</td>\n",
       "      <td>ORACLE CORP</td>\n",
       "      <td>ORCL</td>\n",
       "      <td>1989-08-03</td>\n",
       "      <td>2023-12-29</td>\n",
       "    </tr>\n",
       "    <tr>\n",
       "      <th>1</th>\n",
       "      <td>10107</td>\n",
       "      <td>MICROSOFT CORP</td>\n",
       "      <td>MSFT</td>\n",
       "      <td>1994-06-07</td>\n",
       "      <td>2023-12-29</td>\n",
       "    </tr>\n",
       "    <tr>\n",
       "      <th>2</th>\n",
       "      <td>10138</td>\n",
       "      <td>T ROWE PRICE GROUP INC</td>\n",
       "      <td>TROW</td>\n",
       "      <td>1999-10-13</td>\n",
       "      <td>2023-12-29</td>\n",
       "    </tr>\n",
       "    <tr>\n",
       "      <th>3</th>\n",
       "      <td>10145</td>\n",
       "      <td>HONEYWELL INTERNATIONAL INC</td>\n",
       "      <td>HON</td>\n",
       "      <td>1925-12-31</td>\n",
       "      <td>2023-12-29</td>\n",
       "    </tr>\n",
       "    <tr>\n",
       "      <th>4</th>\n",
       "      <td>10516</td>\n",
       "      <td>ARCHER DANIELS MIDLAND CO</td>\n",
       "      <td>ADM</td>\n",
       "      <td>1981-07-30</td>\n",
       "      <td>2023-12-29</td>\n",
       "    </tr>\n",
       "    <tr>\n",
       "      <th>...</th>\n",
       "      <td>...</td>\n",
       "      <td>...</td>\n",
       "      <td>...</td>\n",
       "      <td>...</td>\n",
       "      <td>...</td>\n",
       "    </tr>\n",
       "    <tr>\n",
       "      <th>498</th>\n",
       "      <td>93096</td>\n",
       "      <td>DOLLAR GENERAL CORP NEW</td>\n",
       "      <td>DG</td>\n",
       "      <td>2012-12-03</td>\n",
       "      <td>2023-12-29</td>\n",
       "    </tr>\n",
       "    <tr>\n",
       "      <th>499</th>\n",
       "      <td>93132</td>\n",
       "      <td>FORTINET INC</td>\n",
       "      <td>FTNT</td>\n",
       "      <td>2018-10-11</td>\n",
       "      <td>2023-12-29</td>\n",
       "    </tr>\n",
       "    <tr>\n",
       "      <th>500</th>\n",
       "      <td>93246</td>\n",
       "      <td>GENERAC HOLDINGS INC</td>\n",
       "      <td>GNRC</td>\n",
       "      <td>2021-03-22</td>\n",
       "      <td>2023-12-29</td>\n",
       "    </tr>\n",
       "    <tr>\n",
       "      <th>501</th>\n",
       "      <td>93429</td>\n",
       "      <td>C B O E GLOBAL MARKETS INC</td>\n",
       "      <td>CBOE</td>\n",
       "      <td>2017-03-01</td>\n",
       "      <td>2023-12-29</td>\n",
       "    </tr>\n",
       "    <tr>\n",
       "      <th>502</th>\n",
       "      <td>93436</td>\n",
       "      <td>TESLA INC</td>\n",
       "      <td>TSLA</td>\n",
       "      <td>2020-12-21</td>\n",
       "      <td>2023-12-29</td>\n",
       "    </tr>\n",
       "  </tbody>\n",
       "</table>\n",
       "<p>488 rows × 5 columns</p>\n",
       "</div>"
      ],
      "text/plain": [
       "     PERMNO                 Company Name Ticker SP500 Start  SP500 End\n",
       "0     10104                  ORACLE CORP   ORCL  1989-08-03 2023-12-29\n",
       "1     10107               MICROSOFT CORP   MSFT  1994-06-07 2023-12-29\n",
       "2     10138       T ROWE PRICE GROUP INC   TROW  1999-10-13 2023-12-29\n",
       "3     10145  HONEYWELL INTERNATIONAL INC    HON  1925-12-31 2023-12-29\n",
       "4     10516    ARCHER DANIELS MIDLAND CO    ADM  1981-07-30 2023-12-29\n",
       "..      ...                          ...    ...         ...        ...\n",
       "498   93096      DOLLAR GENERAL CORP NEW     DG  2012-12-03 2023-12-29\n",
       "499   93132                 FORTINET INC   FTNT  2018-10-11 2023-12-29\n",
       "500   93246         GENERAC HOLDINGS INC   GNRC  2021-03-22 2023-12-29\n",
       "501   93429   C B O E GLOBAL MARKETS INC   CBOE  2017-03-01 2023-12-29\n",
       "502   93436                    TESLA INC   TSLA  2020-12-21 2023-12-29\n",
       "\n",
       "[488 rows x 5 columns]"
      ]
     },
     "execution_count": 39,
     "metadata": {},
     "output_type": "execute_result"
    }
   ],
   "source": []
  },
  {
   "cell_type": "code",
   "execution_count": 40,
   "id": "05660394-f149-4174-bddd-2ccd25b84a4b",
   "metadata": {},
   "outputs": [
    {
     "data": {
      "text/html": [
       "<div>\n",
       "<style scoped>\n",
       "    .dataframe tbody tr th:only-of-type {\n",
       "        vertical-align: middle;\n",
       "    }\n",
       "\n",
       "    .dataframe tbody tr th {\n",
       "        vertical-align: top;\n",
       "    }\n",
       "\n",
       "    .dataframe thead th {\n",
       "        text-align: right;\n",
       "    }\n",
       "</style>\n",
       "<table border=\"1\" class=\"dataframe\">\n",
       "  <thead>\n",
       "    <tr style=\"text-align: right;\">\n",
       "      <th>PERMNO</th>\n",
       "      <th>10104</th>\n",
       "      <th>10107</th>\n",
       "      <th>10138</th>\n",
       "      <th>10145</th>\n",
       "      <th>10516</th>\n",
       "      <th>10696</th>\n",
       "      <th>11308</th>\n",
       "      <th>11403</th>\n",
       "      <th>11404</th>\n",
       "      <th>11600</th>\n",
       "      <th>...</th>\n",
       "      <th>92611</th>\n",
       "      <th>92614</th>\n",
       "      <th>92655</th>\n",
       "      <th>93002</th>\n",
       "      <th>93089</th>\n",
       "      <th>93096</th>\n",
       "      <th>93132</th>\n",
       "      <th>93246</th>\n",
       "      <th>93429</th>\n",
       "      <th>93436</th>\n",
       "    </tr>\n",
       "    <tr>\n",
       "      <th>date</th>\n",
       "      <th></th>\n",
       "      <th></th>\n",
       "      <th></th>\n",
       "      <th></th>\n",
       "      <th></th>\n",
       "      <th></th>\n",
       "      <th></th>\n",
       "      <th></th>\n",
       "      <th></th>\n",
       "      <th></th>\n",
       "      <th></th>\n",
       "      <th></th>\n",
       "      <th></th>\n",
       "      <th></th>\n",
       "      <th></th>\n",
       "      <th></th>\n",
       "      <th></th>\n",
       "      <th></th>\n",
       "      <th></th>\n",
       "      <th></th>\n",
       "      <th></th>\n",
       "    </tr>\n",
       "  </thead>\n",
       "  <tbody>\n",
       "    <tr>\n",
       "      <th>2023-01-03</th>\n",
       "      <td>0.024223</td>\n",
       "      <td>-0.001001</td>\n",
       "      <td>0.000825</td>\n",
       "      <td>0.000000</td>\n",
       "      <td>-0.034464</td>\n",
       "      <td>0.001385</td>\n",
       "      <td>-0.010376</td>\n",
       "      <td>-0.006225</td>\n",
       "      <td>0.004721</td>\n",
       "      <td>0.026696</td>\n",
       "      <td>...</td>\n",
       "      <td>-0.001781</td>\n",
       "      <td>0.011022</td>\n",
       "      <td>-0.021766</td>\n",
       "      <td>-0.010105</td>\n",
       "      <td>0.005215</td>\n",
       "      <td>0.001909</td>\n",
       "      <td>-0.007568</td>\n",
       "      <td>-0.029307</td>\n",
       "      <td>0.006854</td>\n",
       "      <td>-0.122422</td>\n",
       "    </tr>\n",
       "    <tr>\n",
       "      <th>2023-01-04</th>\n",
       "      <td>0.009078</td>\n",
       "      <td>-0.043743</td>\n",
       "      <td>0.020247</td>\n",
       "      <td>-0.019879</td>\n",
       "      <td>-0.036364</td>\n",
       "      <td>0.008398</td>\n",
       "      <td>-0.000477</td>\n",
       "      <td>-0.002568</td>\n",
       "      <td>0.008667</td>\n",
       "      <td>0.033344</td>\n",
       "      <td>...</td>\n",
       "      <td>0.025170</td>\n",
       "      <td>0.019922</td>\n",
       "      <td>-0.027264</td>\n",
       "      <td>0.012214</td>\n",
       "      <td>0.016409</td>\n",
       "      <td>-0.013051</td>\n",
       "      <td>-0.004534</td>\n",
       "      <td>0.043087</td>\n",
       "      <td>-0.014723</td>\n",
       "      <td>0.051249</td>\n",
       "    </tr>\n",
       "    <tr>\n",
       "      <th>2023-01-05</th>\n",
       "      <td>-0.002012</td>\n",
       "      <td>-0.029638</td>\n",
       "      <td>-0.028287</td>\n",
       "      <td>-0.026519</td>\n",
       "      <td>-0.025003</td>\n",
       "      <td>-0.026063</td>\n",
       "      <td>-0.011443</td>\n",
       "      <td>-0.015261</td>\n",
       "      <td>-0.013459</td>\n",
       "      <td>-0.020426</td>\n",
       "      <td>...</td>\n",
       "      <td>-0.007055</td>\n",
       "      <td>-0.015906</td>\n",
       "      <td>-0.028821</td>\n",
       "      <td>-0.009317</td>\n",
       "      <td>-0.014480</td>\n",
       "      <td>0.007885</td>\n",
       "      <td>-0.017598</td>\n",
       "      <td>-0.035812</td>\n",
       "      <td>-0.005624</td>\n",
       "      <td>-0.029039</td>\n",
       "    </tr>\n",
       "    <tr>\n",
       "      <th>2023-01-06</th>\n",
       "      <td>0.016012</td>\n",
       "      <td>0.011785</td>\n",
       "      <td>0.037704</td>\n",
       "      <td>0.028366</td>\n",
       "      <td>0.020420</td>\n",
       "      <td>0.027968</td>\n",
       "      <td>0.019293</td>\n",
       "      <td>0.018240</td>\n",
       "      <td>0.026655</td>\n",
       "      <td>0.010275</td>\n",
       "      <td>...</td>\n",
       "      <td>0.031453</td>\n",
       "      <td>0.023211</td>\n",
       "      <td>0.000082</td>\n",
       "      <td>0.060196</td>\n",
       "      <td>0.029498</td>\n",
       "      <td>0.012794</td>\n",
       "      <td>0.026133</td>\n",
       "      <td>0.025237</td>\n",
       "      <td>-0.002262</td>\n",
       "      <td>0.024651</td>\n",
       "    </tr>\n",
       "    <tr>\n",
       "      <th>2023-01-09</th>\n",
       "      <td>0.012608</td>\n",
       "      <td>0.009736</td>\n",
       "      <td>0.022798</td>\n",
       "      <td>0.001902</td>\n",
       "      <td>-0.006748</td>\n",
       "      <td>-0.001077</td>\n",
       "      <td>-0.012461</td>\n",
       "      <td>0.039208</td>\n",
       "      <td>-0.001124</td>\n",
       "      <td>-0.013162</td>\n",
       "      <td>...</td>\n",
       "      <td>0.003904</td>\n",
       "      <td>0.001137</td>\n",
       "      <td>0.000122</td>\n",
       "      <td>-0.019611</td>\n",
       "      <td>-0.004539</td>\n",
       "      <td>-0.030214</td>\n",
       "      <td>0.014787</td>\n",
       "      <td>0.039603</td>\n",
       "      <td>-0.010608</td>\n",
       "      <td>0.059349</td>\n",
       "    </tr>\n",
       "  </tbody>\n",
       "</table>\n",
       "<p>5 rows × 488 columns</p>\n",
       "</div>"
      ],
      "text/plain": [
       "PERMNO         10104     10107     10138     10145     10516     10696  \\\n",
       "date                                                                     \n",
       "2023-01-03  0.024223 -0.001001  0.000825  0.000000 -0.034464  0.001385   \n",
       "2023-01-04  0.009078 -0.043743  0.020247 -0.019879 -0.036364  0.008398   \n",
       "2023-01-05 -0.002012 -0.029638 -0.028287 -0.026519 -0.025003 -0.026063   \n",
       "2023-01-06  0.016012  0.011785  0.037704  0.028366  0.020420  0.027968   \n",
       "2023-01-09  0.012608  0.009736  0.022798  0.001902 -0.006748 -0.001077   \n",
       "\n",
       "PERMNO         11308     11403     11404     11600  ...     92611     92614  \\\n",
       "date                                                ...                       \n",
       "2023-01-03 -0.010376 -0.006225  0.004721  0.026696  ... -0.001781  0.011022   \n",
       "2023-01-04 -0.000477 -0.002568  0.008667  0.033344  ...  0.025170  0.019922   \n",
       "2023-01-05 -0.011443 -0.015261 -0.013459 -0.020426  ... -0.007055 -0.015906   \n",
       "2023-01-06  0.019293  0.018240  0.026655  0.010275  ...  0.031453  0.023211   \n",
       "2023-01-09 -0.012461  0.039208 -0.001124 -0.013162  ...  0.003904  0.001137   \n",
       "\n",
       "PERMNO         92655     93002     93089     93096     93132     93246  \\\n",
       "date                                                                     \n",
       "2023-01-03 -0.021766 -0.010105  0.005215  0.001909 -0.007568 -0.029307   \n",
       "2023-01-04 -0.027264  0.012214  0.016409 -0.013051 -0.004534  0.043087   \n",
       "2023-01-05 -0.028821 -0.009317 -0.014480  0.007885 -0.017598 -0.035812   \n",
       "2023-01-06  0.000082  0.060196  0.029498  0.012794  0.026133  0.025237   \n",
       "2023-01-09  0.000122 -0.019611 -0.004539 -0.030214  0.014787  0.039603   \n",
       "\n",
       "PERMNO         93429     93436  \n",
       "date                            \n",
       "2023-01-03  0.006854 -0.122422  \n",
       "2023-01-04 -0.014723  0.051249  \n",
       "2023-01-05 -0.005624 -0.029039  \n",
       "2023-01-06 -0.002262  0.024651  \n",
       "2023-01-09 -0.010608  0.059349  \n",
       "\n",
       "[5 rows x 488 columns]"
      ]
     },
     "execution_count": 40,
     "metadata": {},
     "output_type": "execute_result"
    }
   ],
   "source": [
    "df_sample = df[df[\"PERMNO\"].isin(index_ids['PERMNO'])]\n",
    "df_pivot = df_sample.pivot(index=\"date\", columns=\"PERMNO\", values=\"RET\")\n",
    "df_pivot.head()"
   ]
  },
  {
   "cell_type": "code",
   "execution_count": 41,
   "id": "97ae02d7-917d-4f6a-826a-2c36264d89d5",
   "metadata": {},
   "outputs": [],
   "source": [
    "date_cutoff = pd.Timestamp(\"2023-10-01\")"
   ]
  },
  {
   "cell_type": "code",
   "execution_count": 42,
   "id": "27977c1f-9fd6-47ce-b125-75a1cb1bdcc4",
   "metadata": {},
   "outputs": [
    {
     "data": {
      "text/plain": [
       "187"
      ]
     },
     "execution_count": 42,
     "metadata": {},
     "output_type": "execute_result"
    }
   ],
   "source": [
    "train = df_pivot[:date_cutoff]\n",
    "train_span = len(train)\n",
    "train_span"
   ]
  },
  {
   "cell_type": "code",
   "execution_count": 43,
   "id": "2c3eb4e9-157a-4a25-bc7d-ae140ebf2795",
   "metadata": {},
   "outputs": [
    {
     "data": {
      "text/plain": [
       "63"
      ]
     },
     "execution_count": 43,
     "metadata": {},
     "output_type": "execute_result"
    }
   ],
   "source": [
    "test = df_pivot[date_cutoff:]\n",
    "test_span = len(test)\n",
    "test_span"
   ]
  },
  {
   "cell_type": "code",
   "execution_count": 44,
   "id": "dd9639ba-0185-4ffe-838f-bbd34125539d",
   "metadata": {},
   "outputs": [
    {
     "data": {
      "text/plain": [
       "DatetimeIndex(['2023-01-03', '2023-01-04', '2023-01-05', '2023-01-06',\n",
       "               '2023-01-09', '2023-01-10', '2023-01-11', '2023-01-12',\n",
       "               '2023-01-13', '2023-01-17',\n",
       "               ...\n",
       "               '2023-09-18', '2023-09-19', '2023-09-20', '2023-09-21',\n",
       "               '2023-09-22', '2023-09-25', '2023-09-26', '2023-09-27',\n",
       "               '2023-09-28', '2023-09-29'],\n",
       "              dtype='datetime64[ns]', name='date', length=187, freq=None)"
      ]
     },
     "execution_count": 44,
     "metadata": {},
     "output_type": "execute_result"
    }
   ],
   "source": [
    "train.index"
   ]
  },
  {
   "cell_type": "markdown",
   "id": "ddadb6b6-f6b3-44fa-9ffa-7d617cac58a1",
   "metadata": {},
   "source": [
    "Reference: https://github.com/zhuodannychen/Portfolio-Optimization"
   ]
  },
  {
   "cell_type": "code",
   "execution_count": null,
   "id": "5584213a-e874-4d3a-87ef-862816ca9a9d",
   "metadata": {},
   "outputs": [],
   "source": []
  }
 ],
 "metadata": {
  "kernelspec": {
   "display_name": "Python 3 (ipykernel)",
   "language": "python",
   "name": "python3"
  },
  "language_info": {
   "codemirror_mode": {
    "name": "ipython",
    "version": 3
   },
   "file_extension": ".py",
   "mimetype": "text/x-python",
   "name": "python",
   "nbconvert_exporter": "python",
   "pygments_lexer": "ipython3",
   "version": "3.10.14"
  }
 },
 "nbformat": 4,
 "nbformat_minor": 5
}
