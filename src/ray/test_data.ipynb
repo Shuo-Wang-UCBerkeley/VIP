{
 "cells": [
  {
   "cell_type": "code",
   "execution_count": 21,
   "metadata": {},
   "outputs": [],
   "source": [
    "import json\n",
    "\n",
    "import numpy as np\n",
    "import pandas as pd\n",
    "import yfinance as yf\n",
    "\n",
    "from ray.utils.file_utilities import data_dir, s3_upload\n",
    "\n",
    "train_s3_path = \"CRSP/crsp_2018-2023_clean_3.parquet\""
   ]
  },
  {
   "cell_type": "code",
   "execution_count": 2,
   "metadata": {},
   "outputs": [
    {
     "name": "stdout",
     "output_type": "stream",
     "text": [
      "Train data shape: (1509, 585), from 2018-01-02 00:00:00 to 2023-12-29 00:00:00\n",
      "There are missing values in the training data.\n"
     ]
    }
   ],
   "source": [
    "file_name = train_s3_path.split(\"/\")[1]\n",
    "train_path = data_dir.joinpath(file_name).absolute()\n",
    "\n",
    "train_df = pd.read_parquet(train_path)\n",
    "train = train_df.pivot(index=\"date\", columns=\"ticker\", values=\"return\")\n",
    "print(f\"Train data shape: {train.shape}, from {train.index.min()} to {train.index.max()}\")"
   ]
  },
  {
   "cell_type": "code",
   "execution_count": 4,
   "metadata": {},
   "outputs": [
    {
     "name": "stdout",
     "output_type": "stream",
     "text": [
      "ticker\n",
      "A         0\n",
      "AAL       0\n",
      "AAPL      0\n",
      "ABBV      0\n",
      "ABC      85\n",
      "       ... \n",
      "ZBRA      0\n",
      "ZION      0\n",
      "ZM      325\n",
      "ZS       51\n",
      "ZTS       0\n",
      "Length: 585, dtype: int64\n"
     ]
    }
   ],
   "source": [
    "if train.isnull().sum().sum() > 0:\n",
    "    print(train.isnull().sum())\n",
    "    train = train[train.columns[train.isnull().sum() == 0]]"
   ]
  },
  {
   "cell_type": "code",
   "execution_count": 16,
   "metadata": {},
   "outputs": [],
   "source": [
    "# write the ticker list to a file\n",
    "ticker_list = train.columns.tolist()\n",
    "ticker_list_path = data_dir.joinpath(\"ticker_list.json\")\n",
    "with open(ticker_list_path, \"w\") as f:\n",
    "    json.dump(ticker_list, f)"
   ]
  },
  {
   "cell_type": "code",
   "execution_count": 17,
   "metadata": {},
   "outputs": [
    {
     "name": "stderr",
     "output_type": "stream",
     "text": [
      "[*                      2%%                      ]  10 of 483 completed"
     ]
    },
    {
     "name": "stdout",
     "output_type": "stream",
     "text": [
      "Downloading test data from Yahoo Finance...\n"
     ]
    },
    {
     "name": "stderr",
     "output_type": "stream",
     "text": [
      "[***********           22%%                      ]  108 of 483 completed"
     ]
    },
    {
     "name": "stdout",
     "output_type": "stream",
     "text": [
      "$HCN: possibly delisted; No price data found  (1d 2023-12-29 -> 2024-07-14)\n"
     ]
    },
    {
     "name": "stderr",
     "output_type": "stream",
     "text": [
      "[************          25%%                      ]  123 of 483 completed"
     ]
    },
    {
     "name": "stdout",
     "output_type": "stream",
     "text": [
      "$BF: possibly delisted; No price data found  (1d 2023-12-29 -> 2024-07-14)\n"
     ]
    },
    {
     "name": "stderr",
     "output_type": "stream",
     "text": [
      "[********************  41%%                      ]  200 of 483 completed"
     ]
    },
    {
     "name": "stdout",
     "output_type": "stream",
     "text": [
      "$BRK: possibly delisted; No price data found  (1d 2023-12-29 -> 2024-07-14)\n"
     ]
    },
    {
     "name": "stderr",
     "output_type": "stream",
     "text": [
      "[*********************100%%**********************]  483 of 483 completed\n",
      "\n",
      "7 Failed downloads:\n",
      "['HCN', 'BF', 'BRK']: YFPricesMissingError('$%ticker%: possibly delisted; No price data found  (1d 2023-12-29 -> 2024-07-14)')\n",
      "['FLT', 'PXD', 'DISH', 'SPLK']: YFTzMissingError('$%ticker%: possibly delisted; No timezone found')\n"
     ]
    }
   ],
   "source": [
    "test_path = data_dir.joinpath(\"test.parquet\").absolute()\n",
    "print(\"Downloading test data from Yahoo Finance...\")\n",
    "test_tickers = ticker_list + [\"SPY\"]\n",
    "test_df = yf.download(test_tickers, start=\"2023-12-29\")\n",
    "test_close = pd.DataFrame(test_df[\"Adj Close\"])\n",
    "\n",
    "test = pd.DataFrame(np.log(test_close / test_close.shift()))\n",
    "test = test.drop(test.index[0])  # drop the first day with NaN"
   ]
  },
  {
   "cell_type": "code",
   "execution_count": 18,
   "metadata": {},
   "outputs": [
    {
     "name": "stdout",
     "output_type": "stream",
     "text": [
      "Tickers with >1% null: Index(['BF', 'BRK', 'DISH', 'FLT', 'HCN', 'PXD', 'SPLK', 'WRK'], dtype='object', name='Ticker')\n"
     ]
    }
   ],
   "source": [
    "# Count the number of nulls in each column\n",
    "null_counts = test.isnull().sum()\n",
    "total_rows = len(test)\n",
    "null_percentages = (null_counts / total_rows) * 100\n",
    "print(f\"Tickers with >1% null: {null_percentages[null_percentages > 1].index}\")"
   ]
  },
  {
   "cell_type": "code",
   "execution_count": 19,
   "metadata": {},
   "outputs": [
    {
     "name": "stdout",
     "output_type": "stream",
     "text": [
      "Tickers with <1% null but none 0: Index([], dtype='object', name='Ticker')\n"
     ]
    }
   ],
   "source": [
    "test = test[null_percentages[null_percentages <= 1].index]\n",
    "\n",
    "# fill 0 for the rest of NaN\n",
    "print(f\"Tickers with <1% null but none 0: {null_percentages[(null_percentages < 1)&(null_percentages > 0)].index}\")\n",
    "test = test.fillna(0)\n",
    "test.to_parquet(data_dir.joinpath(\"test.parquet\").absolute())"
   ]
  },
  {
   "cell_type": "code",
   "execution_count": 22,
   "metadata": {},
   "outputs": [],
   "source": [
    "s3_upload(\"CRSP/test.parquet\")"
   ]
  }
 ],
 "metadata": {
  "kernelspec": {
   "display_name": "src-_08Hpw27-py3.10",
   "language": "python",
   "name": "python3"
  },
  "language_info": {
   "codemirror_mode": {
    "name": "ipython",
    "version": 3
   },
   "file_extension": ".py",
   "mimetype": "text/x-python",
   "name": "python",
   "nbconvert_exporter": "python",
   "pygments_lexer": "ipython3",
   "version": "3.10.14"
  }
 },
 "nbformat": 4,
 "nbformat_minor": 2
}
