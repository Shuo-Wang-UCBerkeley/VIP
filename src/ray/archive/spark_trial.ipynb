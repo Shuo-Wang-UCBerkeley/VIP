{
 "cells": [
  {
   "cell_type": "code",
   "execution_count": 1,
   "id": "d2ee3500-4c03-49b2-99f8-ddb870b9563d",
   "metadata": {},
   "outputs": [
    {
     "name": "stdout",
     "output_type": "stream",
     "text": [
      "Welcome to the Glue Interactive Sessions Kernel\n",
      "For more information on available magic commands, please type %help in any new cell.\n",
      "\n",
      "Please view our Getting Started page to access the most up-to-date information on the Interactive Sessions kernel: https://docs.aws.amazon.com/glue/latest/dg/interactive-sessions.html\n",
      "Installed kernel version: 1.0.6 \n",
      "Trying to create a Glue session for the kernel.\n",
      "Session Type: etl\n",
      "Session ID: 3f840d5a-67cf-49a0-b171-b82f7eb19bf3\n",
      "Applying the following default arguments:\n",
      "--glue_kernel_version 1.0.6\n",
      "--enable-glue-datacatalog true\n"
     ]
    },
    {
     "name": "stderr",
     "output_type": "stream",
     "text": [
      "Following exception encountered while creating session: An error occurred (AccessDeniedException) when calling the CreateSession operation: User: arn:aws:sts::975050273734:assumed-role/SageMaker-ExecutionRole-20240612T130383/SageMaker is not authorized to perform: glue:CreateSession on resource: arn:aws:glue:us-east-1:975050273734:session/3f840d5a-67cf-49a0-b171-b82f7eb19bf3 because no identity-based policy allows the glue:CreateSession action \n",
      "\n",
      "Error message: User: arn:aws:sts::975050273734:assumed-role/SageMaker-ExecutionRole-20240612T130383/SageMaker is not authorized to perform: glue:CreateSession on resource: arn:aws:glue:us-east-1:975050273734:session/3f840d5a-67cf-49a0-b171-b82f7eb19bf3 because no identity-based policy allows the glue:CreateSession action \n",
      "\n",
      "Traceback (most recent call last):\n",
      "  File \"/opt/conda/lib/python3.10/site-packages/aws_glue_interactive_sessions_kernel/glue_kernel_utils/KernelGateway.py\", line 100, in create_session\n",
      "    response = self.glue_client.create_session(\n",
      "  File \"/opt/conda/lib/python3.10/site-packages/botocore/client.py\", line 565, in _api_call\n",
      "    return self._make_api_call(operation_name, kwargs)\n",
      "  File \"/opt/conda/lib/python3.10/site-packages/botocore/client.py\", line 1021, in _make_api_call\n",
      "    raise error_class(parsed_response, operation_name)\n",
      "botocore.errorfactory.AccessDeniedException: An error occurred (AccessDeniedException) when calling the CreateSession operation: User: arn:aws:sts::975050273734:assumed-role/SageMaker-ExecutionRole-20240612T130383/SageMaker is not authorized to perform: glue:CreateSession on resource: arn:aws:glue:us-east-1:975050273734:session/3f840d5a-67cf-49a0-b171-b82f7eb19bf3 because no identity-based policy allows the glue:CreateSession action\n",
      "Exception encountered while creating session: An error occurred (AccessDeniedException) when calling the CreateSession operation: User: arn:aws:sts::975050273734:assumed-role/SageMaker-ExecutionRole-20240612T130383/SageMaker is not authorized to perform: glue:CreateSession on resource: arn:aws:glue:us-east-1:975050273734:session/3f840d5a-67cf-49a0-b171-b82f7eb19bf3 because no identity-based policy allows the glue:CreateSession action \n",
      "Traceback (most recent call last):\n",
      "  File \"/opt/conda/lib/python3.10/site-packages/aws_glue_interactive_sessions_kernel/glue_kernel_base/BaseKernel.py\", line 170, in do_execute\n",
      "    self.create_session()\n",
      "  File \"/opt/conda/lib/python3.10/site-packages/aws_glue_interactive_sessions_kernel/glue_kernel_base/BaseKernel.py\", line 594, in create_session\n",
      "    response = self.kernel_gateway.create_session(\n",
      "  File \"/opt/conda/lib/python3.10/site-packages/aws_glue_interactive_sessions_kernel/glue_kernel_utils/KernelGateway.py\", line 100, in create_session\n",
      "    response = self.glue_client.create_session(\n",
      "  File \"/opt/conda/lib/python3.10/site-packages/botocore/client.py\", line 565, in _api_call\n",
      "    return self._make_api_call(operation_name, kwargs)\n",
      "  File \"/opt/conda/lib/python3.10/site-packages/botocore/client.py\", line 1021, in _make_api_call\n",
      "    raise error_class(parsed_response, operation_name)\n",
      "botocore.errorfactory.AccessDeniedException: An error occurred (AccessDeniedException) when calling the CreateSession operation: User: arn:aws:sts::975050273734:assumed-role/SageMaker-ExecutionRole-20240612T130383/SageMaker is not authorized to perform: glue:CreateSession on resource: arn:aws:glue:us-east-1:975050273734:session/3f840d5a-67cf-49a0-b171-b82f7eb19bf3 because no identity-based policy allows the glue:CreateSession action\n"
     ]
    }
   ],
   "source": [
    "import os\n",
    "import boto3\n",
    "\n",
    "from pyspark import SparkContext, SparkConf\n",
    "from pyspark.sql import SparkSession\n",
    "\n",
    "import sagemaker\n",
    "from sagemaker import get_execution_role\n",
    "import sagemaker_pyspark\n",
    "\n",
    "role = get_execution_role()\n",
    "\n",
    "# Configure Spark to use the SageMaker Spark dependency jars\n",
    "jars = sagemaker_pyspark.classpath_jars()\n",
    "\n",
    "classpath = \":\".join(sagemaker_pyspark.classpath_jars())\n",
    "\n",
    "# See the SageMaker Spark Github to learn how to connect to EMR from a notebook instance\n",
    "spark = (\n",
    "    SparkSession.builder.config(\"spark.driver.extraClassPath\", classpath)\n",
    "    .master(\"local[*]\")\n",
    "    .getOrCreate()\n",
    ")\n",
    "\n",
    "spark"
   ]
  }
 ],
 "metadata": {
  "kernelspec": {
   "display_name": "Glue PySpark and Ray",
   "language": "python",
   "name": "glue_pyspark"
  },
  "language_info": {
   "codemirror_mode": {
    "name": "python",
    "version": 3
   },
   "file_extension": ".py",
   "mimetype": "text/x-python",
   "name": "Python_Glue_Session",
   "pygments_lexer": "python3"
  }
 },
 "nbformat": 4,
 "nbformat_minor": 5
}
