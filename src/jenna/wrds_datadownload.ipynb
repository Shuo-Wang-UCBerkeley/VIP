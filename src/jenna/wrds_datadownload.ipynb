{
 "cells": [
  {
   "cell_type": "markdown",
   "metadata": {},
   "source": [
    "# Download Data from WRDS"
   ]
  },
  {
   "cell_type": "code",
   "execution_count": 1,
   "metadata": {
    "colab": {
     "base_uri": "https://localhost:8080/"
    },
    "id": "KiR3YPwT4baQ",
    "outputId": "f6f0c07a-4967-447a-8e48-8568c0ca34e1"
   },
   "outputs": [
    {
     "name": "stdout",
     "output_type": "stream",
     "text": [
      "\u001b[33mWARNING: Ignoring invalid distribution -cipy (/opt/conda/lib/python3.10/site-packages)\u001b[0m\u001b[33m\n",
      "\u001b[0mRequirement already satisfied: wrds in /opt/conda/lib/python3.10/site-packages (3.2.0)\n",
      "Requirement already satisfied: numpy<1.27,>=1.26 in /opt/conda/lib/python3.10/site-packages (from wrds) (1.26.4)\n",
      "Requirement already satisfied: packaging<23.3 in /opt/conda/lib/python3.10/site-packages (from wrds) (23.2)\n",
      "Requirement already satisfied: pandas<2.3,>=2.2 in /opt/conda/lib/python3.10/site-packages (from wrds) (2.2.2)\n",
      "Requirement already satisfied: psycopg2-binary<2.10,>=2.9 in /opt/conda/lib/python3.10/site-packages (from wrds) (2.9.9)\n",
      "Requirement already satisfied: scipy<1.13,>=1.12 in /opt/conda/lib/python3.10/site-packages (from wrds) (1.12.0)\n",
      "Requirement already satisfied: sqlalchemy<2.1,>=2 in /opt/conda/lib/python3.10/site-packages (from wrds) (2.0.31)\n",
      "Requirement already satisfied: python-dateutil>=2.8.2 in /opt/conda/lib/python3.10/site-packages (from pandas<2.3,>=2.2->wrds) (2.9.0)\n",
      "Requirement already satisfied: pytz>=2020.1 in /opt/conda/lib/python3.10/site-packages (from pandas<2.3,>=2.2->wrds) (2023.3)\n",
      "Requirement already satisfied: tzdata>=2022.7 in /opt/conda/lib/python3.10/site-packages (from pandas<2.3,>=2.2->wrds) (2024.1)\n",
      "Requirement already satisfied: typing-extensions>=4.6.0 in /opt/conda/lib/python3.10/site-packages (from sqlalchemy<2.1,>=2->wrds) (4.11.0)\n",
      "Requirement already satisfied: greenlet!=0.4.17 in /opt/conda/lib/python3.10/site-packages (from sqlalchemy<2.1,>=2->wrds) (3.0.3)\n",
      "Requirement already satisfied: six>=1.5 in /opt/conda/lib/python3.10/site-packages (from python-dateutil>=2.8.2->pandas<2.3,>=2.2->wrds) (1.16.0)\n",
      "\u001b[33mWARNING: Ignoring invalid distribution -cipy (/opt/conda/lib/python3.10/site-packages)\u001b[0m\u001b[33m\n",
      "\u001b[0m"
     ]
    }
   ],
   "source": [
    "!pip install wrds"
   ]
  },
  {
   "cell_type": "code",
   "execution_count": 2,
   "metadata": {},
   "outputs": [
    {
     "name": "stdout",
     "output_type": "stream",
     "text": [
      "\u001b[33mWARNING: Ignoring invalid distribution -cipy (/opt/conda/lib/python3.10/site-packages)\u001b[0m\u001b[33m\n",
      "\u001b[0mRequirement already satisfied: pyarrow in /opt/conda/lib/python3.10/site-packages (15.0.0)\n",
      "Requirement already satisfied: numpy<2,>=1.16.6 in /opt/conda/lib/python3.10/site-packages (from pyarrow) (1.26.4)\n",
      "\u001b[33mWARNING: Ignoring invalid distribution -cipy (/opt/conda/lib/python3.10/site-packages)\u001b[0m\u001b[33m\n",
      "\u001b[0m"
     ]
    }
   ],
   "source": [
    "!pip install pyarrow"
   ]
  },
  {
   "cell_type": "code",
   "execution_count": 3,
   "metadata": {},
   "outputs": [],
   "source": [
    "import wrds\n",
    "import pandas as pd\n",
    "from datetime import datetime\n",
    "\n",
    "import pyarrow as pa\n",
    "import pyarrow.parquet as pq"
   ]
  },
  {
   "cell_type": "code",
   "execution_count": 4,
   "metadata": {},
   "outputs": [
    {
     "data": {
      "text/html": [
       "<div>\n",
       "<style scoped>\n",
       "    .dataframe tbody tr th:only-of-type {\n",
       "        vertical-align: middle;\n",
       "    }\n",
       "\n",
       "    .dataframe tbody tr th {\n",
       "        vertical-align: top;\n",
       "    }\n",
       "\n",
       "    .dataframe thead th {\n",
       "        text-align: right;\n",
       "    }\n",
       "</style>\n",
       "<table border=\"1\" class=\"dataframe\">\n",
       "  <thead>\n",
       "    <tr style=\"text-align: right;\">\n",
       "      <th></th>\n",
       "      <th>cusip</th>\n",
       "      <th>PERMNO</th>\n",
       "      <th>PERMCO</th>\n",
       "      <th>HSHRCD</th>\n",
       "      <th>DLSTCD</th>\n",
       "      <th>HTICK</th>\n",
       "      <th>HCOMNAM</th>\n",
       "      <th>HTSYMBOL</th>\n",
       "      <th>HNAICS</th>\n",
       "      <th>HPRIMEXC</th>\n",
       "      <th>...</th>\n",
       "      <th>NUMDEL</th>\n",
       "      <th>NUMNDI</th>\n",
       "      <th>BEGDAT</th>\n",
       "      <th>ENDDAT</th>\n",
       "      <th>BEGPRC</th>\n",
       "      <th>ENDPRC</th>\n",
       "      <th>BEGRET</th>\n",
       "      <th>ENDRET</th>\n",
       "      <th>BEGVOL</th>\n",
       "      <th>ENDVOL</th>\n",
       "    </tr>\n",
       "  </thead>\n",
       "  <tbody>\n",
       "    <tr>\n",
       "      <th>0</th>\n",
       "      <td>00130H10</td>\n",
       "      <td>76712</td>\n",
       "      <td>10996</td>\n",
       "      <td>11</td>\n",
       "      <td>100</td>\n",
       "      <td>AES</td>\n",
       "      <td>A E S CORP</td>\n",
       "      <td>AES</td>\n",
       "      <td>221118</td>\n",
       "      <td>N</td>\n",
       "      <td>...</td>\n",
       "      <td>1</td>\n",
       "      <td>68</td>\n",
       "      <td>06/26/1991</td>\n",
       "      <td>12/29/2023</td>\n",
       "      <td>06/26/1991</td>\n",
       "      <td>12/29/2023</td>\n",
       "      <td>06/26/1991</td>\n",
       "      <td>12/29/2023</td>\n",
       "      <td>06/26/1991</td>\n",
       "      <td>12/29/2023</td>\n",
       "    </tr>\n",
       "    <tr>\n",
       "      <th>1</th>\n",
       "      <td>00206R10</td>\n",
       "      <td>66093</td>\n",
       "      <td>21645</td>\n",
       "      <td>11</td>\n",
       "      <td>100</td>\n",
       "      <td>T</td>\n",
       "      <td>A T &amp; T INC</td>\n",
       "      <td>T</td>\n",
       "      <td>517312</td>\n",
       "      <td>N</td>\n",
       "      <td>...</td>\n",
       "      <td>1</td>\n",
       "      <td>0</td>\n",
       "      <td>02/16/1984</td>\n",
       "      <td>12/29/2023</td>\n",
       "      <td>02/16/1984</td>\n",
       "      <td>12/29/2023</td>\n",
       "      <td>02/16/1984</td>\n",
       "      <td>12/29/2023</td>\n",
       "      <td>02/16/1984</td>\n",
       "      <td>12/29/2023</td>\n",
       "    </tr>\n",
       "    <tr>\n",
       "      <th>2</th>\n",
       "      <td>00507V10</td>\n",
       "      <td>79678</td>\n",
       "      <td>12499</td>\n",
       "      <td>11</td>\n",
       "      <td>233</td>\n",
       "      <td>NaN</td>\n",
       "      <td>ACTIVISION BLIZZARD INC</td>\n",
       "      <td>ATVI</td>\n",
       "      <td>513210</td>\n",
       "      <td>Q</td>\n",
       "      <td>...</td>\n",
       "      <td>1</td>\n",
       "      <td>1968</td>\n",
       "      <td>10/22/1993</td>\n",
       "      <td>10/12/2023</td>\n",
       "      <td>10/22/1993</td>\n",
       "      <td>10/12/2023</td>\n",
       "      <td>10/22/1993</td>\n",
       "      <td>10/12/2023</td>\n",
       "      <td>10/22/1993</td>\n",
       "      <td>10/12/2023</td>\n",
       "    </tr>\n",
       "    <tr>\n",
       "      <th>3</th>\n",
       "      <td>00724F10</td>\n",
       "      <td>75510</td>\n",
       "      <td>8476</td>\n",
       "      <td>11</td>\n",
       "      <td>100</td>\n",
       "      <td>ADBE</td>\n",
       "      <td>ADOBE INC</td>\n",
       "      <td>ADBE</td>\n",
       "      <td>511210</td>\n",
       "      <td>Q</td>\n",
       "      <td>...</td>\n",
       "      <td>1</td>\n",
       "      <td>2185</td>\n",
       "      <td>08/13/1986</td>\n",
       "      <td>12/29/2023</td>\n",
       "      <td>08/13/1986</td>\n",
       "      <td>12/29/2023</td>\n",
       "      <td>08/13/1986</td>\n",
       "      <td>12/29/2023</td>\n",
       "      <td>08/13/1986</td>\n",
       "      <td>12/29/2023</td>\n",
       "    </tr>\n",
       "    <tr>\n",
       "      <th>4</th>\n",
       "      <td>00971T10</td>\n",
       "      <td>87299</td>\n",
       "      <td>17300</td>\n",
       "      <td>11</td>\n",
       "      <td>100</td>\n",
       "      <td>AKAM</td>\n",
       "      <td>AKAMAI TECHNOLOGIES INC</td>\n",
       "      <td>AKAM</td>\n",
       "      <td>511210</td>\n",
       "      <td>Q</td>\n",
       "      <td>...</td>\n",
       "      <td>1</td>\n",
       "      <td>1722</td>\n",
       "      <td>10/29/1999</td>\n",
       "      <td>12/29/2023</td>\n",
       "      <td>10/29/1999</td>\n",
       "      <td>12/29/2023</td>\n",
       "      <td>10/29/1999</td>\n",
       "      <td>12/29/2023</td>\n",
       "      <td>10/29/1999</td>\n",
       "      <td>12/29/2023</td>\n",
       "    </tr>\n",
       "  </tbody>\n",
       "</table>\n",
       "<p>5 rows × 29 columns</p>\n",
       "</div>"
      ],
      "text/plain": [
       "      cusip  PERMNO  PERMCO  HSHRCD  DLSTCD HTICK                  HCOMNAM  \\\n",
       "0  00130H10   76712   10996      11     100   AES               A E S CORP   \n",
       "1  00206R10   66093   21645      11     100     T              A T & T INC   \n",
       "2  00507V10   79678   12499      11     233   NaN  ACTIVISION BLIZZARD INC   \n",
       "3  00724F10   75510    8476      11     100  ADBE                ADOBE INC   \n",
       "4  00971T10   87299   17300      11     100  AKAM  AKAMAI TECHNOLOGIES INC   \n",
       "\n",
       "  HTSYMBOL  HNAICS HPRIMEXC  ... NUMDEL NUMNDI      BEGDAT      ENDDAT  \\\n",
       "0      AES  221118        N  ...      1     68  06/26/1991  12/29/2023   \n",
       "1        T  517312        N  ...      1      0  02/16/1984  12/29/2023   \n",
       "2     ATVI  513210        Q  ...      1   1968  10/22/1993  10/12/2023   \n",
       "3     ADBE  511210        Q  ...      1   2185  08/13/1986  12/29/2023   \n",
       "4     AKAM  511210        Q  ...      1   1722  10/29/1999  12/29/2023   \n",
       "\n",
       "       BEGPRC      ENDPRC      BEGRET      ENDRET      BEGVOL      ENDVOL  \n",
       "0  06/26/1991  12/29/2023  06/26/1991  12/29/2023  06/26/1991  12/29/2023  \n",
       "1  02/16/1984  12/29/2023  02/16/1984  12/29/2023  02/16/1984  12/29/2023  \n",
       "2  10/22/1993  10/12/2023  10/22/1993  10/12/2023  10/22/1993  10/12/2023  \n",
       "3  08/13/1986  12/29/2023  08/13/1986  12/29/2023  08/13/1986  12/29/2023  \n",
       "4  10/29/1999  12/29/2023  10/29/1999  12/29/2023  10/29/1999  12/29/2023  \n",
       "\n",
       "[5 rows x 29 columns]"
      ]
     },
     "execution_count": 4,
     "metadata": {},
     "output_type": "execute_result"
    }
   ],
   "source": [
    "sp500_df = pd.read_csv(\"/home/sagemaker-user/capstone-2024-summer/data/security_master.csv\")\n",
    "\n",
    "sp500_df.head()"
   ]
  },
  {
   "cell_type": "code",
   "execution_count": null,
   "metadata": {},
   "outputs": [
    {
     "name": "stdin",
     "output_type": "stream",
     "text": [
      "Enter your WRDS username [sagemaker-user]: jennasparks\n",
      "Enter your password: ········\n"
     ]
    },
    {
     "name": "stdout",
     "output_type": "stream",
     "text": [
      "WRDS recommends setting up a .pgpass file.\n"
     ]
    },
    {
     "name": "stdin",
     "output_type": "stream",
     "text": [
      "Create .pgpass file now [y/n]?:  n\n"
     ]
    },
    {
     "name": "stdout",
     "output_type": "stream",
     "text": [
      "You can create this file yourself at any time with the create_pgpass_file() function.\n",
      "Loading library list...\n",
      "Done\n",
      "Executing query...\n"
     ]
    }
   ],
   "source": [
    "# Connect to WRDS\n",
    "db = wrds.Connection()\n",
    "\n",
    "# Set date range\n",
    "start_date = '2018-01-01'\n",
    "end_date = '2023-12-31'\n",
    "\n",
    "sp500_permnos = tuple(sp500_df['PERMNO'].unique())\n",
    "\n",
    "# Main query\n",
    "main_query = f\"\"\"\n",
    "SELECT a.*,\n",
    "       c.*\n",
    "FROM crsp.dsf a\n",
    "LEFT JOIN crsp.ccmxpf_linktable b\n",
    "ON a.permno = b.lpermno\n",
    "AND b.linktype IN ('LC', 'LU')\n",
    "AND b.linkprim IN ('P', 'C')\n",
    "AND a.date BETWEEN b.linkdt AND COALESCE(b.linkenddt, '{end_date}')\n",
    "LEFT JOIN LATERAL (\n",
    "    SELECT *\n",
    "    FROM comp.fundq c2\n",
    "    WHERE c2.gvkey = b.gvkey\n",
    "      AND c2.datadate <= a.date\n",
    "      AND c2.datadate BETWEEN '{start_date}' AND '{end_date}'\n",
    "    ORDER BY c2.datadate DESC\n",
    "    LIMIT 1\n",
    ") c ON TRUE\n",
    "WHERE a.date BETWEEN '{start_date}' AND '{end_date}'\n",
    "AND a.permno IN {sp500_permnos}\n",
    "\"\"\"\n",
    "\n",
    "print(\"Executing query...\")\n",
    "data = db.raw_sql(main_query)\n",
    "\n",
    "print(\"Query executed. Saving to CSV...\")\n",
    "\n",
    "# Save to CSV\n",
    "data.to_csv('crsp_compustat_merged_2018_2023.csv', index=False)\n",
    "\n",
    "# Close the connection\n",
    "db.close()\n",
    "\n",
    "print(\"Data extraction and merging complete. File saved as CSV.\")\n",
    "\n",
    "# Print column names for reference\n",
    "print(\"\\nColumns in the merged dataset:\")\n",
    "print(data.columns.tolist())"
   ]
  },
  {
   "cell_type": "markdown",
   "metadata": {},
   "source": [
    "## Check the downloaded data"
   ]
  },
  {
   "cell_type": "code",
   "execution_count": null,
   "metadata": {},
   "outputs": [],
   "source": [
    "file_path = \"/home/sagemaker-user/capstone-2024-summer/src/jenna/crsp_compustat_merged_2018_2023.csv\"\n",
    "# Read the CSV file with specified data types\n",
    "df = pd.read_csv(file_path, low_memory=False)"
   ]
  },
  {
   "cell_type": "code",
   "execution_count": null,
   "metadata": {},
   "outputs": [],
   "source": [
    "df.head(10)"
   ]
  },
  {
   "cell_type": "code",
   "execution_count": null,
   "metadata": {},
   "outputs": [],
   "source": [
    "df.columns"
   ]
  },
  {
   "cell_type": "code",
   "execution_count": null,
   "metadata": {},
   "outputs": [],
   "source": []
  }
 ],
 "metadata": {
  "colab": {
   "provenance": []
  },
  "kernelspec": {
   "display_name": "Python 3 (ipykernel)",
   "language": "python",
   "name": "python3"
  },
  "language_info": {
   "codemirror_mode": {
    "name": "ipython",
    "version": 3
   },
   "file_extension": ".py",
   "mimetype": "text/x-python",
   "name": "python",
   "nbconvert_exporter": "python",
   "pygments_lexer": "ipython3",
   "version": "3.10.14"
  }
 },
 "nbformat": 4,
 "nbformat_minor": 4
}
