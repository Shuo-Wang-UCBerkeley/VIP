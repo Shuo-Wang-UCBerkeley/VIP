{
 "cells": [
  {
   "cell_type": "markdown",
   "metadata": {},
   "source": [
    "# Download Data from WRDS"
   ]
  },
  {
   "cell_type": "code",
   "execution_count": 1,
   "metadata": {
    "colab": {
     "base_uri": "https://localhost:8080/"
    },
    "id": "KiR3YPwT4baQ",
    "outputId": "f6f0c07a-4967-447a-8e48-8568c0ca34e1"
   },
   "outputs": [
    {
     "name": "stdout",
     "output_type": "stream",
     "text": [
      "Requirement already satisfied: wrds in /opt/conda/lib/python3.10/site-packages (3.2.0)\n",
      "Requirement already satisfied: numpy<1.27,>=1.26 in /opt/conda/lib/python3.10/site-packages (from wrds) (1.26.4)\n",
      "Requirement already satisfied: packaging<23.3 in /opt/conda/lib/python3.10/site-packages (from wrds) (23.2)\n",
      "Requirement already satisfied: pandas<2.3,>=2.2 in /opt/conda/lib/python3.10/site-packages (from wrds) (2.2.2)\n",
      "Requirement already satisfied: psycopg2-binary<2.10,>=2.9 in /opt/conda/lib/python3.10/site-packages (from wrds) (2.9.9)\n",
      "Requirement already satisfied: scipy<1.13,>=1.12 in /opt/conda/lib/python3.10/site-packages (from wrds) (1.12.0)\n",
      "Requirement already satisfied: sqlalchemy<2.1,>=2 in /opt/conda/lib/python3.10/site-packages (from wrds) (2.0.31)\n",
      "Requirement already satisfied: python-dateutil>=2.8.2 in /opt/conda/lib/python3.10/site-packages (from pandas<2.3,>=2.2->wrds) (2.9.0)\n",
      "Requirement already satisfied: pytz>=2020.1 in /opt/conda/lib/python3.10/site-packages (from pandas<2.3,>=2.2->wrds) (2023.3)\n",
      "Requirement already satisfied: tzdata>=2022.7 in /opt/conda/lib/python3.10/site-packages (from pandas<2.3,>=2.2->wrds) (2024.1)\n",
      "Requirement already satisfied: typing-extensions>=4.6.0 in /opt/conda/lib/python3.10/site-packages (from sqlalchemy<2.1,>=2->wrds) (4.11.0)\n",
      "Requirement already satisfied: greenlet!=0.4.17 in /opt/conda/lib/python3.10/site-packages (from sqlalchemy<2.1,>=2->wrds) (3.0.3)\n",
      "Requirement already satisfied: six>=1.5 in /opt/conda/lib/python3.10/site-packages (from python-dateutil>=2.8.2->pandas<2.3,>=2.2->wrds) (1.16.0)\n"
     ]
    }
   ],
   "source": [
    "!pip install wrds"
   ]
  },
  {
   "cell_type": "code",
   "execution_count": 2,
   "metadata": {},
   "outputs": [],
   "source": [
    "import wrds\n",
    "import pandas as pd\n",
    "from datetime import datetime"
   ]
  },
  {
   "cell_type": "code",
   "execution_count": null,
   "metadata": {},
   "outputs": [
    {
     "name": "stdin",
     "output_type": "stream",
     "text": [
      "Enter your WRDS username [sagemaker-user]: jennasparks\n",
      "Enter your password: ········\n"
     ]
    },
    {
     "name": "stdout",
     "output_type": "stream",
     "text": [
      "WRDS recommends setting up a .pgpass file.\n"
     ]
    },
    {
     "name": "stdin",
     "output_type": "stream",
     "text": [
      "Create .pgpass file now [y/n]?:  n\n"
     ]
    },
    {
     "name": "stdout",
     "output_type": "stream",
     "text": [
      "You can create this file yourself at any time with the create_pgpass_file() function.\n",
      "Loading library list...\n",
      "Done\n"
     ]
    }
   ],
   "source": [
    "# Connect to WRDS\n",
    "db = wrds.Connection()\n",
    "\n",
    "# Set date range\n",
    "start_date = '2018-01-01'\n",
    "end_date = '2023-12-31'\n",
    "\n",
    "# CRSP Daily Stock Data (all columns)\n",
    "crsp_query = f\"\"\"\n",
    "    SELECT a.*, \n",
    "           b.gvkey, b.linktype, b.linkprim\n",
    "    FROM crsp.dsf a\n",
    "    LEFT JOIN crsp.ccmxpf_linktable b\n",
    "    ON a.permno = b.lpermno\n",
    "    AND b.linktype IN ('LC', 'LU')\n",
    "    AND b.linkprim IN ('P', 'C')\n",
    "    AND a.date BETWEEN b.linkdt AND COALESCE(b.linkenddt, '2023-12-31')\n",
    "    WHERE a.date BETWEEN '{start_date}' AND '{end_date}'\n",
    "\"\"\"\n",
    "crsp_data = db.raw_sql(crsp_query)\n",
    "\n",
    "# Compustat Fundamentals Quarterly (all columns)\n",
    "compustat_query = f\"\"\"\n",
    "    SELECT *\n",
    "    FROM comp.fundq\n",
    "    WHERE datadate BETWEEN '{start_date}' AND '{end_date}'\n",
    "\"\"\"\n",
    "compustat_data = db.raw_sql(compustat_query)\n",
    "\n",
    "# Convert date columns to datetime\n",
    "crsp_data['date'] = pd.to_datetime(crsp_data['date'])\n",
    "compustat_data['datadate'] = pd.to_datetime(compustat_data['datadate'])\n",
    "\n",
    "# Merge datasets\n",
    "merged_data = pd.merge(crsp_data, compustat_data,\n",
    "                       left_on=['gvkey', 'date'],\n",
    "                       right_on=['gvkey', 'datadate'],\n",
    "                       how='left', suffixes=('_crsp', '_compustat'))\n",
    "\n",
    "# Forward fill Compustat data\n",
    "merged_data = merged_data.sort_values(['permno', 'date'])\n",
    "compustat_columns = [col for col in merged_data.columns if col.endswith('_compustat')]\n",
    "merged_data[compustat_columns] = merged_data.groupby('permno')[compustat_columns].ffill()\n",
    "\n",
    "# Save to CSV\n",
    "merged_data.to_csv('crsp_compustat_merged_2018_2023.csv', index=False)\n",
    "\n",
    "# Close the connection\n",
    "db.close()\n",
    "\n",
    "print(\"Data extraction and merging complete. File saved as CSV.\")\n",
    "\n",
    "# Print column names for reference\n",
    "print(\"\\nCRSP Columns:\")\n",
    "print(crsp_data.columns.tolist())\n",
    "print(\"\\nCompustat Columns:\")\n",
    "print(compustat_data.columns.tolist())"
   ]
  },
  {
   "cell_type": "markdown",
   "metadata": {},
   "source": [
    "## Check the downloaded data"
   ]
  },
  {
   "cell_type": "code",
   "execution_count": null,
   "metadata": {},
   "outputs": [],
   "source": [
    "file_path = \"/home/sagemaker-user/capstone-2024-summer/src/jenna/crsp_compustat_merged_2018_2023.csv\"\n",
    "# Read the CSV file with specified data types\n",
    "df = pd.read_csv(file_path, low_memory=False)"
   ]
  },
  {
   "cell_type": "code",
   "execution_count": null,
   "metadata": {},
   "outputs": [],
   "source": [
    "df.head(10)"
   ]
  },
  {
   "cell_type": "code",
   "execution_count": null,
   "metadata": {},
   "outputs": [],
   "source": [
    "df.columns"
   ]
  },
  {
   "cell_type": "code",
   "execution_count": null,
   "metadata": {},
   "outputs": [],
   "source": []
  }
 ],
 "metadata": {
  "colab": {
   "provenance": []
  },
  "kernelspec": {
   "display_name": "Python 3 (ipykernel)",
   "language": "python",
   "name": "python3"
  },
  "language_info": {
   "codemirror_mode": {
    "name": "ipython",
    "version": 3
   },
   "file_extension": ".py",
   "mimetype": "text/x-python",
   "name": "python",
   "nbconvert_exporter": "python",
   "pygments_lexer": "ipython3",
   "version": "3.10.14"
  }
 },
 "nbformat": 4,
 "nbformat_minor": 4
}
