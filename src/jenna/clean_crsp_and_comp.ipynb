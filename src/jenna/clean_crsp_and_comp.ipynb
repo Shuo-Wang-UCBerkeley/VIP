{
 "cells": [
  {
   "cell_type": "markdown",
   "id": "a2c7aa0e-1b30-437f-aa9e-000d6966f08f",
   "metadata": {},
   "source": [
    "# Set Up Env"
   ]
  },
  {
   "cell_type": "code",
   "execution_count": 1,
   "id": "a207fa11-b497-4526-96e6-6bf640fe17b7",
   "metadata": {},
   "outputs": [
    {
     "name": "stdout",
     "output_type": "stream",
     "text": [
      "sagemaker.config INFO - Not applying SDK defaults from location: /etc/xdg/sagemaker/config.yaml\n",
      "sagemaker.config INFO - Not applying SDK defaults from location: /home/sagemaker-user/.config/sagemaker/config.yaml\n",
      "/home/sagemaker-user/capstone-2024-summer/src/jenna\n"
     ]
    }
   ],
   "source": [
    "import sys\n",
    "import os\n",
    "\n",
    "import sagemaker\n",
    "from sagemaker import get_execution_role\n",
    "\n",
    "# Add the parent directory to the sys.path\n",
    "sys.path.insert(0, os.path.abspath('..'))\n",
    "\n",
    "# Define IAM role\n",
    "role = get_execution_role()\n",
    "role\n",
    "\n",
    "# Establish S3 bucket connection\n",
    "import boto3\n",
    "s3 = boto3.client('s3')\n",
    "bucket = 'capstone-bucket-4-friends'\n",
    "\n",
    "print(os.getcwd())\n",
    "\n",
    "from file_utilities import s3_download "
   ]
  },
  {
   "cell_type": "code",
   "execution_count": 2,
   "id": "32d2abd1-51e8-4524-9cc1-618da9808a09",
   "metadata": {},
   "outputs": [],
   "source": [
    "# standard libraries\n",
    "import numpy as np\n",
    "import pandas as pd\n",
    "\n",
    "# visualization\n",
    "import matplotlib.pyplot as plt\n",
    "!pip install seaborn -q\n",
    "import seaborn as sns"
   ]
  },
  {
   "cell_type": "code",
   "execution_count": 3,
   "id": "4bfe876e-e168-400d-b5a7-1eb8cf0c0bd3",
   "metadata": {},
   "outputs": [],
   "source": [
    "#crsp_and_comp = \"CRSP/sp500_crsp_compustat_merged_2018_2023.csv\"\n",
    "#crsp_and_comp_path = s3_download(crsp_and_comp)"
   ]
  },
  {
   "cell_type": "code",
   "execution_count": 4,
   "id": "99a8b4fa-c4e4-44a6-9bd6-6d3bf0b3bbc0",
   "metadata": {},
   "outputs": [],
   "source": [
    "#index = \"Index/security_master.csv\"\n",
    "#index_path = s3_download(index)"
   ]
  },
  {
   "cell_type": "code",
   "execution_count": null,
   "id": "828f4c75-1b12-4002-a111-e5729b304734",
   "metadata": {},
   "outputs": [],
   "source": [
    "crsp_and_comp_df = pd.read_csv(\"/home/sagemaker-user/capstone-2024-summer/data/sp500_crsp_compustat_merged_2018_2023.csv\")\n",
    "\n",
    "crsp_and_comp_df.head()"
   ]
  },
  {
   "cell_type": "code",
   "execution_count": null,
   "id": "930fa952-0c4e-4da3-8f9d-8737b958346b",
   "metadata": {},
   "outputs": [],
   "source": []
  }
 ],
 "metadata": {
  "kernelspec": {
   "display_name": "Python 3 (ipykernel)",
   "language": "python",
   "name": "python3"
  },
  "language_info": {
   "codemirror_mode": {
    "name": "ipython",
    "version": 3
   },
   "file_extension": ".py",
   "mimetype": "text/x-python",
   "name": "python",
   "nbconvert_exporter": "python",
   "pygments_lexer": "ipython3",
   "version": "3.10.14"
  }
 },
 "nbformat": 4,
 "nbformat_minor": 5
}
