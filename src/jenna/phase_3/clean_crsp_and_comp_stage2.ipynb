{
 "cells": [
  {
   "cell_type": "markdown",
   "id": "c2e509ea-93e8-4c87-9a74-f72cf0dd6dbe",
   "metadata": {},
   "source": [
    "# Set Up Env"
   ]
  },
  {
   "cell_type": "code",
   "execution_count": null,
   "id": "b36173e8-b088-4441-99aa-5efac7e75285",
   "metadata": {},
   "outputs": [],
   "source": [
    "import sys\n",
    "import os\n",
    "\n",
    "import sagemaker\n",
    "from sagemaker import get_execution_role\n",
    "\n",
    "# Add the parent directory to the sys.path\n",
    "sys.path.insert(0, os.path.abspath(\"..\"))\n",
    "\n",
    "# Define IAM role\n",
    "role = get_execution_role()\n",
    "role\n",
    "\n",
    "# Establish S3 bucket connection\n",
    "import boto3\n",
    "\n",
    "s3 = boto3.client(\"s3\")\n",
    "bucket = \"capstone-bucket-4-friends\"\n",
    "\n",
    "# Take a look at current dir\n",
    "print(os.getcwd())\n",
    "\n",
    "from file_utilities import s3_download"
   ]
  },
  {
   "cell_type": "markdown",
   "id": "7e27cf5f-6cdf-4688-ba94-20519cf876b6",
   "metadata": {},
   "source": [
    "Financial Ratios (calculate these):\n",
    "\n",
    "Return on Assets (ROA): niq / atq\n",
    "Return on Equity (ROE): niq / seqq\n",
    "Debt-to-Equity Ratio: ltq / seqq\n",
    "Current Ratio: actq / lctq"
   ]
  },
  {
   "cell_type": "code",
   "execution_count": null,
   "id": "8ff9815e-9e08-4d5f-a8a6-5fb191d1cee5",
   "metadata": {},
   "outputs": [],
   "source": []
  }
 ],
 "metadata": {
  "kernelspec": {
   "display_name": "Python 3 (ipykernel)",
   "language": "python",
   "name": "python3"
  },
  "language_info": {
   "codemirror_mode": {
    "name": "ipython",
    "version": 3
   },
   "file_extension": ".py",
   "mimetype": "text/x-python",
   "name": "python",
   "nbconvert_exporter": "python",
   "pygments_lexer": "ipython3",
   "version": "3.10.14"
  }
 },
 "nbformat": 4,
 "nbformat_minor": 5
}
