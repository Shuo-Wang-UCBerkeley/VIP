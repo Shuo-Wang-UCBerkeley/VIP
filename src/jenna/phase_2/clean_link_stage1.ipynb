{
 "cells": [
  {
   "cell_type": "markdown",
   "metadata": {},
   "source": [
    "# Set Up Env\n"
   ]
  },
  {
   "cell_type": "code",
   "execution_count": 1,
   "metadata": {},
   "outputs": [
    {
     "name": "stdout",
     "output_type": "stream",
     "text": [
      "sagemaker.config INFO - Not applying SDK defaults from location: /etc/xdg/sagemaker/config.yaml\n",
      "sagemaker.config INFO - Not applying SDK defaults from location: /home/sagemaker-user/.config/sagemaker/config.yaml\n",
      "/home/sagemaker-user/capstone-2024-summer/src/jenna/phase_2\n"
     ]
    }
   ],
   "source": [
    "import sys\n",
    "import os\n",
    "\n",
    "import sagemaker\n",
    "from sagemaker import get_execution_role\n",
    "\n",
    "# Add the parent directory to the sys.path\n",
    "sys.path.insert(0, os.path.abspath(\"..\"))\n",
    "\n",
    "# Define IAM role\n",
    "role = get_execution_role()\n",
    "role\n",
    "\n",
    "# Establish S3 bucket connection\n",
    "import boto3\n",
    "\n",
    "s3 = boto3.client(\"s3\")\n",
    "bucket = \"capstone-bucket-4-friends\"\n",
    "\n",
    "# Take a look at current dir\n",
    "print(os.getcwd())\n",
    "\n",
    "from file_utilities import s3_download"
   ]
  },
  {
   "cell_type": "markdown",
   "metadata": {
    "id": "gey0gI-R-q-P"
   },
   "source": [
    "# Import libraries\n"
   ]
  },
  {
   "cell_type": "code",
   "execution_count": 2,
   "metadata": {
    "colab": {
     "base_uri": "https://localhost:8080/"
    },
    "executionInfo": {
     "elapsed": 3384,
     "status": "ok",
     "timestamp": 1718854260790,
     "user": {
      "displayName": "Rachel Gao",
      "userId": "10756354987170970544"
     },
     "user_tz": 420
    },
    "id": "4advojzZJ3Kc",
    "outputId": "241fdbb0-fc1b-4350-ba4b-a44f786ae727"
   },
   "outputs": [],
   "source": [
    "# standard libraries\n",
    "import numpy as np\n",
    "import pandas as pd\n",
    "\n",
    "# visualization\n",
    "import matplotlib.pyplot as plt\n",
    "\n",
    "!pip install seaborn -q\n",
    "import seaborn as sns"
   ]
  },
  {
   "cell_type": "markdown",
   "metadata": {},
   "source": [
    "# Download Data from S3 as needed\n"
   ]
  },
  {
   "cell_type": "code",
   "execution_count": 3,
   "metadata": {},
   "outputs": [],
   "source": [
    "# link = \"CRSP/link_crsp_and_comp_2018-2023.csv\"\n",
    "# link_path = s3_download(link)"
   ]
  },
  {
   "cell_type": "code",
   "execution_count": 4,
   "metadata": {},
   "outputs": [],
   "source": [
    "# index = \"Index/security_master.csv\"\n",
    "# index_path = s3_download(index)"
   ]
  },
  {
   "cell_type": "markdown",
   "metadata": {
    "id": "NL5urp2nAL4f"
   },
   "source": [
    "# Load the dataset\n",
    "\n",
    "https://wrds-www.wharton.upenn.edu/documents/403/CRSP_-_Compustat_Merged_Database_CCM_NiIeIWV.pdf\n"
   ]
  },
  {
   "cell_type": "code",
   "execution_count": 5,
   "metadata": {
    "colab": {
     "base_uri": "https://localhost:8080/",
     "height": 552
    },
    "executionInfo": {
     "elapsed": 35269,
     "status": "ok",
     "timestamp": 1718854296057,
     "user": {
      "displayName": "Rachel Gao",
      "userId": "10756354987170970544"
     },
     "user_tz": 420
    },
    "id": "qZZUgwZ7AqVA",
    "outputId": "e064ef6b-03c0-4661-fe7f-62a938271d6e"
   },
   "outputs": [
    {
     "data": {
      "text/html": [
       "<div>\n",
       "<style scoped>\n",
       "    .dataframe tbody tr th:only-of-type {\n",
       "        vertical-align: middle;\n",
       "    }\n",
       "\n",
       "    .dataframe tbody tr th {\n",
       "        vertical-align: top;\n",
       "    }\n",
       "\n",
       "    .dataframe thead th {\n",
       "        text-align: right;\n",
       "    }\n",
       "</style>\n",
       "<table border=\"1\" class=\"dataframe\">\n",
       "  <thead>\n",
       "    <tr style=\"text-align: right;\">\n",
       "      <th></th>\n",
       "      <th>GVKEY</th>\n",
       "      <th>LINKPRIM</th>\n",
       "      <th>LIID</th>\n",
       "      <th>LINKTYPE</th>\n",
       "      <th>LPERMNO</th>\n",
       "      <th>LPERMCO</th>\n",
       "      <th>LINKDT</th>\n",
       "      <th>LINKENDDT</th>\n",
       "      <th>stype</th>\n",
       "      <th>sid</th>\n",
       "      <th>...</th>\n",
       "      <th>snms</th>\n",
       "      <th>soptp1</th>\n",
       "      <th>soptp2</th>\n",
       "      <th>conm</th>\n",
       "      <th>tic</th>\n",
       "      <th>cusip</th>\n",
       "      <th>cik</th>\n",
       "      <th>sic</th>\n",
       "      <th>naics</th>\n",
       "      <th>gsubind</th>\n",
       "    </tr>\n",
       "  </thead>\n",
       "  <tbody>\n",
       "    <tr>\n",
       "      <th>0</th>\n",
       "      <td>1004</td>\n",
       "      <td>P</td>\n",
       "      <td>1</td>\n",
       "      <td>LU</td>\n",
       "      <td>54594</td>\n",
       "      <td>20000</td>\n",
       "      <td>1972-04-24</td>\n",
       "      <td>E</td>\n",
       "      <td>BUSSEG</td>\n",
       "      <td>22</td>\n",
       "      <td>...</td>\n",
       "      <td>Expeditionary Services</td>\n",
       "      <td>PD_SRVC</td>\n",
       "      <td>NaN</td>\n",
       "      <td>AAR CORP</td>\n",
       "      <td>AIR</td>\n",
       "      <td>000361105</td>\n",
       "      <td>1750.0</td>\n",
       "      <td>5080</td>\n",
       "      <td>423860</td>\n",
       "      <td>20101010.0</td>\n",
       "    </tr>\n",
       "    <tr>\n",
       "      <th>1</th>\n",
       "      <td>1004</td>\n",
       "      <td>P</td>\n",
       "      <td>1</td>\n",
       "      <td>LU</td>\n",
       "      <td>54594</td>\n",
       "      <td>20000</td>\n",
       "      <td>1972-04-24</td>\n",
       "      <td>E</td>\n",
       "      <td>GEOSEG</td>\n",
       "      <td>5</td>\n",
       "      <td>...</td>\n",
       "      <td>Europe/Africa</td>\n",
       "      <td>GEO</td>\n",
       "      <td>NaN</td>\n",
       "      <td>AAR CORP</td>\n",
       "      <td>AIR</td>\n",
       "      <td>000361105</td>\n",
       "      <td>1750.0</td>\n",
       "      <td>5080</td>\n",
       "      <td>423860</td>\n",
       "      <td>20101010.0</td>\n",
       "    </tr>\n",
       "    <tr>\n",
       "      <th>2</th>\n",
       "      <td>1004</td>\n",
       "      <td>P</td>\n",
       "      <td>1</td>\n",
       "      <td>LU</td>\n",
       "      <td>54594</td>\n",
       "      <td>20000</td>\n",
       "      <td>1972-04-24</td>\n",
       "      <td>E</td>\n",
       "      <td>GEOSEG</td>\n",
       "      <td>4</td>\n",
       "      <td>...</td>\n",
       "      <td>North America</td>\n",
       "      <td>GEO</td>\n",
       "      <td>NaN</td>\n",
       "      <td>AAR CORP</td>\n",
       "      <td>AIR</td>\n",
       "      <td>000361105</td>\n",
       "      <td>1750.0</td>\n",
       "      <td>5080</td>\n",
       "      <td>423860</td>\n",
       "      <td>20101010.0</td>\n",
       "    </tr>\n",
       "    <tr>\n",
       "      <th>3</th>\n",
       "      <td>1004</td>\n",
       "      <td>P</td>\n",
       "      <td>1</td>\n",
       "      <td>LU</td>\n",
       "      <td>54594</td>\n",
       "      <td>20000</td>\n",
       "      <td>1972-04-24</td>\n",
       "      <td>E</td>\n",
       "      <td>BUSSEG</td>\n",
       "      <td>11</td>\n",
       "      <td>...</td>\n",
       "      <td>Corporate</td>\n",
       "      <td>PD_SRVC</td>\n",
       "      <td>NaN</td>\n",
       "      <td>AAR CORP</td>\n",
       "      <td>AIR</td>\n",
       "      <td>000361105</td>\n",
       "      <td>1750.0</td>\n",
       "      <td>5080</td>\n",
       "      <td>423860</td>\n",
       "      <td>20101010.0</td>\n",
       "    </tr>\n",
       "    <tr>\n",
       "      <th>4</th>\n",
       "      <td>1004</td>\n",
       "      <td>P</td>\n",
       "      <td>1</td>\n",
       "      <td>LU</td>\n",
       "      <td>54594</td>\n",
       "      <td>20000</td>\n",
       "      <td>1972-04-24</td>\n",
       "      <td>E</td>\n",
       "      <td>GEOSEG</td>\n",
       "      <td>3</td>\n",
       "      <td>...</td>\n",
       "      <td>Other</td>\n",
       "      <td>GEO</td>\n",
       "      <td>NaN</td>\n",
       "      <td>AAR CORP</td>\n",
       "      <td>AIR</td>\n",
       "      <td>000361105</td>\n",
       "      <td>1750.0</td>\n",
       "      <td>5080</td>\n",
       "      <td>423860</td>\n",
       "      <td>20101010.0</td>\n",
       "    </tr>\n",
       "  </tbody>\n",
       "</table>\n",
       "<p>5 rows × 71 columns</p>\n",
       "</div>"
      ],
      "text/plain": [
       "   GVKEY LINKPRIM  LIID LINKTYPE  LPERMNO  LPERMCO      LINKDT LINKENDDT  \\\n",
       "0   1004        P     1       LU    54594    20000  1972-04-24         E   \n",
       "1   1004        P     1       LU    54594    20000  1972-04-24         E   \n",
       "2   1004        P     1       LU    54594    20000  1972-04-24         E   \n",
       "3   1004        P     1       LU    54594    20000  1972-04-24         E   \n",
       "4   1004        P     1       LU    54594    20000  1972-04-24         E   \n",
       "\n",
       "    stype  sid  ...                    snms   soptp1  soptp2      conm  tic  \\\n",
       "0  BUSSEG   22  ...  Expeditionary Services  PD_SRVC     NaN  AAR CORP  AIR   \n",
       "1  GEOSEG    5  ...           Europe/Africa      GEO     NaN  AAR CORP  AIR   \n",
       "2  GEOSEG    4  ...           North America      GEO     NaN  AAR CORP  AIR   \n",
       "3  BUSSEG   11  ...               Corporate  PD_SRVC     NaN  AAR CORP  AIR   \n",
       "4  GEOSEG    3  ...                   Other      GEO     NaN  AAR CORP  AIR   \n",
       "\n",
       "       cusip     cik   sic   naics     gsubind  \n",
       "0  000361105  1750.0  5080  423860  20101010.0  \n",
       "1  000361105  1750.0  5080  423860  20101010.0  \n",
       "2  000361105  1750.0  5080  423860  20101010.0  \n",
       "3  000361105  1750.0  5080  423860  20101010.0  \n",
       "4  000361105  1750.0  5080  423860  20101010.0  \n",
       "\n",
       "[5 rows x 71 columns]"
      ]
     },
     "execution_count": 5,
     "metadata": {},
     "output_type": "execute_result"
    }
   ],
   "source": [
    "link_df = pd.read_csv(\n",
    "    \"/home/sagemaker-user/capstone-2024-summer/data/link_crsp_and_comp_2018-2023.csv\",\n",
    "    parse_dates=[\"srcdate\"],\n",
    "    low_memory=False,\n",
    ")\n",
    "\n",
    "link_df.head()"
   ]
  },
  {
   "cell_type": "markdown",
   "metadata": {
    "id": "k4Sdl7bhbYlY"
   },
   "source": [
    "# Take a look at the columns\n"
   ]
  },
  {
   "cell_type": "code",
   "execution_count": 6,
   "metadata": {
    "colab": {
     "base_uri": "https://localhost:8080/"
    },
    "executionInfo": {
     "elapsed": 5,
     "status": "ok",
     "timestamp": 1718854296058,
     "user": {
      "displayName": "Rachel Gao",
      "userId": "10756354987170970544"
     },
     "user_tz": 420
    },
    "id": "kvnFj_bSCFCN",
    "outputId": "871ccbba-7ee3-476a-8e5a-b837f2603341"
   },
   "outputs": [
    {
     "data": {
      "text/plain": [
       "Index(['GVKEY', 'LINKPRIM', 'LIID', 'LINKTYPE', 'LPERMNO', 'LPERMCO', 'LINKDT',\n",
       "       'LINKENDDT', 'stype', 'sid', 'atlls', 'capxs', 'capxs_fn', 'caxts',\n",
       "       'cogss', 'dps', 'emps', 'emps_fn', 'esubs', 'esubs_fn', 'ias', 'ibs',\n",
       "       'iints', 'intseg', 'ivaeqs', 'nis', 'nopxs', 'nxints', 'obs', 'ocaxs',\n",
       "       'oelim', 'oiadps', 'oibdps', 'ops', 'ops_fn', 'ppents', 'ptis', 'rds',\n",
       "       'rds_fn', 'revts', 'sales', 'sales_fn', 'salexg', 'spis', 'txts',\n",
       "       'txws', 'xidos', 'xints', 'xsgas', 'datadate', 'srcdate', 'curcds',\n",
       "       'isosrc', 'naicsh', 'srcs', 'upds', 'NAICSS1', 'NAICSS2', 'SICS1',\n",
       "       'SICS2', 'geotp', 'snms', 'soptp1', 'soptp2', 'conm', 'tic', 'cusip',\n",
       "       'cik', 'sic', 'naics', 'gsubind'],\n",
       "      dtype='object')"
      ]
     },
     "execution_count": 6,
     "metadata": {},
     "output_type": "execute_result"
    }
   ],
   "source": [
    "link_df.columns"
   ]
  },
  {
   "cell_type": "code",
   "execution_count": 7,
   "metadata": {
    "colab": {
     "base_uri": "https://localhost:8080/"
    },
    "executionInfo": {
     "elapsed": 4,
     "status": "ok",
     "timestamp": 1718854296058,
     "user": {
      "displayName": "Rachel Gao",
      "userId": "10756354987170970544"
     },
     "user_tz": 420
    },
    "id": "anxdhdX5fLqU",
    "outputId": "021c7500-f9b4-4ae4-bdd7-6cfb57285809"
   },
   "outputs": [
    {
     "data": {
      "text/plain": [
       "GVKEY         int64\n",
       "LINKPRIM     object\n",
       "LIID          int64\n",
       "LINKTYPE     object\n",
       "LPERMNO       int64\n",
       "             ...   \n",
       "cusip        object\n",
       "cik         float64\n",
       "sic           int64\n",
       "naics         int64\n",
       "gsubind     float64\n",
       "Length: 71, dtype: object"
      ]
     },
     "execution_count": 7,
     "metadata": {},
     "output_type": "execute_result"
    }
   ],
   "source": [
    "link_df.dtypes"
   ]
  },
  {
   "cell_type": "code",
   "execution_count": 8,
   "metadata": {
    "colab": {
     "base_uri": "https://localhost:8080/"
    },
    "executionInfo": {
     "elapsed": 3,
     "status": "ok",
     "timestamp": 1718854296058,
     "user": {
      "displayName": "Rachel Gao",
      "userId": "10756354987170970544"
     },
     "user_tz": 420
    },
    "id": "y92nzlbOY00-",
    "outputId": "f346ffa0-308a-454b-c0ab-99903433a7f7"
   },
   "outputs": [
    {
     "name": "stdout",
     "output_type": "stream",
     "text": [
      "number of records: 315578\n",
      "number of columns: 71\n"
     ]
    }
   ],
   "source": [
    "og_link_len = len(link_df)\n",
    "og_link_cols = len(link_df.columns)\n",
    "print(\"number of records:\", og_link_len)\n",
    "print(\"number of columns:\", og_link_cols)"
   ]
  },
  {
   "cell_type": "markdown",
   "metadata": {},
   "source": [
    "# Cast date variables"
   ]
  },
  {
   "cell_type": "code",
   "execution_count": 9,
   "metadata": {},
   "outputs": [
    {
     "name": "stderr",
     "output_type": "stream",
     "text": [
      "/tmp/ipykernel_1858/605713236.py:20: UserWarning: Could not infer format, so each element will be parsed individually, falling back to `dateutil`. To ensure parsing is consistent and as-expected, please specify a format.\n",
      "  df[col] = pd.to_datetime(df[col], errors='coerce')\n"
     ]
    }
   ],
   "source": [
    "def date_formatting(df):\n",
    "    \"\"\"Convert to datetime with specified format\"\"\"\n",
    "    date_columns = [\n",
    "        \"LINKDT\",\n",
    "        \"LINKENDDT\",\n",
    "        \"datadate\",\n",
    "        \"srcdate\",\n",
    "    ]\n",
    "    for col in date_columns:\n",
    "        if col in df.columns:\n",
    "            # First, try with a common format\n",
    "            try:\n",
    "                df[col] = pd.to_datetime(df[col], format=\"%Y-%m-%d\", errors=\"raise\")\n",
    "            except ValueError:\n",
    "                # If that fails, try with another common format\n",
    "                try:\n",
    "                    df[col] = pd.to_datetime(df[col], format=\"%m/%d/%Y\", errors=\"raise\")\n",
    "                except ValueError:\n",
    "                    # If both fail, use the flexible parser as a last resort\n",
    "                    df[col] = pd.to_datetime(df[col], errors=\"coerce\")\n",
    "\n",
    "            # Handle any remaining NaT values\n",
    "            df[col] = df[col].fillna(pd.NaT)\n",
    "\n",
    "    return df\n",
    "\n",
    "\n",
    "# Apply the function\n",
    "link_df = date_formatting(link_df)\n",
    "\n",
    "# Sort the df by date for forward fill preparation\n",
    "link_df = link_df.sort_values(\"srcdate\")"
   ]
  },
  {
   "cell_type": "markdown",
   "metadata": {
    "id": "c3ncsMKpdlXk"
   },
   "source": [
    "# Null analysis\n"
   ]
  },
  {
   "cell_type": "code",
   "execution_count": 10,
   "metadata": {
    "colab": {
     "base_uri": "https://localhost:8080/",
     "height": 475
    },
    "executionInfo": {
     "elapsed": 4868,
     "status": "ok",
     "timestamp": 1718854300924,
     "user": {
      "displayName": "Rachel Gao",
      "userId": "10756354987170970544"
     },
     "user_tz": 420
    },
    "id": "YMKjMIxndqbA",
    "outputId": "b56c1fda-dab7-4584-b8ac-9b6adde5357b"
   },
   "outputs": [
    {
     "data": {
      "image/png": "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",
      "text/plain": [
       "<Figure size 1200x400 with 1 Axes>"
      ]
     },
     "metadata": {},
     "output_type": "display_data"
    }
   ],
   "source": [
    "# Count the number of nulls in each column\n",
    "null_counts = link_df.isnull().sum()\n",
    "\n",
    "# Calculate the percentage of nulls in each column\n",
    "total_rows = len(link_df)\n",
    "null_percentages = (null_counts / total_rows) * 100\n",
    "null_percentages = null_percentages.sort_values(ascending=False)\n",
    "\n",
    "# Plot the percentages as a bar plot\n",
    "null_percentages.plot(kind=\"bar\", figsize=(12, 4), color=\"skyblue\")\n",
    "plt.axhline(y=80, color=\"red\", linestyle=\"--\", linewidth=1)\n",
    "plt.title(\"Percentage of Null Values in Each Column\")\n",
    "plt.xlabel(\"Columns\")\n",
    "plt.ylabel(\"Percentage of Nulls (%)\")\n",
    "plt.show()"
   ]
  },
  {
   "cell_type": "markdown",
   "metadata": {
    "id": "cFe6mQFCf_RJ"
   },
   "source": [
    "## A1. Drop all columns which contains more than 80% null as they cannot be reasonably obtained or imputed.\n"
   ]
  },
  {
   "cell_type": "code",
   "execution_count": 11,
   "metadata": {
    "colab": {
     "base_uri": "https://localhost:8080/"
    },
    "executionInfo": {
     "elapsed": 287,
     "status": "ok",
     "timestamp": 1718854301208,
     "user": {
      "displayName": "Rachel Gao",
      "userId": "10756354987170970544"
     },
     "user_tz": 420
    },
    "id": "4H0i5UKBf-g2",
    "outputId": "98ff4e2b-84e5-4bac-ceba-1cc988694d52"
   },
   "outputs": [
    {
     "name": "stdout",
     "output_type": "stream",
     "text": [
      "num_columns_removed:  18\n",
      "num_columns_kept: 53\n"
     ]
    }
   ],
   "source": [
    "og_cols = len(link_df.columns)\n",
    "columns_to_drop = null_percentages[null_percentages > 80].index\n",
    "link_df = link_df.drop(columns=columns_to_drop)\n",
    "new_cols = len(link_df.columns)\n",
    "print(\"num_columns_removed: \", og_cols - new_cols)\n",
    "print(\"num_columns_kept:\", new_cols)"
   ]
  },
  {
   "cell_type": "markdown",
   "metadata": {
    "id": "zswhk8i0r01t"
   },
   "source": [
    "## A2. Drop all columns containing duplicate information and columns just used for linking\n"
   ]
  },
  {
   "cell_type": "code",
   "execution_count": 12,
   "metadata": {
    "colab": {
     "base_uri": "https://localhost:8080/"
    },
    "executionInfo": {
     "elapsed": 182,
     "status": "ok",
     "timestamp": 1718854301388,
     "user": {
      "displayName": "Rachel Gao",
      "userId": "10756354987170970544"
     },
     "user_tz": 420
    },
    "id": "-ZRJ47epsRmM",
    "outputId": "849e35d2-044e-4ed0-acc6-f3d3bff16e45"
   },
   "outputs": [
    {
     "name": "stdout",
     "output_type": "stream",
     "text": [
      "num_columns_removed:  15\n",
      "num_columns_kept: 38\n"
     ]
    }
   ],
   "source": [
    "og_cols = len(link_df.columns)\n",
    "columns_to_drop = [\n",
    "    \"LPERMCO\",\n",
    "    \"naicsh\",  # Historical NAICS\n",
    "    \"GVKEY\",  # Just used for linking Compustat\n",
    "    \"NAICSS1\",  # Just used for linking Compustat\n",
    "    \"NAICSS2\",  # Just used for linking Compustat\n",
<<<<<<< HEAD
    "    \"SICS1\",    # Just used for linking Compustat\n",
    "    \"SICS2\",    # Just used for linking Compustat\n",
    "    \"LINKTYPE\", # Just used for linking Compustat\n",
    "    \"LINKPRIM\", # Just used for linking Compustat\n",
    "    \"datadate\", # srcdate as primary date\n",
    "    \"curcds\",   # Currency codes\n",
    "    \"srcs\",     # Just used for linking Compustat\n",
    "    \"tic\",      # LPERMNO as your primary identifier\n",
    "    \"cusip\",    # LPERMNO as primary identifier\n",
    "    \"sic\",      # redundant to naics\n",
=======
    "    \"SICS1\",  # Just used for linking Compustat\n",
    "    \"SICS2\",  # Just used for linking Compustat\n",
    "    \"LINKTYPE\",  # Just used for linking Compustat\n",
    "    \"LINKPRIM\",  # Just used for linking Compustat\n",
    "    \"datadate\",  # srcdate as primary date\n",
    "    \"curcds\",  # Currency codes\n",
    "    \"srcs\",  # Not identifier\n",
    "    \"tic\",  # LPERMNO as your primary identifier\n",
    "    \"cusip\",  # LPERMNO as primary identifier\n",
    "    \"sic\",  # redundant to naics\n",
>>>>>>> 900fa17 (Embedding-S&P_Step_1.ipynb: add one hot encoder for person_id.)
    "]\n",
    "\n",
    "link_df = link_df.drop(columns=columns_to_drop)\n",
    "new_cols = len(link_df.columns)\n",
    "print(\"num_columns_removed: \", og_cols - new_cols)\n",
    "print(\"num_columns_kept:\", new_cols)"
   ]
  },
  {
   "cell_type": "markdown",
   "metadata": {
    "id": "JWJ1RPPvsrcC"
   },
   "source": [
    "# Take another look at the null analysis\n"
   ]
  },
  {
   "cell_type": "code",
   "execution_count": 13,
   "metadata": {
    "colab": {
     "base_uri": "https://localhost:8080/",
     "height": 467
    },
    "executionInfo": {
     "elapsed": 1652,
     "status": "ok",
     "timestamp": 1718854303039,
     "user": {
      "displayName": "Rachel Gao",
      "userId": "10756354987170970544"
     },
     "user_tz": 420
    },
    "id": "2GXrE1bVsg1Q",
    "outputId": "022db422-4fae-4199-9bf3-e2a57518a293"
   },
   "outputs": [
    {
     "data": {
      "image/png": "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",
      "text/plain": [
       "<Figure size 1200x400 with 1 Axes>"
      ]
     },
     "metadata": {},
     "output_type": "display_data"
    }
   ],
   "source": [
    "# Count the number of nulls in each column\n",
    "null_counts = link_df.isnull().sum()\n",
    "\n",
    "# Calculate the percentage of nulls in each column\n",
    "total_rows = len(link_df)\n",
    "null_percentages = (null_counts / total_rows) * 100\n",
    "null_percentages = null_percentages.sort_values(ascending=False)\n",
    "\n",
    "# Plot the percentages as a bar plot\n",
    "ax = null_percentages.plot(kind=\"bar\", figsize=(12, 4), color=\"skyblue\")\n",
    "plt.title(\"Percentage of Null Values in Each Column\")\n",
    "plt.xlabel(\"Columns\")\n",
    "plt.ylim(0, max(null_percentages.values) + 10)\n",
    "plt.ylabel(\"Percentage of Nulls (%)\")\n",
    "\n",
    "# Annotate the bars with the percentage values\n",
    "for i, percentage in enumerate(null_percentages):\n",
    "    if percentage != 0:\n",
    "        ax.annotate(\n",
    "            f\"{percentage:.0f}%\",\n",
    "            xy=(i, percentage),\n",
    "            xytext=(0, 3),\n",
    "            textcoords=\"offset points\",\n",
    "            ha=\"center\",\n",
    "            va=\"bottom\",\n",
    "            color=\"red\",\n",
    "            fontsize=7,\n",
    "        )\n",
    "\n",
    "plt.show()"
   ]
  },
  {
   "cell_type": "markdown",
   "metadata": {
    "id": "6wv4KP9vgnGd"
   },
   "source": [
    "# Review unique values and distribution in each remaining column\n"
   ]
  },
  {
   "cell_type": "code",
   "execution_count": 14,
   "metadata": {
    "colab": {
     "base_uri": "https://localhost:8080/"
    },
    "executionInfo": {
     "elapsed": 5513,
     "status": "ok",
     "timestamp": 1718854308549,
     "user": {
      "displayName": "Rachel Gao",
      "userId": "10756354987170970544"
     },
     "user_tz": 420
    },
    "id": "wJH_9Qs0gsI7",
    "outputId": "493db5ea-5e0d-47e2-bce0-9db85cceeea8"
   },
   "outputs": [
    {
     "name": "stdout",
     "output_type": "stream",
     "text": [
      "---------- LIID ----------\n",
      "21\n",
      "LIID\n",
      "1     257175\n",
      "90     31858\n",
      "2      15063\n",
      "3       4428\n",
      "91      2715\n",
      "4       1379\n",
      "5        994\n",
      "92       347\n",
      "93       274\n",
      "96       260\n",
      "6        250\n",
      "7        174\n",
      "8        170\n",
      "99       147\n",
      "19       120\n",
      "10        93\n",
      "9         72\n",
      "12        30\n",
      "11        12\n",
      "21        12\n",
      "94         5\n",
      "Name: count, dtype: int64\n",
      "---------- LPERMNO ----------\n",
      "6663\n",
      "LPERMNO\n",
      "85261    612\n",
      "14785    461\n",
      "33823    439\n",
      "86111    431\n",
      "91607    416\n",
      "        ... \n",
      "24087      1\n",
      "21825      1\n",
      "21025      1\n",
      "23801      1\n",
      "22193      1\n",
      "Name: count, Length: 6663, dtype: int64\n",
      "---------- LINKDT ----------\n",
      "3967\n",
      "LINKDT\n",
      "1962-01-31    12483\n",
      "1972-12-14    10031\n",
      "1962-07-02     2038\n",
      "1982-01-29     1757\n",
      "2018-01-01     1126\n",
      "              ...  \n",
      "2004-04-20        1\n",
      "2018-07-30        1\n",
      "2018-07-13        1\n",
      "1998-06-02        1\n",
      "2006-11-22        1\n",
      "Name: count, Length: 3967, dtype: int64\n",
      "---------- stype ----------\n",
      "4\n",
      "stype\n",
      "GEOSEG    152347\n",
      "BUSSEG    134561\n",
      "OPSEG      28272\n",
      "STSEG        398\n",
      "Name: count, dtype: int64\n",
      "---------- sid ----------\n",
      "90\n",
      "sid\n",
      "1     76479\n",
      "2     37195\n",
      "3     27126\n",
      "4     22270\n",
      "5     18877\n",
      "      ...  \n",
      "83        1\n",
      "74        1\n",
      "79        1\n",
      "73        1\n",
      "71        1\n",
      "Name: count, Length: 90, dtype: int64\n",
      "---------- capxs ----------\n",
      "23508\n",
      "capxs\n",
      "0.000       22397\n",
      "1.000         358\n",
      "2.000         311\n",
      "3.000         230\n",
      "5.000         227\n",
      "            ...  \n",
      "646.851         1\n",
      "39.459          1\n",
      "1490.866        1\n",
      "131.973         1\n",
      "1808.952        1\n",
      "Name: count, Length: 23508, dtype: int64\n",
      "---------- caxts ----------\n",
      "30001\n",
      "caxts\n",
      "0.000      566\n",
      "237.000     19\n",
      "511.000     19\n",
      "51.000      17\n",
      "199.000     16\n",
      "          ... \n",
      "9.571        1\n",
      "5.262        1\n",
      "20.182       1\n",
      "8.458        1\n",
      "81.598       1\n",
      "Name: count, Length: 30001, dtype: int64\n",
      "---------- cogss ----------\n",
      "35807\n",
      "cogss\n",
      " 0.000       9392\n",
      " 3.000         77\n",
      " 1.000         65\n",
      " 0.500         63\n",
      " 0.600         44\n",
      "             ... \n",
      " 3824.000       1\n",
      "-628.000        1\n",
      " 8.305          1\n",
      " 12.677         1\n",
      " 51.539         1\n",
      "Name: count, Length: 35807, dtype: int64\n",
      "---------- dps ----------\n",
      "26924\n",
      "dps\n",
      "0.000     11789\n",
      "1.000       288\n",
      "0.001       266\n",
      "2.000       240\n",
      "3.000       222\n",
      "          ...  \n",
      "75.231        1\n",
      "12.144        1\n",
      "59.093        1\n",
      "1.547         1\n",
      "18.229        1\n",
      "Name: count, Length: 26924, dtype: int64\n",
      "---------- emps ----------\n",
      "8523\n",
      "emps\n",
      "0.0        9476\n",
      "2.0         526\n",
      "3.0         511\n",
      "4.0         510\n",
      "9.0         444\n",
      "           ... \n",
      "3840.0        1\n",
      "16790.0       1\n",
      "5345.0        1\n",
      "5229.0        1\n",
      "4728.0        1\n",
      "Name: count, Length: 8523, dtype: int64\n",
      "---------- esubs ----------\n",
      "5656\n",
      "esubs\n",
      " 0.000      169170\n",
      " 1.000         228\n",
      " 2.000         161\n",
      "-1.000         121\n",
      " 6.000         114\n",
      "             ...  \n",
      " 0.287           1\n",
      " 0.735           1\n",
      "-59.000          1\n",
      "-0.569           1\n",
      " 151.185         1\n",
      "Name: count, Length: 5656, dtype: int64\n",
      "---------- ias ----------\n",
      "59597\n",
      "ias\n",
      "0.000      3253\n",
      "2.000        21\n",
      "5.000        20\n",
      "233.000      19\n",
      "485.000      18\n",
      "           ... \n",
      "67.290        1\n",
      "344.434       1\n",
      "3.421         1\n",
      "16.922        1\n",
      "32.129        1\n",
      "Name: count, Length: 59597, dtype: int64\n",
      "---------- ibs ----------\n",
      "25679\n",
      "ibs\n",
      " 0.000      735\n",
      "-1.000       33\n",
      "-6.000       25\n",
      " 5.000       24\n",
      " 112.000     23\n",
      "           ... \n",
      "-78.523       1\n",
      "-2.353        1\n",
      "-29.566       1\n",
      "-11.101       1\n",
      "-71.735       1\n",
      "Name: count, Length: 25679, dtype: int64\n",
      "---------- intseg ----------\n",
      "7406\n",
      "intseg\n",
      " 0.000        266418\n",
      " 2.000           177\n",
      " 1.000           166\n",
      " 4.000           131\n",
      " 3.000           113\n",
      "               ...  \n",
      " 36020.000         1\n",
      " 38693.000         1\n",
      "-9.079             1\n",
      " 4.312             1\n",
      " 36.361            1\n",
      "Name: count, Length: 7406, dtype: int64\n",
      "---------- ivaeqs ----------\n",
      "6317\n",
      "ivaeqs\n",
      "0.000      177874\n",
      "3.000          77\n",
      "6.000          69\n",
      "2.000          58\n",
      "4.000          56\n",
      "            ...  \n",
      "42.906          1\n",
      "6.550           1\n",
      "1.686           1\n",
      "0.068           1\n",
      "114.538         1\n",
      "Name: count, Length: 6317, dtype: int64\n",
      "---------- nis ----------\n",
      "28453\n",
      "nis\n",
      " 0.000       953\n",
      "-1.000        38\n",
      " 5.000        29\n",
      " 39.000       24\n",
      " 2.000        24\n",
      "            ... \n",
      "-4.001         1\n",
      "-28.297        1\n",
      "-30.824        1\n",
      " 1030.530      1\n",
      "-4.625         1\n",
      "Name: count, Length: 28453, dtype: int64\n",
      "---------- oelim ----------\n",
      "39\n",
      "oelim\n",
      " 0.000       302437\n",
      " 3948.000         3\n",
      " 391.600          3\n",
      " 156.500          3\n",
      " 2225.000         3\n",
      "-9.948            3\n",
      " 20.907           3\n",
      " 2507.000         3\n",
      " 1779.000         3\n",
      " 382.800          3\n",
      " 163.200          3\n",
      " 429.600          3\n",
      " 11.900           3\n",
      " 8.100            3\n",
      " 4358.000         3\n",
      " 186.600          3\n",
      " 7.600            3\n",
      " 2333.000         3\n",
      " 408.200          2\n",
      " 564.677          2\n",
      " 3753.000         2\n",
      " 2097.000         2\n",
      "-6.902            2\n",
      " 15.353           2\n",
      " 198.300          2\n",
      " 7.100            2\n",
      " 0.805            1\n",
      " 7.286            1\n",
      " 0.779            1\n",
      " 14.099           1\n",
      " 560.719          1\n",
      " 560.003          1\n",
      " 24.463           1\n",
      "-7.332            1\n",
      " 7.000            1\n",
      " 215.100          1\n",
      " 438.600          1\n",
      " 9.000            1\n",
      " 2658.000         1\n",
      "Name: count, dtype: int64\n",
      "---------- oiadps ----------\n",
      "47785\n",
      "oiadps\n",
      " 0.000      1827\n",
      " 1.000        81\n",
      " 2.000        58\n",
      "-2.000        56\n",
      " 10.000       54\n",
      "            ... \n",
      " 66.832        1\n",
      "-84.766        1\n",
      " 139.089       1\n",
      "-5.697         1\n",
      "-3.879         1\n",
      "Name: count, Length: 47785, dtype: int64\n",
      "---------- oibdps ----------\n",
      "47910\n",
      "oibdps\n",
      " 0.000        1721\n",
      " 1.000          65\n",
      " 2.000          50\n",
      " 13.000         48\n",
      " 11.000         48\n",
      "              ... \n",
      "-1355.367        1\n",
      "-859.783         1\n",
      " 3204.427        1\n",
      " 30389.383       1\n",
      "-115.457         1\n",
      "Name: count, Length: 47910, dtype: int64\n",
      "---------- ops ----------\n",
      "47907\n",
      "ops\n",
      " 0.000      1826\n",
      " 1.000        79\n",
      " 2.000        57\n",
      "-2.000        56\n",
      "-1.000        56\n",
      "            ... \n",
      "-84.766        1\n",
      " 164.608       1\n",
      " 167.318       1\n",
      "-14.928        1\n",
      "-719.716       1\n",
      "Name: count, Length: 47907, dtype: int64\n",
      "---------- ppents ----------\n",
      "25376\n",
      "ppents\n",
      "0.000     4098\n",
      "0.001       57\n",
      "2.000       50\n",
      "1.000       47\n",
      "0.009       46\n",
      "          ... \n",
      "3.544        1\n",
      "11.435       1\n",
      "22.004       1\n",
      "92.681       1\n",
      "17.422       1\n",
      "Name: count, Length: 25376, dtype: int64\n",
      "---------- ptis ----------\n",
      "31984\n",
      "ptis\n",
      " 0.000      836\n",
      "-1.000       25\n",
      " 34.000      25\n",
      " 2.000       22\n",
      " 168.000     21\n",
      "           ... \n",
      "-12.315       1\n",
      "-94.723       1\n",
      " 49.581       1\n",
      " 114.995      1\n",
      " 38.710       1\n",
      "Name: count, Length: 31984, dtype: int64\n",
      "---------- revts ----------\n",
      "93393\n",
      "revts\n",
      "0.000      28397\n",
      "2.000         98\n",
      "1.000         86\n",
      "3.000         82\n",
      "7.000         72\n",
      "           ...  \n",
      "126.067        1\n",
      "41.738         1\n",
      "740.322        1\n",
      "847.920        1\n",
      "91.192         1\n",
      "Name: count, Length: 93393, dtype: int64\n",
      "---------- sales ----------\n",
      "93994\n",
      "sales\n",
      "0.000      26293\n",
      "1.000         97\n",
      "2.000         84\n",
      "3.000         82\n",
      "0.001         75\n",
      "           ...  \n",
      "564.144        1\n",
      "186.065        1\n",
      "235.825        1\n",
      "460.800        1\n",
      "625.250        1\n",
      "Name: count, Length: 93994, dtype: int64\n",
      "---------- spis ----------\n",
      "15154\n",
      "spis\n",
      " 0.000     24469\n",
      "-1.000       470\n",
      "-2.000       325\n",
      "-3.000       304\n",
      "-5.000       298\n",
      "           ...  \n",
      "-22.383        1\n",
      "-14.711        1\n",
      " 0.267         1\n",
      "-29.620        1\n",
      " 1.231         1\n",
      "Name: count, Length: 15154, dtype: int64\n",
      "---------- txts ----------\n",
      "15964\n",
      "txts\n",
      " 0.000     17008\n",
      " 0.001       286\n",
      " 0.002       235\n",
      " 0.004       152\n",
      " 1.000       119\n",
      "           ...  \n",
      " 3.458         1\n",
      " 1.677         1\n",
      " 48.111        1\n",
      " 25.869        1\n",
      "-4.158         1\n",
      "Name: count, Length: 15964, dtype: int64\n",
      "---------- txws ----------\n",
      "261\n",
      "txws\n",
      "0.000        301676\n",
      "768.300          12\n",
      "952.000          12\n",
      "386.000          12\n",
      "740.800          12\n",
      "              ...  \n",
      "746.071           1\n",
      "8135.662          1\n",
      "48907.000         1\n",
      "3806.046          1\n",
      "2065.050          1\n",
      "Name: count, Length: 261, dtype: int64\n",
      "---------- xints ----------\n",
      "15835\n",
      "xints\n",
      "0.000     12063\n",
      "0.001       240\n",
      "0.002       214\n",
      "1.000       174\n",
      "0.004       128\n",
      "          ...  \n",
      "0.143         1\n",
      "28.663        1\n",
      "30.792        1\n",
      "9.365         1\n",
      "36.447        1\n",
      "Name: count, Length: 15835, dtype: int64\n",
      "---------- xsgas ----------\n",
      "24779\n",
      "xsgas\n",
      "0.000      2262\n",
      "23.000       47\n",
      "2.000        43\n",
      "24.000       40\n",
      "27.000       39\n",
      "           ... \n",
      "190.961       1\n",
      "2.383         1\n",
      "16.968        1\n",
      "368.700       1\n",
      "7.984         1\n",
      "Name: count, Length: 24779, dtype: int64\n",
      "---------- srcdate ----------\n",
      "70\n",
      "srcdate\n",
      "2022-12-31    50443\n",
      "2023-12-31    49607\n",
      "2021-12-31    49129\n",
      "2020-12-31    48160\n",
      "2019-12-31    33510\n",
      "              ...  \n",
      "2018-08-31      241\n",
      "2019-02-28      225\n",
      "2018-11-30      146\n",
      "2018-07-31      142\n",
      "2024-02-29      140\n",
      "Name: count, Length: 70, dtype: int64\n",
      "---------- upds ----------\n",
      "2\n",
      "upds\n",
      "3    315526\n",
      "2        52\n",
      "Name: count, dtype: int64\n",
      "---------- geotp ----------\n",
      "2\n",
      "geotp\n",
      "3.0    107347\n",
      "2.0     59467\n",
      "Name: count, dtype: int64\n",
      "---------- snms ----------\n",
      "12016\n",
      "snms\n",
      "United States                 39820\n",
      "Other                          9488\n",
      "Corporate                      7683\n",
      "Europe                         6673\n",
      "Canada                         5750\n",
      "                              ...  \n",
      "Non-segment                       1\n",
      "PRC teaching&mgmt services        1\n",
      "Zinc                              1\n",
      "Resistors and Inductors           1\n",
      "Direct-Store-Delivery             1\n",
      "Name: count, Length: 12016, dtype: int64\n",
      "---------- soptp1 ----------\n",
      "5\n",
      "soptp1\n",
      "PD_SRVC    138331\n",
      "GEO         87233\n",
      "MARKET      67898\n",
      "OPER        11221\n",
      "DIV           963\n",
      "Name: count, dtype: int64\n",
      "---------- conm ----------\n",
      "6706\n",
      "conm\n",
      "ARCELORMITTAL                 612\n",
      "LIBERTY GLOBAL LTD            585\n",
      "LIBERTY LATIN AMERICA LTD     522\n",
      "GLOBANT SA                    461\n",
      "DMC GLOBAL INC                439\n",
      "                             ... \n",
      "ZURA BIO LIMITED                1\n",
      "AERWINS TECHNOLOGIES INC        1\n",
      "MOBILE INFRASTRUCTURE CORP      1\n",
      "NKGEN BIOTECH INC               1\n",
      "SAGIMET BIOSCIENCES INC         1\n",
      "Name: count, Length: 6706, dtype: int64\n",
      "---------- cik ----------\n",
      "6511\n",
      "cik\n",
      "1243429.0    612\n",
      "1570585.0    585\n",
      "1712184.0    522\n",
      "1557860.0    461\n",
      "34067.0      439\n",
      "            ... \n",
      "1873093.0      1\n",
      "1974640.0      1\n",
      "1936224.0      1\n",
      "1891856.0      1\n",
      "1966494.0      1\n",
      "Name: count, Length: 6511, dtype: int64\n",
      "---------- naics ----------\n",
      "772\n",
      "naics\n",
      "522110    16677\n",
      "325414    12686\n",
      "518210     9493\n",
      "334413     9439\n",
      "325412     6607\n",
      "          ...  \n",
      "322291        2\n",
      "541940        2\n",
      "488310        1\n",
      "99999         1\n",
      "4831          1\n",
      "Name: count, Length: 772, dtype: int64\n",
      "---------- gsubind ----------\n",
      "177\n",
      "gsubind\n",
      "40101015.0    13619\n",
      "35201010.0    12661\n",
      "45103010.0    11107\n",
      "35101010.0     8713\n",
      "20106020.0     8196\n",
      "              ...  \n",
      "60101050.0       26\n",
      "20304020.0       18\n",
      "25503010.0        5\n",
      "25503020.0        4\n",
      "60102040.0        2\n",
      "Name: count, Length: 177, dtype: int64\n"
     ]
    }
   ],
   "source": [
    "for column in link_df.columns:\n",
    "    print(\"-\" * 10, column, \"-\" * 10)\n",
    "    print(link_df[column].nunique())\n",
    "    print(link_df[column].value_counts())"
   ]
  },
  {
   "cell_type": "markdown",
   "metadata": {
    "id": "SGvNnNMIbvFY"
   },
   "source": [
    "# Review revts: total revenue\n",
    "This item represents the gross income received from all divisions of the company in an industry segment"
   ]
  },
  {
   "cell_type": "markdown",
   "metadata": {
    "id": "lcU5uaHuh7Gx"
   },
   "source": [
    "## B1. Check abnormal values\n"
   ]
  },
  {
   "cell_type": "code",
   "execution_count": 15,
   "metadata": {
    "executionInfo": {
     "elapsed": 326,
     "status": "ok",
     "timestamp": 1718854308859,
     "user": {
      "displayName": "Rachel Gao",
      "userId": "10756354987170970544"
     },
     "user_tz": 420
    },
    "id": "HdWFHQUCb_Dj"
   },
   "outputs": [
    {
     "name": "stdout",
     "output_type": "stream",
     "text": [
      "---------- revts ----------\n",
      "93393\n",
      "revts\n",
      "0.000      28397\n",
      "2.000         98\n",
      "1.000         86\n",
      "3.000         82\n",
      "7.000         72\n",
      "           ...  \n",
      "126.067        1\n",
      "41.738         1\n",
      "740.322        1\n",
      "847.920        1\n",
      "91.192         1\n",
      "Name: count, Length: 93393, dtype: int64\n"
     ]
    }
   ],
   "source": [
    "column = \"revts\"\n",
    "\n",
    "print(\"-\" * 10, column, \"-\" * 10)\n",
    "print(link_df[column].nunique())\n",
    "print(link_df[column].value_counts())"
   ]
  },
  {
   "cell_type": "code",
   "execution_count": 16,
   "metadata": {
    "id": "Yq7oiRWhiAZb"
   },
   "outputs": [
    {
     "data": {
      "text/plain": [
       "count    304078.000000\n",
       "mean       2345.641960\n",
       "std       11783.229417\n",
       "min      -54607.000000\n",
       "25%          17.905000\n",
       "50%         188.193500\n",
       "75%        1033.800000\n",
       "max      508685.000000\n",
       "Name: revts, dtype: float64"
      ]
     },
     "execution_count": 16,
     "metadata": {},
     "output_type": "execute_result"
    }
   ],
   "source": [
    "link_df[\"revts\"].describe()"
   ]
  },
  {
   "cell_type": "code",
   "execution_count": 17,
   "metadata": {
    "executionInfo": {
     "elapsed": 10099,
     "status": "ok",
     "timestamp": 1718854318957,
     "user": {
      "displayName": "Rachel Gao",
      "userId": "10756354987170970544"
     },
     "user_tz": 420
    },
    "id": "_qnNY_p4b1B1"
   },
   "outputs": [
    {
     "name": "stdout",
     "output_type": "stream",
     "text": [
      "Number of negative revts values: 3100\n",
      "\n",
      "Sample of negative revts values:\n",
      "        LPERMNO    srcdate     revts\n",
      "19007     76708 2018-06-30    -2.592\n",
      "263167    13196 2018-06-30    -1.263\n",
      "5524      44644 2018-06-30  -619.200\n",
      "301174    84603 2018-06-30    -1.520\n",
      "301167    84603 2018-06-30 -2086.748\n",
      "Percentage of rows with negative 'revts' values: 0.98%\n"
     ]
    }
   ],
   "source": [
    "negative_revts = link_df[link_df[\"revts\"] < 0]\n",
    "negative_percentage = (link_df[\"revts\"] < 0).mean() * 100\n",
    "print(f\"Number of negative revts values: {len(negative_revts)}\")\n",
    "print(\"\\nSample of negative revts values:\")\n",
    "print(negative_revts[[\"LPERMNO\", \"srcdate\", \"revts\"]].head())\n",
    "print(f\"Percentage of rows with negative 'revts' values: {negative_percentage:.2f}%\")"
   ]
  },
  {
   "cell_type": "markdown",
   "metadata": {},
   "source": [
    "## B2. Remove negative values - less than 1% of DF"
   ]
  },
  {
   "cell_type": "code",
   "execution_count": 18,
   "metadata": {},
   "outputs": [],
   "source": [
    "# Remove negative values\n",
    "link_df = link_df[link_df[\"revts\"] >= 0]"
   ]
  },
  {
   "cell_type": "markdown",
   "metadata": {},
   "source": [
    "# Take another look at nulls"
   ]
  },
  {
   "cell_type": "code",
   "execution_count": 19,
   "metadata": {},
   "outputs": [
    {
     "data": {
      "image/png": "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",
      "text/plain": [
       "<Figure size 1200x400 with 1 Axes>"
      ]
     },
     "metadata": {},
     "output_type": "display_data"
    }
   ],
   "source": [
    "# Count the number of nulls in each column\n",
    "null_counts = link_df.isnull().sum()\n",
    "\n",
    "# Calculate the percentage of nulls in each column\n",
    "total_rows = len(link_df)\n",
    "null_percentages = (null_counts / total_rows) * 100\n",
    "null_percentages = null_percentages.sort_values(ascending=False)\n",
    "\n",
    "# Plot the percentages as a bar plot\n",
    "null_percentages.plot(kind=\"bar\", figsize=(12, 4), color=\"skyblue\")\n",
    "plt.title(\"Percentage of Null Values in Each Column\")\n",
    "plt.xlabel(\"Columns\")\n",
    "plt.ylabel(\"Percentage of Nulls (%)\")\n",
    "plt.show()"
   ]
  },
  {
   "cell_type": "code",
   "execution_count": 20,
   "metadata": {},
   "outputs": [
    {
     "data": {
      "text/plain": [
       "ibs        75.220780\n",
       "xsgas      75.035052\n",
       "xints      74.058901\n",
       "txts       73.037564\n",
       "caxts      72.818279\n",
       "nis        72.616603\n",
       "ppents     71.976357\n",
       "ptis       70.109775\n",
       "spis       69.539966\n",
       "emps       65.815109\n",
       "cogss      63.810976\n",
       "capxs      55.055187\n",
       "oibdps     53.288612\n",
       "ops        52.513473\n",
       "dps        52.493870\n",
       "oiadps     52.480248\n",
       "ias        48.449056\n",
       "geotp      48.148702\n",
       "esubs      39.404209\n",
       "ivaeqs     37.070151\n",
       "intseg      5.105024\n",
       "soptp1      2.880277\n",
       "oelim       0.513659\n",
       "txws        0.486414\n",
       "cik         0.464818\n",
       "gsubind     0.103330\n",
       "sales       0.000332\n",
       "LIID        0.000000\n",
       "LINKDT      0.000000\n",
       "LPERMNO     0.000000\n",
       "sid         0.000000\n",
       "stype       0.000000\n",
       "srcdate     0.000000\n",
       "revts       0.000000\n",
       "snms        0.000000\n",
       "upds        0.000000\n",
       "conm        0.000000\n",
       "naics       0.000000\n",
       "dtype: float64"
      ]
     },
     "execution_count": 20,
     "metadata": {},
     "output_type": "execute_result"
    }
   ],
   "source": [
    "null_percentages"
   ]
  },
  {
   "cell_type": "markdown",
   "metadata": {
    "id": "fFZPxMwrjHZ7"
   },
   "source": [
    "# Review soptp1 - operating segment type\n",
    "\n",
    "Dataset is organized by segement\n"
   ]
  },
  {
   "cell_type": "markdown",
   "metadata": {
    "id": "XLrcEFXgjxCj"
   },
   "source": [
    "## C1. Fill soptp1 na with Unknown\n"
   ]
  },
  {
   "cell_type": "code",
   "execution_count": 21,
   "metadata": {},
   "outputs": [
    {
     "name": "stdout",
     "output_type": "stream",
     "text": [
      "Percentage of null values in soptp1 column: 2.88%\n"
     ]
    }
   ],
   "source": [
    "# Check the percentage of nulls in the sales column\n",
    "null_percentage = (link_df[\"soptp1\"].isnull().sum() / len(link_df)) * 100\n",
    "print(f\"Percentage of null values in soptp1 column: {null_percentage:.2f}%\")"
   ]
  },
  {
   "cell_type": "code",
   "execution_count": 22,
   "metadata": {},
   "outputs": [],
   "source": [
    "link_df[\"soptp1\"] = link_df[\"soptp1\"].fillna(\"UNKNOWN\")"
   ]
  },
  {
   "cell_type": "markdown",
   "metadata": {
    "id": "HlMv0onVlb8S"
   },
   "source": [
    "# Review identifier codes: cik\n",
    "\n",
    "Generic column - identifier"
   ]
  },
  {
   "cell_type": "markdown",
   "metadata": {
    "id": "R9RnNahRmD8C"
   },
   "source": [
    "## D1. Fill cik with \"NO_CIK\"\n"
   ]
  },
  {
   "cell_type": "code",
   "execution_count": 23,
   "metadata": {
    "executionInfo": {
     "elapsed": 235,
     "status": "ok",
     "timestamp": 1718854321046,
     "user": {
      "displayName": "Rachel Gao",
      "userId": "10756354987170970544"
     },
     "user_tz": 420
    },
    "id": "KOWndA_4mD8C"
   },
   "outputs": [
    {
     "name": "stdout",
     "output_type": "stream",
     "text": [
      "Percentage of null values in CIK column: 0.46%\n"
     ]
    }
   ],
   "source": [
    "# Check the percentage of nulls in the CIK column\n",
    "null_percentage = (link_df[\"cik\"].isnull().sum() / len(link_df)) * 100\n",
    "print(f\"Percentage of null values in CIK column: {null_percentage:.2f}%\")"
   ]
  },
  {
   "cell_type": "code",
   "execution_count": 24,
   "metadata": {},
   "outputs": [],
   "source": [
    "# Fill with a placeholder value\n",
    "link_df[\"cik\"] = link_df[\"cik\"].fillna(\"NO_CIK\")"
   ]
  },
  {
   "cell_type": "code",
   "execution_count": 25,
   "metadata": {},
   "outputs": [
    {
     "name": "stdout",
     "output_type": "stream",
     "text": [
      "Percentage of null values in CIK column: 0.00%\n"
     ]
    }
   ],
   "source": [
    "# Check the percentage of nulls in the CIK column\n",
    "null_percentage = (link_df[\"cik\"].isnull().sum() / len(link_df)) * 100\n",
    "print(f\"Percentage of null values in CIK column: {null_percentage:.2f}%\")"
   ]
  },
  {
   "cell_type": "markdown",
   "metadata": {},
   "source": [
    "# Try to identify categorical columns systematically"
   ]
  },
  {
   "cell_type": "code",
   "execution_count": 26,
   "metadata": {},
   "outputs": [
    {
     "name": "stdout",
     "output_type": "stream",
     "text": [
      "Potential categorical columns: ['upds', 'geotp']\n"
     ]
    }
   ],
   "source": [
    "# Identify potential categorical columns\n",
    "def identify_potential_categorical(df, threshold=10):\n",
    "    potential_categorical = []\n",
    "    for col in df.columns:\n",
    "        if df[col].dtype in [\"int64\", \"float64\"]:\n",
    "            unique_values = df[col].nunique()\n",
    "            if unique_values <= threshold:\n",
    "                potential_categorical.append(col)\n",
    "    return potential_categorical\n",
    "\n",
    "\n",
    "potential_categorical = identify_potential_categorical(link_df)\n",
    "print(\"Potential categorical columns:\", potential_categorical)"
   ]
  },
  {
   "cell_type": "code",
   "execution_count": 27,
   "metadata": {},
   "outputs": [
    {
     "name": "stdout",
     "output_type": "stream",
     "text": [
      "---------- geotp ----------\n",
      "2\n",
      "geotp\n",
      "3.0    101495\n",
      "2.0     54566\n",
      "Name: count, dtype: int64\n"
     ]
    }
   ],
   "source": [
    "column = \"geotp\"\n",
    "\n",
    "print(\"-\" * 10, column, \"-\" * 10)\n",
    "print(link_df[column].nunique())\n",
    "print(link_df[column].value_counts())"
   ]
  },
  {
   "cell_type": "code",
   "execution_count": 28,
   "metadata": {},
   "outputs": [
    {
     "name": "stdout",
     "output_type": "stream",
     "text": [
      "Percentage of null values in geotp column: 48.15%\n"
     ]
    }
   ],
   "source": [
    "# Check the percentage of nulls in the geotp column\n",
    "null_percentage = (link_df[\"geotp\"].isnull().sum() / len(link_df)) * 100\n",
    "print(f\"Percentage of null values in geotp column: {null_percentage:.2f}%\")"
   ]
  },
  {
   "cell_type": "markdown",
   "metadata": {
    "id": "jQV033grnoPx"
   },
   "source": [
    "# Review geotp - Geographic Segment Type\n"
   ]
  },
  {
   "cell_type": "markdown",
   "metadata": {
    "id": "tViC-J39noPx"
   },
   "source": [
    "## E1. geotp - change codes to readable"
   ]
  },
  {
   "cell_type": "code",
   "execution_count": 29,
   "metadata": {},
   "outputs": [
    {
     "name": "stdout",
     "output_type": "stream",
     "text": [
      "geotp\n",
      "UNKNOWN         144917\n",
      "NON-DOMESTIC    101495\n",
      "DOMESTIC         54566\n",
      "Name: count, dtype: int64\n"
     ]
    }
   ],
   "source": [
    "# Create a mapping dictionary for geotp\n",
    "geotp_mapping = {2.0: \"DOMESTIC\", 3.0: \"NON-DOMESTIC\", np.nan: \"UNKNOWN\"}\n",
    "\n",
    "# Apply the mapping to the geotp column\n",
    "link_df[\"geotp\"] = link_df[\"geotp\"].map(geotp_mapping).fillna(\"UNKNOWN\")\n",
    "\n",
    "# Check the unique values in the geotp column to verify the changes\n",
    "print(link_df[\"geotp\"].value_counts(dropna=False))"
   ]
  },
  {
   "cell_type": "code",
   "execution_count": 30,
   "metadata": {},
   "outputs": [
    {
     "name": "stdout",
     "output_type": "stream",
     "text": [
      "Percentage of null values in geotp column: 0.00%\n"
     ]
    }
   ],
   "source": [
    "# Check the percentage of nulls in the geotp column\n",
    "null_percentage = (link_df[\"geotp\"].isnull().sum() / len(link_df)) * 100\n",
    "print(f\"Percentage of null values in geotp column: {null_percentage:.2f}%\")"
   ]
  },
  {
   "cell_type": "markdown",
   "metadata": {
    "id": "-ymMf2NPJs21"
   },
   "source": [
    "# Take another look at the null analysis\n"
   ]
  },
  {
   "cell_type": "code",
   "execution_count": 31,
   "metadata": {
    "colab": {
     "base_uri": "https://localhost:8080/",
     "height": 493
    },
    "executionInfo": {
     "elapsed": 1313,
     "status": "ok",
     "timestamp": 1718854324107,
     "user": {
      "displayName": "Rachel Gao",
      "userId": "10756354987170970544"
     },
     "user_tz": 420
    },
    "id": "qKAJQ25mJs3A",
    "outputId": "466e3566-09a6-427a-a1df-61b98a37abb7"
   },
   "outputs": [
    {
     "data": {
      "image/png": "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",
      "text/plain": [
       "<Figure size 1200x400 with 1 Axes>"
      ]
     },
     "metadata": {},
     "output_type": "display_data"
    }
   ],
   "source": [
    "# Count the number of nulls in each column\n",
    "null_counts = link_df.isnull().sum()\n",
    "\n",
    "# Calculate the percentage of nulls in each column\n",
    "total_rows = len(link_df)\n",
    "null_percentages = (null_counts / total_rows) * 100\n",
    "null_percentages = null_percentages.sort_values(ascending=False)\n",
    "\n",
    "# Plot the percentages as a bar plot\n",
    "ax = null_percentages.plot(kind=\"bar\", figsize=(12, 4), color=\"skyblue\")\n",
    "plt.title(\"Percentage of Null Values in Each Column\")\n",
    "plt.xlabel(\"Columns\")\n",
    "plt.ylim(0, max(null_percentages.values) + 10)\n",
    "plt.ylabel(\"Percentage of Nulls (%)\")\n",
    "\n",
    "# Annotate the bars with the percentage values\n",
    "for i, percentage in enumerate(null_percentages):\n",
    "    if percentage != 0:\n",
    "        ax.annotate(\n",
    "            f\"{percentage:.0f}%\",\n",
    "            xy=(i, percentage),\n",
    "            xytext=(0, 3),\n",
    "            textcoords=\"offset points\",\n",
    "            ha=\"center\",\n",
    "            va=\"bottom\",\n",
    "            color=\"red\",\n",
    "        )\n",
    "\n",
    "plt.show()"
   ]
  },
  {
   "cell_type": "code",
   "execution_count": 32,
   "metadata": {},
   "outputs": [
    {
     "data": {
      "text/plain": [
       "ibs        75.220780\n",
       "xsgas      75.035052\n",
       "xints      74.058901\n",
       "txts       73.037564\n",
       "caxts      72.818279\n",
       "nis        72.616603\n",
       "ppents     71.976357\n",
       "ptis       70.109775\n",
       "spis       69.539966\n",
       "emps       65.815109\n",
       "cogss      63.810976\n",
       "capxs      55.055187\n",
       "oibdps     53.288612\n",
       "ops        52.513473\n",
       "dps        52.493870\n",
       "oiadps     52.480248\n",
       "ias        48.449056\n",
       "esubs      39.404209\n",
       "ivaeqs     37.070151\n",
       "intseg      5.105024\n",
       "oelim       0.513659\n",
       "txws        0.486414\n",
       "gsubind     0.103330\n",
       "sales       0.000332\n",
       "sid         0.000000\n",
       "LPERMNO     0.000000\n",
       "LIID        0.000000\n",
       "stype       0.000000\n",
       "LINKDT      0.000000\n",
       "revts       0.000000\n",
       "srcdate     0.000000\n",
       "upds        0.000000\n",
       "snms        0.000000\n",
       "geotp       0.000000\n",
       "soptp1      0.000000\n",
       "conm        0.000000\n",
       "cik         0.000000\n",
       "naics       0.000000\n",
       "dtype: float64"
      ]
     },
     "execution_count": 32,
     "metadata": {},
     "output_type": "execute_result"
    }
   ],
   "source": [
    "null_percentages"
   ]
  },
  {
   "cell_type": "markdown",
   "metadata": {
    "id": "YdaRMD0LLcA7"
   },
   "source": [
    "# Review naics: North American Industry Classification System Code\n",
    "\n",
    "North American Industry Classification System Code (NAICS) is an 6-character code used to group companies with similar products or services.\n",
    "\n",
    "NAICS is a hierachical code, containing up to six digits: The first two fields, NAICS sectors, designate general categories of economic activity, the third field, sub-sector, further defines the sector, the fourth field is the industry group, the fifth field is the NAICS industry, and the sixth field represents the national industry (a zero in the 6th digit generally indicates that the NAICS industry and teh country industry are the same).\n"
   ]
  },
  {
   "cell_type": "markdown",
   "metadata": {
    "id": "i0UhjNHQMjDu"
   },
   "source": [
    "## F1. Fill naics na with 999999 as \"Unknown\"\n"
   ]
  },
  {
   "cell_type": "code",
   "execution_count": 33,
   "metadata": {
    "executionInfo": {
     "elapsed": 2,
     "status": "ok",
     "timestamp": 1718854324107,
     "user": {
      "displayName": "Rachel Gao",
      "userId": "10756354987170970544"
     },
     "user_tz": 420
    },
    "id": "dX8B4fcNNGXd"
   },
   "outputs": [],
   "source": [
    "link_df[\"naics\"] = link_df[\"naics\"].fillna(\"999999\")"
   ]
  },
  {
   "cell_type": "markdown",
   "metadata": {
    "id": "WAtBKPuQNSib"
   },
   "source": [
    "## F2. Split naics to two columns ['NAICS_Sector', 'NAICS_Secondary']\n"
   ]
  },
  {
   "cell_type": "code",
   "execution_count": 34,
   "metadata": {
    "executionInfo": {
     "elapsed": 2172,
     "status": "ok",
     "timestamp": 1718854326277,
     "user": {
      "displayName": "Rachel Gao",
      "userId": "10756354987170970544"
     },
     "user_tz": 420
    },
    "id": "R_Xr5i9zOqqo"
   },
   "outputs": [],
   "source": [
    "link_df[\"NAICS_Sector\"] = link_df[\"naics\"].astype(str).str[:2]\n",
    "link_df[\"NAICS_Secondary\"] = link_df[\"naics\"].astype(str).str[2:]"
   ]
  },
  {
   "cell_type": "code",
   "execution_count": 35,
   "metadata": {
    "colab": {
     "base_uri": "https://localhost:8080/"
    },
    "executionInfo": {
     "elapsed": 868,
     "status": "ok",
     "timestamp": 1718854327143,
     "user": {
      "displayName": "Rachel Gao",
      "userId": "10756354987170970544"
     },
     "user_tz": 420
    },
    "id": "2UVdb4TcNSic",
    "outputId": "53c81e29-e05d-4fad-dd47-2eaec26b8f8f"
   },
   "outputs": [
    {
     "name": "stdout",
     "output_type": "stream",
     "text": [
      "---------- NAICS_Sector ----------\n",
      "23\n",
      "NAICS_Sector\n",
      "33    78334\n",
      "32    40870\n",
      "52    39190\n",
      "51    33198\n",
      "21    16955\n",
      "53    14117\n",
      "31    11022\n",
      "54     9766\n",
      "42     8165\n",
      "48     7234\n",
      "22     6828\n",
      "56     6022\n",
      "45     5274\n",
      "23     5030\n",
      "72     4383\n",
      "62     3301\n",
      "44     3230\n",
      "61     2343\n",
      "99     1862\n",
      "71     1836\n",
      "11      974\n",
      "81      558\n",
      "49      486\n",
      "Name: count, dtype: int64\n",
      "---------- NAICS_Secondary ----------\n",
      "512\n",
      "NAICS_Secondary\n",
      "2110    17026\n",
      "5414    12298\n",
      "8210     9696\n",
      "1120     8593\n",
      "4413     8467\n",
      "        ...  \n",
      "35          3\n",
      "1419        3\n",
      "229         3\n",
      "1940        2\n",
      "999         1\n",
      "Name: count, Length: 512, dtype: int64\n"
     ]
    }
   ],
   "source": [
    "for column in [\"NAICS_Sector\", \"NAICS_Secondary\"]:\n",
    "    print(\"-\" * 10, column, \"-\" * 10)\n",
    "    print(link_df[column].nunique())\n",
    "    print(link_df[column].value_counts())"
   ]
  },
  {
   "cell_type": "markdown",
   "metadata": {
    "id": "oszoTeXHQGLp"
   },
   "source": [
    "## F3. Clean-up the NAICS sector column to readable format\n",
    "\n",
    "https://www.census.gov/naics/reference_files_tools/2022_NAICS_Manual.pdf\n"
   ]
  },
  {
   "cell_type": "code",
   "execution_count": 36,
   "metadata": {
    "executionInfo": {
     "elapsed": 3296,
     "status": "ok",
     "timestamp": 1718854330437,
     "user": {
      "displayName": "Rachel Gao",
      "userId": "10756354987170970544"
     },
     "user_tz": 420
    },
    "id": "Ctye7VYCQLjj"
   },
   "outputs": [],
   "source": [
    "sector_dict = {\n",
    "    \"10\": \"Metal Mining\",\n",
    "    \"11\": \"Agriculture, Forestry, Fishing and Hunting\",\n",
    "    \"21\": \"Mining, Quarrying, and Oil and Gas Extraction\",\n",
    "    \"22\": \"Utilities\",\n",
    "    \"23\": \"Construction\",\n",
    "    \"31\": \"Manufacturing\",\n",
    "    \"32\": \"Manufacturing\",\n",
    "    \"33\": \"Manufacturing\",\n",
    "    \"42\": \"Wholesale Trade\",\n",
    "    \"44\": \"Retail Trade\",\n",
    "    \"45\": \"Retail Trade\",\n",
    "    \"48\": \"Transportation and Warehousing\",\n",
    "    \"49\": \"Transportation and Warehousing\",\n",
    "    \"51\": \"Information\",\n",
    "    \"52\": \"Finance and Insurance\",\n",
    "    \"53\": \"Real Estate and Rental and Leasing\",\n",
    "    \"54\": \"Professional, Scientific, and Technical Services\",\n",
    "    \"55\": \"Management of Companies and Enterprises\",\n",
    "    \"56\": \"Administrative and Support and Waste Management and Remediation Services\",\n",
    "    \"61\": \"Educational Services\",\n",
    "    \"62\": \"Health Care and Social Assistance\",\n",
    "    \"67\": \"Holding And Other Investment Offices\",\n",
    "    \"71\": \"Arts, Entertainment, and Recreation\",\n",
    "    \"72\": \"Accommodation and Food Services\",\n",
    "    \"73\": \"Business Services\",\n",
    "    \"81\": \"Other Services (except Public Administration)\",\n",
    "    \"92\": \"Public Administration\",\n",
    "    \"99\": \"Unknown\",\n",
    "}\n",
    "\n",
    "link_df[\"NAICS_Sector_Name\"] = link_df[\"NAICS_Sector\"].replace(sector_dict)"
   ]
  },
  {
   "cell_type": "code",
   "execution_count": 37,
   "metadata": {
    "colab": {
     "base_uri": "https://localhost:8080/"
    },
    "executionInfo": {
     "elapsed": 4,
     "status": "ok",
     "timestamp": 1718854330437,
     "user": {
      "displayName": "Rachel Gao",
      "userId": "10756354987170970544"
     },
     "user_tz": 420
    },
    "id": "ah-Od3UHRAPs",
    "outputId": "6665976e-4d0d-4f5f-a900-874b6c7aad5e"
   },
   "outputs": [
    {
     "name": "stdout",
     "output_type": "stream",
     "text": [
      "NAICS_Sector_Name\n",
      "Manufacturing                                                               130226\n",
      "Finance and Insurance                                                        39190\n",
      "Information                                                                  33198\n",
      "Mining, Quarrying, and Oil and Gas Extraction                                16955\n",
      "Real Estate and Rental and Leasing                                           14117\n",
      "Professional, Scientific, and Technical Services                              9766\n",
      "Retail Trade                                                                  8504\n",
      "Wholesale Trade                                                               8165\n",
      "Transportation and Warehousing                                                7720\n",
      "Utilities                                                                     6828\n",
      "Administrative and Support and Waste Management and Remediation Services      6022\n",
      "Construction                                                                  5030\n",
      "Accommodation and Food Services                                               4383\n",
      "Health Care and Social Assistance                                             3301\n",
      "Educational Services                                                          2343\n",
      "Unknown                                                                       1862\n",
      "Arts, Entertainment, and Recreation                                           1836\n",
      "Agriculture, Forestry, Fishing and Hunting                                     974\n",
      "Other Services (except Public Administration)                                  558\n",
      "Name: count, dtype: int64\n"
     ]
    }
   ],
   "source": [
    "print(link_df[\"NAICS_Sector_Name\"].value_counts())"
   ]
  },
  {
   "cell_type": "code",
   "execution_count": 38,
   "metadata": {
    "colab": {
     "base_uri": "https://localhost:8080/",
     "height": 547
    },
    "executionInfo": {
     "elapsed": 2560,
     "status": "ok",
     "timestamp": 1718854332995,
     "user": {
      "displayName": "Rachel Gao",
      "userId": "10756354987170970544"
     },
     "user_tz": 420
    },
    "id": "XVZi0gC0ThzM",
    "outputId": "644d6f12-aa39-4ed6-b526-2b32e73e41ae"
   },
   "outputs": [
    {
     "data": {
      "image/png": "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",
      "text/plain": [
       "<Figure size 1000x600 with 1 Axes>"
      ]
     },
     "metadata": {},
     "output_type": "display_data"
    }
   ],
   "source": [
    "# Calculate the category counts and sort them in descending order\n",
    "category_counts = link_df[\"NAICS_Sector_Name\"].value_counts().sort_values(ascending=False)\n",
    "\n",
    "# Plot the counts distribution\n",
    "plt.figure(figsize=(10, 6))\n",
    "sns.countplot(data=link_df, y=\"NAICS_Sector_Name\", order=category_counts.index)\n",
    "plt.title(\"Distribution of NAICS_Sector_Name\")\n",
    "plt.xlabel(\"Number of Records\")\n",
    "plt.ylabel(\"NAICS_Sector_Name\")\n",
    "\n",
    "# Annotate the bars with the count values\n",
    "for i, count in enumerate(category_counts):\n",
    "    plt.text(count, i, f\"{count}\", ha=\"left\", va=\"center\", color=\"black\")\n",
    "\n",
    "plt.show()"
   ]
  },
  {
   "cell_type": "markdown",
   "metadata": {},
   "source": [
    "# Review upds - Update codes"
   ]
  },
  {
   "cell_type": "markdown",
   "metadata": {},
   "source": [
    "## G1. change codes to readable format\n",
    "\n",
    "This item contains the code that identifies the updated status of data for the period for the industry segment. It consists of one of the following one-character numeric codes\n",
    "\n",
    "Update Code 2 on annual updates indicates:\n",
    "\n",
    "- Company has suspended trading and only partial financial data is available\n",
    "- Red Herring filings\n",
    "- Company is undergoing accounting review and they may issue only newswire information for successive periods until the accounts are in order\n",
    "- Source is a newswire and/or incomplete financials information\n",
    "\n",
    "Update Code 3 on annual updates indicates:\n",
    "\n",
    "- 10K and/or an annual report is used for an update and historically no additional data is obtained from other sources.\n",
    "- A year has been updated with a preliminary source and there is an indication that the final source will not be available (for example, when a company is de-listed from the exchange and stops filing 10Ks.)\n",
    "- Preliminary updates will be finalized six months after the fiscal year end for U.S. companies (nine months after the fiscal year end for ADR companies), even if additional sources are not received.\n",
    "- An update is being done six months after the company's fiscal year end for domestic American companies (nine months for ADR companies) even though additional data is historically obtained from a source not available in the current year."
   ]
  },
  {
   "cell_type": "code",
   "execution_count": 39,
   "metadata": {},
   "outputs": [
    {
     "name": "stdout",
     "output_type": "stream",
     "text": [
      "---------- upds ----------\n",
      "2\n",
      "upds\n",
      "3    300933\n",
      "2        45\n",
      "Name: count, dtype: int64\n"
     ]
    }
   ],
   "source": [
    "column = \"upds\"\n",
    "\n",
    "print(\"-\" * 10, column, \"-\" * 10)\n",
    "print(link_df[column].nunique())\n",
    "print(link_df[column].value_counts())"
   ]
  },
  {
   "cell_type": "code",
   "execution_count": 40,
   "metadata": {},
   "outputs": [
    {
     "name": "stdout",
     "output_type": "stream",
     "text": [
      "Percentage of null values in upds column: 0.00%\n"
     ]
    }
   ],
   "source": [
    "# Check the percentage of nulls in the upds column\n",
    "null_percentage = (link_df[\"upds\"].isnull().sum() / len(link_df)) * 100\n",
    "print(f\"Percentage of null values in upds column: {null_percentage:.2f}%\")"
   ]
  },
  {
   "cell_type": "code",
   "execution_count": 41,
   "metadata": {},
   "outputs": [
    {
     "name": "stdout",
     "output_type": "stream",
     "text": [
      "upds\n",
      "FINAL_DATA           300933\n",
      "PRE-LIMINARY_DATA        45\n",
      "Name: count, dtype: int64\n"
     ]
    }
   ],
   "source": [
    "# Create a mapping dictionary for upds\n",
    "upds_mapping = {3: \"FINAL_DATA\", 2: \"PRE-LIMINARY_DATA\", np.nan: \"UNKNOWN\"}\n",
    "\n",
    "# Apply the mapping to the upds column\n",
    "link_df[\"upds\"] = link_df[\"upds\"].map(upds_mapping).fillna(\"UNKNOWN\")\n",
    "\n",
    "# Check the unique values in the upds column to verify the changes\n",
    "print(link_df[\"upds\"].value_counts(dropna=False))"
   ]
  },
  {
   "cell_type": "markdown",
   "metadata": {},
   "source": [
    "## G2. Only keep rows with reliable data"
   ]
  },
  {
   "cell_type": "code",
   "execution_count": 42,
   "metadata": {},
   "outputs": [
    {
     "name": "stdout",
     "output_type": "stream",
     "text": [
      "num_records_removed:  45\n",
      "num_records_kept:  300933\n"
     ]
    }
   ],
   "source": [
    "og_len = len(link_df)\n",
    "link_df = link_df[link_df[\"upds\"] == \"FINAL_DATA\"].reset_index(drop=True)\n",
    "new_len = len(link_df)\n",
    "print(\"num_records_removed: \", og_len - new_len)\n",
    "print(\"num_records_kept: \", new_len)"
   ]
  },
  {
   "cell_type": "markdown",
   "metadata": {
    "id": "hmiat75eXFY4"
   },
   "source": [
    "# Review all remaining value related columns.\n"
   ]
  },
  {
   "cell_type": "markdown",
   "metadata": {},
   "source": [
    "## H1. Drop all LPERMNO with less than 128 days of return"
   ]
  },
  {
   "cell_type": "code",
   "execution_count": 43,
   "metadata": {},
   "outputs": [
    {
     "name": "stdout",
     "output_type": "stream",
     "text": [
      "num_PERMNO_og:  6647\n",
      "num_PERMNO_removed:  6246\n",
      "num_PERMNO_kept:  401\n"
     ]
    }
   ],
   "source": [
    "og_permno = link_df[\"LPERMNO\"].nunique()\n",
    "permno_counts = link_df[\"LPERMNO\"].value_counts()\n",
    "permno_to_keep = permno_counts[permno_counts >= 128].index\n",
    "link_df = link_df[link_df[\"LPERMNO\"].isin(permno_to_keep)].reset_index(drop=True)\n",
    "\n",
    "assert link_df[\"LPERMNO\"].value_counts().min() >= 128\n",
    "\n",
    "new_permno = link_df[\"LPERMNO\"].nunique()\n",
    "print(\"num_PERMNO_og: \", og_permno)\n",
    "print(\"num_PERMNO_removed: \", og_permno - new_permno)\n",
    "print(\"num_PERMNO_kept: \", new_permno)"
   ]
  },
  {
   "cell_type": "markdown",
   "metadata": {},
   "source": [
    "## H2. Forward fill prep"
   ]
  },
  {
   "cell_type": "markdown",
   "metadata": {},
   "source": [
    "### Check to see if negative values should be there"
   ]
  },
  {
   "cell_type": "code",
   "execution_count": 44,
   "metadata": {},
   "outputs": [
    {
     "name": "stdout",
     "output_type": "stream",
     "text": [
      "Checking columns that can have negative values:\n",
      "ibs: 767 negative values (30.45%)\n",
      "xsgas: 149 negative values (2.05%)\n",
      "xints: 172 negative values (3.12%)\n",
      "txts: 907 negative values (18.48%)\n",
      "nis: 1386 negative values (31.39%)\n",
      "ptis: 1686 negative values (27.33%)\n",
      "oibdps: 4974 negative values (21.91%)\n",
      "ops: 6360 negative values (27.01%)\n",
      "oiadps: 6385 negative values (27.06%)\n",
      "oelim: 0 negative values (0.00%)\n",
      "spis: 7304 negative values (77.74%)\n",
      "\n",
      "Checking columns that should not have negative values:\n",
      "Warning: caxts has 208 negative values (3.16%)\n",
      "Warning: ppents has 50 negative values (0.49%)\n",
      "emps: No negative values (as expected)\n",
      "Warning: cogss has 367 negative values (3.05%)\n",
      "Warning: capxs has 182 negative values (0.80%)\n",
      "Warning: dps has 121 negative values (0.49%)\n",
      "Warning: ias has 523 negative values (2.14%)\n",
      "Warning: esubs has 1427 negative values (4.65%)\n",
      "Warning: ivaeqs has 93 negative values (0.32%)\n",
      "Warning: intseg has 195 negative values (0.31%)\n",
      "txws: No negative values (as expected)\n",
      "gsubind: No negative values (as expected)\n",
      "Warning: sales has 880 negative values (1.27%)\n"
     ]
    }
   ],
   "source": [
    "# Columns that can potentially have negative values\n",
    "can_be_negative = [\n",
    "    \"ibs\",\n",
    "    \"xsgas\",\n",
    "    \"xints\",\n",
    "    \"txts\",\n",
    "    \"nis\",\n",
    "    \"ptis\",\n",
    "    \"oibdps\",\n",
    "    \"ops\",\n",
    "    \"oiadps\",\n",
    "    \"oelim\",\n",
    "    \"spis\",\n",
    "]\n",
    "\n",
    "# Columns that should not have negative values\n",
    "should_be_positive = [\n",
    "    \"caxts\",\n",
    "    \"ppents\",\n",
    "    \"emps\",\n",
    "    \"cogss\",\n",
    "    \"capxs\",\n",
    "    \"dps\",\n",
    "    \"ias\",\n",
    "    \"esubs\",\n",
    "    \"ivaeqs\",\n",
    "    \"intseg\",\n",
    "    \"txws\",\n",
    "    \"gsubind\",\n",
    "    \"sales\",\n",
    "]\n",
    "\n",
    "\n",
    "def check_negatives(df, column_list, expected_negative=True):\n",
    "    for col in column_list:\n",
    "        if col in df.columns:\n",
    "            neg_count = (df[col] < 0).sum()\n",
    "            neg_percentage = (neg_count / df[col].count()) * 100\n",
    "            if expected_negative:\n",
    "                print(f\"{col}: {neg_count} negative values ({neg_percentage:.2f}%)\")\n",
    "            else:\n",
    "                if neg_count > 0:\n",
    "                    print(f\"Warning: {col} has {neg_count} negative values ({neg_percentage:.2f}%)\")\n",
    "                else:\n",
    "                    print(f\"{col}: No negative values (as expected)\")\n",
    "        else:\n",
    "            print(f\"{col} not found in the dataframe\")\n",
    "\n",
    "\n",
    "print(\"Checking columns that can have negative values:\")\n",
    "check_negatives(link_df, can_be_negative)\n",
    "\n",
    "print(\"\\nChecking columns that should not have negative values:\")\n",
    "check_negatives(link_df, should_be_positive, expected_negative=False)"
   ]
  },
  {
   "cell_type": "code",
   "execution_count": 45,
   "metadata": {},
   "outputs": [
    {
     "name": "stdout",
     "output_type": "stream",
     "text": [
      "Replaced negative values with zero in caxts\n",
      "Replaced negative values with zero in ppents\n",
      "Replaced negative values with zero in cogss\n",
      "Replaced negative values with zero in capxs\n",
      "Replaced negative values with zero in dps\n",
      "Replaced negative values with zero in ias\n",
      "Column esubs has 2.06% negative values. Further investigation recommended.\n",
      "Replaced negative values with zero in ivaeqs\n",
      "Replaced negative values with zero in intseg\n",
      "Replaced negative values with zero in txws\n",
      "Column sales has 1.27% negative values. Further investigation recommended.\n"
     ]
    }
   ],
   "source": [
    "# Columns to check and potentially modify\n",
    "columns_to_check = [\"caxts\", \"ppents\", \"cogss\", \"capxs\", \"dps\", \"ias\", \"esubs\", \"ivaeqs\", \"intseg\", \"txws\", \"sales\"]\n",
    "\n",
    "for col in columns_to_check:\n",
    "    # Replace negative values with zero for columns with less than 1% negative values\n",
    "    neg_percentage = (link_df[col] < 0).mean() * 100\n",
    "    if neg_percentage < 1:\n",
    "        link_df[col] = link_df[col].clip(lower=0)\n",
    "        print(f\"Replaced negative values with zero in {col}\")\n",
    "    else:\n",
    "        print(f\"Column {col} has {neg_percentage:.2f}% negative values. Further investigation recommended.\")"
   ]
  },
  {
   "cell_type": "code",
   "execution_count": 46,
   "metadata": {},
   "outputs": [
    {
     "data": {
      "text/plain": [
       "LIID                                                 90\n",
       "LPERMNO                                           81127\n",
       "LINKDT                              1994-12-20 00:00:00\n",
       "stype                                             OPSEG\n",
       "sid                                                   5\n",
       "capxs                                               NaN\n",
       "caxts                                            32.128\n",
       "cogss                                            21.534\n",
       "dps                                                 NaN\n",
       "emps                                              812.0\n",
       "esubs                                               0.0\n",
       "ias                                               5.936\n",
       "ibs                                                 NaN\n",
       "intseg                                              0.0\n",
       "ivaeqs                                              0.0\n",
       "nis                                                 NaN\n",
       "oelim                                               0.0\n",
       "oiadps                                            0.863\n",
       "oibdps                                            1.449\n",
       "ops                                               0.863\n",
       "ppents                                              NaN\n",
       "ptis                                                NaN\n",
       "revts                                            33.577\n",
       "sales                                            33.577\n",
       "spis                                                NaN\n",
       "txts                                                NaN\n",
       "txws                                                0.0\n",
       "xints                                               NaN\n",
       "xsgas                                            10.594\n",
       "srcdate                             2018-06-30 00:00:00\n",
       "upds                                         FINAL_DATA\n",
       "geotp                                          DOMESTIC\n",
       "snms                                 Argentina - Hotels\n",
       "soptp1                                             OPER\n",
       "conm                       IRSA INVERSIONES Y REPRESENT\n",
       "cik                                            933267.0\n",
       "naics                                            531120\n",
       "gsubind                                      60201020.0\n",
       "NAICS_Sector                                         53\n",
       "NAICS_Secondary                                    1120\n",
       "NAICS_Sector_Name    Real Estate and Rental and Leasing\n",
       "Name: 0, dtype: object"
      ]
     },
     "execution_count": 46,
     "metadata": {},
     "output_type": "execute_result"
    }
   ],
   "source": [
    "# pick an example for visual inspection\n",
    "review_idx = link_df[link_df[\"txts\"].isnull()].index[0]\n",
    "link_df[link_df[\"txts\"].isnull()].iloc[0]"
   ]
  },
  {
   "cell_type": "markdown",
   "metadata": {},
   "source": [
    "## Second drop of columns that have too many nulls"
   ]
  },
  {
   "cell_type": "code",
   "execution_count": 47,
   "metadata": {},
   "outputs": [
    {
     "data": {
      "text/plain": [
       "ibs                  96.361194\n",
       "nis                  93.622338\n",
       "txts                 92.908734\n",
       "xints                92.030451\n",
       "ptis                 91.088608\n",
       "caxts                90.494901\n",
       "xsgas                89.498165\n",
       "spis                 86.427065\n",
       "ppents               85.313322\n",
       "cogss                82.627914\n",
       "emps                 82.549909\n",
       "capxs                67.210297\n",
       "oibdps               67.203074\n",
       "ops                  65.989657\n",
       "oiadps               65.911652\n",
       "ias                  64.647676\n",
       "dps                  64.313986\n",
       "ivaeqs               58.014330\n",
       "esubs                55.645278\n",
       "intseg                8.616705\n",
       "txws                  0.781498\n",
       "oelim                 0.033225\n",
       "gsubind               0.001445\n",
       "LIID                  0.000000\n",
       "sid                   0.000000\n",
       "LPERMNO               0.000000\n",
       "LINKDT                0.000000\n",
       "stype                 0.000000\n",
       "revts                 0.000000\n",
       "sales                 0.000000\n",
       "srcdate               0.000000\n",
       "geotp                 0.000000\n",
       "upds                  0.000000\n",
       "snms                  0.000000\n",
       "soptp1                0.000000\n",
       "cik                   0.000000\n",
       "conm                  0.000000\n",
       "naics                 0.000000\n",
       "NAICS_Sector          0.000000\n",
       "NAICS_Secondary       0.000000\n",
       "NAICS_Sector_Name     0.000000\n",
       "dtype: float64"
      ]
     },
     "execution_count": 47,
     "metadata": {},
     "output_type": "execute_result"
    }
   ],
   "source": [
    "# Count the number of nulls in each column\n",
    "null_counts = link_df.isnull().sum()\n",
    "\n",
    "# Calculate the percentage of nulls in each column\n",
    "total_rows = len(link_df)\n",
    "null_percentages = (null_counts / total_rows) * 100\n",
    "null_percentages = null_percentages.sort_values(ascending=False)\n",
    "null_percentages"
   ]
  },
  {
   "cell_type": "code",
   "execution_count": 48,
   "metadata": {},
   "outputs": [
    {
     "name": "stdout",
     "output_type": "stream",
     "text": [
      "num_columns_removed:  11\n",
      "num_columns_kept: 30\n"
     ]
    }
   ],
   "source": [
    "og_cols = len(link_df.columns)\n",
    "columns_to_drop = null_percentages[null_percentages > 80].index\n",
    "link_df = link_df.drop(columns=columns_to_drop)\n",
    "new_cols = len(link_df.columns)\n",
    "print(\"num_columns_removed: \", og_cols - new_cols)\n",
    "print(\"num_columns_kept:\", new_cols)"
   ]
  },
  {
   "cell_type": "markdown",
   "metadata": {},
   "source": [
    "## H3. Forward fill"
   ]
  },
  {
   "cell_type": "code",
   "execution_count": 51,
   "metadata": {},
   "outputs": [
    {
     "name": "stdout",
     "output_type": "stream",
     "text": [
      "oibdps: 12913 nulls remaining out of 69226 rows (18.65%)\n",
      "ops: 11890 nulls remaining out of 69226 rows (17.18%)\n",
      "oiadps: 11856 nulls remaining out of 69226 rows (17.13%)\n",
      "oelim: 0 nulls remaining out of 69226 rows (0.00%)\n",
      "capxs: 15886 nulls remaining out of 69226 rows (22.95%)\n",
      "dps: 11707 nulls remaining out of 69226 rows (16.91%)\n",
      "ias: 16549 nulls remaining out of 69226 rows (23.91%)\n",
      "esubs: 22405 nulls remaining out of 69226 rows (32.37%)\n",
      "ivaeqs: 25787 nulls remaining out of 69226 rows (37.25%)\n",
      "intseg: 788 nulls remaining out of 69226 rows (1.14%)\n",
      "txws: 178 nulls remaining out of 69226 rows (0.26%)\n",
      "gsubind: 1 nulls remaining out of 69226 rows (0.00%)\n",
      "sales: 0 nulls remaining out of 69226 rows (0.00%)\n"
     ]
    }
   ],
   "source": [
    "# Ensure 'LPERMNO' is numeric\n",
    "link_df[\"LPERMNO\"] = pd.to_numeric(link_df[\"LPERMNO\"], errors=\"coerce\")\n",
    "\n",
    "# Sort again\n",
    "link_df = link_df.sort_values([\"LPERMNO\", \"srcdate\"])\n",
    "\n",
    "fill_cols = [\n",
<<<<<<< HEAD
    "    # 'ibs', 'nis', 'txts', 'xsgas', 'ptis', 'caxts', 'spis', 'ppents', 'cogss', 'emps', 'xints',\n",
    "    'oibdps', 'ops', 'oiadps','oelim',\n",
    "    'capxs', 'dps', 'ias','esubs', 'ivaeqs', \n",
    "    'intseg', 'txws', 'gsubind', 'sales',\n",
=======
    "    \"ibs\",\n",
    "    \"xsgas\",\n",
    "    \"xints\",\n",
    "    \"txts\",\n",
    "    \"nis\",\n",
    "    \"ptis\",\n",
    "    \"oibdps\",\n",
    "    \"ops\",\n",
    "    \"oiadps\",\n",
    "    \"oelim\",\n",
    "    \"caxts\",\n",
    "    \"ppents\",\n",
    "    \"spis\",\n",
    "    \"emps\",\n",
    "    \"cogss\",\n",
    "    \"capxs\",\n",
    "    \"dps\",\n",
    "    \"ias\",\n",
    "    \"esubs\",\n",
    "    \"ivaeqs\",\n",
    "    \"intseg\",\n",
    "    \"txws\",\n",
    "    \"gsubind\",\n",
    "    \"sales\",\n",
>>>>>>> 900fa17 (Embedding-S&P_Step_1.ipynb: add one hot encoder for person_id.)
    "]\n",
    "# Forward fill\n",
    "for col in fill_cols:\n",
    "    if col in link_df.columns:\n",
    "        link_df[col] = pd.to_numeric(link_df[col], errors=\"coerce\")\n",
    "        link_df[col] = link_df.groupby(\"LPERMNO\")[col].ffill()\n",
    "\n",
    "# Check the result\n",
    "for col in fill_cols:\n",
    "    if col in link_df.columns:\n",
    "        null_count = link_df[col].isnull().sum()\n",
    "        total_count = len(link_df)\n",
    "        print(f\"{col}: {null_count} nulls remaining out of {total_count} rows ({null_count/total_count*100:.2f}%)\")"
   ]
  },
  {
   "cell_type": "code",
   "execution_count": 52,
   "metadata": {
    "scrolled": true
   },
   "outputs": [
    {
     "name": "stdout",
     "output_type": "stream",
     "text": [
      "Number of unique LPERMNOs: 401\n",
      "               min        max\n",
      "LPERMNO                      \n",
      "10158   2018-12-31 2023-12-31\n",
      "10382   2018-12-31 2023-12-31\n",
      "10516   2018-12-31 2023-12-31\n",
      "10645   2019-01-31 2024-01-31\n",
      "11018   2018-12-31 2023-12-31\n",
      "Sample LPERMNO: 17227\n",
      "oibdps       1\n",
      "ops        135\n",
      "oiadps     135\n",
      "oelim        0\n",
      "capxs      135\n",
      "dps        135\n",
      "ias        135\n",
      "esubs      135\n",
      "ivaeqs     135\n",
      "intseg       0\n",
      "txws         0\n",
      "gsubind      0\n",
      "sales        0\n",
      "dtype: int64\n",
      "oibdps     0.007407\n",
      "ops        1.000000\n",
      "oiadps     1.000000\n",
      "oelim      0.000000\n",
      "capxs      1.000000\n",
      "dps        1.000000\n",
      "ias        1.000000\n",
      "esubs      1.000000\n",
      "ivaeqs     1.000000\n",
      "intseg     0.000000\n",
      "txws       0.000000\n",
      "gsubind    0.000000\n",
      "sales      0.000000\n",
      "dtype: float64\n",
      "Number of gaps larger than a year: 412\n",
      "       LPERMNO    srcdate date_diff\n",
      "22737    10158 2020-12-31  366 days\n",
      "24770    10382 2020-12-31  366 days\n",
      "17540    10516 2020-12-31  366 days\n",
      "27741    10645 2021-01-31  366 days\n",
      "24953    11018 2020-12-31  366 days\n",
      "Sample LPERMNO: 12345\n",
      "Nulls before ffill: 0\n",
      "Nulls after ffill: 0\n"
     ]
    }
   ],
   "source": [
    "print(f\"Number of unique LPERMNOs: {link_df['LPERMNO'].nunique()}\")\n",
<<<<<<< HEAD
    "print(link_df.groupby('LPERMNO')['srcdate'].agg(['min', 'max']).head())\n",
    "\n",
    "sample_lpermno = link_df['LPERMNO'].sample(1).iloc[0]\n",
    "print(f\"Sample LPERMNO: {sample_lpermno}\")\n",
    "\n",
    "print(link_df[link_df['LPERMNO'] == sample_lpermno][fill_cols].isnull().sum())\n",
    "print(link_df[link_df['LPERMNO'] == sample_lpermno][fill_cols].isnull().mean())\n",
    "\n",
    "link_df['date_diff'] = link_df.groupby('LPERMNO')['srcdate'].diff()\n",
    "large_gaps = link_df[link_df['date_diff'] > pd.Timedelta(days=365)]\n",
    "\n",
    "print(f\"Number of gaps larger than a year: {len(large_gaps)}\")\n",
    "print(large_gaps[['LPERMNO', 'srcdate', 'date_diff']].head())\n",
    "\n",
=======
    "print(link_df.groupby(\"LPERMNO\")[\"srcdate\"].agg([\"min\", \"max\"]).head())\n",
    "sample_lpermno = link_df[\"LPERMNO\"].sample(1).iloc[0]\n",
    "print(f\"Sample LPERMNO: {sample_lpermno}\")\n",
    "print(link_df[link_df[\"LPERMNO\"] == sample_lpermno][fill_cols].isnull().sum())\n",
    "print(link_df[link_df[\"LPERMNO\"] == sample_lpermno][fill_cols].isnull().mean())\n",
    "link_df[\"date_diff\"] = link_df.groupby(\"LPERMNO\")[\"srcdate\"].diff()\n",
    "large_gaps = link_df[link_df[\"date_diff\"] > pd.Timedelta(days=365)]\n",
    "print(f\"Number of gaps larger than a year: {len(large_gaps)}\")\n",
    "print(large_gaps[[\"LPERMNO\", \"srcdate\", \"date_diff\"]].head())\n",
>>>>>>> 900fa17 (Embedding-S&P_Step_1.ipynb: add one hot encoder for person_id.)
    "# Choose a column with a moderate number of nulls\n",
    "sample_col = \"oibdps\"\n",
    "\n",
    "# Get the null counts before and after forward fill for a sample LPERMNO\n",
    "sample_lpermno = link_df[\"LPERMNO\"].sample(1).iloc[0]\n",
    "before_ffill = link_df[link_df[\"LPERMNO\"] == sample_lpermno][sample_col].isnull().sum()\n",
    "\n",
    "temp_series = link_df[link_df[\"LPERMNO\"] == sample_lpermno][sample_col].ffill()\n",
    "after_ffill = temp_series.isnull().sum()\n",
    "\n",
    "print(f\"Sample LPERMNO: {sample_lpermno}\")\n",
    "print(f\"Nulls before ffill: {before_ffill}\")\n",
    "print(f\"Nulls after ffill: {after_ffill}\")"
   ]
  },
  {
   "cell_type": "markdown",
   "metadata": {},
   "source": [
    "## H4. Retry Forward fill with some extra stipulations"
   ]
  },
  {
   "cell_type": "code",
   "execution_count": 56,
   "metadata": {},
   "outputs": [
    {
     "name": "stdout",
     "output_type": "stream",
     "text": [
      "Index(['LIID', 'LPERMNO', 'LINKDT', 'stype', 'sid', 'capxs', 'dps', 'esubs',\n",
      "       'ias', 'intseg', 'ivaeqs', 'oelim', 'oiadps', 'oibdps', 'ops', 'revts',\n",
      "       'sales', 'txws', 'srcdate', 'upds', 'geotp', 'snms', 'soptp1', 'conm',\n",
      "       'cik', 'naics', 'gsubind', 'NAICS_Sector', 'NAICS_Secondary',\n",
      "       'NAICS_Sector_Name', 'date_diff'],\n",
      "      dtype='object')\n",
      "[None]\n"
     ]
    }
   ],
   "source": [
    "print(link_df.columns)\n",
    "print(link_df.index.names)"
   ]
  },
  {
   "cell_type": "code",
   "execution_count": 63,
   "metadata": {},
   "outputs": [
    {
     "name": "stdout",
     "output_type": "stream",
     "text": [
      "LIID                           int64\n",
      "LPERMNO                        int64\n",
      "LINKDT                datetime64[ns]\n",
      "stype                         object\n",
      "sid                            int64\n",
      "capxs                        float64\n",
      "dps                          float64\n",
      "esubs                        float64\n",
      "ias                          float64\n",
      "intseg                       float64\n",
      "ivaeqs                       float64\n",
      "oelim                        float64\n",
      "oiadps                       float64\n",
      "oibdps                       float64\n",
      "ops                          float64\n",
      "revts                        float64\n",
      "sales                        float64\n",
      "txws                         float64\n",
      "srcdate               datetime64[ns]\n",
      "upds                          object\n",
      "geotp                         object\n",
      "snms                          object\n",
      "soptp1                        object\n",
      "conm                          object\n",
      "cik                           object\n",
      "naics                          int64\n",
      "gsubind                      float64\n",
      "NAICS_Sector                  object\n",
      "NAICS_Secondary               object\n",
      "NAICS_Sector_Name             object\n",
      "date_diff            timedelta64[ns]\n",
      "dtype: object\n",
      "0\n",
      "2018-06-30 00:00:00\n",
      "2024-03-31 00:00:00\n"
     ]
    }
   ],
   "source": [
    "print(link_df.dtypes)\n",
    "# Check for any NaT (Not a Time) values in srcdate\n",
    "print(link_df['srcdate'].isna().sum())\n",
    "\n",
    "# Check the range of dates\n",
    "print(link_df['srcdate'].min())\n",
    "print(link_df['srcdate'].max())"
   ]
  },
  {
   "cell_type": "code",
   "execution_count": 64,
   "metadata": {},
   "outputs": [
    {
     "name": "stdout",
     "output_type": "stream",
     "text": [
      "Resampling failed with error: cannot insert LPERMNO, already exists\n"
     ]
    },
    {
     "ename": "ValueError",
     "evalue": "'LPERMNO' is both an index level and a column label, which is ambiguous.",
     "output_type": "error",
     "traceback": [
      "\u001b[0;31m---------------------------------------------------------------------------\u001b[0m",
      "\u001b[0;31mValueError\u001b[0m                                Traceback (most recent call last)",
      "\u001b[0;32m/tmp/ipykernel_1858/2197756698.py\u001b[0m in \u001b[0;36m?\u001b[0;34m()\u001b[0m\n\u001b[1;32m     14\u001b[0m \u001b[0;31m# If resampling is successful, proceed with forward fill\u001b[0m\u001b[0;34m\u001b[0m\u001b[0;34m\u001b[0m\u001b[0m\n\u001b[1;32m     15\u001b[0m \u001b[0;32mif\u001b[0m \u001b[0;34m'link_df_annual'\u001b[0m \u001b[0;32min\u001b[0m \u001b[0mlocals\u001b[0m\u001b[0;34m(\u001b[0m\u001b[0;34m)\u001b[0m\u001b[0;34m:\u001b[0m\u001b[0;34m\u001b[0m\u001b[0;34m\u001b[0m\u001b[0m\n\u001b[1;32m     16\u001b[0m     \u001b[0;32mfor\u001b[0m \u001b[0mcol\u001b[0m \u001b[0;32min\u001b[0m \u001b[0mfill_cols\u001b[0m\u001b[0;34m:\u001b[0m\u001b[0;34m\u001b[0m\u001b[0;34m\u001b[0m\u001b[0m\n\u001b[1;32m     17\u001b[0m         \u001b[0;32mif\u001b[0m \u001b[0mcol\u001b[0m \u001b[0;32min\u001b[0m \u001b[0mlink_df_annual\u001b[0m\u001b[0;34m.\u001b[0m\u001b[0mcolumns\u001b[0m\u001b[0;34m:\u001b[0m\u001b[0;34m\u001b[0m\u001b[0;34m\u001b[0m\u001b[0m\n\u001b[0;32m---> 18\u001b[0;31m             \u001b[0mlink_df_annual\u001b[0m\u001b[0;34m[\u001b[0m\u001b[0mcol\u001b[0m\u001b[0;34m]\u001b[0m \u001b[0;34m=\u001b[0m \u001b[0mlink_df_annual\u001b[0m\u001b[0;34m.\u001b[0m\u001b[0mgroupby\u001b[0m\u001b[0;34m(\u001b[0m\u001b[0;34m'LPERMNO'\u001b[0m\u001b[0;34m)\u001b[0m\u001b[0;34m[\u001b[0m\u001b[0mcol\u001b[0m\u001b[0;34m]\u001b[0m\u001b[0;34m.\u001b[0m\u001b[0mffill\u001b[0m\u001b[0;34m(\u001b[0m\u001b[0mlimit\u001b[0m\u001b[0;34m=\u001b[0m\u001b[0;36m1\u001b[0m\u001b[0;34m)\u001b[0m\u001b[0;34m\u001b[0m\u001b[0;34m\u001b[0m\u001b[0m\n\u001b[0m\u001b[1;32m     19\u001b[0m \u001b[0;34m\u001b[0m\u001b[0m\n\u001b[1;32m     20\u001b[0m     \u001b[0;31m# Check the result\u001b[0m\u001b[0;34m\u001b[0m\u001b[0;34m\u001b[0m\u001b[0m\n\u001b[1;32m     21\u001b[0m     \u001b[0;32mfor\u001b[0m \u001b[0mcol\u001b[0m \u001b[0;32min\u001b[0m \u001b[0mfill_cols\u001b[0m\u001b[0;34m:\u001b[0m\u001b[0;34m\u001b[0m\u001b[0;34m\u001b[0m\u001b[0m\n",
      "\u001b[0;32m/opt/conda/lib/python3.10/site-packages/pandas/core/frame.py\u001b[0m in \u001b[0;36m?\u001b[0;34m(self, by, axis, level, as_index, sort, group_keys, observed, dropna)\u001b[0m\n\u001b[1;32m   8865\u001b[0m \u001b[0;34m\u001b[0m\u001b[0m\n\u001b[1;32m   8866\u001b[0m         \u001b[0;32mif\u001b[0m \u001b[0mlevel\u001b[0m \u001b[0;32mis\u001b[0m \u001b[0;32mNone\u001b[0m \u001b[0;32mand\u001b[0m \u001b[0mby\u001b[0m \u001b[0;32mis\u001b[0m \u001b[0;32mNone\u001b[0m\u001b[0;34m:\u001b[0m\u001b[0;34m\u001b[0m\u001b[0;34m\u001b[0m\u001b[0m\n\u001b[1;32m   8867\u001b[0m             \u001b[0;32mraise\u001b[0m \u001b[0mTypeError\u001b[0m\u001b[0;34m(\u001b[0m\u001b[0;34m\"You have to supply one of 'by' and 'level'\"\u001b[0m\u001b[0;34m)\u001b[0m\u001b[0;34m\u001b[0m\u001b[0;34m\u001b[0m\u001b[0m\n\u001b[1;32m   8868\u001b[0m \u001b[0;34m\u001b[0m\u001b[0m\n\u001b[0;32m-> 8869\u001b[0;31m         return DataFrameGroupBy(\n\u001b[0m\u001b[1;32m   8870\u001b[0m             \u001b[0mobj\u001b[0m\u001b[0;34m=\u001b[0m\u001b[0mself\u001b[0m\u001b[0;34m,\u001b[0m\u001b[0;34m\u001b[0m\u001b[0;34m\u001b[0m\u001b[0m\n\u001b[1;32m   8871\u001b[0m             \u001b[0mkeys\u001b[0m\u001b[0;34m=\u001b[0m\u001b[0mby\u001b[0m\u001b[0;34m,\u001b[0m\u001b[0;34m\u001b[0m\u001b[0;34m\u001b[0m\u001b[0m\n\u001b[1;32m   8872\u001b[0m             \u001b[0maxis\u001b[0m\u001b[0;34m=\u001b[0m\u001b[0maxis\u001b[0m\u001b[0;34m,\u001b[0m\u001b[0;34m\u001b[0m\u001b[0;34m\u001b[0m\u001b[0m\n",
      "\u001b[0;32m/opt/conda/lib/python3.10/site-packages/pandas/core/groupby/groupby.py\u001b[0m in \u001b[0;36m?\u001b[0;34m(self, obj, keys, axis, level, grouper, exclusions, selection, as_index, sort, group_keys, observed, dropna)\u001b[0m\n\u001b[1;32m   1274\u001b[0m         \u001b[0mself\u001b[0m\u001b[0;34m.\u001b[0m\u001b[0mgroup_keys\u001b[0m \u001b[0;34m=\u001b[0m \u001b[0mgroup_keys\u001b[0m\u001b[0;34m\u001b[0m\u001b[0;34m\u001b[0m\u001b[0m\n\u001b[1;32m   1275\u001b[0m         \u001b[0mself\u001b[0m\u001b[0;34m.\u001b[0m\u001b[0mdropna\u001b[0m \u001b[0;34m=\u001b[0m \u001b[0mdropna\u001b[0m\u001b[0;34m\u001b[0m\u001b[0;34m\u001b[0m\u001b[0m\n\u001b[1;32m   1276\u001b[0m \u001b[0;34m\u001b[0m\u001b[0m\n\u001b[1;32m   1277\u001b[0m         \u001b[0;32mif\u001b[0m \u001b[0mgrouper\u001b[0m \u001b[0;32mis\u001b[0m \u001b[0;32mNone\u001b[0m\u001b[0;34m:\u001b[0m\u001b[0;34m\u001b[0m\u001b[0;34m\u001b[0m\u001b[0m\n\u001b[0;32m-> 1278\u001b[0;31m             grouper, exclusions, obj = get_grouper(\n\u001b[0m\u001b[1;32m   1279\u001b[0m                 \u001b[0mobj\u001b[0m\u001b[0;34m,\u001b[0m\u001b[0;34m\u001b[0m\u001b[0;34m\u001b[0m\u001b[0m\n\u001b[1;32m   1280\u001b[0m                 \u001b[0mkeys\u001b[0m\u001b[0;34m,\u001b[0m\u001b[0;34m\u001b[0m\u001b[0;34m\u001b[0m\u001b[0m\n\u001b[1;32m   1281\u001b[0m                 \u001b[0maxis\u001b[0m\u001b[0;34m=\u001b[0m\u001b[0maxis\u001b[0m\u001b[0;34m,\u001b[0m\u001b[0;34m\u001b[0m\u001b[0;34m\u001b[0m\u001b[0m\n",
      "\u001b[0;32m/opt/conda/lib/python3.10/site-packages/pandas/core/groupby/grouper.py\u001b[0m in \u001b[0;36m?\u001b[0;34m(obj, key, axis, level, sort, observed, validate, dropna)\u001b[0m\n\u001b[1;32m    995\u001b[0m \u001b[0;34m\u001b[0m\u001b[0m\n\u001b[1;32m    996\u001b[0m         \u001b[0;32melif\u001b[0m \u001b[0mis_in_axis\u001b[0m\u001b[0;34m(\u001b[0m\u001b[0mgpr\u001b[0m\u001b[0;34m)\u001b[0m\u001b[0;34m:\u001b[0m  \u001b[0;31m# df.groupby('name')\u001b[0m\u001b[0;34m\u001b[0m\u001b[0;34m\u001b[0m\u001b[0m\n\u001b[1;32m    997\u001b[0m             \u001b[0;32mif\u001b[0m \u001b[0mobj\u001b[0m\u001b[0;34m.\u001b[0m\u001b[0mndim\u001b[0m \u001b[0;34m!=\u001b[0m \u001b[0;36m1\u001b[0m \u001b[0;32mand\u001b[0m \u001b[0mgpr\u001b[0m \u001b[0;32min\u001b[0m \u001b[0mobj\u001b[0m\u001b[0;34m:\u001b[0m\u001b[0;34m\u001b[0m\u001b[0;34m\u001b[0m\u001b[0m\n\u001b[1;32m    998\u001b[0m                 \u001b[0;32mif\u001b[0m \u001b[0mvalidate\u001b[0m\u001b[0;34m:\u001b[0m\u001b[0;34m\u001b[0m\u001b[0;34m\u001b[0m\u001b[0m\n\u001b[0;32m--> 999\u001b[0;31m                     \u001b[0mobj\u001b[0m\u001b[0;34m.\u001b[0m\u001b[0m_check_label_or_level_ambiguity\u001b[0m\u001b[0;34m(\u001b[0m\u001b[0mgpr\u001b[0m\u001b[0;34m,\u001b[0m \u001b[0maxis\u001b[0m\u001b[0;34m=\u001b[0m\u001b[0maxis\u001b[0m\u001b[0;34m)\u001b[0m\u001b[0;34m\u001b[0m\u001b[0;34m\u001b[0m\u001b[0m\n\u001b[0m\u001b[1;32m   1000\u001b[0m                 \u001b[0min_axis\u001b[0m\u001b[0;34m,\u001b[0m \u001b[0mname\u001b[0m\u001b[0;34m,\u001b[0m \u001b[0mgpr\u001b[0m \u001b[0;34m=\u001b[0m \u001b[0;32mTrue\u001b[0m\u001b[0;34m,\u001b[0m \u001b[0mgpr\u001b[0m\u001b[0;34m,\u001b[0m \u001b[0mobj\u001b[0m\u001b[0;34m[\u001b[0m\u001b[0mgpr\u001b[0m\u001b[0;34m]\u001b[0m\u001b[0;34m\u001b[0m\u001b[0;34m\u001b[0m\u001b[0m\n\u001b[1;32m   1001\u001b[0m                 \u001b[0;32mif\u001b[0m \u001b[0mgpr\u001b[0m\u001b[0;34m.\u001b[0m\u001b[0mndim\u001b[0m \u001b[0;34m!=\u001b[0m \u001b[0;36m1\u001b[0m\u001b[0;34m:\u001b[0m\u001b[0;34m\u001b[0m\u001b[0;34m\u001b[0m\u001b[0m\n\u001b[1;32m   1002\u001b[0m                     \u001b[0;31m# non-unique columns; raise here to get the name in the\u001b[0m\u001b[0;34m\u001b[0m\u001b[0;34m\u001b[0m\u001b[0m\n",
      "\u001b[0;32m/opt/conda/lib/python3.10/site-packages/pandas/core/generic.py\u001b[0m in \u001b[0;36m?\u001b[0;34m(self, key, axis)\u001b[0m\n\u001b[1;32m   1797\u001b[0m             msg = (\n\u001b[1;32m   1798\u001b[0m                 \u001b[0;34mf\"'{key}' is both {level_article} {level_type} level and \"\u001b[0m\u001b[0;34m\u001b[0m\u001b[0;34m\u001b[0m\u001b[0m\n\u001b[1;32m   1799\u001b[0m                 \u001b[0;34mf\"{label_article} {label_type} label, which is ambiguous.\"\u001b[0m\u001b[0;34m\u001b[0m\u001b[0;34m\u001b[0m\u001b[0m\n\u001b[1;32m   1800\u001b[0m             )\n\u001b[0;32m-> 1801\u001b[0;31m             \u001b[0;32mraise\u001b[0m \u001b[0mValueError\u001b[0m\u001b[0;34m(\u001b[0m\u001b[0mmsg\u001b[0m\u001b[0;34m)\u001b[0m\u001b[0;34m\u001b[0m\u001b[0;34m\u001b[0m\u001b[0m\n\u001b[0m",
      "\u001b[0;31mValueError\u001b[0m: 'LPERMNO' is both an index level and a column label, which is ambiguous."
     ]
    }
   ],
   "source": [
    "# Now attempt the resampling\n",
    "try:\n",
    "    link_df_annual = (link_df.set_index('srcdate')\n",
    "                             .groupby('LPERMNO')\n",
    "                             .resample('Y')\n",
    "                             .last()\n",
    "                             .reset_index())\n",
    "    print(\"Resampling successful\")\n",
    "    print(link_df_annual.shape)\n",
    "    print(link_df_annual.columns)\n",
    "except Exception as e:\n",
    "    print(f\"Resampling failed with error: {str(e)}\")\n",
    "\n",
    "# If resampling is successful, proceed with forward fill\n",
    "if 'link_df_annual' in locals():\n",
    "    for col in fill_cols:\n",
    "        if col in link_df_annual.columns:\n",
    "            link_df_annual[col] = link_df_annual.groupby('LPERMNO')[col].ffill(limit=1)\n",
    "\n",
    "    # Check the result\n",
    "    for col in fill_cols:\n",
    "        if col in link_df_annual.columns:\n",
    "            null_count = link_df_annual[col].isnull().sum()\n",
    "            total_count = len(link_df_annual)\n",
    "            print(f\"{col}: {null_count} nulls remaining out of {total_count} rows ({null_count/total_count*100:.2f}%)\")"
   ]
  },
  {
   "cell_type": "code",
   "execution_count": 60,
   "metadata": {},
   "outputs": [
    {
     "ename": "ValueError",
     "evalue": "cannot insert LPERMNO, already exists",
     "output_type": "error",
     "traceback": [
      "\u001b[0;31m---------------------------------------------------------------------------\u001b[0m",
      "\u001b[0;31mValueError\u001b[0m                                Traceback (most recent call last)",
      "\u001b[0;32m/tmp/ipykernel_1858/2087146717.py\u001b[0m in \u001b[0;36m?\u001b[0;34m()\u001b[0m\n\u001b[1;32m      5\u001b[0m link_df_annual = (link_df.set_index('srcdate')\n\u001b[1;32m      6\u001b[0m                          \u001b[0;34m.\u001b[0m\u001b[0mgroupby\u001b[0m\u001b[0;34m(\u001b[0m\u001b[0;34m'LPERMNO'\u001b[0m\u001b[0;34m)\u001b[0m\u001b[0;34m\u001b[0m\u001b[0;34m\u001b[0m\u001b[0m\n\u001b[1;32m      7\u001b[0m                          \u001b[0;34m.\u001b[0m\u001b[0mresample\u001b[0m\u001b[0;34m(\u001b[0m\u001b[0;34m'Y'\u001b[0m\u001b[0;34m)\u001b[0m\u001b[0;34m\u001b[0m\u001b[0;34m\u001b[0m\u001b[0m\n\u001b[1;32m      8\u001b[0m                          \u001b[0;34m.\u001b[0m\u001b[0mlast\u001b[0m\u001b[0;34m(\u001b[0m\u001b[0;34m)\u001b[0m\u001b[0;34m\u001b[0m\u001b[0;34m\u001b[0m\u001b[0m\n\u001b[0;32m----> 9\u001b[0;31m                          .reset_index())\n\u001b[0m\u001b[1;32m     10\u001b[0m \u001b[0;34m\u001b[0m\u001b[0m\n\u001b[1;32m     11\u001b[0m \u001b[0mprint\u001b[0m\u001b[0;34m(\u001b[0m\u001b[0mlink_df_annual\u001b[0m\u001b[0;34m.\u001b[0m\u001b[0mcolumns\u001b[0m\u001b[0;34m)\u001b[0m\u001b[0;34m\u001b[0m\u001b[0;34m\u001b[0m\u001b[0m\n\u001b[1;32m     12\u001b[0m \u001b[0;34m\u001b[0m\u001b[0m\n",
      "\u001b[0;32m/opt/conda/lib/python3.10/site-packages/pandas/core/frame.py\u001b[0m in \u001b[0;36m?\u001b[0;34m(self, level, drop, inplace, col_level, col_fill, allow_duplicates, names)\u001b[0m\n\u001b[1;32m   6216\u001b[0m                     level_values = algorithms.take(\n\u001b[1;32m   6217\u001b[0m                         \u001b[0mlevel_values\u001b[0m\u001b[0;34m,\u001b[0m \u001b[0mlab\u001b[0m\u001b[0;34m,\u001b[0m \u001b[0mallow_fill\u001b[0m\u001b[0;34m=\u001b[0m\u001b[0;32mTrue\u001b[0m\u001b[0;34m,\u001b[0m \u001b[0mfill_value\u001b[0m\u001b[0;34m=\u001b[0m\u001b[0mlev\u001b[0m\u001b[0;34m.\u001b[0m\u001b[0m_na_value\u001b[0m\u001b[0;34m\u001b[0m\u001b[0;34m\u001b[0m\u001b[0m\n\u001b[1;32m   6218\u001b[0m                     )\n\u001b[1;32m   6219\u001b[0m \u001b[0;34m\u001b[0m\u001b[0m\n\u001b[0;32m-> 6220\u001b[0;31m                 new_obj.insert(\n\u001b[0m\u001b[1;32m   6221\u001b[0m                     \u001b[0;36m0\u001b[0m\u001b[0;34m,\u001b[0m\u001b[0;34m\u001b[0m\u001b[0;34m\u001b[0m\u001b[0m\n\u001b[1;32m   6222\u001b[0m                     \u001b[0mname\u001b[0m\u001b[0;34m,\u001b[0m\u001b[0;34m\u001b[0m\u001b[0;34m\u001b[0m\u001b[0m\n\u001b[1;32m   6223\u001b[0m                     \u001b[0mlevel_values\u001b[0m\u001b[0;34m,\u001b[0m\u001b[0;34m\u001b[0m\u001b[0;34m\u001b[0m\u001b[0m\n",
      "\u001b[0;32m/opt/conda/lib/python3.10/site-packages/pandas/core/frame.py\u001b[0m in \u001b[0;36m?\u001b[0;34m(self, loc, column, value, allow_duplicates)\u001b[0m\n\u001b[1;32m   4927\u001b[0m                 \u001b[0;34m\"'self.flags.allows_duplicate_labels' is False.\"\u001b[0m\u001b[0;34m\u001b[0m\u001b[0;34m\u001b[0m\u001b[0m\n\u001b[1;32m   4928\u001b[0m             )\n\u001b[1;32m   4929\u001b[0m         \u001b[0;32mif\u001b[0m \u001b[0;32mnot\u001b[0m \u001b[0mallow_duplicates\u001b[0m \u001b[0;32mand\u001b[0m \u001b[0mcolumn\u001b[0m \u001b[0;32min\u001b[0m \u001b[0mself\u001b[0m\u001b[0;34m.\u001b[0m\u001b[0mcolumns\u001b[0m\u001b[0;34m:\u001b[0m\u001b[0;34m\u001b[0m\u001b[0;34m\u001b[0m\u001b[0m\n\u001b[1;32m   4930\u001b[0m             \u001b[0;31m# Should this be a different kind of error??\u001b[0m\u001b[0;34m\u001b[0m\u001b[0;34m\u001b[0m\u001b[0m\n\u001b[0;32m-> 4931\u001b[0;31m             \u001b[0;32mraise\u001b[0m \u001b[0mValueError\u001b[0m\u001b[0;34m(\u001b[0m\u001b[0;34mf\"cannot insert {column}, already exists\"\u001b[0m\u001b[0;34m)\u001b[0m\u001b[0;34m\u001b[0m\u001b[0;34m\u001b[0m\u001b[0m\n\u001b[0m\u001b[1;32m   4932\u001b[0m         \u001b[0;32mif\u001b[0m \u001b[0;32mnot\u001b[0m \u001b[0mis_integer\u001b[0m\u001b[0;34m(\u001b[0m\u001b[0mloc\u001b[0m\u001b[0;34m)\u001b[0m\u001b[0;34m:\u001b[0m\u001b[0;34m\u001b[0m\u001b[0;34m\u001b[0m\u001b[0m\n\u001b[1;32m   4933\u001b[0m             \u001b[0;32mraise\u001b[0m \u001b[0mTypeError\u001b[0m\u001b[0;34m(\u001b[0m\u001b[0;34m\"loc must be int\"\u001b[0m\u001b[0;34m)\u001b[0m\u001b[0;34m\u001b[0m\u001b[0;34m\u001b[0m\u001b[0m\n\u001b[1;32m   4934\u001b[0m         \u001b[0;31m# convert non stdlib ints to satisfy typing checks\u001b[0m\u001b[0;34m\u001b[0m\u001b[0;34m\u001b[0m\u001b[0m\n",
      "\u001b[0;31mValueError\u001b[0m: cannot insert LPERMNO, already exists"
     ]
    }
   ],
   "source": [
    "# Ensure 'srcdate' is a datetime type\n",
    "link_df['srcdate'] = pd.to_datetime(link_df['srcdate'])\n",
    "\n",
    "# Resample to annual frequency\n",
    "link_df_annual = (link_df.set_index('srcdate')\n",
    "                         .groupby('LPERMNO')\n",
    "                         .resample('Y')\n",
    "                         .last()\n",
    "                         .reset_index())\n",
    "\n",
    "print(link_df_annual.columns)\n",
    "\n",
    "# At this point, 'LPERMNO' should be a regular column, not in the index\n",
    "print(link_df_annual.columns)\n",
    "\n",
    "# Forward fill with a limit\n",
    "for col in fill_cols:\n",
    "    if col in link_df_annual.columns:\n",
    "        link_df_annual[col] = link_df_annual.groupby('LPERMNO')[col].ffill(limit=1)  # limit to 1 year\n",
    "        \n",
    "# Check the result\n",
    "for col in fill_cols:\n",
    "    if col in link_df_annual.columns:\n",
    "        null_count = link_df_annual[col].isnull().sum()\n",
    "        total_count = len(link_df_annual)\n",
    "        print(f\"{col}: {null_count} nulls remaining out of {total_count} rows ({null_count/total_count*100:.2f}%)\")"
   ]
  },
  {
   "cell_type": "code",
   "execution_count": 50,
   "metadata": {},
   "outputs": [
    {
     "name": "stdout",
     "output_type": "stream",
     "text": [
      "confirm forward fill was complete\n"
     ]
    },
    {
     "ename": "AssertionError",
     "evalue": "",
     "output_type": "error",
     "traceback": [
      "\u001b[0;31m---------------------------------------------------------------------------\u001b[0m",
      "\u001b[0;31mAssertionError\u001b[0m                            Traceback (most recent call last)",
      "Cell \u001b[0;32mIn[50], line 3\u001b[0m\n\u001b[1;32m      1\u001b[0m \u001b[38;5;28mprint\u001b[39m(\u001b[38;5;124m\"\u001b[39m\u001b[38;5;124mconfirm forward fill was complete\u001b[39m\u001b[38;5;124m\"\u001b[39m)\n\u001b[1;32m      2\u001b[0m \u001b[38;5;28;01mfor\u001b[39;00m col \u001b[38;5;129;01min\u001b[39;00m fill_cols:\n\u001b[0;32m----> 3\u001b[0m   \u001b[38;5;28;01massert\u001b[39;00m \u001b[38;5;28mlen\u001b[39m(link_df[link_df[col]\u001b[38;5;241m.\u001b[39misnull()]) \u001b[38;5;241m==\u001b[39m \u001b[38;5;241m0\u001b[39m\n",
      "\u001b[0;31mAssertionError\u001b[0m: "
     ]
    }
   ],
   "source": [
    "print(\"confirm forward fill was complete\")\n",
    "for col in fill_cols:\n",
    "    assert len(link_df[link_df[col].isnull()]) == 0"
   ]
  },
  {
   "cell_type": "markdown",
   "metadata": {},
   "source": [
    "# Take another look at null analysis"
   ]
  },
  {
   "cell_type": "code",
   "execution_count": null,
   "metadata": {},
   "outputs": [],
   "source": [
    "# Count the number of nulls in each column\n",
    "null_counts = link_df.isnull().sum()\n",
    "\n",
    "# Calculate the percentage of nulls in each column\n",
    "total_rows = len(link_df)\n",
    "null_percentages = (null_counts / total_rows) * 100\n",
    "null_percentages = null_percentages.sort_values(ascending=False)\n",
    "\n",
    "null_percentages"
   ]
  },
  {
   "cell_type": "markdown",
   "metadata": {
    "id": "EQRmPzR1XKqK"
   },
   "source": [
    "## H4. Cast to appropriate type"
   ]
  },
  {
   "cell_type": "code",
   "execution_count": 59,
   "metadata": {
    "executionInfo": {
     "elapsed": 14,
     "status": "ok",
     "timestamp": 1718854332995,
     "user": {
      "displayName": "Rachel Gao",
      "userId": "10756354987170970544"
     },
     "user_tz": 420
    },
    "id": "u1uhhrRmXyrY"
   },
   "outputs": [],
   "source": [
    "int_cols = [\"sid\",]\n",
    "float_cols = [\n",
    "    \"revts\",\n",
<<<<<<< HEAD
    "    'oibdps',\n",
    "    'ops',\n",
    "    'oiadps',\n",
    "    'oelim',\n",
    "    'capxs',\n",
    "    'dps',\n",
    "    'ias',\n",
    "    'esubs',\n",
    "    'ivaeqs', \n",
    "    'intseg',\n",
    "    'txws',\n",
    "    'gsubind',\n",
    "    'sales',\n",
=======
>>>>>>> 900fa17 (Embedding-S&P_Step_1.ipynb: add one hot encoder for person_id.)
    "]\n",
    "str_cols = [\n",
    "    \"LPERMNO\",\n",
    "    \"cik\",\n",
    "    \"stype\",\n",
    "    \"LIID\",\n",
    "    \"soptp1\",\n",
    "    \"naics\",\n",
    "    \"upds\",\n",
    "    \"geotp\",\n",
    "    \"soptp1\",\n",
    "    \"snms\",\n",
    "    \"conm\",\n",
    "    \"cik\",\n",
    "]"
   ]
  },
  {
   "cell_type": "code",
   "execution_count": 61,
   "metadata": {
    "executionInfo": {
     "elapsed": 64417,
     "status": "ok",
     "timestamp": 1718854397398,
     "user": {
      "displayName": "Rachel Gao",
      "userId": "10756354987170970544"
     },
     "user_tz": 420
    },
    "id": "dOndgxZCYG2T"
   },
   "outputs": [
    {
     "ename": "ValueError",
     "evalue": "Columns must be same length as key",
     "output_type": "error",
     "traceback": [
      "\u001b[0;31m---------------------------------------------------------------------------\u001b[0m",
      "\u001b[0;31mValueError\u001b[0m                                Traceback (most recent call last)",
      "\u001b[0;32m/tmp/ipykernel_813/3704250191.py\u001b[0m in \u001b[0;36m?\u001b[0;34m()\u001b[0m\n\u001b[1;32m      1\u001b[0m \u001b[0mlink_df\u001b[0m\u001b[0;34m[\u001b[0m\u001b[0;34m\"sid\"\u001b[0m\u001b[0;34m]\u001b[0m \u001b[0;34m=\u001b[0m \u001b[0mlink_df\u001b[0m\u001b[0;34m[\u001b[0m\u001b[0;34m\"sid\"\u001b[0m\u001b[0;34m]\u001b[0m\u001b[0;34m.\u001b[0m\u001b[0mastype\u001b[0m\u001b[0;34m(\u001b[0m\u001b[0mint\u001b[0m\u001b[0;34m)\u001b[0m\u001b[0;34m\u001b[0m\u001b[0;34m\u001b[0m\u001b[0m\n\u001b[1;32m      2\u001b[0m \u001b[0mlink_df\u001b[0m\u001b[0;34m[\u001b[0m\u001b[0mfloat_cols\u001b[0m\u001b[0;34m]\u001b[0m \u001b[0;34m=\u001b[0m \u001b[0mlink_df\u001b[0m\u001b[0;34m[\u001b[0m\u001b[0mfloat_cols\u001b[0m\u001b[0;34m]\u001b[0m\u001b[0;34m.\u001b[0m\u001b[0mastype\u001b[0m\u001b[0;34m(\u001b[0m\u001b[0mfloat\u001b[0m\u001b[0;34m)\u001b[0m\u001b[0;34m\u001b[0m\u001b[0;34m\u001b[0m\u001b[0m\n\u001b[0;32m----> 3\u001b[0;31m \u001b[0mlink_df\u001b[0m\u001b[0;34m[\u001b[0m\u001b[0mstr_cols\u001b[0m\u001b[0;34m]\u001b[0m \u001b[0;34m=\u001b[0m \u001b[0mlink_df\u001b[0m\u001b[0;34m[\u001b[0m\u001b[0mstr_cols\u001b[0m\u001b[0;34m]\u001b[0m\u001b[0;34m.\u001b[0m\u001b[0mastype\u001b[0m\u001b[0;34m(\u001b[0m\u001b[0mstr\u001b[0m\u001b[0;34m)\u001b[0m\u001b[0;34m\u001b[0m\u001b[0;34m\u001b[0m\u001b[0m\n\u001b[0m",
      "\u001b[0;32m/opt/conda/lib/python3.10/site-packages/pandas/core/frame.py\u001b[0m in \u001b[0;36m?\u001b[0;34m(self, key, value)\u001b[0m\n\u001b[1;32m   4075\u001b[0m \u001b[0;34m\u001b[0m\u001b[0m\n\u001b[1;32m   4076\u001b[0m         \u001b[0;32mif\u001b[0m \u001b[0misinstance\u001b[0m\u001b[0;34m(\u001b[0m\u001b[0mkey\u001b[0m\u001b[0;34m,\u001b[0m \u001b[0mDataFrame\u001b[0m\u001b[0;34m)\u001b[0m \u001b[0;32mor\u001b[0m \u001b[0mgetattr\u001b[0m\u001b[0;34m(\u001b[0m\u001b[0mkey\u001b[0m\u001b[0;34m,\u001b[0m \u001b[0;34m\"ndim\"\u001b[0m\u001b[0;34m,\u001b[0m \u001b[0;32mNone\u001b[0m\u001b[0;34m)\u001b[0m \u001b[0;34m==\u001b[0m \u001b[0;36m2\u001b[0m\u001b[0;34m:\u001b[0m\u001b[0;34m\u001b[0m\u001b[0;34m\u001b[0m\u001b[0m\n\u001b[1;32m   4077\u001b[0m             \u001b[0mself\u001b[0m\u001b[0;34m.\u001b[0m\u001b[0m_setitem_frame\u001b[0m\u001b[0;34m(\u001b[0m\u001b[0mkey\u001b[0m\u001b[0;34m,\u001b[0m \u001b[0mvalue\u001b[0m\u001b[0;34m)\u001b[0m\u001b[0;34m\u001b[0m\u001b[0;34m\u001b[0m\u001b[0m\n\u001b[1;32m   4078\u001b[0m         \u001b[0;32melif\u001b[0m \u001b[0misinstance\u001b[0m\u001b[0;34m(\u001b[0m\u001b[0mkey\u001b[0m\u001b[0;34m,\u001b[0m \u001b[0;34m(\u001b[0m\u001b[0mSeries\u001b[0m\u001b[0;34m,\u001b[0m \u001b[0mnp\u001b[0m\u001b[0;34m.\u001b[0m\u001b[0mndarray\u001b[0m\u001b[0;34m,\u001b[0m \u001b[0mlist\u001b[0m\u001b[0;34m,\u001b[0m \u001b[0mIndex\u001b[0m\u001b[0;34m)\u001b[0m\u001b[0;34m)\u001b[0m\u001b[0;34m:\u001b[0m\u001b[0;34m\u001b[0m\u001b[0;34m\u001b[0m\u001b[0m\n\u001b[0;32m-> 4079\u001b[0;31m             \u001b[0mself\u001b[0m\u001b[0;34m.\u001b[0m\u001b[0m_setitem_array\u001b[0m\u001b[0;34m(\u001b[0m\u001b[0mkey\u001b[0m\u001b[0;34m,\u001b[0m \u001b[0mvalue\u001b[0m\u001b[0;34m)\u001b[0m\u001b[0;34m\u001b[0m\u001b[0;34m\u001b[0m\u001b[0m\n\u001b[0m\u001b[1;32m   4080\u001b[0m         \u001b[0;32melif\u001b[0m \u001b[0misinstance\u001b[0m\u001b[0;34m(\u001b[0m\u001b[0mvalue\u001b[0m\u001b[0;34m,\u001b[0m \u001b[0mDataFrame\u001b[0m\u001b[0;34m)\u001b[0m\u001b[0;34m:\u001b[0m\u001b[0;34m\u001b[0m\u001b[0;34m\u001b[0m\u001b[0m\n\u001b[1;32m   4081\u001b[0m             \u001b[0mself\u001b[0m\u001b[0;34m.\u001b[0m\u001b[0m_set_item_frame_value\u001b[0m\u001b[0;34m(\u001b[0m\u001b[0mkey\u001b[0m\u001b[0;34m,\u001b[0m \u001b[0mvalue\u001b[0m\u001b[0;34m)\u001b[0m\u001b[0;34m\u001b[0m\u001b[0;34m\u001b[0m\u001b[0m\n\u001b[1;32m   4082\u001b[0m         elif (\n",
      "\u001b[0;32m/opt/conda/lib/python3.10/site-packages/pandas/core/frame.py\u001b[0m in \u001b[0;36m?\u001b[0;34m(self, key, value)\u001b[0m\n\u001b[1;32m   4119\u001b[0m \u001b[0;34m\u001b[0m\u001b[0m\n\u001b[1;32m   4120\u001b[0m             \u001b[0;32mif\u001b[0m \u001b[0misinstance\u001b[0m\u001b[0;34m(\u001b[0m\u001b[0mvalue\u001b[0m\u001b[0;34m,\u001b[0m \u001b[0mDataFrame\u001b[0m\u001b[0;34m)\u001b[0m\u001b[0;34m:\u001b[0m\u001b[0;34m\u001b[0m\u001b[0;34m\u001b[0m\u001b[0m\n\u001b[1;32m   4121\u001b[0m                 \u001b[0mcheck_key_length\u001b[0m\u001b[0;34m(\u001b[0m\u001b[0mself\u001b[0m\u001b[0;34m.\u001b[0m\u001b[0mcolumns\u001b[0m\u001b[0;34m,\u001b[0m \u001b[0mkey\u001b[0m\u001b[0;34m,\u001b[0m \u001b[0mvalue\u001b[0m\u001b[0;34m)\u001b[0m\u001b[0;34m\u001b[0m\u001b[0;34m\u001b[0m\u001b[0m\n\u001b[1;32m   4122\u001b[0m                 \u001b[0;32mfor\u001b[0m \u001b[0mk1\u001b[0m\u001b[0;34m,\u001b[0m \u001b[0mk2\u001b[0m \u001b[0;32min\u001b[0m \u001b[0mzip\u001b[0m\u001b[0;34m(\u001b[0m\u001b[0mkey\u001b[0m\u001b[0;34m,\u001b[0m \u001b[0mvalue\u001b[0m\u001b[0;34m.\u001b[0m\u001b[0mcolumns\u001b[0m\u001b[0;34m)\u001b[0m\u001b[0;34m:\u001b[0m\u001b[0;34m\u001b[0m\u001b[0;34m\u001b[0m\u001b[0m\n\u001b[0;32m-> 4123\u001b[0;31m                     \u001b[0mself\u001b[0m\u001b[0;34m[\u001b[0m\u001b[0mk1\u001b[0m\u001b[0;34m]\u001b[0m \u001b[0;34m=\u001b[0m \u001b[0mvalue\u001b[0m\u001b[0;34m[\u001b[0m\u001b[0mk2\u001b[0m\u001b[0;34m]\u001b[0m\u001b[0;34m\u001b[0m\u001b[0;34m\u001b[0m\u001b[0m\n\u001b[0m\u001b[1;32m   4124\u001b[0m \u001b[0;34m\u001b[0m\u001b[0m\n\u001b[1;32m   4125\u001b[0m             \u001b[0;32melif\u001b[0m \u001b[0;32mnot\u001b[0m \u001b[0mis_list_like\u001b[0m\u001b[0;34m(\u001b[0m\u001b[0mvalue\u001b[0m\u001b[0;34m)\u001b[0m\u001b[0;34m:\u001b[0m\u001b[0;34m\u001b[0m\u001b[0;34m\u001b[0m\u001b[0m\n\u001b[1;32m   4126\u001b[0m                 \u001b[0;32mfor\u001b[0m \u001b[0mcol\u001b[0m \u001b[0;32min\u001b[0m \u001b[0mkey\u001b[0m\u001b[0;34m:\u001b[0m\u001b[0;34m\u001b[0m\u001b[0;34m\u001b[0m\u001b[0m\n",
      "\u001b[0;32m/opt/conda/lib/python3.10/site-packages/pandas/core/frame.py\u001b[0m in \u001b[0;36m?\u001b[0;34m(self, key, value)\u001b[0m\n\u001b[1;32m   4077\u001b[0m             \u001b[0mself\u001b[0m\u001b[0;34m.\u001b[0m\u001b[0m_setitem_frame\u001b[0m\u001b[0;34m(\u001b[0m\u001b[0mkey\u001b[0m\u001b[0;34m,\u001b[0m \u001b[0mvalue\u001b[0m\u001b[0;34m)\u001b[0m\u001b[0;34m\u001b[0m\u001b[0;34m\u001b[0m\u001b[0m\n\u001b[1;32m   4078\u001b[0m         \u001b[0;32melif\u001b[0m \u001b[0misinstance\u001b[0m\u001b[0;34m(\u001b[0m\u001b[0mkey\u001b[0m\u001b[0;34m,\u001b[0m \u001b[0;34m(\u001b[0m\u001b[0mSeries\u001b[0m\u001b[0;34m,\u001b[0m \u001b[0mnp\u001b[0m\u001b[0;34m.\u001b[0m\u001b[0mndarray\u001b[0m\u001b[0;34m,\u001b[0m \u001b[0mlist\u001b[0m\u001b[0;34m,\u001b[0m \u001b[0mIndex\u001b[0m\u001b[0;34m)\u001b[0m\u001b[0;34m)\u001b[0m\u001b[0;34m:\u001b[0m\u001b[0;34m\u001b[0m\u001b[0;34m\u001b[0m\u001b[0m\n\u001b[1;32m   4079\u001b[0m             \u001b[0mself\u001b[0m\u001b[0;34m.\u001b[0m\u001b[0m_setitem_array\u001b[0m\u001b[0;34m(\u001b[0m\u001b[0mkey\u001b[0m\u001b[0;34m,\u001b[0m \u001b[0mvalue\u001b[0m\u001b[0;34m)\u001b[0m\u001b[0;34m\u001b[0m\u001b[0;34m\u001b[0m\u001b[0m\n\u001b[1;32m   4080\u001b[0m         \u001b[0;32melif\u001b[0m \u001b[0misinstance\u001b[0m\u001b[0;34m(\u001b[0m\u001b[0mvalue\u001b[0m\u001b[0;34m,\u001b[0m \u001b[0mDataFrame\u001b[0m\u001b[0;34m)\u001b[0m\u001b[0;34m:\u001b[0m\u001b[0;34m\u001b[0m\u001b[0;34m\u001b[0m\u001b[0m\n\u001b[0;32m-> 4081\u001b[0;31m             \u001b[0mself\u001b[0m\u001b[0;34m.\u001b[0m\u001b[0m_set_item_frame_value\u001b[0m\u001b[0;34m(\u001b[0m\u001b[0mkey\u001b[0m\u001b[0;34m,\u001b[0m \u001b[0mvalue\u001b[0m\u001b[0;34m)\u001b[0m\u001b[0;34m\u001b[0m\u001b[0;34m\u001b[0m\u001b[0m\n\u001b[0m\u001b[1;32m   4082\u001b[0m         elif (\n\u001b[1;32m   4083\u001b[0m             \u001b[0mis_list_like\u001b[0m\u001b[0;34m(\u001b[0m\u001b[0mvalue\u001b[0m\u001b[0;34m)\u001b[0m\u001b[0;34m\u001b[0m\u001b[0;34m\u001b[0m\u001b[0m\n\u001b[1;32m   4084\u001b[0m             \u001b[0;32mand\u001b[0m \u001b[0;32mnot\u001b[0m \u001b[0mself\u001b[0m\u001b[0;34m.\u001b[0m\u001b[0mcolumns\u001b[0m\u001b[0;34m.\u001b[0m\u001b[0mis_unique\u001b[0m\u001b[0;34m\u001b[0m\u001b[0;34m\u001b[0m\u001b[0m\n",
      "\u001b[0;32m/opt/conda/lib/python3.10/site-packages/pandas/core/frame.py\u001b[0m in \u001b[0;36m?\u001b[0;34m(self, key, value)\u001b[0m\n\u001b[1;32m   4205\u001b[0m             \u001b[0mloc\u001b[0m \u001b[0;34m=\u001b[0m \u001b[0mself\u001b[0m\u001b[0;34m.\u001b[0m\u001b[0mcolumns\u001b[0m\u001b[0;34m.\u001b[0m\u001b[0mget_loc\u001b[0m\u001b[0;34m(\u001b[0m\u001b[0mkey\u001b[0m\u001b[0;34m)\u001b[0m\u001b[0;34m\u001b[0m\u001b[0;34m\u001b[0m\u001b[0m\n\u001b[1;32m   4206\u001b[0m             \u001b[0mcols\u001b[0m \u001b[0;34m=\u001b[0m \u001b[0mself\u001b[0m\u001b[0;34m.\u001b[0m\u001b[0mcolumns\u001b[0m\u001b[0;34m[\u001b[0m\u001b[0mloc\u001b[0m\u001b[0;34m]\u001b[0m\u001b[0;34m\u001b[0m\u001b[0;34m\u001b[0m\u001b[0m\n\u001b[1;32m   4207\u001b[0m             \u001b[0mlen_cols\u001b[0m \u001b[0;34m=\u001b[0m \u001b[0;36m1\u001b[0m \u001b[0;32mif\u001b[0m \u001b[0mis_scalar\u001b[0m\u001b[0;34m(\u001b[0m\u001b[0mcols\u001b[0m\u001b[0;34m)\u001b[0m \u001b[0;32mor\u001b[0m \u001b[0misinstance\u001b[0m\u001b[0;34m(\u001b[0m\u001b[0mcols\u001b[0m\u001b[0;34m,\u001b[0m \u001b[0mtuple\u001b[0m\u001b[0;34m)\u001b[0m \u001b[0;32melse\u001b[0m \u001b[0mlen\u001b[0m\u001b[0;34m(\u001b[0m\u001b[0mcols\u001b[0m\u001b[0;34m)\u001b[0m\u001b[0;34m\u001b[0m\u001b[0;34m\u001b[0m\u001b[0m\n\u001b[1;32m   4208\u001b[0m             \u001b[0;32mif\u001b[0m \u001b[0mlen_cols\u001b[0m \u001b[0;34m!=\u001b[0m \u001b[0mlen\u001b[0m\u001b[0;34m(\u001b[0m\u001b[0mvalue\u001b[0m\u001b[0;34m.\u001b[0m\u001b[0mcolumns\u001b[0m\u001b[0;34m)\u001b[0m\u001b[0;34m:\u001b[0m\u001b[0;34m\u001b[0m\u001b[0;34m\u001b[0m\u001b[0m\n\u001b[0;32m-> 4209\u001b[0;31m                 \u001b[0;32mraise\u001b[0m \u001b[0mValueError\u001b[0m\u001b[0;34m(\u001b[0m\u001b[0;34m\"Columns must be same length as key\"\u001b[0m\u001b[0;34m)\u001b[0m\u001b[0;34m\u001b[0m\u001b[0;34m\u001b[0m\u001b[0m\n\u001b[0m\u001b[1;32m   4210\u001b[0m \u001b[0;34m\u001b[0m\u001b[0m\n\u001b[1;32m   4211\u001b[0m             \u001b[0;31m# align right-hand-side columns if self.columns\u001b[0m\u001b[0;34m\u001b[0m\u001b[0;34m\u001b[0m\u001b[0m\n\u001b[1;32m   4212\u001b[0m             \u001b[0;31m# is multi-index and self[key] is a sub-frame\u001b[0m\u001b[0;34m\u001b[0m\u001b[0;34m\u001b[0m\u001b[0m\n",
      "\u001b[0;31mValueError\u001b[0m: Columns must be same length as key"
     ]
    }
   ],
   "source": [
    "link_df[int_cols] = link_df[int_cols].astype(int)\n",
    "link_df[float_cols] = link_df[float_cols].astype(float)\n",
    "link_df[str_cols] = link_df[str_cols].astype(str)"
   ]
  },
  {
   "cell_type": "markdown",
   "metadata": {},
   "source": [
    "## H8. Remove outliers, PERMNO that had more than 10 days of over 100% or under -50% returns\n",
    "\n",
    "Return is calculated using (close_price/previous_close_price)-1."
   ]
  },
  {
   "cell_type": "code",
   "execution_count": null,
   "metadata": {},
   "outputs": [],
   "source": [
    "# Define the conditions\n",
    "over_100_percent = crsp_df[\"RET\"] > 1.0\n",
    "under_50_percent = crsp_df[\"RET\"] < -0.5\n",
    "\n",
    "# Create a boolean mask for the conditions\n",
    "condition_mask = over_100_percent | under_50_percent\n",
    "\n",
    "# Count the number of days each permno_id satisfies the condition\n",
    "permno_counts = crsp_df[condition_mask].groupby(\"PERMNO\").size()"
   ]
  },
  {
   "cell_type": "code",
   "execution_count": null,
   "metadata": {},
   "outputs": [],
   "source": [
    "# Filter out PERMNO with more than 10 days satisfying the condition\n",
    "to_remove = permno_counts[permno_counts > 10].index\n",
    "print(\"num_PERMNO_removed: \", len(to_remove))\n",
    "\n",
    "# Filter the DataFrame to exclude those PERMNO\n",
    "og_len = len(crsp_df)\n",
    "crsp_df = crsp_df[~crsp_df[\"PERMNO\"].isin(to_remove)]\n",
    "new_len = len(crsp_df)\n",
    "print(\"num_records_removed: \", og_len - new_len)\n",
    "print(\"num_records_kept: \", new_len)"
   ]
  },
  {
   "cell_type": "markdown",
   "metadata": {
    "id": "4w5TxPkbY4Vb"
   },
   "source": [
    "# Take another look at the null analysis\n"
   ]
  },
  {
   "cell_type": "code",
   "execution_count": null,
   "metadata": {
    "executionInfo": {
     "elapsed": 1062,
     "status": "ok",
     "timestamp": 1718854398458,
     "user": {
      "displayName": "Rachel Gao",
      "userId": "10756354987170970544"
     },
     "user_tz": 420
    },
    "id": "Z_CQBmOQY4Vb"
   },
   "outputs": [],
   "source": [
    "# Count the number of nulls in each column\n",
    "null_counts = crsp_df.isnull().sum()\n",
    "\n",
    "# Calculate the percentage of nulls in each column\n",
    "total_rows = len(crsp_df)\n",
    "null_percentages = (null_counts / total_rows) * 100\n",
    "\n",
    "assert null_percentages.min() == 0.0"
   ]
  },
  {
   "cell_type": "markdown",
   "metadata": {
    "id": "88kCLrSHf-8f"
   },
   "source": [
    "## I1. Remove duplicates\n"
   ]
  },
  {
   "cell_type": "code",
   "execution_count": null,
   "metadata": {
    "colab": {
     "base_uri": "https://localhost:8080/"
    },
    "executionInfo": {
     "elapsed": 4916,
     "status": "ok",
     "timestamp": 1718854403372,
     "user": {
      "displayName": "Rachel Gao",
      "userId": "10756354987170970544"
     },
     "user_tz": 420
    },
    "id": "PwwK4UTIf8ho",
    "outputId": "229ce362-ea1a-4e99-8b60-18fc898e641a"
   },
   "outputs": [],
   "source": [
    "og_len = len(crsp_df)\n",
    "crsp_df = crsp_df.drop_duplicates()\n",
    "new_len = len(crsp_df)\n",
    "print(\"num_records_removed: \", og_len - new_len)\n",
    "print(\"num_records_kept: \", new_len)"
   ]
  },
  {
   "cell_type": "markdown",
   "metadata": {
    "id": "8HV4lEtaZG09"
   },
   "source": [
    "## I2. Confirm each PERMNO contains at most num_days records (each PERMNO only has one record per day)\n"
   ]
  },
  {
   "cell_type": "code",
   "execution_count": null,
   "metadata": {},
   "outputs": [],
   "source": [
    "num_days = link_df[\"srcdate\"].nunique()"
   ]
  },
  {
   "cell_type": "code",
   "execution_count": null,
   "metadata": {
    "executionInfo": {
     "elapsed": 16,
     "status": "ok",
     "timestamp": 1718854403372,
     "user": {
      "displayName": "Rachel Gao",
      "userId": "10756354987170970544"
     },
     "user_tz": 420
    },
    "id": "hRJJ5TQzgRSC"
   },
   "outputs": [],
   "source": [
    "assert link_df[\"LPERMNO\"].value_counts().max() <= num_days"
   ]
  },
  {
   "cell_type": "markdown",
   "metadata": {
    "id": "9HyqlNvlkDCy"
   },
   "source": [
    "## I3. Rename & Reorder all columns\n"
   ]
  },
  {
   "cell_type": "code",
   "execution_count": null,
   "metadata": {
    "executionInfo": {
     "elapsed": 1323,
     "status": "ok",
     "timestamp": 1718854405813,
     "user": {
      "displayName": "Rachel Gao",
      "userId": "10756354987170970544"
     },
     "user_tz": 420
    },
    "id": "PBM94pMjkGCw"
   },
   "outputs": [],
   "source": [
    "rename_dict = {\n",
    "    \"srcdate\": \"date\",\n",
    "    \"LPERMNO\": \"permno_id\",\n",
    "    # \"NCUSIP\": \"ncusip_id\",\n",
    "    # \"CUSIP\": \"cusip_id\",\n",
    "    # \"TICKER\": \"ticker\",\n",
    "    # \"SHRCD\": \"share_code\",\n",
    "    # \"SHRCD_Type\": \"share_code_type\",\n",
    "    # \"SHRCD_Detail\": \"share_code_detail\",\n",
    "    # \"EXCHCD\": \"exchange_code\",\n",
    "    # \"COMNAM\": \"company_name\",\n",
    "    # \"PRIMEXCH\": \"primary_exchange\",\n",
    "    # \"TRDSTAT\": \"trading_status\",\n",
    "    # \"SECSTAT\": \"security_status\",\n",
    "    # \"NAICS\": \"naics\",\n",
    "    # \"NAICS_Sector\": \"naics_sector\",\n",
    "    # \"NAICS_Sector_Name\": \"naics_sector_name\",\n",
    "    # \"NAICS_Secondary\": \"naics_secondary\",\n",
    "    # \"ASKHI\": \"ask_or_high_price\",\n",
    "    # \"ASK\": \"ask_price\",\n",
    "    # \"BIDLO\": \"bid_or_low_price\",\n",
    "    # \"BID\": \"bid_price\",\n",
    "    # \"OPENPRC\": \"open_price\",\n",
    "    # \"PRC\": \"close_price\",\n",
    "    # \"RET\": \"return\",\n",
    "    # \"VOL\": \"volume\",\n",
    "    # \"SHROUT\": \"shares_outstanding\",\n",
    "    # \"NUMTRD\": \"num_trades\",\n",
    "    # \"CFACPR\": \"factor_to_adjust_price\",\n",
    "    # \"CFACSHR\": \"factor_to_adjust_shares\",\n",
    "    # \"vwretd\": \"value_weighted_return\",\n",
    "    # \"ewretd\": \"equal_weighted_return\",\n",
    "    # \"sprtrn\": \"return_on_SP_index\",\n",
    "}\n",
    "\n",
    "crsp_df = crsp_df.rename(columns=rename_dict)\n",
    "crsp_df = crsp_df[list(rename_dict.values())]"
   ]
  },
  {
   "cell_type": "markdown",
   "metadata": {
    "id": "ke6Vs_NziX5n"
   },
   "source": [
    "# Take a final look at the columns\n"
   ]
  },
  {
   "cell_type": "code",
   "execution_count": null,
   "metadata": {
    "colab": {
     "base_uri": "https://localhost:8080/"
    },
    "executionInfo": {
     "elapsed": 6,
     "status": "ok",
     "timestamp": 1718854405813,
     "user": {
      "displayName": "Rachel Gao",
      "userId": "10756354987170970544"
     },
     "user_tz": 420
    },
    "id": "KPjXphnHiX5n",
    "outputId": "d501cc76-a194-4ab4-b3c3-7d3e4444ffbc"
   },
   "outputs": [],
   "source": [
    "crsp_df.columns"
   ]
  },
  {
   "cell_type": "code",
   "execution_count": null,
   "metadata": {
    "colab": {
     "base_uri": "https://localhost:8080/"
    },
    "executionInfo": {
     "elapsed": 6,
     "status": "ok",
     "timestamp": 1718854405814,
     "user": {
      "displayName": "Rachel Gao",
      "userId": "10756354987170970544"
     },
     "user_tz": 420
    },
    "id": "195_fzCXiX5o",
    "outputId": "2dcb6c56-3b5c-494c-bba4-be6b636341d4"
   },
   "outputs": [],
   "source": [
    "crsp_df.dtypes"
   ]
  },
  {
   "cell_type": "code",
   "execution_count": null,
   "metadata": {
    "colab": {
     "base_uri": "https://localhost:8080/"
    },
    "executionInfo": {
     "elapsed": 4,
     "status": "ok",
     "timestamp": 1718854405814,
     "user": {
      "displayName": "Rachel Gao",
      "userId": "10756354987170970544"
     },
     "user_tz": 420
    },
    "id": "EqtXW4RpiX5o",
    "outputId": "fca26289-698b-4ab3-9ee2-31d6497cb158"
   },
   "outputs": [],
   "source": [
    "crsp_len = len(crsp_df)\n",
    "crsp_cols = len(crsp_df.columns)\n",
    "print(\"number of records:\", crsp_len)\n",
    "print(\"number of columns:\", crsp_cols)"
   ]
  },
  {
   "cell_type": "markdown",
   "metadata": {
    "id": "KzwUEbGmilqF"
   },
   "source": [
    "# Review unique values and distribution in each remaining column\n"
   ]
  },
  {
   "cell_type": "code",
   "execution_count": null,
   "metadata": {
    "colab": {
     "base_uri": "https://localhost:8080/"
    },
    "executionInfo": {
     "elapsed": 3859,
     "status": "ok",
     "timestamp": 1718854409670,
     "user": {
      "displayName": "Rachel Gao",
      "userId": "10756354987170970544"
     },
     "user_tz": 420
    },
    "id": "s3Y6SYRiilqG",
    "outputId": "544ba568-51a3-4a47-8d95-6b1e625eabda"
   },
   "outputs": [],
   "source": [
    "for column in crsp_df.columns:\n",
    "    print(\"-\" * 10, column, \"-\" * 10)\n",
    "    print(crsp_df[column].nunique())\n",
    "    print(crsp_df[column].value_counts())"
   ]
  },
  {
   "cell_type": "markdown",
   "metadata": {},
   "source": [
    "# Save the cleaned df as csv & parquet\n"
   ]
  },
  {
   "cell_type": "code",
   "execution_count": null,
   "metadata": {},
   "outputs": [],
   "source": [
    "link_df.to_csv(\n",
    "    \"/home/sagemaker-user/capstone-2024-summer/data/link_2018-2023_clean.csv\",\n",
    "    index=False,\n",
    ")\n",
    "link_df.to_parquet(\"/home/sagemaker-user/capstone-2024-summer/data/link_2018-2023_clean.parquet\")"
   ]
  },
  {
   "cell_type": "code",
   "execution_count": null,
   "metadata": {},
   "outputs": [],
   "source": [
    "reload = pd.read_parquet(\"/home/sagemaker-user/capstone-2024-summer/data/link_2018-2023_clean.parquet\")\n",
    "assert link_df.equals(reload)\n",
    "\n",
    "reload.head()"
   ]
  },
  {
   "cell_type": "markdown",
   "metadata": {},
   "source": [
    "# Upload the parquet to s3\n"
   ]
  },
  {
   "cell_type": "code",
   "execution_count": null,
   "metadata": {},
   "outputs": [],
   "source": [
    "s3.upload_file(\n",
    "    \"/home/sagemaker-user/capstone-2024-summer/data/link_2018-2023_clean.parquet\",\n",
    "    bucket,\n",
    "    \"CRSP/link_2018-2023_clean.parquet\",\n",
    ")"
   ]
  },
  {
   "cell_type": "code",
   "execution_count": null,
   "metadata": {},
   "outputs": [],
   "source": [
    "reload_path = s3_download(\"CRSP/link_2018-2023_clean.parquet\")"
   ]
  },
  {
   "cell_type": "code",
   "execution_count": null,
   "metadata": {},
   "outputs": [],
   "source": [
    "reload = pd.read_parquet(\"/home/sagemaker-user/capstone-2024-summer/data/link_2018-2023_clean.parquet\")\n",
    "assert crsp_df.equals(reload)\n",
    "\n",
    "reload.head()"
   ]
  },
  {
   "cell_type": "markdown",
   "metadata": {},
   "source": [
    "# Confirm no records of < -1 return"
   ]
  },
  {
   "cell_type": "code",
   "execution_count": null,
   "metadata": {},
   "outputs": [],
   "source": [
    "assert len(crsp_df[crsp_df[\"return\"] < -1]) == 0"
   ]
  },
  {
   "cell_type": "code",
   "execution_count": null,
   "metadata": {},
   "outputs": [],
   "source": []
  }
 ],
 "metadata": {
  "colab": {
   "authorship_tag": "ABX9TyOxyKLKqA5wqdgfjK9Y17kf",
   "provenance": []
  },
  "kernelspec": {
   "display_name": "Python 3 (ipykernel)",
   "language": "python",
   "name": "python3"
  },
  "language_info": {
   "codemirror_mode": {
    "name": "ipython",
    "version": 3
   },
   "file_extension": ".py",
   "mimetype": "text/x-python",
   "name": "python",
   "nbconvert_exporter": "python",
   "pygments_lexer": "ipython3",
   "version": "3.10.14"
  }
 },
 "nbformat": 4,
 "nbformat_minor": 4
}
