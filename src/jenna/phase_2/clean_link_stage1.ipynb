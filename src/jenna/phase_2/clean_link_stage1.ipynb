{
 "cells": [
  {
   "cell_type": "markdown",
   "metadata": {},
   "source": [
    "# Set Up Env\n"
   ]
  },
  {
   "cell_type": "code",
   "execution_count": 1,
   "metadata": {},
   "outputs": [
    {
     "name": "stdout",
     "output_type": "stream",
     "text": [
      "sagemaker.config INFO - Not applying SDK defaults from location: /etc/xdg/sagemaker/config.yaml\n",
      "sagemaker.config INFO - Not applying SDK defaults from location: /home/sagemaker-user/.config/sagemaker/config.yaml\n",
      "/home/sagemaker-user/capstone-2024-summer/src/jenna/phase_2\n"
     ]
    }
   ],
   "source": [
    "import sys\n",
    "import os\n",
    "\n",
    "import sagemaker\n",
    "from sagemaker import get_execution_role\n",
    "\n",
    "# Add the parent directory to the sys.path\n",
    "sys.path.insert(0, os.path.abspath(\"..\"))\n",
    "\n",
    "# Define IAM role\n",
    "role = get_execution_role()\n",
    "role\n",
    "\n",
    "# Establish S3 bucket connection\n",
    "import boto3\n",
    "\n",
    "s3 = boto3.client(\"s3\")\n",
    "bucket = \"capstone-bucket-4-friends\"\n",
    "\n",
    "# Take a look at current dir\n",
    "print(os.getcwd())\n",
    "\n",
    "from file_utilities import s3_download"
   ]
  },
  {
   "cell_type": "markdown",
   "metadata": {
    "id": "gey0gI-R-q-P"
   },
   "source": [
    "# Import libraries\n"
   ]
  },
  {
   "cell_type": "code",
   "execution_count": 2,
   "metadata": {
    "colab": {
     "base_uri": "https://localhost:8080/"
    },
    "executionInfo": {
     "elapsed": 3384,
     "status": "ok",
     "timestamp": 1718854260790,
     "user": {
      "displayName": "Rachel Gao",
      "userId": "10756354987170970544"
     },
     "user_tz": 420
    },
    "id": "4advojzZJ3Kc",
    "outputId": "241fdbb0-fc1b-4350-ba4b-a44f786ae727"
   },
   "outputs": [],
   "source": [
    "# standard libraries\n",
    "import numpy as np\n",
    "import pandas as pd\n",
    "\n",
    "# visualization\n",
    "import matplotlib.pyplot as plt\n",
    "\n",
    "!pip install seaborn -q\n",
    "import seaborn as sns"
   ]
  },
  {
   "cell_type": "markdown",
   "metadata": {},
   "source": [
    "# Download Data from S3 as needed\n"
   ]
  },
  {
   "cell_type": "code",
   "execution_count": 3,
   "metadata": {},
   "outputs": [],
   "source": [
    "# link = \"CRSP/link_crsp_and_comp_2018-2023.csv\"\n",
    "# link_path = s3_download(link)"
   ]
  },
  {
   "cell_type": "code",
   "execution_count": 4,
   "metadata": {},
   "outputs": [],
   "source": [
    "# index = \"Index/security_master.csv\"\n",
    "# index_path = s3_download(index)"
   ]
  },
  {
   "cell_type": "markdown",
   "metadata": {
    "id": "NL5urp2nAL4f"
   },
   "source": [
    "# Load the dataset\n",
    "\n",
    "https://wrds-www.wharton.upenn.edu/documents/403/CRSP_-_Compustat_Merged_Database_CCM_NiIeIWV.pdf\n"
   ]
  },
  {
   "cell_type": "code",
   "execution_count": 5,
   "metadata": {
    "colab": {
     "base_uri": "https://localhost:8080/",
     "height": 552
    },
    "executionInfo": {
     "elapsed": 35269,
     "status": "ok",
     "timestamp": 1718854296057,
     "user": {
      "displayName": "Rachel Gao",
      "userId": "10756354987170970544"
     },
     "user_tz": 420
    },
    "id": "qZZUgwZ7AqVA",
    "outputId": "e064ef6b-03c0-4661-fe7f-62a938271d6e"
   },
   "outputs": [
    {
     "data": {
      "text/html": [
       "<div>\n",
       "<style scoped>\n",
       "    .dataframe tbody tr th:only-of-type {\n",
       "        vertical-align: middle;\n",
       "    }\n",
       "\n",
       "    .dataframe tbody tr th {\n",
       "        vertical-align: top;\n",
       "    }\n",
       "\n",
       "    .dataframe thead th {\n",
       "        text-align: right;\n",
       "    }\n",
       "</style>\n",
       "<table border=\"1\" class=\"dataframe\">\n",
       "  <thead>\n",
       "    <tr style=\"text-align: right;\">\n",
       "      <th></th>\n",
       "      <th>GVKEY</th>\n",
       "      <th>LINKPRIM</th>\n",
       "      <th>LIID</th>\n",
       "      <th>LINKTYPE</th>\n",
       "      <th>LPERMNO</th>\n",
       "      <th>LPERMCO</th>\n",
       "      <th>LINKDT</th>\n",
       "      <th>LINKENDDT</th>\n",
       "      <th>stype</th>\n",
       "      <th>sid</th>\n",
       "      <th>...</th>\n",
       "      <th>snms</th>\n",
       "      <th>soptp1</th>\n",
       "      <th>soptp2</th>\n",
       "      <th>conm</th>\n",
       "      <th>tic</th>\n",
       "      <th>cusip</th>\n",
       "      <th>cik</th>\n",
       "      <th>sic</th>\n",
       "      <th>naics</th>\n",
       "      <th>gsubind</th>\n",
       "    </tr>\n",
       "  </thead>\n",
       "  <tbody>\n",
       "    <tr>\n",
       "      <th>0</th>\n",
       "      <td>1004</td>\n",
       "      <td>P</td>\n",
       "      <td>1</td>\n",
       "      <td>LU</td>\n",
       "      <td>54594</td>\n",
       "      <td>20000</td>\n",
       "      <td>1972-04-24</td>\n",
       "      <td>E</td>\n",
       "      <td>BUSSEG</td>\n",
       "      <td>22</td>\n",
       "      <td>...</td>\n",
       "      <td>Expeditionary Services</td>\n",
       "      <td>PD_SRVC</td>\n",
       "      <td>NaN</td>\n",
       "      <td>AAR CORP</td>\n",
       "      <td>AIR</td>\n",
       "      <td>000361105</td>\n",
       "      <td>1750.0</td>\n",
       "      <td>5080</td>\n",
       "      <td>423860</td>\n",
       "      <td>20101010.0</td>\n",
       "    </tr>\n",
       "    <tr>\n",
       "      <th>1</th>\n",
       "      <td>1004</td>\n",
       "      <td>P</td>\n",
       "      <td>1</td>\n",
       "      <td>LU</td>\n",
       "      <td>54594</td>\n",
       "      <td>20000</td>\n",
       "      <td>1972-04-24</td>\n",
       "      <td>E</td>\n",
       "      <td>GEOSEG</td>\n",
       "      <td>5</td>\n",
       "      <td>...</td>\n",
       "      <td>Europe/Africa</td>\n",
       "      <td>GEO</td>\n",
       "      <td>NaN</td>\n",
       "      <td>AAR CORP</td>\n",
       "      <td>AIR</td>\n",
       "      <td>000361105</td>\n",
       "      <td>1750.0</td>\n",
       "      <td>5080</td>\n",
       "      <td>423860</td>\n",
       "      <td>20101010.0</td>\n",
       "    </tr>\n",
       "    <tr>\n",
       "      <th>2</th>\n",
       "      <td>1004</td>\n",
       "      <td>P</td>\n",
       "      <td>1</td>\n",
       "      <td>LU</td>\n",
       "      <td>54594</td>\n",
       "      <td>20000</td>\n",
       "      <td>1972-04-24</td>\n",
       "      <td>E</td>\n",
       "      <td>GEOSEG</td>\n",
       "      <td>4</td>\n",
       "      <td>...</td>\n",
       "      <td>North America</td>\n",
       "      <td>GEO</td>\n",
       "      <td>NaN</td>\n",
       "      <td>AAR CORP</td>\n",
       "      <td>AIR</td>\n",
       "      <td>000361105</td>\n",
       "      <td>1750.0</td>\n",
       "      <td>5080</td>\n",
       "      <td>423860</td>\n",
       "      <td>20101010.0</td>\n",
       "    </tr>\n",
       "    <tr>\n",
       "      <th>3</th>\n",
       "      <td>1004</td>\n",
       "      <td>P</td>\n",
       "      <td>1</td>\n",
       "      <td>LU</td>\n",
       "      <td>54594</td>\n",
       "      <td>20000</td>\n",
       "      <td>1972-04-24</td>\n",
       "      <td>E</td>\n",
       "      <td>BUSSEG</td>\n",
       "      <td>11</td>\n",
       "      <td>...</td>\n",
       "      <td>Corporate</td>\n",
       "      <td>PD_SRVC</td>\n",
       "      <td>NaN</td>\n",
       "      <td>AAR CORP</td>\n",
       "      <td>AIR</td>\n",
       "      <td>000361105</td>\n",
       "      <td>1750.0</td>\n",
       "      <td>5080</td>\n",
       "      <td>423860</td>\n",
       "      <td>20101010.0</td>\n",
       "    </tr>\n",
       "    <tr>\n",
       "      <th>4</th>\n",
       "      <td>1004</td>\n",
       "      <td>P</td>\n",
       "      <td>1</td>\n",
       "      <td>LU</td>\n",
       "      <td>54594</td>\n",
       "      <td>20000</td>\n",
       "      <td>1972-04-24</td>\n",
       "      <td>E</td>\n",
       "      <td>GEOSEG</td>\n",
       "      <td>3</td>\n",
       "      <td>...</td>\n",
       "      <td>Other</td>\n",
       "      <td>GEO</td>\n",
       "      <td>NaN</td>\n",
       "      <td>AAR CORP</td>\n",
       "      <td>AIR</td>\n",
       "      <td>000361105</td>\n",
       "      <td>1750.0</td>\n",
       "      <td>5080</td>\n",
       "      <td>423860</td>\n",
       "      <td>20101010.0</td>\n",
       "    </tr>\n",
       "  </tbody>\n",
       "</table>\n",
       "<p>5 rows × 71 columns</p>\n",
       "</div>"
      ],
      "text/plain": [
       "   GVKEY LINKPRIM  LIID LINKTYPE  LPERMNO  LPERMCO      LINKDT LINKENDDT  \\\n",
       "0   1004        P     1       LU    54594    20000  1972-04-24         E   \n",
       "1   1004        P     1       LU    54594    20000  1972-04-24         E   \n",
       "2   1004        P     1       LU    54594    20000  1972-04-24         E   \n",
       "3   1004        P     1       LU    54594    20000  1972-04-24         E   \n",
       "4   1004        P     1       LU    54594    20000  1972-04-24         E   \n",
       "\n",
       "    stype  sid  ...                    snms   soptp1  soptp2      conm  tic  \\\n",
       "0  BUSSEG   22  ...  Expeditionary Services  PD_SRVC     NaN  AAR CORP  AIR   \n",
       "1  GEOSEG    5  ...           Europe/Africa      GEO     NaN  AAR CORP  AIR   \n",
       "2  GEOSEG    4  ...           North America      GEO     NaN  AAR CORP  AIR   \n",
       "3  BUSSEG   11  ...               Corporate  PD_SRVC     NaN  AAR CORP  AIR   \n",
       "4  GEOSEG    3  ...                   Other      GEO     NaN  AAR CORP  AIR   \n",
       "\n",
       "       cusip     cik   sic   naics     gsubind  \n",
       "0  000361105  1750.0  5080  423860  20101010.0  \n",
       "1  000361105  1750.0  5080  423860  20101010.0  \n",
       "2  000361105  1750.0  5080  423860  20101010.0  \n",
       "3  000361105  1750.0  5080  423860  20101010.0  \n",
       "4  000361105  1750.0  5080  423860  20101010.0  \n",
       "\n",
       "[5 rows x 71 columns]"
      ]
     },
     "execution_count": 5,
     "metadata": {},
     "output_type": "execute_result"
    }
   ],
   "source": [
    "link_df = pd.read_csv(\n",
    "    \"/home/sagemaker-user/capstone-2024-summer/data/link_crsp_and_comp_2018-2023.csv\",\n",
    "    parse_dates=[\"srcdate\"],\n",
    "    low_memory=False\n",
    ")\n",
    "\n",
    "link_df.head()"
   ]
  },
  {
   "cell_type": "markdown",
   "metadata": {
    "id": "k4Sdl7bhbYlY"
   },
   "source": [
    "# Take a look at the columns\n"
   ]
  },
  {
   "cell_type": "code",
   "execution_count": 6,
   "metadata": {
    "colab": {
     "base_uri": "https://localhost:8080/"
    },
    "executionInfo": {
     "elapsed": 5,
     "status": "ok",
     "timestamp": 1718854296058,
     "user": {
      "displayName": "Rachel Gao",
      "userId": "10756354987170970544"
     },
     "user_tz": 420
    },
    "id": "kvnFj_bSCFCN",
    "outputId": "871ccbba-7ee3-476a-8e5a-b837f2603341"
   },
   "outputs": [
    {
     "data": {
      "text/plain": [
       "Index(['GVKEY', 'LINKPRIM', 'LIID', 'LINKTYPE', 'LPERMNO', 'LPERMCO', 'LINKDT',\n",
       "       'LINKENDDT', 'stype', 'sid', 'atlls', 'capxs', 'capxs_fn', 'caxts',\n",
       "       'cogss', 'dps', 'emps', 'emps_fn', 'esubs', 'esubs_fn', 'ias', 'ibs',\n",
       "       'iints', 'intseg', 'ivaeqs', 'nis', 'nopxs', 'nxints', 'obs', 'ocaxs',\n",
       "       'oelim', 'oiadps', 'oibdps', 'ops', 'ops_fn', 'ppents', 'ptis', 'rds',\n",
       "       'rds_fn', 'revts', 'sales', 'sales_fn', 'salexg', 'spis', 'txts',\n",
       "       'txws', 'xidos', 'xints', 'xsgas', 'datadate', 'srcdate', 'curcds',\n",
       "       'isosrc', 'naicsh', 'srcs', 'upds', 'NAICSS1', 'NAICSS2', 'SICS1',\n",
       "       'SICS2', 'geotp', 'snms', 'soptp1', 'soptp2', 'conm', 'tic', 'cusip',\n",
       "       'cik', 'sic', 'naics', 'gsubind'],\n",
       "      dtype='object')"
      ]
     },
     "execution_count": 6,
     "metadata": {},
     "output_type": "execute_result"
    }
   ],
   "source": [
    "link_df.columns"
   ]
  },
  {
   "cell_type": "code",
   "execution_count": 7,
   "metadata": {
    "colab": {
     "base_uri": "https://localhost:8080/"
    },
    "executionInfo": {
     "elapsed": 4,
     "status": "ok",
     "timestamp": 1718854296058,
     "user": {
      "displayName": "Rachel Gao",
      "userId": "10756354987170970544"
     },
     "user_tz": 420
    },
    "id": "anxdhdX5fLqU",
    "outputId": "021c7500-f9b4-4ae4-bdd7-6cfb57285809"
   },
   "outputs": [
    {
     "data": {
      "text/plain": [
       "GVKEY         int64\n",
       "LINKPRIM     object\n",
       "LIID          int64\n",
       "LINKTYPE     object\n",
       "LPERMNO       int64\n",
       "             ...   \n",
       "cusip        object\n",
       "cik         float64\n",
       "sic           int64\n",
       "naics         int64\n",
       "gsubind     float64\n",
       "Length: 71, dtype: object"
      ]
     },
     "execution_count": 7,
     "metadata": {},
     "output_type": "execute_result"
    }
   ],
   "source": [
    "link_df.dtypes"
   ]
  },
  {
   "cell_type": "code",
   "execution_count": 8,
   "metadata": {
    "colab": {
     "base_uri": "https://localhost:8080/"
    },
    "executionInfo": {
     "elapsed": 3,
     "status": "ok",
     "timestamp": 1718854296058,
     "user": {
      "displayName": "Rachel Gao",
      "userId": "10756354987170970544"
     },
     "user_tz": 420
    },
    "id": "y92nzlbOY00-",
    "outputId": "f346ffa0-308a-454b-c0ab-99903433a7f7"
   },
   "outputs": [
    {
     "name": "stdout",
     "output_type": "stream",
     "text": [
      "number of records: 315578\n",
      "number of columns: 71\n"
     ]
    }
   ],
   "source": [
    "og_link_len = len(link_df)\n",
    "og_link_cols = len(link_df.columns)\n",
    "print(\"number of records:\", og_link_len)\n",
    "print(\"number of columns:\", og_link_cols)"
   ]
  },
  {
   "cell_type": "markdown",
   "metadata": {},
   "source": [
    "# Cast date variables"
   ]
  },
  {
   "cell_type": "code",
   "execution_count": 9,
   "metadata": {},
   "outputs": [
    {
     "name": "stderr",
     "output_type": "stream",
     "text": [
      "/tmp/ipykernel_5044/605713236.py:20: UserWarning: Could not infer format, so each element will be parsed individually, falling back to `dateutil`. To ensure parsing is consistent and as-expected, please specify a format.\n",
      "  df[col] = pd.to_datetime(df[col], errors='coerce')\n"
     ]
    }
   ],
   "source": [
    "def date_formatting(df):\n",
    "    \"\"\"Convert to datetime with specified format\"\"\"\n",
    "    date_columns = [\n",
    "        \"LINKDT\",\n",
    "        \"LINKENDDT\",\n",
    "        \"datadate\",\n",
    "        \"srcdate\",\n",
    "    ]\n",
    "    for col in date_columns:\n",
    "        if col in df.columns:\n",
    "            # First, try with a common format\n",
    "            try:\n",
    "                df[col] = pd.to_datetime(df[col], format='%Y-%m-%d', errors='raise')\n",
    "            except ValueError:\n",
    "                # If that fails, try with another common format\n",
    "                try:\n",
    "                    df[col] = pd.to_datetime(df[col], format='%m/%d/%Y', errors='raise')\n",
    "                except ValueError:\n",
    "                    # If both fail, use the flexible parser as a last resort\n",
    "                    df[col] = pd.to_datetime(df[col], errors='coerce')\n",
    "            \n",
    "            # Handle any remaining NaT values\n",
    "            df[col] = df[col].fillna(pd.NaT)\n",
    "    \n",
    "    return df\n",
    "\n",
    "# Apply the function\n",
    "link_df = date_formatting(link_df)\n",
    "\n",
    "# Sort the df by date for forward fill preparation\n",
    "link_df = link_df.sort_values('srcdate')"
   ]
  },
  {
   "cell_type": "markdown",
   "metadata": {
    "id": "c3ncsMKpdlXk"
   },
   "source": [
    "# Null analysis\n"
   ]
  },
  {
   "cell_type": "code",
   "execution_count": 10,
   "metadata": {
    "colab": {
     "base_uri": "https://localhost:8080/",
     "height": 475
    },
    "executionInfo": {
     "elapsed": 4868,
     "status": "ok",
     "timestamp": 1718854300924,
     "user": {
      "displayName": "Rachel Gao",
      "userId": "10756354987170970544"
     },
     "user_tz": 420
    },
    "id": "YMKjMIxndqbA",
    "outputId": "b56c1fda-dab7-4584-b8ac-9b6adde5357b"
   },
   "outputs": [
    {
     "data": {
      "image/png": "[encoded data removed]",
      "text/plain": [
       "<Figure size 1200x400 with 1 Axes>"
      ]
     },
     "metadata": {},
     "output_type": "display_data"
    }
   ],
   "source": [
    "# Count the number of nulls in each column\n",
    "null_counts = link_df.isnull().sum()\n",
    "\n",
    "# Calculate the percentage of nulls in each column\n",
    "total_rows = len(link_df)\n",
    "null_percentages = (null_counts / total_rows) * 100\n",
    "null_percentages = null_percentages.sort_values(ascending=False)\n",
    "\n",
    "# Plot the percentages as a bar plot\n",
    "null_percentages.plot(kind=\"bar\", figsize=(12, 4), color=\"skyblue\")\n",
    "plt.axhline(y=80, color=\"red\", linestyle=\"--\", linewidth=1)\n",
    "plt.title(\"Percentage of Null Values in Each Column\")\n",
    "plt.xlabel(\"Columns\")\n",
    "plt.ylabel(\"Percentage of Nulls (%)\")\n",
    "plt.show()"
   ]
  },
  {
   "cell_type": "markdown",
   "metadata": {
    "id": "cFe6mQFCf_RJ"
   },
   "source": [
    "## A1. Drop all columns which contains more than 80% null as they cannot be reasonably obtained or imputed.\n"
   ]
  },
  {
   "cell_type": "code",
   "execution_count": 11,
   "metadata": {
    "colab": {
     "base_uri": "https://localhost:8080/"
    },
    "executionInfo": {
     "elapsed": 287,
     "status": "ok",
     "timestamp": 1718854301208,
     "user": {
      "displayName": "Rachel Gao",
      "userId": "10756354987170970544"
     },
     "user_tz": 420
    },
    "id": "4H0i5UKBf-g2",
    "outputId": "98ff4e2b-84e5-4bac-ceba-1cc988694d52"
   },
   "outputs": [
    {
     "name": "stdout",
     "output_type": "stream",
     "text": [
      "num_columns_removed:  18\n",
      "num_columns_kept: 53\n"
     ]
    }
   ],
   "source": [
    "og_cols = len(link_df.columns)\n",
    "columns_to_drop = null_percentages[null_percentages > 80].index\n",
    "link_df = link_df.drop(columns=columns_to_drop)\n",
    "new_cols = len(link_df.columns)\n",
    "print(\"num_columns_removed: \", og_cols - new_cols)\n",
    "print(\"num_columns_kept:\", new_cols)"
   ]
  },
  {
   "cell_type": "markdown",
   "metadata": {
    "id": "zswhk8i0r01t"
   },
   "source": [
    "## A2. Drop all columns containing duplicate information and columns just used for linking\n"
   ]
  },
  {
   "cell_type": "code",
   "execution_count": 12,
   "metadata": {
    "colab": {
     "base_uri": "https://localhost:8080/"
    },
    "executionInfo": {
     "elapsed": 182,
     "status": "ok",
     "timestamp": 1718854301388,
     "user": {
      "displayName": "Rachel Gao",
      "userId": "10756354987170970544"
     },
     "user_tz": 420
    },
    "id": "-ZRJ47epsRmM",
    "outputId": "849e35d2-044e-4ed0-acc6-f3d3bff16e45"
   },
   "outputs": [
    {
     "name": "stdout",
     "output_type": "stream",
     "text": [
      "num_columns_removed:  17\n",
      "num_columns_kept: 36\n"
     ]
    }
   ],
   "source": [
    "og_cols = len(link_df.columns)\n",
    "columns_to_drop = [\n",
    "    \"LPERMCO\",  # Redundant with LPERMNO\n",
    "    \"LIID\",     # Redundant with LPERMNO\n",
    "    \"naicsh\",   # Historical NAICS\n",
    "    \"GVKEY\",    # Just used for linking Compustat\n",
    "    \"NAICSS1\",  # Just used for linking Compustat\n",
    "    \"NAICSS2\",  # Just used for linking Compustat\n",
    "    \"SICS1\",    # Just used for linking Compustat\n",
    "    \"SICS2\",    # Just used for linking Compustat\n",
    "    \"LINKTYPE\", # Just used for linking Compustat\n",
    "    \"LINKPRIM\", # Just used for linking Compustat\n",
    "    \"datadate\", # srcdate as primary date\n",
    "    \"LINKDT\",   # srcdate as primary date\n",
    "    \"curcds\",   # Currency codes\n",
    "    \"srcs\",     # Just used for linking Compustat\n",
    "    \"tic\",      # LPERMNO as your primary identifier\n",
    "    \"cusip\",    # LPERMNO as primary identifier\n",
    "    \"sic\",      # redundant to naics\n",
    "]\n",
    "\n",
    "link_df = link_df.drop(columns=columns_to_drop)\n",
    "new_cols = len(link_df.columns)\n",
    "print(\"num_columns_removed: \", og_cols - new_cols)\n",
    "print(\"num_columns_kept:\", new_cols)"
   ]
  },
  {
   "cell_type": "markdown",
   "metadata": {
    "id": "JWJ1RPPvsrcC"
   },
   "source": [
    "# Take another look at the null analysis\n"
   ]
  },
  {
   "cell_type": "code",
   "execution_count": 13,
   "metadata": {
    "colab": {
     "base_uri": "https://localhost:8080/",
     "height": 467
    },
    "executionInfo": {
     "elapsed": 1652,
     "status": "ok",
     "timestamp": 1718854303039,
     "user": {
      "displayName": "Rachel Gao",
      "userId": "10756354987170970544"
     },
     "user_tz": 420
    },
    "id": "2GXrE1bVsg1Q",
    "outputId": "022db422-4fae-4199-9bf3-e2a57518a293"
   },
   "outputs": [
    {
     "data": {
      "image/png": "[encoded data removed]",
      "text/plain": [
       "<Figure size 1200x400 with 1 Axes>"
      ]
     },
     "metadata": {},
     "output_type": "display_data"
    }
   ],
   "source": [
    "# Count the number of nulls in each column\n",
    "null_counts = link_df.isnull().sum()\n",
    "\n",
    "# Calculate the percentage of nulls in each column\n",
    "total_rows = len(link_df)\n",
    "null_percentages = (null_counts / total_rows) * 100\n",
    "null_percentages = null_percentages.sort_values(ascending=False)\n",
    "\n",
    "# Plot the percentages as a bar plot\n",
    "ax = null_percentages.plot(kind=\"bar\", figsize=(12, 4), color=\"skyblue\")\n",
    "plt.title(\"Percentage of Null Values in Each Column\")\n",
    "plt.xlabel(\"Columns\")\n",
    "plt.ylim(0, max(null_percentages.values) + 10)\n",
    "plt.ylabel(\"Percentage of Nulls (%)\")\n",
    "\n",
    "# Annotate the bars with the percentage values\n",
    "for i, percentage in enumerate(null_percentages):\n",
    "    if percentage != 0:\n",
    "        ax.annotate(\n",
    "            f\"{percentage:.0f}%\",\n",
    "            xy=(i, percentage),\n",
    "            xytext=(0, 3),\n",
    "            textcoords=\"offset points\",\n",
    "            ha=\"center\",\n",
    "            va=\"bottom\",\n",
    "            color=\"red\",\n",
    "            fontsize=7,\n",
    "        )\n",
    "\n",
    "plt.show()"
   ]
  },
  {
   "cell_type": "markdown",
   "metadata": {
    "id": "6wv4KP9vgnGd"
   },
   "source": [
    "# Review unique values and distribution in each remaining column\n"
   ]
  },
  {
   "cell_type": "code",
   "execution_count": 14,
   "metadata": {
    "colab": {
     "base_uri": "https://localhost:8080/"
    },
    "executionInfo": {
     "elapsed": 5513,
     "status": "ok",
     "timestamp": 1718854308549,
     "user": {
      "displayName": "Rachel Gao",
      "userId": "10756354987170970544"
     },
     "user_tz": 420
    },
    "id": "wJH_9Qs0gsI7",
    "outputId": "493db5ea-5e0d-47e2-bce0-9db85cceeea8"
   },
   "outputs": [
    {
     "name": "stdout",
     "output_type": "stream",
     "text": [
      "---------- LPERMNO ----------\n",
      "6663\n",
      "LPERMNO\n",
      "85261    612\n",
      "14785    461\n",
      "33823    439\n",
      "86111    431\n",
      "91607    416\n",
      "        ... \n",
      "24087      1\n",
      "21825      1\n",
      "21025      1\n",
      "23801      1\n",
      "22193      1\n",
      "Name: count, Length: 6663, dtype: int64\n",
      "---------- stype ----------\n",
      "4\n",
      "stype\n",
      "GEOSEG    152347\n",
      "BUSSEG    134561\n",
      "OPSEG      28272\n",
      "STSEG        398\n",
      "Name: count, dtype: int64\n",
      "---------- sid ----------\n",
      "90\n",
      "sid\n",
      "1     76479\n",
      "2     37195\n",
      "3     27126\n",
      "4     22270\n",
      "5     18877\n",
      "      ...  \n",
      "83        1\n",
      "74        1\n",
      "79        1\n",
      "73        1\n",
      "71        1\n",
      "Name: count, Length: 90, dtype: int64\n",
      "---------- capxs ----------\n",
      "23508\n",
      "capxs\n",
      "0.000       22397\n",
      "1.000         358\n",
      "2.000         311\n",
      "3.000         230\n",
      "5.000         227\n",
      "            ...  \n",
      "646.851         1\n",
      "39.459          1\n",
      "1490.866        1\n",
      "131.973         1\n",
      "1808.952        1\n",
      "Name: count, Length: 23508, dtype: int64\n",
      "---------- caxts ----------\n",
      "30001\n",
      "caxts\n",
      "0.000      566\n",
      "237.000     19\n",
      "511.000     19\n",
      "51.000      17\n",
      "199.000     16\n",
      "          ... \n",
      "9.571        1\n",
      "5.262        1\n",
      "20.182       1\n",
      "8.458        1\n",
      "81.598       1\n",
      "Name: count, Length: 30001, dtype: int64\n",
      "---------- cogss ----------\n",
      "35807\n",
      "cogss\n",
      " 0.000       9392\n",
      " 3.000         77\n",
      " 1.000         65\n",
      " 0.500         63\n",
      " 0.600         44\n",
      "             ... \n",
      " 3824.000       1\n",
      "-628.000        1\n",
      " 8.305          1\n",
      " 12.677         1\n",
      " 51.539         1\n",
      "Name: count, Length: 35807, dtype: int64\n",
      "---------- dps ----------\n",
      "26924\n",
      "dps\n",
      "0.000     11789\n",
      "1.000       288\n",
      "0.001       266\n",
      "2.000       240\n",
      "3.000       222\n",
      "          ...  \n",
      "75.231        1\n",
      "12.144        1\n",
      "59.093        1\n",
      "1.547         1\n",
      "18.229        1\n",
      "Name: count, Length: 26924, dtype: int64\n",
      "---------- emps ----------\n",
      "8523\n",
      "emps\n",
      "0.0        9476\n",
      "2.0         526\n",
      "3.0         511\n",
      "4.0         510\n",
      "9.0         444\n",
      "           ... \n",
      "3840.0        1\n",
      "16790.0       1\n",
      "5345.0        1\n",
      "5229.0        1\n",
      "4728.0        1\n",
      "Name: count, Length: 8523, dtype: int64\n",
      "---------- esubs ----------\n",
      "5656\n",
      "esubs\n",
      " 0.000      169170\n",
      " 1.000         228\n",
      " 2.000         161\n",
      "-1.000         121\n",
      " 6.000         114\n",
      "             ...  \n",
      " 0.287           1\n",
      " 0.735           1\n",
      "-59.000          1\n",
      "-0.569           1\n",
      " 151.185         1\n",
      "Name: count, Length: 5656, dtype: int64\n",
      "---------- ias ----------\n",
      "59597\n",
      "ias\n",
      "0.000      3253\n",
      "2.000        21\n",
      "5.000        20\n",
      "233.000      19\n",
      "485.000      18\n",
      "           ... \n",
      "67.290        1\n",
      "344.434       1\n",
      "3.421         1\n",
      "16.922        1\n",
      "32.129        1\n",
      "Name: count, Length: 59597, dtype: int64\n",
      "---------- ibs ----------\n",
      "25679\n",
      "ibs\n",
      " 0.000      735\n",
      "-1.000       33\n",
      "-6.000       25\n",
      " 5.000       24\n",
      " 112.000     23\n",
      "           ... \n",
      "-78.523       1\n",
      "-2.353        1\n",
      "-29.566       1\n",
      "-11.101       1\n",
      "-71.735       1\n",
      "Name: count, Length: 25679, dtype: int64\n",
      "---------- intseg ----------\n",
      "7406\n",
      "intseg\n",
      " 0.000        266418\n",
      " 2.000           177\n",
      " 1.000           166\n",
      " 4.000           131\n",
      " 3.000           113\n",
      "               ...  \n",
      " 36020.000         1\n",
      " 38693.000         1\n",
      "-9.079             1\n",
      " 4.312             1\n",
      " 36.361            1\n",
      "Name: count, Length: 7406, dtype: int64\n",
      "---------- ivaeqs ----------\n",
      "6317\n",
      "ivaeqs\n",
      "0.000      177874\n",
      "3.000          77\n",
      "6.000          69\n",
      "2.000          58\n",
      "4.000          56\n",
      "            ...  \n",
      "42.906          1\n",
      "6.550           1\n",
      "1.686           1\n",
      "0.068           1\n",
      "114.538         1\n",
      "Name: count, Length: 6317, dtype: int64\n",
      "---------- nis ----------\n",
      "28453\n",
      "nis\n",
      " 0.000       953\n",
      "-1.000        38\n",
      " 5.000        29\n",
      " 39.000       24\n",
      " 2.000        24\n",
      "            ... \n",
      "-4.001         1\n",
      "-28.297        1\n",
      "-30.824        1\n",
      " 1030.530      1\n",
      "-4.625         1\n",
      "Name: count, Length: 28453, dtype: int64\n",
      "---------- oelim ----------\n",
      "39\n",
      "oelim\n",
      " 0.000       302437\n",
      " 3948.000         3\n",
      " 391.600          3\n",
      " 156.500          3\n",
      " 2225.000         3\n",
      "-9.948            3\n",
      " 20.907           3\n",
      " 2507.000         3\n",
      " 1779.000         3\n",
      " 382.800          3\n",
      " 163.200          3\n",
      " 429.600          3\n",
      " 11.900           3\n",
      " 8.100            3\n",
      " 4358.000         3\n",
      " 186.600          3\n",
      " 7.600            3\n",
      " 2333.000         3\n",
      " 408.200          2\n",
      " 564.677          2\n",
      " 3753.000         2\n",
      " 2097.000         2\n",
      "-6.902            2\n",
      " 15.353           2\n",
      " 198.300          2\n",
      " 7.100            2\n",
      " 0.805            1\n",
      " 7.286            1\n",
      " 0.779            1\n",
      " 14.099           1\n",
      " 560.719          1\n",
      " 560.003          1\n",
      " 24.463           1\n",
      "-7.332            1\n",
      " 7.000            1\n",
      " 215.100          1\n",
      " 438.600          1\n",
      " 9.000            1\n",
      " 2658.000         1\n",
      "Name: count, dtype: int64\n",
      "---------- oiadps ----------\n",
      "47785\n",
      "oiadps\n",
      " 0.000      1827\n",
      " 1.000        81\n",
      " 2.000        58\n",
      "-2.000        56\n",
      " 10.000       54\n",
      "            ... \n",
      " 66.832        1\n",
      "-84.766        1\n",
      " 139.089       1\n",
      "-5.697         1\n",
      "-3.879         1\n",
      "Name: count, Length: 47785, dtype: int64\n",
      "---------- oibdps ----------\n",
      "47910\n",
      "oibdps\n",
      " 0.000        1721\n",
      " 1.000          65\n",
      " 2.000          50\n",
      " 13.000         48\n",
      " 11.000         48\n",
      "              ... \n",
      "-1355.367        1\n",
      "-859.783         1\n",
      " 3204.427        1\n",
      " 30389.383       1\n",
      "-115.457         1\n",
      "Name: count, Length: 47910, dtype: int64\n",
      "---------- ops ----------\n",
      "47907\n",
      "ops\n",
      " 0.000      1826\n",
      " 1.000        79\n",
      " 2.000        57\n",
      "-2.000        56\n",
      "-1.000        56\n",
      "            ... \n",
      "-84.766        1\n",
      " 164.608       1\n",
      " 167.318       1\n",
      "-14.928        1\n",
      "-719.716       1\n",
      "Name: count, Length: 47907, dtype: int64\n",
      "---------- ppents ----------\n",
      "25376\n",
      "ppents\n",
      "0.000     4098\n",
      "0.001       57\n",
      "2.000       50\n",
      "1.000       47\n",
      "0.009       46\n",
      "          ... \n",
      "3.544        1\n",
      "11.435       1\n",
      "22.004       1\n",
      "92.681       1\n",
      "17.422       1\n",
      "Name: count, Length: 25376, dtype: int64\n",
      "---------- ptis ----------\n",
      "31984\n",
      "ptis\n",
      " 0.000      836\n",
      "-1.000       25\n",
      " 34.000      25\n",
      " 2.000       22\n",
      " 168.000     21\n",
      "           ... \n",
      "-12.315       1\n",
      "-94.723       1\n",
      " 49.581       1\n",
      " 114.995      1\n",
      " 38.710       1\n",
      "Name: count, Length: 31984, dtype: int64\n",
      "---------- revts ----------\n",
      "93393\n",
      "revts\n",
      "0.000      28397\n",
      "2.000         98\n",
      "1.000         86\n",
      "3.000         82\n",
      "7.000         72\n",
      "           ...  \n",
      "126.067        1\n",
      "41.738         1\n",
      "740.322        1\n",
      "847.920        1\n",
      "91.192         1\n",
      "Name: count, Length: 93393, dtype: int64\n",
      "---------- sales ----------\n",
      "93994\n",
      "sales\n",
      "0.000      26293\n",
      "1.000         97\n",
      "2.000         84\n",
      "3.000         82\n",
      "0.001         75\n",
      "           ...  \n",
      "564.144        1\n",
      "186.065        1\n",
      "235.825        1\n",
      "460.800        1\n",
      "625.250        1\n",
      "Name: count, Length: 93994, dtype: int64\n",
      "---------- spis ----------\n",
      "15154\n",
      "spis\n",
      " 0.000     24469\n",
      "-1.000       470\n",
      "-2.000       325\n",
      "-3.000       304\n",
      "-5.000       298\n",
      "           ...  \n",
      "-22.383        1\n",
      "-14.711        1\n",
      " 0.267         1\n",
      "-29.620        1\n",
      " 1.231         1\n",
      "Name: count, Length: 15154, dtype: int64\n",
      "---------- txts ----------\n",
      "15964\n",
      "txts\n",
      " 0.000     17008\n",
      " 0.001       286\n",
      " 0.002       235\n",
      " 0.004       152\n",
      " 1.000       119\n",
      "           ...  \n",
      " 3.458         1\n",
      " 1.677         1\n",
      " 48.111        1\n",
      " 25.869        1\n",
      "-4.158         1\n",
      "Name: count, Length: 15964, dtype: int64\n",
      "---------- txws ----------\n",
      "261\n",
      "txws\n",
      "0.000        301676\n",
      "768.300          12\n",
      "952.000          12\n",
      "386.000          12\n",
      "740.800          12\n",
      "              ...  \n",
      "746.071           1\n",
      "8135.662          1\n",
      "48907.000         1\n",
      "3806.046          1\n",
      "2065.050          1\n",
      "Name: count, Length: 261, dtype: int64\n",
      "---------- xints ----------\n",
      "15835\n",
      "xints\n",
      "0.000     12063\n",
      "0.001       240\n",
      "0.002       214\n",
      "1.000       174\n",
      "0.004       128\n",
      "          ...  \n",
      "0.143         1\n",
      "28.663        1\n",
      "30.792        1\n",
      "9.365         1\n",
      "36.447        1\n",
      "Name: count, Length: 15835, dtype: int64\n",
      "---------- xsgas ----------\n",
      "24779\n",
      "xsgas\n",
      "0.000      2262\n",
      "23.000       47\n",
      "2.000        43\n",
      "24.000       40\n",
      "27.000       39\n",
      "           ... \n",
      "190.961       1\n",
      "2.383         1\n",
      "16.968        1\n",
      "368.700       1\n",
      "7.984         1\n",
      "Name: count, Length: 24779, dtype: int64\n",
      "---------- srcdate ----------\n",
      "70\n",
      "srcdate\n",
      "2022-12-31    50443\n",
      "2023-12-31    49607\n",
      "2021-12-31    49129\n",
      "2020-12-31    48160\n",
      "2019-12-31    33510\n",
      "              ...  \n",
      "2018-08-31      241\n",
      "2019-02-28      225\n",
      "2018-11-30      146\n",
      "2018-07-31      142\n",
      "2024-02-29      140\n",
      "Name: count, Length: 70, dtype: int64\n",
      "---------- upds ----------\n",
      "2\n",
      "upds\n",
      "3    315526\n",
      "2        52\n",
      "Name: count, dtype: int64\n",
      "---------- geotp ----------\n",
      "2\n",
      "geotp\n",
      "3.0    107347\n",
      "2.0     59467\n",
      "Name: count, dtype: int64\n",
      "---------- snms ----------\n",
      "12016\n",
      "snms\n",
      "United States                 39820\n",
      "Other                          9488\n",
      "Corporate                      7683\n",
      "Europe                         6673\n",
      "Canada                         5750\n",
      "                              ...  \n",
      "Non-segment                       1\n",
      "PRC teaching&mgmt services        1\n",
      "Zinc                              1\n",
      "Resistors and Inductors           1\n",
      "Direct-Store-Delivery             1\n",
      "Name: count, Length: 12016, dtype: int64\n",
      "---------- soptp1 ----------\n",
      "5\n",
      "soptp1\n",
      "PD_SRVC    138331\n",
      "GEO         87233\n",
      "MARKET      67898\n",
      "OPER        11221\n",
      "DIV           963\n",
      "Name: count, dtype: int64\n",
      "---------- conm ----------\n",
      "6706\n",
      "conm\n",
      "ARCELORMITTAL                 612\n",
      "LIBERTY GLOBAL LTD            585\n",
      "LIBERTY LATIN AMERICA LTD     522\n",
      "GLOBANT SA                    461\n",
      "DMC GLOBAL INC                439\n",
      "                             ... \n",
      "ZURA BIO LIMITED                1\n",
      "AERWINS TECHNOLOGIES INC        1\n",
      "MOBILE INFRASTRUCTURE CORP      1\n",
      "NKGEN BIOTECH INC               1\n",
      "SAGIMET BIOSCIENCES INC         1\n",
      "Name: count, Length: 6706, dtype: int64\n",
      "---------- cik ----------\n",
      "6511\n",
      "cik\n",
      "1243429.0    612\n",
      "1570585.0    585\n",
      "1712184.0    522\n",
      "1557860.0    461\n",
      "34067.0      439\n",
      "            ... \n",
      "1873093.0      1\n",
      "1974640.0      1\n",
      "1936224.0      1\n",
      "1891856.0      1\n",
      "1966494.0      1\n",
      "Name: count, Length: 6511, dtype: int64\n",
      "---------- naics ----------\n",
      "772\n",
      "naics\n",
      "522110    16677\n",
      "325414    12686\n",
      "518210     9493\n",
      "334413     9439\n",
      "325412     6607\n",
      "          ...  \n",
      "322291        2\n",
      "541940        2\n",
      "488310        1\n",
      "99999         1\n",
      "4831          1\n",
      "Name: count, Length: 772, dtype: int64\n",
      "---------- gsubind ----------\n",
      "177\n",
      "gsubind\n",
      "40101015.0    13619\n",
      "35201010.0    12661\n",
      "45103010.0    11107\n",
      "35101010.0     8713\n",
      "20106020.0     8196\n",
      "              ...  \n",
      "60101050.0       26\n",
      "20304020.0       18\n",
      "25503010.0        5\n",
      "25503020.0        4\n",
      "60102040.0        2\n",
      "Name: count, Length: 177, dtype: int64\n"
     ]
    }
   ],
   "source": [
    "for column in link_df.columns:\n",
    "    print(\"-\" * 10, column, \"-\" * 10)\n",
    "    print(link_df[column].nunique())\n",
    "    print(link_df[column].value_counts())"
   ]
  },
  {
   "cell_type": "markdown",
   "metadata": {
    "id": "SGvNnNMIbvFY"
   },
   "source": [
    "# Review revts: total revenue\n",
    "This item represents the gross income received from all divisions of the company in an industry segment"
   ]
  },
  {
   "cell_type": "markdown",
   "metadata": {
    "id": "lcU5uaHuh7Gx"
   },
   "source": [
    "## B1. Check abnormal values\n"
   ]
  },
  {
   "cell_type": "code",
   "execution_count": 15,
   "metadata": {
    "executionInfo": {
     "elapsed": 326,
     "status": "ok",
     "timestamp": 1718854308859,
     "user": {
      "displayName": "Rachel Gao",
      "userId": "10756354987170970544"
     },
     "user_tz": 420
    },
    "id": "HdWFHQUCb_Dj"
   },
   "outputs": [
    {
     "name": "stdout",
     "output_type": "stream",
     "text": [
      "---------- revts ----------\n",
      "93393\n",
      "revts\n",
      "0.000      28397\n",
      "2.000         98\n",
      "1.000         86\n",
      "3.000         82\n",
      "7.000         72\n",
      "           ...  \n",
      "126.067        1\n",
      "41.738         1\n",
      "740.322        1\n",
      "847.920        1\n",
      "91.192         1\n",
      "Name: count, Length: 93393, dtype: int64\n"
     ]
    }
   ],
   "source": [
    "column = \"revts\"\n",
    "\n",
    "print(\"-\" * 10, column, \"-\" * 10)\n",
    "print(link_df[column].nunique())\n",
    "print(link_df[column].value_counts())"
   ]
  },
  {
   "cell_type": "code",
   "execution_count": 16,
   "metadata": {
    "id": "Yq7oiRWhiAZb"
   },
   "outputs": [
    {
     "data": {
      "text/plain": [
       "count    304078.000000\n",
       "mean       2345.641960\n",
       "std       11783.229417\n",
       "min      -54607.000000\n",
       "25%          17.905000\n",
       "50%         188.193500\n",
       "75%        1033.800000\n",
       "max      508685.000000\n",
       "Name: revts, dtype: float64"
      ]
     },
     "execution_count": 16,
     "metadata": {},
     "output_type": "execute_result"
    }
   ],
   "source": [
    "link_df['revts'].describe()"
   ]
  },
  {
   "cell_type": "code",
   "execution_count": 17,
   "metadata": {
    "executionInfo": {
     "elapsed": 10099,
     "status": "ok",
     "timestamp": 1718854318957,
     "user": {
      "displayName": "Rachel Gao",
      "userId": "10756354987170970544"
     },
     "user_tz": 420
    },
    "id": "_qnNY_p4b1B1"
   },
   "outputs": [
    {
     "name": "stdout",
     "output_type": "stream",
     "text": [
      "Number of negative revts values: 3100\n",
      "\n",
      "Sample of negative revts values:\n",
      "        LPERMNO    srcdate     revts\n",
      "19007     76708 2018-06-30    -2.592\n",
      "263167    13196 2018-06-30    -1.263\n",
      "5524      44644 2018-06-30  -619.200\n",
      "301174    84603 2018-06-30    -1.520\n",
      "301167    84603 2018-06-30 -2086.748\n",
      "Percentage of rows with negative 'revts' values: 0.98%\n"
     ]
    }
   ],
   "source": [
    "negative_revts = link_df[link_df['revts'] < 0]\n",
    "negative_percentage = (link_df['revts'] < 0).mean() * 100\n",
    "print(f\"Number of negative revts values: {len(negative_revts)}\")\n",
    "print(\"\\nSample of negative revts values:\")\n",
    "print(negative_revts[['LPERMNO', 'srcdate', 'revts']].head())\n",
    "print(f\"Percentage of rows with negative 'revts' values: {negative_percentage:.2f}%\")"
   ]
  },
  {
   "cell_type": "markdown",
   "metadata": {},
   "source": [
    "## B2. Remove negative values - less than 1% of DF"
   ]
  },
  {
   "cell_type": "code",
   "execution_count": 18,
   "metadata": {},
   "outputs": [],
   "source": [
    "# Remove negative values\n",
    "link_df = link_df[link_df['revts'] >= 0]"
   ]
  },
  {
   "cell_type": "markdown",
   "metadata": {},
   "source": [
    "# Take another look at nulls"
   ]
  },
  {
   "cell_type": "code",
   "execution_count": 19,
   "metadata": {},
   "outputs": [
    {
     "data": {
      "image/png": "[encoded data removed]",
      "text/plain": [
       "<Figure size 1200x400 with 1 Axes>"
      ]
     },
     "metadata": {},
     "output_type": "display_data"
    }
   ],
   "source": [
    "# Count the number of nulls in each column\n",
    "null_counts = link_df.isnull().sum()\n",
    "\n",
    "# Calculate the percentage of nulls in each column\n",
    "total_rows = len(link_df)\n",
    "null_percentages = (null_counts / total_rows) * 100\n",
    "null_percentages = null_percentages.sort_values(ascending=False)\n",
    "\n",
    "# Plot the percentages as a bar plot\n",
    "null_percentages.plot(kind=\"bar\", figsize=(12, 4), color=\"skyblue\")\n",
    "plt.title(\"Percentage of Null Values in Each Column\")\n",
    "plt.xlabel(\"Columns\")\n",
    "plt.ylabel(\"Percentage of Nulls (%)\")\n",
    "plt.show()"
   ]
  },
  {
   "cell_type": "code",
   "execution_count": 20,
   "metadata": {},
   "outputs": [
    {
     "data": {
      "text/plain": [
       "ibs        75.220780\n",
       "xsgas      75.035052\n",
       "xints      74.058901\n",
       "txts       73.037564\n",
       "caxts      72.818279\n",
       "nis        72.616603\n",
       "ppents     71.976357\n",
       "ptis       70.109775\n",
       "spis       69.539966\n",
       "emps       65.815109\n",
       "cogss      63.810976\n",
       "capxs      55.055187\n",
       "oibdps     53.288612\n",
       "ops        52.513473\n",
       "dps        52.493870\n",
       "oiadps     52.480248\n",
       "ias        48.449056\n",
       "geotp      48.148702\n",
       "esubs      39.404209\n",
       "ivaeqs     37.070151\n",
       "intseg      5.105024\n",
       "soptp1      2.880277\n",
       "oelim       0.513659\n",
       "txws        0.486414\n",
       "cik         0.464818\n",
       "gsubind     0.103330\n",
       "sales       0.000332\n",
       "LPERMNO     0.000000\n",
       "sid         0.000000\n",
       "stype       0.000000\n",
       "srcdate     0.000000\n",
       "revts       0.000000\n",
       "snms        0.000000\n",
       "upds        0.000000\n",
       "conm        0.000000\n",
       "naics       0.000000\n",
       "dtype: float64"
      ]
     },
     "execution_count": 20,
     "metadata": {},
     "output_type": "execute_result"
    }
   ],
   "source": [
    "null_percentages"
   ]
  },
  {
   "cell_type": "markdown",
   "metadata": {
    "id": "fFZPxMwrjHZ7"
   },
   "source": [
    "# Review soptp1 - operating segment type\n",
    "\n",
    "Dataset is organized by segement\n"
   ]
  },
  {
   "cell_type": "markdown",
   "metadata": {
    "id": "XLrcEFXgjxCj"
   },
   "source": [
    "## C1. Fill soptp1 na with Unknown\n"
   ]
  },
  {
   "cell_type": "code",
   "execution_count": 21,
   "metadata": {},
   "outputs": [
    {
     "name": "stdout",
     "output_type": "stream",
     "text": [
      "Percentage of null values in soptp1 column: 2.88%\n"
     ]
    }
   ],
   "source": [
    "# Check the percentage of nulls in the sales column\n",
    "null_percentage = (link_df['soptp1'].isnull().sum() / len(link_df)) * 100\n",
    "print(f\"Percentage of null values in soptp1 column: {null_percentage:.2f}%\")"
   ]
  },
  {
   "cell_type": "code",
   "execution_count": 22,
   "metadata": {},
   "outputs": [],
   "source": [
    "link_df[\"soptp1\"] = link_df[\"soptp1\"].fillna(\"UNKNOWN\")"
   ]
  },
  {
   "cell_type": "markdown",
   "metadata": {
    "id": "HlMv0onVlb8S"
   },
   "source": [
    "# Review identifier codes: cik (Central Index Key)\n",
    "\n",
    "Generic column - identifier"
   ]
  },
  {
   "cell_type": "markdown",
   "metadata": {
    "id": "R9RnNahRmD8C"
   },
   "source": [
    "## D1. Fill cik with \"NO_CIK\"\n"
   ]
  },
  {
   "cell_type": "code",
   "execution_count": 23,
   "metadata": {
    "executionInfo": {
     "elapsed": 235,
     "status": "ok",
     "timestamp": 1718854321046,
     "user": {
      "displayName": "Rachel Gao",
      "userId": "10756354987170970544"
     },
     "user_tz": 420
    },
    "id": "KOWndA_4mD8C"
   },
   "outputs": [
    {
     "name": "stdout",
     "output_type": "stream",
     "text": [
      "Percentage of null values in CIK column: 0.46%\n"
     ]
    }
   ],
   "source": [
    "# Check the percentage of nulls in the CIK column\n",
    "null_percentage = (link_df['cik'].isnull().sum() / len(link_df)) * 100\n",
    "print(f\"Percentage of null values in CIK column: {null_percentage:.2f}%\")"
   ]
  },
  {
   "cell_type": "code",
   "execution_count": 24,
   "metadata": {},
   "outputs": [],
   "source": [
    "# Fill with a placeholder value\n",
    "link_df['cik'] = link_df['cik'].fillna('NO_CIK')"
   ]
  },
  {
   "cell_type": "code",
   "execution_count": 25,
   "metadata": {},
   "outputs": [
    {
     "name": "stdout",
     "output_type": "stream",
     "text": [
      "Percentage of null values in CIK column: 0.00%\n"
     ]
    }
   ],
   "source": [
    "# Check the percentage of nulls in the CIK column\n",
    "null_percentage = (link_df['cik'].isnull().sum() / len(link_df)) * 100\n",
    "print(f\"Percentage of null values in CIK column: {null_percentage:.2f}%\")"
   ]
  },
  {
   "cell_type": "markdown",
   "metadata": {
    "id": "jQV033grnoPx"
   },
   "source": [
    "# Review geotp - Geographic Segment Type\n"
   ]
  },
  {
   "cell_type": "markdown",
   "metadata": {
    "id": "tViC-J39noPx"
   },
   "source": [
    "## E1. geotp - change codes to readable"
   ]
  },
  {
   "cell_type": "code",
   "execution_count": 26,
   "metadata": {},
   "outputs": [
    {
     "name": "stdout",
     "output_type": "stream",
     "text": [
      "geotp\n",
      "UNKNOWN         144917\n",
      "NON-DOMESTIC    101495\n",
      "DOMESTIC         54566\n",
      "Name: count, dtype: int64\n"
     ]
    }
   ],
   "source": [
    "# Create a mapping dictionary for geotp\n",
    "geotp_mapping = {\n",
    "    2.0: \"DOMESTIC\",\n",
    "    3.0: \"NON-DOMESTIC\",\n",
    "    np.nan: \"UNKNOWN\"\n",
    "}\n",
    "\n",
    "# Apply the mapping to the geotp column\n",
    "link_df[\"geotp\"] = link_df[\"geotp\"].map(geotp_mapping).fillna(\"UNKNOWN\")\n",
    "\n",
    "# Check the unique values in the geotp column to verify the changes\n",
    "print(link_df[\"geotp\"].value_counts(dropna=False))"
   ]
  },
  {
   "cell_type": "code",
   "execution_count": 27,
   "metadata": {},
   "outputs": [
    {
     "name": "stdout",
     "output_type": "stream",
     "text": [
      "Percentage of null values in geotp column: 0.00%\n"
     ]
    }
   ],
   "source": [
    "# Check the percentage of nulls in the geotp column\n",
    "null_percentage = (link_df['geotp'].isnull().sum() / len(link_df)) * 100\n",
    "print(f\"Percentage of null values in geotp column: {null_percentage:.2f}%\")"
   ]
  },
  {
   "cell_type": "markdown",
   "metadata": {
    "id": "-ymMf2NPJs21"
   },
   "source": [
    "# Take another look at the null analysis\n"
   ]
  },
  {
   "cell_type": "code",
   "execution_count": 28,
   "metadata": {
    "colab": {
     "base_uri": "https://localhost:8080/",
     "height": 493
    },
    "executionInfo": {
     "elapsed": 1313,
     "status": "ok",
     "timestamp": 1718854324107,
     "user": {
      "displayName": "Rachel Gao",
      "userId": "10756354987170970544"
     },
     "user_tz": 420
    },
    "id": "qKAJQ25mJs3A",
    "outputId": "466e3566-09a6-427a-a1df-61b98a37abb7"
   },
   "outputs": [
    {
     "data": {
      "image/png": "[encoded data removed]",
      "text/plain": [
       "<Figure size 1200x400 with 1 Axes>"
      ]
     },
     "metadata": {},
     "output_type": "display_data"
    }
   ],
   "source": [
    "# Count the number of nulls in each column\n",
    "null_counts = link_df.isnull().sum()\n",
    "\n",
    "# Calculate the percentage of nulls in each column\n",
    "total_rows = len(link_df)\n",
    "null_percentages = (null_counts / total_rows) * 100\n",
    "null_percentages = null_percentages.sort_values(ascending=False)\n",
    "\n",
    "# Plot the percentages as a bar plot\n",
    "ax = null_percentages.plot(kind=\"bar\", figsize=(12, 4), color=\"skyblue\")\n",
    "plt.title(\"Percentage of Null Values in Each Column\")\n",
    "plt.xlabel(\"Columns\")\n",
    "plt.ylim(0, max(null_percentages.values) + 10)\n",
    "plt.ylabel(\"Percentage of Nulls (%)\")\n",
    "\n",
    "# Annotate the bars with the percentage values\n",
    "for i, percentage in enumerate(null_percentages):\n",
    "    if percentage != 0:\n",
    "        ax.annotate(\n",
    "            f\"{percentage:.0f}%\",\n",
    "            xy=(i, percentage),\n",
    "            xytext=(0, 3),\n",
    "            textcoords=\"offset points\",\n",
    "            ha=\"center\",\n",
    "            va=\"bottom\",\n",
    "            color=\"red\",\n",
    "        )\n",
    "\n",
    "plt.show()"
   ]
  },
  {
   "cell_type": "code",
   "execution_count": 29,
   "metadata": {},
   "outputs": [
    {
     "data": {
      "text/plain": [
       "ibs        75.220780\n",
       "xsgas      75.035052\n",
       "xints      74.058901\n",
       "txts       73.037564\n",
       "caxts      72.818279\n",
       "nis        72.616603\n",
       "ppents     71.976357\n",
       "ptis       70.109775\n",
       "spis       69.539966\n",
       "emps       65.815109\n",
       "cogss      63.810976\n",
       "capxs      55.055187\n",
       "oibdps     53.288612\n",
       "ops        52.513473\n",
       "dps        52.493870\n",
       "oiadps     52.480248\n",
       "ias        48.449056\n",
       "esubs      39.404209\n",
       "ivaeqs     37.070151\n",
       "intseg      5.105024\n",
       "oelim       0.513659\n",
       "txws        0.486414\n",
       "gsubind     0.103330\n",
       "sales       0.000332\n",
       "sid         0.000000\n",
       "stype       0.000000\n",
       "LPERMNO     0.000000\n",
       "revts       0.000000\n",
       "srcdate     0.000000\n",
       "upds        0.000000\n",
       "snms        0.000000\n",
       "geotp       0.000000\n",
       "soptp1      0.000000\n",
       "conm        0.000000\n",
       "cik         0.000000\n",
       "naics       0.000000\n",
       "dtype: float64"
      ]
     },
     "execution_count": 29,
     "metadata": {},
     "output_type": "execute_result"
    }
   ],
   "source": [
    "null_percentages"
   ]
  },
  {
   "cell_type": "markdown",
   "metadata": {
    "id": "YdaRMD0LLcA7"
   },
   "source": [
    "# Review naics: North American Industry Classification System Code\n",
    "\n",
    "North American Industry Classification System Code (NAICS) is an 6-character code used to group companies with similar products or services.\n",
    "\n",
    "NAICS is a hierachical code, containing up to six digits: The first two fields, NAICS sectors, designate general categories of economic activity, the third field, sub-sector, further defines the sector, the fourth field is the industry group, the fifth field is the NAICS industry, and the sixth field represents the national industry (a zero in the 6th digit generally indicates that the NAICS industry and teh country industry are the same).\n"
   ]
  },
  {
   "cell_type": "markdown",
   "metadata": {
    "id": "i0UhjNHQMjDu"
   },
   "source": [
    "## F1. Fill naics na with 999999 as \"Unknown\"\n"
   ]
  },
  {
   "cell_type": "code",
   "execution_count": 30,
   "metadata": {
    "executionInfo": {
     "elapsed": 2,
     "status": "ok",
     "timestamp": 1718854324107,
     "user": {
      "displayName": "Rachel Gao",
      "userId": "10756354987170970544"
     },
     "user_tz": 420
    },
    "id": "dX8B4fcNNGXd"
   },
   "outputs": [],
   "source": [
    "link_df[\"naics\"] = link_df[\"naics\"].fillna(\"999999\")"
   ]
  },
  {
   "cell_type": "markdown",
   "metadata": {
    "id": "WAtBKPuQNSib"
   },
   "source": [
    "## F2. Split naics to two columns ['NAICS_Sector', 'NAICS_Secondary']\n"
   ]
  },
  {
   "cell_type": "code",
   "execution_count": 31,
   "metadata": {
    "executionInfo": {
     "elapsed": 2172,
     "status": "ok",
     "timestamp": 1718854326277,
     "user": {
      "displayName": "Rachel Gao",
      "userId": "10756354987170970544"
     },
     "user_tz": 420
    },
    "id": "R_Xr5i9zOqqo"
   },
   "outputs": [],
   "source": [
    "link_df[\"NAICS_Sector\"] = link_df[\"naics\"].astype(str).str[:2]\n",
    "link_df[\"NAICS_Secondary\"] = link_df[\"naics\"].astype(str).str[2:]"
   ]
  },
  {
   "cell_type": "code",
   "execution_count": 32,
   "metadata": {
    "colab": {
     "base_uri": "https://localhost:8080/"
    },
    "executionInfo": {
     "elapsed": 868,
     "status": "ok",
     "timestamp": 1718854327143,
     "user": {
      "displayName": "Rachel Gao",
      "userId": "10756354987170970544"
     },
     "user_tz": 420
    },
    "id": "2UVdb4TcNSic",
    "outputId": "53c81e29-e05d-4fad-dd47-2eaec26b8f8f"
   },
   "outputs": [
    {
     "name": "stdout",
     "output_type": "stream",
     "text": [
      "---------- NAICS_Sector ----------\n",
      "23\n",
      "NAICS_Sector\n",
      "33    78334\n",
      "32    40870\n",
      "52    39190\n",
      "51    33198\n",
      "21    16955\n",
      "53    14117\n",
      "31    11022\n",
      "54     9766\n",
      "42     8165\n",
      "48     7234\n",
      "22     6828\n",
      "56     6022\n",
      "45     5274\n",
      "23     5030\n",
      "72     4383\n",
      "62     3301\n",
      "44     3230\n",
      "61     2343\n",
      "99     1862\n",
      "71     1836\n",
      "11      974\n",
      "81      558\n",
      "49      486\n",
      "Name: count, dtype: int64\n",
      "---------- NAICS_Secondary ----------\n",
      "512\n",
      "NAICS_Secondary\n",
      "2110    17026\n",
      "5414    12298\n",
      "8210     9696\n",
      "1120     8593\n",
      "4413     8467\n",
      "        ...  \n",
      "35          3\n",
      "1419        3\n",
      "229         3\n",
      "1940        2\n",
      "999         1\n",
      "Name: count, Length: 512, dtype: int64\n"
     ]
    }
   ],
   "source": [
    "for column in [\"NAICS_Sector\", \"NAICS_Secondary\"]:\n",
    "    print(\"-\" * 10, column, \"-\" * 10)\n",
    "    print(link_df[column].nunique())\n",
    "    print(link_df[column].value_counts())"
   ]
  },
  {
   "cell_type": "markdown",
   "metadata": {
    "id": "oszoTeXHQGLp"
   },
   "source": [
    "## F3. Clean-up the NAICS sector column to readable format\n",
    "\n",
    "https://www.census.gov/naics/reference_files_tools/2022_NAICS_Manual.pdf\n"
   ]
  },
  {
   "cell_type": "code",
   "execution_count": 33,
   "metadata": {
    "executionInfo": {
     "elapsed": 3296,
     "status": "ok",
     "timestamp": 1718854330437,
     "user": {
      "displayName": "Rachel Gao",
      "userId": "10756354987170970544"
     },
     "user_tz": 420
    },
    "id": "Ctye7VYCQLjj"
   },
   "outputs": [],
   "source": [
    "sector_dict = {\n",
    "    \"10\": \"Metal Mining\",\n",
    "    \"11\": \"Agriculture, Forestry, Fishing and Hunting\",\n",
    "    \"21\": \"Mining, Quarrying, and Oil and Gas Extraction\",\n",
    "    \"22\": \"Utilities\",\n",
    "    \"23\": \"Construction\",\n",
    "    \"31\": \"Manufacturing\",\n",
    "    \"32\": \"Manufacturing\",\n",
    "    \"33\": \"Manufacturing\",\n",
    "    \"42\": \"Wholesale Trade\",\n",
    "    \"44\": \"Retail Trade\",\n",
    "    \"45\": \"Retail Trade\",\n",
    "    \"48\": \"Transportation and Warehousing\",\n",
    "    \"49\": \"Transportation and Warehousing\",\n",
    "    \"51\": \"Information\",\n",
    "    \"52\": \"Finance and Insurance\",\n",
    "    \"53\": \"Real Estate and Rental and Leasing\",\n",
    "    \"54\": \"Professional, Scientific, and Technical Services\",\n",
    "    \"55\": \"Management of Companies and Enterprises\",\n",
    "    \"56\": \"Administrative and Support and Waste Management and Remediation Services\",\n",
    "    \"61\": \"Educational Services\",\n",
    "    \"62\": \"Health Care and Social Assistance\",\n",
    "    \"67\": \"Holding And Other Investment Offices\",\n",
    "    \"71\": \"Arts, Entertainment, and Recreation\",\n",
    "    \"72\": \"Accommodation and Food Services\",\n",
    "    \"73\": \"Business Services\",\n",
    "    \"81\": \"Other Services (except Public Administration)\",\n",
    "    \"92\": \"Public Administration\",\n",
    "    \"99\": \"Unknown\",\n",
    "}\n",
    "\n",
    "link_df[\"NAICS_Sector_Name\"] = link_df[\"NAICS_Sector\"].replace(sector_dict)"
   ]
  },
  {
   "cell_type": "code",
   "execution_count": 34,
   "metadata": {
    "colab": {
     "base_uri": "https://localhost:8080/"
    },
    "executionInfo": {
     "elapsed": 4,
     "status": "ok",
     "timestamp": 1718854330437,
     "user": {
      "displayName": "Rachel Gao",
      "userId": "10756354987170970544"
     },
     "user_tz": 420
    },
    "id": "ah-Od3UHRAPs",
    "outputId": "6665976e-4d0d-4f5f-a900-874b6c7aad5e"
   },
   "outputs": [
    {
     "name": "stdout",
     "output_type": "stream",
     "text": [
      "NAICS_Sector_Name\n",
      "Manufacturing                                                               130226\n",
      "Finance and Insurance                                                        39190\n",
      "Information                                                                  33198\n",
      "Mining, Quarrying, and Oil and Gas Extraction                                16955\n",
      "Real Estate and Rental and Leasing                                           14117\n",
      "Professional, Scientific, and Technical Services                              9766\n",
      "Retail Trade                                                                  8504\n",
      "Wholesale Trade                                                               8165\n",
      "Transportation and Warehousing                                                7720\n",
      "Utilities                                                                     6828\n",
      "Administrative and Support and Waste Management and Remediation Services      6022\n",
      "Construction                                                                  5030\n",
      "Accommodation and Food Services                                               4383\n",
      "Health Care and Social Assistance                                             3301\n",
      "Educational Services                                                          2343\n",
      "Unknown                                                                       1862\n",
      "Arts, Entertainment, and Recreation                                           1836\n",
      "Agriculture, Forestry, Fishing and Hunting                                     974\n",
      "Other Services (except Public Administration)                                  558\n",
      "Name: count, dtype: int64\n"
     ]
    }
   ],
   "source": [
    "print(link_df[\"NAICS_Sector_Name\"].value_counts())"
   ]
  },
  {
   "cell_type": "code",
   "execution_count": 35,
   "metadata": {
    "colab": {
     "base_uri": "https://localhost:8080/",
     "height": 547
    },
    "executionInfo": {
     "elapsed": 2560,
     "status": "ok",
     "timestamp": 1718854332995,
     "user": {
      "displayName": "Rachel Gao",
      "userId": "10756354987170970544"
     },
     "user_tz": 420
    },
    "id": "XVZi0gC0ThzM",
    "outputId": "644d6f12-aa39-4ed6-b526-2b32e73e41ae"
   },
   "outputs": [
    {
     "data": {
      "image/png": "[encoded data removed]",
      "text/plain": [
       "<Figure size 1000x600 with 1 Axes>"
      ]
     },
     "metadata": {},
     "output_type": "display_data"
    }
   ],
   "source": [
    "# Calculate the category counts and sort them in descending order\n",
    "category_counts = link_df[\"NAICS_Sector_Name\"].value_counts().sort_values(ascending=False)\n",
    "\n",
    "# Plot the counts distribution\n",
    "plt.figure(figsize=(10, 6))\n",
    "sns.countplot(data=link_df, y=\"NAICS_Sector_Name\", order=category_counts.index)\n",
    "plt.title(\"Distribution of NAICS_Sector_Name\")\n",
    "plt.xlabel(\"Number of Records\")\n",
    "plt.ylabel(\"NAICS_Sector_Name\")\n",
    "\n",
    "# Annotate the bars with the count values\n",
    "for i, count in enumerate(category_counts):\n",
    "    plt.text(count, i, f\"{count}\", ha=\"left\", va=\"center\", color=\"black\")\n",
    "\n",
    "plt.show()"
   ]
  },
  {
   "cell_type": "markdown",
   "metadata": {},
   "source": [
    "# Review upds - Update codes"
   ]
  },
  {
   "cell_type": "markdown",
   "metadata": {},
   "source": [
    "## G1. change codes to readable format\n",
    "\n",
    "This item contains the code that identifies the updated status of data for the period for the industry segment. It consists of one of the following one-character numeric codes\n",
    "\n",
    "Update Code 2 on annual updates indicates:\n",
    "\n",
    "- Company has suspended trading and only partial financial data is available\n",
    "- Red Herring filings\n",
    "- Company is undergoing accounting review and they may issue only newswire information for successive periods until the accounts are in order\n",
    "- Source is a newswire and/or incomplete financials information\n",
    "\n",
    "Update Code 3 on annual updates indicates:\n",
    "\n",
    "- 10K and/or an annual report is used for an update and historically no additional data is obtained from other sources.\n",
    "- A year has been updated with a preliminary source and there is an indication that the final source will not be available (for example, when a company is de-listed from the exchange and stops filing 10Ks.)\n",
    "- Preliminary updates will be finalized six months after the fiscal year end for U.S. companies (nine months after the fiscal year end for ADR companies), even if additional sources are not received.\n",
    "- An update is being done six months after the company's fiscal year end for domestic American companies (nine months for ADR companies) even though additional data is historically obtained from a source not available in the current year."
   ]
  },
  {
   "cell_type": "code",
   "execution_count": 36,
   "metadata": {},
   "outputs": [
    {
     "name": "stdout",
     "output_type": "stream",
     "text": [
      "---------- upds ----------\n",
      "2\n",
      "upds\n",
      "3    300933\n",
      "2        45\n",
      "Name: count, dtype: int64\n"
     ]
    }
   ],
   "source": [
    "column = \"upds\"\n",
    "\n",
    "print(\"-\" * 10, column, \"-\" * 10)\n",
    "print(link_df[column].nunique())\n",
    "print(link_df[column].value_counts())"
   ]
  },
  {
   "cell_type": "code",
   "execution_count": 37,
   "metadata": {},
   "outputs": [
    {
     "name": "stdout",
     "output_type": "stream",
     "text": [
      "Percentage of null values in upds column: 0.00%\n"
     ]
    }
   ],
   "source": [
    "# Check the percentage of nulls in the upds column\n",
    "null_percentage = (link_df['upds'].isnull().sum() / len(link_df)) * 100\n",
    "print(f\"Percentage of null values in upds column: {null_percentage:.2f}%\")"
   ]
  },
  {
   "cell_type": "code",
   "execution_count": 38,
   "metadata": {},
   "outputs": [
    {
     "name": "stdout",
     "output_type": "stream",
     "text": [
      "upds\n",
      "FINAL_DATA           300933\n",
      "PRE-LIMINARY_DATA        45\n",
      "Name: count, dtype: int64\n"
     ]
    }
   ],
   "source": [
    "# Create a mapping dictionary for upds\n",
    "upds_mapping = {\n",
    "    3: \"FINAL_DATA\",\n",
    "    2: \"PRE-LIMINARY_DATA\",\n",
    "    np.nan: \"UNKNOWN\"\n",
    "}\n",
    "\n",
    "# Apply the mapping to the upds column\n",
    "link_df[\"upds\"] = link_df[\"upds\"].map(upds_mapping).fillna(\"UNKNOWN\")\n",
    "\n",
    "# Check the unique values in the upds column to verify the changes\n",
    "print(link_df[\"upds\"].value_counts(dropna=False))"
   ]
  },
  {
   "cell_type": "markdown",
   "metadata": {},
   "source": [
    "## G2. Only keep rows with reliable data"
   ]
  },
  {
   "cell_type": "code",
   "execution_count": 39,
   "metadata": {},
   "outputs": [
    {
     "name": "stdout",
     "output_type": "stream",
     "text": [
      "num_records_removed:  45\n",
      "num_records_kept:  300933\n"
     ]
    }
   ],
   "source": [
    "og_len = len(link_df)\n",
    "link_df = link_df[link_df[\"upds\"] == \"FINAL_DATA\"].reset_index(drop=True)\n",
    "new_len = len(link_df)\n",
    "print(\"num_records_removed: \", og_len - new_len)\n",
    "print(\"num_records_kept: \", new_len)"
   ]
  },
  {
   "cell_type": "markdown",
   "metadata": {},
   "source": [
    "# Review gsubind: GICS Sub-Industries Variable Name\n",
    "\n",
    "This item represents the fourth level in the hierarchy of the Global Industry Classification Standard (GICS). The Sub-industry is represented by all 8 digits of the total GICS code."
   ]
  },
  {
   "cell_type": "code",
   "execution_count": 40,
   "metadata": {},
   "outputs": [
    {
     "name": "stdout",
     "output_type": "stream",
     "text": [
      "---------- gsubind ----------\n",
      "177\n",
      "gsubind\n",
      "40101015.0    13099\n",
      "35201010.0    12296\n",
      "45103010.0    10683\n",
      "35101010.0     8399\n",
      "20106020.0     7930\n",
      "              ...  \n",
      "60101050.0       26\n",
      "20304020.0       18\n",
      "25503010.0        5\n",
      "25503020.0        4\n",
      "60102040.0        2\n",
      "Name: count, Length: 177, dtype: int64\n"
     ]
    }
   ],
   "source": [
    "column = \"gsubind\"\n",
    "\n",
    "print(\"-\" * 10, column, \"-\" * 10)\n",
    "print(link_df[column].nunique())\n",
    "print(link_df[column].value_counts())"
   ]
  },
  {
   "cell_type": "code",
   "execution_count": 41,
   "metadata": {},
   "outputs": [
    {
     "name": "stdout",
     "output_type": "stream",
     "text": [
      "Percentage of null values in gsubind column: 0.10%\n"
     ]
    }
   ],
   "source": [
    "# Check the percentage of nulls in the gsubind column\n",
    "null_percentage = (link_df['gsubind'].isnull().sum() / len(link_df)) * 100\n",
    "print(f\"Percentage of null values in gsubind column: {null_percentage:.2f}%\")"
   ]
  },
  {
   "cell_type": "markdown",
   "metadata": {},
   "source": [
    "## H1. Fill gsubind na with 999999 as \"Unknown\""
   ]
  },
  {
   "cell_type": "code",
   "execution_count": 42,
   "metadata": {},
   "outputs": [],
   "source": [
    "link_df[\"gsubind\"] = link_df[\"gsubind\"].fillna(\"999999\")"
   ]
  },
  {
   "cell_type": "markdown",
   "metadata": {},
   "source": [
    "## H2. Split naics to two columns ['GICS_Sector', 'GICS_Secondary']"
   ]
  },
  {
   "cell_type": "code",
   "execution_count": 43,
   "metadata": {},
   "outputs": [],
   "source": [
    "link_df[\"GICS_Sector\"] = link_df[\"gsubind\"].astype(str).str[:2]\n",
    "link_df[\"GICS_Secondary\"] = link_df[\"gsubind\"].astype(str).str[2:]"
   ]
  },
  {
   "cell_type": "code",
   "execution_count": 44,
   "metadata": {},
   "outputs": [
    {
     "name": "stdout",
     "output_type": "stream",
     "text": [
      "---------- GICS_Sector ----------\n",
      "12\n",
      "GICS_Sector\n",
      "20    49219\n",
      "45    45277\n",
      "40    40025\n",
      "35    38779\n",
      "25    35167\n",
      "15    25696\n",
      "10    17759\n",
      "50    16348\n",
      "30    13605\n",
      "60    11666\n",
      "55     7081\n",
      "99      311\n",
      "Name: count, dtype: int64\n",
      "---------- GICS_Secondary ----------\n",
      "79\n",
      "GICS_Secondary\n",
      "101010.0    29066\n",
      "203010.0    18516\n",
      "103010.0    18450\n",
      "201010.0    16691\n",
      "202010.0    15855\n",
      "            ...  \n",
      "101070.0       85\n",
      "101080.0       75\n",
      "304020.0       18\n",
      "503010.0        5\n",
      "503020.0        4\n",
      "Name: count, Length: 79, dtype: int64\n"
     ]
    }
   ],
   "source": [
    "for column in [\"GICS_Sector\", \"GICS_Secondary\"]:\n",
    "    print(\"-\" * 10, column, \"-\" * 10)\n",
    "    print(link_df[column].nunique())\n",
    "    print(link_df[column].value_counts())"
   ]
  },
  {
   "cell_type": "markdown",
   "metadata": {},
   "source": [
    "## H3. Clean-up the GICS sector column to readable format\n",
    "\n",
    "https://www.spglobal.com/marketintelligence/en/documents/112727-gics-mapbook_2018_v3_letter_digitalspreads.pdf"
   ]
  },
  {
   "cell_type": "code",
   "execution_count": 45,
   "metadata": {},
   "outputs": [],
   "source": [
    "gics_sector_dict = {\n",
    "    \"10\": \"Energy\",\n",
    "    \"15\": \"Materials\",\n",
    "    \"20\": \"Industrials\",\n",
    "    \"25\": \"Consumer Discretionary\",\n",
    "    \"30\": \"Consumer Staples\",\n",
    "    \"35\": \"Health Care\",\n",
    "    \"40\": \"Financials\",\n",
    "    \"45\": \"Information Technology\",\n",
    "    \"50\": \"Communication Services\",\n",
    "    \"55\": \"Utilities\",\n",
    "    \"60\": \"Real Estate\",\n",
    "    \"99\": \"Unknown\"  # Added for unknown sectors\n",
    "}"
   ]
  },
  {
   "cell_type": "code",
   "execution_count": 46,
   "metadata": {},
   "outputs": [],
   "source": [
    "link_df[\"GICS_Sector_Name\"] = link_df[\"GICS_Sector\"].replace(gics_sector_dict)"
   ]
  },
  {
   "cell_type": "code",
   "execution_count": 47,
   "metadata": {},
   "outputs": [
    {
     "name": "stdout",
     "output_type": "stream",
     "text": [
      "GICS_Sector_Name\n",
      "Industrials               49219\n",
      "Information Technology    45277\n",
      "Financials                40025\n",
      "Health Care               38779\n",
      "Consumer Discretionary    35167\n",
      "Materials                 25696\n",
      "Energy                    17759\n",
      "Communication Services    16348\n",
      "Consumer Staples          13605\n",
      "Real Estate               11666\n",
      "Utilities                  7081\n",
      "Unknown                     311\n",
      "Name: count, dtype: int64\n"
     ]
    }
   ],
   "source": [
    "print(link_df[\"GICS_Sector_Name\"].value_counts())"
   ]
  },
  {
   "cell_type": "code",
   "execution_count": 48,
   "metadata": {},
   "outputs": [
    {
     "data": {
      "image/png": "[encoded data removed]",
      "text/plain": [
       "<Figure size 1000x600 with 1 Axes>"
      ]
     },
     "metadata": {},
     "output_type": "display_data"
    }
   ],
   "source": [
    "# Calculate the category counts and sort them in descending order\n",
    "category_counts = link_df[\"GICS_Sector_Name\"].value_counts().sort_values(ascending=False)\n",
    "\n",
    "# Plot the counts distribution\n",
    "plt.figure(figsize=(10, 6))\n",
    "sns.countplot(data=link_df, y=\"GICS_Sector_Name\", order=category_counts.index)\n",
    "plt.title(\"Distribution of GICS_Sector_Name\")\n",
    "plt.xlabel(\"Number of Records\")\n",
    "plt.ylabel(\"GICS_Sector_Name\")\n",
    "\n",
    "# Annotate the bars with the count values\n",
    "for i, count in enumerate(category_counts):\n",
    "    plt.text(count, i, f\"{count}\", ha=\"left\", va=\"center\", color=\"black\")\n",
    "\n",
    "plt.show()"
   ]
  },
  {
   "cell_type": "markdown",
   "metadata": {
    "id": "hmiat75eXFY4"
   },
   "source": [
    "# Review all remaining value related columns.\n"
   ]
  },
  {
   "cell_type": "markdown",
   "metadata": {},
   "source": [
    "## I2. Forward fill prep"
   ]
  },
  {
   "cell_type": "markdown",
   "metadata": {},
   "source": [
    "### Check to see if negative values should be there"
   ]
  },
  {
   "cell_type": "code",
   "execution_count": 49,
   "metadata": {},
   "outputs": [],
   "source": [
    "def to_numeric_with_errors(df, columns):\n",
    "    for col in columns:\n",
    "        if col in df.columns:\n",
    "            df[col] = pd.to_numeric(df[col], errors='coerce')\n",
    "    return df"
   ]
  },
  {
   "cell_type": "code",
   "execution_count": 50,
   "metadata": {},
   "outputs": [
    {
     "name": "stdout",
     "output_type": "stream",
     "text": [
      "Checking columns that can have negative values:\n",
      "ibs: 30823 negative values (41.33%)\n",
      "xsgas: 548 negative values (0.73%)\n",
      "xints: 1319 negative values (1.69%)\n",
      "txts: 14014 negative values (17.27%)\n",
      "nis: 33749 negative values (40.96%)\n",
      "ptis: 35050 negative values (38.96%)\n",
      "oibdps: 41611 negative values (29.60%)\n",
      "ops: 49572 negative values (34.69%)\n",
      "oiadps: 49506 negative values (34.62%)\n",
      "oelim: 6 negative values (0.00%)\n",
      "spis: 54431 negative values (59.38%)\n",
      "\n",
      "Checking columns that should not have negative values:\n",
      "Warning: caxts has 720 negative values (0.88%)\n",
      "Warning: ppents has 113 negative values (0.13%)\n",
      "emps: No negative values (as expected)\n",
      "Warning: cogss has 2967 negative values (2.72%)\n",
      "Warning: capxs has 434 negative values (0.32%)\n",
      "Warning: dps has 558 negative values (0.39%)\n",
      "Warning: ias has 2629 negative values (1.69%)\n",
      "Warning: esubs has 6569 negative values (3.60%)\n",
      "Warning: ivaeqs has 160 negative values (0.08%)\n",
      "Warning: intseg has 783 negative values (0.27%)\n",
      "Warning: txws has 6 negative values (0.00%)\n",
      "gsubind: No negative values (as expected)\n",
      "Warning: sales has 2708 negative values (0.90%)\n"
     ]
    }
   ],
   "source": [
    "# Columns that can potentially have negative values\n",
    "can_be_negative = [\n",
    "    'ibs', 'xsgas', 'xints', 'txts', 'nis',\n",
    "    'ptis','oibdps', 'ops', 'oiadps', 'oelim', 'spis',\n",
    "]\n",
    "\n",
    "# Columns that should not have negative values\n",
    "should_be_positive = [\n",
    "    'caxts', 'ppents', 'emps', 'cogss', 'capxs', 'dps', 'ias', 'esubs', \n",
    "    'ivaeqs', 'intseg', 'txws', 'gsubind', 'sales'\n",
    "]\n",
    "\n",
    "# Convert all relevant columns to numeric\n",
    "all_columns_to_check = can_be_negative + should_be_positive\n",
    "link_df = to_numeric_with_errors(link_df, all_columns_to_check)\n",
    "\n",
    "def check_negatives(df, column_list, expected_negative=True):\n",
    "    for col in column_list:\n",
    "        if col in df.columns:\n",
    "            neg_count = (df[col] < 0).sum()\n",
    "            neg_percentage = (neg_count / df[col].count()) * 100\n",
    "            if expected_negative:\n",
    "                print(f\"{col}: {neg_count} negative values ({neg_percentage:.2f}%)\")\n",
    "            else:\n",
    "                if neg_count > 0:\n",
    "                    print(f\"Warning: {col} has {neg_count} negative values ({neg_percentage:.2f}%)\")\n",
    "                else:\n",
    "                    print(f\"{col}: No negative values (as expected)\")\n",
    "        else:\n",
    "            print(f\"{col} not found in the dataframe\")\n",
    "\n",
    "print(\"Checking columns that can have negative values:\")\n",
    "check_negatives(link_df, can_be_negative)\n",
    "\n",
    "print(\"\\nChecking columns that should not have negative values:\")\n",
    "check_negatives(link_df, should_be_positive, expected_negative=False)"
   ]
  },
  {
   "cell_type": "code",
   "execution_count": 51,
   "metadata": {},
   "outputs": [
    {
     "name": "stdout",
     "output_type": "stream",
     "text": [
      "Replaced negative values with zero in caxts\n",
      "Replaced negative values with zero in ppents\n",
      "Replaced negative values with zero in cogss\n",
      "Replaced negative values with zero in capxs\n",
      "Replaced negative values with zero in dps\n",
      "Replaced negative values with zero in ias\n",
      "Replaced negative values with zero in esubs\n",
      "Replaced negative values with zero in ivaeqs\n",
      "Replaced negative values with zero in intseg\n",
      "Replaced negative values with zero in txws\n",
      "Replaced negative values with zero in sales\n"
     ]
    }
   ],
   "source": [
    "# # Columns to check and potentially modify\n",
    "# columns_to_check = ['caxts', 'ppents', 'cogss', 'capxs', 'dps', \n",
    "#                     'ias', 'esubs', 'ivaeqs', 'intseg', 'txws', 'sales']\n",
    "\n",
    "# for col in columns_to_check:    \n",
    "#         # Replace negative values with zero for columns with less than 5% negative values\n",
    "#         neg_percentage = (link_df[col] < 0).mean() * 100\n",
    "#         if neg_percentage < 5:\n",
    "#             link_df[col] = link_df[col].clip(lower=0)\n",
    "#             print(f\"Replaced negative values with zero in {col}\")\n",
    "#         else:\n",
    "#             print(f\"Column {col} has {neg_percentage:.2f}% negative values. Further investigation recommended.\")"
   ]
  },
  {
   "cell_type": "code",
   "execution_count": 52,
   "metadata": {},
   "outputs": [
    {
     "data": {
      "text/plain": [
       "LPERMNO                                    29612\n",
       "stype                                     BUSSEG\n",
       "sid                                            4\n",
       "capxs                                        0.0\n",
       "caxts                                        NaN\n",
       "cogss                                        NaN\n",
       "dps                                          0.0\n",
       "emps                                         NaN\n",
       "esubs                                        0.0\n",
       "ias                                          0.0\n",
       "ibs                                          NaN\n",
       "intseg                                       0.0\n",
       "ivaeqs                                       0.0\n",
       "nis                                          NaN\n",
       "oelim                                        0.0\n",
       "oiadps                                     37.98\n",
       "oibdps                                     37.98\n",
       "ops                                        37.98\n",
       "ppents                                       NaN\n",
       "ptis                                         NaN\n",
       "revts                                        0.0\n",
       "sales                                        0.0\n",
       "spis                                         NaN\n",
       "txts                                         NaN\n",
       "txws                                         0.0\n",
       "xints                                        NaN\n",
       "xsgas                                        NaN\n",
       "srcdate                      2018-06-30 00:00:00\n",
       "upds                                  FINAL_DATA\n",
       "geotp                                    UNKNOWN\n",
       "snms                         Corporate and Other\n",
       "soptp1                                   PD_SRVC\n",
       "conm                 APPLIED INDUSTRIAL TECH INC\n",
       "cik                                     109563.0\n",
       "naics                                     423830\n",
       "gsubind                               20107010.0\n",
       "NAICS_Sector                                  42\n",
       "NAICS_Secondary                             3830\n",
       "NAICS_Sector_Name                Wholesale Trade\n",
       "GICS_Sector                                   20\n",
       "GICS_Secondary                          107010.0\n",
       "GICS_Sector_Name                     Industrials\n",
       "Name: 1, dtype: object"
      ]
     },
     "execution_count": 52,
     "metadata": {},
     "output_type": "execute_result"
    }
   ],
   "source": [
    "# pick an example for visual inspection\n",
    "review_idx = link_df[link_df[\"txts\"].isnull()].index[0]\n",
    "link_df[link_df[\"txts\"].isnull()].iloc[0]"
   ]
  },
  {
   "cell_type": "markdown",
   "metadata": {},
   "source": [
    "## Second drop of columns that have too many nulls"
   ]
  },
  {
   "cell_type": "code",
   "execution_count": 53,
   "metadata": {},
   "outputs": [
    {
     "data": {
      "text/plain": [
       "ibs                  75.219069\n",
       "xsgas                75.035639\n",
       "xints                74.057016\n",
       "txts                 73.039514\n",
       "caxts                72.820196\n",
       "nis                  72.618490\n",
       "ppents               71.978148\n",
       "ptis                 70.107300\n",
       "spis                 69.537405\n",
       "emps                 65.813985\n",
       "cogss                63.812875\n",
       "capxs                55.055777\n",
       "oibdps               53.288938\n",
       "ops                  52.513682\n",
       "dps                  52.494077\n",
       "oiadps               52.480452\n",
       "ias                  48.448658\n",
       "esubs                39.402458\n",
       "ivaeqs               37.068052\n",
       "intseg                5.105788\n",
       "oelim                 0.513736\n",
       "txws                  0.486487\n",
       "sales                 0.000332\n",
       "sid                   0.000000\n",
       "LPERMNO               0.000000\n",
       "stype                 0.000000\n",
       "revts                 0.000000\n",
       "srcdate               0.000000\n",
       "upds                  0.000000\n",
       "geotp                 0.000000\n",
       "snms                  0.000000\n",
       "soptp1                0.000000\n",
       "conm                  0.000000\n",
       "cik                   0.000000\n",
       "naics                 0.000000\n",
       "gsubind               0.000000\n",
       "NAICS_Sector          0.000000\n",
       "NAICS_Secondary       0.000000\n",
       "NAICS_Sector_Name     0.000000\n",
       "GICS_Sector           0.000000\n",
       "GICS_Secondary        0.000000\n",
       "GICS_Sector_Name      0.000000\n",
       "dtype: float64"
      ]
     },
     "execution_count": 53,
     "metadata": {},
     "output_type": "execute_result"
    }
   ],
   "source": [
    "# Count the number of nulls in each column\n",
    "null_counts = link_df.isnull().sum()\n",
    "\n",
    "# Calculate the percentage of nulls in each column\n",
    "total_rows = len(link_df)\n",
    "null_percentages = (null_counts / total_rows) * 100\n",
    "null_percentages = null_percentages.sort_values(ascending=False)\n",
    "null_percentages"
   ]
  },
  {
   "cell_type": "code",
   "execution_count": 54,
   "metadata": {},
   "outputs": [
    {
     "name": "stdout",
     "output_type": "stream",
     "text": [
      "num_columns_removed:  0\n",
      "num_columns_kept: 42\n"
     ]
    }
   ],
   "source": [
    "og_cols = len(link_df.columns)\n",
    "columns_to_drop = null_percentages[null_percentages > 80].index\n",
    "link_df = link_df.drop(columns=columns_to_drop)\n",
    "new_cols = len(link_df.columns)\n",
    "print(\"num_columns_removed: \", og_cols - new_cols)\n",
    "print(\"num_columns_kept:\", new_cols)"
   ]
  },
  {
   "cell_type": "markdown",
   "metadata": {},
   "source": [
    "## I3. Forward fill"
   ]
  },
  {
   "cell_type": "code",
   "execution_count": 58,
   "metadata": {},
   "outputs": [],
   "source": [
    "fill_cols = [\n",
    "    'ibs', 'nis', 'txts', 'xsgas', 'ptis', 'caxts', \n",
    "    'spis', 'ppents', 'cogss', 'emps', 'xints',\n",
    "    'oibdps', 'ops', 'oiadps','oelim',\n",
    "    'capxs', 'dps', 'ias','esubs', 'ivaeqs', \n",
    "    'intseg', 'txws', 'gsubind', 'sales',\n",
    "\n",
    "   'caxts', 'ppents', 'cogss', 'capxs', 'dps', \n",
    "   'ias', 'esubs', 'ivaeqs', 'intseg', 'txws', 'sales'\n",
    "]"
   ]
  },
  {
   "cell_type": "code",
   "execution_count": 59,
   "metadata": {},
   "outputs": [
    {
     "name": "stdout",
     "output_type": "stream",
     "text": [
      "Number of unique LPERMNOs: 6647\n",
      "               min        max\n",
      "LPERMNO                      \n",
      "10026   2018-09-30 2023-09-30\n",
      "10028   2018-12-31 2023-12-31\n",
      "10032   2018-09-30 2023-09-30\n",
      "10044   2019-02-28 2023-02-28\n",
      "10051   2018-12-31 2021-12-31\n",
      "Sample LPERMNO: 19314\n",
      "ibs        21\n",
      "nis        21\n",
      "txts       21\n",
      "xsgas      21\n",
      "ptis       21\n",
      "caxts      21\n",
      "spis       21\n",
      "ppents     21\n",
      "cogss       9\n",
      "emps       18\n",
      "xints      21\n",
      "oibdps     21\n",
      "ops        21\n",
      "oiadps     21\n",
      "oelim       0\n",
      "capxs      21\n",
      "dps        21\n",
      "ias        12\n",
      "esubs      21\n",
      "ivaeqs     21\n",
      "intseg      0\n",
      "txws        0\n",
      "gsubind     0\n",
      "sales       0\n",
      "dtype: int64\n",
      "ibs        0.875\n",
      "nis        0.875\n",
      "txts       0.875\n",
      "xsgas      0.875\n",
      "ptis       0.875\n",
      "caxts      0.875\n",
      "spis       0.875\n",
      "ppents     0.875\n",
      "cogss      0.375\n",
      "emps       0.750\n",
      "xints      0.875\n",
      "oibdps     0.875\n",
      "ops        0.875\n",
      "oiadps     0.875\n",
      "oelim      0.000\n",
      "capxs      0.875\n",
      "dps        0.875\n",
      "ias        0.500\n",
      "esubs      0.875\n",
      "ivaeqs     0.875\n",
      "intseg     0.000\n",
      "txws       0.000\n",
      "gsubind    0.000\n",
      "sales      0.000\n",
      "dtype: float64\n",
      "Number of gaps larger than a year: 4735\n",
      "       LPERMNO    srcdate date_diff\n",
      "29474    77501 2019-12-31  426 days\n",
      "43357    13926 2019-12-31  457 days\n",
      "43593    91609 2019-12-31  457 days\n",
      "43734    90542 2019-12-31  549 days\n",
      "45812    17370 2019-12-31  396 days\n",
      "Sample LPERMNO: 20751\n",
      "Nulls before ffill: 12\n",
      "Nulls after ffill: 4\n"
     ]
    }
   ],
   "source": [
    "print(f\"Number of unique LPERMNOs: {link_df['LPERMNO'].nunique()}\")\n",
    "print(link_df.groupby('LPERMNO')['srcdate'].agg(['min', 'max']).head())\n",
    "\n",
    "sample_lpermno = link_df['LPERMNO'].sample(1).iloc[0]\n",
    "print(f\"Sample LPERMNO: {sample_lpermno}\")\n",
    "\n",
    "print(link_df[link_df['LPERMNO'] == sample_lpermno][fill_cols].isnull().sum())\n",
    "print(link_df[link_df['LPERMNO'] == sample_lpermno][fill_cols].isnull().mean())\n",
    "\n",
    "link_df['date_diff'] = link_df.groupby('LPERMNO')['srcdate'].diff()\n",
    "large_gaps = link_df[link_df['date_diff'] > pd.Timedelta(days=365)]\n",
    "\n",
    "print(f\"Number of gaps larger than a year: {len(large_gaps)}\")\n",
    "print(large_gaps[['LPERMNO', 'srcdate', 'date_diff']].head())\n",
    "\n",
    "# Choose a column with a moderate number of nulls\n",
    "sample_col = 'oibdps'\n",
    "\n",
    "# Get the null counts before and after forward fill for a sample LPERMNO\n",
    "sample_lpermno = link_df['LPERMNO'].sample(1).iloc[0]\n",
    "before_ffill = link_df[link_df['LPERMNO'] == sample_lpermno][sample_col].isnull().sum()\n",
    "\n",
    "temp_series = link_df[link_df['LPERMNO'] == sample_lpermno][sample_col].ffill()\n",
    "after_ffill = temp_series.isnull().sum()\n",
    "\n",
    "print(f\"Sample LPERMNO: {sample_lpermno}\")\n",
    "print(f\"Nulls before ffill: {before_ffill}\")\n",
    "print(f\"Nulls after ffill: {after_ffill}\")"
   ]
  },
  {
   "cell_type": "code",
   "execution_count": 59,
   "metadata": {},
   "outputs": [],
   "source": [
    "# # forward fill\n",
    "# link_df['LPERMNO'] = pd.to_numeric(link_df['LPERMNO'], errors='coerce')\n",
    "\n",
    "# for col in fill_cols:\n",
    "#     link_df[col] = link_df.groupby(\"LPERMNO\")[col].ffill()"
   ]
  },
  {
   "cell_type": "code",
   "execution_count": 60,
   "metadata": {},
   "outputs": [
    {
     "name": "stdout",
     "output_type": "stream",
     "text": [
      "after forward fill\n",
      "number of nulls in column oibdps:  160364\n",
      "number of nulls in column ops:  158031\n",
      "number of nulls in column oiadps:  157931\n",
      "number of nulls in column oelim:  1546\n",
      "number of nulls in column capxs:  165681\n",
      "number of nulls in column dps:  157972\n",
      "number of nulls in column ias:  145798\n",
      "number of nulls in column esubs:  118575\n",
      "number of nulls in column ivaeqs:  111550\n",
      "number of nulls in column intseg:  15365\n",
      "number of nulls in column txws:  1464\n",
      "number of nulls in column gsubind:  0\n",
      "number of nulls in column sales:  1\n"
     ]
    }
   ],
   "source": [
    "print(\"after forward fill\")\n",
    "for col in fill_cols:\n",
    "    print(f\"number of nulls in column {col}: \", len(link_df[link_df[col].isnull()]))"
   ]
  },
  {
   "cell_type": "code",
   "execution_count": 62,
   "metadata": {},
   "outputs": [
    {
     "name": "stdout",
     "output_type": "stream",
     "text": [
      "Number of gaps larger than a year: 4735\n",
      "        LPERMNO    srcdate date_diff\n",
      "71280     10026 2020-09-30  366 days\n",
      "109394    10028 2020-12-31  366 days\n",
      "72031     10032 2020-09-30  366 days\n",
      "62088     10044 2020-02-29  366 days\n",
      "110316    10051 2020-12-31  366 days\n"
     ]
    }
   ],
   "source": [
    "link_df['date_diff'] = link_df.groupby('LPERMNO')['srcdate'].diff()\n",
    "large_gaps = link_df[link_df['date_diff'] > pd.Timedelta(days=365)]\n",
    "\n",
    "print(f\"Number of gaps larger than a year: {len(large_gaps)}\")\n",
    "print(large_gaps[['LPERMNO', 'srcdate', 'date_diff']].head())"
   ]
  },
  {
   "cell_type": "code",
   "execution_count": 63,
   "metadata": {},
   "outputs": [
    {
     "name": "stdout",
     "output_type": "stream",
     "text": [
      "oibdps: 41508 nulls remaining out of 300933 rows (13.79%)\n",
      "ops: 39465 nulls remaining out of 300933 rows (13.11%)\n",
      "oiadps: 39411 nulls remaining out of 300933 rows (13.10%)\n",
      "oelim: 743 nulls remaining out of 300933 rows (0.25%)\n",
      "capxs: 55819 nulls remaining out of 300933 rows (18.55%)\n",
      "dps: 43707 nulls remaining out of 300933 rows (14.52%)\n",
      "ias: 45556 nulls remaining out of 300933 rows (15.14%)\n",
      "esubs: 74942 nulls remaining out of 300933 rows (24.90%)\n",
      "ivaeqs: 67913 nulls remaining out of 300933 rows (22.57%)\n",
      "intseg: 1864 nulls remaining out of 300933 rows (0.62%)\n",
      "txws: 190 nulls remaining out of 300933 rows (0.06%)\n",
      "gsubind: 0 nulls remaining out of 300933 rows (0.00%)\n",
      "sales: 0 nulls remaining out of 300933 rows (0.00%)\n"
     ]
    }
   ],
   "source": [
    "# Ensure 'LPERMNO' is numeric\n",
    "link_df['LPERMNO'] = pd.to_numeric(link_df['LPERMNO'], errors='coerce')\n",
    "\n",
    "# Sort again\n",
    "link_df = link_df.sort_values(['LPERMNO', 'srcdate'])\n",
    "\n",
    "# Forward fill\n",
    "for col in fill_cols:\n",
    "    if col in link_df.columns:\n",
    "        link_df[col] = pd.to_numeric(link_df[col], errors='coerce')\n",
    "        link_df[col] = link_df.groupby('LPERMNO')[col].ffill()\n",
    "\n",
    "# Check the result\n",
    "for col in fill_cols:\n",
    "    if col in link_df.columns:\n",
    "        null_count = link_df[col].isnull().sum()\n",
    "        total_count = len(link_df)\n",
    "        print(f\"{col}: {null_count} nulls remaining out of {total_count} rows ({null_count/total_count*100:.2f}%)\")"
   ]
  },
  {
   "cell_type": "code",
   "execution_count": 64,
   "metadata": {},
   "outputs": [
    {
     "name": "stdout",
     "output_type": "stream",
     "text": [
      "confirm forward fill was complete\n"
     ]
    },
    {
     "ename": "AssertionError",
     "evalue": "",
     "output_type": "error",
     "traceback": [
      "\u001b[0;31m---------------------------------------------------------------------------\u001b[0m",
      "\u001b[0;31mAssertionError\u001b[0m                            Traceback (most recent call last)",
      "Cell \u001b[0;32mIn[64], line 3\u001b[0m\n\u001b[1;32m      1\u001b[0m \u001b[38;5;28mprint\u001b[39m(\u001b[38;5;124m\"\u001b[39m\u001b[38;5;124mconfirm forward fill was complete\u001b[39m\u001b[38;5;124m\"\u001b[39m)\n\u001b[1;32m      2\u001b[0m \u001b[38;5;28;01mfor\u001b[39;00m col \u001b[38;5;129;01min\u001b[39;00m fill_cols:\n\u001b[0;32m----> 3\u001b[0m   \u001b[38;5;28;01massert\u001b[39;00m \u001b[38;5;28mlen\u001b[39m(link_df[link_df[col]\u001b[38;5;241m.\u001b[39misnull()]) \u001b[38;5;241m==\u001b[39m \u001b[38;5;241m0\u001b[39m\n",
      "\u001b[0;31mAssertionError\u001b[0m: "
     ]
    }
   ],
   "source": [
    "print(\"confirm forward fill was complete\")\n",
    "for col in fill_cols:\n",
    "  assert len(link_df[link_df[col].isnull()]) == 0"
   ]
  },
  {
   "cell_type": "markdown",
   "metadata": {},
   "source": [
    "## Take another look at null analysis"
   ]
  },
  {
   "cell_type": "code",
   "execution_count": null,
   "metadata": {},
   "outputs": [],
   "source": [
    "# Count the number of nulls in each column\n",
    "null_counts = link_df.isnull().sum()\n",
    "\n",
    "# Calculate the percentage of nulls in each column\n",
    "total_rows = len(link_df)\n",
    "null_percentages = (null_counts / total_rows) * 100\n",
    "null_percentages = null_percentages.sort_values(ascending=False)\n",
    "\n",
    "null_percentages"
   ]
  },
  {
   "cell_type": "markdown",
   "metadata": {
    "id": "EQRmPzR1XKqK"
   },
   "source": [
    "## I4. Cast to appropriate type"
   ]
  },
  {
   "cell_type": "code",
   "execution_count": null,
   "metadata": {
    "executionInfo": {
     "elapsed": 14,
     "status": "ok",
     "timestamp": 1718854332995,
     "user": {
      "displayName": "Rachel Gao",
      "userId": "10756354987170970544"
     },
     "user_tz": 420
    },
    "id": "u1uhhrRmXyrY"
   },
   "outputs": [],
   "source": [
    "int_cols = [\"sid\",]\n",
    "float_cols = [\n",
    "    \"revts\",\n",
    "    'oibdps',\n",
    "    'ops',\n",
    "    'oiadps',\n",
    "    'oelim',\n",
    "    'capxs',\n",
    "    'dps',\n",
    "    'ias',\n",
    "    'esubs',\n",
    "    'ivaeqs', \n",
    "    'intseg',\n",
    "    'txws',\n",
    "    'gsubind',\n",
    "    'sales',\n",
    "]\n",
    "str_cols = [\n",
    "    \"LPERMNO\",\n",
    "    \"cik\",\n",
    "    \"stype\",\n",
    "    \"soptp1\",\n",
    "    \"naics\",\n",
    "    \"upds\",\n",
    "    \"geotp\",\n",
    "    \"soptp1\",\n",
    "    \"snms\",\n",
    "    \"conm\",\n",
    "    \"cik\",\n",
    "]"
   ]
  },
  {
   "cell_type": "code",
   "execution_count": null,
   "metadata": {
    "executionInfo": {
     "elapsed": 64417,
     "status": "ok",
     "timestamp": 1718854397398,
     "user": {
      "displayName": "Rachel Gao",
      "userId": "10756354987170970544"
     },
     "user_tz": 420
    },
    "id": "dOndgxZCYG2T"
   },
   "outputs": [],
   "source": [
    "link_df[int_cols] = link_df[int_cols].astype(int)\n",
    "link_df[float_cols] = link_df[float_cols].astype(float)\n",
    "link_df[str_cols] = link_df[str_cols].astype(str)"
   ]
  },
  {
   "cell_type": "markdown",
   "metadata": {},
   "source": [
    "## I5. Remove outliers, PERMNO that had more than 10 days of over 100% or under -50% returns\n",
    "\n",
    "Return is calculated using (close_price/previous_close_price)-1."
   ]
  },
  {
   "cell_type": "code",
   "execution_count": null,
   "metadata": {},
   "outputs": [],
   "source": [
    "# Define the conditions\n",
    "over_100_percent = crsp_df[\"RET\"] > 1.0\n",
    "under_50_percent = crsp_df[\"RET\"] < -0.5\n",
    "\n",
    "# Create a boolean mask for the conditions\n",
    "condition_mask = over_100_percent | under_50_percent\n",
    "\n",
    "# Count the number of days each permno_id satisfies the condition\n",
    "permno_counts = crsp_df[condition_mask].groupby('PERMNO').size()"
   ]
  },
  {
   "cell_type": "code",
   "execution_count": null,
   "metadata": {},
   "outputs": [],
   "source": [
    "# Filter out PERMNO with more than 10 days satisfying the condition\n",
    "to_remove = permno_counts[permno_counts > 10].index\n",
    "print(\"num_PERMNO_removed: \", len(to_remove))\n",
    "\n",
    "# Filter the DataFrame to exclude those PERMNO\n",
    "og_len = len(crsp_df)\n",
    "crsp_df = crsp_df[~crsp_df['PERMNO'].isin(to_remove)]\n",
    "new_len = len(crsp_df)\n",
    "print(\"num_records_removed: \", og_len - new_len)\n",
    "print(\"num_records_kept: \", new_len)"
   ]
  },
  {
   "cell_type": "markdown",
   "metadata": {
    "id": "4w5TxPkbY4Vb"
   },
   "source": [
    "# Take another look at the null analysis\n"
   ]
  },
  {
   "cell_type": "code",
   "execution_count": null,
   "metadata": {
    "executionInfo": {
     "elapsed": 1062,
     "status": "ok",
     "timestamp": 1718854398458,
     "user": {
      "displayName": "Rachel Gao",
      "userId": "10756354987170970544"
     },
     "user_tz": 420
    },
    "id": "Z_CQBmOQY4Vb"
   },
   "outputs": [],
   "source": [
    "# Count the number of nulls in each column\n",
    "null_counts = link_df.isnull().sum()\n",
    "\n",
    "# Calculate the percentage of nulls in each column\n",
    "total_rows = len(link_df)\n",
    "null_percentages = (null_counts / total_rows) * 100\n",
    "\n",
    "assert null_percentages.min() == 0.0"
   ]
  },
  {
   "cell_type": "markdown",
   "metadata": {
    "id": "88kCLrSHf-8f"
   },
   "source": [
    "## J1. Remove duplicates\n"
   ]
  },
  {
   "cell_type": "code",
   "execution_count": null,
   "metadata": {
    "colab": {
     "base_uri": "https://localhost:8080/"
    },
    "executionInfo": {
     "elapsed": 4916,
     "status": "ok",
     "timestamp": 1718854403372,
     "user": {
      "displayName": "Rachel Gao",
      "userId": "10756354987170970544"
     },
     "user_tz": 420
    },
    "id": "PwwK4UTIf8ho",
    "outputId": "229ce362-ea1a-4e99-8b60-18fc898e641a"
   },
   "outputs": [],
   "source": [
    "og_len = len(link_df)\n",
    "link_df = link_df.drop_duplicates()\n",
    "new_len = len(link_df)\n",
    "print(\"num_records_removed: \", og_len - new_len)\n",
    "print(\"num_records_kept: \", new_len)"
   ]
  },
  {
   "cell_type": "markdown",
   "metadata": {
    "id": "8HV4lEtaZG09"
   },
   "source": [
    "## J2. Confirm each LPERMNO contains at most num_days records (each LPERMNO only has one record per day)\n"
   ]
  },
  {
   "cell_type": "code",
   "execution_count": null,
   "metadata": {},
   "outputs": [],
   "source": [
    "num_days = link_df[\"srcdate\"].nunique()"
   ]
  },
  {
   "cell_type": "code",
   "execution_count": null,
   "metadata": {
    "executionInfo": {
     "elapsed": 16,
     "status": "ok",
     "timestamp": 1718854403372,
     "user": {
      "displayName": "Rachel Gao",
      "userId": "10756354987170970544"
     },
     "user_tz": 420
    },
    "id": "hRJJ5TQzgRSC"
   },
   "outputs": [],
   "source": [
    "assert link_df[\"LPERMNO\"].value_counts().max() <= num_days"
   ]
  },
  {
   "cell_type": "markdown",
   "metadata": {
    "id": "9HyqlNvlkDCy"
   },
   "source": [
    "## J3. Rename & Reorder all columns\n"
   ]
  },
  {
   "cell_type": "code",
   "execution_count": null,
   "metadata": {
    "executionInfo": {
     "elapsed": 1323,
     "status": "ok",
     "timestamp": 1718854405813,
     "user": {
      "displayName": "Rachel Gao",
      "userId": "10756354987170970544"
     },
     "user_tz": 420
    },
    "id": "PBM94pMjkGCw"
   },
   "outputs": [],
   "source": [
    "rename_dict = {\n",
    "    \"ibs\": \"income_pre_extraordinary_items\",\n",
    "    \"nis\": \"net_income_loss\",\n",
    "    \"txts\": \"income\",\n",
    "    \"xsgas\",\n",
    "    \"ptis\",\n",
    "    \"caxts\", \n",
    "    \"spis\",\n",
    "    \"ppents\",\n",
    "    \"cogss\",\n",
    "    \"emps\",\n",
    "    \"xints\",\n",
    "    \"LPERMNO\": \"permno_id\",\n",
    "    \"stype\": \"sector_type\",\n",
    "    \"srcdate\": \"date\",\n",
    "    \"sid\": \"sector_id\",\n",
    "    \"capxs\": \"capital_expenditures\",\n",
    "    \"dps\": \"dep_n_amort\",\n",
    "    \"esubs\": \"eq_in_earnings\",\n",
    "    \"ias\": \"id_tot_assets\",\n",
    "    \"intseg\": \"intseg_elimin\",\n",
    "    \"ivaeqs\": \"investments_eq\",\n",
    "    \"oelim\": \"other_elims\",\n",
    "    \"oiadps\": \"op_income_post_dep\",\n",
    "    \"oibdps\": \"op_income_pre_dep\",\n",
    "    \"ops\": \"op_profit\",\n",
    "    \"revts\": \"tot_rev\",\n",
    "    \"sales\": \"net_sales\",\n",
    "    \"txws\": \"excise_taxes\",\n",
    "    \"upds\": \"update_code\",\n",
    "    \"geotp\": \"geo_seg_type\",\n",
    "    \"snms\": \"seg_name\",\n",
    "    \"soptp1\": \"op_seg_name\",\n",
    "    \"conm\": \"comp_name\",\n",
    "    \"cik\": \"cik\",\n",
    "    \"naics\": \"naics\",\n",
    "    \"gsubind\": \"global_industry_cls\",\n",
    "    \"NAICS_Sector\": \"naics_sector\",\n",
    "    \"NAICS_Sector_Name\": \"naics_sector_name\",\n",
    "    \"NAICS_Secondary\": \"naics_secondary\",\n",
    "\n",
    "}\n",
    "\n",
    "link_df = link_df.rename(columns=rename_dict)\n",
    "link_df = link_df[list(rename_dict.values())]"
   ]
  },
  {
   "cell_type": "markdown",
   "metadata": {
    "id": "ke6Vs_NziX5n"
   },
   "source": [
    "# Take a final look at the columns\n"
   ]
  },
  {
   "cell_type": "code",
   "execution_count": null,
   "metadata": {
    "colab": {
     "base_uri": "https://localhost:8080/"
    },
    "executionInfo": {
     "elapsed": 6,
     "status": "ok",
     "timestamp": 1718854405813,
     "user": {
      "displayName": "Rachel Gao",
      "userId": "10756354987170970544"
     },
     "user_tz": 420
    },
    "id": "KPjXphnHiX5n",
    "outputId": "d501cc76-a194-4ab4-b3c3-7d3e4444ffbc"
   },
   "outputs": [],
   "source": [
    "link_df.columns"
   ]
  },
  {
   "cell_type": "code",
   "execution_count": null,
   "metadata": {
    "colab": {
     "base_uri": "https://localhost:8080/"
    },
    "executionInfo": {
     "elapsed": 6,
     "status": "ok",
     "timestamp": 1718854405814,
     "user": {
      "displayName": "Rachel Gao",
      "userId": "10756354987170970544"
     },
     "user_tz": 420
    },
    "id": "195_fzCXiX5o",
    "outputId": "2dcb6c56-3b5c-494c-bba4-be6b636341d4"
   },
   "outputs": [],
   "source": [
    "link_df.dtypes"
   ]
  },
  {
   "cell_type": "code",
   "execution_count": null,
   "metadata": {
    "colab": {
     "base_uri": "https://localhost:8080/"
    },
    "executionInfo": {
     "elapsed": 4,
     "status": "ok",
     "timestamp": 1718854405814,
     "user": {
      "displayName": "Rachel Gao",
      "userId": "10756354987170970544"
     },
     "user_tz": 420
    },
    "id": "EqtXW4RpiX5o",
    "outputId": "fca26289-698b-4ab3-9ee2-31d6497cb158"
   },
   "outputs": [],
   "source": [
    "link_len = len(link_df)\n",
    "link_cols = len(link_df.columns)\n",
    "print(\"number of records:\", link_len)\n",
    "print(\"number of columns:\", link_cols)"
   ]
  },
  {
   "cell_type": "markdown",
   "metadata": {
    "id": "KzwUEbGmilqF"
   },
   "source": [
    "# Review unique values and distribution in each remaining column\n"
   ]
  },
  {
   "cell_type": "code",
   "execution_count": null,
   "metadata": {
    "colab": {
     "base_uri": "https://localhost:8080/"
    },
    "executionInfo": {
     "elapsed": 3859,
     "status": "ok",
     "timestamp": 1718854409670,
     "user": {
      "displayName": "Rachel Gao",
      "userId": "10756354987170970544"
     },
     "user_tz": 420
    },
    "id": "s3Y6SYRiilqG",
    "outputId": "544ba568-51a3-4a47-8d95-6b1e625eabda"
   },
   "outputs": [],
   "source": [
    "for column in link_df.columns:\n",
    "    print(\"-\" * 10, column, \"-\" * 10)\n",
    "    print(link_df[column].nunique())\n",
    "    print(link_df[column].value_counts())"
   ]
  },
  {
   "cell_type": "markdown",
   "metadata": {},
   "source": [
    "# Save the cleaned df as csv & parquet\n"
   ]
  },
  {
   "cell_type": "code",
   "execution_count": null,
   "metadata": {},
   "outputs": [],
   "source": [
    "link_df.to_csv(\n",
    "    \"/home/sagemaker-user/capstone-2024-summer/data/link_2018-2023_clean.csv\",\n",
    "    index=False,\n",
    ")\n",
    "link_df.to_parquet(\"/home/sagemaker-user/capstone-2024-summer/data/link_2018-2023_clean.parquet\")"
   ]
  },
  {
   "cell_type": "code",
   "execution_count": null,
   "metadata": {},
   "outputs": [],
   "source": [
    "reload = pd.read_parquet(\"/home/sagemaker-user/capstone-2024-summer/data/link_2018-2023_clean.parquet\")\n",
    "assert link_df.equals(reload)\n",
    "\n",
    "reload.head()"
   ]
  },
  {
   "cell_type": "markdown",
   "metadata": {},
   "source": [
    "# Upload the parquet to s3\n"
   ]
  },
  {
   "cell_type": "code",
   "execution_count": null,
   "metadata": {},
   "outputs": [],
   "source": [
    "s3.upload_file(\n",
    "    \"/home/sagemaker-user/capstone-2024-summer/data/link_2018-2023_clean.parquet\",\n",
    "    bucket,\n",
    "    \"CRSP/link_2018-2023_clean.parquet\",\n",
    ")"
   ]
  },
  {
   "cell_type": "code",
   "execution_count": null,
   "metadata": {},
   "outputs": [],
   "source": [
    "reload_path = s3_download(\"CRSP/link_2018-2023_clean.parquet\")"
   ]
  },
  {
   "cell_type": "code",
   "execution_count": null,
   "metadata": {},
   "outputs": [],
   "source": [
    "reload = pd.read_parquet(\"/home/sagemaker-user/capstone-2024-summer/data/link_2018-2023_clean.parquet\")\n",
    "assert link_df.equals(reload)\n",
    "\n",
    "reload.head()"
   ]
  },
  {
   "cell_type": "markdown",
   "metadata": {},
   "source": [
    "# Confirm no records of < -1 return"
   ]
  },
  {
   "cell_type": "code",
   "execution_count": null,
   "metadata": {},
   "outputs": [],
   "source": [
    "assert len(link_df[link_df[\"return\"]<-1]) == 0"
   ]
  }
 ],
 "metadata": {
  "colab": {
   "authorship_tag": "ABX9TyOxyKLKqA5wqdgfjK9Y17kf",
   "provenance": []
  },
  "kernelspec": {
   "display_name": "Python 3 (ipykernel)",
   "language": "python",
   "name": "python3"
  },
  "language_info": {
   "codemirror_mode": {
    "name": "ipython",
    "version": 3
   },
   "file_extension": ".py",
   "mimetype": "text/x-python",
   "name": "python",
   "nbconvert_exporter": "python",
   "pygments_lexer": "ipython3",
   "version": "3.10.14"
  }
 },
 "nbformat": 4,
 "nbformat_minor": 4
}
