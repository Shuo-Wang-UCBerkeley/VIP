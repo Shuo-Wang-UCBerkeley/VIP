{
 "cells": [
  {
   "cell_type": "markdown",
   "metadata": {},
   "source": [
    "# Set Up Env\n"
   ]
  },
  {
   "cell_type": "code",
   "execution_count": 1,
   "metadata": {},
   "outputs": [
    {
     "name": "stdout",
     "output_type": "stream",
     "text": [
      "sagemaker.config INFO - Not applying SDK defaults from location: /etc/xdg/sagemaker/config.yaml\n",
      "sagemaker.config INFO - Not applying SDK defaults from location: /home/sagemaker-user/.config/sagemaker/config.yaml\n",
      "/home/sagemaker-user/capstone-2024-summer/src/jenna/phase_2\n"
     ]
    }
   ],
   "source": [
    "import sys\n",
    "import os\n",
    "\n",
    "import sagemaker\n",
    "from sagemaker import get_execution_role\n",
    "\n",
    "# Add the parent directory to the sys.path\n",
    "sys.path.insert(0, os.path.abspath(\"..\"))\n",
    "\n",
    "# Define IAM role\n",
    "role = get_execution_role()\n",
    "role\n",
    "\n",
    "# Establish S3 bucket connection\n",
    "import boto3\n",
    "\n",
    "s3 = boto3.client(\"s3\")\n",
    "bucket = \"capstone-bucket-4-friends\"\n",
    "\n",
    "# Take a look at current dir\n",
    "print(os.getcwd())\n",
    "\n",
    "from file_utilities import s3_download"
   ]
  },
  {
   "cell_type": "markdown",
   "metadata": {
    "id": "gey0gI-R-q-P"
   },
   "source": [
    "# Import libraries\n"
   ]
  },
  {
   "cell_type": "code",
   "execution_count": 2,
   "metadata": {
    "colab": {
     "base_uri": "https://localhost:8080/"
    },
    "executionInfo": {
     "elapsed": 3384,
     "status": "ok",
     "timestamp": 1718854260790,
     "user": {
      "displayName": "Rachel Gao",
      "userId": "10756354987170970544"
     },
     "user_tz": 420
    },
    "id": "4advojzZJ3Kc",
    "outputId": "241fdbb0-fc1b-4350-ba4b-a44f786ae727"
   },
   "outputs": [],
   "source": [
    "# standard libraries\n",
    "import numpy as np\n",
    "import pandas as pd\n",
    "\n",
    "# visualization\n",
    "import matplotlib.pyplot as plt\n",
    "\n",
    "!pip install seaborn -q\n",
    "import seaborn as sns"
   ]
  },
  {
   "cell_type": "markdown",
   "metadata": {},
   "source": [
    "# Download Data from S3 as needed\n"
   ]
  },
  {
   "cell_type": "code",
   "execution_count": 3,
   "metadata": {},
   "outputs": [],
   "source": [
    "# link = \"CRSP/link_crsp_and_comp_2018-2023.csv\"\n",
    "# link_path = s3_download(link)"
   ]
  },
  {
   "cell_type": "code",
   "execution_count": 4,
   "metadata": {},
   "outputs": [],
   "source": [
    "# index = \"Index/security_master.csv\"\n",
    "# index_path = s3_download(index)"
   ]
  },
  {
   "cell_type": "markdown",
   "metadata": {
    "id": "NL5urp2nAL4f"
   },
   "source": [
    "# Load the dataset\n",
    "\n",
    "https://www.crsp.org/wp-content/uploads/guides/CRSP_US_Stock_&_Indexes_Database_Data_Descriptions_Guide.pdf\n"
   ]
  },
  {
   "cell_type": "code",
   "execution_count": 5,
   "metadata": {
    "colab": {
     "base_uri": "https://localhost:8080/",
     "height": 552
    },
    "executionInfo": {
     "elapsed": 35269,
     "status": "ok",
     "timestamp": 1718854296057,
     "user": {
      "displayName": "Rachel Gao",
      "userId": "10756354987170970544"
     },
     "user_tz": 420
    },
    "id": "qZZUgwZ7AqVA",
    "outputId": "e064ef6b-03c0-4661-fe7f-62a938271d6e"
   },
   "outputs": [
    {
     "data": {
      "text/html": [
       "<div>\n",
       "<style scoped>\n",
       "    .dataframe tbody tr th:only-of-type {\n",
       "        vertical-align: middle;\n",
       "    }\n",
       "\n",
       "    .dataframe tbody tr th {\n",
       "        vertical-align: top;\n",
       "    }\n",
       "\n",
       "    .dataframe thead th {\n",
       "        text-align: right;\n",
       "    }\n",
       "</style>\n",
       "<table border=\"1\" class=\"dataframe\">\n",
       "  <thead>\n",
       "    <tr style=\"text-align: right;\">\n",
       "      <th></th>\n",
       "      <th>GVKEY</th>\n",
       "      <th>LINKPRIM</th>\n",
       "      <th>LIID</th>\n",
       "      <th>LINKTYPE</th>\n",
       "      <th>LPERMNO</th>\n",
       "      <th>LPERMCO</th>\n",
       "      <th>LINKDT</th>\n",
       "      <th>LINKENDDT</th>\n",
       "      <th>stype</th>\n",
       "      <th>sid</th>\n",
       "      <th>...</th>\n",
       "      <th>snms</th>\n",
       "      <th>soptp1</th>\n",
       "      <th>soptp2</th>\n",
       "      <th>conm</th>\n",
       "      <th>tic</th>\n",
       "      <th>cusip</th>\n",
       "      <th>cik</th>\n",
       "      <th>sic</th>\n",
       "      <th>naics</th>\n",
       "      <th>gsubind</th>\n",
       "    </tr>\n",
       "  </thead>\n",
       "  <tbody>\n",
       "    <tr>\n",
       "      <th>0</th>\n",
       "      <td>1004</td>\n",
       "      <td>P</td>\n",
       "      <td>1</td>\n",
       "      <td>LU</td>\n",
       "      <td>54594</td>\n",
       "      <td>20000</td>\n",
       "      <td>1972-04-24</td>\n",
       "      <td>E</td>\n",
       "      <td>BUSSEG</td>\n",
       "      <td>22</td>\n",
       "      <td>...</td>\n",
       "      <td>Expeditionary Services</td>\n",
       "      <td>PD_SRVC</td>\n",
       "      <td>NaN</td>\n",
       "      <td>AAR CORP</td>\n",
       "      <td>AIR</td>\n",
       "      <td>000361105</td>\n",
       "      <td>1750.0</td>\n",
       "      <td>5080</td>\n",
       "      <td>423860</td>\n",
       "      <td>20101010.0</td>\n",
       "    </tr>\n",
       "    <tr>\n",
       "      <th>1</th>\n",
       "      <td>1004</td>\n",
       "      <td>P</td>\n",
       "      <td>1</td>\n",
       "      <td>LU</td>\n",
       "      <td>54594</td>\n",
       "      <td>20000</td>\n",
       "      <td>1972-04-24</td>\n",
       "      <td>E</td>\n",
       "      <td>GEOSEG</td>\n",
       "      <td>5</td>\n",
       "      <td>...</td>\n",
       "      <td>Europe/Africa</td>\n",
       "      <td>GEO</td>\n",
       "      <td>NaN</td>\n",
       "      <td>AAR CORP</td>\n",
       "      <td>AIR</td>\n",
       "      <td>000361105</td>\n",
       "      <td>1750.0</td>\n",
       "      <td>5080</td>\n",
       "      <td>423860</td>\n",
       "      <td>20101010.0</td>\n",
       "    </tr>\n",
       "    <tr>\n",
       "      <th>2</th>\n",
       "      <td>1004</td>\n",
       "      <td>P</td>\n",
       "      <td>1</td>\n",
       "      <td>LU</td>\n",
       "      <td>54594</td>\n",
       "      <td>20000</td>\n",
       "      <td>1972-04-24</td>\n",
       "      <td>E</td>\n",
       "      <td>GEOSEG</td>\n",
       "      <td>4</td>\n",
       "      <td>...</td>\n",
       "      <td>North America</td>\n",
       "      <td>GEO</td>\n",
       "      <td>NaN</td>\n",
       "      <td>AAR CORP</td>\n",
       "      <td>AIR</td>\n",
       "      <td>000361105</td>\n",
       "      <td>1750.0</td>\n",
       "      <td>5080</td>\n",
       "      <td>423860</td>\n",
       "      <td>20101010.0</td>\n",
       "    </tr>\n",
       "    <tr>\n",
       "      <th>3</th>\n",
       "      <td>1004</td>\n",
       "      <td>P</td>\n",
       "      <td>1</td>\n",
       "      <td>LU</td>\n",
       "      <td>54594</td>\n",
       "      <td>20000</td>\n",
       "      <td>1972-04-24</td>\n",
       "      <td>E</td>\n",
       "      <td>BUSSEG</td>\n",
       "      <td>11</td>\n",
       "      <td>...</td>\n",
       "      <td>Corporate</td>\n",
       "      <td>PD_SRVC</td>\n",
       "      <td>NaN</td>\n",
       "      <td>AAR CORP</td>\n",
       "      <td>AIR</td>\n",
       "      <td>000361105</td>\n",
       "      <td>1750.0</td>\n",
       "      <td>5080</td>\n",
       "      <td>423860</td>\n",
       "      <td>20101010.0</td>\n",
       "    </tr>\n",
       "    <tr>\n",
       "      <th>4</th>\n",
       "      <td>1004</td>\n",
       "      <td>P</td>\n",
       "      <td>1</td>\n",
       "      <td>LU</td>\n",
       "      <td>54594</td>\n",
       "      <td>20000</td>\n",
       "      <td>1972-04-24</td>\n",
       "      <td>E</td>\n",
       "      <td>GEOSEG</td>\n",
       "      <td>3</td>\n",
       "      <td>...</td>\n",
       "      <td>Other</td>\n",
       "      <td>GEO</td>\n",
       "      <td>NaN</td>\n",
       "      <td>AAR CORP</td>\n",
       "      <td>AIR</td>\n",
       "      <td>000361105</td>\n",
       "      <td>1750.0</td>\n",
       "      <td>5080</td>\n",
       "      <td>423860</td>\n",
       "      <td>20101010.0</td>\n",
       "    </tr>\n",
       "  </tbody>\n",
       "</table>\n",
       "<p>5 rows × 71 columns</p>\n",
       "</div>"
      ],
      "text/plain": [
       "   GVKEY LINKPRIM  LIID LINKTYPE  LPERMNO  LPERMCO      LINKDT LINKENDDT  \\\n",
       "0   1004        P     1       LU    54594    20000  1972-04-24         E   \n",
       "1   1004        P     1       LU    54594    20000  1972-04-24         E   \n",
       "2   1004        P     1       LU    54594    20000  1972-04-24         E   \n",
       "3   1004        P     1       LU    54594    20000  1972-04-24         E   \n",
       "4   1004        P     1       LU    54594    20000  1972-04-24         E   \n",
       "\n",
       "    stype  sid  ...                    snms   soptp1  soptp2      conm  tic  \\\n",
       "0  BUSSEG   22  ...  Expeditionary Services  PD_SRVC     NaN  AAR CORP  AIR   \n",
       "1  GEOSEG    5  ...           Europe/Africa      GEO     NaN  AAR CORP  AIR   \n",
       "2  GEOSEG    4  ...           North America      GEO     NaN  AAR CORP  AIR   \n",
       "3  BUSSEG   11  ...               Corporate  PD_SRVC     NaN  AAR CORP  AIR   \n",
       "4  GEOSEG    3  ...                   Other      GEO     NaN  AAR CORP  AIR   \n",
       "\n",
       "       cusip     cik   sic   naics     gsubind  \n",
       "0  000361105  1750.0  5080  423860  20101010.0  \n",
       "1  000361105  1750.0  5080  423860  20101010.0  \n",
       "2  000361105  1750.0  5080  423860  20101010.0  \n",
       "3  000361105  1750.0  5080  423860  20101010.0  \n",
       "4  000361105  1750.0  5080  423860  20101010.0  \n",
       "\n",
       "[5 rows x 71 columns]"
      ]
     },
     "execution_count": 5,
     "metadata": {},
     "output_type": "execute_result"
    }
   ],
   "source": [
    "link_df = pd.read_csv(\n",
    "    \"/home/sagemaker-user/capstone-2024-summer/data/link_crsp_and_comp_2018-2023.csv\",\n",
    "    parse_dates=[\"srcdate\"],\n",
    "    low_memory=False\n",
    ")\n",
    "\n",
    "link_df.head()"
   ]
  },
  {
   "cell_type": "markdown",
   "metadata": {
    "id": "k4Sdl7bhbYlY"
   },
   "source": [
    "# Take a look at the columns\n"
   ]
  },
  {
   "cell_type": "code",
   "execution_count": 6,
   "metadata": {
    "colab": {
     "base_uri": "https://localhost:8080/"
    },
    "executionInfo": {
     "elapsed": 5,
     "status": "ok",
     "timestamp": 1718854296058,
     "user": {
      "displayName": "Rachel Gao",
      "userId": "10756354987170970544"
     },
     "user_tz": 420
    },
    "id": "kvnFj_bSCFCN",
    "outputId": "871ccbba-7ee3-476a-8e5a-b837f2603341"
   },
   "outputs": [
    {
     "data": {
      "text/plain": [
       "Index(['GVKEY', 'LINKPRIM', 'LIID', 'LINKTYPE', 'LPERMNO', 'LPERMCO', 'LINKDT',\n",
       "       'LINKENDDT', 'stype', 'sid', 'atlls', 'capxs', 'capxs_fn', 'caxts',\n",
       "       'cogss', 'dps', 'emps', 'emps_fn', 'esubs', 'esubs_fn', 'ias', 'ibs',\n",
       "       'iints', 'intseg', 'ivaeqs', 'nis', 'nopxs', 'nxints', 'obs', 'ocaxs',\n",
       "       'oelim', 'oiadps', 'oibdps', 'ops', 'ops_fn', 'ppents', 'ptis', 'rds',\n",
       "       'rds_fn', 'revts', 'sales', 'sales_fn', 'salexg', 'spis', 'txts',\n",
       "       'txws', 'xidos', 'xints', 'xsgas', 'datadate', 'srcdate', 'curcds',\n",
       "       'isosrc', 'naicsh', 'srcs', 'upds', 'NAICSS1', 'NAICSS2', 'SICS1',\n",
       "       'SICS2', 'geotp', 'snms', 'soptp1', 'soptp2', 'conm', 'tic', 'cusip',\n",
       "       'cik', 'sic', 'naics', 'gsubind'],\n",
       "      dtype='object')"
      ]
     },
     "execution_count": 6,
     "metadata": {},
     "output_type": "execute_result"
    }
   ],
   "source": [
    "link_df.columns"
   ]
  },
  {
   "cell_type": "code",
   "execution_count": 7,
   "metadata": {
    "colab": {
     "base_uri": "https://localhost:8080/"
    },
    "executionInfo": {
     "elapsed": 4,
     "status": "ok",
     "timestamp": 1718854296058,
     "user": {
      "displayName": "Rachel Gao",
      "userId": "10756354987170970544"
     },
     "user_tz": 420
    },
    "id": "anxdhdX5fLqU",
    "outputId": "021c7500-f9b4-4ae4-bdd7-6cfb57285809"
   },
   "outputs": [
    {
     "data": {
      "text/plain": [
       "GVKEY         int64\n",
       "LINKPRIM     object\n",
       "LIID          int64\n",
       "LINKTYPE     object\n",
       "LPERMNO       int64\n",
       "             ...   \n",
       "cusip        object\n",
       "cik         float64\n",
       "sic           int64\n",
       "naics         int64\n",
       "gsubind     float64\n",
       "Length: 71, dtype: object"
      ]
     },
     "execution_count": 7,
     "metadata": {},
     "output_type": "execute_result"
    }
   ],
   "source": [
    "link_df.dtypes"
   ]
  },
  {
   "cell_type": "code",
   "execution_count": 8,
   "metadata": {
    "colab": {
     "base_uri": "https://localhost:8080/"
    },
    "executionInfo": {
     "elapsed": 3,
     "status": "ok",
     "timestamp": 1718854296058,
     "user": {
      "displayName": "Rachel Gao",
      "userId": "10756354987170970544"
     },
     "user_tz": 420
    },
    "id": "y92nzlbOY00-",
    "outputId": "f346ffa0-308a-454b-c0ab-99903433a7f7"
   },
   "outputs": [
    {
     "name": "stdout",
     "output_type": "stream",
     "text": [
      "number of records: 315578\n",
      "number of columns: 71\n"
     ]
    }
   ],
   "source": [
    "og_link_len = len(link_df)\n",
    "og_link_cols = len(link_df.columns)\n",
    "print(\"number of records:\", og_link_len)\n",
    "print(\"number of columns:\", og_link_cols)"
   ]
  },
  {
   "cell_type": "markdown",
   "metadata": {},
   "source": [
    "## Cast date variables"
   ]
  },
  {
   "cell_type": "code",
   "execution_count": 9,
   "metadata": {},
   "outputs": [
    {
     "name": "stderr",
     "output_type": "stream",
     "text": [
      "/tmp/ipykernel_3832/605713236.py:20: UserWarning: Could not infer format, so each element will be parsed individually, falling back to `dateutil`. To ensure parsing is consistent and as-expected, please specify a format.\n",
      "  df[col] = pd.to_datetime(df[col], errors='coerce')\n"
     ]
    }
   ],
   "source": [
    "def date_formatting(df):\n",
    "    \"\"\"Convert to datetime with specified format\"\"\"\n",
    "    date_columns = [\n",
    "        \"LINKDT\",\n",
    "        \"LINKENDDT\",\n",
    "        \"datadate\",\n",
    "        \"srcdate\",\n",
    "    ]\n",
    "    for col in date_columns:\n",
    "        if col in df.columns:\n",
    "            # First, try with a common format\n",
    "            try:\n",
    "                df[col] = pd.to_datetime(df[col], format='%Y-%m-%d', errors='raise')\n",
    "            except ValueError:\n",
    "                # If that fails, try with another common format\n",
    "                try:\n",
    "                    df[col] = pd.to_datetime(df[col], format='%m/%d/%Y', errors='raise')\n",
    "                except ValueError:\n",
    "                    # If both fail, use the flexible parser as a last resort\n",
    "                    df[col] = pd.to_datetime(df[col], errors='coerce')\n",
    "            \n",
    "            # Handle any remaining NaT values\n",
    "            df[col] = df[col].fillna(pd.NaT)\n",
    "    \n",
    "    return df\n",
    "\n",
    "# Apply the function\n",
    "link_df = date_formatting(link_df)\n",
    "\n",
    "# Sort the df by date for forward fill preparation\n",
    "link_df = link_df.sort_values('srcdate')"
   ]
  },
  {
   "cell_type": "markdown",
   "metadata": {
    "id": "c3ncsMKpdlXk"
   },
   "source": [
    "# Null analysis\n"
   ]
  },
  {
   "cell_type": "code",
   "execution_count": 10,
   "metadata": {
    "colab": {
     "base_uri": "https://localhost:8080/",
     "height": 475
    },
    "executionInfo": {
     "elapsed": 4868,
     "status": "ok",
     "timestamp": 1718854300924,
     "user": {
      "displayName": "Rachel Gao",
      "userId": "10756354987170970544"
     },
     "user_tz": 420
    },
    "id": "YMKjMIxndqbA",
    "outputId": "b56c1fda-dab7-4584-b8ac-9b6adde5357b"
   },
   "outputs": [
    {
     "data": {
      "image/png": "[encoded data removed]",
      "text/plain": [
       "<Figure size 1200x400 with 1 Axes>"
      ]
     },
     "metadata": {},
     "output_type": "display_data"
    }
   ],
   "source": [
    "# Count the number of nulls in each column\n",
    "null_counts = link_df.isnull().sum()\n",
    "\n",
    "# Calculate the percentage of nulls in each column\n",
    "total_rows = len(link_df)\n",
    "null_percentages = (null_counts / total_rows) * 100\n",
    "null_percentages = null_percentages.sort_values(ascending=False)\n",
    "\n",
    "# Plot the percentages as a bar plot\n",
    "null_percentages.plot(kind=\"bar\", figsize=(12, 4), color=\"skyblue\")\n",
    "plt.axhline(y=80, color=\"red\", linestyle=\"--\", linewidth=1)\n",
    "plt.title(\"Percentage of Null Values in Each Column\")\n",
    "plt.xlabel(\"Columns\")\n",
    "plt.ylabel(\"Percentage of Nulls (%)\")\n",
    "plt.show()"
   ]
  },
  {
   "cell_type": "markdown",
   "metadata": {
    "id": "cFe6mQFCf_RJ"
   },
   "source": [
    "## A1. Drop all columns which contains more than 80% null as they cannot be reasonably obtained or imputed.\n"
   ]
  },
  {
   "cell_type": "code",
   "execution_count": 11,
   "metadata": {
    "colab": {
     "base_uri": "https://localhost:8080/"
    },
    "executionInfo": {
     "elapsed": 287,
     "status": "ok",
     "timestamp": 1718854301208,
     "user": {
      "displayName": "Rachel Gao",
      "userId": "10756354987170970544"
     },
     "user_tz": 420
    },
    "id": "4H0i5UKBf-g2",
    "outputId": "98ff4e2b-84e5-4bac-ceba-1cc988694d52"
   },
   "outputs": [
    {
     "name": "stdout",
     "output_type": "stream",
     "text": [
      "num_columns_removed:  18\n",
      "num_columns_kept: 53\n"
     ]
    }
   ],
   "source": [
    "og_cols = len(link_df.columns)\n",
    "columns_to_drop = null_percentages[null_percentages > 80].index\n",
    "link_df = link_df.drop(columns=columns_to_drop)\n",
    "new_cols = len(link_df.columns)\n",
    "print(\"num_columns_removed: \", og_cols - new_cols)\n",
    "print(\"num_columns_kept:\", new_cols)"
   ]
  },
  {
   "cell_type": "markdown",
   "metadata": {
    "id": "zswhk8i0r01t"
   },
   "source": [
    "## A2. Drop all columns containing duplicate information and columns just used for linking\n"
   ]
  },
  {
   "cell_type": "code",
   "execution_count": 12,
   "metadata": {
    "colab": {
     "base_uri": "https://localhost:8080/"
    },
    "executionInfo": {
     "elapsed": 182,
     "status": "ok",
     "timestamp": 1718854301388,
     "user": {
      "displayName": "Rachel Gao",
      "userId": "10756354987170970544"
     },
     "user_tz": 420
    },
    "id": "-ZRJ47epsRmM",
    "outputId": "849e35d2-044e-4ed0-acc6-f3d3bff16e45"
   },
   "outputs": [
    {
     "name": "stdout",
     "output_type": "stream",
     "text": [
      "num_columns_removed:  14\n",
      "num_columns_kept: 39\n"
     ]
    }
   ],
   "source": [
    "og_cols = len(link_df.columns)\n",
    "columns_to_drop = [\n",
    "    \"LPERMCO\",\n",
    "    \"naicsh\", # Historical NAICS\n",
    "    \"GVKEY\", # Just used for linking Compustat\n",
    "    \"NAICSS1\", # Just used for linking Compustat\n",
    "    \"NAICSS2\", # Just used for linking Compustat\n",
    "    \"SICS1\", # Just used for linking Compustat\n",
    "    \"SICS2\", # Just used for linking Compustat\n",
    "    \"LINKTYPE\", # Just used for linking Compustat\n",
    "    \"LINKPRIM\", # Just used for linking Compustat\n",
    "    \"datadate\",  # srcdate as primary date\n",
    "    \"curcds\",   # Currency codes\n",
    "    \"srcs\",     # Not identifier\n",
    "    \"tic\",      # LPERMNO as your primary identifier\n",
    "    \"cusip\",    # LPERMNO as primary identifier\n",
    "]\n",
    "\n",
    "link_df = link_df.drop(columns=columns_to_drop)\n",
    "new_cols = len(link_df.columns)\n",
    "print(\"num_columns_removed: \", og_cols - new_cols)\n",
    "print(\"num_columns_kept:\", new_cols)"
   ]
  },
  {
   "cell_type": "markdown",
   "metadata": {
    "id": "JWJ1RPPvsrcC"
   },
   "source": [
    "# Take another look at the null analysis\n"
   ]
  },
  {
   "cell_type": "code",
   "execution_count": 13,
   "metadata": {
    "colab": {
     "base_uri": "https://localhost:8080/",
     "height": 467
    },
    "executionInfo": {
     "elapsed": 1652,
     "status": "ok",
     "timestamp": 1718854303039,
     "user": {
      "displayName": "Rachel Gao",
      "userId": "10756354987170970544"
     },
     "user_tz": 420
    },
    "id": "2GXrE1bVsg1Q",
    "outputId": "022db422-4fae-4199-9bf3-e2a57518a293"
   },
   "outputs": [
    {
     "data": {
      "image/png": "[encoded data removed]",
      "text/plain": [
       "<Figure size 1200x400 with 1 Axes>"
      ]
     },
     "metadata": {},
     "output_type": "display_data"
    }
   ],
   "source": [
    "# Count the number of nulls in each column\n",
    "null_counts = link_df.isnull().sum()\n",
    "\n",
    "# Calculate the percentage of nulls in each column\n",
    "total_rows = len(link_df)\n",
    "null_percentages = (null_counts / total_rows) * 100\n",
    "null_percentages = null_percentages.sort_values(ascending=False)\n",
    "\n",
    "# Plot the percentages as a bar plot\n",
    "ax = null_percentages.plot(kind=\"bar\", figsize=(12, 4), color=\"skyblue\")\n",
    "plt.title(\"Percentage of Null Values in Each Column\")\n",
    "plt.xlabel(\"Columns\")\n",
    "plt.ylim(0, max(null_percentages.values) + 10)\n",
    "plt.ylabel(\"Percentage of Nulls (%)\")\n",
    "\n",
    "# Annotate the bars with the percentage values\n",
    "for i, percentage in enumerate(null_percentages):\n",
    "    if percentage != 0:\n",
    "        ax.annotate(\n",
    "            f\"{percentage:.0f}%\",\n",
    "            xy=(i, percentage),\n",
    "            xytext=(0, 3),\n",
    "            textcoords=\"offset points\",\n",
    "            ha=\"center\",\n",
    "            va=\"bottom\",\n",
    "            color=\"red\",\n",
    "            fontsize=7,\n",
    "        )\n",
    "\n",
    "plt.show()"
   ]
  },
  {
   "cell_type": "markdown",
   "metadata": {
    "id": "6wv4KP9vgnGd"
   },
   "source": [
    "# Review unique values and distribution in each remaining column\n"
   ]
  },
  {
   "cell_type": "code",
   "execution_count": 14,
   "metadata": {
    "colab": {
     "base_uri": "https://localhost:8080/"
    },
    "executionInfo": {
     "elapsed": 5513,
     "status": "ok",
     "timestamp": 1718854308549,
     "user": {
      "displayName": "Rachel Gao",
      "userId": "10756354987170970544"
     },
     "user_tz": 420
    },
    "id": "wJH_9Qs0gsI7",
    "outputId": "493db5ea-5e0d-47e2-bce0-9db85cceeea8"
   },
   "outputs": [
    {
     "name": "stdout",
     "output_type": "stream",
     "text": [
      "---------- LIID ----------\n",
      "21\n",
      "LIID\n",
      "1     257175\n",
      "90     31858\n",
      "2      15063\n",
      "3       4428\n",
      "91      2715\n",
      "4       1379\n",
      "5        994\n",
      "92       347\n",
      "93       274\n",
      "96       260\n",
      "6        250\n",
      "7        174\n",
      "8        170\n",
      "99       147\n",
      "19       120\n",
      "10        93\n",
      "9         72\n",
      "12        30\n",
      "11        12\n",
      "21        12\n",
      "94         5\n",
      "Name: count, dtype: int64\n",
      "---------- LPERMNO ----------\n",
      "6663\n",
      "LPERMNO\n",
      "85261    612\n",
      "14785    461\n",
      "33823    439\n",
      "86111    431\n",
      "91607    416\n",
      "        ... \n",
      "23515      1\n",
      "90865      1\n",
      "15003      1\n",
      "23251      1\n",
      "24072      1\n",
      "Name: count, Length: 6663, dtype: int64\n",
      "---------- LINKDT ----------\n",
      "3967\n",
      "LINKDT\n",
      "1962-01-31    12483\n",
      "1972-12-14    10031\n",
      "1962-07-02     2038\n",
      "1982-01-29     1757\n",
      "2018-01-01     1126\n",
      "              ...  \n",
      "2020-02-27        1\n",
      "2016-04-26        1\n",
      "2020-08-20        1\n",
      "2020-01-14        1\n",
      "2023-07-25        1\n",
      "Name: count, Length: 3967, dtype: int64\n",
      "---------- stype ----------\n",
      "4\n",
      "stype\n",
      "GEOSEG    152347\n",
      "BUSSEG    134561\n",
      "OPSEG      28272\n",
      "STSEG        398\n",
      "Name: count, dtype: int64\n",
      "---------- sid ----------\n",
      "90\n",
      "sid\n",
      "1     76479\n",
      "2     37195\n",
      "3     27126\n",
      "4     22270\n",
      "5     18877\n",
      "      ...  \n",
      "79        1\n",
      "73        1\n",
      "83        1\n",
      "89        1\n",
      "71        1\n",
      "Name: count, Length: 90, dtype: int64\n",
      "---------- capxs ----------\n",
      "23508\n",
      "capxs\n",
      "0.000       22397\n",
      "1.000         358\n",
      "2.000         311\n",
      "3.000         230\n",
      "5.000         227\n",
      "            ...  \n",
      "18.545          1\n",
      "1288.000        1\n",
      "6.882           1\n",
      "53.428          1\n",
      "1.611           1\n",
      "Name: count, Length: 23508, dtype: int64\n",
      "---------- caxts ----------\n",
      "30001\n",
      "caxts\n",
      "0.000      566\n",
      "511.000     19\n",
      "237.000     19\n",
      "51.000      17\n",
      "199.000     16\n",
      "          ... \n",
      "79.551       1\n",
      "375.800      1\n",
      "172.221      1\n",
      "14.201       1\n",
      "135.718      1\n",
      "Name: count, Length: 30001, dtype: int64\n",
      "---------- cogss ----------\n",
      "35807\n",
      "cogss\n",
      " 0.000      9392\n",
      " 3.000        77\n",
      " 1.000        65\n",
      " 0.500        63\n",
      " 0.600        44\n",
      "            ... \n",
      " 904.114       1\n",
      "-7.200         1\n",
      " 129.914       1\n",
      "-12.870        1\n",
      " 200.401       1\n",
      "Name: count, Length: 35807, dtype: int64\n",
      "---------- dps ----------\n",
      "26924\n",
      "dps\n",
      "0.000      11789\n",
      "1.000        288\n",
      "0.001        266\n",
      "2.000        240\n",
      "3.000        222\n",
      "           ...  \n",
      "128.879        1\n",
      "134.586        1\n",
      "26.896         1\n",
      "1.176          1\n",
      "28.338         1\n",
      "Name: count, Length: 26924, dtype: int64\n",
      "---------- emps ----------\n",
      "8523\n",
      "emps\n",
      "0.0         9476\n",
      "2.0          526\n",
      "3.0          511\n",
      "4.0          510\n",
      "9.0          444\n",
      "            ... \n",
      "4710.0         1\n",
      "12801.0        1\n",
      "118971.0       1\n",
      "69455.0        1\n",
      "24070.0        1\n",
      "Name: count, Length: 8523, dtype: int64\n",
      "---------- esubs ----------\n",
      "5656\n",
      "esubs\n",
      " 0.000      169170\n",
      " 1.000         228\n",
      " 2.000         161\n",
      "-1.000         121\n",
      " 6.000         114\n",
      "             ...  \n",
      " 287.000         1\n",
      " 249.000         1\n",
      " 284.000         1\n",
      " 8.076           1\n",
      " 2.597           1\n",
      "Name: count, Length: 5656, dtype: int64\n",
      "---------- ias ----------\n",
      "59597\n",
      "ias\n",
      "0.000       3253\n",
      "2.000         21\n",
      "5.000         20\n",
      "233.000       19\n",
      "485.000       18\n",
      "            ... \n",
      "471.320        1\n",
      "67.900         1\n",
      "90.361         1\n",
      "789.727        1\n",
      "3129.258       1\n",
      "Name: count, Length: 59597, dtype: int64\n",
      "---------- ibs ----------\n",
      "25679\n",
      "ibs\n",
      " 0.000      735\n",
      "-1.000       33\n",
      "-6.000       25\n",
      " 5.000       24\n",
      " 112.000     23\n",
      "           ... \n",
      "-112.600      1\n",
      "-168.307      1\n",
      " 12.023       1\n",
      "-50.473       1\n",
      "-79.056       1\n",
      "Name: count, Length: 25679, dtype: int64\n",
      "---------- intseg ----------\n",
      "7406\n",
      "intseg\n",
      "0.000      266418\n",
      "2.000         177\n",
      "1.000         166\n",
      "4.000         131\n",
      "3.000         113\n",
      "            ...  \n",
      "906.800         1\n",
      "22.964          1\n",
      "5.402           1\n",
      "344.204         1\n",
      "10.189          1\n",
      "Name: count, Length: 7406, dtype: int64\n",
      "---------- ivaeqs ----------\n",
      "6317\n",
      "ivaeqs\n",
      "0.000      177874\n",
      "3.000          77\n",
      "6.000          69\n",
      "2.000          58\n",
      "4.000          56\n",
      "            ...  \n",
      "10.205          1\n",
      "305.620         1\n",
      "420.737         1\n",
      "79.345          1\n",
      "84.760          1\n",
      "Name: count, Length: 6317, dtype: int64\n",
      "---------- nis ----------\n",
      "28453\n",
      "nis\n",
      " 0.000      953\n",
      "-1.000       38\n",
      " 5.000       29\n",
      " 39.000      24\n",
      " 2.000       24\n",
      "           ... \n",
      " 42.221       1\n",
      "-464.288      1\n",
      "-208.546      1\n",
      " 93.328       1\n",
      "-79.056       1\n",
      "Name: count, Length: 28453, dtype: int64\n",
      "---------- oelim ----------\n",
      "39\n",
      "oelim\n",
      " 0.000       302437\n",
      " 11.900           3\n",
      " 186.600          3\n",
      " 7.600            3\n",
      " 429.600          3\n",
      " 2333.000         3\n",
      " 2507.000         3\n",
      " 1779.000         3\n",
      " 382.800          3\n",
      " 8.100            3\n",
      " 4358.000         3\n",
      " 391.600          3\n",
      " 163.200          3\n",
      " 156.500          3\n",
      " 2225.000         3\n",
      "-9.948            3\n",
      " 3948.000         3\n",
      " 20.907           3\n",
      "-6.902            2\n",
      " 7.100            2\n",
      " 408.200          2\n",
      " 15.353           2\n",
      " 564.677          2\n",
      " 3753.000         2\n",
      " 2097.000         2\n",
      " 198.300          2\n",
      " 438.600          1\n",
      " 215.100          1\n",
      " 7.000            1\n",
      " 9.000            1\n",
      " 24.463           1\n",
      " 0.805            1\n",
      " 7.286            1\n",
      " 0.779            1\n",
      " 560.719          1\n",
      "-7.332            1\n",
      " 14.099           1\n",
      " 560.003          1\n",
      " 2658.000         1\n",
      "Name: count, dtype: int64\n",
      "---------- oiadps ----------\n",
      "47785\n",
      "oiadps\n",
      " 0.000       1827\n",
      " 1.000         81\n",
      " 2.000         58\n",
      "-2.000         56\n",
      " 10.000        54\n",
      "             ... \n",
      " 1799.330       1\n",
      " 54.955         1\n",
      "-795.000        1\n",
      "-0.767          1\n",
      "-283.665        1\n",
      "Name: count, Length: 47785, dtype: int64\n",
      "---------- oibdps ----------\n",
      "47910\n",
      "oibdps\n",
      " 0.000      1721\n",
      " 1.000        65\n",
      " 2.000        50\n",
      " 13.000       48\n",
      " 11.000       48\n",
      "            ... \n",
      " 336.998       1\n",
      "-13.835        1\n",
      " 26.006        1\n",
      "-13.586        1\n",
      "-283.665       1\n",
      "Name: count, Length: 47910, dtype: int64\n",
      "---------- ops ----------\n",
      "47907\n",
      "ops\n",
      " 0.000      1826\n",
      " 1.000        79\n",
      " 2.000        57\n",
      "-1.000        56\n",
      "-2.000        56\n",
      "            ... \n",
      " 23.402        1\n",
      " 82.014        1\n",
      "-7.896         1\n",
      " 539.727       1\n",
      "-283.665       1\n",
      "Name: count, Length: 47907, dtype: int64\n",
      "---------- ppents ----------\n",
      "25376\n",
      "ppents\n",
      "0.000       4098\n",
      "0.001         57\n",
      "2.000         50\n",
      "1.000         47\n",
      "0.009         46\n",
      "            ... \n",
      "1009.000       1\n",
      "840.000        1\n",
      "138.672        1\n",
      "99.689         1\n",
      "1214.000       1\n",
      "Name: count, Length: 25376, dtype: int64\n",
      "---------- ptis ----------\n",
      "31984\n",
      "ptis\n",
      " 0.000      836\n",
      " 34.000      25\n",
      "-1.000       25\n",
      " 2.000       22\n",
      " 168.000     21\n",
      "           ... \n",
      "-121.118      1\n",
      " 5.344        1\n",
      " 33.217       1\n",
      " 39.636       1\n",
      " 128.873      1\n",
      "Name: count, Length: 31984, dtype: int64\n",
      "---------- revts ----------\n",
      "93393\n",
      "revts\n",
      "0.000        28397\n",
      "2.000           98\n",
      "1.000           86\n",
      "3.000           82\n",
      "7.000           72\n",
      "             ...  \n",
      "48840.757        1\n",
      "70.340           1\n",
      "41605.000        1\n",
      "26.692           1\n",
      "9414.000         1\n",
      "Name: count, Length: 93393, dtype: int64\n",
      "---------- sales ----------\n",
      "93994\n",
      "sales\n",
      "0.000        26293\n",
      "1.000           97\n",
      "2.000           84\n",
      "3.000           82\n",
      "0.001           75\n",
      "             ...  \n",
      "51.402           1\n",
      "163.734          1\n",
      "12620.000        1\n",
      "20.238           1\n",
      "9414.000         1\n",
      "Name: count, Length: 93994, dtype: int64\n",
      "---------- spis ----------\n",
      "15154\n",
      "spis\n",
      " 0.000       24469\n",
      "-1.000         470\n",
      "-2.000         325\n",
      "-3.000         304\n",
      "-5.000         298\n",
      "             ...  \n",
      "-15.215          1\n",
      "-1041.454        1\n",
      " 4.822           1\n",
      "-35.778          1\n",
      "-68.473          1\n",
      "Name: count, Length: 15154, dtype: int64\n",
      "---------- txts ----------\n",
      "15964\n",
      "txts\n",
      " 0.000     17008\n",
      " 0.001       286\n",
      " 0.002       235\n",
      " 0.004       152\n",
      " 1.000       119\n",
      "           ...  \n",
      "-2.956         1\n",
      "-5.396         1\n",
      " 21.813        1\n",
      " 26.786        1\n",
      " 60.380        1\n",
      "Name: count, Length: 15964, dtype: int64\n",
      "---------- txws ----------\n",
      "261\n",
      "txws\n",
      "0.000        301676\n",
      "332.000          12\n",
      "952.000          12\n",
      "769.500          12\n",
      "301.000          12\n",
      "              ...  \n",
      "839.709           1\n",
      "820.373           1\n",
      "5199.299          1\n",
      "48907.000         1\n",
      "873.040           1\n",
      "Name: count, Length: 261, dtype: int64\n",
      "---------- xints ----------\n",
      "15835\n",
      "xints\n",
      "0.000      12063\n",
      "0.001        240\n",
      "0.002        214\n",
      "1.000        174\n",
      "0.009        128\n",
      "           ...  \n",
      "224.399        1\n",
      "110.337        1\n",
      "18.770         1\n",
      "1.961          1\n",
      "88.800         1\n",
      "Name: count, Length: 15835, dtype: int64\n",
      "---------- xsgas ----------\n",
      "24779\n",
      "xsgas\n",
      "0.000      2262\n",
      "23.000       47\n",
      "2.000        43\n",
      "24.000       40\n",
      "6.000        39\n",
      "           ... \n",
      "2.619         1\n",
      "90.022        1\n",
      "1.079         1\n",
      "188.400       1\n",
      "126.185       1\n",
      "Name: count, Length: 24779, dtype: int64\n",
      "---------- srcdate ----------\n",
      "70\n",
      "srcdate\n",
      "2022-12-31    50443\n",
      "2023-12-31    49607\n",
      "2021-12-31    49129\n",
      "2020-12-31    48160\n",
      "2019-12-31    33510\n",
      "              ...  \n",
      "2018-08-31      241\n",
      "2019-02-28      225\n",
      "2018-11-30      146\n",
      "2018-07-31      142\n",
      "2024-02-29      140\n",
      "Name: count, Length: 70, dtype: int64\n",
      "---------- upds ----------\n",
      "2\n",
      "upds\n",
      "3    315526\n",
      "2        52\n",
      "Name: count, dtype: int64\n",
      "---------- geotp ----------\n",
      "2\n",
      "geotp\n",
      "3.0    107347\n",
      "2.0     59467\n",
      "Name: count, dtype: int64\n",
      "---------- snms ----------\n",
      "12016\n",
      "snms\n",
      "United States                39820\n",
      "Other                         9488\n",
      "Corporate                     7683\n",
      "Europe                        6673\n",
      "Canada                        5750\n",
      "                             ...  \n",
      "APAC other                       1\n",
      "Online Backup Solutions          1\n",
      "Software-As-A-Service            1\n",
      "Outdoor & Lifestyle Group        1\n",
      "Gold-Acacia                      1\n",
      "Name: count, Length: 12016, dtype: int64\n",
      "---------- soptp1 ----------\n",
      "5\n",
      "soptp1\n",
      "PD_SRVC    138331\n",
      "GEO         87233\n",
      "MARKET      67898\n",
      "OPER        11221\n",
      "DIV           963\n",
      "Name: count, dtype: int64\n",
      "---------- conm ----------\n",
      "6706\n",
      "conm\n",
      "ARCELORMITTAL                   612\n",
      "LIBERTY GLOBAL LTD              585\n",
      "LIBERTY LATIN AMERICA LTD       522\n",
      "GLOBANT SA                      461\n",
      "DMC GLOBAL INC                  439\n",
      "                               ... \n",
      "TRINE ACQUISITION CORP            1\n",
      "HENNESSY CAPITAL ACQ CORP IV      1\n",
      "TORTOISE ACQUISITION CORP         1\n",
      "INSURANCE ACQ CORP                1\n",
      "JANOVER INC                       1\n",
      "Name: count, Length: 6706, dtype: int64\n",
      "---------- cik ----------\n",
      "6511\n",
      "cik\n",
      "1243429.0    612\n",
      "1570585.0    585\n",
      "1712184.0    522\n",
      "1557860.0    461\n",
      "34067.0      439\n",
      "            ... \n",
      "1823584.0      1\n",
      "867840.0       1\n",
      "1865127.0      1\n",
      "1854572.0      1\n",
      "1805526.0      1\n",
      "Name: count, Length: 6511, dtype: int64\n",
      "---------- sic ----------\n",
      "399\n",
      "sic\n",
      "7370    16973\n",
      "6020    16398\n",
      "2836    12686\n",
      "6798     9461\n",
      "3674     9439\n",
      "        ...  \n",
      "4900       12\n",
      "5082        5\n",
      "3911        3\n",
      "3231        3\n",
      "2540        3\n",
      "Name: count, Length: 399, dtype: int64\n",
      "---------- naics ----------\n",
      "772\n",
      "naics\n",
      "522110    16677\n",
      "325414    12686\n",
      "518210     9493\n",
      "334413     9439\n",
      "325412     6607\n",
      "          ...  \n",
      "541940        2\n",
      "454310        2\n",
      "4831          1\n",
      "99999         1\n",
      "488310        1\n",
      "Name: count, Length: 772, dtype: int64\n",
      "---------- gsubind ----------\n",
      "177\n",
      "gsubind\n",
      "40101015.0    13619\n",
      "35201010.0    12661\n",
      "45103010.0    11107\n",
      "35101010.0     8713\n",
      "20106020.0     8196\n",
      "              ...  \n",
      "60101050.0       26\n",
      "20304020.0       18\n",
      "25503010.0        5\n",
      "25503020.0        4\n",
      "60102040.0        2\n",
      "Name: count, Length: 177, dtype: int64\n"
     ]
    }
   ],
   "source": [
    "for column in link_df.columns:\n",
    "    print(\"-\" * 10, column, \"-\" * 10)\n",
    "    print(link_df[column].nunique())\n",
    "    print(link_df[column].value_counts())"
   ]
  },
  {
   "cell_type": "markdown",
   "metadata": {
    "id": "SGvNnNMIbvFY"
   },
   "source": [
    "# Review revts: total revenue\n",
    "This item represents the gross income received from all divisions of the company in an industry segment"
   ]
  },
  {
   "cell_type": "markdown",
   "metadata": {
    "id": "lcU5uaHuh7Gx"
   },
   "source": [
    "## B1. Check abnormal values\n"
   ]
  },
  {
   "cell_type": "code",
   "execution_count": 15,
   "metadata": {
    "executionInfo": {
     "elapsed": 326,
     "status": "ok",
     "timestamp": 1718854308859,
     "user": {
      "displayName": "Rachel Gao",
      "userId": "10756354987170970544"
     },
     "user_tz": 420
    },
    "id": "HdWFHQUCb_Dj"
   },
   "outputs": [
    {
     "name": "stdout",
     "output_type": "stream",
     "text": [
      "---------- revts ----------\n",
      "93393\n",
      "revts\n",
      "0.000        28397\n",
      "2.000           98\n",
      "1.000           86\n",
      "3.000           82\n",
      "7.000           72\n",
      "             ...  \n",
      "48840.757        1\n",
      "70.340           1\n",
      "41605.000        1\n",
      "26.692           1\n",
      "9414.000         1\n",
      "Name: count, Length: 93393, dtype: int64\n"
     ]
    }
   ],
   "source": [
    "column = \"revts\"\n",
    "\n",
    "print(\"-\" * 10, column, \"-\" * 10)\n",
    "print(link_df[column].nunique())\n",
    "print(link_df[column].value_counts())"
   ]
  },
  {
   "cell_type": "code",
   "execution_count": 16,
   "metadata": {
    "id": "Yq7oiRWhiAZb"
   },
   "outputs": [
    {
     "data": {
      "text/plain": [
       "count    304078.000000\n",
       "mean       2345.641960\n",
       "std       11783.229417\n",
       "min      -54607.000000\n",
       "25%          17.905000\n",
       "50%         188.193500\n",
       "75%        1033.800000\n",
       "max      508685.000000\n",
       "Name: revts, dtype: float64"
      ]
     },
     "execution_count": 16,
     "metadata": {},
     "output_type": "execute_result"
    }
   ],
   "source": [
    "link_df['revts'].describe()"
   ]
  },
  {
   "cell_type": "code",
   "execution_count": 17,
   "metadata": {
    "executionInfo": {
     "elapsed": 10099,
     "status": "ok",
     "timestamp": 1718854318957,
     "user": {
      "displayName": "Rachel Gao",
      "userId": "10756354987170970544"
     },
     "user_tz": 420
    },
    "id": "_qnNY_p4b1B1"
   },
   "outputs": [
    {
     "name": "stdout",
     "output_type": "stream",
     "text": [
      "Number of negative revts values: 3100\n",
      "\n",
      "Sample of negative revts values:\n",
      "        LPERMNO    srcdate     revts\n",
      "19007     76708 2018-06-30    -2.592\n",
      "263167    13196 2018-06-30    -1.263\n",
      "5524      44644 2018-06-30  -619.200\n",
      "301174    84603 2018-06-30    -1.520\n",
      "301167    84603 2018-06-30 -2086.748\n",
      "Percentage of rows with negative 'revts' values: 0.98%\n"
     ]
    }
   ],
   "source": [
    "negative_revts = link_df[link_df['revts'] < 0]\n",
    "negative_percentage = (link_df['revts'] < 0).mean() * 100\n",
    "print(f\"Number of negative revts values: {len(negative_revts)}\")\n",
    "print(\"\\nSample of negative revts values:\")\n",
    "print(negative_revts[['LPERMNO', 'srcdate', 'revts']].head())\n",
    "print(f\"Percentage of rows with negative 'revts' values: {negative_percentage:.2f}%\")"
   ]
  },
  {
   "cell_type": "markdown",
   "metadata": {},
   "source": [
    "## B2. Remove negative values - less than 1% of DF"
   ]
  },
  {
   "cell_type": "code",
   "execution_count": 18,
   "metadata": {},
   "outputs": [],
   "source": [
    "# Remove negative values\n",
    "link_df = link_df[link_df['revts'] >= 0]"
   ]
  },
  {
   "cell_type": "markdown",
   "metadata": {},
   "source": [
    "# Take another look at nulls"
   ]
  },
  {
   "cell_type": "code",
   "execution_count": 20,
   "metadata": {},
   "outputs": [
    {
     "data": {
      "image/png": "[encoded data removed]",
      "text/plain": [
       "<Figure size 1200x400 with 1 Axes>"
      ]
     },
     "metadata": {},
     "output_type": "display_data"
    }
   ],
   "source": [
    "# Count the number of nulls in each column\n",
    "null_counts = link_df.isnull().sum()\n",
    "\n",
    "# Calculate the percentage of nulls in each column\n",
    "total_rows = len(link_df)\n",
    "null_percentages = (null_counts / total_rows) * 100\n",
    "null_percentages = null_percentages.sort_values(ascending=False)\n",
    "\n",
    "# Plot the percentages as a bar plot\n",
    "null_percentages.plot(kind=\"bar\", figsize=(12, 4), color=\"skyblue\")\n",
    "plt.title(\"Percentage of Null Values in Each Column\")\n",
    "plt.xlabel(\"Columns\")\n",
    "plt.ylabel(\"Percentage of Nulls (%)\")\n",
    "plt.show()"
   ]
  },
  {
   "cell_type": "code",
   "execution_count": 25,
   "metadata": {},
   "outputs": [
    {
     "data": {
      "text/plain": [
       "ibs        75.220780\n",
       "xsgas      75.035052\n",
       "xints      74.058901\n",
       "txts       73.037564\n",
       "caxts      72.818279\n",
       "nis        72.616603\n",
       "ppents     71.976357\n",
       "ptis       70.109775\n",
       "spis       69.539966\n",
       "emps       65.815109\n",
       "cogss      63.810976\n",
       "capxs      55.055187\n",
       "oibdps     53.288612\n",
       "ops        52.513473\n",
       "dps        52.493870\n",
       "oiadps     52.480248\n",
       "ias        48.449056\n",
       "geotp      48.148702\n",
       "esubs      39.404209\n",
       "ivaeqs     37.070151\n",
       "intseg      5.105024\n",
       "soptp1      2.880277\n",
       "oelim       0.513659\n",
       "txws        0.486414\n",
       "cik         0.464818\n",
       "gsubind     0.103330\n",
       "sales       0.000332\n",
       "revts       0.000000\n",
       "LPERMNO     0.000000\n",
       "srcdate     0.000000\n",
       "upds        0.000000\n",
       "sid         0.000000\n",
       "snms        0.000000\n",
       "stype       0.000000\n",
       "conm        0.000000\n",
       "LINKDT      0.000000\n",
       "sic         0.000000\n",
       "naics       0.000000\n",
       "LIID        0.000000\n",
       "dtype: float64"
      ]
     },
     "execution_count": 25,
     "metadata": {},
     "output_type": "execute_result"
    }
   ],
   "source": [
    "null_percentages"
   ]
  },
  {
   "cell_type": "markdown",
   "metadata": {
    "id": "fFZPxMwrjHZ7"
   },
   "source": [
    "# Review soptp1 - operating segment type\n",
    "\n",
    "Dataset is organized by segement\n"
   ]
  },
  {
   "cell_type": "markdown",
   "metadata": {
    "id": "XLrcEFXgjxCj"
   },
   "source": [
    "## C1. Fill soptp1 na with Unknown\n"
   ]
  },
  {
   "cell_type": "code",
   "execution_count": 21,
   "metadata": {},
   "outputs": [
    {
     "name": "stdout",
     "output_type": "stream",
     "text": [
      "Percentage of null values in soptp1 column: 2.88%\n"
     ]
    }
   ],
   "source": [
    "# Check the percentage of nulls in the sales column\n",
    "null_percentage = (link_df['soptp1'].isnull().sum() / len(link_df)) * 100\n",
    "print(f\"Percentage of null values in soptp1 column: {null_percentage:.2f}%\")"
   ]
  },
  {
   "cell_type": "code",
   "execution_count": 22,
   "metadata": {},
   "outputs": [],
   "source": [
    "link_df[\"soptp1\"] = link_df[\"soptp1\"].fillna(\"UNKNOWN\")"
   ]
  },
  {
   "cell_type": "markdown",
   "metadata": {
    "id": "HlMv0onVlb8S"
   },
   "source": [
    "# Review cik: central index key\n",
    "\n",
    "Generic column - identifier"
   ]
  },
  {
   "cell_type": "markdown",
   "metadata": {
    "id": "R9RnNahRmD8C"
   },
   "source": [
    "## D1. Fill cik with \"NO_CIK\"\n"
   ]
  },
  {
   "cell_type": "code",
   "execution_count": 23,
   "metadata": {
    "executionInfo": {
     "elapsed": 235,
     "status": "ok",
     "timestamp": 1718854321046,
     "user": {
      "displayName": "Rachel Gao",
      "userId": "10756354987170970544"
     },
     "user_tz": 420
    },
    "id": "KOWndA_4mD8C"
   },
   "outputs": [
    {
     "name": "stdout",
     "output_type": "stream",
     "text": [
      "Percentage of null values in CIK column: 0.46%\n"
     ]
    }
   ],
   "source": [
    "# Check the percentage of nulls in the CIK column\n",
    "null_percentage = (link_df['cik'].isnull().sum() / len(link_df)) * 100\n",
    "print(f\"Percentage of null values in CIK column: {null_percentage:.2f}%\")"
   ]
  },
  {
   "cell_type": "code",
   "execution_count": 24,
   "metadata": {},
   "outputs": [],
   "source": [
    "# Fill with a placeholder value\n",
    "link_df['cik'] = link_df['cik'].fillna('NO_CIK')"
   ]
  },
  {
   "cell_type": "markdown",
   "metadata": {},
   "source": [
    "# Try to identify columns systematically"
   ]
  },
  {
   "cell_type": "code",
   "execution_count": 26,
   "metadata": {},
   "outputs": [
    {
     "name": "stdout",
     "output_type": "stream",
     "text": [
      "Potential categorical columns: ['upds', 'geotp']\n"
     ]
    }
   ],
   "source": [
    "# Identify potential categorical columns\n",
    "def identify_potential_categorical(df, threshold=10):\n",
    "    potential_categorical = []\n",
    "    for col in df.columns:\n",
    "        if df[col].dtype in ['int64', 'float64']:\n",
    "            unique_values = df[col].nunique()\n",
    "            if unique_values <= threshold:\n",
    "                potential_categorical.append(col)\n",
    "    return potential_categorical\n",
    "\n",
    "potential_categorical = identify_potential_categorical(link_df)\n",
    "print(\"Potential categorical columns:\", potential_categorical)"
   ]
  },
  {
   "cell_type": "markdown",
   "metadata": {
    "id": "_38SVYiqmnDY"
   },
   "source": [
    "## E2. Keep only records where TRDSTAT == A (Active trading status)\n"
   ]
  },
  {
   "cell_type": "code",
   "execution_count": 23,
   "metadata": {
    "colab": {
     "base_uri": "https://localhost:8080/"
    },
    "executionInfo": {
     "elapsed": 693,
     "status": "ok",
     "timestamp": 1718854321738,
     "user": {
      "displayName": "Rachel Gao",
      "userId": "10756354987170970544"
     },
     "user_tz": 420
    },
    "id": "bzYgw2YymnDY",
    "outputId": "147b8a50-4d17-4896-c3c7-58bdbda2e766"
   },
   "outputs": [
    {
     "name": "stdout",
     "output_type": "stream",
     "text": [
      "num_records_removed:  0\n",
      "num_records_kept:  7679198\n"
     ]
    }
   ],
   "source": [
    "# og_len = len(crsp_df)\n",
    "# crsp_df = crsp_df[crsp_df[\"TRDSTAT\"] == \"A\"].reset_index(drop=True)\n",
    "# new_len = len(crsp_df)\n",
    "# print(\"num_records_removed: \", og_len - new_len)\n",
    "# print(\"num_records_kept: \", new_len)"
   ]
  },
  {
   "cell_type": "markdown",
   "metadata": {
    "id": "jQV033grnoPx"
   },
   "source": [
    "# Review SECSTAT: Security Status\n",
    "\n",
    "Security Status is a one-character code that describes the status of a security.\n"
   ]
  },
  {
   "cell_type": "markdown",
   "metadata": {
    "id": "tViC-J39noPx"
   },
   "source": [
    "## E1. Fill SECSTAT na with X as \"Unknown\"\n"
   ]
  },
  {
   "cell_type": "code",
   "execution_count": 24,
   "metadata": {
    "executionInfo": {
     "elapsed": 236,
     "status": "ok",
     "timestamp": 1718854321973,
     "user": {
      "displayName": "Rachel Gao",
      "userId": "10756354987170970544"
     },
     "user_tz": 420
    },
    "id": "alAHA1GenoPx"
   },
   "outputs": [],
   "source": [
    "# crsp_df[\"SECSTAT\"] = crsp_df[\"SECSTAT\"].fillna(\"X\")"
   ]
  },
  {
   "cell_type": "markdown",
   "metadata": {
    "id": "WrIEUgzVnoPx"
   },
   "source": [
    "## E2. Keep only records where SECSTAT == R (Regular Way)\n"
   ]
  },
  {
   "cell_type": "code",
   "execution_count": 25,
   "metadata": {
    "colab": {
     "base_uri": "https://localhost:8080/"
    },
    "executionInfo": {
     "elapsed": 825,
     "status": "ok",
     "timestamp": 1718854322796,
     "user": {
      "displayName": "Rachel Gao",
      "userId": "10756354987170970544"
     },
     "user_tz": 420
    },
    "id": "SZrG76YpnoPy",
    "outputId": "85ffe8e3-0983-4ef5-bc23-325d130042a3"
   },
   "outputs": [
    {
     "name": "stdout",
     "output_type": "stream",
     "text": [
      "num_records_removed:  0\n",
      "num_records_kept:  7679198\n"
     ]
    }
   ],
   "source": [
    "# og_len = len(crsp_df)\n",
    "# crsp_df = crsp_df[crsp_df[\"SECSTAT\"] == \"R\"].reset_index(drop=True)\n",
    "# new_len = len(crsp_df)\n",
    "# print(\"num_records_removed: \", og_len - new_len)\n",
    "# print(\"num_records_kept: \", new_len)"
   ]
  },
  {
   "cell_type": "markdown",
   "metadata": {
    "id": "-ymMf2NPJs21"
   },
   "source": [
    "# Take another look at the null analysis\n"
   ]
  },
  {
   "cell_type": "code",
   "execution_count": 35,
   "metadata": {
    "colab": {
     "base_uri": "https://localhost:8080/",
     "height": 493
    },
    "executionInfo": {
     "elapsed": 1313,
     "status": "ok",
     "timestamp": 1718854324107,
     "user": {
      "displayName": "Rachel Gao",
      "userId": "10756354987170970544"
     },
     "user_tz": 420
    },
    "id": "qKAJQ25mJs3A",
    "outputId": "466e3566-09a6-427a-a1df-61b98a37abb7"
   },
   "outputs": [
    {
     "data": {
      "image/png": "[encoded data removed]",
      "text/plain": [
       "<Figure size 1200x400 with 1 Axes>"
      ]
     },
     "metadata": {},
     "output_type": "display_data"
    }
   ],
   "source": [
    "# Count the number of nulls in each column\n",
    "null_counts = link_df.isnull().sum()\n",
    "\n",
    "# Calculate the percentage of nulls in each column\n",
    "total_rows = len(link_df)\n",
    "null_percentages = (null_counts / total_rows) * 100\n",
    "null_percentages = null_percentages.sort_values(ascending=False)\n",
    "\n",
    "# Plot the percentages as a bar plot\n",
    "ax = null_percentages.plot(kind=\"bar\", figsize=(12, 4), color=\"skyblue\")\n",
    "plt.title(\"Percentage of Null Values in Each Column\")\n",
    "plt.xlabel(\"Columns\")\n",
    "plt.ylim(0, max(null_percentages.values) + 10)\n",
    "plt.ylabel(\"Percentage of Nulls (%)\")\n",
    "\n",
    "# Annotate the bars with the percentage values\n",
    "for i, percentage in enumerate(null_percentages):\n",
    "    if percentage != 0:\n",
    "        ax.annotate(\n",
    "            f\"{percentage:.0f}%\",\n",
    "            xy=(i, percentage),\n",
    "            xytext=(0, 3),\n",
    "            textcoords=\"offset points\",\n",
    "            ha=\"center\",\n",
    "            va=\"bottom\",\n",
    "            color=\"red\",\n",
    "        )\n",
    "\n",
    "plt.show()"
   ]
  },
  {
   "cell_type": "markdown",
   "metadata": {
    "id": "YdaRMD0LLcA7"
   },
   "source": [
    "# Review NAICS: North American Industry Classification System Code\n",
    "\n",
    "North American Industry Classification System Code (NAICS) is an 6-character code used to group companies with similar products or services.\n",
    "\n",
    "NAICS is a hierachical code, containing up to six digits: The first two fields, NAICS sectors, designate general categories of economic activity, the third field, sub-sector, further defines the sector, the fourth field is the industry group, the fifth field is the NAICS industry, and the sixth field represents the national industry (a zero in the 6th digit generally indicates that the NAICS industry and teh country industry are the same).\n"
   ]
  },
  {
   "cell_type": "markdown",
   "metadata": {
    "id": "i0UhjNHQMjDu"
   },
   "source": [
    "## F1. Fill NAICS na with 999999 as \"Unknown\"\n"
   ]
  },
  {
   "cell_type": "code",
   "execution_count": 27,
   "metadata": {
    "executionInfo": {
     "elapsed": 2,
     "status": "ok",
     "timestamp": 1718854324107,
     "user": {
      "displayName": "Rachel Gao",
      "userId": "10756354987170970544"
     },
     "user_tz": 420
    },
    "id": "dX8B4fcNNGXd"
   },
   "outputs": [],
   "source": [
    "link_df[\"naics\"] = link_df[\"naics\"].fillna(\"999999\")"
   ]
  },
  {
   "cell_type": "markdown",
   "metadata": {
    "id": "WAtBKPuQNSib"
   },
   "source": [
    "## F2. Split NAICS to two columns ['NAICS_Sector', 'NAICS_Secondary']\n"
   ]
  },
  {
   "cell_type": "code",
   "execution_count": 37,
   "metadata": {
    "executionInfo": {
     "elapsed": 2172,
     "status": "ok",
     "timestamp": 1718854326277,
     "user": {
      "displayName": "Rachel Gao",
      "userId": "10756354987170970544"
     },
     "user_tz": 420
    },
    "id": "R_Xr5i9zOqqo"
   },
   "outputs": [],
   "source": [
    "link_df[\"NAICS_Sector\"] = link_df[\"naics\"].astype(str).str[:2]\n",
    "link_df[\"NAICS_Secondary\"] = link_df[\"naics\"].astype(str).str[2:]"
   ]
  },
  {
   "cell_type": "code",
   "execution_count": 38,
   "metadata": {
    "colab": {
     "base_uri": "https://localhost:8080/"
    },
    "executionInfo": {
     "elapsed": 868,
     "status": "ok",
     "timestamp": 1718854327143,
     "user": {
      "displayName": "Rachel Gao",
      "userId": "10756354987170970544"
     },
     "user_tz": 420
    },
    "id": "2UVdb4TcNSic",
    "outputId": "53c81e29-e05d-4fad-dd47-2eaec26b8f8f"
   },
   "outputs": [
    {
     "name": "stdout",
     "output_type": "stream",
     "text": [
      "---------- NAICS_Sector ----------\n",
      "23\n",
      "NAICS_Sector\n",
      "33    82579\n",
      "32    42605\n",
      "52    41603\n",
      "51    34902\n",
      "21    17877\n",
      "53    14561\n",
      "31    11339\n",
      "54    10189\n",
      "42     8388\n",
      "48     7430\n",
      "22     7088\n",
      "56     6218\n",
      "45     5512\n",
      "23     5108\n",
      "72     4566\n",
      "44     3384\n",
      "62     3342\n",
      "61     2734\n",
      "99     2108\n",
      "71     1886\n",
      "11     1080\n",
      "81      573\n",
      "49      506\n",
      "Name: count, dtype: int64\n",
      "---------- NAICS_Secondary ----------\n",
      "512\n",
      "NAICS_Secondary\n",
      "2110    18025\n",
      "5414    12686\n",
      "8210    10160\n",
      "4413     9439\n",
      "1120     8934\n",
      "        ...  \n",
      "229         3\n",
      "35          3\n",
      "1419        3\n",
      "1940        2\n",
      "999         1\n",
      "Name: count, Length: 512, dtype: int64\n"
     ]
    }
   ],
   "source": [
    "for column in [\"NAICS_Sector\", \"NAICS_Secondary\"]:\n",
    "    print(\"-\" * 10, column, \"-\" * 10)\n",
    "    print(link_df[column].nunique())\n",
    "    print(link_df[column].value_counts())"
   ]
  },
  {
   "cell_type": "markdown",
   "metadata": {
    "id": "oszoTeXHQGLp"
   },
   "source": [
    "## F3. Clean-up the NAICS sector column to readable format\n",
    "\n",
    "https://www.census.gov/naics/reference_files_tools/2022_NAICS_Manual.pdf\n"
   ]
  },
  {
   "cell_type": "code",
   "execution_count": 40,
   "metadata": {
    "executionInfo": {
     "elapsed": 3296,
     "status": "ok",
     "timestamp": 1718854330437,
     "user": {
      "displayName": "Rachel Gao",
      "userId": "10756354987170970544"
     },
     "user_tz": 420
    },
    "id": "Ctye7VYCQLjj"
   },
   "outputs": [],
   "source": [
    "sector_dict = {\n",
    "    \"10\": \"Metal Mining\",\n",
    "    \"11\": \"Agriculture, Forestry, Fishing and Hunting\",\n",
    "    \"21\": \"Mining, Quarrying, and Oil and Gas Extraction\",\n",
    "    \"22\": \"Utilities\",\n",
    "    \"23\": \"Construction\",\n",
    "    \"31\": \"Manufacturing\",\n",
    "    \"32\": \"Manufacturing\",\n",
    "    \"33\": \"Manufacturing\",\n",
    "    \"42\": \"Wholesale Trade\",\n",
    "    \"44\": \"Retail Trade\",\n",
    "    \"45\": \"Retail Trade\",\n",
    "    \"48\": \"Transportation and Warehousing\",\n",
    "    \"49\": \"Transportation and Warehousing\",\n",
    "    \"51\": \"Information\",\n",
    "    \"52\": \"Finance and Insurance\",\n",
    "    \"53\": \"Real Estate and Rental and Leasing\",\n",
    "    \"54\": \"Professional, Scientific, and Technical Services\",\n",
    "    \"55\": \"Management of Companies and Enterprises\",\n",
    "    \"56\": \"Administrative and Support and Waste Management and Remediation Services\",\n",
    "    \"61\": \"Educational Services\",\n",
    "    \"62\": \"Health Care and Social Assistance\",\n",
    "    \"67\": \"Holding And Other Investment Offices\",\n",
    "    \"71\": \"Arts, Entertainment, and Recreation\",\n",
    "    \"72\": \"Accommodation and Food Services\",\n",
    "    \"73\": \"Business Services\",\n",
    "    \"81\": \"Other Services (except Public Administration)\",\n",
    "    \"92\": \"Public Administration\",\n",
    "    \"99\": \"Unknown\",\n",
    "}\n",
    "\n",
    "link_df[\"NAICS_Sector_Name\"] = link_df[\"NAICS_Sector\"].replace(sector_dict)"
   ]
  },
  {
   "cell_type": "code",
   "execution_count": 43,
   "metadata": {
    "colab": {
     "base_uri": "https://localhost:8080/"
    },
    "executionInfo": {
     "elapsed": 4,
     "status": "ok",
     "timestamp": 1718854330437,
     "user": {
      "displayName": "Rachel Gao",
      "userId": "10756354987170970544"
     },
     "user_tz": 420
    },
    "id": "ah-Od3UHRAPs",
    "outputId": "6665976e-4d0d-4f5f-a900-874b6c7aad5e"
   },
   "outputs": [
    {
     "name": "stdout",
     "output_type": "stream",
     "text": [
      "NAICS_Sector_Name\n",
      "Manufacturing                                                               136523\n",
      "Finance and Insurance                                                        41603\n",
      "Information                                                                  34902\n",
      "Mining, Quarrying, and Oil and Gas Extraction                                17877\n",
      "Real Estate and Rental and Leasing                                           14561\n",
      "Professional, Scientific, and Technical Services                             10189\n",
      "Retail Trade                                                                  8896\n",
      "Wholesale Trade                                                               8388\n",
      "Transportation and Warehousing                                                7936\n",
      "Utilities                                                                     7088\n",
      "Administrative and Support and Waste Management and Remediation Services      6218\n",
      "Construction                                                                  5108\n",
      "Accommodation and Food Services                                               4566\n",
      "Health Care and Social Assistance                                             3342\n",
      "Educational Services                                                          2734\n",
      "Unknown                                                                       2108\n",
      "Arts, Entertainment, and Recreation                                           1886\n",
      "Agriculture, Forestry, Fishing and Hunting                                    1080\n",
      "Other Services (except Public Administration)                                  573\n",
      "Name: count, dtype: int64\n"
     ]
    }
   ],
   "source": [
    "print(link_df[\"NAICS_Sector_Name\"].value_counts())"
   ]
  },
  {
   "cell_type": "code",
   "execution_count": 45,
   "metadata": {
    "colab": {
     "base_uri": "https://localhost:8080/",
     "height": 547
    },
    "executionInfo": {
     "elapsed": 2560,
     "status": "ok",
     "timestamp": 1718854332995,
     "user": {
      "displayName": "Rachel Gao",
      "userId": "10756354987170970544"
     },
     "user_tz": 420
    },
    "id": "XVZi0gC0ThzM",
    "outputId": "644d6f12-aa39-4ed6-b526-2b32e73e41ae"
   },
   "outputs": [
    {
     "data": {
      "image/png": "[encoded data removed]",
      "text/plain": [
       "<Figure size 1000x600 with 1 Axes>"
      ]
     },
     "metadata": {},
     "output_type": "display_data"
    }
   ],
   "source": [
    "# Calculate the category counts and sort them in descending order\n",
    "category_counts = link_df[\"NAICS_Sector_Name\"].value_counts().sort_values(ascending=False)\n",
    "\n",
    "# Plot the counts distribution\n",
    "plt.figure(figsize=(10, 6))\n",
    "sns.countplot(data=link_df, y=\"NAICS_Sector_Name\", order=category_counts.index)\n",
    "plt.title(\"Distribution of NAICS_Sector_Name\")\n",
    "plt.xlabel(\"Number of Records\")\n",
    "plt.ylabel(\"NAICS_Sector_Name\")\n",
    "\n",
    "# Annotate the bars with the count values\n",
    "for i, count in enumerate(category_counts):\n",
    "    plt.text(count, i, f\"{count}\", ha=\"left\", va=\"center\", color=\"black\")\n",
    "\n",
    "plt.show()"
   ]
  },
  {
   "cell_type": "markdown",
   "metadata": {
    "id": "m2ZgkWdKWwwu"
   },
   "source": [
    "# Review NUMTRD: Number of Trades\n",
    "\n",
    "Daily: Number of Trades, Nasdaq contains the number of trades made on the Nasdaq Stock Market each date for a security. Trades on all exchanges are connected to Nasdaqs composite pricing network and all paper trades are included in the count. If the number of trades is unavailable, the field is set to 99.\n"
   ]
  },
  {
   "cell_type": "markdown",
   "metadata": {
    "id": "Ze5kilDSWwwu"
   },
   "source": [
    "## G1. Fill NUMTRD na with 99 as \"Unknown\"\n"
   ]
  },
  {
   "cell_type": "code",
   "execution_count": 33,
   "metadata": {
    "executionInfo": {
     "elapsed": 14,
     "status": "ok",
     "timestamp": 1718854332995,
     "user": {
      "displayName": "Rachel Gao",
      "userId": "10756354987170970544"
     },
     "user_tz": 420
    },
    "id": "8WdPhliqWwwu"
   },
   "outputs": [],
   "source": [
    "# crsp_df[\"NUMTRD\"] = crsp_df[\"NUMTRD\"].fillna(\"99\")"
   ]
  },
  {
   "cell_type": "markdown",
   "metadata": {
    "id": "hmiat75eXFY4"
   },
   "source": [
    "# Review all remaining value related columns.\n"
   ]
  },
  {
   "cell_type": "markdown",
   "metadata": {},
   "source": [
    "## H1. Drop all LPERMNO with less than 128 days of return"
   ]
  },
  {
   "cell_type": "code",
   "execution_count": 47,
   "metadata": {},
   "outputs": [
    {
     "name": "stdout",
     "output_type": "stream",
     "text": [
      "num_PERMNO_og:  465\n",
      "num_PERMNO_removed:  0\n",
      "num_PERMNO_kept:  465\n"
     ]
    }
   ],
   "source": [
    "og_permno = link_df['LPERMNO'].nunique()\n",
    "permno_counts = link_df['LPERMNO'].value_counts()\n",
    "permno_to_keep = permno_counts[permno_counts >= 128].index\n",
    "link_df = link_df[link_df['LPERMNO'].isin(permno_to_keep)].reset_index(drop=True)\n",
    "\n",
    "assert link_df[\"LPERMNO\"].value_counts().min() >= 128\n",
    "\n",
    "new_permno = link_df['LPERMNO'].nunique()\n",
    "print(\"num_PERMNO_og: \", og_permno)\n",
    "print(\"num_PERMNO_removed: \", og_permno - new_permno)\n",
    "print(\"num_PERMNO_kept: \", new_permno)"
   ]
  },
  {
   "cell_type": "markdown",
   "metadata": {},
   "source": [
    "## H2. Forward fill trading values"
   ]
  },
  {
   "cell_type": "code",
   "execution_count": 48,
   "metadata": {},
   "outputs": [
    {
     "ename": "KeyError",
     "evalue": "\"None of [Index(['askhi', 'ask', 'bidlo', 'bid', 'openprc', 'prc', 'ret', 'cfacpr',\\n       'cfacshr', 'vwretd', 'ewretd', 'sprtrn'],\\n      dtype='object')] are in the [columns]\"",
     "output_type": "error",
     "traceback": [
      "\u001b[0;31m---------------------------------------------------------------------------\u001b[0m",
      "\u001b[0;31mKeyError\u001b[0m                                  Traceback (most recent call last)",
      "Cell \u001b[0;32mIn[48], line 16\u001b[0m\n\u001b[1;32m      1\u001b[0m fill_cols \u001b[38;5;241m=\u001b[39m [\n\u001b[1;32m      2\u001b[0m     \u001b[38;5;66;03m# Previous Variables\u001b[39;00m\n\u001b[1;32m      3\u001b[0m     \u001b[38;5;124m\"\u001b[39m\u001b[38;5;124maskhi\u001b[39m\u001b[38;5;124m\"\u001b[39m,\n\u001b[0;32m   (...)\u001b[0m\n\u001b[1;32m     14\u001b[0m     \u001b[38;5;124m\"\u001b[39m\u001b[38;5;124msprtrn\u001b[39m\u001b[38;5;124m\"\u001b[39m,\n\u001b[1;32m     15\u001b[0m ]\n\u001b[0;32m---> 16\u001b[0m link_df[fill_cols] \u001b[38;5;241m=\u001b[39m \u001b[43mlink_df\u001b[49m\u001b[43m[\u001b[49m\u001b[43mfill_cols\u001b[49m\u001b[43m]\u001b[49m\u001b[38;5;241m.\u001b[39mapply(\u001b[38;5;28;01mlambda\u001b[39;00m x: pd\u001b[38;5;241m.\u001b[39mto_numeric(x, errors\u001b[38;5;241m=\u001b[39m\u001b[38;5;124m'\u001b[39m\u001b[38;5;124mcoerce\u001b[39m\u001b[38;5;124m'\u001b[39m))\n",
      "File \u001b[0;32m/opt/conda/lib/python3.10/site-packages/pandas/core/frame.py:3899\u001b[0m, in \u001b[0;36mDataFrame.__getitem__\u001b[0;34m(self, key)\u001b[0m\n\u001b[1;32m   3897\u001b[0m     \u001b[38;5;28;01mif\u001b[39;00m is_iterator(key):\n\u001b[1;32m   3898\u001b[0m         key \u001b[38;5;241m=\u001b[39m \u001b[38;5;28mlist\u001b[39m(key)\n\u001b[0;32m-> 3899\u001b[0m     indexer \u001b[38;5;241m=\u001b[39m \u001b[38;5;28;43mself\u001b[39;49m\u001b[38;5;241;43m.\u001b[39;49m\u001b[43mcolumns\u001b[49m\u001b[38;5;241;43m.\u001b[39;49m\u001b[43m_get_indexer_strict\u001b[49m\u001b[43m(\u001b[49m\u001b[43mkey\u001b[49m\u001b[43m,\u001b[49m\u001b[43m \u001b[49m\u001b[38;5;124;43m\"\u001b[39;49m\u001b[38;5;124;43mcolumns\u001b[39;49m\u001b[38;5;124;43m\"\u001b[39;49m\u001b[43m)\u001b[49m[\u001b[38;5;241m1\u001b[39m]\n\u001b[1;32m   3901\u001b[0m \u001b[38;5;66;03m# take() does not accept boolean indexers\u001b[39;00m\n\u001b[1;32m   3902\u001b[0m \u001b[38;5;28;01mif\u001b[39;00m \u001b[38;5;28mgetattr\u001b[39m(indexer, \u001b[38;5;124m\"\u001b[39m\u001b[38;5;124mdtype\u001b[39m\u001b[38;5;124m\"\u001b[39m, \u001b[38;5;28;01mNone\u001b[39;00m) \u001b[38;5;241m==\u001b[39m \u001b[38;5;28mbool\u001b[39m:\n",
      "File \u001b[0;32m/opt/conda/lib/python3.10/site-packages/pandas/core/indexes/base.py:6115\u001b[0m, in \u001b[0;36mIndex._get_indexer_strict\u001b[0;34m(self, key, axis_name)\u001b[0m\n\u001b[1;32m   6112\u001b[0m \u001b[38;5;28;01melse\u001b[39;00m:\n\u001b[1;32m   6113\u001b[0m     keyarr, indexer, new_indexer \u001b[38;5;241m=\u001b[39m \u001b[38;5;28mself\u001b[39m\u001b[38;5;241m.\u001b[39m_reindex_non_unique(keyarr)\n\u001b[0;32m-> 6115\u001b[0m \u001b[38;5;28;43mself\u001b[39;49m\u001b[38;5;241;43m.\u001b[39;49m\u001b[43m_raise_if_missing\u001b[49m\u001b[43m(\u001b[49m\u001b[43mkeyarr\u001b[49m\u001b[43m,\u001b[49m\u001b[43m \u001b[49m\u001b[43mindexer\u001b[49m\u001b[43m,\u001b[49m\u001b[43m \u001b[49m\u001b[43maxis_name\u001b[49m\u001b[43m)\u001b[49m\n\u001b[1;32m   6117\u001b[0m keyarr \u001b[38;5;241m=\u001b[39m \u001b[38;5;28mself\u001b[39m\u001b[38;5;241m.\u001b[39mtake(indexer)\n\u001b[1;32m   6118\u001b[0m \u001b[38;5;28;01mif\u001b[39;00m \u001b[38;5;28misinstance\u001b[39m(key, Index):\n\u001b[1;32m   6119\u001b[0m     \u001b[38;5;66;03m# GH 42790 - Preserve name from an Index\u001b[39;00m\n",
      "File \u001b[0;32m/opt/conda/lib/python3.10/site-packages/pandas/core/indexes/base.py:6176\u001b[0m, in \u001b[0;36mIndex._raise_if_missing\u001b[0;34m(self, key, indexer, axis_name)\u001b[0m\n\u001b[1;32m   6174\u001b[0m     \u001b[38;5;28;01mif\u001b[39;00m use_interval_msg:\n\u001b[1;32m   6175\u001b[0m         key \u001b[38;5;241m=\u001b[39m \u001b[38;5;28mlist\u001b[39m(key)\n\u001b[0;32m-> 6176\u001b[0m     \u001b[38;5;28;01mraise\u001b[39;00m \u001b[38;5;167;01mKeyError\u001b[39;00m(\u001b[38;5;124mf\u001b[39m\u001b[38;5;124m\"\u001b[39m\u001b[38;5;124mNone of [\u001b[39m\u001b[38;5;132;01m{\u001b[39;00mkey\u001b[38;5;132;01m}\u001b[39;00m\u001b[38;5;124m] are in the [\u001b[39m\u001b[38;5;132;01m{\u001b[39;00maxis_name\u001b[38;5;132;01m}\u001b[39;00m\u001b[38;5;124m]\u001b[39m\u001b[38;5;124m\"\u001b[39m)\n\u001b[1;32m   6178\u001b[0m not_found \u001b[38;5;241m=\u001b[39m \u001b[38;5;28mlist\u001b[39m(ensure_index(key)[missing_mask\u001b[38;5;241m.\u001b[39mnonzero()[\u001b[38;5;241m0\u001b[39m]]\u001b[38;5;241m.\u001b[39munique())\n\u001b[1;32m   6179\u001b[0m \u001b[38;5;28;01mraise\u001b[39;00m \u001b[38;5;167;01mKeyError\u001b[39;00m(\u001b[38;5;124mf\u001b[39m\u001b[38;5;124m\"\u001b[39m\u001b[38;5;132;01m{\u001b[39;00mnot_found\u001b[38;5;132;01m}\u001b[39;00m\u001b[38;5;124m not in index\u001b[39m\u001b[38;5;124m\"\u001b[39m)\n",
      "\u001b[0;31mKeyError\u001b[0m: \"None of [Index(['askhi', 'ask', 'bidlo', 'bid', 'openprc', 'prc', 'ret', 'cfacpr',\\n       'cfacshr', 'vwretd', 'ewretd', 'sprtrn'],\\n      dtype='object')] are in the [columns]\""
     ]
    }
   ],
   "source": [
    "fill_cols = [\n",
    "    # Previous Variables\n",
    "    \"askhi\",\n",
    "    \"ask\",\n",
    "    \"bidlo\",\n",
    "    \"bid\",\n",
    "    \"openprc\",\n",
    "    \"prc\",\n",
    "    \"ret\",\n",
    "    \"cfacpr\",\n",
    "    \"cfacshr\",\n",
    "    \"vwretd\",\n",
    "    \"ewretd\",\n",
    "    \"sprtrn\",\n",
    "]\n",
    "link_df[fill_cols] = link_df[fill_cols].apply(lambda x: pd.to_numeric(x, errors='coerce'))"
   ]
  },
  {
   "cell_type": "code",
   "execution_count": 49,
   "metadata": {},
   "outputs": [
    {
     "name": "stdout",
     "output_type": "stream",
     "text": [
      "before forward fill\n"
     ]
    },
    {
     "ename": "KeyError",
     "evalue": "'askhi'",
     "output_type": "error",
     "traceback": [
      "\u001b[0;31m---------------------------------------------------------------------------\u001b[0m",
      "\u001b[0;31mKeyError\u001b[0m                                  Traceback (most recent call last)",
      "File \u001b[0;32m/opt/conda/lib/python3.10/site-packages/pandas/core/indexes/base.py:3791\u001b[0m, in \u001b[0;36mIndex.get_loc\u001b[0;34m(self, key)\u001b[0m\n\u001b[1;32m   3790\u001b[0m \u001b[38;5;28;01mtry\u001b[39;00m:\n\u001b[0;32m-> 3791\u001b[0m     \u001b[38;5;28;01mreturn\u001b[39;00m \u001b[38;5;28;43mself\u001b[39;49m\u001b[38;5;241;43m.\u001b[39;49m\u001b[43m_engine\u001b[49m\u001b[38;5;241;43m.\u001b[39;49m\u001b[43mget_loc\u001b[49m\u001b[43m(\u001b[49m\u001b[43mcasted_key\u001b[49m\u001b[43m)\u001b[49m\n\u001b[1;32m   3792\u001b[0m \u001b[38;5;28;01mexcept\u001b[39;00m \u001b[38;5;167;01mKeyError\u001b[39;00m \u001b[38;5;28;01mas\u001b[39;00m err:\n",
      "File \u001b[0;32mindex.pyx:152\u001b[0m, in \u001b[0;36mpandas._libs.index.IndexEngine.get_loc\u001b[0;34m()\u001b[0m\n",
      "File \u001b[0;32mindex.pyx:181\u001b[0m, in \u001b[0;36mpandas._libs.index.IndexEngine.get_loc\u001b[0;34m()\u001b[0m\n",
      "File \u001b[0;32mpandas/_libs/hashtable_class_helper.pxi:7080\u001b[0m, in \u001b[0;36mpandas._libs.hashtable.PyObjectHashTable.get_item\u001b[0;34m()\u001b[0m\n",
      "File \u001b[0;32mpandas/_libs/hashtable_class_helper.pxi:7088\u001b[0m, in \u001b[0;36mpandas._libs.hashtable.PyObjectHashTable.get_item\u001b[0;34m()\u001b[0m\n",
      "\u001b[0;31mKeyError\u001b[0m: 'askhi'",
      "\nThe above exception was the direct cause of the following exception:\n",
      "\u001b[0;31mKeyError\u001b[0m                                  Traceback (most recent call last)",
      "Cell \u001b[0;32mIn[49], line 3\u001b[0m\n\u001b[1;32m      1\u001b[0m \u001b[38;5;28mprint\u001b[39m(\u001b[38;5;124m\"\u001b[39m\u001b[38;5;124mbefore forward fill\u001b[39m\u001b[38;5;124m\"\u001b[39m)\n\u001b[1;32m      2\u001b[0m \u001b[38;5;28;01mfor\u001b[39;00m col \u001b[38;5;129;01min\u001b[39;00m fill_cols:\n\u001b[0;32m----> 3\u001b[0m   \u001b[38;5;28mprint\u001b[39m(\u001b[38;5;124mf\u001b[39m\u001b[38;5;124m\"\u001b[39m\u001b[38;5;124mnumber of nulls in column \u001b[39m\u001b[38;5;132;01m{\u001b[39;00mcol\u001b[38;5;132;01m}\u001b[39;00m\u001b[38;5;124m: \u001b[39m\u001b[38;5;124m\"\u001b[39m, \u001b[38;5;28mlen\u001b[39m(link_df[\u001b[43mlink_df\u001b[49m\u001b[43m[\u001b[49m\u001b[43mcol\u001b[49m\u001b[43m]\u001b[49m\u001b[38;5;241m.\u001b[39misnull()]))\n",
      "File \u001b[0;32m/opt/conda/lib/python3.10/site-packages/pandas/core/frame.py:3893\u001b[0m, in \u001b[0;36mDataFrame.__getitem__\u001b[0;34m(self, key)\u001b[0m\n\u001b[1;32m   3891\u001b[0m \u001b[38;5;28;01mif\u001b[39;00m \u001b[38;5;28mself\u001b[39m\u001b[38;5;241m.\u001b[39mcolumns\u001b[38;5;241m.\u001b[39mnlevels \u001b[38;5;241m>\u001b[39m \u001b[38;5;241m1\u001b[39m:\n\u001b[1;32m   3892\u001b[0m     \u001b[38;5;28;01mreturn\u001b[39;00m \u001b[38;5;28mself\u001b[39m\u001b[38;5;241m.\u001b[39m_getitem_multilevel(key)\n\u001b[0;32m-> 3893\u001b[0m indexer \u001b[38;5;241m=\u001b[39m \u001b[38;5;28;43mself\u001b[39;49m\u001b[38;5;241;43m.\u001b[39;49m\u001b[43mcolumns\u001b[49m\u001b[38;5;241;43m.\u001b[39;49m\u001b[43mget_loc\u001b[49m\u001b[43m(\u001b[49m\u001b[43mkey\u001b[49m\u001b[43m)\u001b[49m\n\u001b[1;32m   3894\u001b[0m \u001b[38;5;28;01mif\u001b[39;00m is_integer(indexer):\n\u001b[1;32m   3895\u001b[0m     indexer \u001b[38;5;241m=\u001b[39m [indexer]\n",
      "File \u001b[0;32m/opt/conda/lib/python3.10/site-packages/pandas/core/indexes/base.py:3798\u001b[0m, in \u001b[0;36mIndex.get_loc\u001b[0;34m(self, key)\u001b[0m\n\u001b[1;32m   3793\u001b[0m     \u001b[38;5;28;01mif\u001b[39;00m \u001b[38;5;28misinstance\u001b[39m(casted_key, \u001b[38;5;28mslice\u001b[39m) \u001b[38;5;129;01mor\u001b[39;00m (\n\u001b[1;32m   3794\u001b[0m         \u001b[38;5;28misinstance\u001b[39m(casted_key, abc\u001b[38;5;241m.\u001b[39mIterable)\n\u001b[1;32m   3795\u001b[0m         \u001b[38;5;129;01mand\u001b[39;00m \u001b[38;5;28many\u001b[39m(\u001b[38;5;28misinstance\u001b[39m(x, \u001b[38;5;28mslice\u001b[39m) \u001b[38;5;28;01mfor\u001b[39;00m x \u001b[38;5;129;01min\u001b[39;00m casted_key)\n\u001b[1;32m   3796\u001b[0m     ):\n\u001b[1;32m   3797\u001b[0m         \u001b[38;5;28;01mraise\u001b[39;00m InvalidIndexError(key)\n\u001b[0;32m-> 3798\u001b[0m     \u001b[38;5;28;01mraise\u001b[39;00m \u001b[38;5;167;01mKeyError\u001b[39;00m(key) \u001b[38;5;28;01mfrom\u001b[39;00m \u001b[38;5;21;01merr\u001b[39;00m\n\u001b[1;32m   3799\u001b[0m \u001b[38;5;28;01mexcept\u001b[39;00m \u001b[38;5;167;01mTypeError\u001b[39;00m:\n\u001b[1;32m   3800\u001b[0m     \u001b[38;5;66;03m# If we have a listlike key, _check_indexing_error will raise\u001b[39;00m\n\u001b[1;32m   3801\u001b[0m     \u001b[38;5;66;03m#  InvalidIndexError. Otherwise we fall through and re-raise\u001b[39;00m\n\u001b[1;32m   3802\u001b[0m     \u001b[38;5;66;03m#  the TypeError.\u001b[39;00m\n\u001b[1;32m   3803\u001b[0m     \u001b[38;5;28mself\u001b[39m\u001b[38;5;241m.\u001b[39m_check_indexing_error(key)\n",
      "\u001b[0;31mKeyError\u001b[0m: 'askhi'"
     ]
    }
   ],
   "source": [
    "print(\"before forward fill\")\n",
    "for col in fill_cols:\n",
    "  print(f\"number of nulls in column {col}: \", len(link_df[link_df[col].isnull()]))"
   ]
  },
  {
   "cell_type": "code",
   "execution_count": 37,
   "metadata": {},
   "outputs": [
    {
     "data": {
      "text/plain": [
       "PERMNO                               10028\n",
       "date                   2018-08-30 00:00:00\n",
       "SHRCD                                 11.0\n",
       "EXCHCD                                   2\n",
       "NCUSIP                            23323G10\n",
       "TICKER                                DGSE\n",
       "COMNAM               D G S E COMPANIES INC\n",
       "NAICS                             448310.0\n",
       "PRIMEXCH                                 A\n",
       "TRDSTAT                                  A\n",
       "SECSTAT                                  R\n",
       "CUSIP                             29402E10\n",
       "BIDLO                               0.6897\n",
       "ASKHI                                  0.7\n",
       "PRC                                    NaN\n",
       "VOL                                    0.0\n",
       "RET                               0.022891\n",
       "BID                                 0.6897\n",
       "ASK                                    0.7\n",
       "SHROUT                             26924.0\n",
       "CFACPR                                 1.0\n",
       "CFACSHR                                1.0\n",
       "OPENPRC                                NaN\n",
       "NUMTRD                                  99\n",
       "vwretd                           -0.004428\n",
       "ewretd                           -0.003806\n",
       "sprtrn                            -0.00443\n",
       "SHRCD_Type                               1\n",
       "SHRCD_Detail                             1\n",
       "NAICS_Sector                            44\n",
       "NAICS_Secondary                     8310.0\n",
       "NAICS_Sector_Name             Retail Trade\n",
       "Name: 1676, dtype: object"
      ]
     },
     "execution_count": 37,
     "metadata": {},
     "output_type": "execute_result"
    }
   ],
   "source": [
    "# pick an example for visual inspection\n",
    "review_idx = crsp_df[crsp_df[\"PRC\"].isnull()].index[0]\n",
    "crsp_df[crsp_df[\"PRC\"].isnull()].iloc[0]"
   ]
  },
  {
   "cell_type": "code",
   "execution_count": 38,
   "metadata": {},
   "outputs": [],
   "source": [
    "# forward fill\n",
    "for col in fill_cols:\n",
    "  crsp_df[col] = crsp_df.groupby('PERMNO')[col].ffill()"
   ]
  },
  {
   "cell_type": "code",
   "execution_count": 39,
   "metadata": {},
   "outputs": [
    {
     "data": {
      "text/plain": [
       "1675    0.6793\n",
       "1676    0.6793\n",
       "Name: PRC, dtype: float64"
      ]
     },
     "execution_count": 39,
     "metadata": {},
     "output_type": "execute_result"
    }
   ],
   "source": [
    "# visually inspect the example to ensure the price was forward filled correctly\n",
    "crsp_df.iloc[review_idx-1 : review_idx+1][\"PRC\"]"
   ]
  },
  {
   "cell_type": "code",
   "execution_count": 40,
   "metadata": {},
   "outputs": [
    {
     "name": "stdout",
     "output_type": "stream",
     "text": [
      "after forward fill\n",
      "number of nulls in column VOL:  134\n",
      "number of nulls in column SHROUT:  0\n",
      "number of nulls in column ASKHI:  135\n",
      "number of nulls in column ASK:  141\n",
      "number of nulls in column BIDLO:  135\n",
      "number of nulls in column BID:  140\n",
      "number of nulls in column OPENPRC:  2099\n",
      "number of nulls in column PRC:  2099\n",
      "number of nulls in column CFACPR:  0\n",
      "number of nulls in column CFACSHR:  0\n",
      "number of nulls in column vwretd:  0\n",
      "number of nulls in column ewretd:  0\n",
      "number of nulls in column sprtrn:  0\n"
     ]
    }
   ],
   "source": [
    "print(\"after forward fill\")\n",
    "for col in fill_cols:\n",
    "  print(f\"number of nulls in column {col}: \", len(crsp_df[crsp_df[col].isnull()]))"
   ]
  },
  {
   "cell_type": "markdown",
   "metadata": {},
   "source": [
    "## H3. If PRC is still NaN, that means it was the first day the stock was listed on the exchange, drop these records since we cannot calculate the return for these days"
   ]
  },
  {
   "cell_type": "code",
   "execution_count": 41,
   "metadata": {},
   "outputs": [],
   "source": [
    "crsp_df.dropna(subset=[\"PRC\"], inplace=True)\n",
    "crsp_df.reset_index(drop=True, inplace=True)"
   ]
  },
  {
   "cell_type": "code",
   "execution_count": 42,
   "metadata": {},
   "outputs": [
    {
     "name": "stdout",
     "output_type": "stream",
     "text": [
      "after forward fill\n",
      "number of nulls in column VOL:  0\n",
      "number of nulls in column SHROUT:  0\n",
      "number of nulls in column ASKHI:  0\n",
      "number of nulls in column ASK:  6\n",
      "number of nulls in column BIDLO:  0\n",
      "number of nulls in column BID:  6\n",
      "number of nulls in column OPENPRC:  0\n",
      "number of nulls in column PRC:  0\n",
      "number of nulls in column CFACPR:  0\n",
      "number of nulls in column CFACSHR:  0\n",
      "number of nulls in column vwretd:  0\n",
      "number of nulls in column ewretd:  0\n",
      "number of nulls in column sprtrn:  0\n"
     ]
    }
   ],
   "source": [
    "print(\"after forward fill\")\n",
    "for col in fill_cols:\n",
    "  print(f\"number of nulls in column {col}: \", len(crsp_df[crsp_df[col].isnull()]))"
   ]
  },
  {
   "cell_type": "markdown",
   "metadata": {},
   "source": [
    "## H4. If ASK, BID, OPENPRC are still NaN, fill them with 0"
   ]
  },
  {
   "cell_type": "code",
   "execution_count": 43,
   "metadata": {},
   "outputs": [],
   "source": [
    "crsp_df[\"ASK\"] = crsp_df[\"ASK\"].fillna(0)\n",
    "crsp_df[\"BID\"] = crsp_df[\"BID\"].fillna(0)\n",
    "crsp_df[\"OPENPRC\"] = crsp_df[\"OPENPRC\"].fillna(0)"
   ]
  },
  {
   "cell_type": "code",
   "execution_count": 44,
   "metadata": {},
   "outputs": [
    {
     "name": "stdout",
     "output_type": "stream",
     "text": [
      "confirm forward fill was complete\n"
     ]
    }
   ],
   "source": [
    "print(\"confirm forward fill was complete\")\n",
    "for col in fill_cols:\n",
    "  assert len(crsp_df[crsp_df[col].isnull()]) == 0"
   ]
  },
  {
   "cell_type": "markdown",
   "metadata": {},
   "source": [
    "## H5. If RET is NaN, calculate the RET based on forward filled PRICE"
   ]
  },
  {
   "cell_type": "code",
   "execution_count": 45,
   "metadata": {},
   "outputs": [
    {
     "name": "stdout",
     "output_type": "stream",
     "text": [
      "number of nulls in column RET:  4334\n"
     ]
    }
   ],
   "source": [
    "crsp_df[\"RET\"] = pd.to_numeric(crsp_df['RET'], errors='coerce')\n",
    "print(f\"number of nulls in column RET: \", len(crsp_df[crsp_df[\"RET\"].isnull()]))"
   ]
  },
  {
   "cell_type": "code",
   "execution_count": 46,
   "metadata": {},
   "outputs": [
    {
     "data": {
      "text/plain": [
       "PERMNO                                           10051\n",
       "date                               2022-10-04 00:00:00\n",
       "SHRCD                                             11.0\n",
       "EXCHCD                                               1\n",
       "NCUSIP                                        41043F20\n",
       "TICKER                                            HNGR\n",
       "COMNAM                                      HANGER INC\n",
       "NAICS                                         621498.0\n",
       "PRIMEXCH                                             N\n",
       "TRDSTAT                                              A\n",
       "SECSTAT                                              R\n",
       "CUSIP                                         41043F20\n",
       "BIDLO                                              5.0\n",
       "ASKHI                                            19.73\n",
       "PRC                                              18.72\n",
       "VOL                                                0.0\n",
       "RET                                                NaN\n",
       "BID                                                5.0\n",
       "ASK                                              19.73\n",
       "SHROUT                                         39123.0\n",
       "CFACPR                                             1.0\n",
       "CFACSHR                                            1.0\n",
       "OPENPRC                                          18.73\n",
       "NUMTRD                                              99\n",
       "vwretd                                        0.032369\n",
       "ewretd                                        0.030581\n",
       "sprtrn                                        0.030584\n",
       "SHRCD_Type                                           1\n",
       "SHRCD_Detail                                         1\n",
       "NAICS_Sector                                        62\n",
       "NAICS_Secondary                                 1498.0\n",
       "NAICS_Sector_Name    Health Care and Social Assistance\n",
       "Name: 7058, dtype: object"
      ]
     },
     "execution_count": 46,
     "metadata": {},
     "output_type": "execute_result"
    }
   ],
   "source": [
    "# pick an example for visual inspection\n",
    "review_idx = crsp_df[crsp_df[\"RET\"].isnull()].index[1]\n",
    "crsp_df[crsp_df[\"RET\"].isnull()].iloc[1]"
   ]
  },
  {
   "cell_type": "code",
   "execution_count": 47,
   "metadata": {},
   "outputs": [],
   "source": [
    "# Calculate previous day's price for each PERMNO\n",
    "crsp_df['prev_price'] = crsp_df.groupby('PERMNO')['PRC'].shift(1)\n",
    "\n",
    "# Fill NaN values in the return column\n",
    "crsp_df['RET'] = crsp_df.apply(\n",
    "    lambda row: (row['PRC'] / row['prev_price'] - 1) if pd.isnull(row['RET']) else row['RET'], axis=1\n",
    ")"
   ]
  },
  {
   "cell_type": "code",
   "execution_count": 48,
   "metadata": {},
   "outputs": [
    {
     "data": {
      "text/plain": [
       "7057    10051\n",
       "7058    10051\n",
       "Name: PERMNO, dtype: int64"
      ]
     },
     "metadata": {},
     "output_type": "display_data"
    },
    {
     "data": {
      "text/plain": [
       "7057    18.72\n",
       "7058    18.72\n",
       "Name: PRC, dtype: float64"
      ]
     },
     "metadata": {},
     "output_type": "display_data"
    },
    {
     "data": {
      "text/plain": [
       "7057    18.72\n",
       "7058    18.72\n",
       "Name: prev_price, dtype: float64"
      ]
     },
     "metadata": {},
     "output_type": "display_data"
    },
    {
     "data": {
      "text/plain": [
       "7057   -0.339476\n",
       "7058    0.000000\n",
       "Name: RET, dtype: float64"
      ]
     },
     "metadata": {},
     "output_type": "display_data"
    }
   ],
   "source": [
    "# visually inspect the example to ensure the return was calculated correctly\n",
    "display(crsp_df.iloc[review_idx-1 : review_idx+1][\"PERMNO\"]) \n",
    "display(crsp_df.iloc[review_idx-1 : review_idx+1][\"PRC\"])\n",
    "display(crsp_df.iloc[review_idx-1 : review_idx+1][\"prev_price\"])\n",
    "display(crsp_df.iloc[review_idx-1 : review_idx+1][\"RET\"])\n",
    "\n",
    "crsp_df.drop(columns=['prev_price'], inplace=True)"
   ]
  },
  {
   "cell_type": "markdown",
   "metadata": {},
   "source": [
    "## H6. If RET is still NaN, that means the previous price is not in this subset of the dataset, fill RET with 0"
   ]
  },
  {
   "cell_type": "code",
   "execution_count": 49,
   "metadata": {},
   "outputs": [
    {
     "name": "stdout",
     "output_type": "stream",
     "text": [
      "number of nulls in column RET:  2276\n"
     ]
    }
   ],
   "source": [
    "print(f\"number of nulls in column RET: \", len(crsp_df[crsp_df[\"RET\"].isnull()]))"
   ]
  },
  {
   "cell_type": "code",
   "execution_count": 50,
   "metadata": {},
   "outputs": [],
   "source": [
    "crsp_df[\"RET\"] = crsp_df[\"RET\"].fillna(0)"
   ]
  },
  {
   "cell_type": "code",
   "execution_count": 51,
   "metadata": {},
   "outputs": [],
   "source": [
    "assert len(crsp_df[crsp_df[\"RET\"].isnull()]) == 0"
   ]
  },
  {
   "cell_type": "markdown",
   "metadata": {
    "id": "EQRmPzR1XKqK"
   },
   "source": [
    "## H7. Cast to appropriate type"
   ]
  },
  {
   "cell_type": "code",
   "execution_count": 52,
   "metadata": {
    "executionInfo": {
     "elapsed": 14,
     "status": "ok",
     "timestamp": 1718854332995,
     "user": {
      "displayName": "Rachel Gao",
      "userId": "10756354987170970544"
     },
     "user_tz": 420
    },
    "id": "u1uhhrRmXyrY"
   },
   "outputs": [],
   "source": [
    "int_cols = [\"VOL\", \"SHROUT\", \"NUMTRD\"]\n",
    "float_cols = [\n",
    "    \"ASKHI\",\n",
    "    \"ASK\",\n",
    "    \"BIDLO\",\n",
    "    \"BID\",\n",
    "    \"OPENPRC\",\n",
    "    \"PRC\",\n",
    "    \"RET\",\n",
    "    \"CFACPR\",\n",
    "    \"CFACSHR\",\n",
    "    \"vwretd\",\n",
    "    \"ewretd\",\n",
    "    \"sprtrn\",\n",
    "]\n",
    "str_cols = [\n",
    "    \"PERMNO\",\n",
    "    \"NCUSIP\",\n",
    "    \"CUSIP\",\n",
    "    \"TICKER\",\n",
    "    \"SHRCD\",\n",
    "    \"SHRCD_Type\",\n",
    "    \"SHRCD_Detail\",\n",
    "    \"EXCHCD\",\n",
    "    \"COMNAM\",\n",
    "    \"PRIMEXCH\",\n",
    "    \"TRDSTAT\",\n",
    "    \"SECSTAT\",\n",
    "    \"NAICS\",\n",
    "    \"NAICS_Sector\",\n",
    "    \"NAICS_Secondary\",\n",
    "]"
   ]
  },
  {
   "cell_type": "code",
   "execution_count": 53,
   "metadata": {
    "executionInfo": {
     "elapsed": 64417,
     "status": "ok",
     "timestamp": 1718854397398,
     "user": {
      "displayName": "Rachel Gao",
      "userId": "10756354987170970544"
     },
     "user_tz": 420
    },
    "id": "dOndgxZCYG2T"
   },
   "outputs": [],
   "source": [
    "crsp_df[int_cols] = crsp_df[int_cols].astype(int)\n",
    "crsp_df[float_cols] = crsp_df[float_cols].astype(float)\n",
    "crsp_df[str_cols] = crsp_df[str_cols].astype(str)"
   ]
  },
  {
   "cell_type": "markdown",
   "metadata": {},
   "source": [
    "## H8. Remove outliers, PERMNO that had more than 10 days of over 100% or under -50% returns\n",
    "\n",
    "Return is calculated using (close_price/previous_close_price)-1."
   ]
  },
  {
   "cell_type": "code",
   "execution_count": 54,
   "metadata": {},
   "outputs": [],
   "source": [
    "# Define the conditions\n",
    "over_100_percent = crsp_df[\"RET\"] > 1.0\n",
    "under_50_percent = crsp_df[\"RET\"] < -0.5\n",
    "\n",
    "# Create a boolean mask for the conditions\n",
    "condition_mask = over_100_percent | under_50_percent\n",
    "\n",
    "# Count the number of days each permno_id satisfies the condition\n",
    "permno_counts = crsp_df[condition_mask].groupby('PERMNO').size()"
   ]
  },
  {
   "cell_type": "code",
   "execution_count": 55,
   "metadata": {},
   "outputs": [
    {
     "name": "stdout",
     "output_type": "stream",
     "text": [
      "num_PERMNO_removed:  1\n",
      "num_records_removed:  1503\n",
      "num_records_kept:  7658080\n"
     ]
    }
   ],
   "source": [
    "# Filter out PERMNO with more than 10 days satisfying the condition\n",
    "to_remove = permno_counts[permno_counts > 10].index\n",
    "print(\"num_PERMNO_removed: \", len(to_remove))\n",
    "\n",
    "# Filter the DataFrame to exclude those PERMNO\n",
    "og_len = len(crsp_df)\n",
    "crsp_df = crsp_df[~crsp_df['PERMNO'].isin(to_remove)]\n",
    "new_len = len(crsp_df)\n",
    "print(\"num_records_removed: \", og_len - new_len)\n",
    "print(\"num_records_kept: \", new_len)"
   ]
  },
  {
   "cell_type": "markdown",
   "metadata": {
    "id": "4w5TxPkbY4Vb"
   },
   "source": [
    "# Take another look at the null analysis\n"
   ]
  },
  {
   "cell_type": "code",
   "execution_count": 56,
   "metadata": {
    "executionInfo": {
     "elapsed": 1062,
     "status": "ok",
     "timestamp": 1718854398458,
     "user": {
      "displayName": "Rachel Gao",
      "userId": "10756354987170970544"
     },
     "user_tz": 420
    },
    "id": "Z_CQBmOQY4Vb"
   },
   "outputs": [],
   "source": [
    "# Count the number of nulls in each column\n",
    "null_counts = crsp_df.isnull().sum()\n",
    "\n",
    "# Calculate the percentage of nulls in each column\n",
    "total_rows = len(crsp_df)\n",
    "null_percentages = (null_counts / total_rows) * 100\n",
    "\n",
    "assert null_percentages.min() == 0.0"
   ]
  },
  {
   "cell_type": "markdown",
   "metadata": {
    "id": "88kCLrSHf-8f"
   },
   "source": [
    "## I1. Remove duplicates\n"
   ]
  },
  {
   "cell_type": "code",
   "execution_count": 57,
   "metadata": {
    "colab": {
     "base_uri": "https://localhost:8080/"
    },
    "executionInfo": {
     "elapsed": 4916,
     "status": "ok",
     "timestamp": 1718854403372,
     "user": {
      "displayName": "Rachel Gao",
      "userId": "10756354987170970544"
     },
     "user_tz": 420
    },
    "id": "PwwK4UTIf8ho",
    "outputId": "229ce362-ea1a-4e99-8b60-18fc898e641a"
   },
   "outputs": [
    {
     "name": "stdout",
     "output_type": "stream",
     "text": [
      "num_records_removed:  1124\n",
      "num_records_kept:  7656956\n"
     ]
    }
   ],
   "source": [
    "og_len = len(crsp_df)\n",
    "crsp_df = crsp_df.drop_duplicates()\n",
    "new_len = len(crsp_df)\n",
    "print(\"num_records_removed: \", og_len - new_len)\n",
    "print(\"num_records_kept: \", new_len)"
   ]
  },
  {
   "cell_type": "markdown",
   "metadata": {
    "id": "8HV4lEtaZG09"
   },
   "source": [
    "## I2. Confirm each PERMNO contains at most num_days records (each PERMNO only has one record per day)\n"
   ]
  },
  {
   "cell_type": "code",
   "execution_count": 58,
   "metadata": {},
   "outputs": [],
   "source": [
    "num_days = crsp_df[\"date\"].nunique()"
   ]
  },
  {
   "cell_type": "code",
   "execution_count": 59,
   "metadata": {
    "executionInfo": {
     "elapsed": 16,
     "status": "ok",
     "timestamp": 1718854403372,
     "user": {
      "displayName": "Rachel Gao",
      "userId": "10756354987170970544"
     },
     "user_tz": 420
    },
    "id": "hRJJ5TQzgRSC"
   },
   "outputs": [],
   "source": [
    "assert crsp_df[\"PERMNO\"].value_counts().max() <= num_days"
   ]
  },
  {
   "cell_type": "markdown",
   "metadata": {
    "id": "9HyqlNvlkDCy"
   },
   "source": [
    "## I3. Rename & Reorder all columns\n"
   ]
  },
  {
   "cell_type": "code",
   "execution_count": 60,
   "metadata": {
    "executionInfo": {
     "elapsed": 1323,
     "status": "ok",
     "timestamp": 1718854405813,
     "user": {
      "displayName": "Rachel Gao",
      "userId": "10756354987170970544"
     },
     "user_tz": 420
    },
    "id": "PBM94pMjkGCw"
   },
   "outputs": [],
   "source": [
    "rename_dict = {\n",
    "    \"date\": \"date\",\n",
    "    \"PERMNO\": \"permno_id\",\n",
    "    \"NCUSIP\": \"ncusip_id\",\n",
    "    \"CUSIP\": \"cusip_id\",\n",
    "    \"TICKER\": \"ticker\",\n",
    "    \"SHRCD\": \"share_code\",\n",
    "    \"SHRCD_Type\": \"share_code_type\",\n",
    "    \"SHRCD_Detail\": \"share_code_detail\",\n",
    "    \"EXCHCD\": \"exchange_code\",\n",
    "    \"COMNAM\": \"company_name\",\n",
    "    \"PRIMEXCH\": \"primary_exchange\",\n",
    "    \"TRDSTAT\": \"trading_status\",\n",
    "    \"SECSTAT\": \"security_status\",\n",
    "    \"NAICS\": \"naics\",\n",
    "    \"NAICS_Sector\": \"naics_sector\",\n",
    "    \"NAICS_Sector_Name\": \"naics_sector_name\",\n",
    "    \"NAICS_Secondary\": \"naics_secondary\",\n",
    "    \"ASKHI\": \"ask_or_high_price\",\n",
    "    \"ASK\": \"ask_price\",\n",
    "    \"BIDLO\": \"bid_or_low_price\",\n",
    "    \"BID\": \"bid_price\",\n",
    "    \"OPENPRC\": \"open_price\",\n",
    "    \"PRC\": \"close_price\",\n",
    "    \"RET\": \"return\",\n",
    "    \"VOL\": \"volume\",\n",
    "    \"SHROUT\": \"shares_outstanding\",\n",
    "    \"NUMTRD\": \"num_trades\",\n",
    "    \"CFACPR\": \"factor_to_adjust_price\",\n",
    "    \"CFACSHR\": \"factor_to_adjust_shares\",\n",
    "    \"vwretd\": \"value_weighted_return\",\n",
    "    \"ewretd\": \"equal_weighted_return\",\n",
    "    \"sprtrn\": \"return_on_SP_index\",\n",
    "}\n",
    "\n",
    "crsp_df = crsp_df.rename(columns=rename_dict)\n",
    "crsp_df = crsp_df[list(rename_dict.values())]"
   ]
  },
  {
   "cell_type": "markdown",
   "metadata": {
    "id": "ke6Vs_NziX5n"
   },
   "source": [
    "# Take a final look at the columns\n"
   ]
  },
  {
   "cell_type": "code",
   "execution_count": 61,
   "metadata": {
    "colab": {
     "base_uri": "https://localhost:8080/"
    },
    "executionInfo": {
     "elapsed": 6,
     "status": "ok",
     "timestamp": 1718854405813,
     "user": {
      "displayName": "Rachel Gao",
      "userId": "10756354987170970544"
     },
     "user_tz": 420
    },
    "id": "KPjXphnHiX5n",
    "outputId": "d501cc76-a194-4ab4-b3c3-7d3e4444ffbc"
   },
   "outputs": [
    {
     "data": {
      "text/plain": [
       "Index(['date', 'permno_id', 'ncusip_id', 'cusip_id', 'ticker', 'share_code',\n",
       "       'share_code_type', 'share_code_detail', 'exchange_code', 'company_name',\n",
       "       'primary_exchange', 'trading_status', 'security_status', 'naics',\n",
       "       'naics_sector', 'naics_sector_name', 'naics_secondary',\n",
       "       'ask_or_high_price', 'ask_price', 'bid_or_low_price', 'bid_price',\n",
       "       'open_price', 'close_price', 'return', 'volume', 'shares_outstanding',\n",
       "       'num_trades', 'factor_to_adjust_price', 'factor_to_adjust_shares',\n",
       "       'value_weighted_return', 'equal_weighted_return', 'return_on_SP_index'],\n",
       "      dtype='object')"
      ]
     },
     "execution_count": 61,
     "metadata": {},
     "output_type": "execute_result"
    }
   ],
   "source": [
    "crsp_df.columns"
   ]
  },
  {
   "cell_type": "code",
   "execution_count": 62,
   "metadata": {
    "colab": {
     "base_uri": "https://localhost:8080/"
    },
    "executionInfo": {
     "elapsed": 6,
     "status": "ok",
     "timestamp": 1718854405814,
     "user": {
      "displayName": "Rachel Gao",
      "userId": "10756354987170970544"
     },
     "user_tz": 420
    },
    "id": "195_fzCXiX5o",
    "outputId": "2dcb6c56-3b5c-494c-bba4-be6b636341d4"
   },
   "outputs": [
    {
     "data": {
      "text/plain": [
       "date                       datetime64[ns]\n",
       "permno_id                          object\n",
       "ncusip_id                          object\n",
       "cusip_id                           object\n",
       "ticker                             object\n",
       "share_code                         object\n",
       "share_code_type                    object\n",
       "share_code_detail                  object\n",
       "exchange_code                      object\n",
       "company_name                       object\n",
       "primary_exchange                   object\n",
       "trading_status                     object\n",
       "security_status                    object\n",
       "naics                              object\n",
       "naics_sector                       object\n",
       "naics_sector_name                  object\n",
       "naics_secondary                    object\n",
       "ask_or_high_price                 float64\n",
       "ask_price                         float64\n",
       "bid_or_low_price                  float64\n",
       "bid_price                         float64\n",
       "open_price                        float64\n",
       "close_price                       float64\n",
       "return                            float64\n",
       "volume                              int64\n",
       "shares_outstanding                  int64\n",
       "num_trades                          int64\n",
       "factor_to_adjust_price            float64\n",
       "factor_to_adjust_shares           float64\n",
       "value_weighted_return             float64\n",
       "equal_weighted_return             float64\n",
       "return_on_SP_index                float64\n",
       "dtype: object"
      ]
     },
     "execution_count": 62,
     "metadata": {},
     "output_type": "execute_result"
    }
   ],
   "source": [
    "crsp_df.dtypes"
   ]
  },
  {
   "cell_type": "code",
   "execution_count": 63,
   "metadata": {
    "colab": {
     "base_uri": "https://localhost:8080/"
    },
    "executionInfo": {
     "elapsed": 4,
     "status": "ok",
     "timestamp": 1718854405814,
     "user": {
      "displayName": "Rachel Gao",
      "userId": "10756354987170970544"
     },
     "user_tz": 420
    },
    "id": "EqtXW4RpiX5o",
    "outputId": "fca26289-698b-4ab3-9ee2-31d6497cb158"
   },
   "outputs": [
    {
     "name": "stdout",
     "output_type": "stream",
     "text": [
      "number of records: 7656956\n",
      "number of columns: 32\n"
     ]
    }
   ],
   "source": [
    "crsp_len = len(crsp_df)\n",
    "crsp_cols = len(crsp_df.columns)\n",
    "print(\"number of records:\", crsp_len)\n",
    "print(\"number of columns:\", crsp_cols)"
   ]
  },
  {
   "cell_type": "markdown",
   "metadata": {
    "id": "KzwUEbGmilqF"
   },
   "source": [
    "# Review unique values and distribution in each remaining column\n"
   ]
  },
  {
   "cell_type": "code",
   "execution_count": 64,
   "metadata": {
    "colab": {
     "base_uri": "https://localhost:8080/"
    },
    "executionInfo": {
     "elapsed": 3859,
     "status": "ok",
     "timestamp": 1718854409670,
     "user": {
      "displayName": "Rachel Gao",
      "userId": "10756354987170970544"
     },
     "user_tz": 420
    },
    "id": "s3Y6SYRiilqG",
    "outputId": "544ba568-51a3-4a47-8d95-6b1e625eabda"
   },
   "outputs": [
    {
     "name": "stdout",
     "output_type": "stream",
     "text": [
      "---------- date ----------\n",
      "1509\n",
      "date\n",
      "2022-05-18    5890\n",
      "2022-05-17    5890\n",
      "2022-05-19    5889\n",
      "2022-05-13    5889\n",
      "2022-05-16    5888\n",
      "              ... \n",
      "2018-01-08    4422\n",
      "2018-01-05    4419\n",
      "2018-01-04    4415\n",
      "2018-01-03    4408\n",
      "2018-01-02    4395\n",
      "Name: count, Length: 1509, dtype: int64\n",
      "---------- permno_id ----------\n",
      "7145\n",
      "permno_id\n",
      "93436    1509\n",
      "10026    1509\n",
      "10028    1509\n",
      "10032    1509\n",
      "10044    1509\n",
      "         ... \n",
      "24009     129\n",
      "23970     128\n",
      "23994     128\n",
      "23978     128\n",
      "89681     127\n",
      "Name: count, Length: 7145, dtype: int64\n",
      "---------- ncusip_id ----------\n",
      "9047\n",
      "ncusip_id\n",
      "88160R10    1509\n",
      "46603210    1509\n",
      "78513510    1509\n",
      "12503M10    1509\n",
      "72913210    1509\n",
      "            ... \n",
      "75811Y10       1\n",
      "74102L20       1\n",
      "92535P87       1\n",
      "45784G10       1\n",
      "05338F30       1\n",
      "Name: count, Length: 9047, dtype: int64\n",
      "---------- cusip_id ----------\n",
      "7147\n",
      "cusip_id\n",
      "88160R10      1509\n",
      "46603210      1509\n",
      "29402E10      1509\n",
      "72913210      1509\n",
      "77467X10      1509\n",
      "              ... \n",
      "G3398L11       128\n",
      "50012A10       128\n",
      "80517M10       128\n",
      "45665Q10       127\n",
      "51384710.0      96\n",
      "Name: count, Length: 7147, dtype: int64\n",
      "---------- ticker ----------\n",
      "7923\n",
      "ticker\n",
      "GEF      3018\n",
      "LGF      3018\n",
      "LEN      3018\n",
      "HEI      3018\n",
      "WSO      3018\n",
      "         ... \n",
      "FLYX        2\n",
      "TFCF        2\n",
      "ESDI        2\n",
      "TFCFA       2\n",
      "ZCAR        1\n",
      "Name: count, Length: 7923, dtype: int64\n",
      "---------- share_code ----------\n",
      "5\n",
      "share_code\n",
      "11.0    5893727\n",
      "12.0    1129821\n",
      "14.0     359726\n",
      "18.0     272173\n",
      "15.0       1509\n",
      "Name: count, dtype: int64\n",
      "---------- share_code_type ----------\n",
      "1\n",
      "share_code_type\n",
      "1    7656956\n",
      "Name: count, dtype: int64\n",
      "---------- share_code_detail ----------\n",
      "5\n",
      "share_code_detail\n",
      "1    5893727\n",
      "2    1129821\n",
      "4     359726\n",
      "8     272173\n",
      "5       1509\n",
      "Name: count, dtype: int64\n",
      "---------- exchange_code ----------\n",
      "5\n",
      "exchange_code\n",
      "3    4419066\n",
      "1    2878222\n",
      "2     358086\n",
      "5       1331\n",
      "6        251\n",
      "Name: count, dtype: int64\n",
      "---------- company_name ----------\n",
      "8318\n",
      "company_name\n",
      "LIBERTY MEDIA CORP 3RD NEW    10335\n",
      "LIBERTY GLOBAL PLC             4452\n",
      "DISCOVERY INC                  3048\n",
      "CENTRAL GARDEN & PET CO        3018\n",
      "BEL FUSE INC                   3018\n",
      "                              ...  \n",
      "CAPRI LISTCO                      2\n",
      "FLYEXCLUSIVE INC                  2\n",
      "AERWINS TECHNOLOGY INC            2\n",
      "REEBONZ HOLDING LTD               1\n",
      "ZOOMCAR HOLDINGS INC              1\n",
      "Name: count, Length: 8318, dtype: int64\n",
      "---------- primary_exchange ----------\n",
      "5\n",
      "primary_exchange\n",
      "Q    4419066\n",
      "N    2878222\n",
      "A     358086\n",
      "B       1331\n",
      "I        251\n",
      "Name: count, dtype: int64\n",
      "---------- trading_status ----------\n",
      "1\n",
      "trading_status\n",
      "A    7656956\n",
      "Name: count, dtype: int64\n",
      "---------- security_status ----------\n",
      "1\n",
      "security_status\n",
      "R    7656956\n",
      "Name: count, dtype: int64\n",
      "---------- naics ----------\n",
      "815\n",
      "naics\n",
      "523910.0    564787\n",
      "325412.0    532815\n",
      "522110.0    405906\n",
      "525990.0    191694\n",
      "511210.0    184224\n",
      "             ...  \n",
      "444240.0        19\n",
      "449121.0        13\n",
      "449129.0         7\n",
      "541519.0         4\n",
      "332111.0         4\n",
      "Name: count, Length: 815, dtype: int64\n",
      "---------- naics_sector ----------\n",
      "28\n",
      "naics_sector\n",
      "52    1819588\n",
      "33    1199399\n",
      "32     939510\n",
      "54     544122\n",
      "51     490067\n",
      "21     354441\n",
      "53     321253\n",
      "56     298177\n",
      "42     256046\n",
      "31     178067\n",
      "44     174002\n",
      "48     161120\n",
      "62     150138\n",
      "22     131069\n",
      "55     117652\n",
      "72     109321\n",
      "23      96628\n",
      "45      90866\n",
      "99      90126\n",
      "71      39228\n",
      "81      32337\n",
      "61      29367\n",
      "11      22684\n",
      "49       8924\n",
      "92       2735\n",
      "73         34\n",
      "67         28\n",
      "10         27\n",
      "Name: count, dtype: int64\n",
      "---------- naics_sector_name ----------\n",
      "24\n",
      "naics_sector_name\n",
      "Manufacturing                                                               2316976\n",
      "Finance and Insurance                                                       1819588\n",
      "Professional, Scientific, and Technical Services                             544122\n",
      "Information                                                                  490067\n",
      "Mining, Quarrying, and Oil and Gas Extraction                                354441\n",
      "Real Estate and Rental and Leasing                                           321253\n",
      "Administrative and Support and Waste Management and Remediation Services     298177\n",
      "Retail Trade                                                                 264868\n",
      "Wholesale Trade                                                              256046\n",
      "Transportation and Warehousing                                               170044\n",
      "Health Care and Social Assistance                                            150138\n",
      "Utilities                                                                    131069\n",
      "Management of Companies and Enterprises                                      117652\n",
      "Accommodation and Food Services                                              109321\n",
      "Construction                                                                  96628\n",
      "Unknown                                                                       90126\n",
      "Arts, Entertainment, and Recreation                                           39228\n",
      "Other Services (except Public Administration)                                 32337\n",
      "Educational Services                                                          29367\n",
      "Agriculture, Forestry, Fishing and Hunting                                    22684\n",
      "Public Administration                                                          2735\n",
      "Business Services                                                                34\n",
      "Holding And Other Investment Offices                                             28\n",
      "Metal Mining                                                                     27\n",
      "Name: count, dtype: int64\n",
      "---------- naics_secondary ----------\n",
      "519\n",
      "naics_secondary\n",
      "3910.0    567991\n",
      "5412.0    532815\n",
      "2110.0    440347\n",
      "1110.0    296912\n",
      "1210.0    272008\n",
      "           ...  \n",
      "1214.0        27\n",
      "8100.0        27\n",
      "4240.0        19\n",
      "9121.0        13\n",
      "9129.0         7\n",
      "Name: count, Length: 519, dtype: int64\n",
      "---------- ask_or_high_price ----------\n",
      "426595\n",
      "ask_or_high_price\n",
      "10.00000     12176\n",
      "9.80000      11055\n",
      "9.90000      10863\n",
      "9.95000      10366\n",
      "9.85000      10101\n",
      "             ...  \n",
      "913.81989        1\n",
      "877.19000        1\n",
      "892.53003        1\n",
      "894.71002        1\n",
      "751.54999        1\n",
      "Name: count, Length: 426595, dtype: int64\n",
      "---------- ask_price ----------\n",
      "94659\n",
      "ask_price\n",
      "10.00000     13370\n",
      "9.90000      12511\n",
      "9.80000      12420\n",
      "9.95000      11760\n",
      "9.85000      11518\n",
      "             ...  \n",
      "919.72998        1\n",
      "809.87000        1\n",
      "871.14001        1\n",
      "864.57001        1\n",
      "879.89001        1\n",
      "Name: count, Length: 94659, dtype: int64\n",
      "---------- bid_or_low_price ----------\n",
      "418608\n",
      "bid_or_low_price\n",
      "9.80000      11084\n",
      "9.75000      10801\n",
      "9.90000      10787\n",
      "10.00000     10551\n",
      "9.70000       9966\n",
      "             ...  \n",
      "850.10999        1\n",
      "855.09998        1\n",
      "903.69000        1\n",
      "908.65002        1\n",
      "263.76010        1\n",
      "Name: count, Length: 418608, dtype: int64\n",
      "---------- bid_price ----------\n",
      "94727\n",
      "bid_price\n",
      "9.80000      11392\n",
      "9.75000      11389\n",
      "9.90000      11192\n",
      "10.00000     10590\n",
      "9.85000      10496\n",
      "             ...  \n",
      "360.41000        1\n",
      "351.87000        1\n",
      "344.22000        1\n",
      "428.45999        1\n",
      "438.51001        1\n",
      "Name: count, Length: 94727, dtype: int64\n",
      "---------- open_price ----------\n",
      "192545\n",
      "open_price\n",
      "10.00000     12239\n",
      "9.80000      11508\n",
      "9.90000      11053\n",
      "9.75000      10748\n",
      "9.85000      10285\n",
      "             ...  \n",
      "816.65002        1\n",
      "799.53998        1\n",
      "791.42999        1\n",
      "840.20001        1\n",
      "903.82501        1\n",
      "Name: count, Length: 192545, dtype: int64\n",
      "---------- close_price ----------\n",
      "174595\n",
      "close_price\n",
      "9.80000      11209\n",
      "10.00000     10987\n",
      "9.90000      10979\n",
      "9.75000      10432\n",
      "9.85000      10160\n",
      "             ...  \n",
      "776.58002        1\n",
      "842.70001        1\n",
      "891.45001        1\n",
      "891.83002        1\n",
      "901.76001        1\n",
      "Name: count, Length: 174595, dtype: int64\n",
      "---------- return ----------\n",
      "291811\n",
      "return\n",
      " 0.000000    268695\n",
      "-0.019608      2514\n",
      "-0.020000      2407\n",
      "-0.038462      2352\n",
      "-0.028571      2316\n",
      "              ...  \n",
      " 0.060603         1\n",
      " 0.097689         1\n",
      " 0.071890         1\n",
      " 0.198949         1\n",
      " 0.137256         1\n",
      "Name: count, Length: 291811, dtype: int64\n",
      "---------- volume ----------\n",
      "2372313\n",
      "volume\n",
      "0          79500\n",
      "1           7128\n",
      "2           5741\n",
      "100         5073\n",
      "3           3076\n",
      "           ...  \n",
      "8603173        1\n",
      "9676312        1\n",
      "8378292        1\n",
      "8948433        1\n",
      "7240664        1\n",
      "Name: count, Length: 2372313, dtype: int64\n",
      "---------- shares_outstanding ----------\n",
      "103598\n",
      "shares_outstanding\n",
      "23000     27935\n",
      "34500     21166\n",
      "27600     11644\n",
      "28750     11452\n",
      "25000     10189\n",
      "          ...  \n",
      "116500        1\n",
      "18192         1\n",
      "222228        1\n",
      "353480        1\n",
      "859           1\n",
      "Name: count, Length: 103598, dtype: int64\n",
      "---------- num_trades ----------\n",
      "113609\n",
      "num_trades\n",
      "99         3242685\n",
      "0            43377\n",
      "1            27942\n",
      "2            23732\n",
      "3            19702\n",
      "            ...   \n",
      "1750000          1\n",
      "992318           1\n",
      "2630000          1\n",
      "1950000          1\n",
      "1970000          1\n",
      "Name: count, Length: 113609, dtype: int64\n",
      "---------- factor_to_adjust_price ----------\n",
      "427\n",
      "factor_to_adjust_price\n",
      "1.000000    6758212\n",
      "0.100000     111079\n",
      "0.050000      92836\n",
      "0.066667      58253\n",
      "2.000000      32402\n",
      "             ...   \n",
      "8.529762         10\n",
      "1.020880          7\n",
      "1.373598          7\n",
      "0.000152          4\n",
      "1.020100          4\n",
      "Name: count, Length: 427, dtype: int64\n",
      "---------- factor_to_adjust_shares ----------\n",
      "226\n",
      "factor_to_adjust_shares\n",
      "1.000000    6869282\n",
      "0.100000     113099\n",
      "0.050000      94410\n",
      "0.066667      59346\n",
      "2.000000      33752\n",
      "             ...   \n",
      "0.000100         12\n",
      "0.011111         11\n",
      "1.373598          7\n",
      "1.020100          4\n",
      "0.000152          4\n",
      "Name: count, Length: 226, dtype: int64\n",
      "---------- value_weighted_return ----------\n",
      "1471\n",
      "value_weighted_return\n",
      "-0.004045    15409\n",
      "-0.001146    11383\n",
      "-0.008106    11367\n",
      "-0.014385    11340\n",
      " 0.007317    11327\n",
      "             ...  \n",
      " 0.001816     4422\n",
      " 0.005804     4419\n",
      " 0.004001     4415\n",
      " 0.005856     4408\n",
      " 0.008505     4395\n",
      "Name: count, Length: 1471, dtype: int64\n",
      "---------- equal_weighted_return ----------\n",
      "1483\n",
      "equal_weighted_return\n",
      "-0.015893    11759\n",
      " 0.010778    11499\n",
      " 0.005970    11408\n",
      " 0.006047    11068\n",
      "-0.006333    10835\n",
      "             ...  \n",
      " 0.000584     4422\n",
      " 0.003880     4419\n",
      " 0.005272     4415\n",
      " 0.005103     4408\n",
      " 0.011232     4395\n",
      "Name: count, Length: 1483, dtype: int64\n",
      "---------- return_on_SP_index ----------\n",
      "1472\n",
      "return_on_SP_index\n",
      "-0.000868    15458\n",
      "-0.004050    11503\n",
      "-0.016463    11492\n",
      " 0.002996    11467\n",
      "-0.003841    11430\n",
      "             ...  \n",
      "-0.001112     4426\n",
      " 0.001303     4424\n",
      " 0.004029     4415\n",
      " 0.006399     4408\n",
      " 0.008303     4395\n",
      "Name: count, Length: 1472, dtype: int64\n"
     ]
    }
   ],
   "source": [
    "for column in crsp_df.columns:\n",
    "    print(\"-\" * 10, column, \"-\" * 10)\n",
    "    print(crsp_df[column].nunique())\n",
    "    print(crsp_df[column].value_counts())"
   ]
  },
  {
   "cell_type": "markdown",
   "metadata": {},
   "source": [
    "# Save the cleaned df as csv & parquet\n"
   ]
  },
  {
   "cell_type": "code",
   "execution_count": 65,
   "metadata": {},
   "outputs": [],
   "source": [
    "crsp_df.to_csv(\n",
    "    \"/home/sagemaker-user/capstone-2024-summer/data/crsp_2018-2023_clean.csv\",\n",
    "    index=False,\n",
    ")\n",
    "crsp_df.to_parquet(\"/home/sagemaker-user/capstone-2024-summer/data/crsp_2018-2023_clean.parquet\")"
   ]
  },
  {
   "cell_type": "code",
   "execution_count": 66,
   "metadata": {},
   "outputs": [
    {
     "data": {
      "text/html": [
       "<div>\n",
       "<style scoped>\n",
       "    .dataframe tbody tr th:only-of-type {\n",
       "        vertical-align: middle;\n",
       "    }\n",
       "\n",
       "    .dataframe tbody tr th {\n",
       "        vertical-align: top;\n",
       "    }\n",
       "\n",
       "    .dataframe thead th {\n",
       "        text-align: right;\n",
       "    }\n",
       "</style>\n",
       "<table border=\"1\" class=\"dataframe\">\n",
       "  <thead>\n",
       "    <tr style=\"text-align: right;\">\n",
       "      <th></th>\n",
       "      <th>date</th>\n",
       "      <th>permno_id</th>\n",
       "      <th>ncusip_id</th>\n",
       "      <th>cusip_id</th>\n",
       "      <th>ticker</th>\n",
       "      <th>share_code</th>\n",
       "      <th>share_code_type</th>\n",
       "      <th>share_code_detail</th>\n",
       "      <th>exchange_code</th>\n",
       "      <th>company_name</th>\n",
       "      <th>...</th>\n",
       "      <th>close_price</th>\n",
       "      <th>return</th>\n",
       "      <th>volume</th>\n",
       "      <th>shares_outstanding</th>\n",
       "      <th>num_trades</th>\n",
       "      <th>factor_to_adjust_price</th>\n",
       "      <th>factor_to_adjust_shares</th>\n",
       "      <th>value_weighted_return</th>\n",
       "      <th>equal_weighted_return</th>\n",
       "      <th>return_on_SP_index</th>\n",
       "    </tr>\n",
       "  </thead>\n",
       "  <tbody>\n",
       "    <tr>\n",
       "      <th>0</th>\n",
       "      <td>2018-01-02</td>\n",
       "      <td>10026</td>\n",
       "      <td>46603210</td>\n",
       "      <td>46603210</td>\n",
       "      <td>JJSF</td>\n",
       "      <td>11.0</td>\n",
       "      <td>1</td>\n",
       "      <td>1</td>\n",
       "      <td>3</td>\n",
       "      <td>J &amp; J SNACK FOODS CORP</td>\n",
       "      <td>...</td>\n",
       "      <td>149.17999</td>\n",
       "      <td>-0.017454</td>\n",
       "      <td>190618</td>\n",
       "      <td>18668</td>\n",
       "      <td>1036</td>\n",
       "      <td>1.0</td>\n",
       "      <td>1.0</td>\n",
       "      <td>0.008505</td>\n",
       "      <td>0.011232</td>\n",
       "      <td>0.008303</td>\n",
       "    </tr>\n",
       "    <tr>\n",
       "      <th>1</th>\n",
       "      <td>2018-01-03</td>\n",
       "      <td>10026</td>\n",
       "      <td>46603210</td>\n",
       "      <td>46603210</td>\n",
       "      <td>JJSF</td>\n",
       "      <td>11.0</td>\n",
       "      <td>1</td>\n",
       "      <td>1</td>\n",
       "      <td>3</td>\n",
       "      <td>J &amp; J SNACK FOODS CORP</td>\n",
       "      <td>...</td>\n",
       "      <td>147.69000</td>\n",
       "      <td>-0.009988</td>\n",
       "      <td>63693</td>\n",
       "      <td>18668</td>\n",
       "      <td>1283</td>\n",
       "      <td>1.0</td>\n",
       "      <td>1.0</td>\n",
       "      <td>0.005856</td>\n",
       "      <td>0.005103</td>\n",
       "      <td>0.006399</td>\n",
       "    </tr>\n",
       "    <tr>\n",
       "      <th>2</th>\n",
       "      <td>2018-01-04</td>\n",
       "      <td>10026</td>\n",
       "      <td>46603210</td>\n",
       "      <td>46603210</td>\n",
       "      <td>JJSF</td>\n",
       "      <td>11.0</td>\n",
       "      <td>1</td>\n",
       "      <td>1</td>\n",
       "      <td>3</td>\n",
       "      <td>J &amp; J SNACK FOODS CORP</td>\n",
       "      <td>...</td>\n",
       "      <td>149.73000</td>\n",
       "      <td>0.013813</td>\n",
       "      <td>127552</td>\n",
       "      <td>18668</td>\n",
       "      <td>1138</td>\n",
       "      <td>1.0</td>\n",
       "      <td>1.0</td>\n",
       "      <td>0.004001</td>\n",
       "      <td>0.005272</td>\n",
       "      <td>0.004029</td>\n",
       "    </tr>\n",
       "    <tr>\n",
       "      <th>3</th>\n",
       "      <td>2018-01-05</td>\n",
       "      <td>10026</td>\n",
       "      <td>46603210</td>\n",
       "      <td>46603210</td>\n",
       "      <td>JJSF</td>\n",
       "      <td>11.0</td>\n",
       "      <td>1</td>\n",
       "      <td>1</td>\n",
       "      <td>3</td>\n",
       "      <td>J &amp; J SNACK FOODS CORP</td>\n",
       "      <td>...</td>\n",
       "      <td>148.30000</td>\n",
       "      <td>-0.009550</td>\n",
       "      <td>44647</td>\n",
       "      <td>18668</td>\n",
       "      <td>745</td>\n",
       "      <td>1.0</td>\n",
       "      <td>1.0</td>\n",
       "      <td>0.005804</td>\n",
       "      <td>0.003880</td>\n",
       "      <td>0.007034</td>\n",
       "    </tr>\n",
       "    <tr>\n",
       "      <th>4</th>\n",
       "      <td>2018-01-08</td>\n",
       "      <td>10026</td>\n",
       "      <td>46603210</td>\n",
       "      <td>46603210</td>\n",
       "      <td>JJSF</td>\n",
       "      <td>11.0</td>\n",
       "      <td>1</td>\n",
       "      <td>1</td>\n",
       "      <td>3</td>\n",
       "      <td>J &amp; J SNACK FOODS CORP</td>\n",
       "      <td>...</td>\n",
       "      <td>148.41000</td>\n",
       "      <td>0.000742</td>\n",
       "      <td>55014</td>\n",
       "      <td>18668</td>\n",
       "      <td>990</td>\n",
       "      <td>1.0</td>\n",
       "      <td>1.0</td>\n",
       "      <td>0.001816</td>\n",
       "      <td>0.000584</td>\n",
       "      <td>0.001662</td>\n",
       "    </tr>\n",
       "  </tbody>\n",
       "</table>\n",
       "<p>5 rows × 32 columns</p>\n",
       "</div>"
      ],
      "text/plain": [
       "        date permno_id ncusip_id  cusip_id ticker share_code share_code_type  \\\n",
       "0 2018-01-02     10026  46603210  46603210   JJSF       11.0               1   \n",
       "1 2018-01-03     10026  46603210  46603210   JJSF       11.0               1   \n",
       "2 2018-01-04     10026  46603210  46603210   JJSF       11.0               1   \n",
       "3 2018-01-05     10026  46603210  46603210   JJSF       11.0               1   \n",
       "4 2018-01-08     10026  46603210  46603210   JJSF       11.0               1   \n",
       "\n",
       "  share_code_detail exchange_code            company_name  ... close_price  \\\n",
       "0                 1             3  J & J SNACK FOODS CORP  ...   149.17999   \n",
       "1                 1             3  J & J SNACK FOODS CORP  ...   147.69000   \n",
       "2                 1             3  J & J SNACK FOODS CORP  ...   149.73000   \n",
       "3                 1             3  J & J SNACK FOODS CORP  ...   148.30000   \n",
       "4                 1             3  J & J SNACK FOODS CORP  ...   148.41000   \n",
       "\n",
       "     return  volume shares_outstanding num_trades factor_to_adjust_price  \\\n",
       "0 -0.017454  190618              18668       1036                    1.0   \n",
       "1 -0.009988   63693              18668       1283                    1.0   \n",
       "2  0.013813  127552              18668       1138                    1.0   \n",
       "3 -0.009550   44647              18668        745                    1.0   \n",
       "4  0.000742   55014              18668        990                    1.0   \n",
       "\n",
       "  factor_to_adjust_shares  value_weighted_return  equal_weighted_return  \\\n",
       "0                     1.0               0.008505               0.011232   \n",
       "1                     1.0               0.005856               0.005103   \n",
       "2                     1.0               0.004001               0.005272   \n",
       "3                     1.0               0.005804               0.003880   \n",
       "4                     1.0               0.001816               0.000584   \n",
       "\n",
       "   return_on_SP_index  \n",
       "0            0.008303  \n",
       "1            0.006399  \n",
       "2            0.004029  \n",
       "3            0.007034  \n",
       "4            0.001662  \n",
       "\n",
       "[5 rows x 32 columns]"
      ]
     },
     "execution_count": 66,
     "metadata": {},
     "output_type": "execute_result"
    }
   ],
   "source": [
    "reload = pd.read_parquet(\"/home/sagemaker-user/capstone-2024-summer/data/crsp_2018-2023_clean.parquet\")\n",
    "assert crsp_df.equals(reload)\n",
    "\n",
    "reload.head()"
   ]
  },
  {
   "cell_type": "markdown",
   "metadata": {},
   "source": [
    "# Upload the parquet to s3\n"
   ]
  },
  {
   "cell_type": "code",
   "execution_count": 67,
   "metadata": {},
   "outputs": [],
   "source": [
    "s3.upload_file(\n",
    "    \"/home/sagemaker-user/capstone-2024-summer/data/crsp_2018-2023_clean.parquet\",\n",
    "    bucket,\n",
    "    \"CRSP/crsp_2018-2023_clean.parquet\",\n",
    ")"
   ]
  },
  {
   "cell_type": "code",
   "execution_count": 68,
   "metadata": {},
   "outputs": [],
   "source": [
    "reload_path = s3_download(\"CRSP/crsp_2018-2023_clean.parquet\")"
   ]
  },
  {
   "cell_type": "code",
   "execution_count": 69,
   "metadata": {},
   "outputs": [
    {
     "data": {
      "text/html": [
       "<div>\n",
       "<style scoped>\n",
       "    .dataframe tbody tr th:only-of-type {\n",
       "        vertical-align: middle;\n",
       "    }\n",
       "\n",
       "    .dataframe tbody tr th {\n",
       "        vertical-align: top;\n",
       "    }\n",
       "\n",
       "    .dataframe thead th {\n",
       "        text-align: right;\n",
       "    }\n",
       "</style>\n",
       "<table border=\"1\" class=\"dataframe\">\n",
       "  <thead>\n",
       "    <tr style=\"text-align: right;\">\n",
       "      <th></th>\n",
       "      <th>date</th>\n",
       "      <th>permno_id</th>\n",
       "      <th>ncusip_id</th>\n",
       "      <th>cusip_id</th>\n",
       "      <th>ticker</th>\n",
       "      <th>share_code</th>\n",
       "      <th>share_code_type</th>\n",
       "      <th>share_code_detail</th>\n",
       "      <th>exchange_code</th>\n",
       "      <th>company_name</th>\n",
       "      <th>...</th>\n",
       "      <th>close_price</th>\n",
       "      <th>return</th>\n",
       "      <th>volume</th>\n",
       "      <th>shares_outstanding</th>\n",
       "      <th>num_trades</th>\n",
       "      <th>factor_to_adjust_price</th>\n",
       "      <th>factor_to_adjust_shares</th>\n",
       "      <th>value_weighted_return</th>\n",
       "      <th>equal_weighted_return</th>\n",
       "      <th>return_on_SP_index</th>\n",
       "    </tr>\n",
       "  </thead>\n",
       "  <tbody>\n",
       "    <tr>\n",
       "      <th>0</th>\n",
       "      <td>2018-01-02</td>\n",
       "      <td>10026</td>\n",
       "      <td>46603210</td>\n",
       "      <td>46603210</td>\n",
       "      <td>JJSF</td>\n",
       "      <td>11.0</td>\n",
       "      <td>1</td>\n",
       "      <td>1</td>\n",
       "      <td>3</td>\n",
       "      <td>J &amp; J SNACK FOODS CORP</td>\n",
       "      <td>...</td>\n",
       "      <td>149.17999</td>\n",
       "      <td>-0.017454</td>\n",
       "      <td>190618</td>\n",
       "      <td>18668</td>\n",
       "      <td>1036</td>\n",
       "      <td>1.0</td>\n",
       "      <td>1.0</td>\n",
       "      <td>0.008505</td>\n",
       "      <td>0.011232</td>\n",
       "      <td>0.008303</td>\n",
       "    </tr>\n",
       "    <tr>\n",
       "      <th>1</th>\n",
       "      <td>2018-01-03</td>\n",
       "      <td>10026</td>\n",
       "      <td>46603210</td>\n",
       "      <td>46603210</td>\n",
       "      <td>JJSF</td>\n",
       "      <td>11.0</td>\n",
       "      <td>1</td>\n",
       "      <td>1</td>\n",
       "      <td>3</td>\n",
       "      <td>J &amp; J SNACK FOODS CORP</td>\n",
       "      <td>...</td>\n",
       "      <td>147.69000</td>\n",
       "      <td>-0.009988</td>\n",
       "      <td>63693</td>\n",
       "      <td>18668</td>\n",
       "      <td>1283</td>\n",
       "      <td>1.0</td>\n",
       "      <td>1.0</td>\n",
       "      <td>0.005856</td>\n",
       "      <td>0.005103</td>\n",
       "      <td>0.006399</td>\n",
       "    </tr>\n",
       "    <tr>\n",
       "      <th>2</th>\n",
       "      <td>2018-01-04</td>\n",
       "      <td>10026</td>\n",
       "      <td>46603210</td>\n",
       "      <td>46603210</td>\n",
       "      <td>JJSF</td>\n",
       "      <td>11.0</td>\n",
       "      <td>1</td>\n",
       "      <td>1</td>\n",
       "      <td>3</td>\n",
       "      <td>J &amp; J SNACK FOODS CORP</td>\n",
       "      <td>...</td>\n",
       "      <td>149.73000</td>\n",
       "      <td>0.013813</td>\n",
       "      <td>127552</td>\n",
       "      <td>18668</td>\n",
       "      <td>1138</td>\n",
       "      <td>1.0</td>\n",
       "      <td>1.0</td>\n",
       "      <td>0.004001</td>\n",
       "      <td>0.005272</td>\n",
       "      <td>0.004029</td>\n",
       "    </tr>\n",
       "    <tr>\n",
       "      <th>3</th>\n",
       "      <td>2018-01-05</td>\n",
       "      <td>10026</td>\n",
       "      <td>46603210</td>\n",
       "      <td>46603210</td>\n",
       "      <td>JJSF</td>\n",
       "      <td>11.0</td>\n",
       "      <td>1</td>\n",
       "      <td>1</td>\n",
       "      <td>3</td>\n",
       "      <td>J &amp; J SNACK FOODS CORP</td>\n",
       "      <td>...</td>\n",
       "      <td>148.30000</td>\n",
       "      <td>-0.009550</td>\n",
       "      <td>44647</td>\n",
       "      <td>18668</td>\n",
       "      <td>745</td>\n",
       "      <td>1.0</td>\n",
       "      <td>1.0</td>\n",
       "      <td>0.005804</td>\n",
       "      <td>0.003880</td>\n",
       "      <td>0.007034</td>\n",
       "    </tr>\n",
       "    <tr>\n",
       "      <th>4</th>\n",
       "      <td>2018-01-08</td>\n",
       "      <td>10026</td>\n",
       "      <td>46603210</td>\n",
       "      <td>46603210</td>\n",
       "      <td>JJSF</td>\n",
       "      <td>11.0</td>\n",
       "      <td>1</td>\n",
       "      <td>1</td>\n",
       "      <td>3</td>\n",
       "      <td>J &amp; J SNACK FOODS CORP</td>\n",
       "      <td>...</td>\n",
       "      <td>148.41000</td>\n",
       "      <td>0.000742</td>\n",
       "      <td>55014</td>\n",
       "      <td>18668</td>\n",
       "      <td>990</td>\n",
       "      <td>1.0</td>\n",
       "      <td>1.0</td>\n",
       "      <td>0.001816</td>\n",
       "      <td>0.000584</td>\n",
       "      <td>0.001662</td>\n",
       "    </tr>\n",
       "  </tbody>\n",
       "</table>\n",
       "<p>5 rows × 32 columns</p>\n",
       "</div>"
      ],
      "text/plain": [
       "        date permno_id ncusip_id  cusip_id ticker share_code share_code_type  \\\n",
       "0 2018-01-02     10026  46603210  46603210   JJSF       11.0               1   \n",
       "1 2018-01-03     10026  46603210  46603210   JJSF       11.0               1   \n",
       "2 2018-01-04     10026  46603210  46603210   JJSF       11.0               1   \n",
       "3 2018-01-05     10026  46603210  46603210   JJSF       11.0               1   \n",
       "4 2018-01-08     10026  46603210  46603210   JJSF       11.0               1   \n",
       "\n",
       "  share_code_detail exchange_code            company_name  ... close_price  \\\n",
       "0                 1             3  J & J SNACK FOODS CORP  ...   149.17999   \n",
       "1                 1             3  J & J SNACK FOODS CORP  ...   147.69000   \n",
       "2                 1             3  J & J SNACK FOODS CORP  ...   149.73000   \n",
       "3                 1             3  J & J SNACK FOODS CORP  ...   148.30000   \n",
       "4                 1             3  J & J SNACK FOODS CORP  ...   148.41000   \n",
       "\n",
       "     return  volume shares_outstanding num_trades factor_to_adjust_price  \\\n",
       "0 -0.017454  190618              18668       1036                    1.0   \n",
       "1 -0.009988   63693              18668       1283                    1.0   \n",
       "2  0.013813  127552              18668       1138                    1.0   \n",
       "3 -0.009550   44647              18668        745                    1.0   \n",
       "4  0.000742   55014              18668        990                    1.0   \n",
       "\n",
       "  factor_to_adjust_shares  value_weighted_return  equal_weighted_return  \\\n",
       "0                     1.0               0.008505               0.011232   \n",
       "1                     1.0               0.005856               0.005103   \n",
       "2                     1.0               0.004001               0.005272   \n",
       "3                     1.0               0.005804               0.003880   \n",
       "4                     1.0               0.001816               0.000584   \n",
       "\n",
       "   return_on_SP_index  \n",
       "0            0.008303  \n",
       "1            0.006399  \n",
       "2            0.004029  \n",
       "3            0.007034  \n",
       "4            0.001662  \n",
       "\n",
       "[5 rows x 32 columns]"
      ]
     },
     "execution_count": 69,
     "metadata": {},
     "output_type": "execute_result"
    }
   ],
   "source": [
    "reload = pd.read_parquet(\"/home/sagemaker-user/capstone-2024-summer/data/crsp_2018-2023_clean.parquet\")\n",
    "assert crsp_df.equals(reload)\n",
    "\n",
    "reload.head()"
   ]
  },
  {
   "cell_type": "markdown",
   "metadata": {},
   "source": [
    "# Confirm no records of < -1 return"
   ]
  },
  {
   "cell_type": "code",
   "execution_count": 70,
   "metadata": {},
   "outputs": [],
   "source": [
    "assert len(crsp_df[crsp_df[\"return\"]<-1]) == 0"
   ]
  },
  {
   "cell_type": "code",
   "execution_count": null,
   "metadata": {},
   "outputs": [],
   "source": []
  }
 ],
 "metadata": {
  "colab": {
   "authorship_tag": "ABX9TyOxyKLKqA5wqdgfjK9Y17kf",
   "provenance": []
  },
  "kernelspec": {
   "display_name": "Python 3 (ipykernel)",
   "language": "python",
   "name": "python3"
  },
  "language_info": {
   "codemirror_mode": {
    "name": "ipython",
    "version": 3
   },
   "file_extension": ".py",
   "mimetype": "text/x-python",
   "name": "python",
   "nbconvert_exporter": "python",
   "pygments_lexer": "ipython3",
   "version": "3.10.14"
  }
 },
 "nbformat": 4,
 "nbformat_minor": 4
}
