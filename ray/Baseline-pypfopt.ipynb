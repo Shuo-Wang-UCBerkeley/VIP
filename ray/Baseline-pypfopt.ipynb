{
 "cells": [
  {
   "cell_type": "code",
   "execution_count": 3,
   "id": "41bbe10d-802a-4339-8f82-ed113a94b600",
   "metadata": {
    "editable": true,
    "slideshow": {
     "slide_type": ""
    },
    "tags": []
   },
   "outputs": [],
   "source": [
    "import os\n",
    "\n",
    "import boto3\n",
    "import matplotlib.pyplot as plt\n",
    "import numpy as np\n",
    "import pandas as pd\n",
    "import plotly.express as px\n",
    "import pyarrow.parquet as pq\n",
    "import seaborn as sns"
   ]
  },
  {
   "cell_type": "code",
   "execution_count": 4,
   "id": "4560bd85-362c-407e-92c2-ea283ebc991f",
   "metadata": {
    "editable": true,
    "slideshow": {
     "slide_type": ""
    },
    "tags": []
   },
   "outputs": [],
   "source": [
    "s3 = boto3.client(\"s3\")\n",
    "bucket = \"capstone-bucket-4-friends\"\n",
    "\n",
    "csv_key = \"crsp_2023_clean.csv\"\n",
    "file_path = f\"../data/{csv_key}\"\n",
    "s3.download_file(bucket, csv_key, file_path)"
   ]
  },
  {
   "cell_type": "code",
   "execution_count": 5,
   "id": "e489bcc7-6e59-4818-9c49-a17d7c9ff972",
   "metadata": {},
   "outputs": [],
   "source": [
    "df = pd.read_csv(file_path)\n",
    "df[\"date\"] = pd.to_datetime(df[\"date\"])"
   ]
  },
  {
   "cell_type": "code",
   "execution_count": 6,
   "id": "1f673423-cc0e-4ce3-80b9-48a08019b590",
   "metadata": {},
   "outputs": [
    {
     "data": {
      "text/plain": [
       "PERMNO             int64\n",
       "date      datetime64[ns]\n",
       "PRC              float64\n",
       "RET              float64\n",
       "dtype: object"
      ]
     },
     "execution_count": 6,
     "metadata": {},
     "output_type": "execute_result"
    }
   ],
   "source": [
    "df.dtypes"
   ]
  },
  {
   "cell_type": "code",
   "execution_count": 7,
   "id": "63ad1ac4-6514-4b51-8104-e9728b7d556f",
   "metadata": {
    "editable": true,
    "slideshow": {
     "slide_type": ""
    },
    "tags": []
   },
   "outputs": [
    {
     "data": {
      "text/html": [
       "<div>\n",
       "<style scoped>\n",
       "    .dataframe tbody tr th:only-of-type {\n",
       "        vertical-align: middle;\n",
       "    }\n",
       "\n",
       "    .dataframe tbody tr th {\n",
       "        vertical-align: top;\n",
       "    }\n",
       "\n",
       "    .dataframe thead th {\n",
       "        text-align: right;\n",
       "    }\n",
       "</style>\n",
       "<table border=\"1\" class=\"dataframe\">\n",
       "  <thead>\n",
       "    <tr style=\"text-align: right;\">\n",
       "      <th></th>\n",
       "      <th>date</th>\n",
       "      <th>PRC</th>\n",
       "      <th>RET</th>\n",
       "    </tr>\n",
       "    <tr>\n",
       "      <th>PERMNO</th>\n",
       "      <th></th>\n",
       "      <th></th>\n",
       "      <th></th>\n",
       "    </tr>\n",
       "  </thead>\n",
       "  <tbody>\n",
       "    <tr>\n",
       "      <th>10026</th>\n",
       "      <td>250</td>\n",
       "      <td>250</td>\n",
       "      <td>250</td>\n",
       "    </tr>\n",
       "    <tr>\n",
       "      <th>10028</th>\n",
       "      <td>250</td>\n",
       "      <td>250</td>\n",
       "      <td>250</td>\n",
       "    </tr>\n",
       "    <tr>\n",
       "      <th>10032</th>\n",
       "      <td>250</td>\n",
       "      <td>250</td>\n",
       "      <td>250</td>\n",
       "    </tr>\n",
       "    <tr>\n",
       "      <th>10044</th>\n",
       "      <td>250</td>\n",
       "      <td>250</td>\n",
       "      <td>250</td>\n",
       "    </tr>\n",
       "    <tr>\n",
       "      <th>10065</th>\n",
       "      <td>250</td>\n",
       "      <td>250</td>\n",
       "      <td>250</td>\n",
       "    </tr>\n",
       "    <tr>\n",
       "      <th>...</th>\n",
       "      <td>...</td>\n",
       "      <td>...</td>\n",
       "      <td>...</td>\n",
       "    </tr>\n",
       "    <tr>\n",
       "      <th>93426</th>\n",
       "      <td>250</td>\n",
       "      <td>250</td>\n",
       "      <td>250</td>\n",
       "    </tr>\n",
       "    <tr>\n",
       "      <th>93427</th>\n",
       "      <td>250</td>\n",
       "      <td>250</td>\n",
       "      <td>250</td>\n",
       "    </tr>\n",
       "    <tr>\n",
       "      <th>93429</th>\n",
       "      <td>250</td>\n",
       "      <td>250</td>\n",
       "      <td>250</td>\n",
       "    </tr>\n",
       "    <tr>\n",
       "      <th>93434</th>\n",
       "      <td>250</td>\n",
       "      <td>250</td>\n",
       "      <td>250</td>\n",
       "    </tr>\n",
       "    <tr>\n",
       "      <th>93436</th>\n",
       "      <td>250</td>\n",
       "      <td>250</td>\n",
       "      <td>250</td>\n",
       "    </tr>\n",
       "  </tbody>\n",
       "</table>\n",
       "<p>8567 rows × 3 columns</p>\n",
       "</div>"
      ],
      "text/plain": [
       "        date  PRC  RET\n",
       "PERMNO                \n",
       "10026    250  250  250\n",
       "10028    250  250  250\n",
       "10032    250  250  250\n",
       "10044    250  250  250\n",
       "10065    250  250  250\n",
       "...      ...  ...  ...\n",
       "93426    250  250  250\n",
       "93427    250  250  250\n",
       "93429    250  250  250\n",
       "93434    250  250  250\n",
       "93436    250  250  250\n",
       "\n",
       "[8567 rows x 3 columns]"
      ]
     },
     "execution_count": 7,
     "metadata": {},
     "output_type": "execute_result"
    }
   ],
   "source": [
    "df.groupby(\"PERMNO\").count()"
   ]
  },
  {
   "cell_type": "code",
   "execution_count": 156,
   "id": "746214cb-dc7e-453c-ae6f-e210b64551e3",
   "metadata": {},
   "outputs": [],
   "source": [
    "sampled_permno = df[\"PERMNO\"].sample(40).tolist()"
   ]
  },
  {
   "cell_type": "code",
   "execution_count": 157,
   "id": "05660394-f149-4174-bddd-2ccd25b84a4b",
   "metadata": {},
   "outputs": [
    {
     "data": {
      "text/html": [
       "<div>\n",
       "<style scoped>\n",
       "    .dataframe tbody tr th:only-of-type {\n",
       "        vertical-align: middle;\n",
       "    }\n",
       "\n",
       "    .dataframe tbody tr th {\n",
       "        vertical-align: top;\n",
       "    }\n",
       "\n",
       "    .dataframe thead th {\n",
       "        text-align: right;\n",
       "    }\n",
       "</style>\n",
       "<table border=\"1\" class=\"dataframe\">\n",
       "  <thead>\n",
       "    <tr style=\"text-align: right;\">\n",
       "      <th>PERMNO</th>\n",
       "      <th>10318</th>\n",
       "      <th>12443</th>\n",
       "      <th>12578</th>\n",
       "      <th>13728</th>\n",
       "      <th>14662</th>\n",
       "      <th>14979</th>\n",
       "      <th>15862</th>\n",
       "      <th>15906</th>\n",
       "      <th>17061</th>\n",
       "      <th>17124</th>\n",
       "      <th>...</th>\n",
       "      <th>80167</th>\n",
       "      <th>82212</th>\n",
       "      <th>84010</th>\n",
       "      <th>84275</th>\n",
       "      <th>85205</th>\n",
       "      <th>86408</th>\n",
       "      <th>89233</th>\n",
       "      <th>89576</th>\n",
       "      <th>89935</th>\n",
       "      <th>92953</th>\n",
       "    </tr>\n",
       "    <tr>\n",
       "      <th>date</th>\n",
       "      <th></th>\n",
       "      <th></th>\n",
       "      <th></th>\n",
       "      <th></th>\n",
       "      <th></th>\n",
       "      <th></th>\n",
       "      <th></th>\n",
       "      <th></th>\n",
       "      <th></th>\n",
       "      <th></th>\n",
       "      <th></th>\n",
       "      <th></th>\n",
       "      <th></th>\n",
       "      <th></th>\n",
       "      <th></th>\n",
       "      <th></th>\n",
       "      <th></th>\n",
       "      <th></th>\n",
       "      <th></th>\n",
       "      <th></th>\n",
       "      <th></th>\n",
       "    </tr>\n",
       "  </thead>\n",
       "  <tbody>\n",
       "    <tr>\n",
       "      <th>2023-01-03</th>\n",
       "      <td>-0.002784</td>\n",
       "      <td>0.065854</td>\n",
       "      <td>0.008199</td>\n",
       "      <td>-0.004182</td>\n",
       "      <td>0.015502</td>\n",
       "      <td>0.021399</td>\n",
       "      <td>-0.049351</td>\n",
       "      <td>-0.003636</td>\n",
       "      <td>0.008176</td>\n",
       "      <td>0.005389</td>\n",
       "      <td>...</td>\n",
       "      <td>-0.003090</td>\n",
       "      <td>-0.004377</td>\n",
       "      <td>0.023684</td>\n",
       "      <td>-0.009817</td>\n",
       "      <td>-0.006231</td>\n",
       "      <td>-0.033275</td>\n",
       "      <td>0.000471</td>\n",
       "      <td>0.034866</td>\n",
       "      <td>0.038588</td>\n",
       "      <td>0.016112</td>\n",
       "    </tr>\n",
       "    <tr>\n",
       "      <th>2023-01-04</th>\n",
       "      <td>-0.013550</td>\n",
       "      <td>0.085738</td>\n",
       "      <td>0.010076</td>\n",
       "      <td>0.010500</td>\n",
       "      <td>0.009694</td>\n",
       "      <td>0.026466</td>\n",
       "      <td>0.073770</td>\n",
       "      <td>-0.005839</td>\n",
       "      <td>0.018614</td>\n",
       "      <td>0.005494</td>\n",
       "      <td>...</td>\n",
       "      <td>0.068816</td>\n",
       "      <td>0.002015</td>\n",
       "      <td>0.005876</td>\n",
       "      <td>-0.006522</td>\n",
       "      <td>-0.014629</td>\n",
       "      <td>0.157609</td>\n",
       "      <td>0.003062</td>\n",
       "      <td>0.019067</td>\n",
       "      <td>0.146640</td>\n",
       "      <td>0.061101</td>\n",
       "    </tr>\n",
       "    <tr>\n",
       "      <th>2023-01-05</th>\n",
       "      <td>-0.022727</td>\n",
       "      <td>-0.012284</td>\n",
       "      <td>-0.012230</td>\n",
       "      <td>-0.009824</td>\n",
       "      <td>0.018575</td>\n",
       "      <td>-0.001491</td>\n",
       "      <td>0.015267</td>\n",
       "      <td>-0.020925</td>\n",
       "      <td>-0.006738</td>\n",
       "      <td>0.000800</td>\n",
       "      <td>...</td>\n",
       "      <td>-0.001740</td>\n",
       "      <td>-0.028336</td>\n",
       "      <td>-0.006572</td>\n",
       "      <td>-0.006828</td>\n",
       "      <td>-0.057264</td>\n",
       "      <td>0.031299</td>\n",
       "      <td>-0.010214</td>\n",
       "      <td>-0.000908</td>\n",
       "      <td>0.035505</td>\n",
       "      <td>-0.007459</td>\n",
       "    </tr>\n",
       "    <tr>\n",
       "      <th>2023-01-06</th>\n",
       "      <td>0.034926</td>\n",
       "      <td>0.050000</td>\n",
       "      <td>0.025921</td>\n",
       "      <td>0.026712</td>\n",
       "      <td>0.016180</td>\n",
       "      <td>0.004243</td>\n",
       "      <td>0.070175</td>\n",
       "      <td>0.028121</td>\n",
       "      <td>0.025178</td>\n",
       "      <td>0.013449</td>\n",
       "      <td>...</td>\n",
       "      <td>0.037188</td>\n",
       "      <td>0.047037</td>\n",
       "      <td>0.026461</td>\n",
       "      <td>0.037282</td>\n",
       "      <td>0.040495</td>\n",
       "      <td>0.001517</td>\n",
       "      <td>0.011268</td>\n",
       "      <td>0.008545</td>\n",
       "      <td>0.005659</td>\n",
       "      <td>0.040651</td>\n",
       "    </tr>\n",
       "    <tr>\n",
       "      <th>2023-01-09</th>\n",
       "      <td>0.029467</td>\n",
       "      <td>-0.012328</td>\n",
       "      <td>0.016050</td>\n",
       "      <td>-0.004832</td>\n",
       "      <td>0.008731</td>\n",
       "      <td>0.018203</td>\n",
       "      <td>0.021077</td>\n",
       "      <td>-0.016047</td>\n",
       "      <td>0.007743</td>\n",
       "      <td>0.002759</td>\n",
       "      <td>...</td>\n",
       "      <td>0.011204</td>\n",
       "      <td>-0.008985</td>\n",
       "      <td>0.006266</td>\n",
       "      <td>0.008667</td>\n",
       "      <td>-0.019459</td>\n",
       "      <td>0.063636</td>\n",
       "      <td>-0.013019</td>\n",
       "      <td>0.000000</td>\n",
       "      <td>0.002648</td>\n",
       "      <td>0.016026</td>\n",
       "    </tr>\n",
       "  </tbody>\n",
       "</table>\n",
       "<p>5 rows × 40 columns</p>\n",
       "</div>"
      ],
      "text/plain": [
       "PERMNO         10318     12443     12578     13728     14662     14979  \\\n",
       "date                                                                     \n",
       "2023-01-03 -0.002784  0.065854  0.008199 -0.004182  0.015502  0.021399   \n",
       "2023-01-04 -0.013550  0.085738  0.010076  0.010500  0.009694  0.026466   \n",
       "2023-01-05 -0.022727 -0.012284 -0.012230 -0.009824  0.018575 -0.001491   \n",
       "2023-01-06  0.034926  0.050000  0.025921  0.026712  0.016180  0.004243   \n",
       "2023-01-09  0.029467 -0.012328  0.016050 -0.004832  0.008731  0.018203   \n",
       "\n",
       "PERMNO         15862     15906     17061     17124  ...     80167     82212  \\\n",
       "date                                                ...                       \n",
       "2023-01-03 -0.049351 -0.003636  0.008176  0.005389  ... -0.003090 -0.004377   \n",
       "2023-01-04  0.073770 -0.005839  0.018614  0.005494  ...  0.068816  0.002015   \n",
       "2023-01-05  0.015267 -0.020925 -0.006738  0.000800  ... -0.001740 -0.028336   \n",
       "2023-01-06  0.070175  0.028121  0.025178  0.013449  ...  0.037188  0.047037   \n",
       "2023-01-09  0.021077 -0.016047  0.007743  0.002759  ...  0.011204 -0.008985   \n",
       "\n",
       "PERMNO         84010     84275     85205     86408     89233     89576  \\\n",
       "date                                                                     \n",
       "2023-01-03  0.023684 -0.009817 -0.006231 -0.033275  0.000471  0.034866   \n",
       "2023-01-04  0.005876 -0.006522 -0.014629  0.157609  0.003062  0.019067   \n",
       "2023-01-05 -0.006572 -0.006828 -0.057264  0.031299 -0.010214 -0.000908   \n",
       "2023-01-06  0.026461  0.037282  0.040495  0.001517  0.011268  0.008545   \n",
       "2023-01-09  0.006266  0.008667 -0.019459  0.063636 -0.013019  0.000000   \n",
       "\n",
       "PERMNO         89935     92953  \n",
       "date                            \n",
       "2023-01-03  0.038588  0.016112  \n",
       "2023-01-04  0.146640  0.061101  \n",
       "2023-01-05  0.035505 -0.007459  \n",
       "2023-01-06  0.005659  0.040651  \n",
       "2023-01-09  0.002648  0.016026  \n",
       "\n",
       "[5 rows x 40 columns]"
      ]
     },
     "execution_count": 157,
     "metadata": {},
     "output_type": "execute_result"
    }
   ],
   "source": [
    "df_sample = df[df[\"PERMNO\"].isin(sampled_permno)]\n",
    "df_pivot = df_sample.pivot(index=\"date\", columns=\"PERMNO\", values=\"RET\")\n",
    "df_pivot.head()"
   ]
  },
  {
   "cell_type": "code",
   "execution_count": 158,
   "id": "97ae02d7-917d-4f6a-826a-2c36264d89d5",
   "metadata": {},
   "outputs": [],
   "source": [
    "date_cutoff = pd.Timestamp(\"2023-10-01\")"
   ]
  },
  {
   "cell_type": "code",
   "execution_count": 159,
   "id": "27977c1f-9fd6-47ce-b125-75a1cb1bdcc4",
   "metadata": {},
   "outputs": [
    {
     "data": {
      "text/plain": [
       "187"
      ]
     },
     "execution_count": 159,
     "metadata": {},
     "output_type": "execute_result"
    }
   ],
   "source": [
    "train = df_pivot[:date_cutoff]\n",
    "train_span = len(train)\n",
    "train_span"
   ]
  },
  {
   "cell_type": "code",
   "execution_count": 160,
   "id": "2c3eb4e9-157a-4a25-bc7d-ae140ebf2795",
   "metadata": {},
   "outputs": [
    {
     "data": {
      "text/plain": [
       "63"
      ]
     },
     "execution_count": 160,
     "metadata": {},
     "output_type": "execute_result"
    }
   ],
   "source": [
    "test = df_pivot[date_cutoff:]\n",
    "test_span = len(test)\n",
    "test_span"
   ]
  },
  {
   "cell_type": "code",
   "execution_count": 161,
   "id": "dd9639ba-0185-4ffe-838f-bbd34125539d",
   "metadata": {},
   "outputs": [
    {
     "data": {
      "text/plain": [
       "DatetimeIndex(['2023-01-03', '2023-01-04', '2023-01-05', '2023-01-06',\n",
       "               '2023-01-09', '2023-01-10', '2023-01-11', '2023-01-12',\n",
       "               '2023-01-13', '2023-01-17',\n",
       "               ...\n",
       "               '2023-09-18', '2023-09-19', '2023-09-20', '2023-09-21',\n",
       "               '2023-09-22', '2023-09-25', '2023-09-26', '2023-09-27',\n",
       "               '2023-09-28', '2023-09-29'],\n",
       "              dtype='datetime64[ns]', name='date', length=187, freq=None)"
      ]
     },
     "execution_count": 161,
     "metadata": {},
     "output_type": "execute_result"
    }
   ],
   "source": [
    "train.index"
   ]
  },
  {
   "cell_type": "markdown",
   "id": "ddadb6b6-f6b3-44fa-9ffa-7d617cac58a1",
   "metadata": {},
   "source": [
    "Reference: https://github.com/zhuodannychen/Portfolio-Optimization"
   ]
  },
  {
   "cell_type": "code",
   "execution_count": 162,
   "id": "62d46442-7bae-49f3-a5a5-9748c2ce9897",
   "metadata": {},
   "outputs": [],
   "source": [
    "from pypfopt import expected_returns, risk_models\n",
    "from pypfopt.cla import CLA\n",
    "from pypfopt.efficient_frontier import EfficientFrontier\n",
    "from pypfopt.expected_returns import ema_historical_return\n",
    "from pypfopt.risk_models import exp_cov\n",
    "\n",
    "mu = expected_returns.ema_historical_return(train, returns_data=True, span=train_span)\n",
    "Sigma = risk_models.exp_cov(train, returns_data=True, span=train_span)\n",
    "risk_free_rate = 0.04  # average of 10Y treasury in 2023"
   ]
  },
  {
   "cell_type": "markdown",
   "id": "03dfde2f-4be5-44a3-b185-592b1b277128",
   "metadata": {},
   "source": [
    "**The covariance matrix is not positive definite because it is singular. That means that at least one of your variables can be expressed as a linear combination of the others. You do not need all the variables as the value of at least one can be determined from a subset of the others. I would suggest adding variables sequentially and checking the covariance matrix at each step. If a new variable creates a singularity drop it and go on the the next one. Eventually you should have a subset of variables with a postive definite covariance matrix.**"
   ]
  },
  {
   "cell_type": "code",
   "execution_count": 163,
   "id": "2185a486-ed7d-4c07-9f5a-d75684a42e5e",
   "metadata": {},
   "outputs": [],
   "source": [
    "ret_ef = np.arange(0, 0.879823, 0.01)\n",
    "vol_ef = []\n",
    "for i in np.arange(0, 0.879823, 0.01):\n",
    "    ef = EfficientFrontier(mu, Sigma)\n",
    "    ef.efficient_return(i)\n",
    "    vol_ef.append(ef.portfolio_performance()[1])\n",
    "\n",
    "ef = EfficientFrontier(mu, Sigma)\n",
    "raw_weights_minvar_exp = ef.min_volatility()\n",
    "min_vol_ret = ef.portfolio_performance(risk_free_rate=risk_free_rate)[0]\n",
    "min_vol_vol = ef.portfolio_performance(risk_free_rate=risk_free_rate)[1]\n",
    "\n",
    "ef_sharp = EfficientFrontier(mu, Sigma)\n",
    "raw_weights_maxsharpe_exp = ef_sharp.max_sharpe(risk_free_rate=risk_free_rate)\n",
    "max_sharpe_ret = ef_sharp.portfolio_performance(risk_free_rate=risk_free_rate)[0]\n",
    "max_sharpe_vol = ef_sharp.portfolio_performance(risk_free_rate=risk_free_rate)[1]"
   ]
  },
  {
   "cell_type": "code",
   "execution_count": 164,
   "id": "4678927a-a2fb-4382-a74e-c5a75fe49ed8",
   "metadata": {},
   "outputs": [
    {
     "data": {
      "image/png": "[encoded data removed]",
      "text/plain": [
       "<Figure size 1500x1000 with 1 Axes>"
      ]
     },
     "metadata": {},
     "output_type": "display_data"
    }
   ],
   "source": [
    "# plot the data\n",
    "sns.set()\n",
    "\n",
    "fig, ax = plt.subplots(figsize=[15, 10])\n",
    "\n",
    "sns.lineplot(x=vol_ef, y=ret_ef, label=\"Efficient Frontier\", ax=ax)\n",
    "sns.scatterplot(\n",
    "    x=[min_vol_vol],\n",
    "    y=[min_vol_ret],\n",
    "    ax=ax,\n",
    "    label=\"Minimum Variance Portfolio\",\n",
    "    color=\"purple\",\n",
    "    s=100,\n",
    ")\n",
    "sns.scatterplot(\n",
    "    x=[max_sharpe_vol],\n",
    "    y=[max_sharpe_ret],\n",
    "    ax=ax,\n",
    "    label=\"Maximum Sharpe Portfolio\",\n",
    "    color=\"green\",\n",
    "    s=100,\n",
    ")\n",
    "sns.lineplot(\n",
    "    x=[0, max_sharpe_vol, 1],\n",
    "    y=[0.009, max_sharpe_ret, 3.096],\n",
    "    label=\"Capital Market Line\",\n",
    "    ax=ax,\n",
    "    color=\"r\",\n",
    ")\n",
    "\n",
    "ax.set(xlim=[0, 0.4])\n",
    "ax.set(ylim=[0, 1])\n",
    "ax.set_xlabel(\"Volatility\")\n",
    "ax.set_ylabel(\"Mean Return\")\n",
    "plt.legend(fontsize=\"large\")\n",
    "plt.title(\"Efficient Frontier\", fontsize=\"20\")\n",
    "\n",
    "ax.figure.savefig(\"EffFront_big.png\", dpi=300)"
   ]
  },
  {
   "cell_type": "code",
   "execution_count": 165,
   "id": "1925fa00-dd9f-4420-aec9-68d53fb375a3",
   "metadata": {},
   "outputs": [
    {
     "name": "stdout",
     "output_type": "stream",
     "text": [
      "Expected annual return: 4.6%\n",
      "Annual volatility: 2.3%\n",
      "Sharpe Ratio: 0.25\n"
     ]
    },
    {
     "data": {
      "text/plain": [
       "(0.0456322239953045, 0.02253917558849987, 0.24988598066462636)"
      ]
     },
     "execution_count": 165,
     "metadata": {},
     "output_type": "execute_result"
    }
   ],
   "source": [
    "raw_weights_minvar_exp\n",
    "ef.portfolio_performance(verbose=True, risk_free_rate=risk_free_rate)"
   ]
  },
  {
   "cell_type": "code",
   "execution_count": 166,
   "id": "75429c68-57bf-4da3-96f2-c46a85e4cca5",
   "metadata": {},
   "outputs": [
    {
     "name": "stdout",
     "output_type": "stream",
     "text": [
      "Expected annual return: 2617.0%\n",
      "Annual volatility: 96.4%\n",
      "Sharpe Ratio: 27.10\n"
     ]
    },
    {
     "data": {
      "text/plain": [
       "(26.16970204037357, 0.9641988579256465, 27.099909759889535)"
      ]
     },
     "execution_count": 166,
     "metadata": {},
     "output_type": "execute_result"
    }
   ],
   "source": [
    "raw_weights_maxsharpe_exp\n",
    "ef_sharp.portfolio_performance(verbose=True, risk_free_rate=risk_free_rate)"
   ]
  },
  {
   "cell_type": "markdown",
   "id": "49cf3f8d-0f40-412d-9823-d6b24cbdbbeb",
   "metadata": {},
   "source": [
    "### BackTesting"
   ]
  },
  {
   "cell_type": "code",
   "execution_count": 167,
   "id": "a984754e-f43f-4706-b8fa-9075fda83b59",
   "metadata": {},
   "outputs": [
    {
     "name": "stderr",
     "output_type": "stream",
     "text": [
      "[*********************100%%**********************]  1 of 1 completed\n"
     ]
    }
   ],
   "source": [
    "import yfinance as yf\n",
    "\n",
    "# Create a list of symbols\n",
    "symbols = [\"SPY\"]\n",
    "# Create data frame\n",
    "index_data = yf.download(\n",
    "    tickers=\" \".join(symbols), start=\"2022-12-30\", end=\"2023-12-30\"\n",
    ")[\"Adj Close\"]"
   ]
  },
  {
   "cell_type": "code",
   "execution_count": 168,
   "id": "79721f0a-9bff-4177-8225-439d22f5733d",
   "metadata": {},
   "outputs": [
    {
     "data": {
      "text/plain": [
       "<bound method NDFrame.describe of Date\n",
       "2022-12-30    375.537750\n",
       "2023-01-03    373.956818\n",
       "2023-01-04    376.843872\n",
       "2023-01-05    372.542755\n",
       "2023-01-06    381.085938\n",
       "                 ...    \n",
       "2023-12-22    472.182892\n",
       "2023-12-26    474.176697\n",
       "2023-12-27    475.034058\n",
       "2023-12-28    475.213501\n",
       "2023-12-29    473.837769\n",
       "Name: Adj Close, Length: 251, dtype: float64>"
      ]
     },
     "execution_count": 168,
     "metadata": {},
     "output_type": "execute_result"
    }
   ],
   "source": [
    "index_data.describe"
   ]
  },
  {
   "cell_type": "code",
   "execution_count": 169,
   "id": "935c49b5-c319-4c88-8dad-4fde8bbd1b65",
   "metadata": {},
   "outputs": [
    {
     "data": {
      "text/plain": [
       "<bound method NDFrame.describe of                 SnP500\n",
       "Date                  \n",
       "2022-12-30  375.537750\n",
       "2023-01-03  373.956818\n",
       "2023-01-04  376.843872\n",
       "2023-01-05  372.542755\n",
       "2023-01-06  381.085938\n",
       "...                ...\n",
       "2023-12-22  472.182892\n",
       "2023-12-26  474.176697\n",
       "2023-12-27  475.034058\n",
       "2023-12-28  475.213501\n",
       "2023-12-29  473.837769\n",
       "\n",
       "[251 rows x 1 columns]>"
      ]
     },
     "execution_count": 169,
     "metadata": {},
     "output_type": "execute_result"
    }
   ],
   "source": [
    "index = pd.DataFrame(index_data)\n",
    "index = index.rename(columns={\"Adj Close\":\"SnP500\"})\n",
    "index.describe\n",
    "# index.index"
   ]
  },
  {
   "cell_type": "code",
   "execution_count": 170,
   "id": "4a7fc72b-5af0-4a8d-b6dd-4fbb06707eb8",
   "metadata": {},
   "outputs": [],
   "source": [
    "weights_minvar_exp = list(raw_weights_minvar_exp.values())\n",
    "weights_maxsharpe_exp = list(raw_weights_maxsharpe_exp.values())\n",
    "\n",
    "ret_1 = test.dot(weights_minvar_exp).add(1).cumprod().subtract(1).multiply(100)\n",
    "ret_2 = test.dot(weights_maxsharpe_exp).add(1).cumprod().subtract(1).multiply(100)\n",
    "\n",
    "ind_ret = index[date_cutoff:].pct_change().add(1).cumprod().subtract(1).multiply(100)"
   ]
  },
  {
   "cell_type": "code",
   "execution_count": 171,
   "id": "7ad037a2-5c59-4f8d-af02-c15b228e7775",
   "metadata": {},
   "outputs": [
    {
     "data": {
      "application/vnd.plotly.v1+json": {
       "config": {
        "plotlyServerURL": "https://plot.ly"
       },
       "data": [
        {
         "hovertemplate": "variable=MinVar<br>index=%{x}<br>value=%{y}<extra></extra>",
         "legendgroup": "MinVar",
         "line": {
          "color": "#636efa",
          "dash": "solid"
         },
         "marker": {
          "symbol": "circle"
         },
         "mode": "lines",
         "name": "MinVar",
         "orientation": "v",
         "showlegend": true,
         "type": "scatter",
         "x": [
          "2023-10-02T00:00:00",
          "2023-10-03T00:00:00",
          "2023-10-04T00:00:00",
          "2023-10-05T00:00:00",
          "2023-10-06T00:00:00",
          "2023-10-09T00:00:00",
          "2023-10-10T00:00:00",
          "2023-10-11T00:00:00",
          "2023-10-12T00:00:00",
          "2023-10-13T00:00:00",
          "2023-10-16T00:00:00",
          "2023-10-17T00:00:00",
          "2023-10-18T00:00:00",
          "2023-10-19T00:00:00",
          "2023-10-20T00:00:00",
          "2023-10-23T00:00:00",
          "2023-10-24T00:00:00",
          "2023-10-25T00:00:00",
          "2023-10-26T00:00:00",
          "2023-10-27T00:00:00",
          "2023-10-30T00:00:00",
          "2023-10-31T00:00:00",
          "2023-11-01T00:00:00",
          "2023-11-02T00:00:00",
          "2023-11-03T00:00:00",
          "2023-11-06T00:00:00",
          "2023-11-07T00:00:00",
          "2023-11-08T00:00:00",
          "2023-11-09T00:00:00",
          "2023-11-10T00:00:00",
          "2023-11-13T00:00:00",
          "2023-11-14T00:00:00",
          "2023-11-15T00:00:00",
          "2023-11-16T00:00:00",
          "2023-11-17T00:00:00",
          "2023-11-20T00:00:00",
          "2023-11-21T00:00:00",
          "2023-11-22T00:00:00",
          "2023-11-24T00:00:00",
          "2023-11-27T00:00:00",
          "2023-11-28T00:00:00",
          "2023-11-29T00:00:00",
          "2023-11-30T00:00:00",
          "2023-12-01T00:00:00",
          "2023-12-04T00:00:00",
          "2023-12-05T00:00:00",
          "2023-12-06T00:00:00",
          "2023-12-07T00:00:00",
          "2023-12-08T00:00:00",
          "2023-12-11T00:00:00",
          "2023-12-12T00:00:00",
          "2023-12-13T00:00:00",
          "2023-12-14T00:00:00",
          "2023-12-15T00:00:00",
          "2023-12-18T00:00:00",
          "2023-12-19T00:00:00",
          "2023-12-20T00:00:00",
          "2023-12-21T00:00:00",
          "2023-12-22T00:00:00",
          "2023-12-26T00:00:00",
          "2023-12-27T00:00:00",
          "2023-12-28T00:00:00"
         ],
         "xaxis": "x",
         "y": [
          -0.06303431154112138,
          -0.23783455380911311,
          -0.12447105674393555,
          -0.20849888872755962,
          -0.13250117204155476,
          0.027567812319184704,
          0.035061556935644944,
          0.046371277010281986,
          -0.06516948224766228,
          -0.07418359475958036,
          -0.07136687819589982,
          -0.07847739549392552,
          -0.14363735929501242,
          -0.2736318661744397,
          -0.3326776359579342,
          -0.2570542138092047,
          -0.20890460652337461,
          -0.3981508815778634,
          -0.5497030970658012,
          -0.6742694729200971,
          -0.5938423522205194,
          -0.5005897535831361,
          -0.219842004074966,
          0.055070092712949936,
          0.1876150226762352,
          0.07137307541593696,
          0.1929913932298133,
          0.21925603804036076,
          0.043350220950344465,
          0.2540480681482604,
          0.23132333989777099,
          0.4845139227054318,
          0.4932490920308563,
          0.607313151982769,
          0.7426270481386554,
          0.7794138433960596,
          0.7217640171256479,
          0.777654944165973,
          0.8722351852167076,
          0.06790331543040651,
          0.12091688875075501,
          1.1363007938843817,
          0.7813865676592036,
          0.8845384381509058,
          0.9838842628029587,
          1.2882883774482101,
          0.8969293890130237,
          -0.13083358905319198,
          -2.0313079530363987,
          -4.029805054169522,
          -4.871933640145254,
          -5.0833771272988715,
          -5.190491302654654,
          -5.5457735323206965,
          -6.256502934862452,
          -4.2513845704464925,
          -3.1288810624595653,
          -2.820001369743763,
          -2.8520325149566483,
          -2.1211121243810083,
          -1.9484221534469048,
          -1.8804409967793423
         ],
         "yaxis": "y"
        },
        {
         "hovertemplate": "variable=MaxSharpe<br>index=%{x}<br>value=%{y}<extra></extra>",
         "legendgroup": "MaxSharpe",
         "line": {
          "color": "#EF553B",
          "dash": "solid"
         },
         "marker": {
          "symbol": "circle"
         },
         "mode": "lines",
         "name": "MaxSharpe",
         "orientation": "v",
         "showlegend": true,
         "type": "scatter",
         "x": [
          "2023-10-02T00:00:00",
          "2023-10-03T00:00:00",
          "2023-10-04T00:00:00",
          "2023-10-05T00:00:00",
          "2023-10-06T00:00:00",
          "2023-10-09T00:00:00",
          "2023-10-10T00:00:00",
          "2023-10-11T00:00:00",
          "2023-10-12T00:00:00",
          "2023-10-13T00:00:00",
          "2023-10-16T00:00:00",
          "2023-10-17T00:00:00",
          "2023-10-18T00:00:00",
          "2023-10-19T00:00:00",
          "2023-10-20T00:00:00",
          "2023-10-23T00:00:00",
          "2023-10-24T00:00:00",
          "2023-10-25T00:00:00",
          "2023-10-26T00:00:00",
          "2023-10-27T00:00:00",
          "2023-10-30T00:00:00",
          "2023-10-31T00:00:00",
          "2023-11-01T00:00:00",
          "2023-11-02T00:00:00",
          "2023-11-03T00:00:00",
          "2023-11-06T00:00:00",
          "2023-11-07T00:00:00",
          "2023-11-08T00:00:00",
          "2023-11-09T00:00:00",
          "2023-11-10T00:00:00",
          "2023-11-13T00:00:00",
          "2023-11-14T00:00:00",
          "2023-11-15T00:00:00",
          "2023-11-16T00:00:00",
          "2023-11-17T00:00:00",
          "2023-11-20T00:00:00",
          "2023-11-21T00:00:00",
          "2023-11-22T00:00:00",
          "2023-11-24T00:00:00",
          "2023-11-27T00:00:00",
          "2023-11-28T00:00:00",
          "2023-11-29T00:00:00",
          "2023-11-30T00:00:00",
          "2023-12-01T00:00:00",
          "2023-12-04T00:00:00",
          "2023-12-05T00:00:00",
          "2023-12-06T00:00:00",
          "2023-12-07T00:00:00",
          "2023-12-08T00:00:00",
          "2023-12-11T00:00:00",
          "2023-12-12T00:00:00",
          "2023-12-13T00:00:00",
          "2023-12-14T00:00:00",
          "2023-12-15T00:00:00",
          "2023-12-18T00:00:00",
          "2023-12-19T00:00:00",
          "2023-12-20T00:00:00",
          "2023-12-21T00:00:00",
          "2023-12-22T00:00:00",
          "2023-12-26T00:00:00",
          "2023-12-27T00:00:00",
          "2023-12-28T00:00:00"
         ],
         "xaxis": "x",
         "y": [
          -1.3048825416496768,
          -6.331721926160849,
          -13.407235085161151,
          -23.570140456775523,
          -16.965993331271424,
          -13.206493455513858,
          -17.205036694538613,
          -12.385811741241193,
          -3.350790182494745,
          -10.551372618495591,
          -7.679717508182171,
          -8.596466766141297,
          -11.538846391365443,
          -8.243262122435135,
          -11.69500149057403,
          -14.17046494609081,
          -18.451621479356696,
          -18.81228324780544,
          -20.181511232002713,
          -19.12429667014258,
          -13.640469386497312,
          -13.904045080850835,
          -11.133601371633317,
          -1.6525038607295262,
          -3.322742886789387,
          -3.99458397043414,
          -2.1508850504652233,
          10.698978443569839,
          3.6387700893402153,
          5.185102856611179,
          22.23592679888766,
          42.69737749564475,
          39.65865725158053,
          70.4362261088735,
          83.95979302974726,
          135.6253236000097,
          159.83498025942637,
          109.52894164497127,
          115.14840555348994,
          164.43582397228062,
          145.81491619094865,
          143.21658634066404,
          163.72314844358863,
          180.5197009745505,
          214.67710696183667,
          178.58915504124548,
          125.94364547094924,
          144.1672874936173,
          129.30422228939906,
          138.47905941408442,
          127.0279346130076,
          111.28195456772771,
          126.90158261181787,
          145.33995702218775,
          152.8823690835299,
          167.9646695554867,
          159.7759907399051,
          162.39216947774779,
          144.89792140820472,
          139.37394748248533,
          130.56992545257518,
          126.64990755309083
         ],
         "yaxis": "y"
        },
        {
         "hovertemplate": "variable=SnP500<br>index=%{x}<br>value=%{y}<extra></extra>",
         "legendgroup": "SnP500",
         "line": {
          "color": "#00cc96",
          "dash": "solid"
         },
         "marker": {
          "symbol": "circle"
         },
         "mode": "lines",
         "name": "SnP500",
         "orientation": "v",
         "showlegend": true,
         "type": "scatter",
         "x": [
          "2023-10-02T00:00:00",
          "2023-10-03T00:00:00",
          "2023-10-04T00:00:00",
          "2023-10-05T00:00:00",
          "2023-10-06T00:00:00",
          "2023-10-09T00:00:00",
          "2023-10-10T00:00:00",
          "2023-10-11T00:00:00",
          "2023-10-12T00:00:00",
          "2023-10-13T00:00:00",
          "2023-10-16T00:00:00",
          "2023-10-17T00:00:00",
          "2023-10-18T00:00:00",
          "2023-10-19T00:00:00",
          "2023-10-20T00:00:00",
          "2023-10-23T00:00:00",
          "2023-10-24T00:00:00",
          "2023-10-25T00:00:00",
          "2023-10-26T00:00:00",
          "2023-10-27T00:00:00",
          "2023-10-30T00:00:00",
          "2023-10-31T00:00:00",
          "2023-11-01T00:00:00",
          "2023-11-02T00:00:00",
          "2023-11-03T00:00:00",
          "2023-11-06T00:00:00",
          "2023-11-07T00:00:00",
          "2023-11-08T00:00:00",
          "2023-11-09T00:00:00",
          "2023-11-10T00:00:00",
          "2023-11-13T00:00:00",
          "2023-11-14T00:00:00",
          "2023-11-15T00:00:00",
          "2023-11-16T00:00:00",
          "2023-11-17T00:00:00",
          "2023-11-20T00:00:00",
          "2023-11-21T00:00:00",
          "2023-11-22T00:00:00",
          "2023-11-24T00:00:00",
          "2023-11-27T00:00:00",
          "2023-11-28T00:00:00",
          "2023-11-29T00:00:00",
          "2023-11-30T00:00:00",
          "2023-12-01T00:00:00",
          "2023-12-04T00:00:00",
          "2023-12-05T00:00:00",
          "2023-12-06T00:00:00",
          "2023-12-07T00:00:00",
          "2023-12-08T00:00:00",
          "2023-12-11T00:00:00",
          "2023-12-12T00:00:00",
          "2023-12-13T00:00:00",
          "2023-12-14T00:00:00",
          "2023-12-15T00:00:00",
          "2023-12-18T00:00:00",
          "2023-12-19T00:00:00",
          "2023-12-20T00:00:00",
          "2023-12-21T00:00:00",
          "2023-12-22T00:00:00",
          "2023-12-26T00:00:00",
          "2023-12-27T00:00:00",
          "2023-12-28T00:00:00"
         ],
         "xaxis": "x",
         "y": [
          null,
          -1.3386074506209655,
          -0.6201537897384091,
          -0.6576006746481511,
          0.5218683046430028,
          1.1654281957060864,
          1.6919791592189037,
          2.1085415869739776,
          1.4860428712884843,
          0.9805530831532572,
          2.0430131348941227,
          2.038330476024308,
          0.6786618500257635,
          -0.20594348095478443,
          -1.4322174698709111,
          -1.6030589918630822,
          -0.8611992296558402,
          -2.284065767835919,
          -3.4541694293874325,
          -3.8917930325200745,
          -2.7427361602973988,
          -2.1319404952742427,
          -1.0882038859882592,
          0.807381021262743,
          1.7270883112059376,
          1.9611061663064921,
          2.2512871557472725,
          2.3261809255667565,
          1.5281652220436648,
          3.112486385403157,
          3.014208093332127,
          5.012761144548317,
          5.235075948986534,
          5.3637879271991595,
          5.494837638334493,
          6.306901318467029,
          6.075214003264806,
          6.484756039227335,
          6.550270105258438,
          6.35838179393744,
          6.463687670825369,
          6.388801094030261,
          6.807701254708021,
          7.439565288133143,
          6.875574632734982,
          6.854506264333016,
          6.423910246017273,
          7.235966733125432,
          7.696989244558372,
          8.115882212211755,
          8.609676142708999,
          10.107414871635424,
          10.46078658023335,
          10.278918151870343,
          10.899244574193801,
          11.573612188666104,
          10.027500370800379,
          11.070776626526202,
          11.293990559011613,
          11.763932420672774,
          11.96601324753681,
          12.008308230877063
         ],
         "yaxis": "y"
        }
       ],
       "layout": {
        "autosize": true,
        "legend": {
         "title": {
          "text": "variable"
         },
         "tracegroupgap": 0
        },
        "template": {
         "data": {
          "bar": [
           {
            "error_x": {
             "color": "#2a3f5f"
            },
            "error_y": {
             "color": "#2a3f5f"
            },
            "marker": {
             "line": {
              "color": "#E5ECF6",
              "width": 0.5
             },
             "pattern": {
              "fillmode": "overlay",
              "size": 10,
              "solidity": 0.2
             }
            },
            "type": "bar"
           }
          ],
          "barpolar": [
           {
            "marker": {
             "line": {
              "color": "#E5ECF6",
              "width": 0.5
             },
             "pattern": {
              "fillmode": "overlay",
              "size": 10,
              "solidity": 0.2
             }
            },
            "type": "barpolar"
           }
          ],
          "carpet": [
           {
            "aaxis": {
             "endlinecolor": "#2a3f5f",
             "gridcolor": "white",
             "linecolor": "white",
             "minorgridcolor": "white",
             "startlinecolor": "#2a3f5f"
            },
            "baxis": {
             "endlinecolor": "#2a3f5f",
             "gridcolor": "white",
             "linecolor": "white",
             "minorgridcolor": "white",
             "startlinecolor": "#2a3f5f"
            },
            "type": "carpet"
           }
          ],
          "choropleth": [
           {
            "colorbar": {
             "outlinewidth": 0,
             "ticks": ""
            },
            "type": "choropleth"
           }
          ],
          "contour": [
           {
            "colorbar": {
             "outlinewidth": 0,
             "ticks": ""
            },
            "colorscale": [
             [
              0,
              "#0d0887"
             ],
             [
              0.1111111111111111,
              "#46039f"
             ],
             [
              0.2222222222222222,
              "#7201a8"
             ],
             [
              0.3333333333333333,
              "#9c179e"
             ],
             [
              0.4444444444444444,
              "#bd3786"
             ],
             [
              0.5555555555555556,
              "#d8576b"
             ],
             [
              0.6666666666666666,
              "#ed7953"
             ],
             [
              0.7777777777777778,
              "#fb9f3a"
             ],
             [
              0.8888888888888888,
              "#fdca26"
             ],
             [
              1,
              "#f0f921"
             ]
            ],
            "type": "contour"
           }
          ],
          "contourcarpet": [
           {
            "colorbar": {
             "outlinewidth": 0,
             "ticks": ""
            },
            "type": "contourcarpet"
           }
          ],
          "heatmap": [
           {
            "colorbar": {
             "outlinewidth": 0,
             "ticks": ""
            },
            "colorscale": [
             [
              0,
              "#0d0887"
             ],
             [
              0.1111111111111111,
              "#46039f"
             ],
             [
              0.2222222222222222,
              "#7201a8"
             ],
             [
              0.3333333333333333,
              "#9c179e"
             ],
             [
              0.4444444444444444,
              "#bd3786"
             ],
             [
              0.5555555555555556,
              "#d8576b"
             ],
             [
              0.6666666666666666,
              "#ed7953"
             ],
             [
              0.7777777777777778,
              "#fb9f3a"
             ],
             [
              0.8888888888888888,
              "#fdca26"
             ],
             [
              1,
              "#f0f921"
             ]
            ],
            "type": "heatmap"
           }
          ],
          "heatmapgl": [
           {
            "colorbar": {
             "outlinewidth": 0,
             "ticks": ""
            },
            "colorscale": [
             [
              0,
              "#0d0887"
             ],
             [
              0.1111111111111111,
              "#46039f"
             ],
             [
              0.2222222222222222,
              "#7201a8"
             ],
             [
              0.3333333333333333,
              "#9c179e"
             ],
             [
              0.4444444444444444,
              "#bd3786"
             ],
             [
              0.5555555555555556,
              "#d8576b"
             ],
             [
              0.6666666666666666,
              "#ed7953"
             ],
             [
              0.7777777777777778,
              "#fb9f3a"
             ],
             [
              0.8888888888888888,
              "#fdca26"
             ],
             [
              1,
              "#f0f921"
             ]
            ],
            "type": "heatmapgl"
           }
          ],
          "histogram": [
           {
            "marker": {
             "pattern": {
              "fillmode": "overlay",
              "size": 10,
              "solidity": 0.2
             }
            },
            "type": "histogram"
           }
          ],
          "histogram2d": [
           {
            "colorbar": {
             "outlinewidth": 0,
             "ticks": ""
            },
            "colorscale": [
             [
              0,
              "#0d0887"
             ],
             [
              0.1111111111111111,
              "#46039f"
             ],
             [
              0.2222222222222222,
              "#7201a8"
             ],
             [
              0.3333333333333333,
              "#9c179e"
             ],
             [
              0.4444444444444444,
              "#bd3786"
             ],
             [
              0.5555555555555556,
              "#d8576b"
             ],
             [
              0.6666666666666666,
              "#ed7953"
             ],
             [
              0.7777777777777778,
              "#fb9f3a"
             ],
             [
              0.8888888888888888,
              "#fdca26"
             ],
             [
              1,
              "#f0f921"
             ]
            ],
            "type": "histogram2d"
           }
          ],
          "histogram2dcontour": [
           {
            "colorbar": {
             "outlinewidth": 0,
             "ticks": ""
            },
            "colorscale": [
             [
              0,
              "#0d0887"
             ],
             [
              0.1111111111111111,
              "#46039f"
             ],
             [
              0.2222222222222222,
              "#7201a8"
             ],
             [
              0.3333333333333333,
              "#9c179e"
             ],
             [
              0.4444444444444444,
              "#bd3786"
             ],
             [
              0.5555555555555556,
              "#d8576b"
             ],
             [
              0.6666666666666666,
              "#ed7953"
             ],
             [
              0.7777777777777778,
              "#fb9f3a"
             ],
             [
              0.8888888888888888,
              "#fdca26"
             ],
             [
              1,
              "#f0f921"
             ]
            ],
            "type": "histogram2dcontour"
           }
          ],
          "mesh3d": [
           {
            "colorbar": {
             "outlinewidth": 0,
             "ticks": ""
            },
            "type": "mesh3d"
           }
          ],
          "parcoords": [
           {
            "line": {
             "colorbar": {
              "outlinewidth": 0,
              "ticks": ""
             }
            },
            "type": "parcoords"
           }
          ],
          "pie": [
           {
            "automargin": true,
            "type": "pie"
           }
          ],
          "scatter": [
           {
            "fillpattern": {
             "fillmode": "overlay",
             "size": 10,
             "solidity": 0.2
            },
            "type": "scatter"
           }
          ],
          "scatter3d": [
           {
            "line": {
             "colorbar": {
              "outlinewidth": 0,
              "ticks": ""
             }
            },
            "marker": {
             "colorbar": {
              "outlinewidth": 0,
              "ticks": ""
             }
            },
            "type": "scatter3d"
           }
          ],
          "scattercarpet": [
           {
            "marker": {
             "colorbar": {
              "outlinewidth": 0,
              "ticks": ""
             }
            },
            "type": "scattercarpet"
           }
          ],
          "scattergeo": [
           {
            "marker": {
             "colorbar": {
              "outlinewidth": 0,
              "ticks": ""
             }
            },
            "type": "scattergeo"
           }
          ],
          "scattergl": [
           {
            "marker": {
             "colorbar": {
              "outlinewidth": 0,
              "ticks": ""
             }
            },
            "type": "scattergl"
           }
          ],
          "scattermapbox": [
           {
            "marker": {
             "colorbar": {
              "outlinewidth": 0,
              "ticks": ""
             }
            },
            "type": "scattermapbox"
           }
          ],
          "scatterpolar": [
           {
            "marker": {
             "colorbar": {
              "outlinewidth": 0,
              "ticks": ""
             }
            },
            "type": "scatterpolar"
           }
          ],
          "scatterpolargl": [
           {
            "marker": {
             "colorbar": {
              "outlinewidth": 0,
              "ticks": ""
             }
            },
            "type": "scatterpolargl"
           }
          ],
          "scatterternary": [
           {
            "marker": {
             "colorbar": {
              "outlinewidth": 0,
              "ticks": ""
             }
            },
            "type": "scatterternary"
           }
          ],
          "surface": [
           {
            "colorbar": {
             "outlinewidth": 0,
             "ticks": ""
            },
            "colorscale": [
             [
              0,
              "#0d0887"
             ],
             [
              0.1111111111111111,
              "#46039f"
             ],
             [
              0.2222222222222222,
              "#7201a8"
             ],
             [
              0.3333333333333333,
              "#9c179e"
             ],
             [
              0.4444444444444444,
              "#bd3786"
             ],
             [
              0.5555555555555556,
              "#d8576b"
             ],
             [
              0.6666666666666666,
              "#ed7953"
             ],
             [
              0.7777777777777778,
              "#fb9f3a"
             ],
             [
              0.8888888888888888,
              "#fdca26"
             ],
             [
              1,
              "#f0f921"
             ]
            ],
            "type": "surface"
           }
          ],
          "table": [
           {
            "cells": {
             "fill": {
              "color": "#EBF0F8"
             },
             "line": {
              "color": "white"
             }
            },
            "header": {
             "fill": {
              "color": "#C8D4E3"
             },
             "line": {
              "color": "white"
             }
            },
            "type": "table"
           }
          ]
         },
         "layout": {
          "annotationdefaults": {
           "arrowcolor": "#2a3f5f",
           "arrowhead": 0,
           "arrowwidth": 1
          },
          "autotypenumbers": "strict",
          "coloraxis": {
           "colorbar": {
            "outlinewidth": 0,
            "ticks": ""
           }
          },
          "colorscale": {
           "diverging": [
            [
             0,
             "#8e0152"
            ],
            [
             0.1,
             "#c51b7d"
            ],
            [
             0.2,
             "#de77ae"
            ],
            [
             0.3,
             "#f1b6da"
            ],
            [
             0.4,
             "#fde0ef"
            ],
            [
             0.5,
             "#f7f7f7"
            ],
            [
             0.6,
             "#e6f5d0"
            ],
            [
             0.7,
             "#b8e186"
            ],
            [
             0.8,
             "#7fbc41"
            ],
            [
             0.9,
             "#4d9221"
            ],
            [
             1,
             "#276419"
            ]
           ],
           "sequential": [
            [
             0,
             "#0d0887"
            ],
            [
             0.1111111111111111,
             "#46039f"
            ],
            [
             0.2222222222222222,
             "#7201a8"
            ],
            [
             0.3333333333333333,
             "#9c179e"
            ],
            [
             0.4444444444444444,
             "#bd3786"
            ],
            [
             0.5555555555555556,
             "#d8576b"
            ],
            [
             0.6666666666666666,
             "#ed7953"
            ],
            [
             0.7777777777777778,
             "#fb9f3a"
            ],
            [
             0.8888888888888888,
             "#fdca26"
            ],
            [
             1,
             "#f0f921"
            ]
           ],
           "sequentialminus": [
            [
             0,
             "#0d0887"
            ],
            [
             0.1111111111111111,
             "#46039f"
            ],
            [
             0.2222222222222222,
             "#7201a8"
            ],
            [
             0.3333333333333333,
             "#9c179e"
            ],
            [
             0.4444444444444444,
             "#bd3786"
            ],
            [
             0.5555555555555556,
             "#d8576b"
            ],
            [
             0.6666666666666666,
             "#ed7953"
            ],
            [
             0.7777777777777778,
             "#fb9f3a"
            ],
            [
             0.8888888888888888,
             "#fdca26"
            ],
            [
             1,
             "#f0f921"
            ]
           ]
          },
          "colorway": [
           "#636efa",
           "#EF553B",
           "#00cc96",
           "#ab63fa",
           "#FFA15A",
           "#19d3f3",
           "#FF6692",
           "#B6E880",
           "#FF97FF",
           "#FECB52"
          ],
          "font": {
           "color": "#2a3f5f"
          },
          "geo": {
           "bgcolor": "white",
           "lakecolor": "white",
           "landcolor": "#E5ECF6",
           "showlakes": true,
           "showland": true,
           "subunitcolor": "white"
          },
          "hoverlabel": {
           "align": "left"
          },
          "hovermode": "closest",
          "mapbox": {
           "style": "light"
          },
          "paper_bgcolor": "white",
          "plot_bgcolor": "#E5ECF6",
          "polar": {
           "angularaxis": {
            "gridcolor": "white",
            "linecolor": "white",
            "ticks": ""
           },
           "bgcolor": "#E5ECF6",
           "radialaxis": {
            "gridcolor": "white",
            "linecolor": "white",
            "ticks": ""
           }
          },
          "scene": {
           "xaxis": {
            "backgroundcolor": "#E5ECF6",
            "gridcolor": "white",
            "gridwidth": 2,
            "linecolor": "white",
            "showbackground": true,
            "ticks": "",
            "zerolinecolor": "white"
           },
           "yaxis": {
            "backgroundcolor": "#E5ECF6",
            "gridcolor": "white",
            "gridwidth": 2,
            "linecolor": "white",
            "showbackground": true,
            "ticks": "",
            "zerolinecolor": "white"
           },
           "zaxis": {
            "backgroundcolor": "#E5ECF6",
            "gridcolor": "white",
            "gridwidth": 2,
            "linecolor": "white",
            "showbackground": true,
            "ticks": "",
            "zerolinecolor": "white"
           }
          },
          "shapedefaults": {
           "line": {
            "color": "#2a3f5f"
           }
          },
          "ternary": {
           "aaxis": {
            "gridcolor": "white",
            "linecolor": "white",
            "ticks": ""
           },
           "baxis": {
            "gridcolor": "white",
            "linecolor": "white",
            "ticks": ""
           },
           "bgcolor": "#E5ECF6",
           "caxis": {
            "gridcolor": "white",
            "linecolor": "white",
            "ticks": ""
           }
          },
          "title": {
           "x": 0.05
          },
          "xaxis": {
           "automargin": true,
           "gridcolor": "white",
           "linecolor": "white",
           "ticks": "",
           "title": {
            "standoff": 15
           },
           "zerolinecolor": "white",
           "zerolinewidth": 2
          },
          "yaxis": {
           "automargin": true,
           "gridcolor": "white",
           "linecolor": "white",
           "ticks": "",
           "title": {
            "standoff": 15
           },
           "zerolinecolor": "white",
           "zerolinewidth": 2
          }
         }
        },
        "title": {
         "text": "Portfolio Performance (2023 Oct-Dec)"
        },
        "xaxis": {
         "anchor": "y",
         "autorange": true,
         "domain": [
          0,
          1
         ],
         "range": [
          "2023-10-02",
          "2023-12-28"
         ],
         "title": {
          "text": "Date"
         },
         "type": "date"
        },
        "yaxis": {
         "anchor": "x",
         "autorange": true,
         "domain": [
          0,
          1
         ],
         "range": [
          -36.80609864669842,
          227.91306515175958
         ],
         "title": {
          "text": "Cumulative Return in %"
         },
         "type": "linear"
        }
       }
      },
      "image/png": "[encoded data removed]",
      "text/html": [
       "<div>                            <div id=\"85c0dd89-fa3e-461e-ba86-e4fba030de64\" class=\"plotly-graph-div\" style=\"height:525px; width:100%;\"></div>            <script type=\"text/javascript\">                require([\"plotly\"], function(Plotly) {                    window.PLOTLYENV=window.PLOTLYENV || {};                                    if (document.getElementById(\"85c0dd89-fa3e-461e-ba86-e4fba030de64\")) {                    Plotly.newPlot(                        \"85c0dd89-fa3e-461e-ba86-e4fba030de64\",                        [{\"hovertemplate\":\"variable=MinVar\\u003cbr\\u003eindex=%{x}\\u003cbr\\u003evalue=%{y}\\u003cextra\\u003e\\u003c\\u002fextra\\u003e\",\"legendgroup\":\"MinVar\",\"line\":{\"color\":\"#636efa\",\"dash\":\"solid\"},\"marker\":{\"symbol\":\"circle\"},\"mode\":\"lines\",\"name\":\"MinVar\",\"orientation\":\"v\",\"showlegend\":true,\"x\":[\"2023-10-02T00:00:00\",\"2023-10-03T00:00:00\",\"2023-10-04T00:00:00\",\"2023-10-05T00:00:00\",\"2023-10-06T00:00:00\",\"2023-10-09T00:00:00\",\"2023-10-10T00:00:00\",\"2023-10-11T00:00:00\",\"2023-10-12T00:00:00\",\"2023-10-13T00:00:00\",\"2023-10-16T00:00:00\",\"2023-10-17T00:00:00\",\"2023-10-18T00:00:00\",\"2023-10-19T00:00:00\",\"2023-10-20T00:00:00\",\"2023-10-23T00:00:00\",\"2023-10-24T00:00:00\",\"2023-10-25T00:00:00\",\"2023-10-26T00:00:00\",\"2023-10-27T00:00:00\",\"2023-10-30T00:00:00\",\"2023-10-31T00:00:00\",\"2023-11-01T00:00:00\",\"2023-11-02T00:00:00\",\"2023-11-03T00:00:00\",\"2023-11-06T00:00:00\",\"2023-11-07T00:00:00\",\"2023-11-08T00:00:00\",\"2023-11-09T00:00:00\",\"2023-11-10T00:00:00\",\"2023-11-13T00:00:00\",\"2023-11-14T00:00:00\",\"2023-11-15T00:00:00\",\"2023-11-16T00:00:00\",\"2023-11-17T00:00:00\",\"2023-11-20T00:00:00\",\"2023-11-21T00:00:00\",\"2023-11-22T00:00:00\",\"2023-11-24T00:00:00\",\"2023-11-27T00:00:00\",\"2023-11-28T00:00:00\",\"2023-11-29T00:00:00\",\"2023-11-30T00:00:00\",\"2023-12-01T00:00:00\",\"2023-12-04T00:00:00\",\"2023-12-05T00:00:00\",\"2023-12-06T00:00:00\",\"2023-12-07T00:00:00\",\"2023-12-08T00:00:00\",\"2023-12-11T00:00:00\",\"2023-12-12T00:00:00\",\"2023-12-13T00:00:00\",\"2023-12-14T00:00:00\",\"2023-12-15T00:00:00\",\"2023-12-18T00:00:00\",\"2023-12-19T00:00:00\",\"2023-12-20T00:00:00\",\"2023-12-21T00:00:00\",\"2023-12-22T00:00:00\",\"2023-12-26T00:00:00\",\"2023-12-27T00:00:00\",\"2023-12-28T00:00:00\"],\"xaxis\":\"x\",\"y\":[-0.06303431154112138,-0.23783455380911311,-0.12447105674393555,-0.20849888872755962,-0.13250117204155476,0.027567812319184704,0.035061556935644944,0.046371277010281986,-0.06516948224766228,-0.07418359475958036,-0.07136687819589982,-0.07847739549392552,-0.14363735929501242,-0.2736318661744397,-0.3326776359579342,-0.2570542138092047,-0.20890460652337461,-0.3981508815778634,-0.5497030970658012,-0.6742694729200971,-0.5938423522205194,-0.5005897535831361,-0.219842004074966,0.055070092712949936,0.1876150226762352,0.07137307541593696,0.1929913932298133,0.21925603804036076,0.043350220950344465,0.2540480681482604,0.23132333989777099,0.4845139227054318,0.4932490920308563,0.607313151982769,0.7426270481386554,0.7794138433960596,0.7217640171256479,0.777654944165973,0.8722351852167076,0.06790331543040651,0.12091688875075501,1.1363007938843817,0.7813865676592036,0.8845384381509058,0.9838842628029587,1.2882883774482101,0.8969293890130237,-0.13083358905319198,-2.0313079530363987,-4.029805054169522,-4.871933640145254,-5.0833771272988715,-5.190491302654654,-5.5457735323206965,-6.256502934862452,-4.2513845704464925,-3.1288810624595653,-2.820001369743763,-2.8520325149566483,-2.1211121243810083,-1.9484221534469048,-1.8804409967793423],\"yaxis\":\"y\",\"type\":\"scatter\"},{\"hovertemplate\":\"variable=MaxSharpe\\u003cbr\\u003eindex=%{x}\\u003cbr\\u003evalue=%{y}\\u003cextra\\u003e\\u003c\\u002fextra\\u003e\",\"legendgroup\":\"MaxSharpe\",\"line\":{\"color\":\"#EF553B\",\"dash\":\"solid\"},\"marker\":{\"symbol\":\"circle\"},\"mode\":\"lines\",\"name\":\"MaxSharpe\",\"orientation\":\"v\",\"showlegend\":true,\"x\":[\"2023-10-02T00:00:00\",\"2023-10-03T00:00:00\",\"2023-10-04T00:00:00\",\"2023-10-05T00:00:00\",\"2023-10-06T00:00:00\",\"2023-10-09T00:00:00\",\"2023-10-10T00:00:00\",\"2023-10-11T00:00:00\",\"2023-10-12T00:00:00\",\"2023-10-13T00:00:00\",\"2023-10-16T00:00:00\",\"2023-10-17T00:00:00\",\"2023-10-18T00:00:00\",\"2023-10-19T00:00:00\",\"2023-10-20T00:00:00\",\"2023-10-23T00:00:00\",\"2023-10-24T00:00:00\",\"2023-10-25T00:00:00\",\"2023-10-26T00:00:00\",\"2023-10-27T00:00:00\",\"2023-10-30T00:00:00\",\"2023-10-31T00:00:00\",\"2023-11-01T00:00:00\",\"2023-11-02T00:00:00\",\"2023-11-03T00:00:00\",\"2023-11-06T00:00:00\",\"2023-11-07T00:00:00\",\"2023-11-08T00:00:00\",\"2023-11-09T00:00:00\",\"2023-11-10T00:00:00\",\"2023-11-13T00:00:00\",\"2023-11-14T00:00:00\",\"2023-11-15T00:00:00\",\"2023-11-16T00:00:00\",\"2023-11-17T00:00:00\",\"2023-11-20T00:00:00\",\"2023-11-21T00:00:00\",\"2023-11-22T00:00:00\",\"2023-11-24T00:00:00\",\"2023-11-27T00:00:00\",\"2023-11-28T00:00:00\",\"2023-11-29T00:00:00\",\"2023-11-30T00:00:00\",\"2023-12-01T00:00:00\",\"2023-12-04T00:00:00\",\"2023-12-05T00:00:00\",\"2023-12-06T00:00:00\",\"2023-12-07T00:00:00\",\"2023-12-08T00:00:00\",\"2023-12-11T00:00:00\",\"2023-12-12T00:00:00\",\"2023-12-13T00:00:00\",\"2023-12-14T00:00:00\",\"2023-12-15T00:00:00\",\"2023-12-18T00:00:00\",\"2023-12-19T00:00:00\",\"2023-12-20T00:00:00\",\"2023-12-21T00:00:00\",\"2023-12-22T00:00:00\",\"2023-12-26T00:00:00\",\"2023-12-27T00:00:00\",\"2023-12-28T00:00:00\"],\"xaxis\":\"x\",\"y\":[-1.3048825416496768,-6.331721926160849,-13.407235085161151,-23.570140456775523,-16.965993331271424,-13.206493455513858,-17.205036694538613,-12.385811741241193,-3.350790182494745,-10.551372618495591,-7.679717508182171,-8.596466766141297,-11.538846391365443,-8.243262122435135,-11.69500149057403,-14.17046494609081,-18.451621479356696,-18.81228324780544,-20.181511232002713,-19.12429667014258,-13.640469386497312,-13.904045080850835,-11.133601371633317,-1.6525038607295262,-3.322742886789387,-3.99458397043414,-2.1508850504652233,10.698978443569839,3.6387700893402153,5.185102856611179,22.23592679888766,42.69737749564475,39.65865725158053,70.4362261088735,83.95979302974726,135.6253236000097,159.83498025942637,109.52894164497127,115.14840555348994,164.43582397228062,145.81491619094865,143.21658634066404,163.72314844358863,180.5197009745505,214.67710696183667,178.58915504124548,125.94364547094924,144.1672874936173,129.30422228939906,138.47905941408442,127.0279346130076,111.28195456772771,126.90158261181787,145.33995702218775,152.8823690835299,167.9646695554867,159.7759907399051,162.39216947774779,144.89792140820472,139.37394748248533,130.56992545257518,126.64990755309083],\"yaxis\":\"y\",\"type\":\"scatter\"},{\"hovertemplate\":\"variable=SnP500\\u003cbr\\u003eindex=%{x}\\u003cbr\\u003evalue=%{y}\\u003cextra\\u003e\\u003c\\u002fextra\\u003e\",\"legendgroup\":\"SnP500\",\"line\":{\"color\":\"#00cc96\",\"dash\":\"solid\"},\"marker\":{\"symbol\":\"circle\"},\"mode\":\"lines\",\"name\":\"SnP500\",\"orientation\":\"v\",\"showlegend\":true,\"x\":[\"2023-10-02T00:00:00\",\"2023-10-03T00:00:00\",\"2023-10-04T00:00:00\",\"2023-10-05T00:00:00\",\"2023-10-06T00:00:00\",\"2023-10-09T00:00:00\",\"2023-10-10T00:00:00\",\"2023-10-11T00:00:00\",\"2023-10-12T00:00:00\",\"2023-10-13T00:00:00\",\"2023-10-16T00:00:00\",\"2023-10-17T00:00:00\",\"2023-10-18T00:00:00\",\"2023-10-19T00:00:00\",\"2023-10-20T00:00:00\",\"2023-10-23T00:00:00\",\"2023-10-24T00:00:00\",\"2023-10-25T00:00:00\",\"2023-10-26T00:00:00\",\"2023-10-27T00:00:00\",\"2023-10-30T00:00:00\",\"2023-10-31T00:00:00\",\"2023-11-01T00:00:00\",\"2023-11-02T00:00:00\",\"2023-11-03T00:00:00\",\"2023-11-06T00:00:00\",\"2023-11-07T00:00:00\",\"2023-11-08T00:00:00\",\"2023-11-09T00:00:00\",\"2023-11-10T00:00:00\",\"2023-11-13T00:00:00\",\"2023-11-14T00:00:00\",\"2023-11-15T00:00:00\",\"2023-11-16T00:00:00\",\"2023-11-17T00:00:00\",\"2023-11-20T00:00:00\",\"2023-11-21T00:00:00\",\"2023-11-22T00:00:00\",\"2023-11-24T00:00:00\",\"2023-11-27T00:00:00\",\"2023-11-28T00:00:00\",\"2023-11-29T00:00:00\",\"2023-11-30T00:00:00\",\"2023-12-01T00:00:00\",\"2023-12-04T00:00:00\",\"2023-12-05T00:00:00\",\"2023-12-06T00:00:00\",\"2023-12-07T00:00:00\",\"2023-12-08T00:00:00\",\"2023-12-11T00:00:00\",\"2023-12-12T00:00:00\",\"2023-12-13T00:00:00\",\"2023-12-14T00:00:00\",\"2023-12-15T00:00:00\",\"2023-12-18T00:00:00\",\"2023-12-19T00:00:00\",\"2023-12-20T00:00:00\",\"2023-12-21T00:00:00\",\"2023-12-22T00:00:00\",\"2023-12-26T00:00:00\",\"2023-12-27T00:00:00\",\"2023-12-28T00:00:00\"],\"xaxis\":\"x\",\"y\":[null,-1.3386074506209655,-0.6201537897384091,-0.6576006746481511,0.5218683046430028,1.1654281957060864,1.6919791592189037,2.1085415869739776,1.4860428712884843,0.9805530831532572,2.0430131348941227,2.038330476024308,0.6786618500257635,-0.20594348095478443,-1.4322174698709111,-1.6030589918630822,-0.8611992296558402,-2.284065767835919,-3.4541694293874325,-3.8917930325200745,-2.7427361602973988,-2.1319404952742427,-1.0882038859882592,0.807381021262743,1.7270883112059376,1.9611061663064921,2.2512871557472725,2.3261809255667565,1.5281652220436648,3.112486385403157,3.014208093332127,5.012761144548317,5.235075948986534,5.3637879271991595,5.494837638334493,6.306901318467029,6.075214003264806,6.484756039227335,6.550270105258438,6.35838179393744,6.463687670825369,6.388801094030261,6.807701254708021,7.439565288133143,6.875574632734982,6.854506264333016,6.423910246017273,7.235966733125432,7.696989244558372,8.115882212211755,8.609676142708999,10.107414871635424,10.46078658023335,10.278918151870343,10.899244574193801,11.573612188666104,10.027500370800379,11.070776626526202,11.293990559011613,11.763932420672774,11.96601324753681,12.008308230877063],\"yaxis\":\"y\",\"type\":\"scatter\"}],                        {\"template\":{\"data\":{\"histogram2dcontour\":[{\"type\":\"histogram2dcontour\",\"colorbar\":{\"outlinewidth\":0,\"ticks\":\"\"},\"colorscale\":[[0.0,\"#0d0887\"],[0.1111111111111111,\"#46039f\"],[0.2222222222222222,\"#7201a8\"],[0.3333333333333333,\"#9c179e\"],[0.4444444444444444,\"#bd3786\"],[0.5555555555555556,\"#d8576b\"],[0.6666666666666666,\"#ed7953\"],[0.7777777777777778,\"#fb9f3a\"],[0.8888888888888888,\"#fdca26\"],[1.0,\"#f0f921\"]]}],\"choropleth\":[{\"type\":\"choropleth\",\"colorbar\":{\"outlinewidth\":0,\"ticks\":\"\"}}],\"histogram2d\":[{\"type\":\"histogram2d\",\"colorbar\":{\"outlinewidth\":0,\"ticks\":\"\"},\"colorscale\":[[0.0,\"#0d0887\"],[0.1111111111111111,\"#46039f\"],[0.2222222222222222,\"#7201a8\"],[0.3333333333333333,\"#9c179e\"],[0.4444444444444444,\"#bd3786\"],[0.5555555555555556,\"#d8576b\"],[0.6666666666666666,\"#ed7953\"],[0.7777777777777778,\"#fb9f3a\"],[0.8888888888888888,\"#fdca26\"],[1.0,\"#f0f921\"]]}],\"heatmap\":[{\"type\":\"heatmap\",\"colorbar\":{\"outlinewidth\":0,\"ticks\":\"\"},\"colorscale\":[[0.0,\"#0d0887\"],[0.1111111111111111,\"#46039f\"],[0.2222222222222222,\"#7201a8\"],[0.3333333333333333,\"#9c179e\"],[0.4444444444444444,\"#bd3786\"],[0.5555555555555556,\"#d8576b\"],[0.6666666666666666,\"#ed7953\"],[0.7777777777777778,\"#fb9f3a\"],[0.8888888888888888,\"#fdca26\"],[1.0,\"#f0f921\"]]}],\"heatmapgl\":[{\"type\":\"heatmapgl\",\"colorbar\":{\"outlinewidth\":0,\"ticks\":\"\"},\"colorscale\":[[0.0,\"#0d0887\"],[0.1111111111111111,\"#46039f\"],[0.2222222222222222,\"#7201a8\"],[0.3333333333333333,\"#9c179e\"],[0.4444444444444444,\"#bd3786\"],[0.5555555555555556,\"#d8576b\"],[0.6666666666666666,\"#ed7953\"],[0.7777777777777778,\"#fb9f3a\"],[0.8888888888888888,\"#fdca26\"],[1.0,\"#f0f921\"]]}],\"contourcarpet\":[{\"type\":\"contourcarpet\",\"colorbar\":{\"outlinewidth\":0,\"ticks\":\"\"}}],\"contour\":[{\"type\":\"contour\",\"colorbar\":{\"outlinewidth\":0,\"ticks\":\"\"},\"colorscale\":[[0.0,\"#0d0887\"],[0.1111111111111111,\"#46039f\"],[0.2222222222222222,\"#7201a8\"],[0.3333333333333333,\"#9c179e\"],[0.4444444444444444,\"#bd3786\"],[0.5555555555555556,\"#d8576b\"],[0.6666666666666666,\"#ed7953\"],[0.7777777777777778,\"#fb9f3a\"],[0.8888888888888888,\"#fdca26\"],[1.0,\"#f0f921\"]]}],\"surface\":[{\"type\":\"surface\",\"colorbar\":{\"outlinewidth\":0,\"ticks\":\"\"},\"colorscale\":[[0.0,\"#0d0887\"],[0.1111111111111111,\"#46039f\"],[0.2222222222222222,\"#7201a8\"],[0.3333333333333333,\"#9c179e\"],[0.4444444444444444,\"#bd3786\"],[0.5555555555555556,\"#d8576b\"],[0.6666666666666666,\"#ed7953\"],[0.7777777777777778,\"#fb9f3a\"],[0.8888888888888888,\"#fdca26\"],[1.0,\"#f0f921\"]]}],\"mesh3d\":[{\"type\":\"mesh3d\",\"colorbar\":{\"outlinewidth\":0,\"ticks\":\"\"}}],\"scatter\":[{\"fillpattern\":{\"fillmode\":\"overlay\",\"size\":10,\"solidity\":0.2},\"type\":\"scatter\"}],\"parcoords\":[{\"type\":\"parcoords\",\"line\":{\"colorbar\":{\"outlinewidth\":0,\"ticks\":\"\"}}}],\"scatterpolargl\":[{\"type\":\"scatterpolargl\",\"marker\":{\"colorbar\":{\"outlinewidth\":0,\"ticks\":\"\"}}}],\"bar\":[{\"error_x\":{\"color\":\"#2a3f5f\"},\"error_y\":{\"color\":\"#2a3f5f\"},\"marker\":{\"line\":{\"color\":\"#E5ECF6\",\"width\":0.5},\"pattern\":{\"fillmode\":\"overlay\",\"size\":10,\"solidity\":0.2}},\"type\":\"bar\"}],\"scattergeo\":[{\"type\":\"scattergeo\",\"marker\":{\"colorbar\":{\"outlinewidth\":0,\"ticks\":\"\"}}}],\"scatterpolar\":[{\"type\":\"scatterpolar\",\"marker\":{\"colorbar\":{\"outlinewidth\":0,\"ticks\":\"\"}}}],\"histogram\":[{\"marker\":{\"pattern\":{\"fillmode\":\"overlay\",\"size\":10,\"solidity\":0.2}},\"type\":\"histogram\"}],\"scattergl\":[{\"type\":\"scattergl\",\"marker\":{\"colorbar\":{\"outlinewidth\":0,\"ticks\":\"\"}}}],\"scatter3d\":[{\"type\":\"scatter3d\",\"line\":{\"colorbar\":{\"outlinewidth\":0,\"ticks\":\"\"}},\"marker\":{\"colorbar\":{\"outlinewidth\":0,\"ticks\":\"\"}}}],\"scattermapbox\":[{\"type\":\"scattermapbox\",\"marker\":{\"colorbar\":{\"outlinewidth\":0,\"ticks\":\"\"}}}],\"scatterternary\":[{\"type\":\"scatterternary\",\"marker\":{\"colorbar\":{\"outlinewidth\":0,\"ticks\":\"\"}}}],\"scattercarpet\":[{\"type\":\"scattercarpet\",\"marker\":{\"colorbar\":{\"outlinewidth\":0,\"ticks\":\"\"}}}],\"carpet\":[{\"aaxis\":{\"endlinecolor\":\"#2a3f5f\",\"gridcolor\":\"white\",\"linecolor\":\"white\",\"minorgridcolor\":\"white\",\"startlinecolor\":\"#2a3f5f\"},\"baxis\":{\"endlinecolor\":\"#2a3f5f\",\"gridcolor\":\"white\",\"linecolor\":\"white\",\"minorgridcolor\":\"white\",\"startlinecolor\":\"#2a3f5f\"},\"type\":\"carpet\"}],\"table\":[{\"cells\":{\"fill\":{\"color\":\"#EBF0F8\"},\"line\":{\"color\":\"white\"}},\"header\":{\"fill\":{\"color\":\"#C8D4E3\"},\"line\":{\"color\":\"white\"}},\"type\":\"table\"}],\"barpolar\":[{\"marker\":{\"line\":{\"color\":\"#E5ECF6\",\"width\":0.5},\"pattern\":{\"fillmode\":\"overlay\",\"size\":10,\"solidity\":0.2}},\"type\":\"barpolar\"}],\"pie\":[{\"automargin\":true,\"type\":\"pie\"}]},\"layout\":{\"autotypenumbers\":\"strict\",\"colorway\":[\"#636efa\",\"#EF553B\",\"#00cc96\",\"#ab63fa\",\"#FFA15A\",\"#19d3f3\",\"#FF6692\",\"#B6E880\",\"#FF97FF\",\"#FECB52\"],\"font\":{\"color\":\"#2a3f5f\"},\"hovermode\":\"closest\",\"hoverlabel\":{\"align\":\"left\"},\"paper_bgcolor\":\"white\",\"plot_bgcolor\":\"#E5ECF6\",\"polar\":{\"bgcolor\":\"#E5ECF6\",\"angularaxis\":{\"gridcolor\":\"white\",\"linecolor\":\"white\",\"ticks\":\"\"},\"radialaxis\":{\"gridcolor\":\"white\",\"linecolor\":\"white\",\"ticks\":\"\"}},\"ternary\":{\"bgcolor\":\"#E5ECF6\",\"aaxis\":{\"gridcolor\":\"white\",\"linecolor\":\"white\",\"ticks\":\"\"},\"baxis\":{\"gridcolor\":\"white\",\"linecolor\":\"white\",\"ticks\":\"\"},\"caxis\":{\"gridcolor\":\"white\",\"linecolor\":\"white\",\"ticks\":\"\"}},\"coloraxis\":{\"colorbar\":{\"outlinewidth\":0,\"ticks\":\"\"}},\"colorscale\":{\"sequential\":[[0.0,\"#0d0887\"],[0.1111111111111111,\"#46039f\"],[0.2222222222222222,\"#7201a8\"],[0.3333333333333333,\"#9c179e\"],[0.4444444444444444,\"#bd3786\"],[0.5555555555555556,\"#d8576b\"],[0.6666666666666666,\"#ed7953\"],[0.7777777777777778,\"#fb9f3a\"],[0.8888888888888888,\"#fdca26\"],[1.0,\"#f0f921\"]],\"sequentialminus\":[[0.0,\"#0d0887\"],[0.1111111111111111,\"#46039f\"],[0.2222222222222222,\"#7201a8\"],[0.3333333333333333,\"#9c179e\"],[0.4444444444444444,\"#bd3786\"],[0.5555555555555556,\"#d8576b\"],[0.6666666666666666,\"#ed7953\"],[0.7777777777777778,\"#fb9f3a\"],[0.8888888888888888,\"#fdca26\"],[1.0,\"#f0f921\"]],\"diverging\":[[0,\"#8e0152\"],[0.1,\"#c51b7d\"],[0.2,\"#de77ae\"],[0.3,\"#f1b6da\"],[0.4,\"#fde0ef\"],[0.5,\"#f7f7f7\"],[0.6,\"#e6f5d0\"],[0.7,\"#b8e186\"],[0.8,\"#7fbc41\"],[0.9,\"#4d9221\"],[1,\"#276419\"]]},\"xaxis\":{\"gridcolor\":\"white\",\"linecolor\":\"white\",\"ticks\":\"\",\"title\":{\"standoff\":15},\"zerolinecolor\":\"white\",\"automargin\":true,\"zerolinewidth\":2},\"yaxis\":{\"gridcolor\":\"white\",\"linecolor\":\"white\",\"ticks\":\"\",\"title\":{\"standoff\":15},\"zerolinecolor\":\"white\",\"automargin\":true,\"zerolinewidth\":2},\"scene\":{\"xaxis\":{\"backgroundcolor\":\"#E5ECF6\",\"gridcolor\":\"white\",\"linecolor\":\"white\",\"showbackground\":true,\"ticks\":\"\",\"zerolinecolor\":\"white\",\"gridwidth\":2},\"yaxis\":{\"backgroundcolor\":\"#E5ECF6\",\"gridcolor\":\"white\",\"linecolor\":\"white\",\"showbackground\":true,\"ticks\":\"\",\"zerolinecolor\":\"white\",\"gridwidth\":2},\"zaxis\":{\"backgroundcolor\":\"#E5ECF6\",\"gridcolor\":\"white\",\"linecolor\":\"white\",\"showbackground\":true,\"ticks\":\"\",\"zerolinecolor\":\"white\",\"gridwidth\":2}},\"shapedefaults\":{\"line\":{\"color\":\"#2a3f5f\"}},\"annotationdefaults\":{\"arrowcolor\":\"#2a3f5f\",\"arrowhead\":0,\"arrowwidth\":1},\"geo\":{\"bgcolor\":\"white\",\"landcolor\":\"#E5ECF6\",\"subunitcolor\":\"white\",\"showland\":true,\"showlakes\":true,\"lakecolor\":\"white\"},\"title\":{\"x\":0.05},\"mapbox\":{\"style\":\"light\"}}},\"xaxis\":{\"anchor\":\"y\",\"domain\":[0.0,1.0],\"title\":{\"text\":\"Date\"}},\"yaxis\":{\"anchor\":\"x\",\"domain\":[0.0,1.0],\"title\":{\"text\":\"Cumulative Return in %\"}},\"legend\":{\"title\":{\"text\":\"variable\"},\"tracegroupgap\":0},\"title\":{\"text\":\"Portfolio Performance (2023 Oct-Dec)\"}},                        {\"responsive\": true}                    ).then(function(){\n",
       "                            \n",
       "var gd = document.getElementById('85c0dd89-fa3e-461e-ba86-e4fba030de64');\n",
       "var x = new MutationObserver(function (mutations, observer) {{\n",
       "        var display = window.getComputedStyle(gd).display;\n",
       "        if (!display || display === 'none') {{\n",
       "            console.log([gd, 'removed!']);\n",
       "            Plotly.purge(gd);\n",
       "            observer.disconnect();\n",
       "        }}\n",
       "}});\n",
       "\n",
       "// Listen for the removal of the full notebook cells\n",
       "var notebookContainer = gd.closest('#notebook-container');\n",
       "if (notebookContainer) {{\n",
       "    x.observe(notebookContainer, {childList: true});\n",
       "}}\n",
       "\n",
       "// Listen for the clearing of the current output cell\n",
       "var outputEl = gd.closest('.output');\n",
       "if (outputEl) {{\n",
       "    x.observe(outputEl, {childList: true});\n",
       "}}\n",
       "\n",
       "                        })                };                });            </script>        </div>"
      ]
     },
     "metadata": {},
     "output_type": "display_data"
    }
   ],
   "source": [
    "back = pd.DataFrame({\"MinVar\": ret_1, \"MaxSharpe\": ret_2})\n",
    "back = pd.concat([back, ind_ret], join=\"outer\", axis=1)\n",
    "back.drop(back.tail(1).index, inplace=True)\n",
    "\n",
    "back.interpolate(method=\"linear\", inplace=True)\n",
    "\n",
    "fig = px.line(\n",
    "    back, x=back.index, y=back.columns, title=\"Portfolio Performance (2023 Oct-Dec)\"\n",
    ")\n",
    "fig.update_xaxes(title_text=\"Date\")\n",
    "fig.update_yaxes(title_text=\"Cumulative Return in %\")\n",
    "\n",
    "fig.show()"
   ]
  }
 ],
 "metadata": {
  "kernelspec": {
   "display_name": "Python 3 (ipykernel)",
   "language": "python",
   "name": "python3"
  },
  "language_info": {
   "codemirror_mode": {
    "name": "ipython",
    "version": 3
   },
   "file_extension": ".py",
   "mimetype": "text/x-python",
   "name": "python",
   "nbconvert_exporter": "python",
   "pygments_lexer": "ipython3",
   "version": "3.10.14"
  }
 },
 "nbformat": 4,
 "nbformat_minor": 5
}
