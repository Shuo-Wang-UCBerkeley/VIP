{
 "cells": [
  {
   "cell_type": "code",
   "execution_count": 3,
   "id": "41bbe10d-802a-4339-8f82-ed113a94b600",
   "metadata": {
    "editable": true,
    "slideshow": {
     "slide_type": ""
    },
    "tags": []
   },
   "outputs": [],
   "source": [
    "import os\n",
    "\n",
    "import boto3\n",
    "import matplotlib.pyplot as plt\n",
    "import numpy as np\n",
    "import pandas as pd\n",
    "import plotly.express as px\n",
    "import pyarrow.parquet as pq\n",
    "import seaborn as sns"
   ]
  },
  {
   "cell_type": "code",
   "execution_count": 4,
   "id": "4560bd85-362c-407e-92c2-ea283ebc991f",
   "metadata": {
    "editable": true,
    "slideshow": {
     "slide_type": ""
    },
    "tags": []
   },
   "outputs": [],
   "source": [
    "s3 = boto3.client(\"s3\")\n",
    "bucket = \"capstone-bucket-4-friends\"\n",
    "\n",
    "csv_key = \"crsp_2023_clean.csv\"\n",
    "file_path = f\"../data/{csv_key}\"\n",
    "s3.download_file(bucket, csv_key, file_path)"
   ]
  },
  {
   "cell_type": "code",
   "execution_count": 5,
   "id": "e489bcc7-6e59-4818-9c49-a17d7c9ff972",
   "metadata": {},
   "outputs": [],
   "source": [
    "df = pd.read_csv(file_path)\n",
    "df[\"date\"] = pd.to_datetime(df[\"date\"])"
   ]
  },
  {
   "cell_type": "code",
   "execution_count": 6,
   "id": "1f673423-cc0e-4ce3-80b9-48a08019b590",
   "metadata": {},
   "outputs": [
    {
     "data": {
      "text/plain": [
       "PERMNO             int64\n",
       "date      datetime64[ns]\n",
       "PRC              float64\n",
       "RET              float64\n",
       "dtype: object"
      ]
     },
     "execution_count": 6,
     "metadata": {},
     "output_type": "execute_result"
    }
   ],
   "source": [
    "df.dtypes"
   ]
  },
  {
   "cell_type": "code",
   "execution_count": 7,
   "id": "63ad1ac4-6514-4b51-8104-e9728b7d556f",
   "metadata": {
    "editable": true,
    "slideshow": {
     "slide_type": ""
    },
    "tags": []
   },
   "outputs": [
    {
     "data": {
      "text/html": [
       "<div>\n",
       "<style scoped>\n",
       "    .dataframe tbody tr th:only-of-type {\n",
       "        vertical-align: middle;\n",
       "    }\n",
       "\n",
       "    .dataframe tbody tr th {\n",
       "        vertical-align: top;\n",
       "    }\n",
       "\n",
       "    .dataframe thead th {\n",
       "        text-align: right;\n",
       "    }\n",
       "</style>\n",
       "<table border=\"1\" class=\"dataframe\">\n",
       "  <thead>\n",
       "    <tr style=\"text-align: right;\">\n",
       "      <th></th>\n",
       "      <th>date</th>\n",
       "      <th>PRC</th>\n",
       "      <th>RET</th>\n",
       "    </tr>\n",
       "    <tr>\n",
       "      <th>PERMNO</th>\n",
       "      <th></th>\n",
       "      <th></th>\n",
       "      <th></th>\n",
       "    </tr>\n",
       "  </thead>\n",
       "  <tbody>\n",
       "    <tr>\n",
       "      <th>10026</th>\n",
       "      <td>250</td>\n",
       "      <td>250</td>\n",
       "      <td>250</td>\n",
       "    </tr>\n",
       "    <tr>\n",
       "      <th>10028</th>\n",
       "      <td>250</td>\n",
       "      <td>250</td>\n",
       "      <td>250</td>\n",
       "    </tr>\n",
       "    <tr>\n",
       "      <th>10032</th>\n",
       "      <td>250</td>\n",
       "      <td>250</td>\n",
       "      <td>250</td>\n",
       "    </tr>\n",
       "    <tr>\n",
       "      <th>10044</th>\n",
       "      <td>250</td>\n",
       "      <td>250</td>\n",
       "      <td>250</td>\n",
       "    </tr>\n",
       "    <tr>\n",
       "      <th>10065</th>\n",
       "      <td>250</td>\n",
       "      <td>250</td>\n",
       "      <td>250</td>\n",
       "    </tr>\n",
       "    <tr>\n",
       "      <th>...</th>\n",
       "      <td>...</td>\n",
       "      <td>...</td>\n",
       "      <td>...</td>\n",
       "    </tr>\n",
       "    <tr>\n",
       "      <th>93426</th>\n",
       "      <td>250</td>\n",
       "      <td>250</td>\n",
       "      <td>250</td>\n",
       "    </tr>\n",
       "    <tr>\n",
       "      <th>93427</th>\n",
       "      <td>250</td>\n",
       "      <td>250</td>\n",
       "      <td>250</td>\n",
       "    </tr>\n",
       "    <tr>\n",
       "      <th>93429</th>\n",
       "      <td>250</td>\n",
       "      <td>250</td>\n",
       "      <td>250</td>\n",
       "    </tr>\n",
       "    <tr>\n",
       "      <th>93434</th>\n",
       "      <td>250</td>\n",
       "      <td>250</td>\n",
       "      <td>250</td>\n",
       "    </tr>\n",
       "    <tr>\n",
       "      <th>93436</th>\n",
       "      <td>250</td>\n",
       "      <td>250</td>\n",
       "      <td>250</td>\n",
       "    </tr>\n",
       "  </tbody>\n",
       "</table>\n",
       "<p>8567 rows × 3 columns</p>\n",
       "</div>"
      ],
      "text/plain": [
       "        date  PRC  RET\n",
       "PERMNO                \n",
       "10026    250  250  250\n",
       "10028    250  250  250\n",
       "10032    250  250  250\n",
       "10044    250  250  250\n",
       "10065    250  250  250\n",
       "...      ...  ...  ...\n",
       "93426    250  250  250\n",
       "93427    250  250  250\n",
       "93429    250  250  250\n",
       "93434    250  250  250\n",
       "93436    250  250  250\n",
       "\n",
       "[8567 rows x 3 columns]"
      ]
     },
     "execution_count": 7,
     "metadata": {},
     "output_type": "execute_result"
    }
   ],
   "source": [
    "df.groupby(\"PERMNO\").count()"
   ]
  },
  {
   "cell_type": "code",
   "execution_count": 172,
   "id": "746214cb-dc7e-453c-ae6f-e210b64551e3",
   "metadata": {},
   "outputs": [],
   "source": [
    "np.random.seed(1234)\n",
    "# sampled_permno = df[\"PERMNO\"].sample(50).tolist()\n",
    "sampled_permno = df[\"PERMNO\"].sample(50).tolist()"
   ]
  },
  {
   "cell_type": "code",
   "execution_count": 173,
   "id": "05660394-f149-4174-bddd-2ccd25b84a4b",
   "metadata": {},
   "outputs": [
    {
     "data": {
      "text/html": [
       "<div>\n",
       "<style scoped>\n",
       "    .dataframe tbody tr th:only-of-type {\n",
       "        vertical-align: middle;\n",
       "    }\n",
       "\n",
       "    .dataframe tbody tr th {\n",
       "        vertical-align: top;\n",
       "    }\n",
       "\n",
       "    .dataframe thead th {\n",
       "        text-align: right;\n",
       "    }\n",
       "</style>\n",
       "<table border=\"1\" class=\"dataframe\">\n",
       "  <thead>\n",
       "    <tr style=\"text-align: right;\">\n",
       "      <th>PERMNO</th>\n",
       "      <th>10294</th>\n",
       "      <th>10649</th>\n",
       "      <th>12552</th>\n",
       "      <th>13737</th>\n",
       "      <th>13867</th>\n",
       "      <th>13978</th>\n",
       "      <th>14178</th>\n",
       "      <th>14882</th>\n",
       "      <th>15685</th>\n",
       "      <th>15890</th>\n",
       "      <th>...</th>\n",
       "      <th>80128</th>\n",
       "      <th>82745</th>\n",
       "      <th>87251</th>\n",
       "      <th>88404</th>\n",
       "      <th>89372</th>\n",
       "      <th>89606</th>\n",
       "      <th>89649</th>\n",
       "      <th>90228</th>\n",
       "      <th>91968</th>\n",
       "      <th>92834</th>\n",
       "    </tr>\n",
       "    <tr>\n",
       "      <th>date</th>\n",
       "      <th></th>\n",
       "      <th></th>\n",
       "      <th></th>\n",
       "      <th></th>\n",
       "      <th></th>\n",
       "      <th></th>\n",
       "      <th></th>\n",
       "      <th></th>\n",
       "      <th></th>\n",
       "      <th></th>\n",
       "      <th></th>\n",
       "      <th></th>\n",
       "      <th></th>\n",
       "      <th></th>\n",
       "      <th></th>\n",
       "      <th></th>\n",
       "      <th></th>\n",
       "      <th></th>\n",
       "      <th></th>\n",
       "      <th></th>\n",
       "      <th></th>\n",
       "    </tr>\n",
       "  </thead>\n",
       "  <tbody>\n",
       "    <tr>\n",
       "      <th>2023-01-03</th>\n",
       "      <td>0.003125</td>\n",
       "      <td>-0.008880</td>\n",
       "      <td>-0.002677</td>\n",
       "      <td>-0.011756</td>\n",
       "      <td>-0.005192</td>\n",
       "      <td>0.030812</td>\n",
       "      <td>0.000751</td>\n",
       "      <td>0.015865</td>\n",
       "      <td>-0.004431</td>\n",
       "      <td>-0.006728</td>\n",
       "      <td>...</td>\n",
       "      <td>-0.019566</td>\n",
       "      <td>-0.003415</td>\n",
       "      <td>0.015190</td>\n",
       "      <td>-0.001687</td>\n",
       "      <td>0.015385</td>\n",
       "      <td>0.027650</td>\n",
       "      <td>0.025300</td>\n",
       "      <td>0.048112</td>\n",
       "      <td>0.001388</td>\n",
       "      <td>0.002008</td>\n",
       "    </tr>\n",
       "    <tr>\n",
       "      <th>2023-01-04</th>\n",
       "      <td>0.008527</td>\n",
       "      <td>-0.008960</td>\n",
       "      <td>0.009409</td>\n",
       "      <td>0.038662</td>\n",
       "      <td>-0.028184</td>\n",
       "      <td>0.051630</td>\n",
       "      <td>0.009370</td>\n",
       "      <td>0.074065</td>\n",
       "      <td>0.009822</td>\n",
       "      <td>0.012194</td>\n",
       "      <td>...</td>\n",
       "      <td>-0.008359</td>\n",
       "      <td>0.005874</td>\n",
       "      <td>0.019950</td>\n",
       "      <td>0.017887</td>\n",
       "      <td>0.004545</td>\n",
       "      <td>-0.003363</td>\n",
       "      <td>0.018831</td>\n",
       "      <td>0.025716</td>\n",
       "      <td>-0.002772</td>\n",
       "      <td>0.009521</td>\n",
       "    </tr>\n",
       "    <tr>\n",
       "      <th>2023-01-05</th>\n",
       "      <td>-0.008130</td>\n",
       "      <td>-0.027909</td>\n",
       "      <td>-0.005997</td>\n",
       "      <td>-0.025770</td>\n",
       "      <td>0.015038</td>\n",
       "      <td>-0.005168</td>\n",
       "      <td>-0.003683</td>\n",
       "      <td>-0.064331</td>\n",
       "      <td>-0.008042</td>\n",
       "      <td>-0.005061</td>\n",
       "      <td>...</td>\n",
       "      <td>-0.013064</td>\n",
       "      <td>-0.009732</td>\n",
       "      <td>-0.044499</td>\n",
       "      <td>-0.008005</td>\n",
       "      <td>-0.004525</td>\n",
       "      <td>0.000000</td>\n",
       "      <td>0.014659</td>\n",
       "      <td>0.022809</td>\n",
       "      <td>-0.011814</td>\n",
       "      <td>-0.006287</td>\n",
       "    </tr>\n",
       "    <tr>\n",
       "      <th>2023-01-06</th>\n",
       "      <td>0.058689</td>\n",
       "      <td>0.035584</td>\n",
       "      <td>0.011712</td>\n",
       "      <td>0.028655</td>\n",
       "      <td>0.048677</td>\n",
       "      <td>0.018182</td>\n",
       "      <td>0.004830</td>\n",
       "      <td>0.038615</td>\n",
       "      <td>0.024516</td>\n",
       "      <td>0.024711</td>\n",
       "      <td>...</td>\n",
       "      <td>0.026821</td>\n",
       "      <td>0.000000</td>\n",
       "      <td>0.033777</td>\n",
       "      <td>0.026572</td>\n",
       "      <td>0.018182</td>\n",
       "      <td>0.031496</td>\n",
       "      <td>0.025126</td>\n",
       "      <td>0.026347</td>\n",
       "      <td>0.022503</td>\n",
       "      <td>0.020313</td>\n",
       "    </tr>\n",
       "    <tr>\n",
       "      <th>2023-01-09</th>\n",
       "      <td>-0.000619</td>\n",
       "      <td>0.003905</td>\n",
       "      <td>0.006935</td>\n",
       "      <td>-0.015171</td>\n",
       "      <td>0.046418</td>\n",
       "      <td>-0.020408</td>\n",
       "      <td>0.002714</td>\n",
       "      <td>-0.013829</td>\n",
       "      <td>-0.002040</td>\n",
       "      <td>0.000097</td>\n",
       "      <td>...</td>\n",
       "      <td>-0.010466</td>\n",
       "      <td>-0.022113</td>\n",
       "      <td>0.006436</td>\n",
       "      <td>0.000383</td>\n",
       "      <td>0.004464</td>\n",
       "      <td>0.031625</td>\n",
       "      <td>-0.017157</td>\n",
       "      <td>-0.003667</td>\n",
       "      <td>0.006190</td>\n",
       "      <td>0.002285</td>\n",
       "    </tr>\n",
       "  </tbody>\n",
       "</table>\n",
       "<p>5 rows × 49 columns</p>\n",
       "</div>"
      ],
      "text/plain": [
       "PERMNO         10294     10649     12552     13737     13867     13978  \\\n",
       "date                                                                     \n",
       "2023-01-03  0.003125 -0.008880 -0.002677 -0.011756 -0.005192  0.030812   \n",
       "2023-01-04  0.008527 -0.008960  0.009409  0.038662 -0.028184  0.051630   \n",
       "2023-01-05 -0.008130 -0.027909 -0.005997 -0.025770  0.015038 -0.005168   \n",
       "2023-01-06  0.058689  0.035584  0.011712  0.028655  0.048677  0.018182   \n",
       "2023-01-09 -0.000619  0.003905  0.006935 -0.015171  0.046418 -0.020408   \n",
       "\n",
       "PERMNO         14178     14882     15685     15890  ...     80128     82745  \\\n",
       "date                                                ...                       \n",
       "2023-01-03  0.000751  0.015865 -0.004431 -0.006728  ... -0.019566 -0.003415   \n",
       "2023-01-04  0.009370  0.074065  0.009822  0.012194  ... -0.008359  0.005874   \n",
       "2023-01-05 -0.003683 -0.064331 -0.008042 -0.005061  ... -0.013064 -0.009732   \n",
       "2023-01-06  0.004830  0.038615  0.024516  0.024711  ...  0.026821  0.000000   \n",
       "2023-01-09  0.002714 -0.013829 -0.002040  0.000097  ... -0.010466 -0.022113   \n",
       "\n",
       "PERMNO         87251     88404     89372     89606     89649     90228  \\\n",
       "date                                                                     \n",
       "2023-01-03  0.015190 -0.001687  0.015385  0.027650  0.025300  0.048112   \n",
       "2023-01-04  0.019950  0.017887  0.004545 -0.003363  0.018831  0.025716   \n",
       "2023-01-05 -0.044499 -0.008005 -0.004525  0.000000  0.014659  0.022809   \n",
       "2023-01-06  0.033777  0.026572  0.018182  0.031496  0.025126  0.026347   \n",
       "2023-01-09  0.006436  0.000383  0.004464  0.031625 -0.017157 -0.003667   \n",
       "\n",
       "PERMNO         91968     92834  \n",
       "date                            \n",
       "2023-01-03  0.001388  0.002008  \n",
       "2023-01-04 -0.002772  0.009521  \n",
       "2023-01-05 -0.011814 -0.006287  \n",
       "2023-01-06  0.022503  0.020313  \n",
       "2023-01-09  0.006190  0.002285  \n",
       "\n",
       "[5 rows x 49 columns]"
      ]
     },
     "execution_count": 173,
     "metadata": {},
     "output_type": "execute_result"
    }
   ],
   "source": [
    "df_sample = df[df[\"PERMNO\"].isin(sampled_permno)]\n",
    "df_pivot = df_sample.pivot(index=\"date\", columns=\"PERMNO\", values=\"RET\")\n",
    "df_pivot.head()"
   ]
  },
  {
   "cell_type": "code",
   "execution_count": 174,
   "id": "97ae02d7-917d-4f6a-826a-2c36264d89d5",
   "metadata": {},
   "outputs": [],
   "source": [
    "date_cutoff = pd.Timestamp(\"2023-10-01\")"
   ]
  },
  {
   "cell_type": "code",
   "execution_count": 175,
   "id": "27977c1f-9fd6-47ce-b125-75a1cb1bdcc4",
   "metadata": {},
   "outputs": [
    {
     "data": {
      "text/plain": [
       "187"
      ]
     },
     "execution_count": 175,
     "metadata": {},
     "output_type": "execute_result"
    }
   ],
   "source": [
    "train = df_pivot[:date_cutoff]\n",
    "train_span = len(train)\n",
    "train_span"
   ]
  },
  {
   "cell_type": "code",
   "execution_count": 176,
   "id": "2c3eb4e9-157a-4a25-bc7d-ae140ebf2795",
   "metadata": {},
   "outputs": [
    {
     "data": {
      "text/plain": [
       "63"
      ]
     },
     "execution_count": 176,
     "metadata": {},
     "output_type": "execute_result"
    }
   ],
   "source": [
    "test = df_pivot[date_cutoff:]\n",
    "test_span = len(test)\n",
    "test_span"
   ]
  },
  {
   "cell_type": "code",
   "execution_count": 177,
   "id": "dd9639ba-0185-4ffe-838f-bbd34125539d",
   "metadata": {},
   "outputs": [
    {
     "data": {
      "text/plain": [
       "DatetimeIndex(['2023-01-03', '2023-01-04', '2023-01-05', '2023-01-06',\n",
       "               '2023-01-09', '2023-01-10', '2023-01-11', '2023-01-12',\n",
       "               '2023-01-13', '2023-01-17',\n",
       "               ...\n",
       "               '2023-09-18', '2023-09-19', '2023-09-20', '2023-09-21',\n",
       "               '2023-09-22', '2023-09-25', '2023-09-26', '2023-09-27',\n",
       "               '2023-09-28', '2023-09-29'],\n",
       "              dtype='datetime64[ns]', name='date', length=187, freq=None)"
      ]
     },
     "execution_count": 177,
     "metadata": {},
     "output_type": "execute_result"
    }
   ],
   "source": [
    "train.index"
   ]
  },
  {
   "cell_type": "markdown",
   "id": "ddadb6b6-f6b3-44fa-9ffa-7d617cac58a1",
   "metadata": {},
   "source": [
    "Reference: https://github.com/zhuodannychen/Portfolio-Optimization"
   ]
  },
  {
   "cell_type": "code",
   "execution_count": 178,
   "id": "62d46442-7bae-49f3-a5a5-9748c2ce9897",
   "metadata": {},
   "outputs": [],
   "source": [
    "from pypfopt import expected_returns, risk_models\n",
    "from pypfopt.cla import CLA\n",
    "from pypfopt.efficient_frontier import EfficientFrontier\n",
    "from pypfopt.expected_returns import ema_historical_return\n",
    "from pypfopt.risk_models import exp_cov\n",
    "\n",
    "mu = expected_returns.ema_historical_return(train, returns_data=True, span=train_span)\n",
    "Sigma = risk_models.exp_cov(train, returns_data=True, span=train_span)\n",
    "risk_free_rate = 0.04  # average of 10Y treasury in 2023"
   ]
  },
  {
   "cell_type": "markdown",
   "id": "03dfde2f-4be5-44a3-b185-592b1b277128",
   "metadata": {},
   "source": [
    "**The covariance matrix is not positive definite because it is singular. That means that at least one of your variables can be expressed as a linear combination of the others. You do not need all the variables as the value of at least one can be determined from a subset of the others. I would suggest adding variables sequentially and checking the covariance matrix at each step. If a new variable creates a singularity drop it and go on the the next one. Eventually you should have a subset of variables with a postive definite covariance matrix.**"
   ]
  },
  {
   "cell_type": "code",
   "execution_count": 179,
   "id": "2185a486-ed7d-4c07-9f5a-d75684a42e5e",
   "metadata": {},
   "outputs": [],
   "source": [
    "ret_ef = np.arange(0, 0.879823, 0.01)\n",
    "vol_ef = []\n",
    "for i in np.arange(0, 0.879823, 0.01):\n",
    "    ef = EfficientFrontier(mu, Sigma)\n",
    "    ef.efficient_return(i)\n",
    "    vol_ef.append(ef.portfolio_performance()[1])\n",
    "\n",
    "ef = EfficientFrontier(mu, Sigma)\n",
    "raw_weights_minvar_exp = ef.min_volatility()\n",
    "min_vol_ret = ef.portfolio_performance(risk_free_rate=risk_free_rate)[0]\n",
    "min_vol_vol = ef.portfolio_performance(risk_free_rate=risk_free_rate)[1]\n",
    "\n",
    "ef_sharp = EfficientFrontier(mu, Sigma)\n",
    "raw_weights_maxsharpe_exp = ef_sharp.max_sharpe(risk_free_rate=risk_free_rate)\n",
    "max_sharpe_ret = ef_sharp.portfolio_performance(risk_free_rate=risk_free_rate)[0]\n",
    "max_sharpe_vol = ef_sharp.portfolio_performance(risk_free_rate=risk_free_rate)[1]"
   ]
  },
  {
   "cell_type": "code",
   "execution_count": 180,
   "id": "4678927a-a2fb-4382-a74e-c5a75fe49ed8",
   "metadata": {},
   "outputs": [
    {
     "data": {
      "image/png": "[encoded data removed]",
      "text/plain": [
       "<Figure size 1500x1000 with 1 Axes>"
      ]
     },
     "metadata": {},
     "output_type": "display_data"
    }
   ],
   "source": [
    "# plot the data\n",
    "sns.set()\n",
    "\n",
    "fig, ax = plt.subplots(figsize=[15, 10])\n",
    "\n",
    "sns.lineplot(x=vol_ef, y=ret_ef, label=\"Efficient Frontier\", ax=ax)\n",
    "sns.scatterplot(\n",
    "    x=[min_vol_vol],\n",
    "    y=[min_vol_ret],\n",
    "    ax=ax,\n",
    "    label=\"Minimum Variance Portfolio\",\n",
    "    color=\"purple\",\n",
    "    s=100,\n",
    ")\n",
    "sns.scatterplot(\n",
    "    x=[max_sharpe_vol],\n",
    "    y=[max_sharpe_ret],\n",
    "    ax=ax,\n",
    "    label=\"Maximum Sharpe Portfolio\",\n",
    "    color=\"green\",\n",
    "    s=100,\n",
    ")\n",
    "sns.lineplot(\n",
    "    x=[0, max_sharpe_vol, 1],\n",
    "    y=[0.009, max_sharpe_ret, 3.096],\n",
    "    label=\"Capital Market Line\",\n",
    "    ax=ax,\n",
    "    color=\"r\",\n",
    ")\n",
    "\n",
    "ax.set(xlim=[0, 0.4])\n",
    "ax.set(ylim=[0, 1])\n",
    "ax.set_xlabel(\"Volatility\")\n",
    "ax.set_ylabel(\"Mean Return\")\n",
    "plt.legend(fontsize=\"large\")\n",
    "plt.title(\"Efficient Frontier\", fontsize=\"20\")\n",
    "\n",
    "ax.figure.savefig(\"EffFront_big.png\", dpi=300)"
   ]
  },
  {
   "cell_type": "code",
   "execution_count": 181,
   "id": "1925fa00-dd9f-4420-aec9-68d53fb375a3",
   "metadata": {},
   "outputs": [
    {
     "name": "stdout",
     "output_type": "stream",
     "text": [
      "Expected annual return: 3.6%\n",
      "Annual volatility: 3.7%\n",
      "Sharpe Ratio: -0.10\n"
     ]
    },
    {
     "data": {
      "text/plain": [
       "(0.03627160035383953, 0.037074816893657124, -0.10056420930829572)"
      ]
     },
     "execution_count": 181,
     "metadata": {},
     "output_type": "execute_result"
    }
   ],
   "source": [
    "raw_weights_minvar_exp\n",
    "ef.portfolio_performance(verbose=True, risk_free_rate=risk_free_rate)"
   ]
  },
  {
   "cell_type": "code",
   "execution_count": 182,
   "id": "75429c68-57bf-4da3-96f2-c46a85e4cca5",
   "metadata": {},
   "outputs": [
    {
     "name": "stdout",
     "output_type": "stream",
     "text": [
      "Expected annual return: 226.3%\n",
      "Annual volatility: 30.5%\n",
      "Sharpe Ratio: 7.30\n"
     ]
    },
    {
     "data": {
      "text/plain": [
       "(2.2632719955398217, 0.3045412979042032, 7.300395745470213)"
      ]
     },
     "execution_count": 182,
     "metadata": {},
     "output_type": "execute_result"
    }
   ],
   "source": [
    "raw_weights_maxsharpe_exp\n",
    "ef_sharp.portfolio_performance(verbose=True, risk_free_rate=risk_free_rate)"
   ]
  },
  {
   "cell_type": "markdown",
   "id": "49cf3f8d-0f40-412d-9823-d6b24cbdbbeb",
   "metadata": {},
   "source": [
    "### BackTesting"
   ]
  },
  {
   "cell_type": "code",
   "execution_count": 183,
   "id": "a984754e-f43f-4706-b8fa-9075fda83b59",
   "metadata": {},
   "outputs": [
    {
     "name": "stderr",
     "output_type": "stream",
     "text": [
      "[*********************100%%**********************]  1 of 1 completed\n"
     ]
    }
   ],
   "source": [
    "import yfinance as yf\n",
    "\n",
    "# Create a list of symbols\n",
    "symbols = [\"SPY\"]\n",
    "# Create data frame\n",
    "index_data = yf.download(\n",
    "    tickers=\" \".join(symbols), start=\"2022-12-30\", end=\"2023-12-30\"\n",
    ")[\"Adj Close\"]"
   ]
  },
  {
   "cell_type": "code",
   "execution_count": 184,
   "id": "79721f0a-9bff-4177-8225-439d22f5733d",
   "metadata": {},
   "outputs": [
    {
     "data": {
      "text/plain": [
       "<bound method NDFrame.describe of Date\n",
       "2022-12-30    375.537750\n",
       "2023-01-03    373.956818\n",
       "2023-01-04    376.843872\n",
       "2023-01-05    372.542755\n",
       "2023-01-06    381.085938\n",
       "                 ...    \n",
       "2023-12-22    472.182892\n",
       "2023-12-26    474.176697\n",
       "2023-12-27    475.034058\n",
       "2023-12-28    475.213501\n",
       "2023-12-29    473.837769\n",
       "Name: Adj Close, Length: 251, dtype: float64>"
      ]
     },
     "execution_count": 184,
     "metadata": {},
     "output_type": "execute_result"
    }
   ],
   "source": [
    "index_data.describe"
   ]
  },
  {
   "cell_type": "code",
   "execution_count": 185,
   "id": "935c49b5-c319-4c88-8dad-4fde8bbd1b65",
   "metadata": {},
   "outputs": [
    {
     "data": {
      "text/plain": [
       "<bound method NDFrame.describe of                 SnP500\n",
       "Date                  \n",
       "2022-12-30  375.537750\n",
       "2023-01-03  373.956818\n",
       "2023-01-04  376.843872\n",
       "2023-01-05  372.542755\n",
       "2023-01-06  381.085938\n",
       "...                ...\n",
       "2023-12-22  472.182892\n",
       "2023-12-26  474.176697\n",
       "2023-12-27  475.034058\n",
       "2023-12-28  475.213501\n",
       "2023-12-29  473.837769\n",
       "\n",
       "[251 rows x 1 columns]>"
      ]
     },
     "execution_count": 185,
     "metadata": {},
     "output_type": "execute_result"
    }
   ],
   "source": [
    "index = pd.DataFrame(index_data)\n",
    "index = index.rename(columns={\"Adj Close\":\"SnP500\"})\n",
    "index.describe\n",
    "# index.index"
   ]
  },
  {
   "cell_type": "code",
   "execution_count": 186,
   "id": "4a7fc72b-5af0-4a8d-b6dd-4fbb06707eb8",
   "metadata": {},
   "outputs": [],
   "source": [
    "weights_minvar_exp = list(raw_weights_minvar_exp.values())\n",
    "weights_maxsharpe_exp = list(raw_weights_maxsharpe_exp.values())\n",
    "\n",
    "ret_1 = test.dot(weights_minvar_exp).add(1).cumprod().subtract(1).multiply(100)\n",
    "ret_2 = test.dot(weights_maxsharpe_exp).add(1).cumprod().subtract(1).multiply(100)\n",
    "\n",
    "ind_ret = index[date_cutoff:].pct_change().add(1).cumprod().subtract(1).multiply(100)"
   ]
  },
  {
   "cell_type": "code",
   "execution_count": 187,
   "id": "7ad037a2-5c59-4f8d-af02-c15b228e7775",
   "metadata": {},
   "outputs": [
    {
     "data": {
      "application/vnd.plotly.v1+json": {
       "config": {
        "plotlyServerURL": "https://plot.ly"
       },
       "data": [
        {
         "hovertemplate": "variable=MinVar<br>index=%{x}<br>value=%{y}<extra></extra>",
         "legendgroup": "MinVar",
         "line": {
          "color": "#636efa",
          "dash": "solid"
         },
         "marker": {
          "symbol": "circle"
         },
         "mode": "lines",
         "name": "MinVar",
         "orientation": "v",
         "showlegend": true,
         "type": "scatter",
         "x": [
          "2023-10-02T00:00:00",
          "2023-10-03T00:00:00",
          "2023-10-04T00:00:00",
          "2023-10-05T00:00:00",
          "2023-10-06T00:00:00",
          "2023-10-09T00:00:00",
          "2023-10-10T00:00:00",
          "2023-10-11T00:00:00",
          "2023-10-12T00:00:00",
          "2023-10-13T00:00:00",
          "2023-10-16T00:00:00",
          "2023-10-17T00:00:00",
          "2023-10-18T00:00:00",
          "2023-10-19T00:00:00",
          "2023-10-20T00:00:00",
          "2023-10-23T00:00:00",
          "2023-10-24T00:00:00",
          "2023-10-25T00:00:00",
          "2023-10-26T00:00:00",
          "2023-10-27T00:00:00",
          "2023-10-30T00:00:00",
          "2023-10-31T00:00:00",
          "2023-11-01T00:00:00",
          "2023-11-02T00:00:00",
          "2023-11-03T00:00:00",
          "2023-11-06T00:00:00",
          "2023-11-07T00:00:00",
          "2023-11-08T00:00:00",
          "2023-11-09T00:00:00",
          "2023-11-10T00:00:00",
          "2023-11-13T00:00:00",
          "2023-11-14T00:00:00",
          "2023-11-15T00:00:00",
          "2023-11-16T00:00:00",
          "2023-11-17T00:00:00",
          "2023-11-20T00:00:00",
          "2023-11-21T00:00:00",
          "2023-11-22T00:00:00",
          "2023-11-24T00:00:00",
          "2023-11-27T00:00:00",
          "2023-11-28T00:00:00",
          "2023-11-29T00:00:00",
          "2023-11-30T00:00:00",
          "2023-12-01T00:00:00",
          "2023-12-04T00:00:00",
          "2023-12-05T00:00:00",
          "2023-12-06T00:00:00",
          "2023-12-07T00:00:00",
          "2023-12-08T00:00:00",
          "2023-12-11T00:00:00",
          "2023-12-12T00:00:00",
          "2023-12-13T00:00:00",
          "2023-12-14T00:00:00",
          "2023-12-15T00:00:00",
          "2023-12-18T00:00:00",
          "2023-12-19T00:00:00",
          "2023-12-20T00:00:00",
          "2023-12-21T00:00:00",
          "2023-12-22T00:00:00",
          "2023-12-26T00:00:00",
          "2023-12-27T00:00:00",
          "2023-12-28T00:00:00"
         ],
         "xaxis": "x",
         "y": [
          -0.9742316408019147,
          -0.9378148316350754,
          -0.7492615089685684,
          -0.27034322232636354,
          -0.1480666058979785,
          0.24837435476381398,
          0.49373513145369863,
          0.40695824883054676,
          0.07979345076292166,
          0.31673767300310907,
          -0.02621981343616797,
          -0.17992871903975693,
          -0.5373054485222628,
          -0.9064757836872106,
          -0.8344352442131608,
          -0.8117202380263255,
          -0.6735090947934341,
          -1.1191607730069442,
          -1.0144894312910213,
          -1.1447235126588406,
          -1.1115725879259575,
          -0.8032665276841766,
          -0.37318375521633307,
          0.1929608539052774,
          0.9389104172764284,
          0.8582139260599808,
          1.1671294975905688,
          1.0799232468929665,
          0.6226676109821971,
          0.9258398569398807,
          0.9882906821069071,
          1.8488090881825237,
          1.5705771617040565,
          1.5367087117322376,
          1.6512471180554877,
          2.016892522822089,
          1.7444727975943985,
          1.99449524776516,
          1.664278499032057,
          2.2145031847820906,
          2.29090796020468,
          2.5532731932784714,
          2.4195798837178373,
          2.8438187208721377,
          2.5824539537202096,
          2.6531178089673757,
          3.051817902857734,
          2.7039930619028096,
          2.993456170865638,
          3.09492070822015,
          3.3522243121771877,
          3.9298856060606457,
          4.342462959487237,
          4.242534799742836,
          4.504047311372661,
          4.5202463361563305,
          4.716325061665949,
          4.535133734663832,
          4.65798251856846,
          4.827399206123761,
          5.147332668547988,
          5.140405053171837
         ],
         "yaxis": "y"
        },
        {
         "hovertemplate": "variable=MaxSharpe<br>index=%{x}<br>value=%{y}<extra></extra>",
         "legendgroup": "MaxSharpe",
         "line": {
          "color": "#EF553B",
          "dash": "solid"
         },
         "marker": {
          "symbol": "circle"
         },
         "mode": "lines",
         "name": "MaxSharpe",
         "orientation": "v",
         "showlegend": true,
         "type": "scatter",
         "x": [
          "2023-10-02T00:00:00",
          "2023-10-03T00:00:00",
          "2023-10-04T00:00:00",
          "2023-10-05T00:00:00",
          "2023-10-06T00:00:00",
          "2023-10-09T00:00:00",
          "2023-10-10T00:00:00",
          "2023-10-11T00:00:00",
          "2023-10-12T00:00:00",
          "2023-10-13T00:00:00",
          "2023-10-16T00:00:00",
          "2023-10-17T00:00:00",
          "2023-10-18T00:00:00",
          "2023-10-19T00:00:00",
          "2023-10-20T00:00:00",
          "2023-10-23T00:00:00",
          "2023-10-24T00:00:00",
          "2023-10-25T00:00:00",
          "2023-10-26T00:00:00",
          "2023-10-27T00:00:00",
          "2023-10-30T00:00:00",
          "2023-10-31T00:00:00",
          "2023-11-01T00:00:00",
          "2023-11-02T00:00:00",
          "2023-11-03T00:00:00",
          "2023-11-06T00:00:00",
          "2023-11-07T00:00:00",
          "2023-11-08T00:00:00",
          "2023-11-09T00:00:00",
          "2023-11-10T00:00:00",
          "2023-11-13T00:00:00",
          "2023-11-14T00:00:00",
          "2023-11-15T00:00:00",
          "2023-11-16T00:00:00",
          "2023-11-17T00:00:00",
          "2023-11-20T00:00:00",
          "2023-11-21T00:00:00",
          "2023-11-22T00:00:00",
          "2023-11-24T00:00:00",
          "2023-11-27T00:00:00",
          "2023-11-28T00:00:00",
          "2023-11-29T00:00:00",
          "2023-11-30T00:00:00",
          "2023-12-01T00:00:00",
          "2023-12-04T00:00:00",
          "2023-12-05T00:00:00",
          "2023-12-06T00:00:00",
          "2023-12-07T00:00:00",
          "2023-12-08T00:00:00",
          "2023-12-11T00:00:00",
          "2023-12-12T00:00:00",
          "2023-12-13T00:00:00",
          "2023-12-14T00:00:00",
          "2023-12-15T00:00:00",
          "2023-12-18T00:00:00",
          "2023-12-19T00:00:00",
          "2023-12-20T00:00:00",
          "2023-12-21T00:00:00",
          "2023-12-22T00:00:00",
          "2023-12-26T00:00:00",
          "2023-12-27T00:00:00",
          "2023-12-28T00:00:00"
         ],
         "xaxis": "x",
         "y": [
          2.5183154562157695,
          -1.125783890541765,
          -1.4930235230363298,
          28.772097787750162,
          29.824794382086715,
          38.02214929187202,
          37.262633450571414,
          37.84678722359558,
          33.90476583141875,
          33.39835284694572,
          35.08315403573747,
          37.44799605449251,
          35.23035081638945,
          34.026965823196576,
          33.25899283178229,
          32.73433562101595,
          34.06653528478034,
          32.82134679156194,
          31.97484648012512,
          24.78804047711105,
          24.470527589650626,
          29.525218584047973,
          33.56022752791479,
          37.2916604395652,
          38.892608281375686,
          40.93539108657818,
          41.42704462338056,
          42.18876623705845,
          40.52549273880446,
          44.98005304219242,
          48.31347788781479,
          53.75092347517687,
          52.45272798931251,
          50.853213299473076,
          53.30452613631977,
          54.7585661712172,
          54.15047867661544,
          51.65917304890486,
          52.46522437089802,
          52.6157504223433,
          50.80354378966074,
          49.9319064966256,
          51.00168451529539,
          51.28906791474777,
          56.40360993247005,
          57.055075039706125,
          59.77968878241073,
          60.86778842902299,
          61.74244318568549,
          58.012195385494714,
          59.69758552689135,
          62.45859333055657,
          67.19721884532517,
          63.75872483352045,
          66.7886692979033,
          72.95371571629505,
          71.19702080271016,
          72.43141763585983,
          71.60110418479826,
          75.69276917792749,
          77.80908869048278,
          78.09698547107796
         ],
         "yaxis": "y"
        },
        {
         "hovertemplate": "variable=SnP500<br>index=%{x}<br>value=%{y}<extra></extra>",
         "legendgroup": "SnP500",
         "line": {
          "color": "#00cc96",
          "dash": "solid"
         },
         "marker": {
          "symbol": "circle"
         },
         "mode": "lines",
         "name": "SnP500",
         "orientation": "v",
         "showlegend": true,
         "type": "scatter",
         "x": [
          "2023-10-02T00:00:00",
          "2023-10-03T00:00:00",
          "2023-10-04T00:00:00",
          "2023-10-05T00:00:00",
          "2023-10-06T00:00:00",
          "2023-10-09T00:00:00",
          "2023-10-10T00:00:00",
          "2023-10-11T00:00:00",
          "2023-10-12T00:00:00",
          "2023-10-13T00:00:00",
          "2023-10-16T00:00:00",
          "2023-10-17T00:00:00",
          "2023-10-18T00:00:00",
          "2023-10-19T00:00:00",
          "2023-10-20T00:00:00",
          "2023-10-23T00:00:00",
          "2023-10-24T00:00:00",
          "2023-10-25T00:00:00",
          "2023-10-26T00:00:00",
          "2023-10-27T00:00:00",
          "2023-10-30T00:00:00",
          "2023-10-31T00:00:00",
          "2023-11-01T00:00:00",
          "2023-11-02T00:00:00",
          "2023-11-03T00:00:00",
          "2023-11-06T00:00:00",
          "2023-11-07T00:00:00",
          "2023-11-08T00:00:00",
          "2023-11-09T00:00:00",
          "2023-11-10T00:00:00",
          "2023-11-13T00:00:00",
          "2023-11-14T00:00:00",
          "2023-11-15T00:00:00",
          "2023-11-16T00:00:00",
          "2023-11-17T00:00:00",
          "2023-11-20T00:00:00",
          "2023-11-21T00:00:00",
          "2023-11-22T00:00:00",
          "2023-11-24T00:00:00",
          "2023-11-27T00:00:00",
          "2023-11-28T00:00:00",
          "2023-11-29T00:00:00",
          "2023-11-30T00:00:00",
          "2023-12-01T00:00:00",
          "2023-12-04T00:00:00",
          "2023-12-05T00:00:00",
          "2023-12-06T00:00:00",
          "2023-12-07T00:00:00",
          "2023-12-08T00:00:00",
          "2023-12-11T00:00:00",
          "2023-12-12T00:00:00",
          "2023-12-13T00:00:00",
          "2023-12-14T00:00:00",
          "2023-12-15T00:00:00",
          "2023-12-18T00:00:00",
          "2023-12-19T00:00:00",
          "2023-12-20T00:00:00",
          "2023-12-21T00:00:00",
          "2023-12-22T00:00:00",
          "2023-12-26T00:00:00",
          "2023-12-27T00:00:00",
          "2023-12-28T00:00:00"
         ],
         "xaxis": "x",
         "y": [
          null,
          -1.3386074506209655,
          -0.6201537897384091,
          -0.6576006746481511,
          0.5218683046430028,
          1.1654281957060864,
          1.6919791592189037,
          2.1085415869739776,
          1.4860428712884843,
          0.9805530831532572,
          2.0430131348941227,
          2.038330476024308,
          0.6786618500257635,
          -0.20594348095478443,
          -1.4322174698709111,
          -1.6030589918630822,
          -0.8611992296558402,
          -2.284065767835919,
          -3.4541694293874325,
          -3.8917930325200745,
          -2.7427361602973988,
          -2.1319404952742427,
          -1.0882038859882592,
          0.807381021262743,
          1.7270883112059376,
          1.9611061663064921,
          2.2512871557472725,
          2.3261809255667565,
          1.5281652220436648,
          3.112486385403157,
          3.014208093332127,
          5.012761144548317,
          5.235075948986534,
          5.3637879271991595,
          5.494837638334493,
          6.306901318467029,
          6.075214003264806,
          6.484756039227335,
          6.550270105258438,
          6.35838179393744,
          6.463687670825369,
          6.388801094030261,
          6.807701254708021,
          7.439565288133143,
          6.875574632734982,
          6.854506264333016,
          6.423910246017273,
          7.235966733125432,
          7.696989244558372,
          8.115882212211755,
          8.609676142708999,
          10.107414871635424,
          10.46078658023335,
          10.278918151870343,
          10.899244574193801,
          11.573612188666104,
          10.027500370800379,
          11.070776626526202,
          11.293990559011613,
          11.763932420672774,
          11.96601324753681,
          12.008308230877063
         ],
         "yaxis": "y"
        }
       ],
       "layout": {
        "autosize": true,
        "legend": {
         "title": {
          "text": "variable"
         },
         "tracegroupgap": 0
        },
        "template": {
         "data": {
          "bar": [
           {
            "error_x": {
             "color": "#2a3f5f"
            },
            "error_y": {
             "color": "#2a3f5f"
            },
            "marker": {
             "line": {
              "color": "#E5ECF6",
              "width": 0.5
             },
             "pattern": {
              "fillmode": "overlay",
              "size": 10,
              "solidity": 0.2
             }
            },
            "type": "bar"
           }
          ],
          "barpolar": [
           {
            "marker": {
             "line": {
              "color": "#E5ECF6",
              "width": 0.5
             },
             "pattern": {
              "fillmode": "overlay",
              "size": 10,
              "solidity": 0.2
             }
            },
            "type": "barpolar"
           }
          ],
          "carpet": [
           {
            "aaxis": {
             "endlinecolor": "#2a3f5f",
             "gridcolor": "white",
             "linecolor": "white",
             "minorgridcolor": "white",
             "startlinecolor": "#2a3f5f"
            },
            "baxis": {
             "endlinecolor": "#2a3f5f",
             "gridcolor": "white",
             "linecolor": "white",
             "minorgridcolor": "white",
             "startlinecolor": "#2a3f5f"
            },
            "type": "carpet"
           }
          ],
          "choropleth": [
           {
            "colorbar": {
             "outlinewidth": 0,
             "ticks": ""
            },
            "type": "choropleth"
           }
          ],
          "contour": [
           {
            "colorbar": {
             "outlinewidth": 0,
             "ticks": ""
            },
            "colorscale": [
             [
              0,
              "#0d0887"
             ],
             [
              0.1111111111111111,
              "#46039f"
             ],
             [
              0.2222222222222222,
              "#7201a8"
             ],
             [
              0.3333333333333333,
              "#9c179e"
             ],
             [
              0.4444444444444444,
              "#bd3786"
             ],
             [
              0.5555555555555556,
              "#d8576b"
             ],
             [
              0.6666666666666666,
              "#ed7953"
             ],
             [
              0.7777777777777778,
              "#fb9f3a"
             ],
             [
              0.8888888888888888,
              "#fdca26"
             ],
             [
              1,
              "#f0f921"
             ]
            ],
            "type": "contour"
           }
          ],
          "contourcarpet": [
           {
            "colorbar": {
             "outlinewidth": 0,
             "ticks": ""
            },
            "type": "contourcarpet"
           }
          ],
          "heatmap": [
           {
            "colorbar": {
             "outlinewidth": 0,
             "ticks": ""
            },
            "colorscale": [
             [
              0,
              "#0d0887"
             ],
             [
              0.1111111111111111,
              "#46039f"
             ],
             [
              0.2222222222222222,
              "#7201a8"
             ],
             [
              0.3333333333333333,
              "#9c179e"
             ],
             [
              0.4444444444444444,
              "#bd3786"
             ],
             [
              0.5555555555555556,
              "#d8576b"
             ],
             [
              0.6666666666666666,
              "#ed7953"
             ],
             [
              0.7777777777777778,
              "#fb9f3a"
             ],
             [
              0.8888888888888888,
              "#fdca26"
             ],
             [
              1,
              "#f0f921"
             ]
            ],
            "type": "heatmap"
           }
          ],
          "heatmapgl": [
           {
            "colorbar": {
             "outlinewidth": 0,
             "ticks": ""
            },
            "colorscale": [
             [
              0,
              "#0d0887"
             ],
             [
              0.1111111111111111,
              "#46039f"
             ],
             [
              0.2222222222222222,
              "#7201a8"
             ],
             [
              0.3333333333333333,
              "#9c179e"
             ],
             [
              0.4444444444444444,
              "#bd3786"
             ],
             [
              0.5555555555555556,
              "#d8576b"
             ],
             [
              0.6666666666666666,
              "#ed7953"
             ],
             [
              0.7777777777777778,
              "#fb9f3a"
             ],
             [
              0.8888888888888888,
              "#fdca26"
             ],
             [
              1,
              "#f0f921"
             ]
            ],
            "type": "heatmapgl"
           }
          ],
          "histogram": [
           {
            "marker": {
             "pattern": {
              "fillmode": "overlay",
              "size": 10,
              "solidity": 0.2
             }
            },
            "type": "histogram"
           }
          ],
          "histogram2d": [
           {
            "colorbar": {
             "outlinewidth": 0,
             "ticks": ""
            },
            "colorscale": [
             [
              0,
              "#0d0887"
             ],
             [
              0.1111111111111111,
              "#46039f"
             ],
             [
              0.2222222222222222,
              "#7201a8"
             ],
             [
              0.3333333333333333,
              "#9c179e"
             ],
             [
              0.4444444444444444,
              "#bd3786"
             ],
             [
              0.5555555555555556,
              "#d8576b"
             ],
             [
              0.6666666666666666,
              "#ed7953"
             ],
             [
              0.7777777777777778,
              "#fb9f3a"
             ],
             [
              0.8888888888888888,
              "#fdca26"
             ],
             [
              1,
              "#f0f921"
             ]
            ],
            "type": "histogram2d"
           }
          ],
          "histogram2dcontour": [
           {
            "colorbar": {
             "outlinewidth": 0,
             "ticks": ""
            },
            "colorscale": [
             [
              0,
              "#0d0887"
             ],
             [
              0.1111111111111111,
              "#46039f"
             ],
             [
              0.2222222222222222,
              "#7201a8"
             ],
             [
              0.3333333333333333,
              "#9c179e"
             ],
             [
              0.4444444444444444,
              "#bd3786"
             ],
             [
              0.5555555555555556,
              "#d8576b"
             ],
             [
              0.6666666666666666,
              "#ed7953"
             ],
             [
              0.7777777777777778,
              "#fb9f3a"
             ],
             [
              0.8888888888888888,
              "#fdca26"
             ],
             [
              1,
              "#f0f921"
             ]
            ],
            "type": "histogram2dcontour"
           }
          ],
          "mesh3d": [
           {
            "colorbar": {
             "outlinewidth": 0,
             "ticks": ""
            },
            "type": "mesh3d"
           }
          ],
          "parcoords": [
           {
            "line": {
             "colorbar": {
              "outlinewidth": 0,
              "ticks": ""
             }
            },
            "type": "parcoords"
           }
          ],
          "pie": [
           {
            "automargin": true,
            "type": "pie"
           }
          ],
          "scatter": [
           {
            "fillpattern": {
             "fillmode": "overlay",
             "size": 10,
             "solidity": 0.2
            },
            "type": "scatter"
           }
          ],
          "scatter3d": [
           {
            "line": {
             "colorbar": {
              "outlinewidth": 0,
              "ticks": ""
             }
            },
            "marker": {
             "colorbar": {
              "outlinewidth": 0,
              "ticks": ""
             }
            },
            "type": "scatter3d"
           }
          ],
          "scattercarpet": [
           {
            "marker": {
             "colorbar": {
              "outlinewidth": 0,
              "ticks": ""
             }
            },
            "type": "scattercarpet"
           }
          ],
          "scattergeo": [
           {
            "marker": {
             "colorbar": {
              "outlinewidth": 0,
              "ticks": ""
             }
            },
            "type": "scattergeo"
           }
          ],
          "scattergl": [
           {
            "marker": {
             "colorbar": {
              "outlinewidth": 0,
              "ticks": ""
             }
            },
            "type": "scattergl"
           }
          ],
          "scattermapbox": [
           {
            "marker": {
             "colorbar": {
              "outlinewidth": 0,
              "ticks": ""
             }
            },
            "type": "scattermapbox"
           }
          ],
          "scatterpolar": [
           {
            "marker": {
             "colorbar": {
              "outlinewidth": 0,
              "ticks": ""
             }
            },
            "type": "scatterpolar"
           }
          ],
          "scatterpolargl": [
           {
            "marker": {
             "colorbar": {
              "outlinewidth": 0,
              "ticks": ""
             }
            },
            "type": "scatterpolargl"
           }
          ],
          "scatterternary": [
           {
            "marker": {
             "colorbar": {
              "outlinewidth": 0,
              "ticks": ""
             }
            },
            "type": "scatterternary"
           }
          ],
          "surface": [
           {
            "colorbar": {
             "outlinewidth": 0,
             "ticks": ""
            },
            "colorscale": [
             [
              0,
              "#0d0887"
             ],
             [
              0.1111111111111111,
              "#46039f"
             ],
             [
              0.2222222222222222,
              "#7201a8"
             ],
             [
              0.3333333333333333,
              "#9c179e"
             ],
             [
              0.4444444444444444,
              "#bd3786"
             ],
             [
              0.5555555555555556,
              "#d8576b"
             ],
             [
              0.6666666666666666,
              "#ed7953"
             ],
             [
              0.7777777777777778,
              "#fb9f3a"
             ],
             [
              0.8888888888888888,
              "#fdca26"
             ],
             [
              1,
              "#f0f921"
             ]
            ],
            "type": "surface"
           }
          ],
          "table": [
           {
            "cells": {
             "fill": {
              "color": "#EBF0F8"
             },
             "line": {
              "color": "white"
             }
            },
            "header": {
             "fill": {
              "color": "#C8D4E3"
             },
             "line": {
              "color": "white"
             }
            },
            "type": "table"
           }
          ]
         },
         "layout": {
          "annotationdefaults": {
           "arrowcolor": "#2a3f5f",
           "arrowhead": 0,
           "arrowwidth": 1
          },
          "autotypenumbers": "strict",
          "coloraxis": {
           "colorbar": {
            "outlinewidth": 0,
            "ticks": ""
           }
          },
          "colorscale": {
           "diverging": [
            [
             0,
             "#8e0152"
            ],
            [
             0.1,
             "#c51b7d"
            ],
            [
             0.2,
             "#de77ae"
            ],
            [
             0.3,
             "#f1b6da"
            ],
            [
             0.4,
             "#fde0ef"
            ],
            [
             0.5,
             "#f7f7f7"
            ],
            [
             0.6,
             "#e6f5d0"
            ],
            [
             0.7,
             "#b8e186"
            ],
            [
             0.8,
             "#7fbc41"
            ],
            [
             0.9,
             "#4d9221"
            ],
            [
             1,
             "#276419"
            ]
           ],
           "sequential": [
            [
             0,
             "#0d0887"
            ],
            [
             0.1111111111111111,
             "#46039f"
            ],
            [
             0.2222222222222222,
             "#7201a8"
            ],
            [
             0.3333333333333333,
             "#9c179e"
            ],
            [
             0.4444444444444444,
             "#bd3786"
            ],
            [
             0.5555555555555556,
             "#d8576b"
            ],
            [
             0.6666666666666666,
             "#ed7953"
            ],
            [
             0.7777777777777778,
             "#fb9f3a"
            ],
            [
             0.8888888888888888,
             "#fdca26"
            ],
            [
             1,
             "#f0f921"
            ]
           ],
           "sequentialminus": [
            [
             0,
             "#0d0887"
            ],
            [
             0.1111111111111111,
             "#46039f"
            ],
            [
             0.2222222222222222,
             "#7201a8"
            ],
            [
             0.3333333333333333,
             "#9c179e"
            ],
            [
             0.4444444444444444,
             "#bd3786"
            ],
            [
             0.5555555555555556,
             "#d8576b"
            ],
            [
             0.6666666666666666,
             "#ed7953"
            ],
            [
             0.7777777777777778,
             "#fb9f3a"
            ],
            [
             0.8888888888888888,
             "#fdca26"
            ],
            [
             1,
             "#f0f921"
            ]
           ]
          },
          "colorway": [
           "#636efa",
           "#EF553B",
           "#00cc96",
           "#ab63fa",
           "#FFA15A",
           "#19d3f3",
           "#FF6692",
           "#B6E880",
           "#FF97FF",
           "#FECB52"
          ],
          "font": {
           "color": "#2a3f5f"
          },
          "geo": {
           "bgcolor": "white",
           "lakecolor": "white",
           "landcolor": "#E5ECF6",
           "showlakes": true,
           "showland": true,
           "subunitcolor": "white"
          },
          "hoverlabel": {
           "align": "left"
          },
          "hovermode": "closest",
          "mapbox": {
           "style": "light"
          },
          "paper_bgcolor": "white",
          "plot_bgcolor": "#E5ECF6",
          "polar": {
           "angularaxis": {
            "gridcolor": "white",
            "linecolor": "white",
            "ticks": ""
           },
           "bgcolor": "#E5ECF6",
           "radialaxis": {
            "gridcolor": "white",
            "linecolor": "white",
            "ticks": ""
           }
          },
          "scene": {
           "xaxis": {
            "backgroundcolor": "#E5ECF6",
            "gridcolor": "white",
            "gridwidth": 2,
            "linecolor": "white",
            "showbackground": true,
            "ticks": "",
            "zerolinecolor": "white"
           },
           "yaxis": {
            "backgroundcolor": "#E5ECF6",
            "gridcolor": "white",
            "gridwidth": 2,
            "linecolor": "white",
            "showbackground": true,
            "ticks": "",
            "zerolinecolor": "white"
           },
           "zaxis": {
            "backgroundcolor": "#E5ECF6",
            "gridcolor": "white",
            "gridwidth": 2,
            "linecolor": "white",
            "showbackground": true,
            "ticks": "",
            "zerolinecolor": "white"
           }
          },
          "shapedefaults": {
           "line": {
            "color": "#2a3f5f"
           }
          },
          "ternary": {
           "aaxis": {
            "gridcolor": "white",
            "linecolor": "white",
            "ticks": ""
           },
           "baxis": {
            "gridcolor": "white",
            "linecolor": "white",
            "ticks": ""
           },
           "bgcolor": "#E5ECF6",
           "caxis": {
            "gridcolor": "white",
            "linecolor": "white",
            "ticks": ""
           }
          },
          "title": {
           "x": 0.05
          },
          "xaxis": {
           "automargin": true,
           "gridcolor": "white",
           "linecolor": "white",
           "ticks": "",
           "title": {
            "standoff": 15
           },
           "zerolinecolor": "white",
           "zerolinewidth": 2
          },
          "yaxis": {
           "automargin": true,
           "gridcolor": "white",
           "linecolor": "white",
           "ticks": "",
           "title": {
            "standoff": 15
           },
           "zerolinecolor": "white",
           "zerolinewidth": 2
          }
         }
        },
        "title": {
         "text": "Portfolio Performance (2023 Oct-Dec)"
        },
        "xaxis": {
         "anchor": "y",
         "autorange": true,
         "domain": [
          0,
          1
         ],
         "range": [
          "2023-10-02",
          "2023-12-28"
         ],
         "title": {
          "text": "Date"
         },
         "type": "date"
        },
        "yaxis": {
         "anchor": "x",
         "autorange": true,
         "domain": [
          0,
          1
         ],
         "range": [
          -8.446725171608854,
          82.65191761016673
         ],
         "title": {
          "text": "Cumulative Return in %"
         },
         "type": "linear"
        }
       }
      },
      "image/png": "[encoded data removed]",
      "text/html": [
       "<div>                            <div id=\"794079b9-9707-4ea7-8a05-ddd8b2e1ca35\" class=\"plotly-graph-div\" style=\"height:525px; width:100%;\"></div>            <script type=\"text/javascript\">                require([\"plotly\"], function(Plotly) {                    window.PLOTLYENV=window.PLOTLYENV || {};                                    if (document.getElementById(\"794079b9-9707-4ea7-8a05-ddd8b2e1ca35\")) {                    Plotly.newPlot(                        \"794079b9-9707-4ea7-8a05-ddd8b2e1ca35\",                        [{\"hovertemplate\":\"variable=MinVar\\u003cbr\\u003eindex=%{x}\\u003cbr\\u003evalue=%{y}\\u003cextra\\u003e\\u003c\\u002fextra\\u003e\",\"legendgroup\":\"MinVar\",\"line\":{\"color\":\"#636efa\",\"dash\":\"solid\"},\"marker\":{\"symbol\":\"circle\"},\"mode\":\"lines\",\"name\":\"MinVar\",\"orientation\":\"v\",\"showlegend\":true,\"x\":[\"2023-10-02T00:00:00\",\"2023-10-03T00:00:00\",\"2023-10-04T00:00:00\",\"2023-10-05T00:00:00\",\"2023-10-06T00:00:00\",\"2023-10-09T00:00:00\",\"2023-10-10T00:00:00\",\"2023-10-11T00:00:00\",\"2023-10-12T00:00:00\",\"2023-10-13T00:00:00\",\"2023-10-16T00:00:00\",\"2023-10-17T00:00:00\",\"2023-10-18T00:00:00\",\"2023-10-19T00:00:00\",\"2023-10-20T00:00:00\",\"2023-10-23T00:00:00\",\"2023-10-24T00:00:00\",\"2023-10-25T00:00:00\",\"2023-10-26T00:00:00\",\"2023-10-27T00:00:00\",\"2023-10-30T00:00:00\",\"2023-10-31T00:00:00\",\"2023-11-01T00:00:00\",\"2023-11-02T00:00:00\",\"2023-11-03T00:00:00\",\"2023-11-06T00:00:00\",\"2023-11-07T00:00:00\",\"2023-11-08T00:00:00\",\"2023-11-09T00:00:00\",\"2023-11-10T00:00:00\",\"2023-11-13T00:00:00\",\"2023-11-14T00:00:00\",\"2023-11-15T00:00:00\",\"2023-11-16T00:00:00\",\"2023-11-17T00:00:00\",\"2023-11-20T00:00:00\",\"2023-11-21T00:00:00\",\"2023-11-22T00:00:00\",\"2023-11-24T00:00:00\",\"2023-11-27T00:00:00\",\"2023-11-28T00:00:00\",\"2023-11-29T00:00:00\",\"2023-11-30T00:00:00\",\"2023-12-01T00:00:00\",\"2023-12-04T00:00:00\",\"2023-12-05T00:00:00\",\"2023-12-06T00:00:00\",\"2023-12-07T00:00:00\",\"2023-12-08T00:00:00\",\"2023-12-11T00:00:00\",\"2023-12-12T00:00:00\",\"2023-12-13T00:00:00\",\"2023-12-14T00:00:00\",\"2023-12-15T00:00:00\",\"2023-12-18T00:00:00\",\"2023-12-19T00:00:00\",\"2023-12-20T00:00:00\",\"2023-12-21T00:00:00\",\"2023-12-22T00:00:00\",\"2023-12-26T00:00:00\",\"2023-12-27T00:00:00\",\"2023-12-28T00:00:00\"],\"xaxis\":\"x\",\"y\":[-0.9742316408019147,-0.9378148316350754,-0.7492615089685684,-0.27034322232636354,-0.1480666058979785,0.24837435476381398,0.49373513145369863,0.40695824883054676,0.07979345076292166,0.31673767300310907,-0.02621981343616797,-0.17992871903975693,-0.5373054485222628,-0.9064757836872106,-0.8344352442131608,-0.8117202380263255,-0.6735090947934341,-1.1191607730069442,-1.0144894312910213,-1.1447235126588406,-1.1115725879259575,-0.8032665276841766,-0.37318375521633307,0.1929608539052774,0.9389104172764284,0.8582139260599808,1.1671294975905688,1.0799232468929665,0.6226676109821971,0.9258398569398807,0.9882906821069071,1.8488090881825237,1.5705771617040565,1.5367087117322376,1.6512471180554877,2.016892522822089,1.7444727975943985,1.99449524776516,1.664278499032057,2.2145031847820906,2.29090796020468,2.5532731932784714,2.4195798837178373,2.8438187208721377,2.5824539537202096,2.6531178089673757,3.051817902857734,2.7039930619028096,2.993456170865638,3.09492070822015,3.3522243121771877,3.9298856060606457,4.342462959487237,4.242534799742836,4.504047311372661,4.5202463361563305,4.716325061665949,4.535133734663832,4.65798251856846,4.827399206123761,5.147332668547988,5.140405053171837],\"yaxis\":\"y\",\"type\":\"scatter\"},{\"hovertemplate\":\"variable=MaxSharpe\\u003cbr\\u003eindex=%{x}\\u003cbr\\u003evalue=%{y}\\u003cextra\\u003e\\u003c\\u002fextra\\u003e\",\"legendgroup\":\"MaxSharpe\",\"line\":{\"color\":\"#EF553B\",\"dash\":\"solid\"},\"marker\":{\"symbol\":\"circle\"},\"mode\":\"lines\",\"name\":\"MaxSharpe\",\"orientation\":\"v\",\"showlegend\":true,\"x\":[\"2023-10-02T00:00:00\",\"2023-10-03T00:00:00\",\"2023-10-04T00:00:00\",\"2023-10-05T00:00:00\",\"2023-10-06T00:00:00\",\"2023-10-09T00:00:00\",\"2023-10-10T00:00:00\",\"2023-10-11T00:00:00\",\"2023-10-12T00:00:00\",\"2023-10-13T00:00:00\",\"2023-10-16T00:00:00\",\"2023-10-17T00:00:00\",\"2023-10-18T00:00:00\",\"2023-10-19T00:00:00\",\"2023-10-20T00:00:00\",\"2023-10-23T00:00:00\",\"2023-10-24T00:00:00\",\"2023-10-25T00:00:00\",\"2023-10-26T00:00:00\",\"2023-10-27T00:00:00\",\"2023-10-30T00:00:00\",\"2023-10-31T00:00:00\",\"2023-11-01T00:00:00\",\"2023-11-02T00:00:00\",\"2023-11-03T00:00:00\",\"2023-11-06T00:00:00\",\"2023-11-07T00:00:00\",\"2023-11-08T00:00:00\",\"2023-11-09T00:00:00\",\"2023-11-10T00:00:00\",\"2023-11-13T00:00:00\",\"2023-11-14T00:00:00\",\"2023-11-15T00:00:00\",\"2023-11-16T00:00:00\",\"2023-11-17T00:00:00\",\"2023-11-20T00:00:00\",\"2023-11-21T00:00:00\",\"2023-11-22T00:00:00\",\"2023-11-24T00:00:00\",\"2023-11-27T00:00:00\",\"2023-11-28T00:00:00\",\"2023-11-29T00:00:00\",\"2023-11-30T00:00:00\",\"2023-12-01T00:00:00\",\"2023-12-04T00:00:00\",\"2023-12-05T00:00:00\",\"2023-12-06T00:00:00\",\"2023-12-07T00:00:00\",\"2023-12-08T00:00:00\",\"2023-12-11T00:00:00\",\"2023-12-12T00:00:00\",\"2023-12-13T00:00:00\",\"2023-12-14T00:00:00\",\"2023-12-15T00:00:00\",\"2023-12-18T00:00:00\",\"2023-12-19T00:00:00\",\"2023-12-20T00:00:00\",\"2023-12-21T00:00:00\",\"2023-12-22T00:00:00\",\"2023-12-26T00:00:00\",\"2023-12-27T00:00:00\",\"2023-12-28T00:00:00\"],\"xaxis\":\"x\",\"y\":[2.5183154562157695,-1.125783890541765,-1.4930235230363298,28.772097787750162,29.824794382086715,38.02214929187202,37.262633450571414,37.84678722359558,33.90476583141875,33.39835284694572,35.08315403573747,37.44799605449251,35.23035081638945,34.026965823196576,33.25899283178229,32.73433562101595,34.06653528478034,32.82134679156194,31.97484648012512,24.78804047711105,24.470527589650626,29.525218584047973,33.56022752791479,37.2916604395652,38.892608281375686,40.93539108657818,41.42704462338056,42.18876623705845,40.52549273880446,44.98005304219242,48.31347788781479,53.75092347517687,52.45272798931251,50.853213299473076,53.30452613631977,54.7585661712172,54.15047867661544,51.65917304890486,52.46522437089802,52.6157504223433,50.80354378966074,49.9319064966256,51.00168451529539,51.28906791474777,56.40360993247005,57.055075039706125,59.77968878241073,60.86778842902299,61.74244318568549,58.012195385494714,59.69758552689135,62.45859333055657,67.19721884532517,63.75872483352045,66.7886692979033,72.95371571629505,71.19702080271016,72.43141763585983,71.60110418479826,75.69276917792749,77.80908869048278,78.09698547107796],\"yaxis\":\"y\",\"type\":\"scatter\"},{\"hovertemplate\":\"variable=SnP500\\u003cbr\\u003eindex=%{x}\\u003cbr\\u003evalue=%{y}\\u003cextra\\u003e\\u003c\\u002fextra\\u003e\",\"legendgroup\":\"SnP500\",\"line\":{\"color\":\"#00cc96\",\"dash\":\"solid\"},\"marker\":{\"symbol\":\"circle\"},\"mode\":\"lines\",\"name\":\"SnP500\",\"orientation\":\"v\",\"showlegend\":true,\"x\":[\"2023-10-02T00:00:00\",\"2023-10-03T00:00:00\",\"2023-10-04T00:00:00\",\"2023-10-05T00:00:00\",\"2023-10-06T00:00:00\",\"2023-10-09T00:00:00\",\"2023-10-10T00:00:00\",\"2023-10-11T00:00:00\",\"2023-10-12T00:00:00\",\"2023-10-13T00:00:00\",\"2023-10-16T00:00:00\",\"2023-10-17T00:00:00\",\"2023-10-18T00:00:00\",\"2023-10-19T00:00:00\",\"2023-10-20T00:00:00\",\"2023-10-23T00:00:00\",\"2023-10-24T00:00:00\",\"2023-10-25T00:00:00\",\"2023-10-26T00:00:00\",\"2023-10-27T00:00:00\",\"2023-10-30T00:00:00\",\"2023-10-31T00:00:00\",\"2023-11-01T00:00:00\",\"2023-11-02T00:00:00\",\"2023-11-03T00:00:00\",\"2023-11-06T00:00:00\",\"2023-11-07T00:00:00\",\"2023-11-08T00:00:00\",\"2023-11-09T00:00:00\",\"2023-11-10T00:00:00\",\"2023-11-13T00:00:00\",\"2023-11-14T00:00:00\",\"2023-11-15T00:00:00\",\"2023-11-16T00:00:00\",\"2023-11-17T00:00:00\",\"2023-11-20T00:00:00\",\"2023-11-21T00:00:00\",\"2023-11-22T00:00:00\",\"2023-11-24T00:00:00\",\"2023-11-27T00:00:00\",\"2023-11-28T00:00:00\",\"2023-11-29T00:00:00\",\"2023-11-30T00:00:00\",\"2023-12-01T00:00:00\",\"2023-12-04T00:00:00\",\"2023-12-05T00:00:00\",\"2023-12-06T00:00:00\",\"2023-12-07T00:00:00\",\"2023-12-08T00:00:00\",\"2023-12-11T00:00:00\",\"2023-12-12T00:00:00\",\"2023-12-13T00:00:00\",\"2023-12-14T00:00:00\",\"2023-12-15T00:00:00\",\"2023-12-18T00:00:00\",\"2023-12-19T00:00:00\",\"2023-12-20T00:00:00\",\"2023-12-21T00:00:00\",\"2023-12-22T00:00:00\",\"2023-12-26T00:00:00\",\"2023-12-27T00:00:00\",\"2023-12-28T00:00:00\"],\"xaxis\":\"x\",\"y\":[null,-1.3386074506209655,-0.6201537897384091,-0.6576006746481511,0.5218683046430028,1.1654281957060864,1.6919791592189037,2.1085415869739776,1.4860428712884843,0.9805530831532572,2.0430131348941227,2.038330476024308,0.6786618500257635,-0.20594348095478443,-1.4322174698709111,-1.6030589918630822,-0.8611992296558402,-2.284065767835919,-3.4541694293874325,-3.8917930325200745,-2.7427361602973988,-2.1319404952742427,-1.0882038859882592,0.807381021262743,1.7270883112059376,1.9611061663064921,2.2512871557472725,2.3261809255667565,1.5281652220436648,3.112486385403157,3.014208093332127,5.012761144548317,5.235075948986534,5.3637879271991595,5.494837638334493,6.306901318467029,6.075214003264806,6.484756039227335,6.550270105258438,6.35838179393744,6.463687670825369,6.388801094030261,6.807701254708021,7.439565288133143,6.875574632734982,6.854506264333016,6.423910246017273,7.235966733125432,7.696989244558372,8.115882212211755,8.609676142708999,10.107414871635424,10.46078658023335,10.278918151870343,10.899244574193801,11.573612188666104,10.027500370800379,11.070776626526202,11.293990559011613,11.763932420672774,11.96601324753681,12.008308230877063],\"yaxis\":\"y\",\"type\":\"scatter\"}],                        {\"template\":{\"data\":{\"histogram2dcontour\":[{\"type\":\"histogram2dcontour\",\"colorbar\":{\"outlinewidth\":0,\"ticks\":\"\"},\"colorscale\":[[0.0,\"#0d0887\"],[0.1111111111111111,\"#46039f\"],[0.2222222222222222,\"#7201a8\"],[0.3333333333333333,\"#9c179e\"],[0.4444444444444444,\"#bd3786\"],[0.5555555555555556,\"#d8576b\"],[0.6666666666666666,\"#ed7953\"],[0.7777777777777778,\"#fb9f3a\"],[0.8888888888888888,\"#fdca26\"],[1.0,\"#f0f921\"]]}],\"choropleth\":[{\"type\":\"choropleth\",\"colorbar\":{\"outlinewidth\":0,\"ticks\":\"\"}}],\"histogram2d\":[{\"type\":\"histogram2d\",\"colorbar\":{\"outlinewidth\":0,\"ticks\":\"\"},\"colorscale\":[[0.0,\"#0d0887\"],[0.1111111111111111,\"#46039f\"],[0.2222222222222222,\"#7201a8\"],[0.3333333333333333,\"#9c179e\"],[0.4444444444444444,\"#bd3786\"],[0.5555555555555556,\"#d8576b\"],[0.6666666666666666,\"#ed7953\"],[0.7777777777777778,\"#fb9f3a\"],[0.8888888888888888,\"#fdca26\"],[1.0,\"#f0f921\"]]}],\"heatmap\":[{\"type\":\"heatmap\",\"colorbar\":{\"outlinewidth\":0,\"ticks\":\"\"},\"colorscale\":[[0.0,\"#0d0887\"],[0.1111111111111111,\"#46039f\"],[0.2222222222222222,\"#7201a8\"],[0.3333333333333333,\"#9c179e\"],[0.4444444444444444,\"#bd3786\"],[0.5555555555555556,\"#d8576b\"],[0.6666666666666666,\"#ed7953\"],[0.7777777777777778,\"#fb9f3a\"],[0.8888888888888888,\"#fdca26\"],[1.0,\"#f0f921\"]]}],\"heatmapgl\":[{\"type\":\"heatmapgl\",\"colorbar\":{\"outlinewidth\":0,\"ticks\":\"\"},\"colorscale\":[[0.0,\"#0d0887\"],[0.1111111111111111,\"#46039f\"],[0.2222222222222222,\"#7201a8\"],[0.3333333333333333,\"#9c179e\"],[0.4444444444444444,\"#bd3786\"],[0.5555555555555556,\"#d8576b\"],[0.6666666666666666,\"#ed7953\"],[0.7777777777777778,\"#fb9f3a\"],[0.8888888888888888,\"#fdca26\"],[1.0,\"#f0f921\"]]}],\"contourcarpet\":[{\"type\":\"contourcarpet\",\"colorbar\":{\"outlinewidth\":0,\"ticks\":\"\"}}],\"contour\":[{\"type\":\"contour\",\"colorbar\":{\"outlinewidth\":0,\"ticks\":\"\"},\"colorscale\":[[0.0,\"#0d0887\"],[0.1111111111111111,\"#46039f\"],[0.2222222222222222,\"#7201a8\"],[0.3333333333333333,\"#9c179e\"],[0.4444444444444444,\"#bd3786\"],[0.5555555555555556,\"#d8576b\"],[0.6666666666666666,\"#ed7953\"],[0.7777777777777778,\"#fb9f3a\"],[0.8888888888888888,\"#fdca26\"],[1.0,\"#f0f921\"]]}],\"surface\":[{\"type\":\"surface\",\"colorbar\":{\"outlinewidth\":0,\"ticks\":\"\"},\"colorscale\":[[0.0,\"#0d0887\"],[0.1111111111111111,\"#46039f\"],[0.2222222222222222,\"#7201a8\"],[0.3333333333333333,\"#9c179e\"],[0.4444444444444444,\"#bd3786\"],[0.5555555555555556,\"#d8576b\"],[0.6666666666666666,\"#ed7953\"],[0.7777777777777778,\"#fb9f3a\"],[0.8888888888888888,\"#fdca26\"],[1.0,\"#f0f921\"]]}],\"mesh3d\":[{\"type\":\"mesh3d\",\"colorbar\":{\"outlinewidth\":0,\"ticks\":\"\"}}],\"scatter\":[{\"fillpattern\":{\"fillmode\":\"overlay\",\"size\":10,\"solidity\":0.2},\"type\":\"scatter\"}],\"parcoords\":[{\"type\":\"parcoords\",\"line\":{\"colorbar\":{\"outlinewidth\":0,\"ticks\":\"\"}}}],\"scatterpolargl\":[{\"type\":\"scatterpolargl\",\"marker\":{\"colorbar\":{\"outlinewidth\":0,\"ticks\":\"\"}}}],\"bar\":[{\"error_x\":{\"color\":\"#2a3f5f\"},\"error_y\":{\"color\":\"#2a3f5f\"},\"marker\":{\"line\":{\"color\":\"#E5ECF6\",\"width\":0.5},\"pattern\":{\"fillmode\":\"overlay\",\"size\":10,\"solidity\":0.2}},\"type\":\"bar\"}],\"scattergeo\":[{\"type\":\"scattergeo\",\"marker\":{\"colorbar\":{\"outlinewidth\":0,\"ticks\":\"\"}}}],\"scatterpolar\":[{\"type\":\"scatterpolar\",\"marker\":{\"colorbar\":{\"outlinewidth\":0,\"ticks\":\"\"}}}],\"histogram\":[{\"marker\":{\"pattern\":{\"fillmode\":\"overlay\",\"size\":10,\"solidity\":0.2}},\"type\":\"histogram\"}],\"scattergl\":[{\"type\":\"scattergl\",\"marker\":{\"colorbar\":{\"outlinewidth\":0,\"ticks\":\"\"}}}],\"scatter3d\":[{\"type\":\"scatter3d\",\"line\":{\"colorbar\":{\"outlinewidth\":0,\"ticks\":\"\"}},\"marker\":{\"colorbar\":{\"outlinewidth\":0,\"ticks\":\"\"}}}],\"scattermapbox\":[{\"type\":\"scattermapbox\",\"marker\":{\"colorbar\":{\"outlinewidth\":0,\"ticks\":\"\"}}}],\"scatterternary\":[{\"type\":\"scatterternary\",\"marker\":{\"colorbar\":{\"outlinewidth\":0,\"ticks\":\"\"}}}],\"scattercarpet\":[{\"type\":\"scattercarpet\",\"marker\":{\"colorbar\":{\"outlinewidth\":0,\"ticks\":\"\"}}}],\"carpet\":[{\"aaxis\":{\"endlinecolor\":\"#2a3f5f\",\"gridcolor\":\"white\",\"linecolor\":\"white\",\"minorgridcolor\":\"white\",\"startlinecolor\":\"#2a3f5f\"},\"baxis\":{\"endlinecolor\":\"#2a3f5f\",\"gridcolor\":\"white\",\"linecolor\":\"white\",\"minorgridcolor\":\"white\",\"startlinecolor\":\"#2a3f5f\"},\"type\":\"carpet\"}],\"table\":[{\"cells\":{\"fill\":{\"color\":\"#EBF0F8\"},\"line\":{\"color\":\"white\"}},\"header\":{\"fill\":{\"color\":\"#C8D4E3\"},\"line\":{\"color\":\"white\"}},\"type\":\"table\"}],\"barpolar\":[{\"marker\":{\"line\":{\"color\":\"#E5ECF6\",\"width\":0.5},\"pattern\":{\"fillmode\":\"overlay\",\"size\":10,\"solidity\":0.2}},\"type\":\"barpolar\"}],\"pie\":[{\"automargin\":true,\"type\":\"pie\"}]},\"layout\":{\"autotypenumbers\":\"strict\",\"colorway\":[\"#636efa\",\"#EF553B\",\"#00cc96\",\"#ab63fa\",\"#FFA15A\",\"#19d3f3\",\"#FF6692\",\"#B6E880\",\"#FF97FF\",\"#FECB52\"],\"font\":{\"color\":\"#2a3f5f\"},\"hovermode\":\"closest\",\"hoverlabel\":{\"align\":\"left\"},\"paper_bgcolor\":\"white\",\"plot_bgcolor\":\"#E5ECF6\",\"polar\":{\"bgcolor\":\"#E5ECF6\",\"angularaxis\":{\"gridcolor\":\"white\",\"linecolor\":\"white\",\"ticks\":\"\"},\"radialaxis\":{\"gridcolor\":\"white\",\"linecolor\":\"white\",\"ticks\":\"\"}},\"ternary\":{\"bgcolor\":\"#E5ECF6\",\"aaxis\":{\"gridcolor\":\"white\",\"linecolor\":\"white\",\"ticks\":\"\"},\"baxis\":{\"gridcolor\":\"white\",\"linecolor\":\"white\",\"ticks\":\"\"},\"caxis\":{\"gridcolor\":\"white\",\"linecolor\":\"white\",\"ticks\":\"\"}},\"coloraxis\":{\"colorbar\":{\"outlinewidth\":0,\"ticks\":\"\"}},\"colorscale\":{\"sequential\":[[0.0,\"#0d0887\"],[0.1111111111111111,\"#46039f\"],[0.2222222222222222,\"#7201a8\"],[0.3333333333333333,\"#9c179e\"],[0.4444444444444444,\"#bd3786\"],[0.5555555555555556,\"#d8576b\"],[0.6666666666666666,\"#ed7953\"],[0.7777777777777778,\"#fb9f3a\"],[0.8888888888888888,\"#fdca26\"],[1.0,\"#f0f921\"]],\"sequentialminus\":[[0.0,\"#0d0887\"],[0.1111111111111111,\"#46039f\"],[0.2222222222222222,\"#7201a8\"],[0.3333333333333333,\"#9c179e\"],[0.4444444444444444,\"#bd3786\"],[0.5555555555555556,\"#d8576b\"],[0.6666666666666666,\"#ed7953\"],[0.7777777777777778,\"#fb9f3a\"],[0.8888888888888888,\"#fdca26\"],[1.0,\"#f0f921\"]],\"diverging\":[[0,\"#8e0152\"],[0.1,\"#c51b7d\"],[0.2,\"#de77ae\"],[0.3,\"#f1b6da\"],[0.4,\"#fde0ef\"],[0.5,\"#f7f7f7\"],[0.6,\"#e6f5d0\"],[0.7,\"#b8e186\"],[0.8,\"#7fbc41\"],[0.9,\"#4d9221\"],[1,\"#276419\"]]},\"xaxis\":{\"gridcolor\":\"white\",\"linecolor\":\"white\",\"ticks\":\"\",\"title\":{\"standoff\":15},\"zerolinecolor\":\"white\",\"automargin\":true,\"zerolinewidth\":2},\"yaxis\":{\"gridcolor\":\"white\",\"linecolor\":\"white\",\"ticks\":\"\",\"title\":{\"standoff\":15},\"zerolinecolor\":\"white\",\"automargin\":true,\"zerolinewidth\":2},\"scene\":{\"xaxis\":{\"backgroundcolor\":\"#E5ECF6\",\"gridcolor\":\"white\",\"linecolor\":\"white\",\"showbackground\":true,\"ticks\":\"\",\"zerolinecolor\":\"white\",\"gridwidth\":2},\"yaxis\":{\"backgroundcolor\":\"#E5ECF6\",\"gridcolor\":\"white\",\"linecolor\":\"white\",\"showbackground\":true,\"ticks\":\"\",\"zerolinecolor\":\"white\",\"gridwidth\":2},\"zaxis\":{\"backgroundcolor\":\"#E5ECF6\",\"gridcolor\":\"white\",\"linecolor\":\"white\",\"showbackground\":true,\"ticks\":\"\",\"zerolinecolor\":\"white\",\"gridwidth\":2}},\"shapedefaults\":{\"line\":{\"color\":\"#2a3f5f\"}},\"annotationdefaults\":{\"arrowcolor\":\"#2a3f5f\",\"arrowhead\":0,\"arrowwidth\":1},\"geo\":{\"bgcolor\":\"white\",\"landcolor\":\"#E5ECF6\",\"subunitcolor\":\"white\",\"showland\":true,\"showlakes\":true,\"lakecolor\":\"white\"},\"title\":{\"x\":0.05},\"mapbox\":{\"style\":\"light\"}}},\"xaxis\":{\"anchor\":\"y\",\"domain\":[0.0,1.0],\"title\":{\"text\":\"Date\"}},\"yaxis\":{\"anchor\":\"x\",\"domain\":[0.0,1.0],\"title\":{\"text\":\"Cumulative Return in %\"}},\"legend\":{\"title\":{\"text\":\"variable\"},\"tracegroupgap\":0},\"title\":{\"text\":\"Portfolio Performance (2023 Oct-Dec)\"}},                        {\"responsive\": true}                    ).then(function(){\n",
       "                            \n",
       "var gd = document.getElementById('794079b9-9707-4ea7-8a05-ddd8b2e1ca35');\n",
       "var x = new MutationObserver(function (mutations, observer) {{\n",
       "        var display = window.getComputedStyle(gd).display;\n",
       "        if (!display || display === 'none') {{\n",
       "            console.log([gd, 'removed!']);\n",
       "            Plotly.purge(gd);\n",
       "            observer.disconnect();\n",
       "        }}\n",
       "}});\n",
       "\n",
       "// Listen for the removal of the full notebook cells\n",
       "var notebookContainer = gd.closest('#notebook-container');\n",
       "if (notebookContainer) {{\n",
       "    x.observe(notebookContainer, {childList: true});\n",
       "}}\n",
       "\n",
       "// Listen for the clearing of the current output cell\n",
       "var outputEl = gd.closest('.output');\n",
       "if (outputEl) {{\n",
       "    x.observe(outputEl, {childList: true});\n",
       "}}\n",
       "\n",
       "                        })                };                });            </script>        </div>"
      ]
     },
     "metadata": {},
     "output_type": "display_data"
    }
   ],
   "source": [
    "back = pd.DataFrame({\"MinVar\": ret_1, \"MaxSharpe\": ret_2})\n",
    "back = pd.concat([back, ind_ret], join=\"outer\", axis=1)\n",
    "back.drop(back.tail(1).index, inplace=True)\n",
    "\n",
    "back.interpolate(method=\"linear\", inplace=True)\n",
    "\n",
    "fig = px.line(\n",
    "    back, x=back.index, y=back.columns, title=\"Portfolio Performance (2023 Oct-Dec)\"\n",
    ")\n",
    "fig.update_xaxes(title_text=\"Date\")\n",
    "fig.update_yaxes(title_text=\"Cumulative Return in %\")\n",
    "\n",
    "fig.show()"
   ]
  }
 ],
 "metadata": {
  "kernelspec": {
   "display_name": "Python 3 (ipykernel)",
   "language": "python",
   "name": "python3"
  },
  "language_info": {
   "codemirror_mode": {
    "name": "ipython",
    "version": 3
   },
   "file_extension": ".py",
   "mimetype": "text/x-python",
   "name": "python",
   "nbconvert_exporter": "python",
   "pygments_lexer": "ipython3",
   "version": "3.10.14"
  }
 },
 "nbformat": 4,
 "nbformat_minor": 5
}
