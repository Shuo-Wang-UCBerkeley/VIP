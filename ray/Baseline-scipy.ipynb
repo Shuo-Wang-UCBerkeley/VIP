{
 "cells": [
  {
   "cell_type": "code",
   "execution_count": 3,
   "id": "41bbe10d-802a-4339-8f82-ed113a94b600",
   "metadata": {
    "editable": true,
    "slideshow": {
     "slide_type": ""
    },
    "tags": []
   },
   "outputs": [],
   "source": [
    "import os\n",
    "\n",
    "import boto3\n",
    "import matplotlib.pyplot as plt\n",
    "import numpy as np\n",
    "import pandas as pd\n",
    "import plotly.express as px\n",
    "import pyarrow.parquet as pq\n",
    "import seaborn as sns"
   ]
  },
  {
   "cell_type": "code",
   "execution_count": 4,
   "id": "4560bd85-362c-407e-92c2-ea283ebc991f",
   "metadata": {
    "editable": true,
    "slideshow": {
     "slide_type": ""
    },
    "tags": []
   },
   "outputs": [],
   "source": [
    "s3 = boto3.client(\"s3\")\n",
    "bucket = \"capstone-bucket-4-friends\"\n",
    "\n",
    "csv_key = \"crsp_2023_clean.csv\"\n",
    "file_path = f\"../data/{csv_key}\"\n",
    "s3.download_file(bucket, csv_key, file_path)"
   ]
  },
  {
   "cell_type": "code",
   "execution_count": 5,
   "id": "e489bcc7-6e59-4818-9c49-a17d7c9ff972",
   "metadata": {},
   "outputs": [],
   "source": [
    "df = pd.read_csv(file_path)\n",
    "df[\"date\"] = pd.to_datetime(df[\"date\"])"
   ]
  },
  {
   "cell_type": "code",
   "execution_count": 6,
   "id": "1f673423-cc0e-4ce3-80b9-48a08019b590",
   "metadata": {},
   "outputs": [
    {
     "data": {
      "text/plain": [
       "PERMNO             int64\n",
       "date      datetime64[ns]\n",
       "PRC              float64\n",
       "RET              float64\n",
       "dtype: object"
      ]
     },
     "execution_count": 6,
     "metadata": {},
     "output_type": "execute_result"
    }
   ],
   "source": [
    "df.dtypes"
   ]
  },
  {
   "cell_type": "code",
   "execution_count": 7,
   "id": "63ad1ac4-6514-4b51-8104-e9728b7d556f",
   "metadata": {
    "editable": true,
    "slideshow": {
     "slide_type": ""
    },
    "tags": []
   },
   "outputs": [
    {
     "data": {
      "text/html": [
       "<div>\n",
       "<style scoped>\n",
       "    .dataframe tbody tr th:only-of-type {\n",
       "        vertical-align: middle;\n",
       "    }\n",
       "\n",
       "    .dataframe tbody tr th {\n",
       "        vertical-align: top;\n",
       "    }\n",
       "\n",
       "    .dataframe thead th {\n",
       "        text-align: right;\n",
       "    }\n",
       "</style>\n",
       "<table border=\"1\" class=\"dataframe\">\n",
       "  <thead>\n",
       "    <tr style=\"text-align: right;\">\n",
       "      <th></th>\n",
       "      <th>date</th>\n",
       "      <th>PRC</th>\n",
       "      <th>RET</th>\n",
       "    </tr>\n",
       "    <tr>\n",
       "      <th>PERMNO</th>\n",
       "      <th></th>\n",
       "      <th></th>\n",
       "      <th></th>\n",
       "    </tr>\n",
       "  </thead>\n",
       "  <tbody>\n",
       "    <tr>\n",
       "      <th>10026</th>\n",
       "      <td>250</td>\n",
       "      <td>250</td>\n",
       "      <td>250</td>\n",
       "    </tr>\n",
       "    <tr>\n",
       "      <th>10028</th>\n",
       "      <td>250</td>\n",
       "      <td>250</td>\n",
       "      <td>250</td>\n",
       "    </tr>\n",
       "    <tr>\n",
       "      <th>10032</th>\n",
       "      <td>250</td>\n",
       "      <td>250</td>\n",
       "      <td>250</td>\n",
       "    </tr>\n",
       "    <tr>\n",
       "      <th>10044</th>\n",
       "      <td>250</td>\n",
       "      <td>250</td>\n",
       "      <td>250</td>\n",
       "    </tr>\n",
       "    <tr>\n",
       "      <th>10065</th>\n",
       "      <td>250</td>\n",
       "      <td>250</td>\n",
       "      <td>250</td>\n",
       "    </tr>\n",
       "    <tr>\n",
       "      <th>...</th>\n",
       "      <td>...</td>\n",
       "      <td>...</td>\n",
       "      <td>...</td>\n",
       "    </tr>\n",
       "    <tr>\n",
       "      <th>93426</th>\n",
       "      <td>250</td>\n",
       "      <td>250</td>\n",
       "      <td>250</td>\n",
       "    </tr>\n",
       "    <tr>\n",
       "      <th>93427</th>\n",
       "      <td>250</td>\n",
       "      <td>250</td>\n",
       "      <td>250</td>\n",
       "    </tr>\n",
       "    <tr>\n",
       "      <th>93429</th>\n",
       "      <td>250</td>\n",
       "      <td>250</td>\n",
       "      <td>250</td>\n",
       "    </tr>\n",
       "    <tr>\n",
       "      <th>93434</th>\n",
       "      <td>250</td>\n",
       "      <td>250</td>\n",
       "      <td>250</td>\n",
       "    </tr>\n",
       "    <tr>\n",
       "      <th>93436</th>\n",
       "      <td>250</td>\n",
       "      <td>250</td>\n",
       "      <td>250</td>\n",
       "    </tr>\n",
       "  </tbody>\n",
       "</table>\n",
       "<p>8567 rows × 3 columns</p>\n",
       "</div>"
      ],
      "text/plain": [
       "        date  PRC  RET\n",
       "PERMNO                \n",
       "10026    250  250  250\n",
       "10028    250  250  250\n",
       "10032    250  250  250\n",
       "10044    250  250  250\n",
       "10065    250  250  250\n",
       "...      ...  ...  ...\n",
       "93426    250  250  250\n",
       "93427    250  250  250\n",
       "93429    250  250  250\n",
       "93434    250  250  250\n",
       "93436    250  250  250\n",
       "\n",
       "[8567 rows x 3 columns]"
      ]
     },
     "execution_count": 7,
     "metadata": {},
     "output_type": "execute_result"
    }
   ],
   "source": [
    "df.groupby(\"PERMNO\").count()"
   ]
  },
  {
   "cell_type": "code",
   "execution_count": 44,
   "id": "746214cb-dc7e-453c-ae6f-e210b64551e3",
   "metadata": {},
   "outputs": [],
   "source": [
    "sampled_permno = df['PERMNO'].sample(100).tolist()"
   ]
  },
  {
   "cell_type": "code",
   "execution_count": 45,
   "id": "05660394-f149-4174-bddd-2ccd25b84a4b",
   "metadata": {},
   "outputs": [
    {
     "data": {
      "text/html": [
       "<div>\n",
       "<style scoped>\n",
       "    .dataframe tbody tr th:only-of-type {\n",
       "        vertical-align: middle;\n",
       "    }\n",
       "\n",
       "    .dataframe tbody tr th {\n",
       "        vertical-align: top;\n",
       "    }\n",
       "\n",
       "    .dataframe thead th {\n",
       "        text-align: right;\n",
       "    }\n",
       "</style>\n",
       "<table border=\"1\" class=\"dataframe\">\n",
       "  <thead>\n",
       "    <tr style=\"text-align: right;\">\n",
       "      <th>PERMNO</th>\n",
       "      <th>11174</th>\n",
       "      <th>11618</th>\n",
       "      <th>13138</th>\n",
       "      <th>13326</th>\n",
       "      <th>13361</th>\n",
       "      <th>13369</th>\n",
       "      <th>13739</th>\n",
       "      <th>13877</th>\n",
       "      <th>13947</th>\n",
       "      <th>14081</th>\n",
       "      <th>...</th>\n",
       "      <th>91313</th>\n",
       "      <th>91320</th>\n",
       "      <th>91758</th>\n",
       "      <th>91945</th>\n",
       "      <th>92170</th>\n",
       "      <th>92471</th>\n",
       "      <th>92933</th>\n",
       "      <th>93204</th>\n",
       "      <th>93419</th>\n",
       "      <th>93426</th>\n",
       "    </tr>\n",
       "    <tr>\n",
       "      <th>date</th>\n",
       "      <th></th>\n",
       "      <th></th>\n",
       "      <th></th>\n",
       "      <th></th>\n",
       "      <th></th>\n",
       "      <th></th>\n",
       "      <th></th>\n",
       "      <th></th>\n",
       "      <th></th>\n",
       "      <th></th>\n",
       "      <th></th>\n",
       "      <th></th>\n",
       "      <th></th>\n",
       "      <th></th>\n",
       "      <th></th>\n",
       "      <th></th>\n",
       "      <th></th>\n",
       "      <th></th>\n",
       "      <th></th>\n",
       "      <th></th>\n",
       "      <th></th>\n",
       "    </tr>\n",
       "  </thead>\n",
       "  <tbody>\n",
       "    <tr>\n",
       "      <th>2023-01-03</th>\n",
       "      <td>-0.031276</td>\n",
       "      <td>0.001691</td>\n",
       "      <td>0.000329</td>\n",
       "      <td>-0.022388</td>\n",
       "      <td>0.003940</td>\n",
       "      <td>-0.011194</td>\n",
       "      <td>0.041997</td>\n",
       "      <td>-0.030293</td>\n",
       "      <td>0.002890</td>\n",
       "      <td>-0.000856</td>\n",
       "      <td>...</td>\n",
       "      <td>0.000300</td>\n",
       "      <td>-0.013853</td>\n",
       "      <td>0.010788</td>\n",
       "      <td>0.004715</td>\n",
       "      <td>0.031537</td>\n",
       "      <td>-0.003272</td>\n",
       "      <td>-0.004839</td>\n",
       "      <td>-0.041488</td>\n",
       "      <td>-0.027749</td>\n",
       "      <td>0.011902</td>\n",
       "    </tr>\n",
       "    <tr>\n",
       "      <th>2023-01-04</th>\n",
       "      <td>0.003429</td>\n",
       "      <td>0.012025</td>\n",
       "      <td>0.000658</td>\n",
       "      <td>0.012344</td>\n",
       "      <td>0.011820</td>\n",
       "      <td>0.008113</td>\n",
       "      <td>0.018099</td>\n",
       "      <td>-0.012015</td>\n",
       "      <td>0.096542</td>\n",
       "      <td>0.014567</td>\n",
       "      <td>...</td>\n",
       "      <td>-0.003599</td>\n",
       "      <td>0.024634</td>\n",
       "      <td>-0.003557</td>\n",
       "      <td>0.015086</td>\n",
       "      <td>0.012102</td>\n",
       "      <td>0.001768</td>\n",
       "      <td>0.005155</td>\n",
       "      <td>0.050360</td>\n",
       "      <td>0.025370</td>\n",
       "      <td>-0.001278</td>\n",
       "    </tr>\n",
       "    <tr>\n",
       "      <th>2023-01-05</th>\n",
       "      <td>-0.008542</td>\n",
       "      <td>-0.034813</td>\n",
       "      <td>0.000657</td>\n",
       "      <td>-0.005134</td>\n",
       "      <td>-0.002670</td>\n",
       "      <td>0.006363</td>\n",
       "      <td>0.017179</td>\n",
       "      <td>-0.007470</td>\n",
       "      <td>0.035480</td>\n",
       "      <td>-0.008446</td>\n",
       "      <td>...</td>\n",
       "      <td>0.010235</td>\n",
       "      <td>0.005365</td>\n",
       "      <td>0.009282</td>\n",
       "      <td>-0.010898</td>\n",
       "      <td>0.000629</td>\n",
       "      <td>0.011344</td>\n",
       "      <td>-0.002161</td>\n",
       "      <td>-0.027793</td>\n",
       "      <td>-0.053608</td>\n",
       "      <td>0.012033</td>\n",
       "    </tr>\n",
       "    <tr>\n",
       "      <th>2023-01-06</th>\n",
       "      <td>0.043653</td>\n",
       "      <td>0.028294</td>\n",
       "      <td>0.001314</td>\n",
       "      <td>0.046767</td>\n",
       "      <td>0.016064</td>\n",
       "      <td>0.040543</td>\n",
       "      <td>0.021442</td>\n",
       "      <td>0.029232</td>\n",
       "      <td>-0.002538</td>\n",
       "      <td>0.024915</td>\n",
       "      <td>...</td>\n",
       "      <td>-0.021156</td>\n",
       "      <td>0.044862</td>\n",
       "      <td>-0.013088</td>\n",
       "      <td>0.027379</td>\n",
       "      <td>0.010063</td>\n",
       "      <td>0.030409</td>\n",
       "      <td>0.010416</td>\n",
       "      <td>0.032300</td>\n",
       "      <td>0.045752</td>\n",
       "      <td>0.010625</td>\n",
       "    </tr>\n",
       "    <tr>\n",
       "      <th>2023-01-09</th>\n",
       "      <td>-0.036874</td>\n",
       "      <td>0.007141</td>\n",
       "      <td>0.000000</td>\n",
       "      <td>0.013865</td>\n",
       "      <td>0.003623</td>\n",
       "      <td>-0.012332</td>\n",
       "      <td>0.017829</td>\n",
       "      <td>-0.008673</td>\n",
       "      <td>-0.040712</td>\n",
       "      <td>0.001454</td>\n",
       "      <td>...</td>\n",
       "      <td>0.003044</td>\n",
       "      <td>-0.001513</td>\n",
       "      <td>-0.006093</td>\n",
       "      <td>0.005525</td>\n",
       "      <td>0.009340</td>\n",
       "      <td>-0.005806</td>\n",
       "      <td>0.005587</td>\n",
       "      <td>-0.015045</td>\n",
       "      <td>-0.015625</td>\n",
       "      <td>0.013517</td>\n",
       "    </tr>\n",
       "  </tbody>\n",
       "</table>\n",
       "<p>5 rows × 100 columns</p>\n",
       "</div>"
      ],
      "text/plain": [
       "PERMNO         11174     11618     13138     13326     13361     13369  \\\n",
       "date                                                                     \n",
       "2023-01-03 -0.031276  0.001691  0.000329 -0.022388  0.003940 -0.011194   \n",
       "2023-01-04  0.003429  0.012025  0.000658  0.012344  0.011820  0.008113   \n",
       "2023-01-05 -0.008542 -0.034813  0.000657 -0.005134 -0.002670  0.006363   \n",
       "2023-01-06  0.043653  0.028294  0.001314  0.046767  0.016064  0.040543   \n",
       "2023-01-09 -0.036874  0.007141  0.000000  0.013865  0.003623 -0.012332   \n",
       "\n",
       "PERMNO         13739     13877     13947     14081  ...     91313     91320  \\\n",
       "date                                                ...                       \n",
       "2023-01-03  0.041997 -0.030293  0.002890 -0.000856  ...  0.000300 -0.013853   \n",
       "2023-01-04  0.018099 -0.012015  0.096542  0.014567  ... -0.003599  0.024634   \n",
       "2023-01-05  0.017179 -0.007470  0.035480 -0.008446  ...  0.010235  0.005365   \n",
       "2023-01-06  0.021442  0.029232 -0.002538  0.024915  ... -0.021156  0.044862   \n",
       "2023-01-09  0.017829 -0.008673 -0.040712  0.001454  ...  0.003044 -0.001513   \n",
       "\n",
       "PERMNO         91758     91945     92170     92471     92933     93204  \\\n",
       "date                                                                     \n",
       "2023-01-03  0.010788  0.004715  0.031537 -0.003272 -0.004839 -0.041488   \n",
       "2023-01-04 -0.003557  0.015086  0.012102  0.001768  0.005155  0.050360   \n",
       "2023-01-05  0.009282 -0.010898  0.000629  0.011344 -0.002161 -0.027793   \n",
       "2023-01-06 -0.013088  0.027379  0.010063  0.030409  0.010416  0.032300   \n",
       "2023-01-09 -0.006093  0.005525  0.009340 -0.005806  0.005587 -0.015045   \n",
       "\n",
       "PERMNO         93419     93426  \n",
       "date                            \n",
       "2023-01-03 -0.027749  0.011902  \n",
       "2023-01-04  0.025370 -0.001278  \n",
       "2023-01-05 -0.053608  0.012033  \n",
       "2023-01-06  0.045752  0.010625  \n",
       "2023-01-09 -0.015625  0.013517  \n",
       "\n",
       "[5 rows x 100 columns]"
      ]
     },
     "execution_count": 45,
     "metadata": {},
     "output_type": "execute_result"
    }
   ],
   "source": [
    "df_sample = df[df['PERMNO'].isin(sampled_permno)]\n",
    "df_pivot = df_sample.pivot(index=\"date\", columns=\"PERMNO\", values=\"RET\")\n",
    "df_pivot.head()"
   ]
  },
  {
   "cell_type": "code",
   "execution_count": 38,
   "id": "97ae02d7-917d-4f6a-826a-2c36264d89d5",
   "metadata": {},
   "outputs": [],
   "source": [
    "date_cutoff = pd.Timestamp(\"2023-10-01\")"
   ]
  },
  {
   "cell_type": "code",
   "execution_count": 46,
   "id": "27977c1f-9fd6-47ce-b125-75a1cb1bdcc4",
   "metadata": {},
   "outputs": [
    {
     "data": {
      "text/plain": [
       "187"
      ]
     },
     "execution_count": 46,
     "metadata": {},
     "output_type": "execute_result"
    }
   ],
   "source": [
    "train = df_pivot[:date_cutoff]\n",
    "train_span = len(train)\n",
    "train_span"
   ]
  },
  {
   "cell_type": "code",
   "execution_count": 47,
   "id": "2c3eb4e9-157a-4a25-bc7d-ae140ebf2795",
   "metadata": {},
   "outputs": [
    {
     "data": {
      "text/plain": [
       "63"
      ]
     },
     "execution_count": 47,
     "metadata": {},
     "output_type": "execute_result"
    }
   ],
   "source": [
    "test = df_pivot[date_cutoff:]\n",
    "test_span = len(test)\n",
    "test_span"
   ]
  },
  {
   "cell_type": "code",
   "execution_count": 48,
   "id": "dd9639ba-0185-4ffe-838f-bbd34125539d",
   "metadata": {},
   "outputs": [
    {
     "data": {
      "text/plain": [
       "DatetimeIndex(['2023-01-03', '2023-01-04', '2023-01-05', '2023-01-06',\n",
       "               '2023-01-09', '2023-01-10', '2023-01-11', '2023-01-12',\n",
       "               '2023-01-13', '2023-01-17',\n",
       "               ...\n",
       "               '2023-09-18', '2023-09-19', '2023-09-20', '2023-09-21',\n",
       "               '2023-09-22', '2023-09-25', '2023-09-26', '2023-09-27',\n",
       "               '2023-09-28', '2023-09-29'],\n",
       "              dtype='datetime64[ns]', name='date', length=187, freq=None)"
      ]
     },
     "execution_count": 48,
     "metadata": {},
     "output_type": "execute_result"
    }
   ],
   "source": [
    "train.index"
   ]
  },
  {
   "cell_type": "markdown",
   "id": "ddadb6b6-f6b3-44fa-9ffa-7d617cac58a1",
   "metadata": {},
   "source": [
    "Reference: https://lumos-datascience.medium.com/mean-variance-portfolio-optimization-using-python-8485fccb9f8b"
   ]
  },
  {
   "cell_type": "code",
   "execution_count": 49,
   "id": "62d46442-7bae-49f3-a5a5-9748c2ce9897",
   "metadata": {},
   "outputs": [],
   "source": [
    "from pypfopt import expected_returns, risk_models\n",
    "from pypfopt.cla import CLA\n",
    "from pypfopt.efficient_frontier import EfficientFrontier\n",
    "from pypfopt.expected_returns import ema_historical_return\n",
    "\n",
    "# from pypfopt.plotting import plot_efficient_frontier, plot_weights\n",
    "from pypfopt.risk_models import exp_cov\n",
    "\n",
    "mu = expected_returns.ema_historical_return(train, returns_data=True, span=train_span)\n",
    "Sigma = risk_models.exp_cov(train, returns_data=True, span=train_span)"
   ]
  },
  {
   "cell_type": "code",
   "execution_count": 51,
   "id": "2185a486-ed7d-4c07-9f5a-d75684a42e5e",
   "metadata": {},
   "outputs": [
    {
     "ename": "ArpackNoConvergence",
     "evalue": "ARPACK error -1: ARPACK error -1: No convergence (1001 iterations, 0/1 eigenvectors converged)\n\n\n        CVXPY note: This failure was encountered while trying to certify\n        that a matrix is positive semi-definite (see [1] for a definition).\n        In rare cases, this method fails for numerical reasons even when the matrix is\n        positive semi-definite. If you know that you're in that situation, you can\n        replace the matrix A by cvxpy.psd_wrap(A).\n\n        [1] https://en.wikipedia.org/wiki/Definite_matrix\n        ",
     "output_type": "error",
     "traceback": [
      "\u001b[0;31m---------------------------------------------------------------------------\u001b[0m",
      "\u001b[0;31mArpackNoConvergence\u001b[0m                       Traceback (most recent call last)",
      "File \u001b[0;32m/opt/conda/lib/python3.10/site-packages/cvxpy/utilities/linalg.py:113\u001b[0m, in \u001b[0;36mis_psd_within_tol\u001b[0;34m(A, tol)\u001b[0m\n\u001b[1;32m    112\u001b[0m \u001b[38;5;28;01mtry\u001b[39;00m:\n\u001b[0;32m--> 113\u001b[0m     ev \u001b[38;5;241m=\u001b[39m \u001b[43mSA_eigsh\u001b[49m\u001b[43m(\u001b[49m\u001b[38;5;241;43m-\u001b[39;49m\u001b[43mtol\u001b[49m\u001b[43m)\u001b[49m  \u001b[38;5;66;03m# might return np.NaN, or raise exception\u001b[39;00m\n\u001b[1;32m    114\u001b[0m \u001b[38;5;28;01mexcept\u001b[39;00m sparla\u001b[38;5;241m.\u001b[39mArpackNoConvergence \u001b[38;5;28;01mas\u001b[39;00m e:\n\u001b[1;32m    115\u001b[0m     \u001b[38;5;66;03m# This is a numerical issue. We can't certify that A is PSD.\u001b[39;00m\n",
      "File \u001b[0;32m/opt/conda/lib/python3.10/site-packages/cvxpy/utilities/linalg.py:97\u001b[0m, in \u001b[0;36mis_psd_within_tol.<locals>.SA_eigsh\u001b[0;34m(sigma)\u001b[0m\n\u001b[1;32m     95\u001b[0m v0 \u001b[38;5;241m=\u001b[39m g\u001b[38;5;241m.\u001b[39mnormal(loc\u001b[38;5;241m=\u001b[39m\u001b[38;5;241m0.0\u001b[39m, scale\u001b[38;5;241m=\u001b[39m\u001b[38;5;241m1.0\u001b[39m, size\u001b[38;5;241m=\u001b[39mn)\n\u001b[0;32m---> 97\u001b[0m \u001b[38;5;28;01mreturn\u001b[39;00m \u001b[43msparla\u001b[49m\u001b[38;5;241;43m.\u001b[39;49m\u001b[43meigsh\u001b[49m\u001b[43m(\u001b[49m\u001b[43mA\u001b[49m\u001b[43m,\u001b[49m\u001b[43m \u001b[49m\u001b[43mk\u001b[49m\u001b[38;5;241;43m=\u001b[39;49m\u001b[38;5;241;43m1\u001b[39;49m\u001b[43m,\u001b[49m\u001b[43m \u001b[49m\u001b[43msigma\u001b[49m\u001b[38;5;241;43m=\u001b[39;49m\u001b[43msigma\u001b[49m\u001b[43m,\u001b[49m\u001b[43m \u001b[49m\u001b[43mwhich\u001b[49m\u001b[38;5;241;43m=\u001b[39;49m\u001b[38;5;124;43m'\u001b[39;49m\u001b[38;5;124;43mSA\u001b[39;49m\u001b[38;5;124;43m'\u001b[39;49m\u001b[43m,\u001b[49m\u001b[43m \u001b[49m\u001b[43mv0\u001b[49m\u001b[38;5;241;43m=\u001b[39;49m\u001b[43mv0\u001b[49m\u001b[43m,\u001b[49m\n\u001b[1;32m     98\u001b[0m \u001b[43m                    \u001b[49m\u001b[43mreturn_eigenvectors\u001b[49m\u001b[38;5;241;43m=\u001b[39;49m\u001b[38;5;28;43;01mFalse\u001b[39;49;00m\u001b[43m)\u001b[49m\n",
      "File \u001b[0;32m/opt/conda/lib/python3.10/site-packages/scipy/sparse/linalg/_eigen/arpack/arpack.py:1697\u001b[0m, in \u001b[0;36meigsh\u001b[0;34m(A, k, M, sigma, which, v0, ncv, maxiter, tol, return_eigenvectors, Minv, OPinv, mode)\u001b[0m\n\u001b[1;32m   1696\u001b[0m \u001b[38;5;28;01mwhile\u001b[39;00m \u001b[38;5;129;01mnot\u001b[39;00m params\u001b[38;5;241m.\u001b[39mconverged:\n\u001b[0;32m-> 1697\u001b[0m     \u001b[43mparams\u001b[49m\u001b[38;5;241;43m.\u001b[39;49m\u001b[43miterate\u001b[49m\u001b[43m(\u001b[49m\u001b[43m)\u001b[49m\n\u001b[1;32m   1699\u001b[0m \u001b[38;5;28;01mreturn\u001b[39;00m params\u001b[38;5;241m.\u001b[39mextract(return_eigenvectors)\n",
      "File \u001b[0;32m/opt/conda/lib/python3.10/site-packages/scipy/sparse/linalg/_eigen/arpack/arpack.py:571\u001b[0m, in \u001b[0;36m_SymmetricArpackParams.iterate\u001b[0;34m(self)\u001b[0m\n\u001b[1;32m    570\u001b[0m \u001b[38;5;28;01melif\u001b[39;00m \u001b[38;5;28mself\u001b[39m\u001b[38;5;241m.\u001b[39minfo \u001b[38;5;241m==\u001b[39m \u001b[38;5;241m1\u001b[39m:\n\u001b[0;32m--> 571\u001b[0m     \u001b[38;5;28;43mself\u001b[39;49m\u001b[38;5;241;43m.\u001b[39;49m\u001b[43m_raise_no_convergence\u001b[49m\u001b[43m(\u001b[49m\u001b[43m)\u001b[49m\n\u001b[1;32m    572\u001b[0m \u001b[38;5;28;01melse\u001b[39;00m:\n",
      "File \u001b[0;32m/opt/conda/lib/python3.10/site-packages/scipy/sparse/linalg/_eigen/arpack/arpack.py:377\u001b[0m, in \u001b[0;36m_ArpackParams._raise_no_convergence\u001b[0;34m(self)\u001b[0m\n\u001b[1;32m    376\u001b[0m     k_ok \u001b[38;5;241m=\u001b[39m \u001b[38;5;241m0\u001b[39m\n\u001b[0;32m--> 377\u001b[0m \u001b[38;5;28;01mraise\u001b[39;00m ArpackNoConvergence(msg \u001b[38;5;241m%\u001b[39m (num_iter, k_ok, \u001b[38;5;28mself\u001b[39m\u001b[38;5;241m.\u001b[39mk), ev, vec)\n",
      "\u001b[0;31mArpackNoConvergence\u001b[0m: ARPACK error -1: No convergence (1001 iterations, 0/1 eigenvectors converged)",
      "\nDuring handling of the above exception, another exception occurred:\n",
      "\u001b[0;31mArpackNoConvergence\u001b[0m                       Traceback (most recent call last)",
      "Cell \u001b[0;32mIn[51], line 9\u001b[0m\n\u001b[1;32m      1\u001b[0m \u001b[38;5;66;03m# ret_ef = np.arange(0, 0.879823, 0.01)\u001b[39;00m\n\u001b[1;32m      2\u001b[0m \u001b[38;5;66;03m# vol_ef = []\u001b[39;00m\n\u001b[1;32m      3\u001b[0m \u001b[38;5;66;03m# for i in np.arange(0, 0.879823, 0.01):\u001b[39;00m\n\u001b[1;32m      4\u001b[0m \u001b[38;5;66;03m#     ef = EfficientFrontier(mu, Sigma)\u001b[39;00m\n\u001b[1;32m      5\u001b[0m \u001b[38;5;66;03m#     ef.efficient_return(i)\u001b[39;00m\n\u001b[1;32m      6\u001b[0m \u001b[38;5;66;03m#     vol_ef.append(ef.portfolio_performance()[1])\u001b[39;00m\n\u001b[1;32m      8\u001b[0m ef \u001b[38;5;241m=\u001b[39m EfficientFrontier(mu, Sigma)\n\u001b[0;32m----> 9\u001b[0m \u001b[43mef\u001b[49m\u001b[38;5;241;43m.\u001b[39;49m\u001b[43mmin_volatility\u001b[49m\u001b[43m(\u001b[49m\u001b[43m)\u001b[49m\n\u001b[1;32m     10\u001b[0m min_vol_ret \u001b[38;5;241m=\u001b[39m ef\u001b[38;5;241m.\u001b[39mportfolio_performance()[\u001b[38;5;241m0\u001b[39m]\n\u001b[1;32m     11\u001b[0m min_vol_vol \u001b[38;5;241m=\u001b[39m ef\u001b[38;5;241m.\u001b[39mportfolio_performance()[\u001b[38;5;241m1\u001b[39m]\n",
      "File \u001b[0;32m/opt/conda/lib/python3.10/site-packages/pypfopt/efficient_frontier/efficient_frontier.py:200\u001b[0m, in \u001b[0;36mEfficientFrontier.min_volatility\u001b[0;34m(self)\u001b[0m\n\u001b[1;32m    197\u001b[0m     \u001b[38;5;28mself\u001b[39m\u001b[38;5;241m.\u001b[39m_objective \u001b[38;5;241m+\u001b[39m\u001b[38;5;241m=\u001b[39m obj\n\u001b[1;32m    199\u001b[0m \u001b[38;5;28mself\u001b[39m\u001b[38;5;241m.\u001b[39madd_constraint(\u001b[38;5;28;01mlambda\u001b[39;00m w: cp\u001b[38;5;241m.\u001b[39msum(w) \u001b[38;5;241m==\u001b[39m \u001b[38;5;241m1\u001b[39m)\n\u001b[0;32m--> 200\u001b[0m \u001b[38;5;28;01mreturn\u001b[39;00m \u001b[38;5;28;43mself\u001b[39;49m\u001b[38;5;241;43m.\u001b[39;49m\u001b[43m_solve_cvxpy_opt_problem\u001b[49m\u001b[43m(\u001b[49m\u001b[43m)\u001b[49m\n",
      "File \u001b[0;32m/opt/conda/lib/python3.10/site-packages/pypfopt/base_optimizer.py:305\u001b[0m, in \u001b[0;36mBaseConvexOptimizer._solve_cvxpy_opt_problem\u001b[0;34m(self)\u001b[0m\n\u001b[1;32m    300\u001b[0m         \u001b[38;5;28;01mif\u001b[39;00m \u001b[38;5;129;01mnot\u001b[39;00m constr_ids \u001b[38;5;241m==\u001b[39m \u001b[38;5;28mself\u001b[39m\u001b[38;5;241m.\u001b[39m_initial_constraint_ids:\n\u001b[1;32m    301\u001b[0m             \u001b[38;5;28;01mraise\u001b[39;00m exceptions\u001b[38;5;241m.\u001b[39mInstantiationError(\n\u001b[1;32m    302\u001b[0m                 \u001b[38;5;124m\"\u001b[39m\u001b[38;5;124mThe constraints were changed after the initial optimization. \u001b[39m\u001b[38;5;124m\"\u001b[39m\n\u001b[1;32m    303\u001b[0m                 \u001b[38;5;124m\"\u001b[39m\u001b[38;5;124mPlease create a new instance instead.\u001b[39m\u001b[38;5;124m\"\u001b[39m\n\u001b[1;32m    304\u001b[0m             )\n\u001b[0;32m--> 305\u001b[0m     \u001b[38;5;28;43mself\u001b[39;49m\u001b[38;5;241;43m.\u001b[39;49m\u001b[43m_opt\u001b[49m\u001b[38;5;241;43m.\u001b[39;49m\u001b[43msolve\u001b[49m\u001b[43m(\u001b[49m\n\u001b[1;32m    306\u001b[0m \u001b[43m        \u001b[49m\u001b[43msolver\u001b[49m\u001b[38;5;241;43m=\u001b[39;49m\u001b[38;5;28;43mself\u001b[39;49m\u001b[38;5;241;43m.\u001b[39;49m\u001b[43m_solver\u001b[49m\u001b[43m,\u001b[49m\u001b[43m \u001b[49m\u001b[43mverbose\u001b[49m\u001b[38;5;241;43m=\u001b[39;49m\u001b[38;5;28;43mself\u001b[39;49m\u001b[38;5;241;43m.\u001b[39;49m\u001b[43m_verbose\u001b[49m\u001b[43m,\u001b[49m\u001b[43m \u001b[49m\u001b[38;5;241;43m*\u001b[39;49m\u001b[38;5;241;43m*\u001b[39;49m\u001b[38;5;28;43mself\u001b[39;49m\u001b[38;5;241;43m.\u001b[39;49m\u001b[43m_solver_options\u001b[49m\n\u001b[1;32m    307\u001b[0m \u001b[43m    \u001b[49m\u001b[43m)\u001b[49m\n\u001b[1;32m    309\u001b[0m \u001b[38;5;28;01mexcept\u001b[39;00m (\u001b[38;5;167;01mTypeError\u001b[39;00m, cp\u001b[38;5;241m.\u001b[39mDCPError) \u001b[38;5;28;01mas\u001b[39;00m e:\n\u001b[1;32m    310\u001b[0m     \u001b[38;5;28;01mraise\u001b[39;00m exceptions\u001b[38;5;241m.\u001b[39mOptimizationError \u001b[38;5;28;01mfrom\u001b[39;00m \u001b[38;5;21;01me\u001b[39;00m\n",
      "File \u001b[0;32m/opt/conda/lib/python3.10/site-packages/cvxpy/problems/problem.py:503\u001b[0m, in \u001b[0;36mProblem.solve\u001b[0;34m(self, *args, **kwargs)\u001b[0m\n\u001b[1;32m    501\u001b[0m \u001b[38;5;28;01melse\u001b[39;00m:\n\u001b[1;32m    502\u001b[0m     solve_func \u001b[38;5;241m=\u001b[39m Problem\u001b[38;5;241m.\u001b[39m_solve\n\u001b[0;32m--> 503\u001b[0m \u001b[38;5;28;01mreturn\u001b[39;00m \u001b[43msolve_func\u001b[49m\u001b[43m(\u001b[49m\u001b[38;5;28;43mself\u001b[39;49m\u001b[43m,\u001b[49m\u001b[43m \u001b[49m\u001b[38;5;241;43m*\u001b[39;49m\u001b[43margs\u001b[49m\u001b[43m,\u001b[49m\u001b[43m \u001b[49m\u001b[38;5;241;43m*\u001b[39;49m\u001b[38;5;241;43m*\u001b[39;49m\u001b[43mkwargs\u001b[49m\u001b[43m)\u001b[49m\n",
      "File \u001b[0;32m/opt/conda/lib/python3.10/site-packages/cvxpy/problems/problem.py:1073\u001b[0m, in \u001b[0;36mProblem._solve\u001b[0;34m(self, solver, warm_start, verbose, gp, qcp, requires_grad, enforce_dpp, ignore_dpp, canon_backend, **kwargs)\u001b[0m\n\u001b[1;32m   1070\u001b[0m         \u001b[38;5;28mself\u001b[39m\u001b[38;5;241m.\u001b[39munpack(chain\u001b[38;5;241m.\u001b[39mretrieve(soln))\n\u001b[1;32m   1071\u001b[0m         \u001b[38;5;28;01mreturn\u001b[39;00m \u001b[38;5;28mself\u001b[39m\u001b[38;5;241m.\u001b[39mvalue\n\u001b[0;32m-> 1073\u001b[0m data, solving_chain, inverse_data \u001b[38;5;241m=\u001b[39m \u001b[38;5;28;43mself\u001b[39;49m\u001b[38;5;241;43m.\u001b[39;49m\u001b[43mget_problem_data\u001b[49m\u001b[43m(\u001b[49m\n\u001b[1;32m   1074\u001b[0m \u001b[43m    \u001b[49m\u001b[43msolver\u001b[49m\u001b[43m,\u001b[49m\u001b[43m \u001b[49m\u001b[43mgp\u001b[49m\u001b[43m,\u001b[49m\u001b[43m \u001b[49m\u001b[43menforce_dpp\u001b[49m\u001b[43m,\u001b[49m\u001b[43m \u001b[49m\u001b[43mignore_dpp\u001b[49m\u001b[43m,\u001b[49m\u001b[43m \u001b[49m\u001b[43mverbose\u001b[49m\u001b[43m,\u001b[49m\u001b[43m \u001b[49m\u001b[43mcanon_backend\u001b[49m\u001b[43m,\u001b[49m\u001b[43m \u001b[49m\u001b[43mkwargs\u001b[49m\n\u001b[1;32m   1075\u001b[0m \u001b[43m\u001b[49m\u001b[43m)\u001b[49m\n\u001b[1;32m   1077\u001b[0m \u001b[38;5;28;01mif\u001b[39;00m verbose:\n\u001b[1;32m   1078\u001b[0m     \u001b[38;5;28mprint\u001b[39m(_NUM_SOLVER_STR)\n",
      "File \u001b[0;32m/opt/conda/lib/python3.10/site-packages/cvxpy/problems/problem.py:646\u001b[0m, in \u001b[0;36mProblem.get_problem_data\u001b[0;34m(self, solver, gp, enforce_dpp, ignore_dpp, verbose, canon_backend, solver_opts)\u001b[0m\n\u001b[1;32m    644\u001b[0m \u001b[38;5;28;01mif\u001b[39;00m key \u001b[38;5;241m!=\u001b[39m \u001b[38;5;28mself\u001b[39m\u001b[38;5;241m.\u001b[39m_cache\u001b[38;5;241m.\u001b[39mkey:\n\u001b[1;32m    645\u001b[0m     \u001b[38;5;28mself\u001b[39m\u001b[38;5;241m.\u001b[39m_cache\u001b[38;5;241m.\u001b[39minvalidate()\n\u001b[0;32m--> 646\u001b[0m     solving_chain \u001b[38;5;241m=\u001b[39m \u001b[38;5;28;43mself\u001b[39;49m\u001b[38;5;241;43m.\u001b[39;49m\u001b[43m_construct_chain\u001b[49m\u001b[43m(\u001b[49m\n\u001b[1;32m    647\u001b[0m \u001b[43m        \u001b[49m\u001b[43msolver\u001b[49m\u001b[38;5;241;43m=\u001b[39;49m\u001b[43msolver\u001b[49m\u001b[43m,\u001b[49m\u001b[43m \u001b[49m\u001b[43mgp\u001b[49m\u001b[38;5;241;43m=\u001b[39;49m\u001b[43mgp\u001b[49m\u001b[43m,\u001b[49m\n\u001b[1;32m    648\u001b[0m \u001b[43m        \u001b[49m\u001b[43menforce_dpp\u001b[49m\u001b[38;5;241;43m=\u001b[39;49m\u001b[43menforce_dpp\u001b[49m\u001b[43m,\u001b[49m\n\u001b[1;32m    649\u001b[0m \u001b[43m        \u001b[49m\u001b[43mignore_dpp\u001b[49m\u001b[38;5;241;43m=\u001b[39;49m\u001b[43mignore_dpp\u001b[49m\u001b[43m,\u001b[49m\n\u001b[1;32m    650\u001b[0m \u001b[43m        \u001b[49m\u001b[43mcanon_backend\u001b[49m\u001b[38;5;241;43m=\u001b[39;49m\u001b[43mcanon_backend\u001b[49m\u001b[43m,\u001b[49m\n\u001b[1;32m    651\u001b[0m \u001b[43m        \u001b[49m\u001b[43msolver_opts\u001b[49m\u001b[38;5;241;43m=\u001b[39;49m\u001b[43msolver_opts\u001b[49m\u001b[43m)\u001b[49m\n\u001b[1;32m    652\u001b[0m     \u001b[38;5;28mself\u001b[39m\u001b[38;5;241m.\u001b[39m_cache\u001b[38;5;241m.\u001b[39mkey \u001b[38;5;241m=\u001b[39m key\n\u001b[1;32m    653\u001b[0m     \u001b[38;5;28mself\u001b[39m\u001b[38;5;241m.\u001b[39m_cache\u001b[38;5;241m.\u001b[39msolving_chain \u001b[38;5;241m=\u001b[39m solving_chain\n",
      "File \u001b[0;32m/opt/conda/lib/python3.10/site-packages/cvxpy/problems/problem.py:898\u001b[0m, in \u001b[0;36mProblem._construct_chain\u001b[0;34m(self, solver, gp, enforce_dpp, ignore_dpp, canon_backend, solver_opts)\u001b[0m\n\u001b[1;32m    896\u001b[0m candidate_solvers \u001b[38;5;241m=\u001b[39m \u001b[38;5;28mself\u001b[39m\u001b[38;5;241m.\u001b[39m_find_candidate_solvers(solver\u001b[38;5;241m=\u001b[39msolver, gp\u001b[38;5;241m=\u001b[39mgp)\n\u001b[1;32m    897\u001b[0m \u001b[38;5;28mself\u001b[39m\u001b[38;5;241m.\u001b[39m_sort_candidate_solvers(candidate_solvers)\n\u001b[0;32m--> 898\u001b[0m \u001b[38;5;28;01mreturn\u001b[39;00m \u001b[43mconstruct_solving_chain\u001b[49m\u001b[43m(\u001b[49m\u001b[38;5;28;43mself\u001b[39;49m\u001b[43m,\u001b[49m\u001b[43m \u001b[49m\u001b[43mcandidate_solvers\u001b[49m\u001b[43m,\u001b[49m\u001b[43m \u001b[49m\u001b[43mgp\u001b[49m\u001b[38;5;241;43m=\u001b[39;49m\u001b[43mgp\u001b[49m\u001b[43m,\u001b[49m\n\u001b[1;32m    899\u001b[0m \u001b[43m                               \u001b[49m\u001b[43menforce_dpp\u001b[49m\u001b[38;5;241;43m=\u001b[39;49m\u001b[43menforce_dpp\u001b[49m\u001b[43m,\u001b[49m\n\u001b[1;32m    900\u001b[0m \u001b[43m                               \u001b[49m\u001b[43mignore_dpp\u001b[49m\u001b[38;5;241;43m=\u001b[39;49m\u001b[43mignore_dpp\u001b[49m\u001b[43m,\u001b[49m\n\u001b[1;32m    901\u001b[0m \u001b[43m                               \u001b[49m\u001b[43mcanon_backend\u001b[49m\u001b[38;5;241;43m=\u001b[39;49m\u001b[43mcanon_backend\u001b[49m\u001b[43m,\u001b[49m\n\u001b[1;32m    902\u001b[0m \u001b[43m                               \u001b[49m\u001b[43msolver_opts\u001b[49m\u001b[38;5;241;43m=\u001b[39;49m\u001b[43msolver_opts\u001b[49m\u001b[43m,\u001b[49m\n\u001b[1;32m    903\u001b[0m \u001b[43m                               \u001b[49m\u001b[43mspecified_solver\u001b[49m\u001b[38;5;241;43m=\u001b[39;49m\u001b[43msolver\u001b[49m\u001b[43m)\u001b[49m\n",
      "File \u001b[0;32m/opt/conda/lib/python3.10/site-packages/cvxpy/reductions/solvers/solving_chain.py:226\u001b[0m, in \u001b[0;36mconstruct_solving_chain\u001b[0;34m(problem, candidates, gp, enforce_dpp, ignore_dpp, canon_backend, solver_opts, specified_solver)\u001b[0m\n\u001b[1;32m    224\u001b[0m \u001b[38;5;28;01mif\u001b[39;00m \u001b[38;5;28mlen\u001b[39m(problem\u001b[38;5;241m.\u001b[39mvariables()) \u001b[38;5;241m==\u001b[39m \u001b[38;5;241m0\u001b[39m:\n\u001b[1;32m    225\u001b[0m     \u001b[38;5;28;01mreturn\u001b[39;00m SolvingChain(reductions\u001b[38;5;241m=\u001b[39m[ConstantSolver()])\n\u001b[0;32m--> 226\u001b[0m reductions \u001b[38;5;241m=\u001b[39m \u001b[43m_reductions_for_problem_class\u001b[49m\u001b[43m(\u001b[49m\u001b[43mproblem\u001b[49m\u001b[43m,\u001b[49m\u001b[43m \u001b[49m\u001b[43mcandidates\u001b[49m\u001b[43m,\u001b[49m\u001b[43m \u001b[49m\u001b[43mgp\u001b[49m\u001b[43m,\u001b[49m\u001b[43m \u001b[49m\u001b[43msolver_opts\u001b[49m\u001b[43m)\u001b[49m\n\u001b[1;32m    228\u001b[0m \u001b[38;5;66;03m# Process DPP status of the problem.\u001b[39;00m\n\u001b[1;32m    229\u001b[0m dpp_context \u001b[38;5;241m=\u001b[39m \u001b[38;5;124m'\u001b[39m\u001b[38;5;124mdcp\u001b[39m\u001b[38;5;124m'\u001b[39m \u001b[38;5;28;01mif\u001b[39;00m \u001b[38;5;129;01mnot\u001b[39;00m gp \u001b[38;5;28;01melse\u001b[39;00m \u001b[38;5;124m'\u001b[39m\u001b[38;5;124mdgp\u001b[39m\u001b[38;5;124m'\u001b[39m\n",
      "File \u001b[0;32m/opt/conda/lib/python3.10/site-packages/cvxpy/reductions/solvers/solving_chain.py:133\u001b[0m, in \u001b[0;36m_reductions_for_problem_class\u001b[0;34m(problem, candidates, gp, solver_opts)\u001b[0m\n\u001b[1;32m    130\u001b[0m \u001b[38;5;28;01mif\u001b[39;00m gp:\n\u001b[1;32m    131\u001b[0m     reductions \u001b[38;5;241m+\u001b[39m\u001b[38;5;241m=\u001b[39m [Dgp2Dcp()]\n\u001b[0;32m--> 133\u001b[0m \u001b[38;5;28;01mif\u001b[39;00m \u001b[38;5;129;01mnot\u001b[39;00m gp \u001b[38;5;129;01mand\u001b[39;00m \u001b[38;5;129;01mnot\u001b[39;00m \u001b[43mproblem\u001b[49m\u001b[38;5;241;43m.\u001b[39;49m\u001b[43mis_dcp\u001b[49m\u001b[43m(\u001b[49m\u001b[43m)\u001b[49m:\n\u001b[1;32m    134\u001b[0m     append \u001b[38;5;241m=\u001b[39m build_non_disciplined_error_msg(problem, \u001b[38;5;124m'\u001b[39m\u001b[38;5;124mDCP\u001b[39m\u001b[38;5;124m'\u001b[39m)\n\u001b[1;32m    135\u001b[0m     \u001b[38;5;28;01mif\u001b[39;00m problem\u001b[38;5;241m.\u001b[39mis_dgp():\n",
      "File \u001b[0;32m/opt/conda/lib/python3.10/site-packages/cvxpy/utilities/performance_utils.py:73\u001b[0m, in \u001b[0;36mcompute_once.<locals>._compute_once\u001b[0;34m(self, *args, **kwargs)\u001b[0m\n\u001b[1;32m     71\u001b[0m \u001b[38;5;28;01mif\u001b[39;00m key \u001b[38;5;129;01min\u001b[39;00m cache:\n\u001b[1;32m     72\u001b[0m     \u001b[38;5;28;01mreturn\u001b[39;00m cache[key]\n\u001b[0;32m---> 73\u001b[0m result \u001b[38;5;241m=\u001b[39m \u001b[43mfunc\u001b[49m\u001b[43m(\u001b[49m\u001b[38;5;28;43mself\u001b[39;49m\u001b[43m,\u001b[49m\u001b[43m \u001b[49m\u001b[38;5;241;43m*\u001b[39;49m\u001b[43margs\u001b[49m\u001b[43m,\u001b[49m\u001b[43m \u001b[49m\u001b[38;5;241;43m*\u001b[39;49m\u001b[38;5;241;43m*\u001b[39;49m\u001b[43mkwargs\u001b[49m\u001b[43m)\u001b[49m\n\u001b[1;32m     74\u001b[0m cache[key] \u001b[38;5;241m=\u001b[39m result\n\u001b[1;32m     75\u001b[0m \u001b[38;5;28;01mreturn\u001b[39;00m result\n",
      "File \u001b[0;32m/opt/conda/lib/python3.10/site-packages/cvxpy/problems/problem.py:257\u001b[0m, in \u001b[0;36mProblem.is_dcp\u001b[0;34m(self, dpp)\u001b[0m\n\u001b[1;32m    237\u001b[0m \u001b[38;5;129m@perf\u001b[39m\u001b[38;5;241m.\u001b[39mcompute_once\n\u001b[1;32m    238\u001b[0m \u001b[38;5;28;01mdef\u001b[39;00m \u001b[38;5;21mis_dcp\u001b[39m(\u001b[38;5;28mself\u001b[39m, dpp: \u001b[38;5;28mbool\u001b[39m \u001b[38;5;241m=\u001b[39m \u001b[38;5;28;01mFalse\u001b[39;00m) \u001b[38;5;241m-\u001b[39m\u001b[38;5;241m>\u001b[39m \u001b[38;5;28mbool\u001b[39m:\n\u001b[1;32m    239\u001b[0m \u001b[38;5;250m    \u001b[39m\u001b[38;5;124;03m\"\"\"Does the problem satisfy DCP rules?\u001b[39;00m\n\u001b[1;32m    240\u001b[0m \n\u001b[1;32m    241\u001b[0m \u001b[38;5;124;03m    Arguments\u001b[39;00m\n\u001b[0;32m   (...)\u001b[0m\n\u001b[1;32m    255\u001b[0m \u001b[38;5;124;03m        True if the Expression is DCP, False otherwise.\u001b[39;00m\n\u001b[1;32m    256\u001b[0m \u001b[38;5;124;03m    \"\"\"\u001b[39;00m\n\u001b[0;32m--> 257\u001b[0m     \u001b[38;5;28;01mreturn\u001b[39;00m \u001b[38;5;28;43mall\u001b[39;49m\u001b[43m(\u001b[49m\n\u001b[1;32m    258\u001b[0m \u001b[43m      \u001b[49m\u001b[43mexpr\u001b[49m\u001b[38;5;241;43m.\u001b[39;49m\u001b[43mis_dcp\u001b[49m\u001b[43m(\u001b[49m\u001b[43mdpp\u001b[49m\u001b[43m)\u001b[49m\u001b[43m \u001b[49m\u001b[38;5;28;43;01mfor\u001b[39;49;00m\u001b[43m \u001b[49m\u001b[43mexpr\u001b[49m\u001b[43m \u001b[49m\u001b[38;5;129;43;01min\u001b[39;49;00m\u001b[43m \u001b[49m\u001b[38;5;28;43mself\u001b[39;49m\u001b[38;5;241;43m.\u001b[39;49m\u001b[43mconstraints\u001b[49m\u001b[43m \u001b[49m\u001b[38;5;241;43m+\u001b[39;49m\u001b[43m \u001b[49m\u001b[43m[\u001b[49m\u001b[38;5;28;43mself\u001b[39;49m\u001b[38;5;241;43m.\u001b[39;49m\u001b[43mobjective\u001b[49m\u001b[43m]\u001b[49m\u001b[43m)\u001b[49m\n",
      "File \u001b[0;32m/opt/conda/lib/python3.10/site-packages/cvxpy/problems/problem.py:258\u001b[0m, in \u001b[0;36m<genexpr>\u001b[0;34m(.0)\u001b[0m\n\u001b[1;32m    237\u001b[0m \u001b[38;5;129m@perf\u001b[39m\u001b[38;5;241m.\u001b[39mcompute_once\n\u001b[1;32m    238\u001b[0m \u001b[38;5;28;01mdef\u001b[39;00m \u001b[38;5;21mis_dcp\u001b[39m(\u001b[38;5;28mself\u001b[39m, dpp: \u001b[38;5;28mbool\u001b[39m \u001b[38;5;241m=\u001b[39m \u001b[38;5;28;01mFalse\u001b[39;00m) \u001b[38;5;241m-\u001b[39m\u001b[38;5;241m>\u001b[39m \u001b[38;5;28mbool\u001b[39m:\n\u001b[1;32m    239\u001b[0m \u001b[38;5;250m    \u001b[39m\u001b[38;5;124;03m\"\"\"Does the problem satisfy DCP rules?\u001b[39;00m\n\u001b[1;32m    240\u001b[0m \n\u001b[1;32m    241\u001b[0m \u001b[38;5;124;03m    Arguments\u001b[39;00m\n\u001b[0;32m   (...)\u001b[0m\n\u001b[1;32m    255\u001b[0m \u001b[38;5;124;03m        True if the Expression is DCP, False otherwise.\u001b[39;00m\n\u001b[1;32m    256\u001b[0m \u001b[38;5;124;03m    \"\"\"\u001b[39;00m\n\u001b[1;32m    257\u001b[0m     \u001b[38;5;28;01mreturn\u001b[39;00m \u001b[38;5;28mall\u001b[39m(\n\u001b[0;32m--> 258\u001b[0m       \u001b[43mexpr\u001b[49m\u001b[38;5;241;43m.\u001b[39;49m\u001b[43mis_dcp\u001b[49m\u001b[43m(\u001b[49m\u001b[43mdpp\u001b[49m\u001b[43m)\u001b[49m \u001b[38;5;28;01mfor\u001b[39;00m expr \u001b[38;5;129;01min\u001b[39;00m \u001b[38;5;28mself\u001b[39m\u001b[38;5;241m.\u001b[39mconstraints \u001b[38;5;241m+\u001b[39m [\u001b[38;5;28mself\u001b[39m\u001b[38;5;241m.\u001b[39mobjective])\n",
      "File \u001b[0;32m/opt/conda/lib/python3.10/site-packages/cvxpy/problems/objective.py:153\u001b[0m, in \u001b[0;36mMinimize.is_dcp\u001b[0;34m(self, dpp)\u001b[0m\n\u001b[1;32m    151\u001b[0m     \u001b[38;5;28;01mwith\u001b[39;00m scopes\u001b[38;5;241m.\u001b[39mdpp_scope():\n\u001b[1;32m    152\u001b[0m         \u001b[38;5;28;01mreturn\u001b[39;00m \u001b[38;5;28mself\u001b[39m\u001b[38;5;241m.\u001b[39margs[\u001b[38;5;241m0\u001b[39m]\u001b[38;5;241m.\u001b[39mis_convex()\n\u001b[0;32m--> 153\u001b[0m \u001b[38;5;28;01mreturn\u001b[39;00m \u001b[38;5;28;43mself\u001b[39;49m\u001b[38;5;241;43m.\u001b[39;49m\u001b[43margs\u001b[49m\u001b[43m[\u001b[49m\u001b[38;5;241;43m0\u001b[39;49m\u001b[43m]\u001b[49m\u001b[38;5;241;43m.\u001b[39;49m\u001b[43mis_convex\u001b[49m\u001b[43m(\u001b[49m\u001b[43m)\u001b[49m\n",
      "File \u001b[0;32m/opt/conda/lib/python3.10/site-packages/cvxpy/utilities/performance_utils.py:73\u001b[0m, in \u001b[0;36mcompute_once.<locals>._compute_once\u001b[0;34m(self, *args, **kwargs)\u001b[0m\n\u001b[1;32m     71\u001b[0m \u001b[38;5;28;01mif\u001b[39;00m key \u001b[38;5;129;01min\u001b[39;00m cache:\n\u001b[1;32m     72\u001b[0m     \u001b[38;5;28;01mreturn\u001b[39;00m cache[key]\n\u001b[0;32m---> 73\u001b[0m result \u001b[38;5;241m=\u001b[39m \u001b[43mfunc\u001b[49m\u001b[43m(\u001b[49m\u001b[38;5;28;43mself\u001b[39;49m\u001b[43m,\u001b[49m\u001b[43m \u001b[49m\u001b[38;5;241;43m*\u001b[39;49m\u001b[43margs\u001b[49m\u001b[43m,\u001b[49m\u001b[43m \u001b[49m\u001b[38;5;241;43m*\u001b[39;49m\u001b[38;5;241;43m*\u001b[39;49m\u001b[43mkwargs\u001b[49m\u001b[43m)\u001b[49m\n\u001b[1;32m     74\u001b[0m cache[key] \u001b[38;5;241m=\u001b[39m result\n\u001b[1;32m     75\u001b[0m \u001b[38;5;28;01mreturn\u001b[39;00m result\n",
      "File \u001b[0;32m/opt/conda/lib/python3.10/site-packages/cvxpy/atoms/atom.py:176\u001b[0m, in \u001b[0;36mAtom.is_convex\u001b[0;34m(self)\u001b[0m\n\u001b[1;32m    174\u001b[0m \u001b[38;5;28;01mif\u001b[39;00m \u001b[38;5;28mself\u001b[39m\u001b[38;5;241m.\u001b[39mis_constant():\n\u001b[1;32m    175\u001b[0m     \u001b[38;5;28;01mreturn\u001b[39;00m \u001b[38;5;28;01mTrue\u001b[39;00m\n\u001b[0;32m--> 176\u001b[0m \u001b[38;5;28;01melif\u001b[39;00m \u001b[38;5;28;43mself\u001b[39;49m\u001b[38;5;241;43m.\u001b[39;49m\u001b[43mis_atom_convex\u001b[49m\u001b[43m(\u001b[49m\u001b[43m)\u001b[49m:\n\u001b[1;32m    177\u001b[0m     \u001b[38;5;28;01mfor\u001b[39;00m idx, arg \u001b[38;5;129;01min\u001b[39;00m \u001b[38;5;28menumerate\u001b[39m(\u001b[38;5;28mself\u001b[39m\u001b[38;5;241m.\u001b[39margs):\n\u001b[1;32m    178\u001b[0m         \u001b[38;5;28;01mif\u001b[39;00m \u001b[38;5;129;01mnot\u001b[39;00m (arg\u001b[38;5;241m.\u001b[39mis_affine() \u001b[38;5;129;01mor\u001b[39;00m\n\u001b[1;32m    179\u001b[0m                 (arg\u001b[38;5;241m.\u001b[39mis_convex() \u001b[38;5;129;01mand\u001b[39;00m \u001b[38;5;28mself\u001b[39m\u001b[38;5;241m.\u001b[39mis_incr(idx)) \u001b[38;5;129;01mor\u001b[39;00m\n\u001b[1;32m    180\u001b[0m                 (arg\u001b[38;5;241m.\u001b[39mis_concave() \u001b[38;5;129;01mand\u001b[39;00m \u001b[38;5;28mself\u001b[39m\u001b[38;5;241m.\u001b[39mis_decr(idx))):\n",
      "File \u001b[0;32m/opt/conda/lib/python3.10/site-packages/cvxpy/atoms/quad_form.py:69\u001b[0m, in \u001b[0;36mQuadForm.is_atom_convex\u001b[0;34m(self)\u001b[0m\n\u001b[1;32m     66\u001b[0m \u001b[38;5;250m\u001b[39m\u001b[38;5;124;03m\"\"\"Is the atom convex?\u001b[39;00m\n\u001b[1;32m     67\u001b[0m \u001b[38;5;124;03m\"\"\"\u001b[39;00m\n\u001b[1;32m     68\u001b[0m P \u001b[38;5;241m=\u001b[39m \u001b[38;5;28mself\u001b[39m\u001b[38;5;241m.\u001b[39margs[\u001b[38;5;241m1\u001b[39m]\n\u001b[0;32m---> 69\u001b[0m \u001b[38;5;28;01mreturn\u001b[39;00m P\u001b[38;5;241m.\u001b[39mis_constant() \u001b[38;5;129;01mand\u001b[39;00m \u001b[43mP\u001b[49m\u001b[38;5;241;43m.\u001b[39;49m\u001b[43mis_psd\u001b[49m\u001b[43m(\u001b[49m\u001b[43m)\u001b[49m\n",
      "File \u001b[0;32m/opt/conda/lib/python3.10/site-packages/cvxpy/utilities/performance_utils.py:73\u001b[0m, in \u001b[0;36mcompute_once.<locals>._compute_once\u001b[0;34m(self, *args, **kwargs)\u001b[0m\n\u001b[1;32m     71\u001b[0m \u001b[38;5;28;01mif\u001b[39;00m key \u001b[38;5;129;01min\u001b[39;00m cache:\n\u001b[1;32m     72\u001b[0m     \u001b[38;5;28;01mreturn\u001b[39;00m cache[key]\n\u001b[0;32m---> 73\u001b[0m result \u001b[38;5;241m=\u001b[39m \u001b[43mfunc\u001b[49m\u001b[43m(\u001b[49m\u001b[38;5;28;43mself\u001b[39;49m\u001b[43m,\u001b[49m\u001b[43m \u001b[49m\u001b[38;5;241;43m*\u001b[39;49m\u001b[43margs\u001b[49m\u001b[43m,\u001b[49m\u001b[43m \u001b[49m\u001b[38;5;241;43m*\u001b[39;49m\u001b[38;5;241;43m*\u001b[39;49m\u001b[43mkwargs\u001b[49m\u001b[43m)\u001b[49m\n\u001b[1;32m     74\u001b[0m cache[key] \u001b[38;5;241m=\u001b[39m result\n\u001b[1;32m     75\u001b[0m \u001b[38;5;28;01mreturn\u001b[39;00m result\n",
      "File \u001b[0;32m/opt/conda/lib/python3.10/site-packages/cvxpy/expressions/constants/constant.py:238\u001b[0m, in \u001b[0;36mConstant.is_psd\u001b[0;34m(self)\u001b[0m\n\u001b[1;32m    236\u001b[0m \u001b[38;5;66;03m# Compute sign of bottom eigenvalue if absent.\u001b[39;00m\n\u001b[1;32m    237\u001b[0m \u001b[38;5;28;01mif\u001b[39;00m \u001b[38;5;28mself\u001b[39m\u001b[38;5;241m.\u001b[39m_psd_test \u001b[38;5;129;01mis\u001b[39;00m \u001b[38;5;28;01mNone\u001b[39;00m:\n\u001b[0;32m--> 238\u001b[0m     \u001b[38;5;28mself\u001b[39m\u001b[38;5;241m.\u001b[39m_psd_test \u001b[38;5;241m=\u001b[39m \u001b[43meig_util\u001b[49m\u001b[38;5;241;43m.\u001b[39;49m\u001b[43mis_psd_within_tol\u001b[49m\u001b[43m(\u001b[49m\u001b[38;5;28;43mself\u001b[39;49m\u001b[38;5;241;43m.\u001b[39;49m\u001b[43mvalue\u001b[49m\u001b[43m,\u001b[49m\u001b[43m \u001b[49m\u001b[43ms\u001b[49m\u001b[38;5;241;43m.\u001b[39;49m\u001b[43mEIGVAL_TOL\u001b[49m\u001b[43m)\u001b[49m\n\u001b[1;32m    240\u001b[0m \u001b[38;5;28;01mreturn\u001b[39;00m \u001b[38;5;28mself\u001b[39m\u001b[38;5;241m.\u001b[39m_psd_test\n",
      "File \u001b[0;32m/opt/conda/lib/python3.10/site-packages/cvxpy/utilities/linalg.py:129\u001b[0m, in \u001b[0;36mis_psd_within_tol\u001b[0;34m(A, tol)\u001b[0m\n\u001b[1;32m    117\u001b[0m     message \u001b[38;5;241m=\u001b[39m \u001b[38;5;124m\"\"\"\u001b[39m\n\u001b[1;32m    118\u001b[0m \u001b[38;5;124m    CVXPY note: This failure was encountered while trying to certify\u001b[39m\n\u001b[1;32m    119\u001b[0m \u001b[38;5;124m    that a matrix is positive semi-definite (see [1] for a definition).\u001b[39m\n\u001b[0;32m   (...)\u001b[0m\n\u001b[1;32m    124\u001b[0m \u001b[38;5;124m    [1] https://en.wikipedia.org/wiki/Definite_matrix\u001b[39m\n\u001b[1;32m    125\u001b[0m \u001b[38;5;124m    \u001b[39m\u001b[38;5;124m\"\"\"\u001b[39m\n\u001b[1;32m    127\u001b[0m     error_with_note \u001b[38;5;241m=\u001b[39m \u001b[38;5;124mf\u001b[39m\u001b[38;5;124m\"\u001b[39m\u001b[38;5;132;01m{\u001b[39;00m\u001b[38;5;28mstr\u001b[39m(e)\u001b[38;5;132;01m}\u001b[39;00m\u001b[38;5;130;01m\\n\u001b[39;00m\u001b[38;5;130;01m\\n\u001b[39;00m\u001b[38;5;132;01m{\u001b[39;00mmessage\u001b[38;5;132;01m}\u001b[39;00m\u001b[38;5;124m\"\u001b[39m\n\u001b[0;32m--> 129\u001b[0m     \u001b[38;5;28;01mraise\u001b[39;00m sparla\u001b[38;5;241m.\u001b[39mArpackNoConvergence(error_with_note, e\u001b[38;5;241m.\u001b[39meigenvalues, e\u001b[38;5;241m.\u001b[39meigenvectors)\n\u001b[1;32m    131\u001b[0m \u001b[38;5;28;01mif\u001b[39;00m np\u001b[38;5;241m.\u001b[39misnan(ev)\u001b[38;5;241m.\u001b[39many():\n\u001b[1;32m    132\u001b[0m     \u001b[38;5;66;03m# will be NaN if A has an eigenvalue which is exactly -tol\u001b[39;00m\n\u001b[1;32m    133\u001b[0m     \u001b[38;5;66;03m# (We might also hit this code block for other reasons.)\u001b[39;00m\n\u001b[1;32m    134\u001b[0m     temp \u001b[38;5;241m=\u001b[39m tol \u001b[38;5;241m-\u001b[39m np\u001b[38;5;241m.\u001b[39mfinfo(A\u001b[38;5;241m.\u001b[39mdtype)\u001b[38;5;241m.\u001b[39meps\n",
      "\u001b[0;31mArpackNoConvergence\u001b[0m: ARPACK error -1: ARPACK error -1: No convergence (1001 iterations, 0/1 eigenvectors converged)\n\n\n        CVXPY note: This failure was encountered while trying to certify\n        that a matrix is positive semi-definite (see [1] for a definition).\n        In rare cases, this method fails for numerical reasons even when the matrix is\n        positive semi-definite. If you know that you're in that situation, you can\n        replace the matrix A by cvxpy.psd_wrap(A).\n\n        [1] https://en.wikipedia.org/wiki/Definite_matrix\n        "
     ]
    }
   ],
   "source": [
    "\n",
    "# ret_ef = np.arange(0, 0.879823, 0.01)\n",
    "# vol_ef = []\n",
    "# for i in np.arange(0, 0.879823, 0.01):\n",
    "#     ef = EfficientFrontier(mu, Sigma)\n",
    "#     ef.efficient_return(i)\n",
    "#     vol_ef.append(ef.portfolio_performance()[1])\n",
    "\n",
    "ef = EfficientFrontier(mu, Sigma)\n",
    "ef.min_volatility()\n",
    "min_vol_ret = ef.portfolio_performance()[0]\n",
    "min_vol_vol = ef.portfolio_performance()[1]\n",
    "\n",
    "ef.max_sharpe(risk_free_rate=0.009)\n",
    "max_sharpe_ret = ef.portfolio_performance()[0]\n",
    "max_sharpe_vol = ef.portfolio_performance()[1]\n"
   ]
  },
  {
   "cell_type": "code",
   "execution_count": null,
   "id": "a984754e-f43f-4706-b8fa-9075fda83b59",
   "metadata": {},
   "outputs": [],
   "source": [
    "import yfinance as yf\n",
    "\n",
    "# Create a list of symbols\n",
    "symbols = [\"SPY\"]\n",
    "# Create data frame\n",
    "index_data = yf.download(\n",
    "    tickers=\" \".join(symbols), start=\"2022-12-30\", end=\"2023-12-30\"\n",
    ")[\"Adj Close\"]"
   ]
  },
  {
   "cell_type": "code",
   "execution_count": null,
   "id": "79721f0a-9bff-4177-8225-439d22f5733d",
   "metadata": {},
   "outputs": [],
   "source": [
    "index_data.describe"
   ]
  },
  {
   "cell_type": "code",
   "execution_count": null,
   "id": "fe80b76a-6fe7-47fc-8c7c-68dc75c81daf",
   "metadata": {},
   "outputs": [],
   "source": []
  }
 ],
 "metadata": {
  "kernelspec": {
   "display_name": "Python 3 (ipykernel)",
   "language": "python",
   "name": "python3"
  },
  "language_info": {
   "codemirror_mode": {
    "name": "ipython",
    "version": 3
   },
   "file_extension": ".py",
   "mimetype": "text/x-python",
   "name": "python",
   "nbconvert_exporter": "python",
   "pygments_lexer": "ipython3",
   "version": "3.10.14"
  }
 },
 "nbformat": 4,
 "nbformat_minor": 5
}
