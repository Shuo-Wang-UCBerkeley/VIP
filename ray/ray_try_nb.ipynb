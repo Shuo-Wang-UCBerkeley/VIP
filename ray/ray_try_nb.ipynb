{
 "cells": [
  {
   "cell_type": "code",
   "execution_count": 1,
   "id": "eb70b7b0-1b46-4c11-9f8a-ce34cf1a756c",
   "metadata": {
    "tags": []
   },
   "outputs": [
    {
     "name": "stdout",
     "output_type": "stream",
     "text": [
      "sagemaker.config INFO - Not applying SDK defaults from location: /etc/xdg/sagemaker/config.yaml\n",
      "sagemaker.config INFO - Not applying SDK defaults from location: /home/sagemaker-user/.config/sagemaker/config.yaml\n"
     ]
    },
    {
     "data": {
      "text/plain": [
       "'arn:aws:iam::975050273734:role/service-role/SageMaker-ExecutionRole-20240612T130383'"
      ]
     },
     "execution_count": 1,
     "metadata": {},
     "output_type": "execute_result"
    }
   ],
   "source": [
    "import sagemaker\n",
    "\n",
    "# Define IAM role\n",
    "import boto3\n",
    "from sagemaker import get_execution_role\n",
    "\n",
    "role = get_execution_role()\n",
    "role"
   ]
  },
  {
   "cell_type": "code",
   "execution_count": 2,
   "id": "043ac867-4851-4030-8b53-ad39df6d0dc2",
   "metadata": {
    "tags": []
   },
   "outputs": [],
   "source": [
    "import pandas as pd\n",
    "from io import StringIO\n",
    "\n",
    "import re"
   ]
  },
  {
   "cell_type": "code",
   "execution_count": 3,
   "id": "d78d4928-f708-4ae3-9811-40913d358f01",
   "metadata": {
    "tags": []
   },
   "outputs": [],
   "source": [
    "s3 = boto3.client('s3')\n",
    "bucket = 'capstone-bucket-4-friends'"
   ]
  },
  {
   "cell_type": "code",
   "execution_count": 4,
   "id": "8e6f346a-4510-4efa-ab2c-661e99be88ad",
   "metadata": {
    "tags": []
   },
   "outputs": [
    {
     "data": {
      "text/plain": [
       "[{'Key': 'crsp_stock_2023.csv',\n",
       "  'LastModified': datetime.datetime(2024, 6, 12, 16, 55, 42, tzinfo=tzlocal()),\n",
       "  'ETag': '\"c513e3fbf4e7477ab6acb9c9f663b567-38\"',\n",
       "  'Size': 641927058,\n",
       "  'StorageClass': 'STANDARD',\n",
       "  'Owner': {'DisplayName': 'caopuzheng',\n",
       "   'ID': '3e8e9fefba64fe47aada033ac68b6e97b3ca71a1d45879ebba28cd6aa5dcad55'}}]"
      ]
     },
     "execution_count": 4,
     "metadata": {},
     "output_type": "execute_result"
    }
   ],
   "source": [
    "content = s3.list_objects(Bucket=bucket)[\"Contents\"]\n",
    "content"
   ]
  },
  {
   "cell_type": "code",
   "execution_count": null,
   "id": "886d7346-2295-4e16-b78d-5bcdd4ea6877",
   "metadata": {
    "tags": []
   },
   "outputs": [],
   "source": [
    "def convert_csv_to_parquet(s3, csv_key, parquet_key):\n",
    "    \"\"\"\n",
    "    Downloads a CSV file from S3, converts it to Parquet, and uploads the Parquet file.\n",
    "\n",
    "    Args:\n",
    "      csv_key: S3 key of the CSV file.\n",
    "      parquet_key: S3 key of the output Parquet file.\n",
    "    \"\"\"\n",
    "\n",
    "    # Download CSV file\n",
    "    s3.download_file(bucket, csv_key, f\"/tmp/{csv_key}\")\n",
    "\n",
    "    # Read CSV with Pyarrow\n",
    "    df = pd.read_csv(f\"/tmp/{csv_key}\")\n",
    "\n",
    "    converted_data_parquet = df.to_parquet(parquet_key)\n",
    "\n",
    "    # Upload Parquet file to S3\n",
    "    s3.upload_file(converted_data_parquet, bucket, parquet_key)\n",
    "\n",
    "\n",
    "# Get list of CSV objects in the bucket (with prefix if provided)\n",
    "paginator = s3.get_paginator(\"list_objects_v2\")\n",
    "pages = paginator.paginate(Bucket=bucket, Prefix='')\n",
    "\n",
    "for page in pages:\n",
    "    for obj in page.get(\"Contents\", []):\n",
    "        csv_key = obj[\"Key\"]\n",
    "        # Generate output Parquet key with same filename (replace extension)\n",
    "        parquet_key = csv_key.replace(\".csv\", \".parquet\")\n",
    "        convert_csv_to_parquet(s3, csv_key, parquet_key)\n",
    "\n",
    "print(\"CSV to Parquet conversion completed!\")"
   ]
  }
 ],
 "metadata": {
  "kernelspec": {
   "display_name": "Python 3 (ipykernel)",
   "language": "python",
   "name": "python3"
  },
  "language_info": {
   "codemirror_mode": {
    "name": "ipython",
    "version": 3
   },
   "file_extension": ".py",
   "mimetype": "text/x-python",
   "name": "python",
   "nbconvert_exporter": "python",
   "pygments_lexer": "ipython3",
   "version": "3.10.14"
  }
 },
 "nbformat": 4,
 "nbformat_minor": 5
}
